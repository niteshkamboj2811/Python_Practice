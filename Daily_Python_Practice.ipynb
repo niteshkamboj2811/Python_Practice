{
  "nbformat": 4,
  "nbformat_minor": 0,
  "metadata": {
    "colab": {
      "name": "Daily_Python_Practice.ipynb",
      "provenance": [],
      "collapsed_sections": [],
      "include_colab_link": true
    },
    "kernelspec": {
      "name": "python3",
      "display_name": "Python 3"
    },
    "language_info": {
      "name": "python"
    }
  },
  "cells": [
    {
      "cell_type": "markdown",
      "metadata": {
        "id": "view-in-github",
        "colab_type": "text"
      },
      "source": [
        "<a href=\"https://colab.research.google.com/github/niteshkamboj2811/Python_Practice/blob/main/Daily_Python_Practice.ipynb\" target=\"_parent\"><img src=\"https://colab.research.google.com/assets/colab-badge.svg\" alt=\"Open In Colab\"/></a>"
      ]
    },
    {
      "cell_type": "code",
      "metadata": {
        "colab": {
          "base_uri": "https://localhost:8080/"
        },
        "id": "kcWBo6KfxECn",
        "outputId": "d6bfd2ee-c0e2-4e01-b3a2-2461a84fff9c"
      },
      "source": [
        "print('First Print')"
      ],
      "execution_count": null,
      "outputs": [
        {
          "output_type": "stream",
          "text": [
            "First Print\n"
          ],
          "name": "stdout"
        }
      ]
    },
    {
      "cell_type": "code",
      "metadata": {
        "id": "Ju2GkJspxwyG"
      },
      "source": [
        "text = 'First Print'"
      ],
      "execution_count": null,
      "outputs": []
    },
    {
      "cell_type": "code",
      "metadata": {
        "colab": {
          "base_uri": "https://localhost:8080/",
          "height": 34
        },
        "id": "srZWh1ttypLb",
        "outputId": "9af4a33f-c626-4ae9-8de2-add9dec7e01e"
      },
      "source": [
        "text[0:2] + text[3:]"
      ],
      "execution_count": null,
      "outputs": [
        {
          "output_type": "execute_result",
          "data": {
            "application/vnd.google.colaboratory.intrinsic+json": {
              "type": "string"
            },
            "text/plain": [
              "'Fist Print'"
            ]
          },
          "metadata": {
            "tags": []
          },
          "execution_count": 4
        }
      ]
    },
    {
      "cell_type": "code",
      "metadata": {
        "id": "VFLkAaiNys78"
      },
      "source": [
        "fn, ln = 'Nitesh', 'Kamboj'"
      ],
      "execution_count": null,
      "outputs": []
    },
    {
      "cell_type": "code",
      "metadata": {
        "colab": {
          "base_uri": "https://localhost:8080/"
        },
        "id": "EnooNeN_DpKI",
        "outputId": "cac9c577-2bbd-42e6-d3a8-9eacba9948ee"
      },
      "source": [
        "print(f'First Name: {fn} \\nLast Name:    {ln}')"
      ],
      "execution_count": null,
      "outputs": [
        {
          "output_type": "stream",
          "text": [
            "First Name: Nitesh \n",
            "Last Name:    Kamboj\n"
          ],
          "name": "stdout"
        }
      ]
    },
    {
      "cell_type": "code",
      "metadata": {
        "id": "WWQODYW7D3J-"
      },
      "source": [
        "num, exp = 4, 3"
      ],
      "execution_count": null,
      "outputs": []
    },
    {
      "cell_type": "code",
      "metadata": {
        "colab": {
          "base_uri": "https://localhost:8080/"
        },
        "id": "7tdtV_LIEZi2",
        "outputId": "1490cb47-6a75-478e-8274-df68c2785d89"
      },
      "source": [
        "print(f'Number: {num} and {exp} is the power. \\nThe result is {num ** exp}')"
      ],
      "execution_count": null,
      "outputs": [
        {
          "output_type": "stream",
          "text": [
            "Number: 4 and 3 is the power. \n",
            "The result is 64\n"
          ],
          "name": "stdout"
        }
      ]
    },
    {
      "cell_type": "code",
      "metadata": {
        "id": "c7L5Vpg6EkJE"
      },
      "source": [
        "#caling function inside fstrin\n",
        "\n",
        "text = 'NITESH KAMBOJ nitesh'"
      ],
      "execution_count": null,
      "outputs": []
    },
    {
      "cell_type": "code",
      "metadata": {
        "colab": {
          "base_uri": "https://localhost:8080/"
        },
        "id": "M4keUb5nEzch",
        "outputId": "8800246e-8c10-432c-c738-b2886b3e41b4"
      },
      "source": [
        "print(f'lower function = {text.lower()} \\n')\n",
        "print(f'capitalize function = {text.capitalize()} \\n')\n",
        "print(f'first index = {text.index(\"N\")} \\n')\n",
        "print(f'first index = {text.lower().find(\"a\")} \\n')\n",
        "print(f'Alpha Numeric = {text.isalnum() } \\n')\n",
        "print(f'All Numeric = {text.isnumeric() } \\n')\n",
        "print(f'All Alphabets = {text.isalpha() } \\n')"
      ],
      "execution_count": null,
      "outputs": [
        {
          "output_type": "stream",
          "text": [
            "lower function = nitesh kamboj nitesh \n",
            "\n",
            "capitalize function = Nitesh kamboj nitesh \n",
            "\n",
            "first index = 0 \n",
            "\n",
            "first index = 8 \n",
            "\n",
            "Alpha Numeric = False \n",
            "\n",
            "All Numeric = False \n",
            "\n",
            "All Alphabets = False \n",
            "\n"
          ],
          "name": "stdout"
        }
      ]
    },
    {
      "cell_type": "code",
      "metadata": {
        "colab": {
          "base_uri": "https://localhost:8080/"
        },
        "id": "1s1lWO-4duGO",
        "outputId": "30c6225b-0953-4715-9e10-395b46fa6269"
      },
      "source": [
        "'123'.isidentifier()"
      ],
      "execution_count": null,
      "outputs": [
        {
          "output_type": "execute_result",
          "data": {
            "text/plain": [
              "False"
            ]
          },
          "metadata": {
            "tags": []
          },
          "execution_count": 45
        }
      ]
    },
    {
      "cell_type": "code",
      "metadata": {
        "colab": {
          "base_uri": "https://localhost:8080/"
        },
        "id": "DYoronO-eT5t",
        "outputId": "bcdc85a4-ece0-4949-9e68-02401185a519"
      },
      "source": [
        "'123'.isprintable()"
      ],
      "execution_count": null,
      "outputs": [
        {
          "output_type": "execute_result",
          "data": {
            "text/plain": [
              "True"
            ]
          },
          "metadata": {
            "tags": []
          },
          "execution_count": 46
        }
      ]
    },
    {
      "cell_type": "code",
      "metadata": {
        "colab": {
          "base_uri": "https://localhost:8080/"
        },
        "id": "Sb-NWEVnefL3",
        "outputId": "1ae79fb6-2ff3-4354-9315-720c76f46ca9"
      },
      "source": [
        "'NI'.isupper()"
      ],
      "execution_count": null,
      "outputs": [
        {
          "output_type": "execute_result",
          "data": {
            "text/plain": [
              "True"
            ]
          },
          "metadata": {
            "tags": []
          },
          "execution_count": 49
        }
      ]
    },
    {
      "cell_type": "code",
      "metadata": {
        "id": "4yNsu-94Gcku",
        "colab": {
          "base_uri": "https://localhost:8080/"
        },
        "outputId": "6bf9e057-135b-42da-8414-885a89b729b6"
      },
      "source": [
        "'123.50'.isnumeric()"
      ],
      "execution_count": null,
      "outputs": [
        {
          "output_type": "execute_result",
          "data": {
            "text/plain": [
              "False"
            ]
          },
          "metadata": {
            "tags": []
          },
          "execution_count": 156
        }
      ]
    },
    {
      "cell_type": "code",
      "metadata": {
        "colab": {
          "base_uri": "https://localhost:8080/"
        },
        "id": "4RW97aw9Vqwy",
        "outputId": "4915026d-cbe5-43a9-98c2-4e739854aad9"
      },
      "source": [
        "'123.50'.isalnum()"
      ],
      "execution_count": null,
      "outputs": [
        {
          "output_type": "execute_result",
          "data": {
            "text/plain": [
              "False"
            ]
          },
          "metadata": {
            "tags": []
          },
          "execution_count": 157
        }
      ]
    },
    {
      "cell_type": "code",
      "metadata": {
        "colab": {
          "base_uri": "https://localhost:8080/"
        },
        "id": "P3KzeDBIWSqd",
        "outputId": "26719e30-d603-44cd-da87-315d189204eb"
      },
      "source": [
        "'123'.isalpha()"
      ],
      "execution_count": null,
      "outputs": [
        {
          "output_type": "execute_result",
          "data": {
            "text/plain": [
              "False"
            ]
          },
          "metadata": {
            "tags": []
          },
          "execution_count": 27
        }
      ]
    },
    {
      "cell_type": "code",
      "metadata": {
        "colab": {
          "base_uri": "https://localhost:8080/"
        },
        "id": "emFeD35GWp5L",
        "outputId": "94b47361-18da-42f2-ea76-4471be8e8c27"
      },
      "source": [
        "'123'.isdigit()"
      ],
      "execution_count": null,
      "outputs": [
        {
          "output_type": "execute_result",
          "data": {
            "text/plain": [
              "True"
            ]
          },
          "metadata": {
            "tags": []
          },
          "execution_count": 160
        }
      ]
    },
    {
      "cell_type": "code",
      "metadata": {
        "id": "8wKuJsF4Wwi9"
      },
      "source": [
        "def test(s):\n",
        "  for attr in ['isnumeric', 'isdigit', 'isalnum', 'isalpha', 'isidentifier']:\n",
        "    print(attr, getattr(s, attr)()) #s.isnumberi() == s.attr()"
      ],
      "execution_count": null,
      "outputs": []
    },
    {
      "cell_type": "code",
      "metadata": {
        "colab": {
          "base_uri": "https://localhost:8080/"
        },
        "id": "6-l-JQ6vXaWX",
        "outputId": "f9c220e5-b247-4707-e240-4eff33deb9f4"
      },
      "source": [
        "test('12')"
      ],
      "execution_count": null,
      "outputs": [
        {
          "output_type": "stream",
          "text": [
            "isnumeric True\n",
            "isdigit True\n",
            "isalnum True\n",
            "isalpha False\n",
            "isidentifier False\n"
          ],
          "name": "stdout"
        }
      ]
    },
    {
      "cell_type": "code",
      "metadata": {
        "colab": {
          "base_uri": "https://localhost:8080/"
        },
        "id": "M6iwmbn8XfDm",
        "outputId": "d1918e6d-02be-4aac-c7ff-a79342a1277f"
      },
      "source": [
        "'nitesh'.capitalize() == 'nitesh'.title()"
      ],
      "execution_count": null,
      "outputs": [
        {
          "output_type": "execute_result",
          "data": {
            "text/plain": [
              "True"
            ]
          },
          "metadata": {
            "tags": []
          },
          "execution_count": 51
        }
      ]
    },
    {
      "cell_type": "code",
      "metadata": {
        "colab": {
          "base_uri": "https://localhost:8080/",
          "height": 35
        },
        "id": "ZYwOqfHqevfG",
        "outputId": "3a1f8471-74a8-4f51-ffa4-7c557b68750f"
      },
      "source": [
        "'Strips this strips'.strip('s')"
      ],
      "execution_count": null,
      "outputs": [
        {
          "output_type": "execute_result",
          "data": {
            "application/vnd.google.colaboratory.intrinsic+json": {
              "type": "string"
            },
            "text/plain": [
              "'Strips this strip'"
            ]
          },
          "metadata": {
            "tags": []
          },
          "execution_count": 52
        }
      ]
    },
    {
      "cell_type": "code",
      "metadata": {
        "colab": {
          "base_uri": "https://localhost:8080/",
          "height": 35
        },
        "id": "RLc8-S0He-Ta",
        "outputId": "21f6f85d-bcfc-4f51-999f-62ea0fa4cb53"
      },
      "source": [
        "'Strips this strips'.rstrip('s')"
      ],
      "execution_count": null,
      "outputs": [
        {
          "output_type": "execute_result",
          "data": {
            "application/vnd.google.colaboratory.intrinsic+json": {
              "type": "string"
            },
            "text/plain": [
              "'Strips this strip'"
            ]
          },
          "metadata": {
            "tags": []
          },
          "execution_count": 53
        }
      ]
    },
    {
      "cell_type": "code",
      "metadata": {
        "colab": {
          "base_uri": "https://localhost:8080/",
          "height": 35
        },
        "id": "A5ojJQNofDCd",
        "outputId": "81c5566b-ec16-4241-9576-48e0e2884013"
      },
      "source": [
        "'Strips this strips'.lstrip('S')"
      ],
      "execution_count": null,
      "outputs": [
        {
          "output_type": "execute_result",
          "data": {
            "application/vnd.google.colaboratory.intrinsic+json": {
              "type": "string"
            },
            "text/plain": [
              "'trips this strips'"
            ]
          },
          "metadata": {
            "tags": []
          },
          "execution_count": 56
        }
      ]
    },
    {
      "cell_type": "code",
      "metadata": {
        "colab": {
          "base_uri": "https://localhost:8080/"
        },
        "id": "jHitD8F4fEm3",
        "outputId": "022ba0f0-2e66-4ad6-dedc-f64b084062c9"
      },
      "source": [
        "[x.strip() for x in ['    removing','    extra whitespaces     ']]"
      ],
      "execution_count": null,
      "outputs": [
        {
          "output_type": "execute_result",
          "data": {
            "text/plain": [
              "['removing', 'extra whitespaces']"
            ]
          },
          "metadata": {
            "tags": []
          },
          "execution_count": 70
        }
      ]
    },
    {
      "cell_type": "code",
      "metadata": {
        "id": "T3gY7b5wiKIB"
      },
      "source": [
        "myList = [1, 2]"
      ],
      "execution_count": null,
      "outputs": []
    },
    {
      "cell_type": "code",
      "metadata": {
        "colab": {
          "base_uri": "https://localhost:8080/"
        },
        "id": "EKg9yuXXob4v",
        "outputId": "7a4ac99e-b85b-43c4-d19a-0106063733ab"
      },
      "source": [
        "myList.append(3)\n",
        "\n",
        "print(myList)"
      ],
      "execution_count": null,
      "outputs": [
        {
          "output_type": "stream",
          "text": [
            "[1, 2, 3]\n"
          ],
          "name": "stdout"
        }
      ]
    },
    {
      "cell_type": "code",
      "metadata": {
        "colab": {
          "base_uri": "https://localhost:8080/"
        },
        "id": "6sb6GNVl3fpf",
        "outputId": "2fd85115-9d4f-4ba1-f1aa-cc3d280a9146"
      },
      "source": [
        "myList.extend([4, 5])\n",
        "\n",
        "print(myList)"
      ],
      "execution_count": null,
      "outputs": [
        {
          "output_type": "stream",
          "text": [
            "[1, 2, 3, 4, 5]\n"
          ],
          "name": "stdout"
        }
      ]
    },
    {
      "cell_type": "code",
      "metadata": {
        "colab": {
          "base_uri": "https://localhost:8080/"
        },
        "id": "-wxcB0t03lKm",
        "outputId": "e732c7b6-464a-4bbf-94bd-21c1b9e3ac2e"
      },
      "source": [
        "myList.insert(0, 0)\n",
        "\n",
        "print(myList)"
      ],
      "execution_count": null,
      "outputs": [
        {
          "output_type": "stream",
          "text": [
            "[0, 1, 2, 3, 4, 5]\n"
          ],
          "name": "stdout"
        }
      ]
    },
    {
      "cell_type": "code",
      "metadata": {
        "colab": {
          "base_uri": "https://localhost:8080/"
        },
        "id": "tD1ZS25m3tXE",
        "outputId": "09026afd-566a-44e9-de34-cafad7fc1a46"
      },
      "source": [
        "myList.remove(0)\n",
        "\n",
        "print(myList)"
      ],
      "execution_count": null,
      "outputs": [
        {
          "output_type": "stream",
          "text": [
            "[1, 2, 3, 4, 5]\n"
          ],
          "name": "stdout"
        }
      ]
    },
    {
      "cell_type": "code",
      "metadata": {
        "colab": {
          "base_uri": "https://localhost:8080/"
        },
        "id": "3wkROOjx5YlU",
        "outputId": "fe93c4fe-8411-420b-a465-646bcd00b7bb"
      },
      "source": [
        "myList.pop() #removes the last item\n",
        "\n",
        "print(myList)"
      ],
      "execution_count": null,
      "outputs": [
        {
          "output_type": "stream",
          "text": [
            "[1, 2, 3, 4]\n"
          ],
          "name": "stdout"
        }
      ]
    },
    {
      "cell_type": "code",
      "metadata": {
        "colab": {
          "base_uri": "https://localhost:8080/"
        },
        "id": "-a2k6mbc3_8p",
        "outputId": "277534da-23c0-4df6-bc26-904634e142d3"
      },
      "source": [
        "myList.extend([4, 5, 3])\n",
        "\n",
        "print(myList)"
      ],
      "execution_count": null,
      "outputs": [
        {
          "output_type": "stream",
          "text": [
            "[1, 2, 3, 4, 4, 5, 3]\n"
          ],
          "name": "stdout"
        }
      ]
    },
    {
      "cell_type": "code",
      "metadata": {
        "colab": {
          "base_uri": "https://localhost:8080/"
        },
        "id": "G6RTH4D84Oy8",
        "outputId": "a47d5d54-bdcb-4735-8e26-354a7bdb72bb"
      },
      "source": [
        "myList.sort()\n",
        "\n",
        "print(myList)"
      ],
      "execution_count": null,
      "outputs": [
        {
          "output_type": "stream",
          "text": [
            "[1, 2, 3, 3, 4, 4, 5]\n"
          ],
          "name": "stdout"
        }
      ]
    },
    {
      "cell_type": "code",
      "metadata": {
        "id": "eESpg5EC4Xhj"
      },
      "source": [
        "unsorted_myList = [1, 2, 3, 4, 5, 4, 3]"
      ],
      "execution_count": null,
      "outputs": []
    },
    {
      "cell_type": "code",
      "metadata": {
        "colab": {
          "base_uri": "https://localhost:8080/"
        },
        "id": "W11RE9tJ4fJg",
        "outputId": "af8e6022-2d15-4180-a9bb-3c0cdb59cfcc"
      },
      "source": [
        "sorted(unsorted_myList)"
      ],
      "execution_count": null,
      "outputs": [
        {
          "output_type": "execute_result",
          "data": {
            "text/plain": [
              "[1, 2, 3, 3, 4, 4, 5]"
            ]
          },
          "metadata": {
            "tags": []
          },
          "execution_count": 154
        }
      ]
    },
    {
      "cell_type": "code",
      "metadata": {
        "colab": {
          "base_uri": "https://localhost:8080/"
        },
        "id": "Gv28YzTj4lNn",
        "outputId": "aeea06cd-3816-4bc7-c317-be933a848e23"
      },
      "source": [
        "myList.sort()\n",
        "\n",
        "print(myList)"
      ],
      "execution_count": null,
      "outputs": [
        {
          "output_type": "stream",
          "text": [
            "[1, 2, 3, 3, 4, 4, 5]\n"
          ],
          "name": "stdout"
        }
      ]
    },
    {
      "cell_type": "code",
      "metadata": {
        "colab": {
          "base_uri": "https://localhost:8080/"
        },
        "id": "b9fOvSG54sgQ",
        "outputId": "82d2beb9-ae35-4a4c-db8b-ebcf3a8c9bda"
      },
      "source": [
        "sorted(unsorted_myList) == myList #sorted([]) == [].sort()"
      ],
      "execution_count": null,
      "outputs": [
        {
          "output_type": "execute_result",
          "data": {
            "text/plain": [
              "True"
            ]
          },
          "metadata": {
            "tags": []
          },
          "execution_count": 156
        }
      ]
    },
    {
      "cell_type": "code",
      "metadata": {
        "id": "uIJvIcBh4wO4"
      },
      "source": [
        "myTuple = (1, 2, 3, 4, 5)"
      ],
      "execution_count": null,
      "outputs": []
    },
    {
      "cell_type": "code",
      "metadata": {
        "colab": {
          "base_uri": "https://localhost:8080/"
        },
        "id": "V-5255or7rji",
        "outputId": "d34248d1-1fbc-4d95-9dab-c6cfacd482f2"
      },
      "source": [
        "myDict = {\"a\": 1, \"b\": 2, \"c\": 3, \"d\": 4}\n",
        "\n",
        "print(myDict)"
      ],
      "execution_count": null,
      "outputs": [
        {
          "output_type": "stream",
          "text": [
            "{'a': 1, 'b': 2, 'c': 3, 'd': 4}\n"
          ],
          "name": "stdout"
        }
      ]
    },
    {
      "cell_type": "code",
      "metadata": {
        "colab": {
          "base_uri": "https://localhost:8080/"
        },
        "id": "2_mNeUG085mK",
        "outputId": "ecfe9f05-5bbe-414d-c197-a4f49a4850e6"
      },
      "source": [
        "del myDict['d']\n",
        "\n",
        "print(myDict)"
      ],
      "execution_count": null,
      "outputs": [
        {
          "output_type": "stream",
          "text": [
            "{'a': 1, 'b': 2, 'c': 3}\n"
          ],
          "name": "stdout"
        }
      ]
    },
    {
      "cell_type": "code",
      "metadata": {
        "colab": {
          "base_uri": "https://localhost:8080/"
        },
        "id": "j6T-TjAo88vT",
        "outputId": "03390aa7-9187-49aa-cacb-22800940730c"
      },
      "source": [
        "myDict['b'] == myDict.get('b')"
      ],
      "execution_count": null,
      "outputs": [
        {
          "output_type": "execute_result",
          "data": {
            "text/plain": [
              "True"
            ]
          },
          "metadata": {
            "tags": []
          },
          "execution_count": 154
        }
      ]
    },
    {
      "cell_type": "code",
      "metadata": {
        "colab": {
          "base_uri": "https://localhost:8080/"
        },
        "id": "iO9TZwmS9Hgh",
        "outputId": "55cf942a-f7db-40e7-be11-9116d9ba8243"
      },
      "source": [
        "myDict.pop('a')\n",
        "\n",
        "print(myDict)"
      ],
      "execution_count": null,
      "outputs": [
        {
          "output_type": "stream",
          "text": [
            "{'b': 2, 'c': 3}\n"
          ],
          "name": "stdout"
        }
      ]
    },
    {
      "cell_type": "code",
      "metadata": {
        "colab": {
          "base_uri": "https://localhost:8080/"
        },
        "id": "mb30vhOu-BhX",
        "outputId": "d4d9e852-0a70-4048-e368-4e72898f06cf"
      },
      "source": [
        "poped_item = myDict.pop('b')\n",
        "\n",
        "print(poped_item)"
      ],
      "execution_count": null,
      "outputs": [
        {
          "output_type": "stream",
          "text": [
            "2\n"
          ],
          "name": "stdout"
        }
      ]
    },
    {
      "cell_type": "code",
      "metadata": {
        "colab": {
          "base_uri": "https://localhost:8080/"
        },
        "id": "Qcl9mhMN9mg3",
        "outputId": "c93f28ef-8aa1-4ca1-b82c-30f01c84f0e5"
      },
      "source": [
        "myDict.popitem() #works like .pop() in lists/tuple\n",
        "\n",
        "print(myDict)"
      ],
      "execution_count": null,
      "outputs": [
        {
          "output_type": "stream",
          "text": [
            "{}\n"
          ],
          "name": "stdout"
        }
      ]
    },
    {
      "cell_type": "code",
      "metadata": {
        "id": "v7Pu5Ttd6dUk"
      },
      "source": [
        "myDict = {}"
      ],
      "execution_count": null,
      "outputs": []
    },
    {
      "cell_type": "code",
      "metadata": {
        "colab": {
          "base_uri": "https://localhost:8080/"
        },
        "id": "LKdgWYSo9yhv",
        "outputId": "8ca9d32d-5f70-4208-f39d-183ade9b1921"
      },
      "source": [
        "myDict.setdefault('a', 1)"
      ],
      "execution_count": null,
      "outputs": [
        {
          "output_type": "execute_result",
          "data": {
            "text/plain": [
              "1"
            ]
          },
          "metadata": {
            "tags": []
          },
          "execution_count": 229
        }
      ]
    },
    {
      "cell_type": "code",
      "metadata": {
        "colab": {
          "base_uri": "https://localhost:8080/"
        },
        "id": "tUQHwH9x-ixh",
        "outputId": "27f3436d-339d-43e4-eed6-d27983674c77"
      },
      "source": [
        "myDict.setdefault('a', 100000)"
      ],
      "execution_count": null,
      "outputs": [
        {
          "output_type": "execute_result",
          "data": {
            "text/plain": [
              "1"
            ]
          },
          "metadata": {
            "tags": []
          },
          "execution_count": 230
        }
      ]
    },
    {
      "cell_type": "code",
      "metadata": {
        "id": "znWEN79r-rfL"
      },
      "source": [
        "myDict.update({'b': 2, 'c': 4})"
      ],
      "execution_count": null,
      "outputs": []
    },
    {
      "cell_type": "code",
      "metadata": {
        "id": "zWHjGPJp5aR0"
      },
      "source": [
        "myDict_2 = {'e': 5}"
      ],
      "execution_count": null,
      "outputs": []
    },
    {
      "cell_type": "code",
      "metadata": {
        "colab": {
          "base_uri": "https://localhost:8080/"
        },
        "id": "2GCm5sJD-zAK",
        "outputId": "805ef1e7-f577-42e9-c3bd-470cac212366"
      },
      "source": [
        "myDict"
      ],
      "execution_count": null,
      "outputs": [
        {
          "output_type": "execute_result",
          "data": {
            "text/plain": [
              "{'a': 1, 'b': 2, 'c': 4, 'e': 5}"
            ]
          },
          "metadata": {
            "tags": []
          },
          "execution_count": 233
        }
      ]
    },
    {
      "cell_type": "code",
      "metadata": {
        "id": "zZP5HZXQ5tFx"
      },
      "source": [
        "nd = {**myDict, **myDict_2}"
      ],
      "execution_count": null,
      "outputs": []
    },
    {
      "cell_type": "code",
      "metadata": {
        "colab": {
          "base_uri": "https://localhost:8080/"
        },
        "id": "YGCpE0d86SJX",
        "outputId": "29968143-2a55-42d7-e246-ae855f484c53"
      },
      "source": [
        "myDict"
      ],
      "execution_count": null,
      "outputs": [
        {
          "output_type": "execute_result",
          "data": {
            "text/plain": [
              "{'a': 1, 'b': 2, 'c': 4, 'e': 5}"
            ]
          },
          "metadata": {
            "tags": []
          },
          "execution_count": 235
        }
      ]
    },
    {
      "cell_type": "code",
      "metadata": {
        "id": "UTv1oZv_6w4y"
      },
      "source": [
        "myDict.update(myDict_2)"
      ],
      "execution_count": null,
      "outputs": []
    },
    {
      "cell_type": "code",
      "metadata": {
        "colab": {
          "base_uri": "https://localhost:8080/"
        },
        "id": "iR7T0kIk60Qa",
        "outputId": "732aa152-4f1c-461a-923e-55d058252a91"
      },
      "source": [
        "myDict"
      ],
      "execution_count": null,
      "outputs": [
        {
          "output_type": "execute_result",
          "data": {
            "text/plain": [
              "{'a': 1, 'b': 2, 'c': 4, 'e': 5}"
            ]
          },
          "metadata": {
            "tags": []
          },
          "execution_count": 237
        }
      ]
    },
    {
      "cell_type": "code",
      "metadata": {
        "colab": {
          "base_uri": "https://localhost:8080/"
        },
        "id": "WL64lL1i6IwI",
        "outputId": "96593a37-3bd0-417f-824a-1ac1ab831cd9"
      },
      "source": [
        "nd"
      ],
      "execution_count": null,
      "outputs": [
        {
          "output_type": "execute_result",
          "data": {
            "text/plain": [
              "{'a': 1, 'b': 2, 'c': 4, 'e': 5}"
            ]
          },
          "metadata": {
            "tags": []
          },
          "execution_count": 238
        }
      ]
    },
    {
      "cell_type": "code",
      "metadata": {
        "colab": {
          "base_uri": "https://localhost:8080/"
        },
        "id": "kt4L04uv64E-",
        "outputId": "5e891934-c66b-47b4-c806-f21db50ad9d7"
      },
      "source": [
        "nd == myDict"
      ],
      "execution_count": null,
      "outputs": [
        {
          "output_type": "execute_result",
          "data": {
            "text/plain": [
              "True"
            ]
          },
          "metadata": {
            "tags": []
          },
          "execution_count": 239
        }
      ]
    },
    {
      "cell_type": "code",
      "metadata": {
        "colab": {
          "base_uri": "https://localhost:8080/"
        },
        "id": "tKP9n7IX7I1u",
        "outputId": "20769f35-99f7-4958-da8e-0ddfa75aac4f"
      },
      "source": [
        "'a' in myDict"
      ],
      "execution_count": null,
      "outputs": [
        {
          "output_type": "execute_result",
          "data": {
            "text/plain": [
              "True"
            ]
          },
          "metadata": {
            "tags": []
          },
          "execution_count": 241
        }
      ]
    },
    {
      "cell_type": "code",
      "metadata": {
        "id": "IcogsI_A7QJG"
      },
      "source": [
        "del myDict['a']"
      ],
      "execution_count": null,
      "outputs": []
    },
    {
      "cell_type": "code",
      "metadata": {
        "colab": {
          "base_uri": "https://localhost:8080/"
        },
        "id": "q640V8zG7ZcQ",
        "outputId": "7e5d0a38-3494-44b0-c39e-d62023280bf4"
      },
      "source": [
        "myDict"
      ],
      "execution_count": null,
      "outputs": [
        {
          "output_type": "execute_result",
          "data": {
            "text/plain": [
              "{'b': 2, 'c': 4, 'e': 5}"
            ]
          },
          "metadata": {
            "tags": []
          },
          "execution_count": 243
        }
      ]
    },
    {
      "cell_type": "code",
      "metadata": {
        "colab": {
          "base_uri": "https://localhost:8080/"
        },
        "id": "AiwVzcKc7iFE",
        "outputId": "83e48caf-7818-4b47-b179-a1e76ffe9023"
      },
      "source": [
        "keys = []\n",
        "for key in myDict:\n",
        "  keys.append(key)\n",
        "print(keys)"
      ],
      "execution_count": null,
      "outputs": [
        {
          "output_type": "stream",
          "text": [
            "['b', 'c', 'e']\n"
          ],
          "name": "stdout"
        }
      ]
    },
    {
      "cell_type": "code",
      "metadata": {
        "id": "XmMa35pZ7vDJ"
      },
      "source": [
        "keys = [x for x in myDict]"
      ],
      "execution_count": null,
      "outputs": []
    },
    {
      "cell_type": "code",
      "metadata": {
        "colab": {
          "base_uri": "https://localhost:8080/"
        },
        "id": "8KFwQ4Wz7yuM",
        "outputId": "3a285400-1555-4f6b-ff72-56865ad7794a"
      },
      "source": [
        "keys"
      ],
      "execution_count": null,
      "outputs": [
        {
          "output_type": "execute_result",
          "data": {
            "text/plain": [
              "['b', 'c', 'e']"
            ]
          },
          "metadata": {
            "tags": []
          },
          "execution_count": 246
        }
      ]
    },
    {
      "cell_type": "code",
      "metadata": {
        "id": "K29JtNWA72FE"
      },
      "source": [
        "keys = [x[0] for x in myDict.items()]"
      ],
      "execution_count": null,
      "outputs": []
    },
    {
      "cell_type": "code",
      "metadata": {
        "colab": {
          "base_uri": "https://localhost:8080/"
        },
        "id": "sQaZfxwZ763t",
        "outputId": "c16e7af4-8e9e-42a0-f208-a6e4027c43c1"
      },
      "source": [
        "keys"
      ],
      "execution_count": null,
      "outputs": [
        {
          "output_type": "execute_result",
          "data": {
            "text/plain": [
              "['b', 'c', 'e']"
            ]
          },
          "metadata": {
            "tags": []
          },
          "execution_count": 250
        }
      ]
    },
    {
      "cell_type": "code",
      "metadata": {
        "id": "ogY5B6x98BcC"
      },
      "source": [
        "keys = myDict.keys()"
      ],
      "execution_count": null,
      "outputs": []
    },
    {
      "cell_type": "code",
      "metadata": {
        "colab": {
          "base_uri": "https://localhost:8080/"
        },
        "id": "i7UMygul8D8X",
        "outputId": "9fa0103e-3254-4497-eb24-978de68605c1"
      },
      "source": [
        "keys"
      ],
      "execution_count": null,
      "outputs": [
        {
          "output_type": "execute_result",
          "data": {
            "text/plain": [
              "dict_keys(['b', 'c', 'e'])"
            ]
          },
          "metadata": {
            "tags": []
          },
          "execution_count": 252
        }
      ]
    },
    {
      "cell_type": "code",
      "metadata": {
        "colab": {
          "base_uri": "https://localhost:8080/"
        },
        "id": "j6BnCGo38P-D",
        "outputId": "349bb414-d3aa-4123-9bb7-a4dab7c1b77f"
      },
      "source": [
        "vals = myDict.values()\n",
        "\n",
        "type(vals)"
      ],
      "execution_count": null,
      "outputs": [
        {
          "output_type": "execute_result",
          "data": {
            "text/plain": [
              "dict_values"
            ]
          },
          "metadata": {
            "tags": []
          },
          "execution_count": 254
        }
      ]
    },
    {
      "cell_type": "code",
      "metadata": {
        "id": "sjhdlLP68ewp"
      },
      "source": [
        "myDict = {'b': 2, 'c': 4, 'e': 5}"
      ],
      "execution_count": null,
      "outputs": []
    },
    {
      "cell_type": "code",
      "metadata": {
        "id": "5Z-_mkwf8m29"
      },
      "source": [
        "myDict.clear()"
      ],
      "execution_count": null,
      "outputs": []
    },
    {
      "cell_type": "code",
      "metadata": {
        "colab": {
          "base_uri": "https://localhost:8080/"
        },
        "id": "pKWlgolH8rWV",
        "outputId": "993012f7-5038-4f3a-c47e-94c1b1a775ef"
      },
      "source": [
        "myDict"
      ],
      "execution_count": null,
      "outputs": [
        {
          "output_type": "execute_result",
          "data": {
            "text/plain": [
              "{}"
            ]
          },
          "metadata": {
            "tags": []
          },
          "execution_count": 261
        }
      ]
    },
    {
      "cell_type": "code",
      "metadata": {
        "id": "XgVzkChN80wE"
      },
      "source": [
        "myDict = {'b': 2, 'c': 4, 'e': 5}"
      ],
      "execution_count": null,
      "outputs": []
    },
    {
      "cell_type": "code",
      "metadata": {
        "id": "sT26RBXG82WV"
      },
      "source": [
        "v = myDict.get('x')"
      ],
      "execution_count": null,
      "outputs": []
    },
    {
      "cell_type": "code",
      "metadata": {
        "colab": {
          "base_uri": "https://localhost:8080/"
        },
        "id": "xvpeiis89Qy1",
        "outputId": "4564681d-fb76-439f-8659-9969d6bfffa0"
      },
      "source": [
        "print(v)"
      ],
      "execution_count": null,
      "outputs": [
        {
          "output_type": "stream",
          "text": [
            "None\n"
          ],
          "name": "stdout"
        }
      ]
    },
    {
      "cell_type": "code",
      "metadata": {
        "id": "0IZc5_7e9Uli"
      },
      "source": [
        "v = myDict.get('b')"
      ],
      "execution_count": null,
      "outputs": []
    },
    {
      "cell_type": "code",
      "metadata": {
        "colab": {
          "base_uri": "https://localhost:8080/"
        },
        "id": "jAltkwUh9kvl",
        "outputId": "d9d544e7-b98c-4809-b40e-bc0e0588d734"
      },
      "source": [
        "v"
      ],
      "execution_count": null,
      "outputs": [
        {
          "output_type": "execute_result",
          "data": {
            "text/plain": [
              "2"
            ]
          },
          "metadata": {
            "tags": []
          },
          "execution_count": 269
        }
      ]
    },
    {
      "cell_type": "code",
      "metadata": {
        "colab": {
          "base_uri": "https://localhost:8080/"
        },
        "id": "xFD4Ra8f92nU",
        "outputId": "d35a369a-cadc-49e4-9c6d-2271ff356788"
      },
      "source": [
        "myDict.pop('b')"
      ],
      "execution_count": null,
      "outputs": [
        {
          "output_type": "execute_result",
          "data": {
            "text/plain": [
              "2"
            ]
          },
          "metadata": {
            "tags": []
          },
          "execution_count": 273
        }
      ]
    },
    {
      "cell_type": "code",
      "metadata": {
        "colab": {
          "base_uri": "https://localhost:8080/"
        },
        "id": "o-ef_T5f92Zk",
        "outputId": "a7aff974-4feb-4b5e-a93c-cf002f5fa983"
      },
      "source": [
        "myDict"
      ],
      "execution_count": null,
      "outputs": [
        {
          "output_type": "execute_result",
          "data": {
            "text/plain": [
              "{'c': 4, 'e': 5}"
            ]
          },
          "metadata": {
            "tags": []
          },
          "execution_count": 274
        }
      ]
    },
    {
      "cell_type": "code",
      "metadata": {
        "id": "GGqcKNno912h"
      },
      "source": [
        "a = {k:v for k, v in myDict.items() if k != 'a'}"
      ],
      "execution_count": null,
      "outputs": []
    },
    {
      "cell_type": "code",
      "metadata": {
        "colab": {
          "base_uri": "https://localhost:8080/"
        },
        "id": "_EeFekVz-gN2",
        "outputId": "0accfe24-79fc-4f2e-8224-ae1af5011ddc"
      },
      "source": [
        "a"
      ],
      "execution_count": null,
      "outputs": [
        {
          "output_type": "execute_result",
          "data": {
            "text/plain": [
              "{'b': 2, 'c': 4, 'e': 5}"
            ]
          },
          "metadata": {
            "tags": []
          },
          "execution_count": 277
        }
      ]
    },
    {
      "cell_type": "code",
      "metadata": {
        "colab": {
          "base_uri": "https://localhost:8080/"
        },
        "id": "wXDowuXI-5Nm",
        "outputId": "88748df5-8c5b-4bf9-dd58-420b85fea17a"
      },
      "source": [
        "k, v = ['a', 'b'], [1, 2]\n",
        "\n",
        "myDict = dict(zip(k, v))\n",
        "\n",
        "myDict"
      ],
      "execution_count": null,
      "outputs": [
        {
          "output_type": "execute_result",
          "data": {
            "text/plain": [
              "{'a': 1, 'b': 2}"
            ]
          },
          "metadata": {
            "tags": []
          },
          "execution_count": 283
        }
      ]
    },
    {
      "cell_type": "code",
      "metadata": {
        "colab": {
          "base_uri": "https://localhost:8080/"
        },
        "id": "7SGX8hKc_XDi",
        "outputId": "2672cd09-6c1d-4838-e2c8-d29d06403528"
      },
      "source": [
        "k, v = ['a', 'b'], [1, 2]\n",
        "\n",
        "mm = {k[i]:v[i] for i in range(len(k))}\n",
        "\n",
        "mm"
      ],
      "execution_count": null,
      "outputs": [
        {
          "output_type": "execute_result",
          "data": {
            "text/plain": [
              "{'a': 1, 'b': 2}"
            ]
          },
          "metadata": {
            "tags": []
          },
          "execution_count": 287
        }
      ]
    },
    {
      "cell_type": "code",
      "metadata": {
        "id": "ZhKVXbsV-8rS",
        "colab": {
          "base_uri": "https://localhost:8080/"
        },
        "outputId": "d5072b7c-2ebc-4afe-b52b-0883057d86ad"
      },
      "source": [
        "newList = list()\n",
        "\n",
        "for i in range(0, 11):\n",
        "  newList.append(i+2)\n",
        "\n",
        "print(newList)"
      ],
      "execution_count": null,
      "outputs": [
        {
          "output_type": "stream",
          "text": [
            "[2, 3, 4, 5, 6, 7, 8, 9, 10, 11, 12]\n"
          ],
          "name": "stdout"
        }
      ]
    },
    {
      "cell_type": "code",
      "metadata": {
        "colab": {
          "base_uri": "https://localhost:8080/"
        },
        "id": "voNw2q-GhMQh",
        "outputId": "4d60e734-1ac3-46b8-aa2e-edce416bdd73"
      },
      "source": [
        "#priting even #s without calculation by using step function.\n",
        "evenList = list()\n",
        "\n",
        "for i in range(0, len(newList), 2):\n",
        "  evenList.append(newList[i])\n",
        "\n",
        "print(evenList)"
      ],
      "execution_count": null,
      "outputs": [
        {
          "output_type": "stream",
          "text": [
            "[2, 4, 6, 8, 10, 12]\n"
          ],
          "name": "stdout"
        }
      ]
    },
    {
      "cell_type": "code",
      "metadata": {
        "colab": {
          "base_uri": "https://localhost:8080/"
        },
        "id": "U2XevovthiUR",
        "outputId": "b15f6a49-b437-4485-a17e-ab660d2cbb5a"
      },
      "source": [
        "%debug"
      ],
      "execution_count": null,
      "outputs": [
        {
          "output_type": "stream",
          "text": [
            "ERROR:root:No traceback has been produced, nothing to debug.\n"
          ],
          "name": "stderr"
        }
      ]
    },
    {
      "cell_type": "code",
      "metadata": {
        "colab": {
          "base_uri": "https://localhost:8080/"
        },
        "id": "zObqjuKpnkJ3",
        "outputId": "7d18dcaa-7f45-48bf-b71d-58c450ee44c5"
      },
      "source": [
        "newList = [\"a\", \"b\", \"c\", \"d\"]\n",
        "\n",
        "for i in range(2, len(newList)):\n",
        "  newList[i] = newList[i] * i\n",
        "\n",
        "newList"
      ],
      "execution_count": null,
      "outputs": [
        {
          "output_type": "execute_result",
          "data": {
            "text/plain": [
              "['a', 'b', 'cc', 'ddd']"
            ]
          },
          "metadata": {
            "tags": []
          },
          "execution_count": 15
        }
      ]
    },
    {
      "cell_type": "code",
      "metadata": {
        "colab": {
          "base_uri": "https://localhost:8080/"
        },
        "id": "23Omk4XBoLEh",
        "outputId": "2aa0742e-bbdf-4c02-9a22-9e56df44d3da"
      },
      "source": [
        "#printing reverse list\n",
        "\n",
        "newList = list()\n",
        "\n",
        "for i in range(0, 10):\n",
        "  newList.append(i)\n",
        "\n",
        "for i in range(len(newList), 5, -1):\n",
        "  print(i)"
      ],
      "execution_count": null,
      "outputs": [
        {
          "output_type": "stream",
          "text": [
            "10\n",
            "9\n",
            "8\n",
            "7\n",
            "6\n"
          ],
          "name": "stdout"
        }
      ]
    },
    {
      "cell_type": "code",
      "metadata": {
        "colab": {
          "base_uri": "https://localhost:8080/"
        },
        "id": "liXfkztjpPmf",
        "outputId": "e14828ba-389a-4196-9f1a-8abd0dc0b246"
      },
      "source": [
        "myDict = dict()\n",
        "\n",
        "for i, v in enumerate(range(10), 1):\n",
        "  myDict[i] = v+1\n",
        "\n",
        "print(myDict)"
      ],
      "execution_count": null,
      "outputs": [
        {
          "output_type": "stream",
          "text": [
            "{1: 1, 2: 2, 3: 3, 4: 4, 5: 5, 6: 6, 7: 7, 8: 8, 9: 9, 10: 10}\n"
          ],
          "name": "stdout"
        }
      ]
    },
    {
      "cell_type": "code",
      "metadata": {
        "colab": {
          "base_uri": "https://localhost:8080/"
        },
        "id": "UhKq_MfyqZle",
        "outputId": "e842b6f3-97ef-43f2-c169-6359d8872e7a"
      },
      "source": [
        "for key, val in myDict.items():\n",
        "  print(f'Key is: {key} and Value is {val}')"
      ],
      "execution_count": null,
      "outputs": [
        {
          "output_type": "stream",
          "text": [
            "Key is: 0 and Value is 1\n",
            "Key is: 1 and Value is 2\n",
            "Key is: 2 and Value is 3\n",
            "Key is: 3 and Value is 4\n",
            "Key is: 4 and Value is 5\n",
            "Key is: 5 and Value is 6\n",
            "Key is: 6 and Value is 7\n",
            "Key is: 7 and Value is 8\n",
            "Key is: 8 and Value is 9\n",
            "Key is: 9 and Value is 10\n"
          ],
          "name": "stdout"
        }
      ]
    },
    {
      "cell_type": "code",
      "metadata": {
        "colab": {
          "base_uri": "https://localhost:8080/"
        },
        "id": "TeK_m0CdqrTk",
        "outputId": "09737f55-7fc2-4f2d-b224-dd0d1f9a9c08"
      },
      "source": [
        "for pair in myDict.items():\n",
        "  print(pair)"
      ],
      "execution_count": null,
      "outputs": [
        {
          "output_type": "stream",
          "text": [
            "(0, 1)\n",
            "(1, 2)\n",
            "(2, 3)\n",
            "(3, 4)\n",
            "(4, 5)\n",
            "(5, 6)\n",
            "(6, 7)\n",
            "(7, 8)\n",
            "(8, 9)\n",
            "(9, 10)\n"
          ],
          "name": "stdout"
        }
      ]
    },
    {
      "cell_type": "code",
      "metadata": {
        "colab": {
          "base_uri": "https://localhost:8080/"
        },
        "id": "Om9i2aPvrJ6k",
        "outputId": "c7e429c2-bb5d-47e4-a238-5491953da24f"
      },
      "source": [
        "#printing only 'n' in word\n",
        "\n",
        "nums = 12345\n",
        "\n",
        "for num in str(nums):\n",
        "  if int(num) % 3 == 0:\n",
        "    print('ODD')\n",
        "    continue\n",
        "  print('Not ODD')"
      ],
      "execution_count": null,
      "outputs": [
        {
          "output_type": "stream",
          "text": [
            "Not ODD\n",
            "Not ODD\n",
            "ODD\n",
            "Not ODD\n",
            "Not ODD\n"
          ],
          "name": "stdout"
        }
      ]
    },
    {
      "cell_type": "code",
      "metadata": {
        "id": "40gMS-ou0wlk"
      },
      "source": [
        ""
      ],
      "execution_count": null,
      "outputs": []
    },
    {
      "cell_type": "code",
      "metadata": {
        "colab": {
          "base_uri": "https://localhost:8080/"
        },
        "id": "1r3pH2Ek0E2l",
        "outputId": "9c6b4afa-de6a-4095-e7aa-47ad58fe358d"
      },
      "source": [
        "nums = [1, 2, 3, 4, 5]\n",
        "\n",
        "for num in nums:\n",
        "  if num % 2 == 0:\n",
        "    print(f'Even: {num}')\n",
        "    break\n",
        "  else:\n",
        "    print(f'Odd: {num}')"
      ],
      "execution_count": null,
      "outputs": [
        {
          "output_type": "stream",
          "text": [
            "Odd: 1\n",
            "Even: 2\n"
          ],
          "name": "stdout"
        }
      ]
    },
    {
      "cell_type": "code",
      "metadata": {
        "colab": {
          "base_uri": "https://localhost:8080/"
        },
        "id": "hK6SK1WZtjMq",
        "outputId": "076d198f-0c33-45d7-ab5d-933946e865c9"
      },
      "source": [
        "nums = 12345\n",
        "\n",
        "for num in str(nums):\n",
        "  if int(num) % 3 == 0:\n",
        "    print('ODD')\n",
        "    break\n",
        "  print('Not ODD')"
      ],
      "execution_count": null,
      "outputs": [
        {
          "output_type": "stream",
          "text": [
            "Not ODD\n",
            "Not ODD\n",
            "ODD\n"
          ],
          "name": "stdout"
        }
      ]
    },
    {
      "cell_type": "code",
      "metadata": {
        "id": "1Bpm_a_wudbh"
      },
      "source": [
        "#zip() is an amazing built-in function that we can use in Python to iterate over multiple sequences at once, \n",
        "#getting their corresponding elements in each iteration."
      ],
      "execution_count": null,
      "outputs": []
    },
    {
      "cell_type": "code",
      "metadata": {
        "colab": {
          "base_uri": "https://localhost:8080/"
        },
        "id": "kvKDlGonv6hK",
        "outputId": "29a08667-0655-4fad-f36e-63dcf6572d28"
      },
      "source": [
        "l1, l2 = [1, 2, 3], [4, 5, 6]\n",
        "\n",
        "for v1, v2 in zip(l1, l2):\n",
        "  print(v1, v2)"
      ],
      "execution_count": null,
      "outputs": [
        {
          "output_type": "stream",
          "text": [
            "1 4\n",
            "2 5\n",
            "3 6\n"
          ],
          "name": "stdout"
        }
      ]
    },
    {
      "cell_type": "code",
      "metadata": {
        "colab": {
          "base_uri": "https://localhost:8080/"
        },
        "id": "4c7VGuo5wQqK",
        "outputId": "72b1a353-052a-4a6b-ded3-d7f6463ebee2"
      },
      "source": [
        "nums = [1, 2, 3, 4, 5]\n",
        "\n",
        "for num in nums:\n",
        "  if num > 6:\n",
        "    print('Found')\n",
        "    break\n",
        "\n",
        "print('Not found')"
      ],
      "execution_count": null,
      "outputs": [
        {
          "output_type": "stream",
          "text": [
            "Not found\n"
          ],
          "name": "stdout"
        }
      ]
    },
    {
      "cell_type": "code",
      "metadata": {
        "colab": {
          "base_uri": "https://localhost:8080/"
        },
        "id": "Ql21OLjaxLCq",
        "outputId": "536e25f1-e419-4cd1-96fc-9f66034206dd"
      },
      "source": [
        "nums = [1, 2, 3, 4, 5, 6, 7]\n",
        "\n",
        "for num in nums:\n",
        "  if num > 6:\n",
        "    print('Found')\n",
        "    break\n",
        "else:\n",
        "  print('Not found')"
      ],
      "execution_count": null,
      "outputs": [
        {
          "output_type": "stream",
          "text": [
            "Found\n"
          ],
          "name": "stdout"
        }
      ]
    },
    {
      "cell_type": "code",
      "metadata": {
        "colab": {
          "base_uri": "https://localhost:8080/"
        },
        "id": "x1X4H7QIyWNp",
        "outputId": "8e896e4c-7cf0-4c7f-86b4-949389cfe3fe"
      },
      "source": [
        "nums = [1, 2, 3, 4, 5, 6, 7]\n",
        "\n",
        "for num in nums:\n",
        "  if num > 6:\n",
        "    print('Found')\n",
        "    break\n",
        "else:\n",
        "  print('Not HERE')"
      ],
      "execution_count": null,
      "outputs": [
        {
          "output_type": "stream",
          "text": [
            "Found\n"
          ],
          "name": "stdout"
        }
      ]
    },
    {
      "cell_type": "code",
      "metadata": {
        "colab": {
          "base_uri": "https://localhost:8080/"
        },
        "id": "mcw7IPWNyqS_",
        "outputId": "228a1593-85d2-4428-db9e-5ec630928033"
      },
      "source": [
        "x = 5\n",
        "\n",
        "while x < 15:\n",
        "  if x % 2 == 0:\n",
        "    print(f'Even: {x}')\n",
        "    break\n",
        "  print(f'Odd: {x}')\n",
        "  x+=1"
      ],
      "execution_count": null,
      "outputs": [
        {
          "output_type": "stream",
          "text": [
            "Odd: 5\n",
            "Even: 6\n"
          ],
          "name": "stdout"
        }
      ]
    },
    {
      "cell_type": "code",
      "metadata": {
        "colab": {
          "base_uri": "https://localhost:8080/"
        },
        "id": "ARol0CghzjSy",
        "outputId": "88a53149-f650-4b0b-80d5-ff6e20ab3e03"
      },
      "source": [
        "#Nested Loops\n",
        "\n",
        "for i in range(3):\n",
        "  for j in range(2):\n",
        "    print(i, j)"
      ],
      "execution_count": null,
      "outputs": [
        {
          "output_type": "stream",
          "text": [
            "0 0\n",
            "0 1\n",
            "1 0\n",
            "1 1\n",
            "2 0\n",
            "2 1\n"
          ],
          "name": "stdout"
        }
      ]
    },
    {
      "cell_type": "code",
      "metadata": {
        "colab": {
          "base_uri": "https://localhost:8080/"
        },
        "id": "Eo4uyyb940px",
        "outputId": "d63f4d06-eb9a-4d3f-dd7e-f7d8ac266956"
      },
      "source": [
        "num_rows = 5\n",
        "\n",
        "for i in range(5):\n",
        "  for nums_cols in range(num_rows-i):\n",
        "    print('*', end='')\n",
        "  print()"
      ],
      "execution_count": null,
      "outputs": [
        {
          "output_type": "stream",
          "text": [
            "*****\n",
            "****\n",
            "***\n",
            "**\n",
            "*\n"
          ],
          "name": "stdout"
        }
      ]
    },
    {
      "cell_type": "code",
      "metadata": {
        "id": "4Wx0A06W5dKc"
      },
      "source": [
        "#writing a function for creating the same pyramid\n",
        "\n",
        "def print_pattern(num_rows, char):\n",
        "  for i in range(num_rows):\n",
        "    for col in range(num_rows-i):\n",
        "      print(char, end='')\n",
        "    print()"
      ],
      "execution_count": null,
      "outputs": []
    },
    {
      "cell_type": "code",
      "metadata": {
        "colab": {
          "base_uri": "https://localhost:8080/"
        },
        "id": "8urLufY47jXt",
        "outputId": "af8bee35-101c-456f-db23-add1e1c10e74"
      },
      "source": [
        "print_pattern(3, 'a')"
      ],
      "execution_count": null,
      "outputs": [
        {
          "output_type": "stream",
          "text": [
            "aaa\n",
            "aa\n",
            "a\n"
          ],
          "name": "stdout"
        }
      ]
    },
    {
      "cell_type": "code",
      "metadata": {
        "colab": {
          "base_uri": "https://localhost:8080/"
        },
        "id": "2iyrpIy78WXt",
        "outputId": "055dfb7c-1b97-4b95-a532-774bc6fd9241"
      },
      "source": [
        "return_even([1, 3, 5])"
      ],
      "execution_count": null,
      "outputs": [
        {
          "output_type": "execute_result",
          "data": {
            "text/plain": [
              "False"
            ]
          },
          "metadata": {
            "tags": []
          },
          "execution_count": 124
        }
      ]
    },
    {
      "cell_type": "code",
      "metadata": {
        "id": "xtbsdDVJ9Nt9"
      },
      "source": [
        "#Recursive ()\n",
        "\n",
        "def factorial(n):\n",
        "  if n not in (0, 1):\n",
        "    return n * factorial(n-1)\n",
        "  else:\n",
        "    return 1"
      ],
      "execution_count": null,
      "outputs": []
    },
    {
      "cell_type": "code",
      "metadata": {
        "colab": {
          "base_uri": "https://localhost:8080/"
        },
        "id": "XlfcMVyh-j8w",
        "outputId": "df86f275-317a-4567-f9f5-e95343e8084d"
      },
      "source": [
        "factorial(4)"
      ],
      "execution_count": null,
      "outputs": [
        {
          "output_type": "execute_result",
          "data": {
            "text/plain": [
              "24"
            ]
          },
          "metadata": {
            "tags": []
          },
          "execution_count": 131
        }
      ]
    },
    {
      "cell_type": "code",
      "metadata": {
        "colab": {
          "base_uri": "https://localhost:8080/",
          "height": 330
        },
        "id": "xFxt5hbAxGKp",
        "outputId": "942cd2d3-f2e8-42eb-9ed5-422748d07b50"
      },
      "source": [
        "def text(index):\n",
        "  index = int(input(\"Enter the index: \"))\n",
        "  my_list = [1, 2, 3, 4]\n",
        "  print(my_list[index])\n",
        "\n",
        "text(4)"
      ],
      "execution_count": null,
      "outputs": [
        {
          "output_type": "stream",
          "text": [
            "Enter the index: 4\n"
          ],
          "name": "stdout"
        },
        {
          "output_type": "error",
          "ename": "IndexError",
          "evalue": "ignored",
          "traceback": [
            "\u001b[0;31m---------------------------------------------------------------------------\u001b[0m",
            "\u001b[0;31mIndexError\u001b[0m                                Traceback (most recent call last)",
            "\u001b[0;32m<ipython-input-10-c74384e6075c>\u001b[0m in \u001b[0;36m<module>\u001b[0;34m()\u001b[0m\n\u001b[1;32m      4\u001b[0m   \u001b[0mprint\u001b[0m\u001b[0;34m(\u001b[0m\u001b[0mmy_list\u001b[0m\u001b[0;34m[\u001b[0m\u001b[0mindex\u001b[0m\u001b[0;34m]\u001b[0m\u001b[0;34m)\u001b[0m\u001b[0;34m\u001b[0m\u001b[0;34m\u001b[0m\u001b[0m\n\u001b[1;32m      5\u001b[0m \u001b[0;34m\u001b[0m\u001b[0m\n\u001b[0;32m----> 6\u001b[0;31m \u001b[0mtext\u001b[0m\u001b[0;34m(\u001b[0m\u001b[0;36m4\u001b[0m\u001b[0;34m)\u001b[0m\u001b[0;34m\u001b[0m\u001b[0;34m\u001b[0m\u001b[0m\n\u001b[0m",
            "\u001b[0;32m<ipython-input-10-c74384e6075c>\u001b[0m in \u001b[0;36mtext\u001b[0;34m(index)\u001b[0m\n\u001b[1;32m      2\u001b[0m   \u001b[0mindex\u001b[0m \u001b[0;34m=\u001b[0m \u001b[0mint\u001b[0m\u001b[0;34m(\u001b[0m\u001b[0minput\u001b[0m\u001b[0;34m(\u001b[0m\u001b[0;34m\"Enter the index: \"\u001b[0m\u001b[0;34m)\u001b[0m\u001b[0;34m)\u001b[0m\u001b[0;34m\u001b[0m\u001b[0;34m\u001b[0m\u001b[0m\n\u001b[1;32m      3\u001b[0m   \u001b[0mmy_list\u001b[0m \u001b[0;34m=\u001b[0m \u001b[0;34m[\u001b[0m\u001b[0;36m1\u001b[0m\u001b[0;34m,\u001b[0m \u001b[0;36m2\u001b[0m\u001b[0;34m,\u001b[0m \u001b[0;36m3\u001b[0m\u001b[0;34m,\u001b[0m \u001b[0;36m4\u001b[0m\u001b[0;34m]\u001b[0m\u001b[0;34m\u001b[0m\u001b[0;34m\u001b[0m\u001b[0m\n\u001b[0;32m----> 4\u001b[0;31m   \u001b[0mprint\u001b[0m\u001b[0;34m(\u001b[0m\u001b[0mmy_list\u001b[0m\u001b[0;34m[\u001b[0m\u001b[0mindex\u001b[0m\u001b[0;34m]\u001b[0m\u001b[0;34m)\u001b[0m\u001b[0;34m\u001b[0m\u001b[0;34m\u001b[0m\u001b[0m\n\u001b[0m\u001b[1;32m      5\u001b[0m \u001b[0;34m\u001b[0m\u001b[0m\n\u001b[1;32m      6\u001b[0m \u001b[0mtext\u001b[0m\u001b[0;34m(\u001b[0m\u001b[0;36m4\u001b[0m\u001b[0;34m)\u001b[0m\u001b[0;34m\u001b[0m\u001b[0;34m\u001b[0m\u001b[0m\n",
            "\u001b[0;31mIndexError\u001b[0m: list index out of range"
          ]
        }
      ]
    },
    {
      "cell_type": "code",
      "metadata": {
        "colab": {
          "base_uri": "https://localhost:8080/"
        },
        "id": "uxbIBsHNxW_-",
        "outputId": "8e6574e7-72ac-45e0-c9f4-308ca1d49d1d"
      },
      "source": [
        "index = int(input(\"Enter the index: \"))\n",
        "\n",
        "try:\n",
        "    my_list = [1, 2, 3, 4]\n",
        "    print(my_list[index])\n",
        "except IndexError as ie: # specify the type\n",
        "    print(\"Please enter a valid index.\", ie)"
      ],
      "execution_count": null,
      "outputs": [
        {
          "output_type": "stream",
          "text": [
            "Enter the index: 4\n",
            "Please enter a valid index. list index out of range\n"
          ],
          "name": "stdout"
        }
      ]
    },
    {
      "cell_type": "code",
      "metadata": {
        "colab": {
          "base_uri": "https://localhost:8080/"
        },
        "id": "omnzFJx7xqXB",
        "outputId": "60c1df18-491b-4136-a164-7e349de5d049"
      },
      "source": [
        "index = int(input(\"Enter the index: \"))\n",
        "\n",
        "try:\n",
        "    my_list = [1, 2, 3, 4]\n",
        "    print(my_list[index])\n",
        "except IndexError as ie: # specify the type\n",
        "    print(\"Please enter a valid index.\", ie)\n",
        "else:\n",
        "  print(\"You used a valid index number\")"
      ],
      "execution_count": null,
      "outputs": [
        {
          "output_type": "stream",
          "text": [
            "Enter the index: 4\n",
            "Please enter a valid index. list index out of range\n"
          ],
          "name": "stdout"
        }
      ]
    },
    {
      "cell_type": "code",
      "metadata": {
        "colab": {
          "base_uri": "https://localhost:8080/"
        },
        "id": "bgADvIn5yElc",
        "outputId": "d086b615-ae80-46b4-debd-0983be19a580"
      },
      "source": [
        "index = int(input(\"Enter the index: \"))\n",
        "\n",
        "try:\n",
        "    my_list = [1, 2, 3, 4]\n",
        "    print(my_list[index])\n",
        "except IndexError as ie: # specify the type\n",
        "    print(\"Please enter a valid index.\", ie)\n",
        "else: #Will only run if 'TRY' executes\n",
        "  print(\"You used a valid index number\")"
      ],
      "execution_count": null,
      "outputs": [
        {
          "output_type": "stream",
          "text": [
            "Enter the index: 3\n",
            "4\n",
            "You used a valid index number\n"
          ],
          "name": "stdout"
        }
      ]
    },
    {
      "cell_type": "code",
      "metadata": {
        "colab": {
          "base_uri": "https://localhost:8080/"
        },
        "id": "My1A-h4SyiXB",
        "outputId": "ec3fa817-232f-44c0-8104-0b5dd06130d9"
      },
      "source": [
        "index = int(input(\"Enter the index: \"))\n",
        "\n",
        "try:\n",
        "    my_list = [1, 2, 3, 4]\n",
        "    print(my_list[index])\n",
        "except IndexError as ie: # specify the type\n",
        "    print(\"Please enter a valid index.\", ie)\n",
        "else: #Will only run if 'TRY' executes\n",
        "  print(\"You used a valid index number\")\n",
        "finally: #will run regardless\n",
        "  print(\"End of the program\")"
      ],
      "execution_count": 220,
      "outputs": [
        {
          "output_type": "stream",
          "text": [
            "Enter the index: 1\n",
            "2\n",
            "You used a valid index number\n",
            "End of the program\n"
          ],
          "name": "stdout"
        }
      ]
    },
    {
      "cell_type": "code",
      "metadata": {
        "id": "Hwwbt_16yqtD"
      },
      "source": [
        "class Dog:\n",
        "\n",
        "  def __init__(self, name, age):\n",
        "    self.name = name\n",
        "    self.age = age\n",
        "  "
      ],
      "execution_count": 221,
      "outputs": []
    },
    {
      "cell_type": "code",
      "metadata": {
        "colab": {
          "base_uri": "https://localhost:8080/"
        },
        "id": "BztFjDao0_jE",
        "outputId": "62d8720f-1479-4204-83cf-336d503dffd1"
      },
      "source": [
        "my_dog = Dog('Kaju', 6) #Creating instance of Dog\n",
        "my_dog"
      ],
      "execution_count": null,
      "outputs": [
        {
          "output_type": "execute_result",
          "data": {
            "text/plain": [
              "<__main__.Dog at 0x7f62cc6d1a90>"
            ]
          },
          "metadata": {
            "tags": []
          },
          "execution_count": 38
        }
      ]
    },
    {
      "cell_type": "code",
      "metadata": {
        "colab": {
          "base_uri": "https://localhost:8080/"
        },
        "id": "zP-TdyRw1EA0",
        "outputId": "3dd4471b-dd51-4891-ab20-1cc90f55f25c"
      },
      "source": [
        "my_dog.name, my_dog.age #Getting attributes (Name and Age are atributes of Class Dog)"
      ],
      "execution_count": null,
      "outputs": [
        {
          "output_type": "execute_result",
          "data": {
            "text/plain": [
              "('Kaju', 6)"
            ]
          },
          "metadata": {
            "tags": []
          },
          "execution_count": 39
        }
      ]
    },
    {
      "cell_type": "code",
      "metadata": {
        "colab": {
          "base_uri": "https://localhost:8080/",
          "height": 35
        },
        "id": "oXtDkojZ1FrP",
        "outputId": "a13ccbe8-517b-481c-9498-46dcfb8feaaa"
      },
      "source": [
        "my_dog.name = 'Gujju' #Updating attribute\n",
        "\n",
        "my_dog.name"
      ],
      "execution_count": null,
      "outputs": [
        {
          "output_type": "execute_result",
          "data": {
            "application/vnd.google.colaboratory.intrinsic+json": {
              "type": "string"
            },
            "text/plain": [
              "'Gujju'"
            ]
          },
          "metadata": {
            "tags": []
          },
          "execution_count": 40
        }
      ]
    },
    {
      "cell_type": "code",
      "metadata": {
        "id": "1ZiFyZp-2IJy"
      },
      "source": [
        "del my_dog.name #Deleting the attribute from instane"
      ],
      "execution_count": null,
      "outputs": []
    },
    {
      "cell_type": "code",
      "metadata": {
        "colab": {
          "base_uri": "https://localhost:8080/"
        },
        "id": "eNa89lT92UR7",
        "outputId": "e7c5cf95-3c26-4b6b-d7e4-a5634cb7da08"
      },
      "source": [
        "my_dog.age"
      ],
      "execution_count": null,
      "outputs": [
        {
          "output_type": "execute_result",
          "data": {
            "text/plain": [
              "6"
            ]
          },
          "metadata": {
            "tags": []
          },
          "execution_count": 44
        }
      ]
    },
    {
      "cell_type": "code",
      "metadata": {
        "colab": {
          "base_uri": "https://localhost:8080/"
        },
        "id": "FZ4uWrhz2VFj",
        "outputId": "57a717a1-320f-4998-cc3f-a4f893ae4cdb"
      },
      "source": [
        "try:\n",
        "  my_dog.name\n",
        "except AttributeError as ae:\n",
        "  print('name attribute is removed from Dog instance my_dog :', ae)"
      ],
      "execution_count": null,
      "outputs": [
        {
          "output_type": "stream",
          "text": [
            "name attribute is removed from Dog instance my_dog : 'Dog' object has no attribute 'name'\n"
          ],
          "name": "stdout"
        }
      ]
    },
    {
      "cell_type": "code",
      "metadata": {
        "id": "JrCqBESI2njD"
      },
      "source": [
        "del my_dog #Deleting the instance"
      ],
      "execution_count": null,
      "outputs": []
    },
    {
      "cell_type": "code",
      "metadata": {
        "colab": {
          "base_uri": "https://localhost:8080/"
        },
        "id": "FR3uQ8h93HSc",
        "outputId": "e7aa7057-f6e4-4b2e-9bfc-f3e433195cf9"
      },
      "source": [
        "try:\n",
        "  my_dog\n",
        "except NameError as ne:\n",
        "  print('instance missing: ', ne)"
      ],
      "execution_count": null,
      "outputs": [
        {
          "output_type": "stream",
          "text": [
            "instance missing:  name 'my_dog' is not defined\n"
          ],
          "name": "stdout"
        }
      ]
    },
    {
      "cell_type": "code",
      "metadata": {
        "id": "HKKtyIQc3NZd"
      },
      "source": [
        "class Dog:\n",
        "\n",
        "  # Class attributes\n",
        "  category = 'Animal'\n",
        "\n",
        "  def __init__(self, name, age):\n",
        "    self.name = name\n",
        "    self.age = age\n",
        "    self.speed = 5\n",
        "  \n",
        "  def bark(self): #Defiing method of class dog\n",
        "    print(f\"My name is {self.name} Woof-Woof. I'm {self.age} years old.\")\n",
        "\n",
        "  def running(self, n):\n",
        "    self.speed += n"
      ],
      "execution_count": null,
      "outputs": []
    },
    {
      "cell_type": "code",
      "metadata": {
        "id": "7bO_V58G65SH"
      },
      "source": [
        "my_dog = Dog('Kaju', 7)"
      ],
      "execution_count": null,
      "outputs": []
    },
    {
      "cell_type": "code",
      "metadata": {
        "colab": {
          "base_uri": "https://localhost:8080/"
        },
        "id": "JAmRxmIK6_Sx",
        "outputId": "33daaa29-3876-4fa8-e05d-59ea328a086d"
      },
      "source": [
        "my_dog.bark()"
      ],
      "execution_count": null,
      "outputs": [
        {
          "output_type": "stream",
          "text": [
            "My name is Kaju Woof-Woof. I'm 7 years old.\n"
          ],
          "name": "stdout"
        }
      ]
    },
    {
      "cell_type": "code",
      "metadata": {
        "id": "KAi5APja7-lX"
      },
      "source": [
        "my_dog.running(5)"
      ],
      "execution_count": null,
      "outputs": []
    },
    {
      "cell_type": "code",
      "metadata": {
        "colab": {
          "base_uri": "https://localhost:8080/"
        },
        "id": "Dot_5K5w8g3m",
        "outputId": "78b40af3-ad20-4748-cc7a-35f1618827be"
      },
      "source": [
        "my_dog.speed"
      ],
      "execution_count": null,
      "outputs": [
        {
          "output_type": "execute_result",
          "data": {
            "text/plain": [
              "10"
            ]
          },
          "metadata": {
            "tags": []
          },
          "execution_count": 77
        }
      ]
    },
    {
      "cell_type": "code",
      "metadata": {
        "colab": {
          "base_uri": "https://localhost:8080/"
        },
        "id": "HTNhEc2s8xYM",
        "outputId": "c08501f7-f31a-4715-df41-b4dab20135c2"
      },
      "source": [
        "words = \"This is my first write program\"\n",
        "\n",
        "word.split()"
      ],
      "execution_count": null,
      "outputs": [
        {
          "output_type": "execute_result",
          "data": {
            "text/plain": [
              "['program']"
            ]
          },
          "metadata": {
            "tags": []
          },
          "execution_count": 132
        }
      ]
    },
    {
      "cell_type": "code",
      "metadata": {
        "id": "U4lhR7oX-bFT"
      },
      "source": [
        "#writing to file\n",
        "with open('first_write_prog.txt', 'w') as file:\n",
        "  for word in words.split():\n",
        "    file.write(word + ' ')"
      ],
      "execution_count": null,
      "outputs": []
    },
    {
      "cell_type": "code",
      "metadata": {
        "colab": {
          "base_uri": "https://localhost:8080/"
        },
        "id": "c9Hz-EqZ-yTG",
        "outputId": "a5229839-abed-47b5-fb6f-2a2764eb56aa"
      },
      "source": [
        "#Reading from file\n",
        "with open('first_write_prog.txt', 'r') as fh:\n",
        "  for line in fh:\n",
        "    print(line)"
      ],
      "execution_count": null,
      "outputs": [
        {
          "output_type": "stream",
          "text": [
            "This is my first write program \n"
          ],
          "name": "stdout"
        }
      ]
    },
    {
      "cell_type": "code",
      "metadata": {
        "id": "PnLR7rP8-2Tz"
      },
      "source": [
        "#Appending the file\n",
        "with open('first_append_prog.txt', 'a') as fh:\n",
        "  for line in words.split():\n",
        "    fh.write(line + \"\\n\")"
      ],
      "execution_count": null,
      "outputs": []
    },
    {
      "cell_type": "code",
      "metadata": {
        "id": "vqUuBaWLBcnV"
      },
      "source": [
        "#Deliting file\n",
        "import os\n",
        "\n",
        "if os.path.exists(\"first_append_prog.txt\"):\n",
        "  os.remove(\"first_append_prog.txt\")\n",
        "else:\n",
        "  print(\"This file doesn't exist\")"
      ],
      "execution_count": null,
      "outputs": []
    },
    {
      "cell_type": "code",
      "metadata": {
        "colab": {
          "base_uri": "https://localhost:8080/"
        },
        "id": "YDz7uYaEhm0N",
        "outputId": "2a03975d-aa5f-45e7-b2a6-9c60ae0eeba9"
      },
      "source": [
        "[chr(i) for i in range(97, 123)]"
      ],
      "execution_count": null,
      "outputs": [
        {
          "output_type": "execute_result",
          "data": {
            "text/plain": [
              "['a',\n",
              " 'b',\n",
              " 'c',\n",
              " 'd',\n",
              " 'e',\n",
              " 'f',\n",
              " 'g',\n",
              " 'h',\n",
              " 'i',\n",
              " 'j',\n",
              " 'k',\n",
              " 'l',\n",
              " 'm',\n",
              " 'n',\n",
              " 'o',\n",
              " 'p',\n",
              " 'q',\n",
              " 'r',\n",
              " 's',\n",
              " 't',\n",
              " 'u',\n",
              " 'v',\n",
              " 'w',\n",
              " 'x',\n",
              " 'y',\n",
              " 'z']"
            ]
          },
          "metadata": {
            "tags": []
          },
          "execution_count": 151
        }
      ]
    },
    {
      "cell_type": "code",
      "metadata": {
        "colab": {
          "base_uri": "https://localhost:8080/"
        },
        "id": "zK4lT6hljoX8",
        "outputId": "dbd9e975-a5a1-4bf3-b438-51221cf77948"
      },
      "source": [
        "list(map(chr, range(97, 123)))"
      ],
      "execution_count": null,
      "outputs": [
        {
          "output_type": "execute_result",
          "data": {
            "text/plain": [
              "['a',\n",
              " 'b',\n",
              " 'c',\n",
              " 'd',\n",
              " 'e',\n",
              " 'f',\n",
              " 'g',\n",
              " 'h',\n",
              " 'i',\n",
              " 'j',\n",
              " 'k',\n",
              " 'l',\n",
              " 'm',\n",
              " 'n',\n",
              " 'o',\n",
              " 'p',\n",
              " 'q',\n",
              " 'r',\n",
              " 's',\n",
              " 't',\n",
              " 'u',\n",
              " 'v',\n",
              " 'w',\n",
              " 'x',\n",
              " 'y',\n",
              " 'z']"
            ]
          },
          "metadata": {
            "tags": []
          },
          "execution_count": 177
        }
      ]
    },
    {
      "cell_type": "code",
      "metadata": {
        "colab": {
          "base_uri": "https://localhost:8080/"
        },
        "id": "upHGZ7YCkttz",
        "outputId": "c36455c7-9f7c-48fe-b7f9-43b7c6913993"
      },
      "source": [
        "print([chr(i) for i in range(97, 123)], end=' ')"
      ],
      "execution_count": null,
      "outputs": [
        {
          "output_type": "stream",
          "text": [
            "['a', 'b', 'c', 'd', 'e', 'f', 'g', 'h', 'i', 'j', 'k', 'l', 'm', 'n', 'o', 'p', 'q', 'r', 's', 't', 'u', 'v', 'w', 'x', 'y', 'z'] "
          ],
          "name": "stdout"
        }
      ]
    },
    {
      "cell_type": "code",
      "metadata": {
        "colab": {
          "base_uri": "https://localhost:8080/"
        },
        "id": "r-tuFM2dlOl6",
        "outputId": "baa34adc-ba57-41e1-dfbb-3e138ab3f997"
      },
      "source": [
        "[(index, val) for index in range(0, 2) for val in range(1, 3)]"
      ],
      "execution_count": null,
      "outputs": [
        {
          "output_type": "execute_result",
          "data": {
            "text/plain": [
              "[(0, 1), (0, 2), (1, 1), (1, 2)]"
            ]
          },
          "metadata": {
            "tags": []
          },
          "execution_count": 170
        }
      ]
    },
    {
      "cell_type": "code",
      "metadata": {
        "colab": {
          "base_uri": "https://localhost:8080/"
        },
        "id": "PEY-FWYmlmQN",
        "outputId": "e1b6ad78-2a87-4eb6-cc0a-4847f7020e62"
      },
      "source": [
        "for i in range(0, 2):\n",
        "  for j in range(1, 3):\n",
        "    print(i, j)"
      ],
      "execution_count": null,
      "outputs": [
        {
          "output_type": "stream",
          "text": [
            "0 1\n",
            "0 2\n",
            "1 1\n",
            "1 2\n"
          ],
          "name": "stdout"
        }
      ]
    },
    {
      "cell_type": "code",
      "metadata": {
        "colab": {
          "base_uri": "https://localhost:8080/"
        },
        "id": "anfP29wFl5oC",
        "outputId": "8f15c0f3-5205-4606-bff0-a0d448477afd"
      },
      "source": [
        "[i + j for i in range(0, 3) for j in range(1, 4)]"
      ],
      "execution_count": null,
      "outputs": [
        {
          "output_type": "execute_result",
          "data": {
            "text/plain": [
              "[1, 2, 3, 2, 3, 4, 3, 4, 5]"
            ]
          },
          "metadata": {
            "tags": []
          },
          "execution_count": 179
        }
      ]
    },
    {
      "cell_type": "code",
      "metadata": {
        "colab": {
          "base_uri": "https://localhost:8080/"
        },
        "id": "YIzTQKQ5nsV3",
        "outputId": "7d45491c-0692-4bae-eb6e-86292df8fa17"
      },
      "source": [
        "{index: index + val for index in range(0, 2) for val in range(1, 3)}"
      ],
      "execution_count": null,
      "outputs": [
        {
          "output_type": "execute_result",
          "data": {
            "text/plain": [
              "{0: 2, 1: 3}"
            ]
          },
          "metadata": {
            "tags": []
          },
          "execution_count": 178
        }
      ]
    },
    {
      "cell_type": "code",
      "metadata": {
        "colab": {
          "base_uri": "https://localhost:8080/"
        },
        "id": "CAgROEqBre7Y",
        "outputId": "381cafad-9cb9-48e8-f9d7-36ef6fc6fc01"
      },
      "source": [
        "#pass students\n",
        "grades = {\"Nora\": 78, \"Gino\": 100, \"Talina\": 56, \"Elizabeth\": 45, \"Lulu\": 67}\n",
        "\n",
        "new = {}\n",
        "\n",
        "for student, grade in grades.items():\n",
        "  if grade > 60:\n",
        "    new.update({student: grade})\n",
        "\n",
        "print(new)"
      ],
      "execution_count": null,
      "outputs": [
        {
          "output_type": "stream",
          "text": [
            "{'Nora': 78, 'Gino': 100, 'Lulu': 67}\n"
          ],
          "name": "stdout"
        }
      ]
    },
    {
      "cell_type": "code",
      "metadata": {
        "colab": {
          "base_uri": "https://localhost:8080/"
        },
        "id": "wQyRIhpZsIh1",
        "outputId": "9642f606-a205-43e6-b944-8c433bfdbf04"
      },
      "source": [
        "grades = {\"Nora\": 78, \"Gino\": 100, \"Talina\": 56, \"Elizabeth\": 45, \"Lulu\": 67}\n",
        "\n",
        "{student: grade for student, grade in grades.items() if grade > 60}"
      ],
      "execution_count": null,
      "outputs": [
        {
          "output_type": "execute_result",
          "data": {
            "text/plain": [
              "{'Gino': 100, 'Lulu': 67, 'Nora': 78}"
            ]
          },
          "metadata": {
            "tags": []
          },
          "execution_count": 189
        }
      ]
    },
    {
      "cell_type": "markdown",
      "metadata": {
        "id": "zrkYpZ1649N3"
      },
      "source": [
        "#Learnpythonorg https://www.learnpython.org"
      ]
    },
    {
      "cell_type": "markdown",
      "metadata": {
        "id": "RG4f9D8sBB-t"
      },
      "source": [
        "##Generators"
      ]
    },
    {
      "cell_type": "code",
      "metadata": {
        "id": "dllq51EQs70H"
      },
      "source": [
        "import random\n",
        "\n",
        "def lottery():\n",
        "  for i in range(6):\n",
        "    yield random.randint(1, 40)\n",
        "\n",
        "  yield random.randint(1, 15)\n"
      ],
      "execution_count": null,
      "outputs": []
    },
    {
      "cell_type": "code",
      "metadata": {
        "colab": {
          "base_uri": "https://localhost:8080/"
        },
        "id": "z08vBdr05cdn",
        "outputId": "09d57d1a-0be9-41a7-867d-cc3aee9c63c9"
      },
      "source": [
        "for random_num in lottery():\n",
        "  print(f'And the next number is... {random_num}')"
      ],
      "execution_count": null,
      "outputs": [
        {
          "output_type": "stream",
          "text": [
            "And the next number is... 3\n",
            "And the next number is... 15\n",
            "And the next number is... 8\n",
            "And the next number is... 19\n",
            "And the next number is... 19\n",
            "And the next number is... 24\n",
            "And the next number is... 13\n"
          ],
          "name": "stdout"
        }
      ]
    },
    {
      "cell_type": "code",
      "metadata": {
        "colab": {
          "base_uri": "https://localhost:8080/"
        },
        "id": "WbRqMQVG6XU2",
        "outputId": "8332d79d-8962-409a-cbf7-4372cd8dc9f4"
      },
      "source": [
        "for random_num in lottery():\n",
        "  print('And the next number is... %d' %random_num)"
      ],
      "execution_count": null,
      "outputs": [
        {
          "output_type": "stream",
          "text": [
            "And the next number is... 6\n",
            "And the next number is... 31\n",
            "And the next number is... 2\n",
            "And the next number is... 35\n",
            "And the next number is... 7\n",
            "And the next number is... 28\n",
            "And the next number is... 6\n"
          ],
          "name": "stdout"
        }
      ]
    },
    {
      "cell_type": "markdown",
      "metadata": {
        "id": "AtrmaAYzBEtd"
      },
      "source": [
        "##Sets"
      ]
    },
    {
      "cell_type": "code",
      "metadata": {
        "id": "XDUJi1Ed6v4R"
      },
      "source": [
        "home_friends = 'Vishal Arash Chintu Ikram'\n",
        "colg_friends = 'Medha,Makhi,Ikram,Neha'"
      ],
      "execution_count": null,
      "outputs": []
    },
    {
      "cell_type": "code",
      "metadata": {
        "colab": {
          "base_uri": "https://localhost:8080/"
        },
        "id": "58qbVHRu92S4",
        "outputId": "0f01c09f-7220-4e89-e715-1caa93852fcf"
      },
      "source": [
        "home_friends.split()"
      ],
      "execution_count": null,
      "outputs": [
        {
          "output_type": "execute_result",
          "data": {
            "text/plain": [
              "['Vishal', 'Arash', 'Chintu', 'Ikram']"
            ]
          },
          "metadata": {
            "tags": []
          },
          "execution_count": 50
        }
      ]
    },
    {
      "cell_type": "code",
      "metadata": {
        "colab": {
          "base_uri": "https://localhost:8080/"
        },
        "id": "TBA6LQk699EZ",
        "outputId": "c2ee38ea-f216-49c4-ac81-1f77ee486562"
      },
      "source": [
        "colg_friends.split(',')"
      ],
      "execution_count": null,
      "outputs": [
        {
          "output_type": "execute_result",
          "data": {
            "text/plain": [
              "['Medha', 'Makhi', 'Ikram', 'Neha']"
            ]
          },
          "metadata": {
            "tags": []
          },
          "execution_count": 51
        }
      ]
    },
    {
      "cell_type": "code",
      "metadata": {
        "id": "OUp5ClS5-hCn"
      },
      "source": [
        "home = set(home_friends.split())\n",
        "colg = set(colg_friends.split(','))"
      ],
      "execution_count": null,
      "outputs": []
    },
    {
      "cell_type": "code",
      "metadata": {
        "colab": {
          "base_uri": "https://localhost:8080/"
        },
        "id": "vN3kvWZb_n2Y",
        "outputId": "968d4a09-9f09-4994-d146-965aa9edf5d9"
      },
      "source": [
        "home"
      ],
      "execution_count": null,
      "outputs": [
        {
          "output_type": "execute_result",
          "data": {
            "text/plain": [
              "{'Arash', 'Chintu', 'Ikram', 'Vishal'}"
            ]
          },
          "metadata": {
            "tags": []
          },
          "execution_count": 53
        }
      ]
    },
    {
      "cell_type": "code",
      "metadata": {
        "colab": {
          "base_uri": "https://localhost:8080/"
        },
        "id": "qFBRKNan_9JN",
        "outputId": "e509714e-a4cf-4fd3-f88c-4f3120ff4b6f"
      },
      "source": [
        "colg"
      ],
      "execution_count": null,
      "outputs": [
        {
          "output_type": "execute_result",
          "data": {
            "text/plain": [
              "{'Ikram', 'Makhi', 'Medha', 'Neha'}"
            ]
          },
          "metadata": {
            "tags": []
          },
          "execution_count": 54
        }
      ]
    },
    {
      "cell_type": "code",
      "metadata": {
        "colab": {
          "base_uri": "https://localhost:8080/"
        },
        "id": "ca-ABdnC_ujK",
        "outputId": "bdce32cc-cf8d-4539-827b-32a0796af57a"
      },
      "source": [
        "print(home.intersection(colg))"
      ],
      "execution_count": null,
      "outputs": [
        {
          "output_type": "stream",
          "text": [
            "{'Ikram'}\n"
          ],
          "name": "stdout"
        }
      ]
    },
    {
      "cell_type": "code",
      "metadata": {
        "colab": {
          "base_uri": "https://localhost:8080/"
        },
        "id": "UsrcjsdI_2R9",
        "outputId": "bd62878b-ee07-4676-d9c0-2d8df4a1a86c"
      },
      "source": [
        "print(home.symmetric_difference(colg))"
      ],
      "execution_count": null,
      "outputs": [
        {
          "output_type": "stream",
          "text": [
            "{'Neha', 'Chintu', 'Medha', 'Arash', 'Makhi', 'Vishal'}\n"
          ],
          "name": "stdout"
        }
      ]
    },
    {
      "cell_type": "code",
      "metadata": {
        "colab": {
          "base_uri": "https://localhost:8080/"
        },
        "id": "xu4kTHM5AQtp",
        "outputId": "d368fe73-d9e6-4daf-d93d-683b0faedbcc"
      },
      "source": [
        "print(home.difference(colg))"
      ],
      "execution_count": null,
      "outputs": [
        {
          "output_type": "stream",
          "text": [
            "{'Arash', 'Chintu', 'Vishal'}\n"
          ],
          "name": "stdout"
        }
      ]
    },
    {
      "cell_type": "code",
      "metadata": {
        "colab": {
          "base_uri": "https://localhost:8080/"
        },
        "id": "HzANg-NFAc22",
        "outputId": "e6839c5d-5dc3-4ac8-f3dd-7eb176951417"
      },
      "source": [
        "print(home.union(colg))"
      ],
      "execution_count": null,
      "outputs": [
        {
          "output_type": "stream",
          "text": [
            "{'Ikram', 'Chintu', 'Neha', 'Arash', 'Medha', 'Makhi', 'Vishal'}\n"
          ],
          "name": "stdout"
        }
      ]
    },
    {
      "cell_type": "markdown",
      "metadata": {
        "id": "QTCMP9DPBICf"
      },
      "source": [
        "##Partial Function"
      ]
    },
    {
      "cell_type": "code",
      "metadata": {
        "id": "3ozDvJhWDhZb"
      },
      "source": [
        "from functools import partial"
      ],
      "execution_count": null,
      "outputs": []
    },
    {
      "cell_type": "code",
      "metadata": {
        "id": "-cgvzb96DoYE"
      },
      "source": [
        "def add(x, y):\n",
        "  return x + y"
      ],
      "execution_count": null,
      "outputs": []
    },
    {
      "cell_type": "code",
      "metadata": {
        "id": "EmxJoZQcDwGc"
      },
      "source": [
        "new_par = partial(add, 3) #3 will replace x in add()"
      ],
      "execution_count": null,
      "outputs": []
    },
    {
      "cell_type": "code",
      "metadata": {
        "colab": {
          "base_uri": "https://localhost:8080/"
        },
        "id": "AHTJJa4NDy7W",
        "outputId": "c39ab7fc-abc4-4496-daa3-d8992801815e"
      },
      "source": [
        "new_par(2)"
      ],
      "execution_count": null,
      "outputs": [
        {
          "output_type": "execute_result",
          "data": {
            "text/plain": [
              "5"
            ]
          },
          "metadata": {
            "tags": []
          },
          "execution_count": 67
        }
      ]
    },
    {
      "cell_type": "code",
      "metadata": {
        "id": "88ZdQxISD2H-"
      },
      "source": [
        "def add3(x, y, z):\n",
        "  return x + y + z"
      ],
      "execution_count": null,
      "outputs": []
    },
    {
      "cell_type": "code",
      "metadata": {
        "id": "PZJwqva1ElEI"
      },
      "source": [
        "new_par_3 = partial(add3, 3, 2)"
      ],
      "execution_count": null,
      "outputs": []
    },
    {
      "cell_type": "code",
      "metadata": {
        "colab": {
          "base_uri": "https://localhost:8080/"
        },
        "id": "Chdd5tQmErOh",
        "outputId": "d9e6612d-1545-4818-9e85-814642dc5aed"
      },
      "source": [
        "new_par_3(0)"
      ],
      "execution_count": null,
      "outputs": [
        {
          "output_type": "execute_result",
          "data": {
            "text/plain": [
              "5"
            ]
          },
          "metadata": {
            "tags": []
          },
          "execution_count": 74
        }
      ]
    },
    {
      "cell_type": "code",
      "metadata": {
        "colab": {
          "base_uri": "https://localhost:8080/"
        },
        "id": "gRrs0xnbE6hL",
        "outputId": "aca6fb94-e8b1-4d3b-92cc-dab2323e146c"
      },
      "source": [
        "#Following is the exercise, function provided:\n",
        "from functools import partial\n",
        "def func(u,v,w,x):\n",
        "    return u*4 + v*3 + w*2 + x\n",
        "#Enter your code here to create and print with your partial function\n",
        "new_par = partial(func, 3, 4, 12)\n",
        "\n",
        "print(new_par(12))"
      ],
      "execution_count": null,
      "outputs": [
        {
          "output_type": "stream",
          "text": [
            "60\n"
          ],
          "name": "stdout"
        }
      ]
    },
    {
      "cell_type": "code",
      "metadata": {
        "colab": {
          "base_uri": "https://localhost:8080/"
        },
        "id": "3zMxOIYwGo-v",
        "outputId": "8864b52c-86cc-4d53-bf77-05801a360b9e"
      },
      "source": [
        "def print_msg(number):\n",
        "    def printer():\n",
        "        \"Here we are using the nonlocal keyword\"\n",
        "        nonlocal number\n",
        "        number=3\n",
        "        print(number)\n",
        "    printer()\n",
        "    print(number)\n",
        "\n",
        "print_msg(9)"
      ],
      "execution_count": null,
      "outputs": [
        {
          "output_type": "stream",
          "text": [
            "3\n",
            "3\n"
          ],
          "name": "stdout"
        }
      ]
    },
    {
      "cell_type": "code",
      "metadata": {
        "colab": {
          "base_uri": "https://localhost:8080/"
        },
        "id": "uNi3N7wUHHZ1",
        "outputId": "4955e827-7c18-4b72-b213-fe7409a7c35b"
      },
      "source": [
        "lambda x, y: x ** y"
      ],
      "execution_count": null,
      "outputs": [
        {
          "output_type": "execute_result",
          "data": {
            "text/plain": [
              "<function __main__.<lambda>>"
            ]
          },
          "metadata": {
            "tags": []
          },
          "execution_count": 90
        }
      ]
    },
    {
      "cell_type": "code",
      "metadata": {
        "colab": {
          "base_uri": "https://localhost:8080/"
        },
        "id": "6wmJQnmAIVOl",
        "outputId": "bfd34051-9c73-484b-c830-868da04d758c"
      },
      "source": [
        "raise_to(2, 3)"
      ],
      "execution_count": null,
      "outputs": [
        {
          "output_type": "execute_result",
          "data": {
            "text/plain": [
              "8"
            ]
          },
          "metadata": {
            "tags": []
          },
          "execution_count": 91
        }
      ]
    },
    {
      "cell_type": "markdown",
      "metadata": {
        "id": "ueOqpNOAKm6S"
      },
      "source": [
        "##Map, Zip, Filter, Reduece"
      ]
    },
    {
      "cell_type": "markdown",
      "metadata": {
        "id": "DmFUrn7is_TN"
      },
      "source": [
        "###Map"
      ]
    },
    {
      "cell_type": "code",
      "metadata": {
        "colab": {
          "base_uri": "https://localhost:8080/"
        },
        "id": "Gcvm1LISIaOW",
        "outputId": "672352e6-68e1-4d86-85db-0b3d410bfef6"
      },
      "source": [
        "my_pets = ['alfred', 'tabitha', 'william', 'arla']\n",
        "\n",
        "upper_pets = set(map(str.upper, my_pets))\n",
        "\n",
        "print(upper_pets)"
      ],
      "execution_count": null,
      "outputs": [
        {
          "output_type": "stream",
          "text": [
            "{'ALFRED', 'ARLA', 'TABITHA', 'WILLIAM'}\n"
          ],
          "name": "stdout"
        }
      ]
    },
    {
      "cell_type": "code",
      "metadata": {
        "id": "hjGO6cqzK_B-",
        "colab": {
          "base_uri": "https://localhost:8080/"
        },
        "outputId": "8ca62536-ffaf-4edf-c2c1-d92dd4032486"
      },
      "source": [
        "lower_word = [chr(i)for i in range(97, 123)]\n",
        "\n",
        "print(lower_word)"
      ],
      "execution_count": null,
      "outputs": [
        {
          "output_type": "stream",
          "text": [
            "['a', 'b', 'c', 'd', 'e', 'f', 'g', 'h', 'i', 'j', 'k', 'l', 'm', 'n', 'o', 'p', 'q', 'r', 's', 't', 'u', 'v', 'w', 'x', 'y', 'z']\n"
          ],
          "name": "stdout"
        }
      ]
    },
    {
      "cell_type": "code",
      "metadata": {
        "colab": {
          "base_uri": "https://localhost:8080/"
        },
        "id": "BnlHkLgroA2g",
        "outputId": "f243a164-68f3-4918-a103-3b758a92bcd1"
      },
      "source": [
        "lower_word_map = list(map(chr, range(97, 123)))\n",
        "\n",
        "print(lower_word_map)"
      ],
      "execution_count": null,
      "outputs": [
        {
          "output_type": "stream",
          "text": [
            "['a', 'b', 'c', 'd', 'e', 'f', 'g', 'h', 'i', 'j', 'k', 'l', 'm', 'n', 'o', 'p', 'q', 'r', 's', 't', 'u', 'v', 'w', 'x', 'y', 'z']\n"
          ],
          "name": "stdout"
        }
      ]
    },
    {
      "cell_type": "code",
      "metadata": {
        "colab": {
          "base_uri": "https://localhost:8080/"
        },
        "id": "mkXcaEGKoVK9",
        "outputId": "272a7afb-16fa-463c-9ea3-58023a5ec5a8"
      },
      "source": [
        "#Upper all letters with map\n",
        "upper_words = list(map(str.upper, map(chr, range(97, 123))))\n",
        "\n",
        "print(upper_words)"
      ],
      "execution_count": null,
      "outputs": [
        {
          "output_type": "stream",
          "text": [
            "['A', 'B', 'C', 'D', 'E', 'F', 'G', 'H', 'I', 'J', 'K', 'L', 'M', 'N', 'O', 'P', 'Q', 'R', 'S', 'T', 'U', 'V', 'W', 'X', 'Y', 'Z']\n"
          ],
          "name": "stdout"
        }
      ]
    },
    {
      "cell_type": "code",
      "metadata": {
        "colab": {
          "base_uri": "https://localhost:8080/"
        },
        "id": "TfG1LeNMvYSU",
        "outputId": "cea03faa-3296-4a0a-e6a8-dd9585611f9b"
      },
      "source": [
        "circle_areas = [3.56773, 5.57668, 4.00914, 56.24241, 9.01344, 32.00013]\n",
        "\n",
        "rouded_area = list(map(round, circle_areas, range(0, len(circle_areas))))\n",
        "\n",
        "print(rouded_area)"
      ],
      "execution_count": null,
      "outputs": [
        {
          "output_type": "stream",
          "text": [
            "[4.0, 5.6, 4.01, 56.242, 9.0134, 32.00013]\n"
          ],
          "name": "stdout"
        }
      ]
    },
    {
      "cell_type": "code",
      "metadata": {
        "colab": {
          "base_uri": "https://localhost:8080/"
        },
        "id": "_T9Ca0pTz1xg",
        "outputId": "bc3d2128-71bb-43ab-9870-c20812d9e19d"
      },
      "source": [
        "#combining two iterables and zipping them in a tuple\n",
        "\n",
        "zipped = list(zip(circle_areas, rouded_area))\n",
        "\n",
        "print(zipped)"
      ],
      "execution_count": null,
      "outputs": [
        {
          "output_type": "stream",
          "text": [
            "[(3.56773, 4.0), (5.57668, 5.6), (4.00914, 4.01), (56.24241, 56.242), (9.01344, 9.0134), (32.00013, 32.00013)]\n"
          ],
          "name": "stdout"
        }
      ]
    },
    {
      "cell_type": "code",
      "metadata": {
        "colab": {
          "base_uri": "https://localhost:8080/"
        },
        "id": "xDWgOPh11fDQ",
        "outputId": "168f6f65-d751-4f38-99a2-33008014cda5"
      },
      "source": [
        "my_strings = ['a', 'b', 'c', 'd', 'e']\n",
        "my_numbers = [1,2,3,4,5]\n",
        "\n",
        "combined_lambda = list(map(lambda x, y: (x, y), my_strings, my_numbers))\n",
        "\n",
        "print(combined_lambda)"
      ],
      "execution_count": null,
      "outputs": [
        {
          "output_type": "stream",
          "text": [
            "[('a', 1), ('b', 2), ('c', 3), ('d', 4), ('e', 5)]\n"
          ],
          "name": "stdout"
        }
      ]
    },
    {
      "cell_type": "markdown",
      "metadata": {
        "id": "wN2TWEiItCh6"
      },
      "source": [
        "###Zip"
      ]
    },
    {
      "cell_type": "code",
      "metadata": {
        "colab": {
          "base_uri": "https://localhost:8080/"
        },
        "id": "INDPyazH0rOd",
        "outputId": "6b98b818-4f49-4b08-f3d4-7e84c66e8f6a"
      },
      "source": [
        "my_strings = ['a', 'b', 'c', 'd', 'e']\n",
        "my_numbers = [1,2,3,4,5]\n",
        "\n",
        "combined = list(zip(my_strings, my_numbers))\n",
        "\n",
        "print(combined)"
      ],
      "execution_count": null,
      "outputs": [
        {
          "output_type": "stream",
          "text": [
            "[('a', 1), ('b', 2), ('c', 3), ('d', 4), ('e', 5)]\n"
          ],
          "name": "stdout"
        }
      ]
    },
    {
      "cell_type": "code",
      "metadata": {
        "colab": {
          "base_uri": "https://localhost:8080/"
        },
        "id": "fNUcXORC04pH",
        "outputId": "df2f2608-24bd-4de9-eb73-f57f713b867f"
      },
      "source": [
        "list(map(lambda x, y: (x, y), my_strings, my_numbers)) == list(zip(my_strings, my_numbers))"
      ],
      "execution_count": null,
      "outputs": [
        {
          "output_type": "execute_result",
          "data": {
            "text/plain": [
              "True"
            ]
          },
          "metadata": {
            "tags": []
          },
          "execution_count": 50
        }
      ]
    },
    {
      "cell_type": "code",
      "metadata": {
        "id": "kKJZV1hV2tsu",
        "colab": {
          "base_uri": "https://localhost:8080/"
        },
        "outputId": "39a727cf-89ce-471a-aef3-717b39149ca6"
      },
      "source": [
        "a, b = 'n', 'k'\n",
        "try:\n",
        "  str.upper(a, b)\n",
        "except TypeError as te:\n",
        "  print(f'str.upper error: {te}')"
      ],
      "execution_count": null,
      "outputs": [
        {
          "output_type": "stream",
          "text": [
            "str.upper error: upper() takes no arguments (1 given)\n"
          ],
          "name": "stdout"
        }
      ]
    },
    {
      "cell_type": "code",
      "metadata": {
        "colab": {
          "base_uri": "https://localhost:8080/"
        },
        "id": "nlqe2CHOpfKn",
        "outputId": "29a30d61-87ec-4fd4-decc-b71ca219a373"
      },
      "source": [
        "scores = [66, 90, 68, 59, 76, 60, 88, 74, 81, 65]\n",
        "\n",
        "passed = list(map(lambda x: x > 75, scores))\n",
        "\n",
        "print(passed)"
      ],
      "execution_count": null,
      "outputs": [
        {
          "output_type": "stream",
          "text": [
            "[False, True, False, False, True, False, True, False, True, False]\n"
          ],
          "name": "stdout"
        }
      ]
    },
    {
      "cell_type": "markdown",
      "metadata": {
        "id": "ymDMI3PItKbB"
      },
      "source": [
        "###Filter"
      ]
    },
    {
      "cell_type": "code",
      "metadata": {
        "colab": {
          "base_uri": "https://localhost:8080/"
        },
        "id": "wtr5X15dqgna",
        "outputId": "cb5c4792-b56c-4a86-dfe5-f2a3acd86a1b"
      },
      "source": [
        "scores = [66, 90, 68, 59, 76, 60, 88, 74, 81, 65]\n",
        "\n",
        "def passing_student(score):\n",
        "  return score > 75\n",
        "\n",
        "passed = list(filter(passing_student, scores))\n",
        "\n",
        "print(passed)"
      ],
      "execution_count": null,
      "outputs": [
        {
          "output_type": "stream",
          "text": [
            "[90, 76, 88, 81]\n"
          ],
          "name": "stdout"
        }
      ]
    },
    {
      "cell_type": "code",
      "metadata": {
        "colab": {
          "base_uri": "https://localhost:8080/"
        },
        "id": "oFJABX6CqMJM",
        "outputId": "7c6cf4c1-341d-47b2-90f2-4d1136bbbd42"
      },
      "source": [
        "scores = [66, 90, 68, 59, 76, 60, 88, 74, 81, 65]\n",
        "\n",
        "passed = list(filter(lambda x: x > 75, scores))\n",
        "\n",
        "print(passed)"
      ],
      "execution_count": null,
      "outputs": [
        {
          "output_type": "stream",
          "text": [
            "[90, 76, 88, 81]\n"
          ],
          "name": "stdout"
        }
      ]
    },
    {
      "cell_type": "code",
      "metadata": {
        "colab": {
          "base_uri": "https://localhost:8080/"
        },
        "id": "JuKdvCaiqeNS",
        "outputId": "5dd0e178-dcd7-4388-ef66-50bf4a851327"
      },
      "source": [
        "dromes = (\"demigod\", \"rewire\", \"madam\", \"freer\", \"anutforajaroftuna\", \"kiosk\")\n",
        "\n",
        "def palindrome(n):\n",
        "  return n == n[::-1]\n",
        "\n",
        "filtered = tuple(filter(palindrome, dromes))\n",
        "\n",
        "print(filtered)"
      ],
      "execution_count": null,
      "outputs": [
        {
          "output_type": "stream",
          "text": [
            "('madam', 'anutforajaroftuna')\n"
          ],
          "name": "stdout"
        }
      ]
    },
    {
      "cell_type": "code",
      "metadata": {
        "id": "bRxlT5mhrUzA"
      },
      "source": [
        "dromes = (\"demigod\", \"rewire\", \"madam\", \"freer\", \"anutforajaroftuna\", \"kiosk\")\n",
        "\n",
        "filtered = tuple(filter(lambda word: word == word[::-1], dromes))\n",
        "\n",
        "print(filtered)"
      ],
      "execution_count": null,
      "outputs": []
    },
    {
      "cell_type": "markdown",
      "metadata": {
        "id": "Vi-7M-tptMQx"
      },
      "source": [
        "###Reduce"
      ]
    },
    {
      "cell_type": "code",
      "metadata": {
        "colab": {
          "base_uri": "https://localhost:8080/"
        },
        "id": "QBchiPCatNSl",
        "outputId": "ad718bcb-064c-454c-a140-f00a2659eea1"
      },
      "source": [
        "#Reduce(func, iterable) -> the func takes 2 arguments\n",
        "from functools import reduce\n",
        "\n",
        "numbers = [3, 4, 6, 9, 34, 12]\n",
        "\n",
        "def custom_sum(first, second):\n",
        "  return first + second\n",
        "\n",
        "result = reduce(custom_sum, numbers, 100)\n",
        "\n",
        "print(result)"
      ],
      "execution_count": null,
      "outputs": [
        {
          "output_type": "stream",
          "text": [
            "168\n"
          ],
          "name": "stdout"
        }
      ]
    },
    {
      "cell_type": "code",
      "metadata": {
        "colab": {
          "base_uri": "https://localhost:8080/"
        },
        "id": "K1i3q28BuywW",
        "outputId": "e4cd15d0-39aa-40af-f59e-dcf57f07702d"
      },
      "source": [
        "#Reduce(func, iterable) -> the func takes 2 arguments\n",
        "from functools import reduce\n",
        "\n",
        "numbers = [3, 4, 6, 9, 34, 12]\n",
        "numbers2 = [4, 5, 7, 10, 35, 13]\n",
        "\n",
        "result = reduce(lambda x, y: x + y, numbers, 100)\n",
        "\n",
        "print(result)"
      ],
      "execution_count": null,
      "outputs": [
        {
          "output_type": "stream",
          "text": [
            "168\n"
          ],
          "name": "stdout"
        }
      ]
    },
    {
      "cell_type": "code",
      "metadata": {
        "colab": {
          "base_uri": "https://localhost:8080/"
        },
        "id": "sVx8o1d0vItm",
        "outputId": "6138f0a5-e291-4b53-fdf7-d4197e3845bf"
      },
      "source": [
        "from functools import reduce \n",
        "\n",
        "# Use map to print the square of each numbers rounded\n",
        "# to three decimal places\n",
        "my_floats = [4.35, 6.09, 3.25, 9.77, 2.16, 8.88, 4.59]\n",
        "\n",
        "# map_result = [round(i**2, 3) for i in my_floats]\n",
        "\n",
        "map_result = list(map(lambda x: round(x**2, 3), my_floats))\n",
        "\n",
        "# Use filter to print only the names that are less than \n",
        "# or equal to seven letters\n",
        "my_names = [\"olumide\", \"akinremi\", \"josiah\", \"temidayo\", \"omoseun\"]\n",
        "\n",
        "filter_result = list(filter(lambda x: len(x) <= 7, my_names))\n",
        "\n",
        "# Use reduce to print the product of these numbers\n",
        "my_numbers = [4, 6, 9, 23, 5]\n",
        "\n",
        "reduce_result = reduce(lambda x, y: (x * y), my_numbers)\n",
        "\n",
        "# Fix all three respectively.\n",
        "map_result = list(map(lambda x: x, my_floats))\n",
        "filter_result = list(filter(lambda name: name, my_names, my_names))\n",
        "reduce_result = reduce(lambda num1, num2: num1 * num2, my_numbers)\n",
        "\n",
        "print(map_result)\n",
        "print(filter_result)\n",
        "print(reduce_result)"
      ],
      "execution_count": null,
      "outputs": [
        {
          "output_type": "stream",
          "text": [
            "[18.922, 37.088, 10.562, 95.453, 4.666, 78.854, 21.068]\n",
            "['olumide', 'josiah', 'omoseun']\n",
            "24840\n"
          ],
          "name": "stdout"
        }
      ]
    },
    {
      "cell_type": "code",
      "metadata": {
        "colab": {
          "base_uri": "https://localhost:8080/"
        },
        "id": "eQ6_R_O-P6tv",
        "outputId": "c13731cd-f230-4ddb-aa4f-395b738460c4"
      },
      "source": [
        "False and False"
      ],
      "execution_count": null,
      "outputs": [
        {
          "output_type": "execute_result",
          "data": {
            "text/plain": [
              "False"
            ]
          },
          "metadata": {
            "tags": []
          },
          "execution_count": 185
        }
      ]
    },
    {
      "cell_type": "code",
      "metadata": {
        "colab": {
          "base_uri": "https://localhost:8080/"
        },
        "id": "_36vM5a2Js5N",
        "outputId": "29a2032b-9886-4538-a8f1-4fc4a8c9dfe5"
      },
      "source": [
        "if True or False and False: \n",
        "  print('Yes')"
      ],
      "execution_count": null,
      "outputs": [
        {
          "output_type": "stream",
          "text": [
            "Yes\n"
          ],
          "name": "stdout"
        }
      ]
    },
    {
      "cell_type": "code",
      "metadata": {
        "colab": {
          "base_uri": "https://localhost:8080/",
          "height": 35
        },
        "id": "BiQb0r3y4lE2",
        "outputId": "2fc7d96a-b721-4ffd-d77d-7ed672795de7"
      },
      "source": [
        "string = 'yo yo'\n",
        "\n",
        "' '.join([x.capitalize() for x in string.split()])"
      ],
      "execution_count": null,
      "outputs": [
        {
          "output_type": "execute_result",
          "data": {
            "application/vnd.google.colaboratory.intrinsic+json": {
              "type": "string"
            },
            "text/plain": [
              "'Yo Yo'"
            ]
          },
          "metadata": {
            "tags": []
          },
          "execution_count": 174
        }
      ]
    },
    {
      "cell_type": "code",
      "metadata": {
        "colab": {
          "base_uri": "https://localhost:8080/",
          "height": 35
        },
        "id": "rYJz67m1JT5V",
        "outputId": "b3991b81-5020-41f3-ae36-31e903ec8119"
      },
      "source": [
        "' '.join(['a', 'b', 'c'])"
      ],
      "execution_count": null,
      "outputs": [
        {
          "output_type": "execute_result",
          "data": {
            "application/vnd.google.colaboratory.intrinsic+json": {
              "type": "string"
            },
            "text/plain": [
              "'a b c'"
            ]
          },
          "metadata": {
            "tags": []
          },
          "execution_count": 176
        }
      ]
    },
    {
      "cell_type": "code",
      "metadata": {
        "colab": {
          "base_uri": "https://localhost:8080/",
          "height": 35
        },
        "id": "ThBlLFl-Jg0L",
        "outputId": "2aa1a1dc-7518-42b6-ddd8-a3bf61a8431d"
      },
      "source": [
        "string.capitalize()"
      ],
      "execution_count": null,
      "outputs": [
        {
          "output_type": "execute_result",
          "data": {
            "application/vnd.google.colaboratory.intrinsic+json": {
              "type": "string"
            },
            "text/plain": [
              "'Yo yo'"
            ]
          },
          "metadata": {
            "tags": []
          },
          "execution_count": 177
        }
      ]
    },
    {
      "cell_type": "code",
      "metadata": {
        "colab": {
          "base_uri": "https://localhost:8080/"
        },
        "id": "MXwtL78QE5t4",
        "outputId": "113b71ef-b49b-4571-b6c5-de8df7e15943"
      },
      "source": [
        "a = \"1, 2, 3\"\n",
        "\n",
        "if a.isnumeric"
      ],
      "execution_count": null,
      "outputs": [
        {
          "output_type": "execute_result",
          "data": {
            "text/plain": [
              "8"
            ]
          },
          "metadata": {
            "tags": []
          },
          "execution_count": 155
        }
      ]
    },
    {
      "cell_type": "code",
      "metadata": {
        "colab": {
          "base_uri": "https://localhost:8080/",
          "height": 130
        },
        "id": "8Sj400pUEeMV",
        "outputId": "73602b8e-36db-4439-a661-413aac0c1daf"
      },
      "source": [
        "if a !== True:\n",
        "  print('not true')"
      ],
      "execution_count": null,
      "outputs": [
        {
          "output_type": "error",
          "ename": "SyntaxError",
          "evalue": "ignored",
          "traceback": [
            "\u001b[0;36m  File \u001b[0;32m\"<ipython-input-148-a2acd4eb7512>\"\u001b[0;36m, line \u001b[0;32m1\u001b[0m\n\u001b[0;31m    if a !== True:\u001b[0m\n\u001b[0m           ^\u001b[0m\n\u001b[0;31mSyntaxError\u001b[0m\u001b[0;31m:\u001b[0m invalid syntax\n"
          ]
        }
      ]
    },
    {
      "cell_type": "code",
      "metadata": {
        "colab": {
          "base_uri": "https://localhost:8080/"
        },
        "id": "cP_nGtIyExo6",
        "outputId": "666d063b-e7a4-4917-80c5-cac725e13bff"
      },
      "source": [
        "if a is not True:\n",
        "  print('not true')"
      ],
      "execution_count": null,
      "outputs": [
        {
          "output_type": "stream",
          "text": [
            "not true\n"
          ],
          "name": "stdout"
        }
      ]
    },
    {
      "cell_type": "code",
      "metadata": {
        "colab": {
          "base_uri": "https://localhost:8080/"
        },
        "id": "EzB6I4TyDsW2",
        "outputId": "6284a9c2-1fc8-47ce-b634-523081ccdb2f"
      },
      "source": [
        "a[::2]"
      ],
      "execution_count": null,
      "outputs": [
        {
          "output_type": "execute_result",
          "data": {
            "text/plain": [
              "[1, 4, 4, 1]"
            ]
          },
          "metadata": {
            "tags": []
          },
          "execution_count": 139
        }
      ]
    },
    {
      "cell_type": "code",
      "metadata": {
        "colab": {
          "base_uri": "https://localhost:8080/"
        },
        "id": "1jgaLgteB0oX",
        "outputId": "8339d1f9-3c39-4ac8-d39b-3f022894ebc9"
      },
      "source": [
        "from random import shuffle\n",
        "\n",
        "aa = shuffle(a)\n",
        "\n",
        "print(aa)"
      ],
      "execution_count": null,
      "outputs": [
        {
          "output_type": "stream",
          "text": [
            "None\n"
          ],
          "name": "stdout"
        }
      ]
    },
    {
      "cell_type": "code",
      "metadata": {
        "colab": {
          "base_uri": "https://localhost:8080/"
        },
        "id": "DBLGiMPNBOgt",
        "outputId": "e320b9a2-cc65-4b4d-eaf4-cc2d6bdafc5c"
      },
      "source": [
        "aa = list(reversed(a))\n",
        "\n",
        "aa"
      ],
      "execution_count": null,
      "outputs": [
        {
          "output_type": "execute_result",
          "data": {
            "text/plain": [
              "[3, 4, 2, 1]"
            ]
          },
          "metadata": {
            "tags": []
          },
          "execution_count": 107
        }
      ]
    },
    {
      "cell_type": "code",
      "metadata": {
        "colab": {
          "base_uri": "https://localhost:8080/"
        },
        "id": "Q6sEen1jBDGe",
        "outputId": "a0e7faeb-f62f-474c-8620-1204e5e49952"
      },
      "source": [
        "a.pop(3)\n",
        "\n",
        "a"
      ],
      "execution_count": null,
      "outputs": [
        {
          "output_type": "execute_result",
          "data": {
            "text/plain": [
              "[1, 2, 4]"
            ]
          },
          "metadata": {
            "tags": []
          },
          "execution_count": 100
        }
      ]
    },
    {
      "cell_type": "code",
      "metadata": {
        "colab": {
          "base_uri": "https://localhost:8080/"
        },
        "id": "XlOGpEg3AfEH",
        "outputId": "9522a0db-f4ab-4acf-8e5e-d1f169cafbe4"
      },
      "source": [
        "if 3 in a:\n",
        "  a.remove(3)\n",
        "\n",
        "a"
      ],
      "execution_count": null,
      "outputs": [
        {
          "output_type": "execute_result",
          "data": {
            "text/plain": [
              "[1, 2, 4]"
            ]
          },
          "metadata": {
            "tags": []
          },
          "execution_count": 96
        }
      ]
    },
    {
      "cell_type": "code",
      "metadata": {
        "colab": {
          "base_uri": "https://localhost:8080/"
        },
        "id": "yywSwBrq_nHx",
        "outputId": "fbce08f2-f45a-4098-ed58-1c839d8f0604"
      },
      "source": [
        "a.extend([3])\n",
        "\n",
        "a"
      ],
      "execution_count": null,
      "outputs": [
        {
          "output_type": "execute_result",
          "data": {
            "text/plain": [
              "[1, 2, 3]"
            ]
          },
          "metadata": {
            "tags": []
          },
          "execution_count": 78
        }
      ]
    },
    {
      "cell_type": "code",
      "metadata": {
        "id": "Yc031DzF_-HJ"
      },
      "source": [
        "del a[-1]"
      ],
      "execution_count": null,
      "outputs": []
    },
    {
      "cell_type": "code",
      "metadata": {
        "colab": {
          "base_uri": "https://localhost:8080/"
        },
        "id": "M2RQ_c3XAQD2",
        "outputId": "44475739-a9e4-4667-fe43-9bef27d1d95a"
      },
      "source": [
        "a"
      ],
      "execution_count": null,
      "outputs": [
        {
          "output_type": "execute_result",
          "data": {
            "text/plain": [
              "[1, 2]"
            ]
          },
          "metadata": {
            "tags": []
          },
          "execution_count": 80
        }
      ]
    },
    {
      "cell_type": "code",
      "metadata": {
        "id": "Wl9zWZrJAQix"
      },
      "source": [
        "del a[0]"
      ],
      "execution_count": null,
      "outputs": []
    },
    {
      "cell_type": "code",
      "metadata": {
        "colab": {
          "base_uri": "https://localhost:8080/"
        },
        "id": "y-ioRHPtAU2z",
        "outputId": "1a3e4c53-ad31-4cf4-cc3d-e7282e6f2ede"
      },
      "source": [
        "a"
      ],
      "execution_count": null,
      "outputs": [
        {
          "output_type": "execute_result",
          "data": {
            "text/plain": [
              "[2]"
            ]
          },
          "metadata": {
            "tags": []
          },
          "execution_count": 82
        }
      ]
    },
    {
      "cell_type": "code",
      "metadata": {
        "colab": {
          "base_uri": "https://localhost:8080/"
        },
        "id": "i7gqcOh5AVX5",
        "outputId": "b3c92d65-7f77-47e6-b38c-7dc64b6df9e0"
      },
      "source": [
        "name = 'nitesh'\n",
        "\n",
        "result = 'yes' if name == 'nitesh' else 'no'\n",
        "\n",
        "print(result)"
      ],
      "execution_count": null,
      "outputs": [
        {
          "output_type": "stream",
          "text": [
            "yes\n"
          ],
          "name": "stdout"
        }
      ]
    },
    {
      "cell_type": "code",
      "metadata": {
        "id": "vbKkVltmQpZg",
        "colab": {
          "base_uri": "https://localhost:8080/"
        },
        "outputId": "85ae759e-f278-43f8-a3a5-db67e02b7686"
      },
      "source": [
        "count = 0\n",
        "\n",
        "while True:\n",
        "  print(count)\n",
        "  count+=1\n",
        "  if count >= 5:\n",
        "    break\n",
        "  else:\n",
        "    print('count value reached %d' %)"
      ],
      "execution_count": null,
      "outputs": [
        {
          "output_type": "stream",
          "text": [
            "0\n"
          ],
          "name": "stdout"
        }
      ]
    },
    {
      "cell_type": "code",
      "metadata": {
        "colab": {
          "base_uri": "https://localhost:8080/"
        },
        "id": "rVamZNvGy8mf",
        "outputId": "e822cd7b-d874-4b20-f5ef-d285fec327b0"
      },
      "source": [
        "for i in range(6):\n",
        "  if i % 2 == 0:\n",
        "    pass\n",
        "  print(i)\n"
      ],
      "execution_count": null,
      "outputs": [
        {
          "output_type": "stream",
          "text": [
            "0\n",
            "1\n",
            "2\n",
            "3\n",
            "4\n",
            "5\n"
          ],
          "name": "stdout"
        }
      ]
    },
    {
      "cell_type": "code",
      "metadata": {
        "colab": {
          "base_uri": "https://localhost:8080/"
        },
        "id": "GeZgM6HpzZVI",
        "outputId": "394d08f4-26f4-4832-b421-905e04a5cee7"
      },
      "source": [
        "for i in range(6):\n",
        "  if i % 2 == 0:\n",
        "    continue\n",
        "  print(i)\n"
      ],
      "execution_count": null,
      "outputs": [
        {
          "output_type": "stream",
          "text": [
            "0\n",
            "2\n",
            "4\n"
          ],
          "name": "stdout"
        }
      ]
    },
    {
      "cell_type": "code",
      "metadata": {
        "colab": {
          "base_uri": "https://localhost:8080/"
        },
        "id": "ltNN2y1VzrH8",
        "outputId": "660e6bf7-8547-49d0-8cb3-8c7e00ef3299"
      },
      "source": [
        "for i in range(1, 10):\n",
        "  print(i)\n",
        "\n",
        "  if i % 5 == 0:\n",
        "    break\n",
        "  else:\n",
        "    print('i reached %d' % (i))"
      ],
      "execution_count": null,
      "outputs": [
        {
          "output_type": "stream",
          "text": [
            "1\n",
            "i reached 1\n",
            "2\n",
            "i reached 2\n",
            "3\n",
            "i reached 3\n",
            "4\n",
            "i reached 4\n",
            "5\n"
          ],
          "name": "stdout"
        }
      ]
    },
    {
      "cell_type": "code",
      "metadata": {
        "colab": {
          "base_uri": "https://localhost:8080/"
        },
        "id": "NELHCyFE1PZ2",
        "outputId": "e7eb4124-9644-4f91-ccca-6f404f7b22e8"
      },
      "source": [
        "count = 0\n",
        "\n",
        "while True:\n",
        "  print(count)\n",
        "  count+=1\n",
        "  if count >= 5:\n",
        "    break\n",
        "  else:\n",
        "    print('count value reached %d' % count)"
      ],
      "execution_count": null,
      "outputs": [
        {
          "output_type": "stream",
          "text": [
            "0\n",
            "count value reached 1\n",
            "1\n",
            "count value reached 2\n",
            "2\n",
            "count value reached 3\n",
            "3\n",
            "count value reached 4\n",
            "4\n"
          ],
          "name": "stdout"
        }
      ]
    },
    {
      "cell_type": "code",
      "metadata": {
        "id": "HAKDlQFq1V6A"
      },
      "source": [
        "a = [1, 2]\n",
        "\n",
        "a.pop()\n",
        "a\n",
        "\n",
        "a.pop()\n",
        "\n",
        "a\n",
        "\n",
        "if a:\n",
        "  print('T')"
      ],
      "execution_count": null,
      "outputs": []
    },
    {
      "cell_type": "code",
      "metadata": {
        "colab": {
          "base_uri": "https://localhost:8080/"
        },
        "id": "vd-6AV1016wc",
        "outputId": "c76035b7-0338-4428-e234-68ec8197ed35"
      },
      "source": [
        "a = [1, 2]\n",
        "\n",
        "while a:\n",
        "  print(a.pop())"
      ],
      "execution_count": null,
      "outputs": [
        {
          "output_type": "stream",
          "text": [
            "2\n",
            "1\n"
          ],
          "name": "stdout"
        }
      ]
    },
    {
      "cell_type": "code",
      "metadata": {
        "colab": {
          "base_uri": "https://localhost:8080/"
        },
        "id": "nSIrjOJO2GTF",
        "outputId": "00a61eae-cf7a-4dc3-cc02-b150e30fa913"
      },
      "source": [
        "a = [1, 2]\n",
        "\n",
        "while True:\n",
        "  if not a:\n",
        "    break\n",
        "  print(a.pop())"
      ],
      "execution_count": null,
      "outputs": [
        {
          "output_type": "stream",
          "text": [
            "2\n",
            "1\n"
          ],
          "name": "stdout"
        }
      ]
    },
    {
      "cell_type": "code",
      "metadata": {
        "colab": {
          "base_uri": "https://localhost:8080/"
        },
        "id": "582TWRa22Ubn",
        "outputId": "06ea3106-fcf6-48ac-ecbf-8f04ba4edcf6"
      },
      "source": [
        "a = ['a', 'b']\n",
        "\n",
        "while True:\n",
        "  if not a:\n",
        "    break\n",
        "  print(a.pop())"
      ],
      "execution_count": null,
      "outputs": [
        {
          "output_type": "stream",
          "text": [
            "b\n",
            "a\n"
          ],
          "name": "stdout"
        }
      ]
    },
    {
      "cell_type": "code",
      "metadata": {
        "colab": {
          "base_uri": "https://localhost:8080/"
        },
        "id": "An26Lsi02oTo",
        "outputId": "159481bb-cc14-4055-bb34-cdcc79dcbc39"
      },
      "source": [
        "num = 0\n",
        "\n",
        "while True:\n",
        "  num+=1\n",
        "\n",
        "  if num == 5:\n",
        "    break\n",
        "  print(num)"
      ],
      "execution_count": null,
      "outputs": [
        {
          "output_type": "stream",
          "text": [
            "1\n",
            "2\n",
            "3\n",
            "4\n"
          ],
          "name": "stdout"
        }
      ]
    },
    {
      "cell_type": "code",
      "metadata": {
        "colab": {
          "base_uri": "https://localhost:8080/"
        },
        "id": "34IVaDtr4fWd",
        "outputId": "16334ee7-b9a7-406a-9eba-ccd4d77d19bd"
      },
      "source": [
        "x = 0\n",
        "while True:\n",
        "  print(x)\n",
        "  x += 1\n",
        "\n",
        "  if (x > 4):\n",
        "    break"
      ],
      "execution_count": null,
      "outputs": [
        {
          "output_type": "stream",
          "text": [
            "0\n",
            "1\n",
            "2\n",
            "3\n",
            "4\n"
          ],
          "name": "stdout"
        }
      ]
    },
    {
      "cell_type": "code",
      "metadata": {
        "colab": {
          "base_uri": "https://localhost:8080/"
        },
        "id": "tSHtl0wM6Py4",
        "outputId": "6fe3ce6a-acf3-473e-e633-5e4a5ae605bb"
      },
      "source": [
        "count = 0\n",
        "\n",
        "for i in range(10, 20):\n",
        "  print(i)\n"
      ],
      "execution_count": null,
      "outputs": [
        {
          "output_type": "stream",
          "text": [
            "10\n",
            "11\n",
            "12\n",
            "13\n",
            "14\n",
            "15\n",
            "16\n",
            "17\n",
            "18\n",
            "19\n"
          ],
          "name": "stdout"
        }
      ]
    },
    {
      "cell_type": "code",
      "metadata": {
        "id": "4ZhWS6Gj7oLF"
      },
      "source": [
        "def my(name, age):\n",
        "  print(name + str(age))\n",
        "\n"
      ],
      "execution_count": null,
      "outputs": []
    },
    {
      "cell_type": "code",
      "metadata": {
        "colab": {
          "base_uri": "https://localhost:8080/"
        },
        "id": "U7M9wIrBH2Zo",
        "outputId": "626232d6-c75e-4248-8820-dc4a7981fc4d"
      },
      "source": [
        "my(age=31, name='Nit')"
      ],
      "execution_count": null,
      "outputs": [
        {
          "output_type": "stream",
          "text": [
            "Nit31\n"
          ],
          "name": "stdout"
        }
      ]
    },
    {
      "cell_type": "code",
      "metadata": {
        "colab": {
          "base_uri": "https://localhost:8080/"
        },
        "id": "Fa3zRuiaIIFE",
        "outputId": "c4763bfa-fead-4744-c350-5036d56bf4cb"
      },
      "source": [
        "my(name='Nit',age=31)"
      ],
      "execution_count": null,
      "outputs": [
        {
          "output_type": "stream",
          "text": [
            "Nit31\n"
          ],
          "name": "stdout"
        }
      ]
    },
    {
      "cell_type": "code",
      "metadata": {
        "id": "ls-sfvQiIK-Q"
      },
      "source": [
        "def me():\n",
        "  return print('nn') is None"
      ],
      "execution_count": null,
      "outputs": []
    },
    {
      "cell_type": "code",
      "metadata": {
        "colab": {
          "base_uri": "https://localhost:8080/"
        },
        "id": "EGh-qB-CPtwc",
        "outputId": "3b2d69e2-8ae8-4c1b-ca4c-857433df0209"
      },
      "source": [
        "me()"
      ],
      "execution_count": null,
      "outputs": [
        {
          "output_type": "stream",
          "text": [
            "nn\n"
          ],
          "name": "stdout"
        },
        {
          "output_type": "execute_result",
          "data": {
            "text/plain": [
              "True"
            ]
          },
          "metadata": {
            "tags": []
          },
          "execution_count": 80
        }
      ]
    },
    {
      "cell_type": "code",
      "metadata": {
        "id": "CpRFx_i3PutB"
      },
      "source": [
        "a = [1, 2, 2, 2, 1]"
      ],
      "execution_count": null,
      "outputs": []
    },
    {
      "cell_type": "code",
      "metadata": {
        "id": "0CMjyVf0jvnd"
      },
      "source": [
        "a.sort()"
      ],
      "execution_count": null,
      "outputs": []
    },
    {
      "cell_type": "code",
      "metadata": {
        "colab": {
          "base_uri": "https://localhost:8080/"
        },
        "id": "mMqpLSRnjzsR",
        "outputId": "d1c16a7b-f5c0-4ad3-d340-8044aa67c3e6"
      },
      "source": [
        "a"
      ],
      "execution_count": null,
      "outputs": [
        {
          "output_type": "execute_result",
          "data": {
            "text/plain": [
              "[1, 1, 2, 2, 2]"
            ]
          },
          "metadata": {
            "tags": []
          },
          "execution_count": 22
        }
      ]
    },
    {
      "cell_type": "code",
      "metadata": {
        "id": "r83BWLPNj3T-"
      },
      "source": [
        "aa = list(reversed(a))"
      ],
      "execution_count": null,
      "outputs": []
    },
    {
      "cell_type": "code",
      "metadata": {
        "colab": {
          "base_uri": "https://localhost:8080/"
        },
        "id": "auvwZCRZlicy",
        "outputId": "c7ec0624-aa56-48ee-aa93-dfa4bfbc9f2e"
      },
      "source": [
        "aa"
      ],
      "execution_count": null,
      "outputs": [
        {
          "output_type": "execute_result",
          "data": {
            "text/plain": [
              "[2, 2, 2, 1, 1]"
            ]
          },
          "metadata": {
            "tags": []
          },
          "execution_count": 24
        }
      ]
    },
    {
      "cell_type": "code",
      "metadata": {
        "id": "0d-Fq0K7ljFK"
      },
      "source": [
        "a.reverse()"
      ],
      "execution_count": null,
      "outputs": []
    },
    {
      "cell_type": "code",
      "metadata": {
        "colab": {
          "base_uri": "https://localhost:8080/"
        },
        "id": "xF-V-b4Glm24",
        "outputId": "2345c28f-9d1f-4f61-8f13-d47bc79e9c3d"
      },
      "source": [
        "a"
      ],
      "execution_count": null,
      "outputs": [
        {
          "output_type": "execute_result",
          "data": {
            "text/plain": [
              "[2, 2, 2, 1, 1]"
            ]
          },
          "metadata": {
            "tags": []
          },
          "execution_count": 26
        }
      ]
    },
    {
      "cell_type": "code",
      "metadata": {
        "id": "UfFBN4GUlnTk"
      },
      "source": [
        "from random import shuffle"
      ],
      "execution_count": null,
      "outputs": []
    },
    {
      "cell_type": "code",
      "metadata": {
        "id": "I9GWWLMRlw3U"
      },
      "source": [
        "shuffle(a)"
      ],
      "execution_count": null,
      "outputs": []
    },
    {
      "cell_type": "code",
      "metadata": {
        "colab": {
          "base_uri": "https://localhost:8080/"
        },
        "id": "EPaqNTdtl1xU",
        "outputId": "c6a394fd-d0d6-4e4e-f774-b33197b7d9b8"
      },
      "source": [
        "a"
      ],
      "execution_count": null,
      "outputs": [
        {
          "output_type": "execute_result",
          "data": {
            "text/plain": [
              "[2, 2, 1, 1, 2]"
            ]
          },
          "metadata": {
            "tags": []
          },
          "execution_count": 29
        }
      ]
    },
    {
      "cell_type": "code",
      "metadata": {
        "id": "51meJuFwl2rS"
      },
      "source": [
        "def factorial(n):\n",
        "  if n == 0 or n == 1:\n",
        "    return 1\n",
        "  else:\n",
        "    return n * factorial(n-1)"
      ],
      "execution_count": null,
      "outputs": []
    },
    {
      "cell_type": "code",
      "metadata": {
        "colab": {
          "base_uri": "https://localhost:8080/"
        },
        "id": "8XKNsvUjnpHb",
        "outputId": "29bcb9d8-3bd4-4b0a-86db-dc76fd69ce06"
      },
      "source": [
        "factorial(3)"
      ],
      "execution_count": null,
      "outputs": [
        {
          "output_type": "execute_result",
          "data": {
            "text/plain": [
              "6"
            ]
          },
          "metadata": {
            "tags": []
          },
          "execution_count": 37
        }
      ]
    },
    {
      "cell_type": "code",
      "metadata": {
        "id": "w4swVCKrnqb6"
      },
      "source": [
        "#Recursive ()\n",
        "\n",
        "def factorial(n):\n",
        "  if n not in (0, 1):\n",
        "    return n * factorial(n-1)\n",
        "  else:\n",
        "    return 1"
      ],
      "execution_count": null,
      "outputs": []
    },
    {
      "cell_type": "code",
      "metadata": {
        "colab": {
          "base_uri": "https://localhost:8080/"
        },
        "id": "CYE5w8ZYnx64",
        "outputId": "efdcc73d-c731-4014-bc6d-96b8f6371dcc"
      },
      "source": [
        "factorial(3)"
      ],
      "execution_count": null,
      "outputs": [
        {
          "output_type": "execute_result",
          "data": {
            "text/plain": [
              "6"
            ]
          },
          "metadata": {
            "tags": []
          },
          "execution_count": 35
        }
      ]
    },
    {
      "cell_type": "code",
      "metadata": {
        "id": "yo1NaXaAnzIn"
      },
      "source": [
        "def my_fun(*args):\n",
        "  for i, v in enumerate(args):\n",
        "    print(f'{i}. {v}')"
      ],
      "execution_count": null,
      "outputs": []
    },
    {
      "cell_type": "code",
      "metadata": {
        "colab": {
          "base_uri": "https://localhost:8080/"
        },
        "id": "AlFWIjGIRGiw",
        "outputId": "8c241f65-f993-40d9-d1ac-554b50fd5a76"
      },
      "source": [
        "my_fun('a','b')"
      ],
      "execution_count": null,
      "outputs": [
        {
          "output_type": "stream",
          "text": [
            "0. a\n",
            "1. b\n"
          ],
          "name": "stdout"
        }
      ]
    },
    {
      "cell_type": "code",
      "metadata": {
        "id": "Zpi28696Rj4K"
      },
      "source": [
        "def my_fun(**kwargs):\n",
        "  for key, value in kwargs.items():\n",
        "    print(f'{key}. {value}')"
      ],
      "execution_count": null,
      "outputs": []
    },
    {
      "cell_type": "code",
      "metadata": {
        "colab": {
          "base_uri": "https://localhost:8080/"
        },
        "id": "4jCLqrkbUctl",
        "outputId": "fb062d38-7a41-4c5c-c5ef-51f759b34ed4"
      },
      "source": [
        "my_fun(a = 'A', b = 'B')"
      ],
      "execution_count": null,
      "outputs": [
        {
          "output_type": "stream",
          "text": [
            "a. A\n",
            "b. B\n"
          ],
          "name": "stdout"
        }
      ]
    },
    {
      "cell_type": "code",
      "metadata": {
        "colab": {
          "base_uri": "https://localhost:8080/",
          "height": 130
        },
        "id": "0SSQMw1qVgCE",
        "outputId": "bf57655c-d098-4220-a684-b9398c7397f4"
      },
      "source": [
        "[def sum(a, b): return a + b"
      ],
      "execution_count": null,
      "outputs": [
        {
          "output_type": "error",
          "ename": "SyntaxError",
          "evalue": "ignored",
          "traceback": [
            "\u001b[0;36m  File \u001b[0;32m\"<ipython-input-318-bc90d96dc045>\"\u001b[0;36m, line \u001b[0;32m1\u001b[0m\n\u001b[0;31m    [def sum(a, b): return a + b\u001b[0m\n\u001b[0m       ^\u001b[0m\n\u001b[0;31mSyntaxError\u001b[0m\u001b[0;31m:\u001b[0m invalid syntax\n"
          ]
        }
      ]
    },
    {
      "cell_type": "code",
      "metadata": {
        "colab": {
          "base_uri": "https://localhost:8080/"
        },
        "id": "LtjeL5QXeK-d",
        "outputId": "17ef50d7-d61f-4c0d-c51d-d5c97c6c007d"
      },
      "source": [
        "sum(1, 2)"
      ],
      "execution_count": null,
      "outputs": [
        {
          "output_type": "execute_result",
          "data": {
            "text/plain": [
              "3"
            ]
          },
          "metadata": {
            "tags": []
          },
          "execution_count": 48
        }
      ]
    },
    {
      "cell_type": "code",
      "metadata": {
        "colab": {
          "base_uri": "https://localhost:8080/",
          "height": 130
        },
        "id": "iYwH4T9ieMCl",
        "outputId": "2446cb8c-2959-4781-b4eb-25f015ba849e"
      },
      "source": [
        "a = lambda x, y: x + y"
      ],
      "execution_count": null,
      "outputs": [
        {
          "output_type": "error",
          "ename": "SyntaxError",
          "evalue": "ignored",
          "traceback": [
            "\u001b[0;36m  File \u001b[0;32m\"<ipython-input-51-2dfe133a1dc5>\"\u001b[0;36m, line \u001b[0;32m1\u001b[0m\n\u001b[0;31m    a = lambda (x, y): x + y\u001b[0m\n\u001b[0m               ^\u001b[0m\n\u001b[0;31mSyntaxError\u001b[0m\u001b[0;31m:\u001b[0m invalid syntax\n"
          ]
        }
      ]
    },
    {
      "cell_type": "code",
      "metadata": {
        "colab": {
          "base_uri": "https://localhost:8080/"
        },
        "id": "KlzHYupUeaIN",
        "outputId": "a7ced879-2fcf-4a1f-dad1-90d499b77a35"
      },
      "source": [
        "a(1, 2)"
      ],
      "execution_count": null,
      "outputs": [
        {
          "output_type": "execute_result",
          "data": {
            "text/plain": [
              "3"
            ]
          },
          "metadata": {
            "tags": []
          },
          "execution_count": 50
        }
      ]
    },
    {
      "cell_type": "code",
      "metadata": {
        "colab": {
          "base_uri": "https://localhost:8080/"
        },
        "id": "gUqB47eZebaQ",
        "outputId": "eb305116-62e2-4c4c-9630-ed7592f6cd68"
      },
      "source": [
        "def ml(x):\n",
        "  return lambda n: n * x\n",
        "\n",
        "tx3 = ml(3)\n",
        "\n",
        "print(tx3(2))"
      ],
      "execution_count": null,
      "outputs": [
        {
          "output_type": "stream",
          "text": [
            "6\n"
          ],
          "name": "stdout"
        }
      ]
    },
    {
      "cell_type": "code",
      "metadata": {
        "id": "nKg8F7hEf9i9"
      },
      "source": [
        "times_3 = ml(3)"
      ],
      "execution_count": null,
      "outputs": []
    },
    {
      "cell_type": "code",
      "metadata": {
        "colab": {
          "base_uri": "https://localhost:8080/"
        },
        "id": "OUt31c15gAzv",
        "outputId": "1f68fdda-7bc6-404b-89a9-668b720f3604"
      },
      "source": [
        "print(times_3(2))"
      ],
      "execution_count": null,
      "outputs": [
        {
          "output_type": "stream",
          "text": [
            "6\n"
          ],
          "name": "stdout"
        }
      ]
    },
    {
      "cell_type": "code",
      "metadata": {
        "id": "SfP54yOggyS2"
      },
      "source": [
        "from functools import partial\n",
        "\n",
        "def add(a, b):\n",
        "  return a + b\n"
      ],
      "execution_count": null,
      "outputs": []
    },
    {
      "cell_type": "code",
      "metadata": {
        "id": "OB0RSTUAjzWL"
      },
      "source": [
        "add_par = partial(add, 2)"
      ],
      "execution_count": null,
      "outputs": []
    },
    {
      "cell_type": "code",
      "metadata": {
        "colab": {
          "base_uri": "https://localhost:8080/"
        },
        "id": "YB2CHzgXj4TS",
        "outputId": "7fe805f2-1fc4-4183-a249-b8dea6f9681b"
      },
      "source": [
        "add_par(3)"
      ],
      "execution_count": null,
      "outputs": [
        {
          "output_type": "execute_result",
          "data": {
            "text/plain": [
              "5"
            ]
          },
          "metadata": {
            "tags": []
          },
          "execution_count": 71
        }
      ]
    },
    {
      "cell_type": "code",
      "metadata": {
        "colab": {
          "base_uri": "https://localhost:8080/"
        },
        "id": "SN48e_pJj8ZP",
        "outputId": "5c211359-f274-4ca4-ff34-f73788b3547d"
      },
      "source": [
        "add_two_num = lambda x, y: x + y\n",
        "add_x_to_5 = partial(add_two_num, 5)\n",
        "print(add_x_to_5(3))"
      ],
      "execution_count": null,
      "outputs": [
        {
          "output_type": "stream",
          "text": [
            "8\n"
          ],
          "name": "stdout"
        }
      ]
    },
    {
      "cell_type": "code",
      "metadata": {
        "id": "yHcnWWuulG0_"
      },
      "source": [
        "class Person:\n",
        "  \n",
        "  name = \"john\""
      ],
      "execution_count": null,
      "outputs": []
    },
    {
      "cell_type": "code",
      "metadata": {
        "id": "5O5uSzuOmCzO"
      },
      "source": [
        "instance_person = Person()"
      ],
      "execution_count": null,
      "outputs": []
    },
    {
      "cell_type": "code",
      "metadata": {
        "colab": {
          "base_uri": "https://localhost:8080/",
          "height": 35
        },
        "id": "AJrHjYldmFTw",
        "outputId": "8186d7d4-2a45-46be-d61b-7fd7fd1b3015"
      },
      "source": [
        "instance_person.name"
      ],
      "execution_count": null,
      "outputs": [
        {
          "output_type": "execute_result",
          "data": {
            "application/vnd.google.colaboratory.intrinsic+json": {
              "type": "string"
            },
            "text/plain": [
              "'john'"
            ]
          },
          "metadata": {
            "tags": []
          },
          "execution_count": 89
        }
      ]
    },
    {
      "cell_type": "code",
      "metadata": {
        "colab": {
          "base_uri": "https://localhost:8080/"
        },
        "id": "sjieSy7smGXa",
        "outputId": "4df9328c-8e93-4a00-be81-52bb03394292"
      },
      "source": [
        "isinstance(instance_person, Person)"
      ],
      "execution_count": null,
      "outputs": [
        {
          "output_type": "execute_result",
          "data": {
            "text/plain": [
              "True"
            ]
          },
          "metadata": {
            "tags": []
          },
          "execution_count": 90
        }
      ]
    },
    {
      "cell_type": "code",
      "metadata": {
        "id": "YlOsbGggmyDK"
      },
      "source": [
        "class Empty: pass"
      ],
      "execution_count": null,
      "outputs": []
    },
    {
      "cell_type": "code",
      "metadata": {
        "id": "a2J07_PRp3iy"
      },
      "source": [
        "a = Empty()"
      ],
      "execution_count": null,
      "outputs": []
    },
    {
      "cell_type": "code",
      "metadata": {
        "colab": {
          "base_uri": "https://localhost:8080/"
        },
        "id": "0bfACvrop-su",
        "outputId": "600dca21-e305-43ca-a9c5-c34cc89a4408"
      },
      "source": [
        "a"
      ],
      "execution_count": null,
      "outputs": [
        {
          "output_type": "execute_result",
          "data": {
            "text/plain": [
              "<__main__.Empty at 0x7fda82837610>"
            ]
          },
          "metadata": {
            "tags": []
          },
          "execution_count": 96
        }
      ]
    },
    {
      "cell_type": "code",
      "metadata": {
        "id": "wN57YlVvp_Vj"
      },
      "source": [
        "fn, ln = map(str, 'Nitesh Kamboj'.split())"
      ],
      "execution_count": null,
      "outputs": []
    },
    {
      "cell_type": "code",
      "metadata": {
        "colab": {
          "base_uri": "https://localhost:8080/",
          "height": 35
        },
        "id": "TTZtE0oRrCej",
        "outputId": "14973672-cf90-4a73-892e-5b829e7da8ef"
      },
      "source": [
        "fn"
      ],
      "execution_count": null,
      "outputs": [
        {
          "output_type": "execute_result",
          "data": {
            "application/vnd.google.colaboratory.intrinsic+json": {
              "type": "string"
            },
            "text/plain": [
              "'Nitesh'"
            ]
          },
          "metadata": {
            "tags": []
          },
          "execution_count": 105
        }
      ]
    },
    {
      "cell_type": "code",
      "metadata": {
        "colab": {
          "base_uri": "https://localhost:8080/",
          "height": 35
        },
        "id": "diAiw79GrDKh",
        "outputId": "f8d06c5e-edad-4113-9ae6-ba1498a781c1"
      },
      "source": [
        "ln"
      ],
      "execution_count": null,
      "outputs": [
        {
          "output_type": "execute_result",
          "data": {
            "application/vnd.google.colaboratory.intrinsic+json": {
              "type": "string"
            },
            "text/plain": [
              "'Kamboj'"
            ]
          },
          "metadata": {
            "tags": []
          },
          "execution_count": 106
        }
      ]
    },
    {
      "cell_type": "code",
      "metadata": {
        "id": "7nBl7otmrKPF"
      },
      "source": [
        "class Person:\n",
        "  def __init__(self, fn, ln):\n",
        "    self.fn = fn\n",
        "    self.ln = ln\n",
        "\n",
        "  @classmethod\n",
        "  def full_name(cls, full_name):\n",
        "    fn, ln = map(str, full_name.split())\n",
        "    return cls(fn, ln)\n"
      ],
      "execution_count": null,
      "outputs": []
    },
    {
      "cell_type": "code",
      "metadata": {
        "id": "z8B1Nla0sMgQ"
      },
      "source": [
        "my_name = Person.full_name('Nitesh Kamboj')"
      ],
      "execution_count": null,
      "outputs": []
    },
    {
      "cell_type": "code",
      "metadata": {
        "colab": {
          "base_uri": "https://localhost:8080/"
        },
        "id": "wbJYd5Tdswow",
        "outputId": "777c8a3a-479b-48ac-d137-081767f473eb"
      },
      "source": [
        "my_name"
      ],
      "execution_count": null,
      "outputs": [
        {
          "output_type": "execute_result",
          "data": {
            "text/plain": [
              "<__main__.Person at 0x7fda7e6e8f90>"
            ]
          },
          "metadata": {
            "tags": []
          },
          "execution_count": 134
        }
      ]
    },
    {
      "cell_type": "code",
      "metadata": {
        "id": "chKIR5SGs8-T"
      },
      "source": [
        "class MyClass:\n",
        "  a = 1\n",
        "  b = 2"
      ],
      "execution_count": null,
      "outputs": []
    },
    {
      "cell_type": "code",
      "metadata": {
        "id": "72UmuCaGt0-u"
      },
      "source": [
        "instance = MyClass()"
      ],
      "execution_count": null,
      "outputs": []
    },
    {
      "cell_type": "code",
      "metadata": {
        "colab": {
          "base_uri": "https://localhost:8080/"
        },
        "id": "9f1VW8Mbt2d2",
        "outputId": "af1e446c-7ff3-4826-ed35-ce910e478197"
      },
      "source": [
        "print(type(instance).__dict__)"
      ],
      "execution_count": null,
      "outputs": [
        {
          "output_type": "stream",
          "text": [
            "{'__module__': '__main__', 'a': 1, 'b': 2, '__dict__': <attribute '__dict__' of 'MyClass' objects>, '__weakref__': <attribute '__weakref__' of 'MyClass' objects>, '__doc__': None}\n"
          ],
          "name": "stdout"
        }
      ]
    },
    {
      "cell_type": "code",
      "metadata": {
        "colab": {
          "base_uri": "https://localhost:8080/"
        },
        "id": "7o6ctVV2t5ka",
        "outputId": "8356dc18-022b-46af-e9df-0192935a03e3"
      },
      "source": [
        "class Student:\n",
        "    def hello(self, name=None):\n",
        "        if name is not None:\n",
        "            print('Hey ' + name)\n",
        "        else:\n",
        "            print('Hey ')\n",
        "\n",
        "# Creating a class instance\n",
        "std = Student()\n",
        "\n",
        "# Call the method\n",
        "std.hello()\n",
        "\n",
        "# Call the method and pass a parameter\n",
        "std.hello('Nicholas')"
      ],
      "execution_count": null,
      "outputs": [
        {
          "output_type": "stream",
          "text": [
            "Hey \n",
            "Hey Nicholas\n"
          ],
          "name": "stdout"
        }
      ]
    },
    {
      "cell_type": "code",
      "metadata": {
        "colab": {
          "base_uri": "https://localhost:8080/"
        },
        "id": "dEA9IFW8vUS9",
        "outputId": "457e6253-1a50-4288-aef2-ed0fed49c26b"
      },
      "source": [
        "import string\n",
        "\n",
        "print(string.__dict__.keys())"
      ],
      "execution_count": null,
      "outputs": [
        {
          "output_type": "stream",
          "text": [
            "dict_keys(['__name__', '__doc__', '__package__', '__loader__', '__spec__', '__file__', '__cached__', '__builtins__', '__all__', '_string', 'whitespace', 'ascii_lowercase', 'ascii_uppercase', 'ascii_letters', 'digits', 'hexdigits', 'octdigits', 'punctuation', 'printable', 'capwords', '_re', '_ChainMap', '_TemplateMetaclass', 'Template', 'Formatter'])\n"
          ],
          "name": "stdout"
        }
      ]
    },
    {
      "cell_type": "code",
      "metadata": {
        "id": "muZUtS-XA6K9"
      },
      "source": [
        "def __init__():\n",
        "  print('He')"
      ],
      "execution_count": null,
      "outputs": []
    },
    {
      "cell_type": "code",
      "metadata": {
        "id": "SCEQPjfVBufh"
      },
      "source": [
        "import __init__"
      ],
      "execution_count": null,
      "outputs": []
    },
    {
      "cell_type": "code",
      "metadata": {
        "colab": {
          "base_uri": "https://localhost:8080/"
        },
        "id": "v3d29H7IByHe",
        "outputId": "a2fe0192-9590-49a4-c8b8-e76296577bbe"
      },
      "source": [
        "__init__"
      ],
      "execution_count": null,
      "outputs": [
        {
          "output_type": "execute_result",
          "data": {
            "text/plain": [
              "<module '__init__' from '/usr/local/lib/python3.7/dist-packages/IPython/extensions/__init__.py'>"
            ]
          },
          "metadata": {
            "tags": []
          },
          "execution_count": 294
        }
      ]
    },
    {
      "cell_type": "code",
      "metadata": {
        "colab": {
          "base_uri": "https://localhost:8080/"
        },
        "id": "vU-vXEIGBzgj",
        "outputId": "69a78ffe-eff5-4695-ce6a-066c3b6085c0"
      },
      "source": [
        "aa = [i for i in range(5) if i % 2 == 0]\n",
        "\n",
        "aa"
      ],
      "execution_count": null,
      "outputs": [
        {
          "output_type": "execute_result",
          "data": {
            "text/plain": [
              "[0, 2, 4]"
            ]
          },
          "metadata": {
            "tags": []
          },
          "execution_count": 295
        }
      ]
    },
    {
      "cell_type": "code",
      "metadata": {
        "colab": {
          "base_uri": "https://localhost:8080/",
          "height": 35
        },
        "id": "87w2p5a4FUE7",
        "outputId": "85c5a586-cb15-413c-f710-1a0f34f972de"
      },
      "source": [
        "'a'.capitalize()"
      ],
      "execution_count": null,
      "outputs": [
        {
          "output_type": "execute_result",
          "data": {
            "application/vnd.google.colaboratory.intrinsic+json": {
              "type": "string"
            },
            "text/plain": [
              "'A'"
            ]
          },
          "metadata": {
            "tags": []
          },
          "execution_count": 296
        }
      ]
    },
    {
      "cell_type": "code",
      "metadata": {
        "colab": {
          "base_uri": "https://localhost:8080/"
        },
        "id": "YLLYi3JhFgHu",
        "outputId": "479c40a4-bf84-4183-f31a-83c8a3467104"
      },
      "source": [
        "dic = {'a': 1, 'b': 2}\n",
        "\n",
        "cap_dc = {x[0].capitalize(): x[1] for x in dic.items()}\n",
        "\n",
        "cap_dc"
      ],
      "execution_count": null,
      "outputs": [
        {
          "output_type": "execute_result",
          "data": {
            "text/plain": [
              "{'A': 1, 'B': 2}"
            ]
          },
          "metadata": {
            "tags": []
          },
          "execution_count": 305
        }
      ]
    },
    {
      "cell_type": "code",
      "metadata": {
        "colab": {
          "base_uri": "https://localhost:8080/"
        },
        "id": "LVWU6DEtGKPc",
        "outputId": "08ae9128-f334-4762-eed7-33456a86814e"
      },
      "source": [
        "for k in dic.items():\n",
        "  print(k)"
      ],
      "execution_count": null,
      "outputs": [
        {
          "output_type": "stream",
          "text": [
            "('a', 1)\n",
            "('b', 2)\n"
          ],
          "name": "stdout"
        }
      ]
    },
    {
      "cell_type": "code",
      "metadata": {
        "colab": {
          "base_uri": "https://localhost:8080/"
        },
        "id": "dNIVUaPvGYZP",
        "outputId": "0ebba8e3-2fc1-4ff7-b43e-6b0307ccb484"
      },
      "source": [
        "number = [1, 2, 3, -4, -5]\n",
        "aa = sum([abs(x) for x in number])\n",
        "\n",
        "print(aa)"
      ],
      "execution_count": null,
      "outputs": [
        {
          "output_type": "stream",
          "text": [
            "15\n"
          ],
          "name": "stdout"
        }
      ]
    },
    {
      "cell_type": "code",
      "metadata": {
        "id": "x5ICoX_rHyiz",
        "colab": {
          "base_uri": "https://localhost:8080/"
        },
        "outputId": "2a5bca48-4445-4284-8509-fd3b62740c78"
      },
      "source": [
        "string = 'nitesh'\n",
        "\n",
        "result = {x for x in string}\n",
        "\n",
        "print(result)"
      ],
      "execution_count": 2,
      "outputs": [
        {
          "output_type": "stream",
          "text": [
            "{'s', 'n', 'i', 't', 'e', 'h'}\n"
          ],
          "name": "stdout"
        }
      ]
    },
    {
      "cell_type": "code",
      "metadata": {
        "id": "6TgMT12qgBJp"
      },
      "source": [
        "t_d = {'Name': 'Nitesh', 'Age': 31}"
      ],
      "execution_count": 6,
      "outputs": []
    },
    {
      "cell_type": "code",
      "metadata": {
        "colab": {
          "base_uri": "https://localhost:8080/"
        },
        "id": "LAq-fTQygN1P",
        "outputId": "6d83750f-bd8d-47f8-a430-34d4330cf009"
      },
      "source": [
        "rep = {i[1]:i[0] for i in t_d.items()}\n",
        "\n",
        "print(rep)\n",
        "type(rep)"
      ],
      "execution_count": 24,
      "outputs": [
        {
          "output_type": "stream",
          "text": [
            "{'Nitesh': 'Name', 31: 'Age'}\n"
          ],
          "name": "stdout"
        },
        {
          "output_type": "execute_result",
          "data": {
            "text/plain": [
              "dict"
            ]
          },
          "metadata": {
            "tags": []
          },
          "execution_count": 24
        }
      ]
    },
    {
      "cell_type": "code",
      "metadata": {
        "colab": {
          "base_uri": "https://localhost:8080/"
        },
        "id": "aBfV0lr4g2pl",
        "outputId": "ce96ea97-c61c-4d29-f63e-7dba0206eb21"
      },
      "source": [
        "dic = {}\n",
        "\n",
        "for k,v in t_d.items():\n",
        "  dic[v] = k\n",
        "\n",
        "print(dic)"
      ],
      "execution_count": 19,
      "outputs": [
        {
          "output_type": "stream",
          "text": [
            "{'Nitesh': 'Name', 31: 'Age'}\n"
          ],
          "name": "stdout"
        }
      ]
    },
    {
      "cell_type": "code",
      "metadata": {
        "colab": {
          "base_uri": "https://localhost:8080/"
        },
        "id": "9KUcfB2lhJjp",
        "outputId": "56b12309-b4a2-40ab-fd7b-851b21f43b6d"
      },
      "source": [
        "for i in t_d.items():\n",
        "  print(i)"
      ],
      "execution_count": 27,
      "outputs": [
        {
          "output_type": "stream",
          "text": [
            "('Name', 'Nitesh')\n",
            "('Age', 31)\n"
          ],
          "name": "stdout"
        }
      ]
    },
    {
      "cell_type": "code",
      "metadata": {
        "colab": {
          "base_uri": "https://localhost:8080/"
        },
        "id": "PHMnhwNZlhNi",
        "outputId": "e30c930a-b65d-4d1d-8bef-b7cd066557cc"
      },
      "source": [
        "result = [x**2 for x in range(1, 11)]\n",
        "\n",
        "print(result)"
      ],
      "execution_count": 29,
      "outputs": [
        {
          "output_type": "stream",
          "text": [
            "[0, 1, 4, 9, 16, 25, 36, 49, 64, 81]\n"
          ],
          "name": "stdout"
        }
      ]
    },
    {
      "cell_type": "code",
      "metadata": {
        "colab": {
          "base_uri": "https://localhost:8080/"
        },
        "id": "Uc6X-4VvmRI6",
        "outputId": "58f91541-6acb-4442-ae6e-d74ee5d6552c"
      },
      "source": [
        "result = [x for x in range(100) if x % 3 == 0 if x % 5 == 0]\n",
        "\n",
        "print(result)"
      ],
      "execution_count": 10,
      "outputs": [
        {
          "output_type": "stream",
          "text": [
            "[0, 15, 30, 45, 60, 75, 90]\n"
          ],
          "name": "stdout"
        }
      ]
    },
    {
      "cell_type": "code",
      "metadata": {
        "colab": {
          "base_uri": "https://localhost:8080/"
        },
        "id": "ep5WyCxWvyW0",
        "outputId": "15578a02-b628-4380-971f-68bb12fde9c4"
      },
      "source": [
        "result = list(filter(lambda x: x % 3 == 0 and x % 5 == 0, range(101)))\n",
        "\n",
        "print(result)"
      ],
      "execution_count": 12,
      "outputs": [
        {
          "output_type": "stream",
          "text": [
            "[0, 15, 30, 45, 60, 75, 90]\n"
          ],
          "name": "stdout"
        }
      ]
    },
    {
      "cell_type": "code",
      "metadata": {
        "colab": {
          "base_uri": "https://localhost:8080/"
        },
        "id": "BKxXL69jwcTc",
        "outputId": "a8c03297-ec4f-4eb8-eda1-1461a89fb204"
      },
      "source": [
        "l_of_l = [[1,2], [3, 4]]\n",
        "\n",
        "result = [x for y in l_of_l for x in y]\n",
        "\n",
        "print(result)"
      ],
      "execution_count": 14,
      "outputs": [
        {
          "output_type": "stream",
          "text": [
            "[1, 2, 3, 4]\n"
          ],
          "name": "stdout"
        }
      ]
    },
    {
      "cell_type": "code",
      "metadata": {
        "colab": {
          "base_uri": "https://localhost:8080/"
        },
        "id": "pukPaFjlw7jL",
        "outputId": "6fa1d4e9-0165-485f-9a4d-6d647ded9641"
      },
      "source": [
        "result = []\n",
        "\n",
        "for x in l_of_l:\n",
        "  for y in x:\n",
        "    result.append(y)\n",
        "\n",
        "print(result)"
      ],
      "execution_count": 29,
      "outputs": [
        {
          "output_type": "stream",
          "text": [
            "[1, 2, 3, 4]\n"
          ],
          "name": "stdout"
        }
      ]
    },
    {
      "cell_type": "code",
      "metadata": {
        "colab": {
          "base_uri": "https://localhost:8080/"
        },
        "id": "1jfuu9p3xSNr",
        "outputId": "efb30d86-c51b-42a4-a009-111d3a53730a"
      },
      "source": [
        "sum(l_of_l, [])"
      ],
      "execution_count": 16,
      "outputs": [
        {
          "output_type": "execute_result",
          "data": {
            "text/plain": [
              "[1, 2, 3, 4]"
            ]
          },
          "metadata": {
            "tags": []
          },
          "execution_count": 16
        }
      ]
    },
    {
      "cell_type": "code",
      "metadata": {
        "colab": {
          "base_uri": "https://localhost:8080/"
        },
        "id": "ihfOHGdcyqJg",
        "outputId": "7653527f-ca6f-4df5-8cdd-24365d920e83"
      },
      "source": [
        "from pandas.core.common import flatten\n",
        "\n",
        "list(flatten(l_of_l)) == [x for y in l_of_l for x in y]"
      ],
      "execution_count": 20,
      "outputs": [
        {
          "output_type": "execute_result",
          "data": {
            "text/plain": [
              "True"
            ]
          },
          "metadata": {
            "tags": []
          },
          "execution_count": 20
        }
      ]
    },
    {
      "cell_type": "code",
      "metadata": {
        "colab": {
          "base_uri": "https://localhost:8080/"
        },
        "id": "JopLwSdnzwjs",
        "outputId": "1dabb39f-68d8-48c7-d931-1249a8caaf96"
      },
      "source": [
        "for x in range(3):\n",
        "  for y in range(3):\n",
        "    print(f'this is x: {x} and y: {y}')"
      ],
      "execution_count": 27,
      "outputs": [
        {
          "output_type": "stream",
          "text": [
            "this is x: 0 and y: 0\n",
            "this is x: 0 and y: 1\n",
            "this is x: 0 and y: 2\n",
            "this is x: 1 and y: 0\n",
            "this is x: 1 and y: 1\n",
            "this is x: 1 and y: 2\n",
            "this is x: 2 and y: 0\n",
            "this is x: 2 and y: 1\n",
            "this is x: 2 and y: 2\n"
          ],
          "name": "stdout"
        }
      ]
    },
    {
      "cell_type": "code",
      "metadata": {
        "colab": {
          "base_uri": "https://localhost:8080/"
        },
        "id": "0cjsOkUS1P6p",
        "outputId": "f3543ee7-af0c-4337-f818-0225ffba9013"
      },
      "source": [
        "result = [(x, y) for x in range(3) for y in range(3)]\n",
        "\n",
        "print(result)"
      ],
      "execution_count": 33,
      "outputs": [
        {
          "output_type": "stream",
          "text": [
            "[(0, 0), (0, 1), (0, 2), (1, 0), (1, 1), (1, 2), (2, 0), (2, 1), (2, 2)]\n"
          ],
          "name": "stdout"
        }
      ]
    },
    {
      "cell_type": "code",
      "metadata": {
        "colab": {
          "base_uri": "https://localhost:8080/"
        },
        "id": "bpuaQnHg1jTc",
        "outputId": "03fca1b5-3f6f-43b2-ec6e-5bb90ac29330"
      },
      "source": [
        "for x in range(3):\n",
        "  for y in range(3):\n",
        "    print(x, y)"
      ],
      "execution_count": 34,
      "outputs": [
        {
          "output_type": "stream",
          "text": [
            "0 0\n",
            "0 1\n",
            "0 2\n",
            "1 0\n",
            "1 1\n",
            "1 2\n",
            "2 0\n",
            "2 1\n",
            "2 2\n"
          ],
          "name": "stdout"
        }
      ]
    },
    {
      "cell_type": "code",
      "metadata": {
        "id": "b8kaIWZp4-c2"
      },
      "source": [
        "import re\n",
        "pattern = r\"\\d+\"\n",
        "re_obj = re.compile(pattern)"
      ],
      "execution_count": 110,
      "outputs": []
    },
    {
      "cell_type": "code",
      "metadata": {
        "colab": {
          "base_uri": "https://localhost:8080/"
        },
        "id": "nuWmKh_G9p5C",
        "outputId": "c386fc78-490f-4b91-8f21-72b24974af4f"
      },
      "source": [
        "if '/asd'.startswith(pattern): print('Y')\n",
        "else:\n",
        "  print('f')"
      ],
      "execution_count": 42,
      "outputs": [
        {
          "output_type": "stream",
          "text": [
            "f\n"
          ],
          "name": "stdout"
        }
      ]
    },
    {
      "cell_type": "code",
      "metadata": {
        "colab": {
          "base_uri": "https://localhost:8080/"
        },
        "id": "rD07wf8n9w9K",
        "outputId": "6a596833-c15d-440a-ec46-12fdff267b53"
      },
      "source": [
        "string = '13'\n",
        "pattern = r\"\\d+\"\n",
        "if re.match(pattern, string):\n",
        "  print(string)"
      ],
      "execution_count": 113,
      "outputs": [
        {
          "output_type": "stream",
          "text": [
            "13\n"
          ],
          "name": "stdout"
        }
      ]
    },
    {
      "cell_type": "code",
      "metadata": {
        "id": "9dgMWMCT_FFj"
      },
      "source": [
        "a = re.split(r's', 'wes tips')"
      ],
      "execution_count": 50,
      "outputs": []
    },
    {
      "cell_type": "code",
      "metadata": {
        "colab": {
          "base_uri": "https://localhost:8080/"
        },
        "id": "h0lMA7NEBNYf",
        "outputId": "4daaefb6-1e98-4036-c2d8-7905cf689ee8"
      },
      "source": [
        "a"
      ],
      "execution_count": 54,
      "outputs": [
        {
          "output_type": "execute_result",
          "data": {
            "text/plain": [
              "['we', ' tip', '']"
            ]
          },
          "metadata": {
            "tags": []
          },
          "execution_count": 54
        }
      ]
    },
    {
      "cell_type": "code",
      "metadata": {
        "colab": {
          "base_uri": "https://localhost:8080/",
          "height": 35
        },
        "id": "UfXGDsWpA3My",
        "outputId": "b233a2bd-8ea4-4a1c-8585-9297551e2284"
      },
      "source": [
        "''.join(a)"
      ],
      "execution_count": 53,
      "outputs": [
        {
          "output_type": "execute_result",
          "data": {
            "application/vnd.google.colaboratory.intrinsic+json": {
              "type": "string"
            },
            "text/plain": [
              "'we tip'"
            ]
          },
          "metadata": {
            "tags": []
          },
          "execution_count": 53
        }
      ]
    },
    {
      "cell_type": "code",
      "metadata": {
        "colab": {
          "base_uri": "https://localhost:8080/"
        },
        "id": "1YNMdqZFBCET",
        "outputId": "1b1d6940-a719-4f4a-943e-4dfc4b2fed06"
      },
      "source": [
        "pattern = r\"\\d+\"\n",
        "\n",
        "print(re.split(pattern, \"Some text. 123. Some text\"))"
      ],
      "execution_count": 64,
      "outputs": [
        {
          "output_type": "stream",
          "text": [
            "['Some text. ', '. Some text']\n"
          ],
          "name": "stdout"
        }
      ]
    },
    {
      "cell_type": "code",
      "metadata": {
        "colab": {
          "base_uri": "https://localhost:8080/"
        },
        "id": "Zpn9KMc0BhyQ",
        "outputId": "383b5f1f-0b9c-4283-e00d-63ed854c240a"
      },
      "source": [
        "print(re.sub(r'','-', 'Hi my name is '))"
      ],
      "execution_count": 62,
      "outputs": [
        {
          "output_type": "stream",
          "text": [
            "Hi-my-name-is-\n"
          ],
          "name": "stdout"
        }
      ]
    },
    {
      "cell_type": "code",
      "metadata": {
        "colab": {
          "base_uri": "https://localhost:8080/"
        },
        "id": "Ax1lPQuRDBBU",
        "outputId": "5d03d5a4-b566-4ccb-e791-07017d89cd2c"
      },
      "source": [
        "#finding regex pattern in string and returning it\n",
        "pattern = r\"\\d+\"\n",
        "string = \"Some text. 123 123 123Some text\"\n",
        "\n",
        "print(re.findall(pattern, string))"
      ],
      "execution_count": 155,
      "outputs": [
        {
          "output_type": "stream",
          "text": [
            "['123', '123', '123']\n"
          ],
          "name": "stdout"
        }
      ]
    },
    {
      "cell_type": "code",
      "metadata": {
        "colab": {
          "base_uri": "https://localhost:8080/"
        },
        "id": "Q70LMBc9EacJ",
        "outputId": "98844746-3ffc-441f-ed8c-3c212a953fd6"
      },
      "source": [
        "re_obj = re.compile(pattern)\n",
        "\n",
        "a = re_obj.search(string)\n"
      ],
      "execution_count": 92,
      "outputs": [
        {
          "output_type": "stream",
          "text": [
            "<built-in method span of re.Match object at 0x7f8b35328ab0>\n"
          ],
          "name": "stdout"
        }
      ]
    },
    {
      "cell_type": "code",
      "metadata": {
        "colab": {
          "base_uri": "https://localhost:8080/"
        },
        "id": "Fa0W9uqyEuQC",
        "outputId": "6bf3b864-e388-4523-8a26-4d12eada67ad"
      },
      "source": [
        "occurrences = re.finditer(pattern, string)\n",
        "print([o.group() for o in occurrences])"
      ],
      "execution_count": 71,
      "outputs": [
        {
          "output_type": "stream",
          "text": [
            "['123', '123']\n"
          ],
          "name": "stdout"
        }
      ]
    },
    {
      "cell_type": "code",
      "metadata": {
        "colab": {
          "base_uri": "https://localhost:8080/"
        },
        "id": "Xhdbxt_rFCMu",
        "outputId": "34d6198c-e503-444c-c97f-59f709165371"
      },
      "source": [
        "re_obj = re.compile(pattern)\n",
        "\n",
        "print(re_obj.findall(string))"
      ],
      "execution_count": 72,
      "outputs": [
        {
          "output_type": "stream",
          "text": [
            "['123', '123']\n"
          ],
          "name": "stdout"
        }
      ]
    },
    {
      "cell_type": "code",
      "metadata": {
        "colab": {
          "base_uri": "https://localhost:8080/"
        },
        "id": "LncYJkADGUII",
        "outputId": "1a6963c4-a7f6-4ed7-d1a1-c0a7754407fa"
      },
      "source": [
        "'123' in string"
      ],
      "execution_count": 74,
      "outputs": [
        {
          "output_type": "execute_result",
          "data": {
            "text/plain": [
              "True"
            ]
          },
          "metadata": {
            "tags": []
          },
          "execution_count": 74
        }
      ]
    },
    {
      "cell_type": "code",
      "metadata": {
        "colab": {
          "base_uri": "https://localhost:8080/"
        },
        "id": "OUT6xWpXFtgD",
        "outputId": "9bc9f41d-05d1-4ccd-e7fa-7a038ef2c33b"
      },
      "source": [
        "len(re.findall(pattern, string)) == re.subn(pattern, \"Some text\", string)[1]"
      ],
      "execution_count": 85,
      "outputs": [
        {
          "output_type": "execute_result",
          "data": {
            "text/plain": [
              "True"
            ]
          },
          "metadata": {
            "tags": []
          },
          "execution_count": 85
        }
      ]
    },
    {
      "cell_type": "code",
      "metadata": {
        "colab": {
          "base_uri": "https://localhost:8080/"
        },
        "id": "_jtTeU5cGsjR",
        "outputId": "3a1d627e-e972-401b-a29f-a75e2145af3d"
      },
      "source": [
        "re.subn(pattern, \"Some text\", string)"
      ],
      "execution_count": 89,
      "outputs": [
        {
          "output_type": "execute_result",
          "data": {
            "text/plain": [
              "('Some text. Some text Some text Some textSome text', 3)"
            ]
          },
          "metadata": {
            "tags": []
          },
          "execution_count": 89
        }
      ]
    },
    {
      "cell_type": "code",
      "metadata": {
        "colab": {
          "base_uri": "https://localhost:8080/"
        },
        "id": "6KGKahaeIbbL",
        "outputId": "72112709-8277-4dd4-ae80-67288283d2f8"
      },
      "source": [
        "len(re.sub(pattern, \"Some text\", string))"
      ],
      "execution_count": 88,
      "outputs": [
        {
          "output_type": "execute_result",
          "data": {
            "text/plain": [
              "49"
            ]
          },
          "metadata": {
            "tags": []
          },
          "execution_count": 88
        }
      ]
    },
    {
      "cell_type": "code",
      "metadata": {
        "colab": {
          "base_uri": "https://localhost:8080/"
        },
        "id": "d6ktyBS7IvBP",
        "outputId": "b23430a3-c67a-4e46-9930-6ba43196820e"
      },
      "source": [
        "#returning the found strinf\n",
        "pattern = r\"\\d+\"\n",
        "string = \"123 123 123 Some text\"\n",
        "\n",
        "match_obj = re.match(pattern, string)\n",
        "\n",
        "print(match_obj[0])"
      ],
      "execution_count": 136,
      "outputs": [
        {
          "output_type": "stream",
          "text": [
            "123\n"
          ],
          "name": "stdout"
        }
      ]
    },
    {
      "cell_type": "code",
      "metadata": {
        "colab": {
          "base_uri": "https://localhost:8080/"
        },
        "id": "QK1f5jgJLYed",
        "outputId": "3d3d555a-e835-48e5-8867-c869c66fb9e5"
      },
      "source": [
        "pattern = r\"\\d+\"\n",
        "string = \"123 123 123 Some text\"\n",
        "\n",
        "match_obj = re.match(pattern, string)\n",
        "\n",
        "print(match_obj.group()[0])"
      ],
      "execution_count": 139,
      "outputs": [
        {
          "output_type": "stream",
          "text": [
            "1\n"
          ],
          "name": "stdout"
        }
      ]
    },
    {
      "cell_type": "code",
      "metadata": {
        "colab": {
          "base_uri": "https://localhost:8080/"
        },
        "id": "iM3RMOhIpgIc",
        "outputId": "7d071f62-fcda-4cc5-9057-ca0079341bc0"
      },
      "source": [
        "pattern = r\"(\\d+) (\\d+)?\"\n",
        "string = \"123 Some text\"\n",
        "\n",
        "match_obj = re.match(pattern, string)\n",
        "\n",
        "print(match_obj.group()[-1])"
      ],
      "execution_count": 154,
      "outputs": [
        {
          "output_type": "stream",
          "text": [
            " \n"
          ],
          "name": "stdout"
        }
      ]
    },
    {
      "cell_type": "code",
      "metadata": {
        "colab": {
          "base_uri": "https://localhost:8080/"
        },
        "id": "Xo7wZohMp0MW",
        "outputId": "e25b9d30-41c8-4500-9318-00bf46e918bf"
      },
      "source": [
        "pattern = r\"hello\"\n",
        "if re.findall(pattern, \"hello Hello\", re.IGNORECASE):\n",
        "  print(re.findall(pattern, \"hello hello\"))"
      ],
      "execution_count": 167,
      "outputs": [
        {
          "output_type": "stream",
          "text": [
            "['hello', 'hello']\n"
          ],
          "name": "stdout"
        }
      ]
    },
    {
      "cell_type": "code",
      "metadata": {
        "colab": {
          "base_uri": "https://localhost:8080/"
        },
        "id": "MZdCtrEZrsvS",
        "outputId": "0b2c5d3d-f28a-48e5-c03d-9fee90a2abf3"
      },
      "source": [
        "pattern = r\"hello\"\n",
        "\n",
        "re_obj = re.compile(pattern, re.I)\n",
        "\n",
        "if re_obj.match(\"Hello\"):\n",
        "  print(\"Find\")"
      ],
      "execution_count": 169,
      "outputs": [
        {
          "output_type": "stream",
          "text": [
            "Find\n"
          ],
          "name": "stdout"
        }
      ]
    },
    {
      "cell_type": "code",
      "metadata": {
        "id": "-ZXtyU_XsYws"
      },
      "source": [
        "pattern = r\"/hello/i\"\n",
        "\n",
        "re_obj = re.compile(pattern)\n",
        "\n",
        "if re_obj.match(\"Hello\"):\n",
        "  print(\"Find\")"
      ],
      "execution_count": 171,
      "outputs": []
    },
    {
      "cell_type": "code",
      "metadata": {
        "colab": {
          "base_uri": "https://localhost:8080/"
        },
        "id": "-mN9QqFssjoI",
        "outputId": "5682b454-8674-43d5-a2cf-264ca5508f92"
      },
      "source": [
        "string = \"Sone text; 123, some text, 123\"\n",
        "pattern = r\"[,;]\"\n",
        "print(re.split(pattern, string))"
      ],
      "execution_count": 183,
      "outputs": [
        {
          "output_type": "stream",
          "text": [
            "['Sone text', ' 123', ' some text', ' 123']\n"
          ],
          "name": "stdout"
        }
      ]
    },
    {
      "cell_type": "code",
      "metadata": {
        "colab": {
          "base_uri": "https://localhost:8080/"
        },
        "id": "aZCD22ius27L",
        "outputId": "4cb7b223-7bb7-4a49-dea8-6b1c106cf5f4"
      },
      "source": [
        "string = '''multiline\n",
        "string\n",
        "'''\n",
        "\n",
        "pattern = r\"mul.+ing\"\n",
        "re_obj = re.compile(pattern, re.MULTILINE)\n",
        "re_obj.findall(string)"
      ],
      "execution_count": 185,
      "outputs": [
        {
          "output_type": "execute_result",
          "data": {
            "text/plain": [
              "[]"
            ]
          },
          "metadata": {
            "tags": []
          },
          "execution_count": 185
        }
      ]
    },
    {
      "cell_type": "code",
      "metadata": {
        "colab": {
          "base_uri": "https://localhost:8080/"
        },
        "id": "VMpbAXcdxedw",
        "outputId": "3a0c45b3-b707-473e-82db-04ba0bb25ced"
      },
      "source": [
        "string = '''multiline\n",
        "string\n",
        "'''\n",
        "\n",
        "pattern = r\"mul.+ing\"\n",
        "re_obj = re.compile(pattern, re.DOTALL)\n",
        "re_obj.findall(string)"
      ],
      "execution_count": 188,
      "outputs": [
        {
          "output_type": "execute_result",
          "data": {
            "text/plain": [
              "['multiline\\nstring']"
            ]
          },
          "metadata": {
            "tags": []
          },
          "execution_count": 188
        }
      ]
    },
    {
      "cell_type": "code",
      "metadata": {
        "colab": {
          "base_uri": "https://localhost:8080/"
        },
        "id": "XC_MdVSgxr84",
        "outputId": "20bf0248-d224-4623-ebc3-ad33f62dca02"
      },
      "source": [
        "string='Tag Name =LIC100 State =TRUE'\n",
        "m = re.search(r'Name\\s*=(\\S*)',string)\n",
        "if m:\n",
        "    print(m.group(1))"
      ],
      "execution_count": 189,
      "outputs": [
        {
          "output_type": "stream",
          "text": [
            "LIC100\n"
          ],
          "name": "stdout"
        }
      ]
    },
    {
      "cell_type": "code",
      "metadata": {
        "colab": {
          "base_uri": "https://localhost:8080/"
        },
        "id": "l6l3MiV3yrj5",
        "outputId": "517cb4bd-a1d7-44f0-8fde-6c201a313f90"
      },
      "source": [
        "string=\"Python\"\n",
        "pattern = r\"^Python$\"\n",
        "if re.match(pattern, string):\n",
        "  print(\"the Whole\")"
      ],
      "execution_count": 192,
      "outputs": [
        {
          "output_type": "stream",
          "text": [
            "the Whole\n"
          ],
          "name": "stdout"
        }
      ]
    },
    {
      "cell_type": "code",
      "metadata": {
        "id": "wVWCJUK3zlR9"
      },
      "source": [
        "string=\"Python\"\n",
        "pattern = r\"^Python$\"\n",
        "re_obh = re.compile(pattern)\n",
        "if re_obj.search(string):\n",
        "  print(\"the\")"
      ],
      "execution_count": 193,
      "outputs": []
    },
    {
      "cell_type": "code",
      "metadata": {
        "colab": {
          "base_uri": "https://localhost:8080/",
          "height": 198
        },
        "id": "HV7GWJeuz3OT",
        "outputId": "4def4664-fb0c-463d-fa1e-789dd71d83a4"
      },
      "source": [
        "p = 5\n",
        "if p != 6:\n",
        "  raise ValueError"
      ],
      "execution_count": 199,
      "outputs": [
        {
          "output_type": "error",
          "ename": "ValueError",
          "evalue": "ignored",
          "traceback": [
            "\u001b[0;31m---------------------------------------------------------------------------\u001b[0m",
            "\u001b[0;31mValueError\u001b[0m                                Traceback (most recent call last)",
            "\u001b[0;32m<ipython-input-199-5a69886d4658>\u001b[0m in \u001b[0;36m<module>\u001b[0;34m()\u001b[0m\n\u001b[1;32m      1\u001b[0m \u001b[0mp\u001b[0m \u001b[0;34m=\u001b[0m \u001b[0;36m5\u001b[0m\u001b[0;34m\u001b[0m\u001b[0;34m\u001b[0m\u001b[0m\n\u001b[1;32m      2\u001b[0m \u001b[0;32mif\u001b[0m \u001b[0mp\u001b[0m \u001b[0;34m!=\u001b[0m \u001b[0;36m6\u001b[0m\u001b[0;34m:\u001b[0m\u001b[0;34m\u001b[0m\u001b[0;34m\u001b[0m\u001b[0m\n\u001b[0;32m----> 3\u001b[0;31m   \u001b[0;32mraise\u001b[0m \u001b[0mValueError\u001b[0m\u001b[0;34m\u001b[0m\u001b[0;34m\u001b[0m\u001b[0m\n\u001b[0m",
            "\u001b[0;31mValueError\u001b[0m: "
          ]
        }
      ]
    },
    {
      "cell_type": "code",
      "metadata": {
        "colab": {
          "base_uri": "https://localhost:8080/"
        },
        "id": "9C-4iN-b0MYF",
        "outputId": "d4281b5b-d2d2-4e47-a289-8e12578a377c"
      },
      "source": [
        "class MyException(Exception):\n",
        "  print('Haha')"
      ],
      "execution_count": 206,
      "outputs": [
        {
          "output_type": "stream",
          "text": [
            "Haha\n"
          ],
          "name": "stdout"
        }
      ]
    },
    {
      "cell_type": "code",
      "metadata": {
        "colab": {
          "base_uri": "https://localhost:8080/",
          "height": 198
        },
        "id": "gWD0__sa0xgp",
        "outputId": "384c1b1c-3478-4334-c86a-1f5f285308a4"
      },
      "source": [
        "p = 5\n",
        "if p != 6:\n",
        "  raise MyException"
      ],
      "execution_count": 208,
      "outputs": [
        {
          "output_type": "error",
          "ename": "MyException",
          "evalue": "ignored",
          "traceback": [
            "\u001b[0;31m---------------------------------------------------------------------------\u001b[0m",
            "\u001b[0;31mMyException\u001b[0m                               Traceback (most recent call last)",
            "\u001b[0;32m<ipython-input-208-62870a303ad1>\u001b[0m in \u001b[0;36m<module>\u001b[0;34m()\u001b[0m\n\u001b[1;32m      1\u001b[0m \u001b[0mp\u001b[0m \u001b[0;34m=\u001b[0m \u001b[0;36m5\u001b[0m\u001b[0;34m\u001b[0m\u001b[0;34m\u001b[0m\u001b[0m\n\u001b[1;32m      2\u001b[0m \u001b[0;32mif\u001b[0m \u001b[0mp\u001b[0m \u001b[0;34m!=\u001b[0m \u001b[0;36m6\u001b[0m\u001b[0;34m:\u001b[0m\u001b[0;34m\u001b[0m\u001b[0;34m\u001b[0m\u001b[0m\n\u001b[0;32m----> 3\u001b[0;31m   \u001b[0;32mraise\u001b[0m \u001b[0mMyException\u001b[0m\u001b[0;34m\u001b[0m\u001b[0;34m\u001b[0m\u001b[0m\n\u001b[0m",
            "\u001b[0;31mMyException\u001b[0m: "
          ]
        }
      ]
    },
    {
      "cell_type": "code",
      "metadata": {
        "colab": {
          "base_uri": "https://localhost:8080/",
          "height": 215
        },
        "id": "hzg3CoRg0z4O",
        "outputId": "b272b488-6e5c-4724-ca5f-823dc95e8090"
      },
      "source": [
        "try:\n",
        "  '5' - 1\n",
        "except TypeError:\n",
        "  raise "
      ],
      "execution_count": 225,
      "outputs": [
        {
          "output_type": "error",
          "ename": "TypeError",
          "evalue": "ignored",
          "traceback": [
            "\u001b[0;31m---------------------------------------------------------------------------\u001b[0m",
            "\u001b[0;31mTypeError\u001b[0m                                 Traceback (most recent call last)",
            "\u001b[0;32m<ipython-input-225-0293a1e162d0>\u001b[0m in \u001b[0;36m<module>\u001b[0;34m()\u001b[0m\n\u001b[1;32m      1\u001b[0m \u001b[0;32mtry\u001b[0m\u001b[0;34m:\u001b[0m\u001b[0;34m\u001b[0m\u001b[0;34m\u001b[0m\u001b[0m\n\u001b[0;32m----> 2\u001b[0;31m   \u001b[0;34m'5'\u001b[0m \u001b[0;34m-\u001b[0m \u001b[0;36m1\u001b[0m\u001b[0;34m\u001b[0m\u001b[0;34m\u001b[0m\u001b[0m\n\u001b[0m\u001b[1;32m      3\u001b[0m \u001b[0;32mexcept\u001b[0m \u001b[0mTypeError\u001b[0m\u001b[0;34m:\u001b[0m\u001b[0;34m\u001b[0m\u001b[0;34m\u001b[0m\u001b[0m\n\u001b[1;32m      4\u001b[0m   \u001b[0;32mraise\u001b[0m\u001b[0;34m\u001b[0m\u001b[0;34m\u001b[0m\u001b[0m\n",
            "\u001b[0;31mTypeError\u001b[0m: unsupported operand type(s) for -: 'str' and 'int'"
          ]
        }
      ]
    },
    {
      "cell_type": "code",
      "metadata": {
        "colab": {
          "base_uri": "https://localhost:8080/",
          "height": 164
        },
        "id": "iUDT34sV13b2",
        "outputId": "4bf78800-7cef-4ab4-e700-e928e2db6399"
      },
      "source": [
        "'5' - 1"
      ],
      "execution_count": 209,
      "outputs": [
        {
          "output_type": "error",
          "ename": "TypeError",
          "evalue": "ignored",
          "traceback": [
            "\u001b[0;31m---------------------------------------------------------------------------\u001b[0m",
            "\u001b[0;31mTypeError\u001b[0m                                 Traceback (most recent call last)",
            "\u001b[0;32m<ipython-input-209-b2e3a7154fea>\u001b[0m in \u001b[0;36m<module>\u001b[0;34m()\u001b[0m\n\u001b[0;32m----> 1\u001b[0;31m \u001b[0;34m'5'\u001b[0m \u001b[0;34m-\u001b[0m \u001b[0;36m1\u001b[0m\u001b[0;34m\u001b[0m\u001b[0;34m\u001b[0m\u001b[0m\n\u001b[0m",
            "\u001b[0;31mTypeError\u001b[0m: unsupported operand type(s) for -: 'str' and 'int'"
          ]
        }
      ]
    },
    {
      "cell_type": "code",
      "metadata": {
        "colab": {
          "base_uri": "https://localhost:8080/",
          "height": 164
        },
        "id": "YVemCwaw137K",
        "outputId": "74456c0f-1d46-485e-9ac7-e5e08d370bf3"
      },
      "source": [
        "'51'[2]"
      ],
      "execution_count": 210,
      "outputs": [
        {
          "output_type": "error",
          "ename": "IndexError",
          "evalue": "ignored",
          "traceback": [
            "\u001b[0;31m---------------------------------------------------------------------------\u001b[0m",
            "\u001b[0;31mIndexError\u001b[0m                                Traceback (most recent call last)",
            "\u001b[0;32m<ipython-input-210-a4efd4e12a8b>\u001b[0m in \u001b[0;36m<module>\u001b[0;34m()\u001b[0m\n\u001b[0;32m----> 1\u001b[0;31m \u001b[0;34m'51'\u001b[0m\u001b[0;34m[\u001b[0m\u001b[0;36m2\u001b[0m\u001b[0;34m]\u001b[0m\u001b[0;34m\u001b[0m\u001b[0;34m\u001b[0m\u001b[0m\n\u001b[0m",
            "\u001b[0;31mIndexError\u001b[0m: string index out of range"
          ]
        }
      ]
    },
    {
      "cell_type": "code",
      "metadata": {
        "colab": {
          "base_uri": "https://localhost:8080/"
        },
        "id": "G-zgTHAK2FAt",
        "outputId": "5ef56883-6835-4712-c641-cc20f5171cc6"
      },
      "source": [
        "x = 0\n",
        "\n",
        "try:\n",
        "  assert x is True, \"X must be true\"\n",
        "except AssertionError:\n",
        "  print(\"aaa\", AssertionError)"
      ],
      "execution_count": 232,
      "outputs": [
        {
          "output_type": "stream",
          "text": [
            "aaa <class 'AssertionError'>\n"
          ],
          "name": "stdout"
        }
      ]
    },
    {
      "cell_type": "code",
      "metadata": {
        "colab": {
          "base_uri": "https://localhost:8080/"
        },
        "id": "QIcg5iuj58DI",
        "outputId": "94820893-8de5-4e3b-f0c8-e06ee867bedc"
      },
      "source": [
        "class MyException(Exception):\n",
        "  def __str__(self):\n",
        "    return \"Exxxx\"\n",
        "try:\n",
        "  raise MyException()\n",
        "except MyException as e:\n",
        "  print(e)"
      ],
      "execution_count": 236,
      "outputs": [
        {
          "output_type": "stream",
          "text": [
            "Exxxx\n"
          ],
          "name": "stdout"
        }
      ]
    },
    {
      "cell_type": "code",
      "metadata": {
        "colab": {
          "base_uri": "https://localhost:8080/",
          "height": 368
        },
        "id": "rWMgAEEo6sLZ",
        "outputId": "1dd3f7f8-4e31-490c-d8c3-70dcc91f7486"
      },
      "source": [
        "import traceback\n",
        "try:\n",
        "  raise MyException()\n",
        "except MyException:\n",
        "  traceback.print_tb(sys.exc_info)"
      ],
      "execution_count": 241,
      "outputs": [
        {
          "output_type": "error",
          "ename": "NameError",
          "evalue": "ignored",
          "traceback": [
            "\u001b[0;31m---------------------------------------------------------------------------\u001b[0m",
            "\u001b[0;31mMyException\u001b[0m                               Traceback (most recent call last)",
            "\u001b[0;32m<ipython-input-241-c829e9d2c8c9>\u001b[0m in \u001b[0;36m<module>\u001b[0;34m()\u001b[0m\n\u001b[1;32m      2\u001b[0m \u001b[0;32mtry\u001b[0m\u001b[0;34m:\u001b[0m\u001b[0;34m\u001b[0m\u001b[0;34m\u001b[0m\u001b[0m\n\u001b[0;32m----> 3\u001b[0;31m   \u001b[0;32mraise\u001b[0m \u001b[0mMyException\u001b[0m\u001b[0;34m(\u001b[0m\u001b[0;34m)\u001b[0m\u001b[0;34m\u001b[0m\u001b[0;34m\u001b[0m\u001b[0m\n\u001b[0m\u001b[1;32m      4\u001b[0m \u001b[0;32mexcept\u001b[0m \u001b[0mMyException\u001b[0m\u001b[0;34m:\u001b[0m\u001b[0;34m\u001b[0m\u001b[0;34m\u001b[0m\u001b[0m\n",
            "\u001b[0;31mMyException\u001b[0m: Exxxx",
            "\nDuring handling of the above exception, another exception occurred:\n",
            "\u001b[0;31mNameError\u001b[0m                                 Traceback (most recent call last)",
            "\u001b[0;32m<ipython-input-241-c829e9d2c8c9>\u001b[0m in \u001b[0;36m<module>\u001b[0;34m()\u001b[0m\n\u001b[1;32m      3\u001b[0m   \u001b[0;32mraise\u001b[0m \u001b[0mMyException\u001b[0m\u001b[0;34m(\u001b[0m\u001b[0;34m)\u001b[0m\u001b[0;34m\u001b[0m\u001b[0;34m\u001b[0m\u001b[0m\n\u001b[1;32m      4\u001b[0m \u001b[0;32mexcept\u001b[0m \u001b[0mMyException\u001b[0m\u001b[0;34m:\u001b[0m\u001b[0;34m\u001b[0m\u001b[0;34m\u001b[0m\u001b[0m\n\u001b[0;32m----> 5\u001b[0;31m   \u001b[0mtraceback\u001b[0m\u001b[0;34m.\u001b[0m\u001b[0mprint_tb\u001b[0m\u001b[0;34m(\u001b[0m\u001b[0msys\u001b[0m\u001b[0;34m.\u001b[0m\u001b[0mexc_info\u001b[0m\u001b[0;34m)\u001b[0m\u001b[0;34m\u001b[0m\u001b[0;34m\u001b[0m\u001b[0m\n\u001b[0m",
            "\u001b[0;31mNameError\u001b[0m: name 'sys' is not defined"
          ]
        }
      ]
    },
    {
      "cell_type": "code",
      "metadata": {
        "colab": {
          "base_uri": "https://localhost:8080/"
        },
        "id": "LhmbqJAd7Kj9",
        "outputId": "c96662df-c51e-4d62-faf1-0713fea546fa"
      },
      "source": [
        "import traceback\n",
        "try:\n",
        "  raise MyException()\n",
        "except MyException as e:\n",
        "  traceback.print_tb(e.__traceback__)"
      ],
      "execution_count": 245,
      "outputs": [
        {
          "output_type": "stream",
          "text": [
            "  File \"<ipython-input-245-540417179cb9>\", line 3, in <module>\n",
            "    raise MyException()\n"
          ],
          "name": "stderr"
        }
      ]
    },
    {
      "cell_type": "code",
      "metadata": {
        "colab": {
          "base_uri": "https://localhost:8080/"
        },
        "id": "HcWtS4Ip7cDM",
        "outputId": "233c2924-34b4-41d1-8a46-a10aa34067d8"
      },
      "source": [
        "import traceback\n",
        "try:\n",
        "  raise MyException()\n",
        "except MyException:\n",
        "  traceback.print_exc()"
      ],
      "execution_count": 243,
      "outputs": [
        {
          "output_type": "stream",
          "text": [
            "Traceback (most recent call last):\n",
            "  File \"<ipython-input-243-ceea03958e38>\", line 3, in <module>\n",
            "    raise MyException()\n",
            "MyException: Exxxx\n"
          ],
          "name": "stderr"
        }
      ]
    },
    {
      "cell_type": "code",
      "metadata": {
        "colab": {
          "base_uri": "https://localhost:8080/",
          "height": 368
        },
        "id": "YrYvjY-Y7lsY",
        "outputId": "5973af6d-ccb2-4b51-9629-0cefc8d713ea"
      },
      "source": [
        "import traceback\n",
        "try:\n",
        "  raise MyException()\n",
        "except MyException as e:\n",
        "  traceback.print_exception(*sys.exc_info())"
      ],
      "execution_count": 244,
      "outputs": [
        {
          "output_type": "error",
          "ename": "NameError",
          "evalue": "ignored",
          "traceback": [
            "\u001b[0;31m---------------------------------------------------------------------------\u001b[0m",
            "\u001b[0;31mMyException\u001b[0m                               Traceback (most recent call last)",
            "\u001b[0;32m<ipython-input-244-946cb8cbf579>\u001b[0m in \u001b[0;36m<module>\u001b[0;34m()\u001b[0m\n\u001b[1;32m      2\u001b[0m \u001b[0;32mtry\u001b[0m\u001b[0;34m:\u001b[0m\u001b[0;34m\u001b[0m\u001b[0;34m\u001b[0m\u001b[0m\n\u001b[0;32m----> 3\u001b[0;31m   \u001b[0;32mraise\u001b[0m \u001b[0mMyException\u001b[0m\u001b[0;34m(\u001b[0m\u001b[0;34m)\u001b[0m\u001b[0;34m\u001b[0m\u001b[0;34m\u001b[0m\u001b[0m\n\u001b[0m\u001b[1;32m      4\u001b[0m \u001b[0;32mexcept\u001b[0m \u001b[0mMyException\u001b[0m \u001b[0;32mas\u001b[0m \u001b[0me\u001b[0m\u001b[0;34m:\u001b[0m\u001b[0;34m\u001b[0m\u001b[0;34m\u001b[0m\u001b[0m\n",
            "\u001b[0;31mMyException\u001b[0m: Exxxx",
            "\nDuring handling of the above exception, another exception occurred:\n",
            "\u001b[0;31mNameError\u001b[0m                                 Traceback (most recent call last)",
            "\u001b[0;32m<ipython-input-244-946cb8cbf579>\u001b[0m in \u001b[0;36m<module>\u001b[0;34m()\u001b[0m\n\u001b[1;32m      3\u001b[0m   \u001b[0;32mraise\u001b[0m \u001b[0mMyException\u001b[0m\u001b[0;34m(\u001b[0m\u001b[0;34m)\u001b[0m\u001b[0;34m\u001b[0m\u001b[0;34m\u001b[0m\u001b[0m\n\u001b[1;32m      4\u001b[0m \u001b[0;32mexcept\u001b[0m \u001b[0mMyException\u001b[0m \u001b[0;32mas\u001b[0m \u001b[0me\u001b[0m\u001b[0;34m:\u001b[0m\u001b[0;34m\u001b[0m\u001b[0;34m\u001b[0m\u001b[0m\n\u001b[0;32m----> 5\u001b[0;31m   \u001b[0mtraceback\u001b[0m\u001b[0;34m.\u001b[0m\u001b[0mprint_exception\u001b[0m\u001b[0;34m(\u001b[0m\u001b[0;34m*\u001b[0m\u001b[0msys\u001b[0m\u001b[0;34m.\u001b[0m\u001b[0mexc_info\u001b[0m\u001b[0;34m(\u001b[0m\u001b[0;34m)\u001b[0m\u001b[0;34m)\u001b[0m\u001b[0;34m\u001b[0m\u001b[0;34m\u001b[0m\u001b[0m\n\u001b[0m",
            "\u001b[0;31mNameError\u001b[0m: name 'sys' is not defined"
          ]
        }
      ]
    },
    {
      "cell_type": "code",
      "metadata": {
        "colab": {
          "base_uri": "https://localhost:8080/"
        },
        "id": "rhSIbRRX7w3L",
        "outputId": "e599bf0c-d3b6-45be-e3ed-b3100ead7805"
      },
      "source": [
        "set([1, 2, 3])"
      ],
      "execution_count": 246,
      "outputs": [
        {
          "output_type": "execute_result",
          "data": {
            "text/plain": [
              "{1, 2, 3}"
            ]
          },
          "metadata": {
            "tags": []
          },
          "execution_count": 246
        }
      ]
    },
    {
      "cell_type": "code",
      "metadata": {
        "id": "ktgzxNp_8E9F"
      },
      "source": [
        "a = set([1, 2, 3])"
      ],
      "execution_count": 255,
      "outputs": []
    },
    {
      "cell_type": "code",
      "metadata": {
        "colab": {
          "base_uri": "https://localhost:8080/"
        },
        "id": "USg8o5bm8GVb",
        "outputId": "a5b7479c-5080-4b49-d01f-fc7f8b80bf00"
      },
      "source": [
        "{1, 2}"
      ],
      "execution_count": 248,
      "outputs": [
        {
          "output_type": "execute_result",
          "data": {
            "text/plain": [
              "{1, 2}"
            ]
          },
          "metadata": {
            "tags": []
          },
          "execution_count": 248
        }
      ]
    },
    {
      "cell_type": "code",
      "metadata": {
        "colab": {
          "base_uri": "https://localhost:8080/"
        },
        "id": "KXiFJ3IA8JSt",
        "outputId": "f60b6d6e-57e1-4dbf-9d61-d05bfe2bfb4b"
      },
      "source": [
        "len(set())"
      ],
      "execution_count": 253,
      "outputs": [
        {
          "output_type": "execute_result",
          "data": {
            "text/plain": [
              "0"
            ]
          },
          "metadata": {
            "tags": []
          },
          "execution_count": 253
        }
      ]
    },
    {
      "cell_type": "code",
      "metadata": {
        "colab": {
          "base_uri": "https://localhost:8080/"
        },
        "id": "yVsmzLGG8Wpn",
        "outputId": "8cdf0d35-6bb3-49a9-d8a4-fb70ec7683a4"
      },
      "source": [
        "len({})"
      ],
      "execution_count": 254,
      "outputs": [
        {
          "output_type": "execute_result",
          "data": {
            "text/plain": [
              "0"
            ]
          },
          "metadata": {
            "tags": []
          },
          "execution_count": 254
        }
      ]
    },
    {
      "cell_type": "code",
      "metadata": {
        "id": "VgsSBdFq8aCj"
      },
      "source": [
        "a.add(4)"
      ],
      "execution_count": 256,
      "outputs": []
    },
    {
      "cell_type": "code",
      "metadata": {
        "id": "8Layba938vAd"
      },
      "source": [
        "a.remove(4)"
      ],
      "execution_count": 258,
      "outputs": []
    },
    {
      "cell_type": "code",
      "metadata": {
        "colab": {
          "base_uri": "https://localhost:8080/"
        },
        "id": "hoWQluft8vno",
        "outputId": "bf325f15-fae0-429b-a511-2c8291400717"
      },
      "source": [
        "a"
      ],
      "execution_count": 259,
      "outputs": [
        {
          "output_type": "execute_result",
          "data": {
            "text/plain": [
              "{1, 2, 3}"
            ]
          },
          "metadata": {
            "tags": []
          },
          "execution_count": 259
        }
      ]
    },
    {
      "cell_type": "code",
      "metadata": {
        "id": "El9dQkUP800_"
      },
      "source": [
        "a.update('a')"
      ],
      "execution_count": 263,
      "outputs": []
    },
    {
      "cell_type": "code",
      "metadata": {
        "colab": {
          "base_uri": "https://localhost:8080/"
        },
        "id": "fY8nFAQj820C",
        "outputId": "3afbdfc4-139d-428d-be35-f7d019306d7e"
      },
      "source": [
        "a"
      ],
      "execution_count": 264,
      "outputs": [
        {
          "output_type": "execute_result",
          "data": {
            "text/plain": [
              "{1, 2, 3, 'a'}"
            ]
          },
          "metadata": {
            "tags": []
          },
          "execution_count": 264
        }
      ]
    },
    {
      "cell_type": "code",
      "metadata": {
        "id": "jlxb8oFC9CoM"
      },
      "source": [
        "a.add(5)"
      ],
      "execution_count": 265,
      "outputs": []
    },
    {
      "cell_type": "code",
      "metadata": {
        "colab": {
          "base_uri": "https://localhost:8080/"
        },
        "id": "j7YZQWUj9F91",
        "outputId": "5498ee98-10a1-4ce0-e898-511ba30e8bd1"
      },
      "source": [
        "a"
      ],
      "execution_count": 266,
      "outputs": [
        {
          "output_type": "execute_result",
          "data": {
            "text/plain": [
              "{1, 2, 3, 5, 'a'}"
            ]
          },
          "metadata": {
            "tags": []
          },
          "execution_count": 266
        }
      ]
    },
    {
      "cell_type": "code",
      "metadata": {
        "id": "85q0sPdB9GgW"
      },
      "source": [
        "a.add('asd')"
      ],
      "execution_count": 267,
      "outputs": []
    },
    {
      "cell_type": "code",
      "metadata": {
        "colab": {
          "base_uri": "https://localhost:8080/"
        },
        "id": "j-wPv_r59JQx",
        "outputId": "67cbe9d2-3abd-4ccf-e783-f8fefd440d49"
      },
      "source": [
        "a"
      ],
      "execution_count": 268,
      "outputs": [
        {
          "output_type": "execute_result",
          "data": {
            "text/plain": [
              "{1, 2, 3, 5, 'a', 'asd'}"
            ]
          },
          "metadata": {
            "tags": []
          },
          "execution_count": 268
        }
      ]
    },
    {
      "cell_type": "code",
      "metadata": {
        "id": "IVaVZnEe9KvS"
      },
      "source": [
        "b = a.copy()"
      ],
      "execution_count": 270,
      "outputs": []
    },
    {
      "cell_type": "code",
      "metadata": {
        "colab": {
          "base_uri": "https://localhost:8080/"
        },
        "id": "n00439_x9ptM",
        "outputId": "6d990e11-6231-47c0-d546-6a357e5947bd"
      },
      "source": [
        "b"
      ],
      "execution_count": 271,
      "outputs": [
        {
          "output_type": "execute_result",
          "data": {
            "text/plain": [
              "{1, 2, 3, 5, 'a', 'asd'}"
            ]
          },
          "metadata": {
            "tags": []
          },
          "execution_count": 271
        }
      ]
    },
    {
      "cell_type": "code",
      "metadata": {
        "id": "1WAWRaZk9tpA"
      },
      "source": [
        "from copy import copy\n",
        "c = copy(b)"
      ],
      "execution_count": 272,
      "outputs": []
    },
    {
      "cell_type": "code",
      "metadata": {
        "colab": {
          "base_uri": "https://localhost:8080/"
        },
        "id": "JwhLV6vV9zY_",
        "outputId": "b5863f24-07ae-4468-9020-a0f71738b1fd"
      },
      "source": [
        "c"
      ],
      "execution_count": 273,
      "outputs": [
        {
          "output_type": "execute_result",
          "data": {
            "text/plain": [
              "{1, 2, 3, 5, 'a', 'asd'}"
            ]
          },
          "metadata": {
            "tags": []
          },
          "execution_count": 273
        }
      ]
    },
    {
      "cell_type": "code",
      "metadata": {
        "id": "DvIgQQCK90G1"
      },
      "source": [
        "d = set(c)"
      ],
      "execution_count": 274,
      "outputs": []
    },
    {
      "cell_type": "code",
      "metadata": {
        "colab": {
          "base_uri": "https://localhost:8080/"
        },
        "id": "ThFs6afU929x",
        "outputId": "58deda62-4229-4094-91a4-34bcf7a80024"
      },
      "source": [
        "d"
      ],
      "execution_count": 275,
      "outputs": [
        {
          "output_type": "execute_result",
          "data": {
            "text/plain": [
              "{1, 2, 3, 5, 'a', 'asd'}"
            ]
          },
          "metadata": {
            "tags": []
          },
          "execution_count": 275
        }
      ]
    },
    {
      "cell_type": "code",
      "metadata": {
        "id": "vKq0Dqkj93zn"
      },
      "source": [
        "a.discard('asd')"
      ],
      "execution_count": 276,
      "outputs": []
    },
    {
      "cell_type": "code",
      "metadata": {
        "colab": {
          "base_uri": "https://localhost:8080/"
        },
        "id": "oHmX8xHy9_XF",
        "outputId": "81c0421b-8992-415c-a181-583c09b07d2d"
      },
      "source": [
        "a"
      ],
      "execution_count": 277,
      "outputs": [
        {
          "output_type": "execute_result",
          "data": {
            "text/plain": [
              "{1, 2, 3, 5, 'a'}"
            ]
          },
          "metadata": {
            "tags": []
          },
          "execution_count": 277
        }
      ]
    },
    {
      "cell_type": "code",
      "metadata": {
        "id": "8XozwhT99_4F"
      },
      "source": [
        "a.remove('a')"
      ],
      "execution_count": 279,
      "outputs": []
    },
    {
      "cell_type": "code",
      "metadata": {
        "colab": {
          "base_uri": "https://localhost:8080/"
        },
        "id": "LhAcREuG-CCC",
        "outputId": "34fdb1ed-5ca7-4625-b108-91dfd277e0f2"
      },
      "source": [
        "a"
      ],
      "execution_count": 280,
      "outputs": [
        {
          "output_type": "execute_result",
          "data": {
            "text/plain": [
              "{1, 2, 3, 5}"
            ]
          },
          "metadata": {
            "tags": []
          },
          "execution_count": 280
        }
      ]
    },
    {
      "cell_type": "code",
      "metadata": {
        "colab": {
          "base_uri": "https://localhost:8080/"
        },
        "id": "ejoBt1dd-Emy",
        "outputId": "449547d3-c793-4164-ea50-3cf08303bf46"
      },
      "source": [
        "a.pop()"
      ],
      "execution_count": 282,
      "outputs": [
        {
          "output_type": "execute_result",
          "data": {
            "text/plain": [
              "1"
            ]
          },
          "metadata": {
            "tags": []
          },
          "execution_count": 282
        }
      ]
    },
    {
      "cell_type": "code",
      "metadata": {
        "colab": {
          "base_uri": "https://localhost:8080/"
        },
        "id": "Vt_DaAiM-GMF",
        "outputId": "e257750e-8bcb-4a1b-e02b-4d2be2a35ae6"
      },
      "source": [
        "a"
      ],
      "execution_count": 283,
      "outputs": [
        {
          "output_type": "execute_result",
          "data": {
            "text/plain": [
              "{2, 3, 5}"
            ]
          },
          "metadata": {
            "tags": []
          },
          "execution_count": 283
        }
      ]
    },
    {
      "cell_type": "code",
      "metadata": {
        "id": "KopJXfH_-IoN"
      },
      "source": [
        "l, s = [1, 2], set([1, 2])"
      ],
      "execution_count": 287,
      "outputs": []
    },
    {
      "cell_type": "code",
      "metadata": {
        "colab": {
          "base_uri": "https://localhost:8080/"
        },
        "id": "behFN4-D-Pw0",
        "outputId": "e50960e6-b4a4-43b2-86a6-ac260c3825ab"
      },
      "source": [
        "l.pop()"
      ],
      "execution_count": 288,
      "outputs": [
        {
          "output_type": "execute_result",
          "data": {
            "text/plain": [
              "2"
            ]
          },
          "metadata": {
            "tags": []
          },
          "execution_count": 288
        }
      ]
    },
    {
      "cell_type": "code",
      "metadata": {
        "colab": {
          "base_uri": "https://localhost:8080/"
        },
        "id": "FWIwDdxU-S2K",
        "outputId": "88cda528-7409-4cd9-9b9d-c72d8029c878"
      },
      "source": [
        "s.pop()"
      ],
      "execution_count": 289,
      "outputs": [
        {
          "output_type": "execute_result",
          "data": {
            "text/plain": [
              "1"
            ]
          },
          "metadata": {
            "tags": []
          },
          "execution_count": 289
        }
      ]
    },
    {
      "cell_type": "code",
      "metadata": {
        "id": "U1glSw2_-UE-"
      },
      "source": [
        "a.clear()"
      ],
      "execution_count": 290,
      "outputs": []
    },
    {
      "cell_type": "code",
      "metadata": {
        "colab": {
          "base_uri": "https://localhost:8080/"
        },
        "id": "SMGa3rqn-cK0",
        "outputId": "3cfa97ef-59ef-4534-a27f-3f64dab00329"
      },
      "source": [
        "a"
      ],
      "execution_count": 291,
      "outputs": [
        {
          "output_type": "execute_result",
          "data": {
            "text/plain": [
              "set()"
            ]
          },
          "metadata": {
            "tags": []
          },
          "execution_count": 291
        }
      ]
    },
    {
      "cell_type": "code",
      "metadata": {
        "id": "G9qbPBxL-crS"
      },
      "source": [
        "a = {1, 2, 3, 5, 'a', 'asd'}"
      ],
      "execution_count": 300,
      "outputs": []
    },
    {
      "cell_type": "code",
      "metadata": {
        "id": "GRU9pKuEAO9O"
      },
      "source": [
        "x = a.remove('asd')"
      ],
      "execution_count": 301,
      "outputs": []
    },
    {
      "cell_type": "code",
      "metadata": {
        "colab": {
          "base_uri": "https://localhost:8080/"
        },
        "id": "mxSUaR1IAT_R",
        "outputId": "821a4d71-928f-40d0-e278-70ba235d9153"
      },
      "source": [
        "a"
      ],
      "execution_count": 302,
      "outputs": [
        {
          "output_type": "execute_result",
          "data": {
            "text/plain": [
              "{1, 2, 3, 5, 'a'}"
            ]
          },
          "metadata": {
            "tags": []
          },
          "execution_count": 302
        }
      ]
    },
    {
      "cell_type": "code",
      "metadata": {
        "colab": {
          "base_uri": "https://localhost:8080/"
        },
        "id": "8XsmMVjEAa55",
        "outputId": "05a3d6b4-d13e-44e8-bafd-3b16451570ef"
      },
      "source": [
        "type(x)"
      ],
      "execution_count": 303,
      "outputs": [
        {
          "output_type": "execute_result",
          "data": {
            "text/plain": [
              "NoneType"
            ]
          },
          "metadata": {
            "tags": []
          },
          "execution_count": 303
        }
      ]
    },
    {
      "cell_type": "code",
      "metadata": {
        "id": "5dwCTkCeAA5E"
      },
      "source": [
        "a.difference_update({'b'})"
      ],
      "execution_count": 306,
      "outputs": []
    },
    {
      "cell_type": "code",
      "metadata": {
        "id": "7Qgn6W8kAwf3"
      },
      "source": [
        "try:\n",
        "  a.discard('b')\n",
        "except:\n",
        "  print('f')"
      ],
      "execution_count": 313,
      "outputs": []
    },
    {
      "cell_type": "code",
      "metadata": {
        "colab": {
          "base_uri": "https://localhost:8080/"
        },
        "id": "J5YcvQ9ZA2rR",
        "outputId": "7847767d-9ed5-4863-b598-77402c990e5c"
      },
      "source": [
        "len(a)"
      ],
      "execution_count": 318,
      "outputs": [
        {
          "output_type": "execute_result",
          "data": {
            "text/plain": [
              "4"
            ]
          },
          "metadata": {
            "tags": []
          },
          "execution_count": 318
        }
      ]
    },
    {
      "cell_type": "code",
      "metadata": {
        "id": "Ol74nZnAA7-N"
      },
      "source": [
        "c = {1}"
      ],
      "execution_count": 315,
      "outputs": []
    },
    {
      "cell_type": "code",
      "metadata": {
        "colab": {
          "base_uri": "https://localhost:8080/"
        },
        "id": "8osoYAbLCnfn",
        "outputId": "3e748b8f-23a9-4b0d-8a0e-0431ae30b439"
      },
      "source": [
        "c.pop()"
      ],
      "execution_count": 316,
      "outputs": [
        {
          "output_type": "execute_result",
          "data": {
            "text/plain": [
              "1"
            ]
          },
          "metadata": {
            "tags": []
          },
          "execution_count": 316
        }
      ]
    },
    {
      "cell_type": "code",
      "metadata": {
        "colab": {
          "base_uri": "https://localhost:8080/",
          "height": 164
        },
        "id": "kzqVTyH6Co8r",
        "outputId": "ebc1286e-fd0f-4b86-d000-c9cf5f6ea8bc"
      },
      "source": [
        "c.pop()"
      ],
      "execution_count": 317,
      "outputs": [
        {
          "output_type": "error",
          "ename": "KeyError",
          "evalue": "ignored",
          "traceback": [
            "\u001b[0;31m---------------------------------------------------------------------------\u001b[0m",
            "\u001b[0;31mKeyError\u001b[0m                                  Traceback (most recent call last)",
            "\u001b[0;32m<ipython-input-317-c53a93bfccc7>\u001b[0m in \u001b[0;36m<module>\u001b[0;34m()\u001b[0m\n\u001b[0;32m----> 1\u001b[0;31m \u001b[0mc\u001b[0m\u001b[0;34m.\u001b[0m\u001b[0mpop\u001b[0m\u001b[0;34m(\u001b[0m\u001b[0;34m)\u001b[0m\u001b[0;34m\u001b[0m\u001b[0;34m\u001b[0m\u001b[0m\n\u001b[0m",
            "\u001b[0;31mKeyError\u001b[0m: 'pop from an empty set'"
          ]
        }
      ]
    },
    {
      "cell_type": "code",
      "metadata": {
        "colab": {
          "base_uri": "https://localhost:8080/"
        },
        "id": "dkybmEFZCqT5",
        "outputId": "29922929-cfd9-44f2-ca3e-c4479bd8ac1a"
      },
      "source": [
        "a"
      ],
      "execution_count": 365,
      "outputs": [
        {
          "output_type": "execute_result",
          "data": {
            "text/plain": [
              "{1, 2}"
            ]
          },
          "metadata": {
            "tags": []
          },
          "execution_count": 365
        }
      ]
    },
    {
      "cell_type": "code",
      "metadata": {
        "id": "ARDpq1cRCzGp"
      },
      "source": [
        "b = {2, 5,6}"
      ],
      "execution_count": 366,
      "outputs": []
    },
    {
      "cell_type": "code",
      "metadata": {
        "colab": {
          "base_uri": "https://localhost:8080/"
        },
        "id": "gdTrDuq4C1bB",
        "outputId": "35e6bfeb-e367-4a87-90fc-34fef8e952d0"
      },
      "source": [
        "a.intersection(b) == a & b"
      ],
      "execution_count": 367,
      "outputs": [
        {
          "output_type": "execute_result",
          "data": {
            "text/plain": [
              "True"
            ]
          },
          "metadata": {
            "tags": []
          },
          "execution_count": 367
        }
      ]
    },
    {
      "cell_type": "code",
      "metadata": {
        "colab": {
          "base_uri": "https://localhost:8080/"
        },
        "id": "0POX9IzGC4Hv",
        "outputId": "4a4e1148-b794-43f9-9c0b-8a89722175ca"
      },
      "source": [
        "a.difference(b) == a- b"
      ],
      "execution_count": 368,
      "outputs": [
        {
          "output_type": "execute_result",
          "data": {
            "text/plain": [
              "True"
            ]
          },
          "metadata": {
            "tags": []
          },
          "execution_count": 368
        }
      ]
    },
    {
      "cell_type": "code",
      "metadata": {
        "colab": {
          "base_uri": "https://localhost:8080/"
        },
        "id": "HG9_AthyDDjn",
        "outputId": "8f3dcf43-1d37-46ec-9450-4c255c7d84e9"
      },
      "source": [
        "a.difference(b)"
      ],
      "execution_count": 329,
      "outputs": [
        {
          "output_type": "execute_result",
          "data": {
            "text/plain": [
              "{1, 3}"
            ]
          },
          "metadata": {
            "tags": []
          },
          "execution_count": 329
        }
      ]
    },
    {
      "cell_type": "code",
      "metadata": {
        "colab": {
          "base_uri": "https://localhost:8080/"
        },
        "id": "VWg_5nKLDKNf",
        "outputId": "d9fc4be3-fd85-41e4-cbad-5f4c9aded80c"
      },
      "source": [
        "a.symmetric_difference(b) == a ^ b"
      ],
      "execution_count": 369,
      "outputs": [
        {
          "output_type": "execute_result",
          "data": {
            "text/plain": [
              "True"
            ]
          },
          "metadata": {
            "tags": []
          },
          "execution_count": 369
        }
      ]
    },
    {
      "cell_type": "code",
      "metadata": {
        "colab": {
          "base_uri": "https://localhost:8080/"
        },
        "id": "Yyj6YaDHDUKz",
        "outputId": "5bd4f73a-e2cb-4ef3-b513-dc2feafcb847"
      },
      "source": [
        "a.union(b) == a | b"
      ],
      "execution_count": 370,
      "outputs": [
        {
          "output_type": "execute_result",
          "data": {
            "text/plain": [
              "True"
            ]
          },
          "metadata": {
            "tags": []
          },
          "execution_count": 370
        }
      ]
    },
    {
      "cell_type": "code",
      "metadata": {
        "id": "dtc5uQ0jEBy4"
      },
      "source": [
        "a, b = {1, 2, 3, 5}, {2, 5}"
      ],
      "execution_count": 334,
      "outputs": []
    },
    {
      "cell_type": "code",
      "metadata": {
        "colab": {
          "base_uri": "https://localhost:8080/"
        },
        "id": "g6jCH481EN8v",
        "outputId": "7daa93d0-66b8-4b0b-e7ac-b4c12e754f35"
      },
      "source": [
        "a.issuperset(b)"
      ],
      "execution_count": 335,
      "outputs": [
        {
          "output_type": "execute_result",
          "data": {
            "text/plain": [
              "True"
            ]
          },
          "metadata": {
            "tags": []
          },
          "execution_count": 335
        }
      ]
    },
    {
      "cell_type": "code",
      "metadata": {
        "colab": {
          "base_uri": "https://localhost:8080/"
        },
        "id": "X4UkSZt4ESJZ",
        "outputId": "5f72b200-7776-4d55-c83c-2682f986be88"
      },
      "source": [
        "b in a"
      ],
      "execution_count": 336,
      "outputs": [
        {
          "output_type": "execute_result",
          "data": {
            "text/plain": [
              "False"
            ]
          },
          "metadata": {
            "tags": []
          },
          "execution_count": 336
        }
      ]
    },
    {
      "cell_type": "code",
      "metadata": {
        "colab": {
          "base_uri": "https://localhost:8080/"
        },
        "id": "21sg9O_9EUg8",
        "outputId": "eeab6e9b-7063-4122-b3ce-e6566c4cf092"
      },
      "source": [
        "a.issubset(b)"
      ],
      "execution_count": 337,
      "outputs": [
        {
          "output_type": "execute_result",
          "data": {
            "text/plain": [
              "False"
            ]
          },
          "metadata": {
            "tags": []
          },
          "execution_count": 337
        }
      ]
    },
    {
      "cell_type": "code",
      "metadata": {
        "colab": {
          "base_uri": "https://localhost:8080/"
        },
        "id": "ZqCsWurJEcSc",
        "outputId": "7d12a674-8e5a-4bfa-ee54-c68b56e54bf0"
      },
      "source": [
        "a in b"
      ],
      "execution_count": 338,
      "outputs": [
        {
          "output_type": "execute_result",
          "data": {
            "text/plain": [
              "False"
            ]
          },
          "metadata": {
            "tags": []
          },
          "execution_count": 338
        }
      ]
    },
    {
      "cell_type": "code",
      "metadata": {
        "id": "dDx0nYXKEoNp"
      },
      "source": [
        "a, b = {1, 2, 3, 5}, {1, 2, 3, 5, 6}"
      ],
      "execution_count": 339,
      "outputs": []
    },
    {
      "cell_type": "code",
      "metadata": {
        "colab": {
          "base_uri": "https://localhost:8080/"
        },
        "id": "8yOKxWWJE1af",
        "outputId": "93b527ba-38fb-4c11-d8d2-d09068ff87dc"
      },
      "source": [
        "a.issuperset(b)"
      ],
      "execution_count": 340,
      "outputs": [
        {
          "output_type": "execute_result",
          "data": {
            "text/plain": [
              "False"
            ]
          },
          "metadata": {
            "tags": []
          },
          "execution_count": 340
        }
      ]
    },
    {
      "cell_type": "code",
      "metadata": {
        "colab": {
          "base_uri": "https://localhost:8080/"
        },
        "id": "kklhdkjxE3yG",
        "outputId": "2bf96eac-4892-41a0-8ebe-228814b8e62f"
      },
      "source": [
        "a.issubset(b)"
      ],
      "execution_count": 341,
      "outputs": [
        {
          "output_type": "execute_result",
          "data": {
            "text/plain": [
              "True"
            ]
          },
          "metadata": {
            "tags": []
          },
          "execution_count": 341
        }
      ]
    },
    {
      "cell_type": "code",
      "metadata": {
        "id": "jBGgKj_oE5f-"
      },
      "source": [
        "a, b = {1, 2}, {3, 4}"
      ],
      "execution_count": 359,
      "outputs": []
    },
    {
      "cell_type": "code",
      "metadata": {
        "id": "3pcundXVGybE"
      },
      "source": [
        "a.update(b)"
      ],
      "execution_count": 360,
      "outputs": []
    },
    {
      "cell_type": "code",
      "metadata": {
        "colab": {
          "base_uri": "https://localhost:8080/"
        },
        "id": "J8JR2W_hG0-5",
        "outputId": "32ce06b7-2ac0-4c7a-b4a3-365fcb77f05f"
      },
      "source": [
        "a"
      ],
      "execution_count": 361,
      "outputs": [
        {
          "output_type": "execute_result",
          "data": {
            "text/plain": [
              "{1, 2, 3, 4}"
            ]
          },
          "metadata": {
            "tags": []
          },
          "execution_count": 361
        }
      ]
    },
    {
      "cell_type": "code",
      "metadata": {
        "colab": {
          "base_uri": "https://localhost:8080/"
        },
        "id": "vewPiRyRFGgX",
        "outputId": "8ff7fa85-60b0-40d3-be40-3028ff7cb5a0"
      },
      "source": [
        "a.isdisjoint(b)"
      ],
      "execution_count": 343,
      "outputs": [
        {
          "output_type": "execute_result",
          "data": {
            "text/plain": [
              "True"
            ]
          },
          "metadata": {
            "tags": []
          },
          "execution_count": 343
        }
      ]
    },
    {
      "cell_type": "code",
      "metadata": {
        "id": "7r52U1TUFINn"
      },
      "source": [
        "a = [1, 1, 1, 1, 2]"
      ],
      "execution_count": 346,
      "outputs": []
    },
    {
      "cell_type": "code",
      "metadata": {
        "colab": {
          "base_uri": "https://localhost:8080/"
        },
        "id": "zMW3A-wfFTPL",
        "outputId": "a08ade2f-ff26-48dd-fcf6-4b383c3f2359"
      },
      "source": [
        "a"
      ],
      "execution_count": 347,
      "outputs": [
        {
          "output_type": "execute_result",
          "data": {
            "text/plain": [
              "[1, 1, 1, 1, 2]"
            ]
          },
          "metadata": {
            "tags": []
          },
          "execution_count": 347
        }
      ]
    },
    {
      "cell_type": "code",
      "metadata": {
        "id": "oRBYIYkWFTrQ"
      },
      "source": [
        "a = list(set(a))"
      ],
      "execution_count": 351,
      "outputs": []
    },
    {
      "cell_type": "code",
      "metadata": {
        "colab": {
          "base_uri": "https://localhost:8080/"
        },
        "id": "3LCXM2wqFYMs",
        "outputId": "684df682-6e99-4c00-837a-0dcba5a49375"
      },
      "source": [
        "a"
      ],
      "execution_count": 352,
      "outputs": [
        {
          "output_type": "execute_result",
          "data": {
            "text/plain": [
              "[1, 2]"
            ]
          },
          "metadata": {
            "tags": []
          },
          "execution_count": 352
        }
      ]
    },
    {
      "cell_type": "code",
      "metadata": {
        "colab": {
          "base_uri": "https://localhost:8080/"
        },
        "id": "dgBtNQ1LFj4o",
        "outputId": "466d533c-df1b-4a6e-d4b4-b689a55b0a30"
      },
      "source": [
        "set([x * 2 for x in [1, 2, 3]])"
      ],
      "execution_count": 357,
      "outputs": [
        {
          "output_type": "execute_result",
          "data": {
            "text/plain": [
              "{2, 4, 6}"
            ]
          },
          "metadata": {
            "tags": []
          },
          "execution_count": 357
        }
      ]
    },
    {
      "cell_type": "code",
      "metadata": {
        "colab": {
          "base_uri": "https://localhost:8080/"
        },
        "id": "tph8fzF6F009",
        "outputId": "67a11047-9173-4e5c-faaa-4ae9fc0c6ed7"
      },
      "source": [
        "set(x * 2 for x in [1, 2, 3])"
      ],
      "execution_count": 358,
      "outputs": [
        {
          "output_type": "execute_result",
          "data": {
            "text/plain": [
              "{2, 4, 6}"
            ]
          },
          "metadata": {
            "tags": []
          },
          "execution_count": 358
        }
      ]
    },
    {
      "cell_type": "code",
      "metadata": {
        "id": "bXtAsstXGEzs"
      },
      "source": [
        "a, b = {1, 2}, {3, 4}"
      ],
      "execution_count": 362,
      "outputs": []
    },
    {
      "cell_type": "code",
      "metadata": {
        "colab": {
          "base_uri": "https://localhost:8080/"
        },
        "id": "ArBWlcwzHA81",
        "outputId": "959d28ba-dc1d-4d4c-dfe4-b0b826878e12"
      },
      "source": [
        "a | b"
      ],
      "execution_count": 363,
      "outputs": [
        {
          "output_type": "execute_result",
          "data": {
            "text/plain": [
              "{1, 2, 3, 4}"
            ]
          },
          "metadata": {
            "tags": []
          },
          "execution_count": 363
        }
      ]
    },
    {
      "cell_type": "code",
      "metadata": {
        "colab": {
          "base_uri": "https://localhost:8080/"
        },
        "id": "gpeLOcEvHCAL",
        "outputId": "b5d59234-0575-4643-a4ca-57b77d8fc930"
      },
      "source": [
        "a & b"
      ],
      "execution_count": 364,
      "outputs": [
        {
          "output_type": "execute_result",
          "data": {
            "text/plain": [
              "set()"
            ]
          },
          "metadata": {
            "tags": []
          },
          "execution_count": 364
        }
      ]
    },
    {
      "cell_type": "code",
      "metadata": {
        "id": "XK8MDoUrHDZ8"
      },
      "source": [
        "a = [2, 3, 1, 5]"
      ],
      "execution_count": 381,
      "outputs": []
    },
    {
      "cell_type": "code",
      "metadata": {
        "id": "cO2_QZC1HsSj"
      },
      "source": [
        "a.sort()"
      ],
      "execution_count": 373,
      "outputs": []
    },
    {
      "cell_type": "code",
      "metadata": {
        "colab": {
          "base_uri": "https://localhost:8080/"
        },
        "id": "KYMBGk0jHt7-",
        "outputId": "9b613212-6f8c-4d2f-923b-917ffe3ee1a8"
      },
      "source": [
        "a"
      ],
      "execution_count": 374,
      "outputs": [
        {
          "output_type": "execute_result",
          "data": {
            "text/plain": [
              "[1, 2, 3, 5]"
            ]
          },
          "metadata": {
            "tags": []
          },
          "execution_count": 374
        }
      ]
    },
    {
      "cell_type": "code",
      "metadata": {
        "id": "Qvk8zrtUHywP"
      },
      "source": [
        "a = a.sort()"
      ],
      "execution_count": 376,
      "outputs": []
    },
    {
      "cell_type": "code",
      "metadata": {
        "id": "QE_knoc6H3QC"
      },
      "source": [
        "a"
      ],
      "execution_count": 378,
      "outputs": []
    },
    {
      "cell_type": "code",
      "metadata": {
        "colab": {
          "base_uri": "https://localhost:8080/",
          "height": 164
        },
        "id": "U8SFdOzSH3rR",
        "outputId": "7c0e07aa-861f-46b4-d9f5-1d1c3ce457b6"
      },
      "source": [
        "a = sort(a)"
      ],
      "execution_count": 379,
      "outputs": [
        {
          "output_type": "error",
          "ename": "NameError",
          "evalue": "ignored",
          "traceback": [
            "\u001b[0;31m---------------------------------------------------------------------------\u001b[0m",
            "\u001b[0;31mNameError\u001b[0m                                 Traceback (most recent call last)",
            "\u001b[0;32m<ipython-input-379-0d610db22f80>\u001b[0m in \u001b[0;36m<module>\u001b[0;34m()\u001b[0m\n\u001b[0;32m----> 1\u001b[0;31m \u001b[0ma\u001b[0m \u001b[0;34m=\u001b[0m \u001b[0msort\u001b[0m\u001b[0;34m(\u001b[0m\u001b[0ma\u001b[0m\u001b[0;34m)\u001b[0m\u001b[0;34m\u001b[0m\u001b[0;34m\u001b[0m\u001b[0m\n\u001b[0m",
            "\u001b[0;31mNameError\u001b[0m: name 'sort' is not defined"
          ]
        }
      ]
    },
    {
      "cell_type": "code",
      "metadata": {
        "colab": {
          "base_uri": "https://localhost:8080/"
        },
        "id": "u1r-jwVgH6nt",
        "outputId": "be7a5236-d8ee-42e3-d037-8f6eb95965f3"
      },
      "source": [
        "a"
      ],
      "execution_count": 382,
      "outputs": [
        {
          "output_type": "execute_result",
          "data": {
            "text/plain": [
              "[2, 3, 1, 5]"
            ]
          },
          "metadata": {
            "tags": []
          },
          "execution_count": 382
        }
      ]
    },
    {
      "cell_type": "code",
      "metadata": {
        "colab": {
          "base_uri": "https://localhost:8080/"
        },
        "id": "iacGk9k9H-Rl",
        "outputId": "b32df13e-2ecb-4d87-9738-8cc9e0eb4e27"
      },
      "source": [
        "v = 5\n",
        "\n",
        "if v in a:\n",
        "  a.remove(v)\n",
        "\n",
        "print(a)"
      ],
      "execution_count": 385,
      "outputs": [
        {
          "output_type": "stream",
          "text": [
            "[2, 3, 1]\n"
          ],
          "name": "stdout"
        }
      ]
    },
    {
      "cell_type": "code",
      "metadata": {
        "id": "x8L27hvHIChb"
      },
      "source": [
        ""
      ],
      "execution_count": null,
      "outputs": []
    }
  ]
}