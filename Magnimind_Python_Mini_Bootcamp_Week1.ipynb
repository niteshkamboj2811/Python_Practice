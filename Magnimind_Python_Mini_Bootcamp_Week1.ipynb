{
  "nbformat": 4,
  "nbformat_minor": 0,
  "metadata": {
    "colab": {
      "name": "Magnimind Python Mini-Bootcamp Week1",
      "provenance": [],
      "collapsed_sections": [],
      "include_colab_link": true
    },
    "kernelspec": {
      "name": "python3",
      "display_name": "Python 3"
    },
    "language_info": {
      "name": "python"
    }
  },
  "cells": [
    {
      "cell_type": "markdown",
      "metadata": {
        "id": "view-in-github",
        "colab_type": "text"
      },
      "source": [
        "<a href=\"https://colab.research.google.com/github/niteshkamboj2811/Python_Practice/blob/main/Magnimind_Python_Mini_Bootcamp_Week1.ipynb\" target=\"_parent\"><img src=\"https://colab.research.google.com/assets/colab-badge.svg\" alt=\"Open In Colab\"/></a>"
      ]
    },
    {
      "cell_type": "code",
      "metadata": {
        "id": "XtGr5V4o9i61"
      },
      "source": [
        "#Python Developer: Median $93k\n",
        "#Used for AI\n",
        "\n",
        "#3 months to remember"
      ],
      "execution_count": null,
      "outputs": []
    },
    {
      "cell_type": "markdown",
      "metadata": {
        "id": "-D4h4HGk-B7R"
      },
      "source": [
        "#Data Types"
      ]
    },
    {
      "cell_type": "markdown",
      "metadata": {
        "id": "iEZNqz5r_dUn"
      },
      "source": [
        "## 1. Strings"
      ]
    },
    {
      "cell_type": "markdown",
      "metadata": {
        "id": "YbnGT99jBQ5d"
      },
      "source": [
        "![alt](https://drive.google.com/uc?id=1TniUYTKR62mjEc_3bM7F-5tGcXcdttMF)"
      ]
    },
    {
      "cell_type": "code",
      "metadata": {
        "colab": {
          "base_uri": "https://localhost:8080/"
        },
        "id": "ucyxDYB-951O",
        "outputId": "c8a8d5c1-346c-4325-cdc3-a216368db75c"
      },
      "source": [
        "print('I like enchiladas')"
      ],
      "execution_count": null,
      "outputs": [
        {
          "output_type": "stream",
          "text": [
            "I like enchiladas\n"
          ],
          "name": "stdout"
        }
      ]
    },
    {
      "cell_type": "code",
      "metadata": {
        "id": "T2d_IoeXCCmP"
      },
      "source": [
        "\"cat\"\n",
        "'cat'\n",
        "'cat\" <-- WRONG!"
      ],
      "execution_count": null,
      "outputs": []
    },
    {
      "cell_type": "code",
      "metadata": {
        "colab": {
          "base_uri": "https://localhost:8080/"
        },
        "id": "hgBmZgGjCOcq",
        "outputId": "c1e9cba5-a48f-47b6-a804-90dda82442bd"
      },
      "source": [
        "print('I like ' + 'enchiladas')"
      ],
      "execution_count": null,
      "outputs": [
        {
          "output_type": "stream",
          "text": [
            "I like enchiladas\n"
          ],
          "name": "stdout"
        }
      ]
    },
    {
      "cell_type": "markdown",
      "metadata": {
        "id": "oU5rrV7fE6e-"
      },
      "source": [
        "## Index"
      ]
    },
    {
      "cell_type": "markdown",
      "metadata": {
        "id": "xNvSR9pYC3YT"
      },
      "source": [
        "\n",
        "\n",
        "\n",
        "![alt](https://drive.google.com/uc?id=1O1wwZmSmEfJX9PW9u5zKXjGCcfXcuqTa)"
      ]
    },
    {
      "cell_type": "markdown",
      "metadata": {
        "id": "EfOSGmqbGH-I"
      },
      "source": [
        "##Bring me whatever letter is in position 8\n",
        "## R"
      ]
    },
    {
      "cell_type": "code",
      "metadata": {
        "colab": {
          "base_uri": "https://localhost:8080/",
          "height": 35
        },
        "id": "iLGMzA_6EoVQ",
        "outputId": "515d3f7f-daa9-47a9-c859-717abdcba05d"
      },
      "source": [
        "\"HAPPY BIRTHDAY\"[8]"
      ],
      "execution_count": null,
      "outputs": [
        {
          "output_type": "execute_result",
          "data": {
            "application/vnd.google.colaboratory.intrinsic+json": {
              "type": "string"
            },
            "text/plain": [
              "'R'"
            ]
          },
          "metadata": {
            "tags": []
          },
          "execution_count": 2
        }
      ]
    },
    {
      "cell_type": "code",
      "metadata": {
        "colab": {
          "base_uri": "https://localhost:8080/",
          "height": 36
        },
        "id": "yvDHE1H0FA3K",
        "outputId": "b97208dd-d587-443a-dfcc-6269d56deaea"
      },
      "source": [
        "#Bring me all the letters from 8 to the end\n",
        "\"HAPPY BIRTHDAY\"[8:]"
      ],
      "execution_count": null,
      "outputs": [
        {
          "output_type": "execute_result",
          "data": {
            "application/vnd.google.colaboratory.intrinsic+json": {
              "type": "string"
            },
            "text/plain": [
              "'RTHDAY'"
            ]
          },
          "metadata": {
            "tags": []
          },
          "execution_count": 11
        }
      ]
    },
    {
      "cell_type": "code",
      "metadata": {
        "colab": {
          "base_uri": "https://localhost:8080/",
          "height": 36
        },
        "id": "QoPD_pDoFJB8",
        "outputId": "0d90c113-271a-404a-8db1-7bf28f227588"
      },
      "source": [
        "#Bring me all the letters from 2 to up to 5\n",
        "\"HAPPY BIRTHDAY\"[2:5]"
      ],
      "execution_count": null,
      "outputs": [
        {
          "output_type": "execute_result",
          "data": {
            "application/vnd.google.colaboratory.intrinsic+json": {
              "type": "string"
            },
            "text/plain": [
              "'PPY'"
            ]
          },
          "metadata": {
            "tags": []
          },
          "execution_count": 12
        }
      ]
    },
    {
      "cell_type": "code",
      "metadata": {
        "colab": {
          "base_uri": "https://localhost:8080/",
          "height": 36
        },
        "id": "gi7HlOckFYRA",
        "outputId": "ddb89099-fb68-45e5-b40e-bce3364aa516"
      },
      "source": [
        "#Combine commands\n",
        "\n",
        "\"HAPPY BIRTHDAY\"[:5] + \"HAPPY BIRTHDAY\"[11:]"
      ],
      "execution_count": null,
      "outputs": [
        {
          "output_type": "execute_result",
          "data": {
            "application/vnd.google.colaboratory.intrinsic+json": {
              "type": "string"
            },
            "text/plain": [
              "'HAPPYDAY'"
            ]
          },
          "metadata": {
            "tags": []
          },
          "execution_count": 13
        }
      ]
    },
    {
      "cell_type": "markdown",
      "metadata": {
        "id": "z4dJwlgcBbXW"
      },
      "source": [
        "## 1.2 Math"
      ]
    },
    {
      "cell_type": "code",
      "metadata": {
        "id": "bcPL9159GRqW",
        "colab": {
          "base_uri": "https://localhost:8080/"
        },
        "outputId": "63a8c689-d8d3-434c-d6f5-42a2f6000bc8"
      },
      "source": [
        "1 + 1"
      ],
      "execution_count": null,
      "outputs": [
        {
          "output_type": "execute_result",
          "data": {
            "text/plain": [
              "2"
            ]
          },
          "metadata": {
            "tags": []
          },
          "execution_count": 3
        }
      ]
    },
    {
      "cell_type": "code",
      "metadata": {
        "id": "nOyuRlCFGTSI",
        "colab": {
          "base_uri": "https://localhost:8080/"
        },
        "outputId": "b69211f6-3ef8-465a-d72e-db881c34bc3d"
      },
      "source": [
        "2 * 2"
      ],
      "execution_count": null,
      "outputs": [
        {
          "output_type": "execute_result",
          "data": {
            "text/plain": [
              "4"
            ]
          },
          "metadata": {
            "tags": []
          },
          "execution_count": 4
        }
      ]
    },
    {
      "cell_type": "code",
      "metadata": {
        "id": "vyD32brHGWIP",
        "colab": {
          "base_uri": "https://localhost:8080/"
        },
        "outputId": "a3a5a679-ee63-443d-d43c-9624f9dd0d5d"
      },
      "source": [
        "5 ** 2"
      ],
      "execution_count": null,
      "outputs": [
        {
          "output_type": "execute_result",
          "data": {
            "text/plain": [
              "25"
            ]
          },
          "metadata": {
            "tags": []
          },
          "execution_count": 5
        }
      ]
    },
    {
      "cell_type": "code",
      "metadata": {
        "id": "c4AFdFcvUGAP"
      },
      "source": [
        "4 /3 = 1 "
      ],
      "execution_count": null,
      "outputs": []
    },
    {
      "cell_type": "code",
      "metadata": {
        "id": "DefZX07zGa0H",
        "colab": {
          "base_uri": "https://localhost:8080/"
        },
        "outputId": "6223635a-eb75-4454-c7ce-cd650f74a062"
      },
      "source": [
        "11 // 5"
      ],
      "execution_count": null,
      "outputs": [
        {
          "output_type": "execute_result",
          "data": {
            "text/plain": [
              "2"
            ]
          },
          "metadata": {
            "tags": []
          },
          "execution_count": 6
        }
      ]
    },
    {
      "cell_type": "code",
      "metadata": {
        "id": "CqqNd8oBUWhn"
      },
      "source": [
        "4/3 = 1 1/3\n",
        "\n",
        "1\n",
        "\n",
        "11 % 5  = 1\n",
        "\n",
        "if\n",
        "x % 2 == 0:"
      ],
      "execution_count": null,
      "outputs": []
    },
    {
      "cell_type": "code",
      "metadata": {
        "id": "w1w6uqcGGo3x"
      },
      "source": [
        "11 % 5\n",
        "#divisible by"
      ],
      "execution_count": null,
      "outputs": []
    },
    {
      "cell_type": "code",
      "metadata": {
        "colab": {
          "base_uri": "https://localhost:8080/"
        },
        "id": "IiTOSMhuGu3I",
        "outputId": "a805629c-c21d-4afd-87e8-0d9a3c8e5e02"
      },
      "source": [
        "int(100.0)"
      ],
      "execution_count": null,
      "outputs": [
        {
          "output_type": "execute_result",
          "data": {
            "text/plain": [
              "100"
            ]
          },
          "metadata": {
            "tags": []
          },
          "execution_count": 7
        }
      ]
    },
    {
      "cell_type": "code",
      "metadata": {
        "colab": {
          "base_uri": "https://localhost:8080/"
        },
        "id": "tRGiLgsLGxfm",
        "outputId": "442716cc-2a5a-49c1-ed7b-5535810bd5b3"
      },
      "source": [
        "float(100.0)\n",
        "\n",
        "1234567890"
      ],
      "execution_count": null,
      "outputs": [
        {
          "output_type": "execute_result",
          "data": {
            "text/plain": [
              "100.0"
            ]
          },
          "metadata": {
            "tags": []
          },
          "execution_count": 15
        }
      ]
    },
    {
      "cell_type": "code",
      "metadata": {
        "colab": {
          "base_uri": "https://localhost:8080/",
          "height": 35
        },
        "id": "9pDUlJxdG03Q",
        "outputId": "a0dc7ca4-37e0-4892-abe1-1ffed624a42a"
      },
      "source": [
        "str(100.0)"
      ],
      "execution_count": null,
      "outputs": [
        {
          "output_type": "execute_result",
          "data": {
            "application/vnd.google.colaboratory.intrinsic+json": {
              "type": "string"
            },
            "text/plain": [
              "'100.0'"
            ]
          },
          "metadata": {
            "tags": []
          },
          "execution_count": 8
        }
      ]
    },
    {
      "cell_type": "code",
      "metadata": {
        "colab": {
          "base_uri": "https://localhost:8080/",
          "height": 35
        },
        "id": "1I3vxzjSG7HB",
        "outputId": "015ccdbb-e442-48e5-e3f2-ad53676b516c"
      },
      "source": [
        "\"I am looking \" + str(100.0)"
      ],
      "execution_count": null,
      "outputs": [
        {
          "output_type": "execute_result",
          "data": {
            "application/vnd.google.colaboratory.intrinsic+json": {
              "type": "string"
            },
            "text/plain": [
              "'I am looking 100.0'"
            ]
          },
          "metadata": {
            "tags": []
          },
          "execution_count": 14
        }
      ]
    },
    {
      "cell_type": "code",
      "metadata": {
        "colab": {
          "base_uri": "https://localhost:8080/"
        },
        "id": "6s5FTyGiHNHI",
        "outputId": "89a1f80f-f6ce-4bf0-afdb-b7400b0c7709"
      },
      "source": [
        "200 + int(100.0)"
      ],
      "execution_count": null,
      "outputs": [
        {
          "output_type": "execute_result",
          "data": {
            "text/plain": [
              "300"
            ]
          },
          "metadata": {
            "tags": []
          },
          "execution_count": 12
        }
      ]
    },
    {
      "cell_type": "markdown",
      "metadata": {
        "id": "TWH33tWKBf5a"
      },
      "source": [
        "## 2. Variables"
      ]
    },
    {
      "cell_type": "markdown",
      "metadata": {
        "id": "P3eq3h-9Jc4O"
      },
      "source": [
        "![alt](https://drive.google.com/uc?id=1KPhnXPz4tCYNEXHoiYklNFTG_J4b18Bh)\n"
      ]
    },
    {
      "cell_type": "code",
      "metadata": {
        "id": "ASG8bARHJUPb"
      },
      "source": [
        "banner = 'HAPPY BIRTHDAY'"
      ],
      "execution_count": null,
      "outputs": []
    },
    {
      "cell_type": "code",
      "metadata": {
        "id": "0tpztT80HRpY",
        "colab": {
          "base_uri": "https://localhost:8080/"
        },
        "outputId": "9834e563-10f3-40a9-ad4b-cb21d47e0c54"
      },
      "source": [
        "print(banner)"
      ],
      "execution_count": null,
      "outputs": [
        {
          "output_type": "stream",
          "text": [
            "HAPPY BIRTHDAY\n"
          ],
          "name": "stdout"
        }
      ]
    },
    {
      "cell_type": "code",
      "metadata": {
        "id": "ef7zeX6SHRbd"
      },
      "source": [
        "intro = 'Wishing you a '"
      ],
      "execution_count": null,
      "outputs": []
    },
    {
      "cell_type": "code",
      "metadata": {
        "colab": {
          "base_uri": "https://localhost:8080/"
        },
        "id": "s0dK6LmWHRFq",
        "outputId": "040f318f-de3a-470e-d38b-efc1272c86e7"
      },
      "source": [
        "print(intro + banner)"
      ],
      "execution_count": null,
      "outputs": [
        {
          "output_type": "stream",
          "text": [
            "Wishing you a HAPPY BIRTHDAY\n"
          ],
          "name": "stdout"
        }
      ]
    },
    {
      "cell_type": "code",
      "metadata": {
        "colab": {
          "base_uri": "https://localhost:8080/"
        },
        "id": "trimprL1MZMA",
        "outputId": "3886fe65-e244-4102-a354-547e147ce60d"
      },
      "source": [
        "x = 4\n",
        "y = 3\n",
        "\n",
        "print(x+y)"
      ],
      "execution_count": null,
      "outputs": [
        {
          "output_type": "stream",
          "text": [
            "7\n"
          ],
          "name": "stdout"
        }
      ]
    },
    {
      "cell_type": "markdown",
      "metadata": {
        "id": "ChDPJr-tBmtG"
      },
      "source": [
        "## 4. Booleans"
      ]
    },
    {
      "cell_type": "markdown",
      "metadata": {
        "id": "wyEfCoW2Mnf6"
      },
      "source": [
        "True or False ONLY\n",
        "\n",
        "Named after George Bool\n",
        "\n",
        "Can also be 1 or 0"
      ]
    },
    {
      "cell_type": "code",
      "metadata": {
        "colab": {
          "base_uri": "https://localhost:8080/"
        },
        "id": "lo-Owx-kMl8M",
        "outputId": "56848cf6-3413-4a57-ac21-7c285d31e840"
      },
      "source": [
        "True\n",
        "False"
      ],
      "execution_count": null,
      "outputs": [
        {
          "output_type": "execute_result",
          "data": {
            "text/plain": [
              "False"
            ]
          },
          "metadata": {
            "tags": []
          },
          "execution_count": 25
        }
      ]
    },
    {
      "cell_type": "markdown",
      "metadata": {
        "id": "3eZHAJKWM0qd"
      },
      "source": [
        "Comparators: Compare stuff"
      ]
    },
    {
      "cell_type": "code",
      "metadata": {
        "colab": {
          "base_uri": "https://localhost:8080/"
        },
        "id": "zQWWLI7fMyT6",
        "outputId": "cdd389ec-c299-4283-cd86-b6331013e685"
      },
      "source": [
        "5 == 5"
      ],
      "execution_count": null,
      "outputs": [
        {
          "output_type": "execute_result",
          "data": {
            "text/plain": [
              "True"
            ]
          },
          "metadata": {
            "tags": []
          },
          "execution_count": 23
        }
      ]
    },
    {
      "cell_type": "code",
      "metadata": {
        "colab": {
          "base_uri": "https://localhost:8080/"
        },
        "id": "8QmXwgqvM5qo",
        "outputId": "3ebcee3a-4092-4ac5-b8cd-d469860be264"
      },
      "source": [
        "5 == 4"
      ],
      "execution_count": null,
      "outputs": [
        {
          "output_type": "execute_result",
          "data": {
            "text/plain": [
              "False"
            ]
          },
          "metadata": {
            "tags": []
          },
          "execution_count": 24
        }
      ]
    },
    {
      "cell_type": "code",
      "metadata": {
        "colab": {
          "base_uri": "https://localhost:8080/"
        },
        "id": "tG_qCgoWM7SS",
        "outputId": "a6731939-eb72-4bc7-c0c1-13fc058b928c"
      },
      "source": [
        "5 > 4"
      ],
      "execution_count": null,
      "outputs": [
        {
          "output_type": "execute_result",
          "data": {
            "text/plain": [
              "True"
            ]
          },
          "metadata": {
            "tags": []
          },
          "execution_count": 25
        }
      ]
    },
    {
      "cell_type": "code",
      "metadata": {
        "colab": {
          "base_uri": "https://localhost:8080/"
        },
        "id": "QxUpc4oMM8tN",
        "outputId": "ca0d439d-bc51-4496-82c5-84f38d72d4c6"
      },
      "source": [
        "4 != 7"
      ],
      "execution_count": null,
      "outputs": [
        {
          "output_type": "execute_result",
          "data": {
            "text/plain": [
              "True"
            ]
          },
          "metadata": {
            "tags": []
          },
          "execution_count": 26
        }
      ]
    },
    {
      "cell_type": "markdown",
      "metadata": {
        "id": "6X1CgGsG74s0"
      },
      "source": [
        "## subheading"
      ]
    },
    {
      "cell_type": "code",
      "metadata": {
        "id": "ypMM5AbGNBJX"
      },
      "source": [
        "and, or, not"
      ],
      "execution_count": null,
      "outputs": []
    },
    {
      "cell_type": "code",
      "metadata": {
        "colab": {
          "base_uri": "https://localhost:8080/"
        },
        "id": "nBQXvhHrNFAS",
        "outputId": "24bcf255-eff3-458e-e07e-9e830bcd9575"
      },
      "source": [
        "4 == 4 and 5 == 4"
      ],
      "execution_count": null,
      "outputs": [
        {
          "output_type": "execute_result",
          "data": {
            "text/plain": [
              "False"
            ]
          },
          "metadata": {
            "tags": []
          },
          "execution_count": 27
        }
      ]
    },
    {
      "cell_type": "code",
      "metadata": {
        "colab": {
          "base_uri": "https://localhost:8080/"
        },
        "id": "7yxyYrVtNLM5",
        "outputId": "e9ff468a-7700-4058-e57b-7ff2cfbccd8a"
      },
      "source": [
        "print( not 4==4)"
      ],
      "execution_count": null,
      "outputs": [
        {
          "output_type": "stream",
          "text": [
            "False\n"
          ],
          "name": "stdout"
        }
      ]
    },
    {
      "cell_type": "markdown",
      "metadata": {
        "id": "Laz0Rh3mBphf"
      },
      "source": [
        "## 5. Lists"
      ]
    },
    {
      "cell_type": "code",
      "metadata": {
        "id": "bIQhh8wzNeAm"
      },
      "source": [
        "list = []"
      ],
      "execution_count": null,
      "outputs": []
    },
    {
      "cell_type": "code",
      "metadata": {
        "id": "avuopOW3ZUI_"
      },
      "source": [
        "string = 'cats'"
      ],
      "execution_count": null,
      "outputs": []
    },
    {
      "cell_type": "code",
      "metadata": {
        "id": "iMqglkmFPPP8"
      },
      "source": [
        "grocery_list = [\"tomatoes\", 'ham', 'pizza', 'enchiladas']"
      ],
      "execution_count": null,
      "outputs": []
    },
    {
      "cell_type": "code",
      "metadata": {
        "id": "GCkEIbcdSKPA",
        "colab": {
          "base_uri": "https://localhost:8080/"
        },
        "outputId": "26624a25-75c6-4ff2-d865-3d7d36265eb1"
      },
      "source": [
        "print(grocery_list)"
      ],
      "execution_count": null,
      "outputs": [
        {
          "output_type": "stream",
          "text": [
            "['tomatoes', 'ham', 'pizza', 'enchiladas']\n"
          ],
          "name": "stdout"
        }
      ]
    },
    {
      "cell_type": "markdown",
      "metadata": {
        "id": "_1kPN_oOPgPd"
      },
      "source": [
        "In a list, every item has an index"
      ]
    },
    {
      "cell_type": "code",
      "metadata": {
        "colab": {
          "base_uri": "https://localhost:8080/",
          "height": 35
        },
        "id": "JVzzYViSPit2",
        "outputId": "e6fe10bf-3d6b-41ef-f558-69bb82386959"
      },
      "source": [
        "grocery_list[2][3]"
      ],
      "execution_count": null,
      "outputs": [
        {
          "output_type": "execute_result",
          "data": {
            "application/vnd.google.colaboratory.intrinsic+json": {
              "type": "string"
            },
            "text/plain": [
              "'z'"
            ]
          },
          "metadata": {
            "tags": []
          },
          "execution_count": 38
        }
      ]
    },
    {
      "cell_type": "code",
      "metadata": {
        "colab": {
          "base_uri": "https://localhost:8080/"
        },
        "id": "tvZM5taXPoKD",
        "outputId": "acead8ba-05c5-41e0-97c5-98e3b9901bec"
      },
      "source": [
        "grocery_list[1:]"
      ],
      "execution_count": null,
      "outputs": [
        {
          "output_type": "execute_result",
          "data": {
            "text/plain": [
              "['ham', 'pizza', 'enchiladas']"
            ]
          },
          "metadata": {
            "tags": []
          },
          "execution_count": 37
        }
      ]
    },
    {
      "cell_type": "code",
      "metadata": {
        "colab": {
          "base_uri": "https://localhost:8080/",
          "height": 35
        },
        "id": "MmfoYrEVazAZ",
        "outputId": "1dc526cb-2270-463c-bff5-0f3f15d7ff0d"
      },
      "source": [
        "super_long_list = [1,2,3,4,5,6,7,8,9, 'cats']\n",
        "\n",
        "super_long_list.index('cats')\n",
        "\n",
        "super_long_list[9]"
      ],
      "execution_count": null,
      "outputs": [
        {
          "output_type": "execute_result",
          "data": {
            "application/vnd.google.colaboratory.intrinsic+json": {
              "type": "string"
            },
            "text/plain": [
              "'cats'"
            ]
          },
          "metadata": {
            "tags": []
          },
          "execution_count": 40
        }
      ]
    },
    {
      "cell_type": "markdown",
      "metadata": {
        "id": "_8MYViU3Bjyi"
      },
      "source": [
        "## 5.2 For Loop"
      ]
    },
    {
      "cell_type": "markdown",
      "metadata": {
        "id": "4VIYxj5dP239"
      },
      "source": [
        "If you have something repetitive that you do not want to do over and over again"
      ]
    },
    {
      "cell_type": "code",
      "metadata": {
        "colab": {
          "base_uri": "https://localhost:8080/"
        },
        "id": "dVZ2vyapP8Bz",
        "outputId": "4ce19ab5-6081-441a-83ff-76bed3043bf4"
      },
      "source": [
        "punishment_message = 'I must not tell lies.'\n",
        "\n",
        "for i in range(100):\n",
        "  print(punishment_message)"
      ],
      "execution_count": null,
      "outputs": [
        {
          "output_type": "stream",
          "text": [
            "I must not tell lies.\n",
            "I must not tell lies.\n",
            "I must not tell lies.\n",
            "I must not tell lies.\n",
            "I must not tell lies.\n",
            "I must not tell lies.\n",
            "I must not tell lies.\n",
            "I must not tell lies.\n",
            "I must not tell lies.\n",
            "I must not tell lies.\n",
            "I must not tell lies.\n",
            "I must not tell lies.\n",
            "I must not tell lies.\n",
            "I must not tell lies.\n",
            "I must not tell lies.\n",
            "I must not tell lies.\n",
            "I must not tell lies.\n",
            "I must not tell lies.\n",
            "I must not tell lies.\n",
            "I must not tell lies.\n",
            "I must not tell lies.\n",
            "I must not tell lies.\n",
            "I must not tell lies.\n",
            "I must not tell lies.\n",
            "I must not tell lies.\n",
            "I must not tell lies.\n",
            "I must not tell lies.\n",
            "I must not tell lies.\n",
            "I must not tell lies.\n",
            "I must not tell lies.\n",
            "I must not tell lies.\n",
            "I must not tell lies.\n",
            "I must not tell lies.\n",
            "I must not tell lies.\n",
            "I must not tell lies.\n",
            "I must not tell lies.\n",
            "I must not tell lies.\n",
            "I must not tell lies.\n",
            "I must not tell lies.\n",
            "I must not tell lies.\n",
            "I must not tell lies.\n",
            "I must not tell lies.\n",
            "I must not tell lies.\n",
            "I must not tell lies.\n",
            "I must not tell lies.\n",
            "I must not tell lies.\n",
            "I must not tell lies.\n",
            "I must not tell lies.\n",
            "I must not tell lies.\n",
            "I must not tell lies.\n",
            "I must not tell lies.\n",
            "I must not tell lies.\n",
            "I must not tell lies.\n",
            "I must not tell lies.\n",
            "I must not tell lies.\n",
            "I must not tell lies.\n",
            "I must not tell lies.\n",
            "I must not tell lies.\n",
            "I must not tell lies.\n",
            "I must not tell lies.\n",
            "I must not tell lies.\n",
            "I must not tell lies.\n",
            "I must not tell lies.\n",
            "I must not tell lies.\n",
            "I must not tell lies.\n",
            "I must not tell lies.\n",
            "I must not tell lies.\n",
            "I must not tell lies.\n",
            "I must not tell lies.\n",
            "I must not tell lies.\n",
            "I must not tell lies.\n",
            "I must not tell lies.\n",
            "I must not tell lies.\n",
            "I must not tell lies.\n",
            "I must not tell lies.\n",
            "I must not tell lies.\n",
            "I must not tell lies.\n",
            "I must not tell lies.\n",
            "I must not tell lies.\n",
            "I must not tell lies.\n",
            "I must not tell lies.\n",
            "I must not tell lies.\n",
            "I must not tell lies.\n",
            "I must not tell lies.\n",
            "I must not tell lies.\n",
            "I must not tell lies.\n",
            "I must not tell lies.\n",
            "I must not tell lies.\n",
            "I must not tell lies.\n",
            "I must not tell lies.\n",
            "I must not tell lies.\n",
            "I must not tell lies.\n",
            "I must not tell lies.\n",
            "I must not tell lies.\n",
            "I must not tell lies.\n",
            "I must not tell lies.\n",
            "I must not tell lies.\n",
            "I must not tell lies.\n",
            "I must not tell lies.\n",
            "I must not tell lies.\n"
          ],
          "name": "stdout"
        }
      ]
    },
    {
      "cell_type": "markdown",
      "metadata": {
        "id": "6esUaVRc53Z8"
      },
      "source": [
        "Change your friends' grades"
      ]
    },
    {
      "cell_type": "code",
      "metadata": {
        "colab": {
          "base_uri": "https://localhost:8080/"
        },
        "id": "bP-DEDS5eAYM",
        "outputId": "2365b015-94f4-407d-c307-ce543148d17f"
      },
      "source": [
        "pet = 'cats are my favorite'\n",
        "len(pet)"
      ],
      "execution_count": null,
      "outputs": [
        {
          "output_type": "execute_result",
          "data": {
            "text/plain": [
              "20"
            ]
          },
          "metadata": {
            "tags": []
          },
          "execution_count": 46
        }
      ]
    },
    {
      "cell_type": "code",
      "metadata": {
        "id": "15g5oEkkQPfs"
      },
      "source": [
        "grades = [74, 75, 67, 84, 65]"
      ],
      "execution_count": null,
      "outputs": []
    },
    {
      "cell_type": "code",
      "metadata": {
        "colab": {
          "base_uri": "https://localhost:8080/"
        },
        "id": "G9cPsRhjebxT",
        "outputId": "522bf829-b755-4d3a-85e6-7193025f50fd"
      },
      "source": [
        "len(grades)"
      ],
      "execution_count": null,
      "outputs": [
        {
          "output_type": "execute_result",
          "data": {
            "text/plain": [
              "5"
            ]
          },
          "metadata": {
            "tags": []
          },
          "execution_count": 47
        }
      ]
    },
    {
      "cell_type": "code",
      "metadata": {
        "colab": {
          "base_uri": "https://localhost:8080/"
        },
        "id": "dMFKw8iSQhZQ",
        "outputId": "546c6de7-b3f2-4c6e-8798-64a00a9b7dd1"
      },
      "source": [
        "#for grade in grades:\n",
        "#  print(grade + 10)\n",
        "\n",
        "for i in range(len(grades)):\n",
        "  print(grades[i])"
      ],
      "execution_count": null,
      "outputs": [
        {
          "output_type": "stream",
          "text": [
            "74\n",
            "75\n",
            "67\n",
            "84\n",
            "65\n"
          ],
          "name": "stdout"
        }
      ]
    },
    {
      "cell_type": "markdown",
      "metadata": {
        "id": "GSGelShGBrS5"
      },
      "source": [
        "## 6. Sets"
      ]
    },
    {
      "cell_type": "markdown",
      "metadata": {
        "id": "Jf_NI2oqdHho"
      },
      "source": [
        "Like legos, un-organized collection\n",
        "\n",
        "Can't change or update"
      ]
    },
    {
      "cell_type": "code",
      "metadata": {
        "id": "1UOEYEWRdkTG"
      },
      "source": [
        "myset = {\"apple\", \"banana\", \"cherry\"}"
      ],
      "execution_count": null,
      "outputs": []
    },
    {
      "cell_type": "code",
      "metadata": {
        "id": "spTFj-_jhBXr"
      },
      "source": [
        "list_test = [1, 'cat', myset]"
      ],
      "execution_count": null,
      "outputs": []
    },
    {
      "cell_type": "code",
      "metadata": {
        "colab": {
          "base_uri": "https://localhost:8080/"
        },
        "id": "yrD62bv-hHuP",
        "outputId": "6a265230-12df-4696-8589-d7307e08ecba"
      },
      "source": [
        "print(list_test)"
      ],
      "execution_count": null,
      "outputs": [
        {
          "output_type": "stream",
          "text": [
            "[1, 'cat', {'cherry', 'banana', 'apple'}]\n"
          ],
          "name": "stdout"
        }
      ]
    },
    {
      "cell_type": "code",
      "metadata": {
        "colab": {
          "base_uri": "https://localhost:8080/"
        },
        "id": "_TCfIbEndz1Z",
        "outputId": "cb5be7fc-4dda-4eaa-a6a2-675f65d4d636"
      },
      "source": [
        "'apple' in myset"
      ],
      "execution_count": null,
      "outputs": [
        {
          "output_type": "execute_result",
          "data": {
            "text/plain": [
              "True"
            ]
          },
          "metadata": {
            "tags": []
          },
          "execution_count": 55
        }
      ]
    },
    {
      "cell_type": "code",
      "metadata": {
        "colab": {
          "base_uri": "https://localhost:8080/"
        },
        "id": "y7Pc7sikd5Z5",
        "outputId": "e225124e-ed54-4878-fd74-107a74218759"
      },
      "source": [
        "'pineapple' in myset"
      ],
      "execution_count": null,
      "outputs": [
        {
          "output_type": "execute_result",
          "data": {
            "text/plain": [
              "False"
            ]
          },
          "metadata": {
            "tags": []
          },
          "execution_count": 56
        }
      ]
    },
    {
      "cell_type": "markdown",
      "metadata": {
        "id": "hYkEfCP6BtiK"
      },
      "source": [
        "## 7. Dictionaries"
      ]
    },
    {
      "cell_type": "markdown",
      "metadata": {
        "id": "6fjZAnh-NYFC"
      },
      "source": [
        "key: value"
      ]
    },
    {
      "cell_type": "code",
      "metadata": {
        "id": "FJoYFMiENSuL"
      },
      "source": [
        "dictionary = {}"
      ],
      "execution_count": null,
      "outputs": []
    },
    {
      "cell_type": "code",
      "metadata": {
        "id": "z-zjffqoNkOm"
      },
      "source": [
        "kids_dict = {'cheugy':'uncool in a millennial way', 'sus':'suspicious', 'drip': 'cool clothing'}"
      ],
      "execution_count": null,
      "outputs": []
    },
    {
      "cell_type": "code",
      "metadata": {
        "colab": {
          "base_uri": "https://localhost:8080/"
        },
        "id": "bTxQjiK5OJuI",
        "outputId": "3ded992f-85be-442c-e91a-787d54601b96"
      },
      "source": [
        "print(kids_dict['cheugy'])"
      ],
      "execution_count": null,
      "outputs": [
        {
          "output_type": "stream",
          "text": [
            "uncool in a millennial way\n"
          ],
          "name": "stdout"
        }
      ]
    },
    {
      "cell_type": "code",
      "metadata": {
        "colab": {
          "base_uri": "https://localhost:8080/"
        },
        "id": "tT1ME46hOQVU",
        "outputId": "f91e4577-e263-4781-8cfd-10b0c78e081f"
      },
      "source": [
        "print(kids_dict.items())"
      ],
      "execution_count": null,
      "outputs": [
        {
          "output_type": "stream",
          "text": [
            "dict_items([('cheugy', 'uncool in a millennial way'), ('sus', 'suspicious'), ('drip', 'cool clothing')])\n"
          ],
          "name": "stdout"
        }
      ]
    },
    {
      "cell_type": "code",
      "metadata": {
        "colab": {
          "base_uri": "https://localhost:8080/"
        },
        "id": "3oBtkcTGOTlS",
        "outputId": "daaa49d6-a996-429b-e7b2-fe5967621044"
      },
      "source": [
        "print(kids_dict.keys())"
      ],
      "execution_count": null,
      "outputs": [
        {
          "output_type": "stream",
          "text": [
            "dict_keys(['cheugy', 'sus', 'drip'])\n"
          ],
          "name": "stdout"
        }
      ]
    },
    {
      "cell_type": "code",
      "metadata": {
        "colab": {
          "base_uri": "https://localhost:8080/"
        },
        "id": "v-LropuOOYPT",
        "outputId": "c214632e-c907-432d-ff39-3561089c0b24"
      },
      "source": [
        "print(kids_dict.values())"
      ],
      "execution_count": null,
      "outputs": [
        {
          "output_type": "stream",
          "text": [
            "dict_values(['uncool in a millennial way', 'suspicious', 'cool clothing'])\n"
          ],
          "name": "stdout"
        }
      ]
    },
    {
      "cell_type": "code",
      "metadata": {
        "id": "jDuoA-qWOhLb"
      },
      "source": [
        "kids_dict['cheugy'] = 'uncool in a gen z way'"
      ],
      "execution_count": null,
      "outputs": []
    },
    {
      "cell_type": "code",
      "metadata": {
        "id": "7vzFcbU1o6sD"
      },
      "source": [
        "kids_dict['woke'] = 'aware of social issues'"
      ],
      "execution_count": null,
      "outputs": []
    },
    {
      "cell_type": "code",
      "metadata": {
        "id": "2gMPpDT7py48"
      },
      "source": [
        "kids_dict['list'] = [5,'cat', 122]"
      ],
      "execution_count": null,
      "outputs": []
    },
    {
      "cell_type": "code",
      "metadata": {
        "colab": {
          "base_uri": "https://localhost:8080/"
        },
        "id": "wH6mqNTwOzWZ",
        "outputId": "54e217b0-a8ca-4347-80f3-be49a6bb8ddf"
      },
      "source": [
        "print(kids_dict)"
      ],
      "execution_count": null,
      "outputs": [
        {
          "output_type": "stream",
          "text": [
            "{'sus': 'suspicious', 'drip': 'cool clothing', 'woke': 'aware of social issues', 'list': [5, 'cat', 122]}\n"
          ],
          "name": "stdout"
        }
      ]
    },
    {
      "cell_type": "code",
      "metadata": {
        "colab": {
          "base_uri": "https://localhost:8080/"
        },
        "id": "fmvjfvvUp9t7",
        "outputId": "d51c79d7-6d65-44e2-eaf8-c4082ec9f3a8"
      },
      "source": [
        "type(pet)"
      ],
      "execution_count": null,
      "outputs": [
        {
          "output_type": "execute_result",
          "data": {
            "text/plain": [
              "str"
            ]
          },
          "metadata": {
            "tags": []
          },
          "execution_count": 82
        }
      ]
    },
    {
      "cell_type": "code",
      "metadata": {
        "id": "4vnzSuHMO69g"
      },
      "source": [
        "del kids_dict['cheugy']"
      ],
      "execution_count": null,
      "outputs": []
    },
    {
      "cell_type": "code",
      "metadata": {
        "id": "MEBeHaJXO_e6",
        "colab": {
          "base_uri": "https://localhost:8080/"
        },
        "outputId": "4969c682-b4d1-4738-df51-df7bff09377d"
      },
      "source": [
        "print(kids_dict)"
      ],
      "execution_count": null,
      "outputs": [
        {
          "output_type": "stream",
          "text": [
            "{'sus': 'suspicious', 'drip': 'cool clothing'}\n"
          ],
          "name": "stdout"
        }
      ]
    },
    {
      "cell_type": "markdown",
      "metadata": {
        "id": "YHOzHMF-BxkJ"
      },
      "source": [
        "## 8. Tuples"
      ]
    },
    {
      "cell_type": "markdown",
      "metadata": {
        "id": "3pk9aEfnPDdZ"
      },
      "source": [
        "Like a list but you can't change it"
      ]
    },
    {
      "cell_type": "code",
      "metadata": {
        "id": "KGbQbqoHPCjA"
      },
      "source": [
        "gps_coordinates = ('123423.234', '234234.123', 'moms house')"
      ],
      "execution_count": null,
      "outputs": []
    },
    {
      "cell_type": "code",
      "metadata": {
        "id": "TciQjunDSu6i",
        "colab": {
          "base_uri": "https://localhost:8080/",
          "height": 36
        },
        "outputId": "b45663c4-5d4e-457e-a6b7-42a255218a36"
      },
      "source": [
        "car_parts[1]"
      ],
      "execution_count": null,
      "outputs": [
        {
          "output_type": "execute_result",
          "data": {
            "application/vnd.google.colaboratory.intrinsic+json": {
              "type": "string"
            },
            "text/plain": [
              "'tires'"
            ]
          },
          "metadata": {
            "tags": []
          },
          "execution_count": 62
        }
      ]
    },
    {
      "cell_type": "markdown",
      "metadata": {
        "id": "GZKbgPhW5E7T"
      },
      "source": [
        "If extra time:\n",
        "\n",
        "-Functions\n",
        "-While loop\n",
        "-input('')\n",
        "-If, else\n",
        "-Importing"
      ]
    },
    {
      "cell_type": "code",
      "metadata": {
        "colab": {
          "base_uri": "https://localhost:8080/"
        },
        "id": "aVK6PEanlwCj",
        "outputId": "2d6d2753-dad1-485f-9b6b-d173c059e532"
      },
      "source": [
        "list_1 = [1, 'cat', 5, 14, 12, 1, 'cat']\n",
        "\n",
        "list_1.index('cat')"
      ],
      "execution_count": null,
      "outputs": [
        {
          "output_type": "execute_result",
          "data": {
            "text/plain": [
              "1"
            ]
          },
          "metadata": {
            "tags": []
          },
          "execution_count": 62
        }
      ]
    },
    {
      "cell_type": "markdown",
      "metadata": {
        "id": "uNLHHU7cjEHE"
      },
      "source": [
        "#Functions"
      ]
    },
    {
      "cell_type": "code",
      "metadata": {
        "id": "e1ofmOFrjBlY"
      },
      "source": [
        "def MyFirstFunction():\n",
        "  print('I am an expert')"
      ],
      "execution_count": null,
      "outputs": []
    },
    {
      "cell_type": "code",
      "metadata": {
        "colab": {
          "base_uri": "https://localhost:8080/"
        },
        "id": "V7j62LaEjY7N",
        "outputId": "a7f97661-e2da-4448-998d-440d1762e4b9"
      },
      "source": [
        "MyFirstFunction()"
      ],
      "execution_count": null,
      "outputs": [
        {
          "output_type": "stream",
          "text": [
            "I am an expert\n"
          ],
          "name": "stdout"
        }
      ]
    },
    {
      "cell_type": "code",
      "metadata": {
        "id": "YhI6OXNLjcrV"
      },
      "source": [
        "def MySecondFunction():\n",
        "  print(1 + 1)"
      ],
      "execution_count": null,
      "outputs": []
    },
    {
      "cell_type": "code",
      "metadata": {
        "colab": {
          "base_uri": "https://localhost:8080/"
        },
        "id": "1gXo2mDXjkon",
        "outputId": "35266866-0dae-49e5-fe74-3be6cf4fd468"
      },
      "source": [
        "MySecondFunction()"
      ],
      "execution_count": null,
      "outputs": [
        {
          "output_type": "stream",
          "text": [
            "2\n"
          ],
          "name": "stdout"
        }
      ]
    },
    {
      "cell_type": "code",
      "metadata": {
        "id": "FfJxEBjijnPU"
      },
      "source": [
        "def MyFavoriteWord(word):\n",
        "  print('My favorite word is ' + word)"
      ],
      "execution_count": null,
      "outputs": []
    },
    {
      "cell_type": "code",
      "metadata": {
        "colab": {
          "base_uri": "https://localhost:8080/"
        },
        "id": "b7LQqbwEsFdE",
        "outputId": "2c03e01d-8e9f-41fe-a58f-8c3d954ff14d"
      },
      "source": [
        "MyFavoriteWord('cabbage')"
      ],
      "execution_count": null,
      "outputs": [
        {
          "output_type": "stream",
          "text": [
            "My favorite word is cabbage\n"
          ],
          "name": "stdout"
        }
      ]
    },
    {
      "cell_type": "markdown",
      "metadata": {
        "id": "3mtRqMdtj7_4"
      },
      "source": [
        "#Chatbot"
      ]
    },
    {
      "cell_type": "code",
      "metadata": {
        "colab": {
          "base_uri": "https://localhost:8080/"
        },
        "id": "lSR9BFOVsf1O",
        "outputId": "2f5682f5-483e-4a06-81f9-0e4f92394917"
      },
      "source": [
        "response = input(\"Tell me something funny.\")"
      ],
      "execution_count": null,
      "outputs": [
        {
          "output_type": "stream",
          "text": [
            "Tell me something funny.'cats'\n"
          ],
          "name": "stdout"
        }
      ]
    },
    {
      "cell_type": "code",
      "metadata": {
        "colab": {
          "base_uri": "https://localhost:8080/"
        },
        "id": "cn-h03NpszzJ",
        "outputId": "853ac9a1-0d9e-4958-f987-d43d2497b761"
      },
      "source": [
        "print(response)"
      ],
      "execution_count": null,
      "outputs": [
        {
          "output_type": "stream",
          "text": [
            "'cats'\n"
          ],
          "name": "stdout"
        }
      ]
    },
    {
      "cell_type": "code",
      "metadata": {
        "id": "0Pewqz5Tj_AH"
      },
      "source": [
        "def Chatbot():\n",
        "\n",
        "  I_say = input(\"Hello! talk to me.\")\n",
        "\n",
        "  if I_say == 'Whats up':\n",
        "    print('Hello my good friend! What can I do for you?')\n",
        "\n",
        "  if I_say == 'Turn on my TV':\n",
        "    print('Turning on the TV.')\n",
        "\n",
        "  if I_say == \"I don't like cabbage\":\n",
        "    print(\"Then don't eat it.\")\n"
      ],
      "execution_count": null,
      "outputs": []
    },
    {
      "cell_type": "code",
      "metadata": {
        "colab": {
          "base_uri": "https://localhost:8080/"
        },
        "id": "BTx_CPnzuTjO",
        "outputId": "4b833832-1b21-4e2b-a41a-c530132f86f9"
      },
      "source": [
        "Chatbot()"
      ],
      "execution_count": null,
      "outputs": [
        {
          "output_type": "stream",
          "text": [
            "Hello! talk to me.Turn on my TV\n",
            "Turning on the TV.\n"
          ],
          "name": "stdout"
        }
      ]
    },
    {
      "cell_type": "code",
      "metadata": {
        "id": "pknx4LXnky_G"
      },
      "source": [
        "def Chatbot2():\n",
        "\n",
        "  I_say = input(\"What is your favorite color?\")\n",
        "\n",
        "  print(str(I_say) + '. What a dumb color.')\n"
      ],
      "execution_count": null,
      "outputs": []
    },
    {
      "cell_type": "code",
      "metadata": {
        "colab": {
          "base_uri": "https://localhost:8080/"
        },
        "id": "nEZXKb72v3kh",
        "outputId": "5a9228bb-be0d-403f-981c-41350abde1ad"
      },
      "source": [
        "Chatbot2()"
      ],
      "execution_count": null,
      "outputs": [
        {
          "output_type": "stream",
          "text": [
            "What is your favorite color?Green\n",
            "Green. What a dumb color.\n"
          ],
          "name": "stdout"
        }
      ]
    },
    {
      "cell_type": "code",
      "metadata": {
        "colab": {
          "base_uri": "https://localhost:8080/"
        },
        "id": "mmAdk9cnycKv",
        "outputId": "2aa69482-0ec8-4b76-d907-0fbb9a44ee5a"
      },
      "source": [
        "import time as t\n",
        "\n",
        "t.sleep(10)\n",
        "print('end')"
      ],
      "execution_count": null,
      "outputs": [
        {
          "output_type": "stream",
          "text": [
            "end\n"
          ],
          "name": "stdout"
        }
      ]
    },
    {
      "cell_type": "code",
      "metadata": {
        "colab": {
          "base_uri": "https://localhost:8080/"
        },
        "id": "DoVlFcjyy3Jy",
        "outputId": "a6b041aa-a1f4-4a86-e7e3-a08ae9217348"
      },
      "source": [
        "import random\n",
        "random.randint(0, 10)"
      ],
      "execution_count": null,
      "outputs": [
        {
          "output_type": "execute_result",
          "data": {
            "text/plain": [
              "0"
            ]
          },
          "metadata": {
            "tags": []
          },
          "execution_count": 110
        }
      ]
    },
    {
      "cell_type": "code",
      "metadata": {
        "id": "7sPJU-GYzwGO"
      },
      "source": [
        "1000 cats\n",
        "850 dogs\n",
        "\n",
        "for i in range(150):\n",
        "  import random\n",
        "  image_number = random.randint(0, 1000)\n",
        "  del image[image_number]"
      ],
      "execution_count": null,
      "outputs": []
    },
    {
      "cell_type": "code",
      "metadata": {
        "colab": {
          "base_uri": "https://localhost:8080/"
        },
        "id": "jnid-j210XqP",
        "outputId": "3916d309-4066-46e8-b28e-3471253897a9"
      },
      "source": [
        "!pip install selenium"
      ],
      "execution_count": null,
      "outputs": [
        {
          "output_type": "stream",
          "text": [
            "Collecting selenium\n",
            "\u001b[?25l  Downloading https://files.pythonhosted.org/packages/80/d6/4294f0b4bce4de0abf13e17190289f9d0613b0a44e5dd6a7f5ca98459853/selenium-3.141.0-py2.py3-none-any.whl (904kB)\n",
            "\r\u001b[K     |▍                               | 10kB 13.9MB/s eta 0:00:01\r\u001b[K     |▊                               | 20kB 17.6MB/s eta 0:00:01\r\u001b[K     |█                               | 30kB 19.6MB/s eta 0:00:01\r\u001b[K     |█▌                              | 40kB 21.0MB/s eta 0:00:01\r\u001b[K     |█▉                              | 51kB 22.3MB/s eta 0:00:01\r\u001b[K     |██▏                             | 61kB 18.4MB/s eta 0:00:01\r\u001b[K     |██▌                             | 71kB 18.9MB/s eta 0:00:01\r\u001b[K     |███                             | 81kB 16.9MB/s eta 0:00:01\r\u001b[K     |███▎                            | 92kB 16.2MB/s eta 0:00:01\r\u001b[K     |███▋                            | 102kB 15.9MB/s eta 0:00:01\r\u001b[K     |████                            | 112kB 15.9MB/s eta 0:00:01\r\u001b[K     |████▍                           | 122kB 15.9MB/s eta 0:00:01\r\u001b[K     |████▊                           | 133kB 15.9MB/s eta 0:00:01\r\u001b[K     |█████                           | 143kB 15.9MB/s eta 0:00:01\r\u001b[K     |█████▍                          | 153kB 15.9MB/s eta 0:00:01\r\u001b[K     |█████▉                          | 163kB 15.9MB/s eta 0:00:01\r\u001b[K     |██████▏                         | 174kB 15.9MB/s eta 0:00:01\r\u001b[K     |██████▌                         | 184kB 15.9MB/s eta 0:00:01\r\u001b[K     |██████▉                         | 194kB 15.9MB/s eta 0:00:01\r\u001b[K     |███████▎                        | 204kB 15.9MB/s eta 0:00:01\r\u001b[K     |███████▋                        | 215kB 15.9MB/s eta 0:00:01\r\u001b[K     |████████                        | 225kB 15.9MB/s eta 0:00:01\r\u001b[K     |████████▎                       | 235kB 15.9MB/s eta 0:00:01\r\u001b[K     |████████▊                       | 245kB 15.9MB/s eta 0:00:01\r\u001b[K     |█████████                       | 256kB 15.9MB/s eta 0:00:01\r\u001b[K     |█████████▍                      | 266kB 15.9MB/s eta 0:00:01\r\u001b[K     |█████████▉                      | 276kB 15.9MB/s eta 0:00:01\r\u001b[K     |██████████▏                     | 286kB 15.9MB/s eta 0:00:01\r\u001b[K     |██████████▌                     | 296kB 15.9MB/s eta 0:00:01\r\u001b[K     |██████████▉                     | 307kB 15.9MB/s eta 0:00:01\r\u001b[K     |███████████▎                    | 317kB 15.9MB/s eta 0:00:01\r\u001b[K     |███████████▋                    | 327kB 15.9MB/s eta 0:00:01\r\u001b[K     |████████████                    | 337kB 15.9MB/s eta 0:00:01\r\u001b[K     |████████████▎                   | 348kB 15.9MB/s eta 0:00:01\r\u001b[K     |████████████▊                   | 358kB 15.9MB/s eta 0:00:01\r\u001b[K     |█████████████                   | 368kB 15.9MB/s eta 0:00:01\r\u001b[K     |█████████████▍                  | 378kB 15.9MB/s eta 0:00:01\r\u001b[K     |█████████████▊                  | 389kB 15.9MB/s eta 0:00:01\r\u001b[K     |██████████████▏                 | 399kB 15.9MB/s eta 0:00:01\r\u001b[K     |██████████████▌                 | 409kB 15.9MB/s eta 0:00:01\r\u001b[K     |██████████████▉                 | 419kB 15.9MB/s eta 0:00:01\r\u001b[K     |███████████████▏                | 430kB 15.9MB/s eta 0:00:01\r\u001b[K     |███████████████▋                | 440kB 15.9MB/s eta 0:00:01\r\u001b[K     |████████████████                | 450kB 15.9MB/s eta 0:00:01\r\u001b[K     |████████████████▎               | 460kB 15.9MB/s eta 0:00:01\r\u001b[K     |████████████████▋               | 471kB 15.9MB/s eta 0:00:01\r\u001b[K     |█████████████████               | 481kB 15.9MB/s eta 0:00:01\r\u001b[K     |█████████████████▍              | 491kB 15.9MB/s eta 0:00:01\r\u001b[K     |█████████████████▊              | 501kB 15.9MB/s eta 0:00:01\r\u001b[K     |██████████████████▏             | 512kB 15.9MB/s eta 0:00:01\r\u001b[K     |██████████████████▌             | 522kB 15.9MB/s eta 0:00:01\r\u001b[K     |██████████████████▉             | 532kB 15.9MB/s eta 0:00:01\r\u001b[K     |███████████████████▏            | 542kB 15.9MB/s eta 0:00:01\r\u001b[K     |███████████████████▋            | 552kB 15.9MB/s eta 0:00:01\r\u001b[K     |████████████████████            | 563kB 15.9MB/s eta 0:00:01\r\u001b[K     |████████████████████▎           | 573kB 15.9MB/s eta 0:00:01\r\u001b[K     |████████████████████▋           | 583kB 15.9MB/s eta 0:00:01\r\u001b[K     |█████████████████████           | 593kB 15.9MB/s eta 0:00:01\r\u001b[K     |█████████████████████▍          | 604kB 15.9MB/s eta 0:00:01\r\u001b[K     |█████████████████████▊          | 614kB 15.9MB/s eta 0:00:01\r\u001b[K     |██████████████████████          | 624kB 15.9MB/s eta 0:00:01\r\u001b[K     |██████████████████████▌         | 634kB 15.9MB/s eta 0:00:01\r\u001b[K     |██████████████████████▉         | 645kB 15.9MB/s eta 0:00:01\r\u001b[K     |███████████████████████▏        | 655kB 15.9MB/s eta 0:00:01\r\u001b[K     |███████████████████████▌        | 665kB 15.9MB/s eta 0:00:01\r\u001b[K     |████████████████████████        | 675kB 15.9MB/s eta 0:00:01\r\u001b[K     |████████████████████████▎       | 686kB 15.9MB/s eta 0:00:01\r\u001b[K     |████████████████████████▋       | 696kB 15.9MB/s eta 0:00:01\r\u001b[K     |█████████████████████████       | 706kB 15.9MB/s eta 0:00:01\r\u001b[K     |█████████████████████████▍      | 716kB 15.9MB/s eta 0:00:01\r\u001b[K     |█████████████████████████▊      | 727kB 15.9MB/s eta 0:00:01\r\u001b[K     |██████████████████████████      | 737kB 15.9MB/s eta 0:00:01\r\u001b[K     |██████████████████████████▍     | 747kB 15.9MB/s eta 0:00:01\r\u001b[K     |██████████████████████████▉     | 757kB 15.9MB/s eta 0:00:01\r\u001b[K     |███████████████████████████▏    | 768kB 15.9MB/s eta 0:00:01\r\u001b[K     |███████████████████████████▌    | 778kB 15.9MB/s eta 0:00:01\r\u001b[K     |████████████████████████████    | 788kB 15.9MB/s eta 0:00:01\r\u001b[K     |████████████████████████████▎   | 798kB 15.9MB/s eta 0:00:01\r\u001b[K     |████████████████████████████▋   | 808kB 15.9MB/s eta 0:00:01\r\u001b[K     |█████████████████████████████   | 819kB 15.9MB/s eta 0:00:01\r\u001b[K     |█████████████████████████████▍  | 829kB 15.9MB/s eta 0:00:01\r\u001b[K     |█████████████████████████████▊  | 839kB 15.9MB/s eta 0:00:01\r\u001b[K     |██████████████████████████████  | 849kB 15.9MB/s eta 0:00:01\r\u001b[K     |██████████████████████████████▍ | 860kB 15.9MB/s eta 0:00:01\r\u001b[K     |██████████████████████████████▉ | 870kB 15.9MB/s eta 0:00:01\r\u001b[K     |███████████████████████████████▏| 880kB 15.9MB/s eta 0:00:01\r\u001b[K     |███████████████████████████████▌| 890kB 15.9MB/s eta 0:00:01\r\u001b[K     |███████████████████████████████▉| 901kB 15.9MB/s eta 0:00:01\r\u001b[K     |████████████████████████████████| 911kB 15.9MB/s \n",
            "\u001b[?25hRequirement already satisfied: urllib3 in /usr/local/lib/python3.7/dist-packages (from selenium) (1.24.3)\n",
            "Installing collected packages: selenium\n",
            "Successfully installed selenium-3.141.0\n"
          ],
          "name": "stdout"
        }
      ]
    },
    {
      "cell_type": "code",
      "metadata": {
        "id": "oRcF1LZT1HAZ"
      },
      "source": [
        "import selenium as sel"
      ],
      "execution_count": null,
      "outputs": []
    }
  ]
}