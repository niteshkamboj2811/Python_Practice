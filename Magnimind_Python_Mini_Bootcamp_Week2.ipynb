{
  "nbformat": 4,
  "nbformat_minor": 0,
  "metadata": {
    "colab": {
      "name": "Magnimind_Python_Mini_Bootcamp_Week2.ipynb",
      "provenance": [],
      "collapsed_sections": [],
      "authorship_tag": "ABX9TyOc8XDwzTBFJmhHYYUw6ssJ",
      "include_colab_link": true
    },
    "kernelspec": {
      "name": "python3",
      "display_name": "Python 3"
    },
    "language_info": {
      "name": "python"
    }
  },
  "cells": [
    {
      "cell_type": "markdown",
      "metadata": {
        "id": "view-in-github",
        "colab_type": "text"
      },
      "source": [
        "<a href=\"https://colab.research.google.com/github/niteshkamboj2811/Python_Practice/blob/main/Magnimind_Python_Mini_Bootcamp_Week2.ipynb\" target=\"_parent\"><img src=\"https://colab.research.google.com/assets/colab-badge.svg\" alt=\"Open In Colab\"/></a>"
      ]
    },
    {
      "cell_type": "code",
      "metadata": {
        "colab": {
          "base_uri": "https://localhost:8080/"
        },
        "id": "foWqPY_mUTEw",
        "outputId": "65c43072-08ae-4c37-9a46-0bccd50a1a96"
      },
      "source": [
        "grocery_list = ['tomatoes', 'bread', 'cheese']\n",
        "\n",
        "for i in grocery_list:\n",
        "  print(i)"
      ],
      "execution_count": null,
      "outputs": [
        {
          "output_type": "stream",
          "text": [
            "tomatoes\n",
            "bread\n",
            "cheese\n"
          ],
          "name": "stdout"
        }
      ]
    },
    {
      "cell_type": "code",
      "metadata": {
        "colab": {
          "base_uri": "https://localhost:8080/"
        },
        "id": "XtjAlJ61U5yl",
        "outputId": "f1b808c1-264b-49ee-bea4-258d93f41f3b"
      },
      "source": [
        "num = int(input('Enter the number: '))\n",
        "\n",
        "if num < 10:\n",
        "  print(f'{num} is less than 10')\n",
        "elif num > 10:\n",
        "  print(f'%d is more than 10' % num)\n",
        "elif num > 15:\n",
        "  print('{0} is more than 15'.format(num))"
      ],
      "execution_count": null,
      "outputs": [
        {
          "output_type": "stream",
          "text": [
            "Enter the number: 16\n",
            "16 is more than 10\n"
          ],
          "name": "stdout"
        }
      ]
    },
    {
      "cell_type": "code",
      "metadata": {
        "id": "-PJkoAoJVacM"
      },
      "source": [
        "def shave_dog(dog_name, dog_weight):\n",
        "\n",
        "  new_weight = dog_weight * .95\n",
        "\n",
        "  print(f\"just shaver {dog_name} and not the weight is : {new_weight}\")\n",
        "  print('just shaved {} and weight is {}'.format(dog_name, dog_weight))"
      ],
      "execution_count": null,
      "outputs": []
    },
    {
      "cell_type": "code",
      "metadata": {
        "colab": {
          "base_uri": "https://localhost:8080/"
        },
        "id": "iw4De6N_WI77",
        "outputId": "8c99dea3-8d17-44ab-e043-9a569cdb667c"
      },
      "source": [
        "shave_dog('kaju', 100)"
      ],
      "execution_count": null,
      "outputs": [
        {
          "output_type": "stream",
          "text": [
            "just shaver kaju and not the weight is : 95.0\n",
            "just shaved kaju and weight is 100\n"
          ],
          "name": "stdout"
        }
      ]
    },
    {
      "cell_type": "code",
      "metadata": {
        "colab": {
          "base_uri": "https://localhost:8080/"
        },
        "id": "xqiclJqXYbow",
        "outputId": "a7a2d822-57dc-47ce-bd6a-7ae28a8838df"
      },
      "source": [
        "print('{} + {}'.format('a', 1))"
      ],
      "execution_count": null,
      "outputs": [
        {
          "output_type": "stream",
          "text": [
            "a + 1\n"
          ],
          "name": "stdout"
        }
      ]
    },
    {
      "cell_type": "code",
      "metadata": {
        "id": "bnf60MtfZvon"
      },
      "source": [
        "def add_two(num):\n",
        "  return num + 2\n",
        "\n",
        "def add_five(num):\n",
        "  return num + 5"
      ],
      "execution_count": null,
      "outputs": []
    },
    {
      "cell_type": "code",
      "metadata": {
        "colab": {
          "base_uri": "https://localhost:8080/"
        },
        "id": "33Z9gTQzaRNY",
        "outputId": "7a09a716-480d-43e2-ce1e-760d874e2a46"
      },
      "source": [
        "add_five(add_two(9))"
      ],
      "execution_count": null,
      "outputs": [
        {
          "output_type": "execute_result",
          "data": {
            "text/plain": [
              "16"
            ]
          },
          "metadata": {
            "tags": []
          },
          "execution_count": 38
        }
      ]
    },
    {
      "cell_type": "code",
      "metadata": {
        "colab": {
          "base_uri": "https://localhost:8080/"
        },
        "id": "-PXU7Y_MaTnt",
        "outputId": "c884d594-b98d-4412-e230-4227bc730181"
      },
      "source": [
        "try:\n",
        "  print('I like this' / 4)\n",
        "except Exception as e:\n",
        "  print('your error: ', e)\n",
        "\n",
        "print('\\nFinished')"
      ],
      "execution_count": null,
      "outputs": [
        {
          "output_type": "stream",
          "text": [
            "your error:  unsupported operand type(s) for /: 'str' and 'int'\n",
            "\n",
            "Finished\n"
          ],
          "name": "stdout"
        }
      ]
    },
    {
      "cell_type": "code",
      "metadata": {
        "colab": {
          "base_uri": "https://localhost:8080/",
          "height": 198
        },
        "id": "nxHFGPyTbPI7",
        "outputId": "5d466769-79a9-4609-e4c8-81f3d40aac37"
      },
      "source": [
        "x = 'hello'\n",
        "\n",
        "if x != 'goodbye':\n",
        "  raise TypeError(f'\"{x}\" is not goodbye')"
      ],
      "execution_count": null,
      "outputs": [
        {
          "output_type": "error",
          "ename": "TypeError",
          "evalue": "ignored",
          "traceback": [
            "\u001b[0;31m---------------------------------------------------------------------------\u001b[0m",
            "\u001b[0;31mTypeError\u001b[0m                                 Traceback (most recent call last)",
            "\u001b[0;32m<ipython-input-57-8781cb13d158>\u001b[0m in \u001b[0;36m<module>\u001b[0;34m()\u001b[0m\n\u001b[1;32m      2\u001b[0m \u001b[0;34m\u001b[0m\u001b[0m\n\u001b[1;32m      3\u001b[0m \u001b[0;32mif\u001b[0m \u001b[0mx\u001b[0m \u001b[0;34m!=\u001b[0m \u001b[0;34m'goodbye'\u001b[0m\u001b[0;34m:\u001b[0m\u001b[0;34m\u001b[0m\u001b[0;34m\u001b[0m\u001b[0m\n\u001b[0;32m----> 4\u001b[0;31m   \u001b[0;32mraise\u001b[0m \u001b[0mTypeError\u001b[0m\u001b[0;34m(\u001b[0m\u001b[0;34mf'\"{x}\" is not goodbye'\u001b[0m\u001b[0;34m)\u001b[0m\u001b[0;34m\u001b[0m\u001b[0;34m\u001b[0m\u001b[0m\n\u001b[0m",
            "\u001b[0;31mTypeError\u001b[0m: \"hello\" is not goodbye"
          ]
        }
      ]
    },
    {
      "cell_type": "code",
      "metadata": {
        "colab": {
          "base_uri": "https://localhost:8080/"
        },
        "id": "QUSf6-HHcxyb",
        "outputId": "d2625816-b6fe-455f-8cbc-f80894fcc9f2"
      },
      "source": [
        "list1 = []\n",
        "\n",
        "for i in range(20):\n",
        "  if i > 2:\n",
        "    list1.append(i)\n",
        "\n",
        "print(list1)"
      ],
      "execution_count": null,
      "outputs": [
        {
          "output_type": "stream",
          "text": [
            "[3, 4, 5, 6, 7, 8, 9, 10, 11, 12, 13, 14, 15, 16, 17, 18, 19]\n"
          ],
          "name": "stdout"
        }
      ]
    },
    {
      "cell_type": "code",
      "metadata": {
        "colab": {
          "base_uri": "https://localhost:8080/"
        },
        "id": "bY33fwasddwR",
        "outputId": "9ceb770f-7b7b-4214-a42e-29a7bb9f9d94"
      },
      "source": [
        "list1 = [x for x in range(20) if x > 2]\n",
        "\n",
        "print(list1)"
      ],
      "execution_count": null,
      "outputs": [
        {
          "output_type": "stream",
          "text": [
            "[3, 4, 5, 6, 7, 8, 9, 10, 11, 12, 13, 14, 15, 16, 17, 18, 19]\n"
          ],
          "name": "stdout"
        }
      ]
    },
    {
      "cell_type": "code",
      "metadata": {
        "id": "6ZX5dttmdlmQ"
      },
      "source": [
        "list1 = list(map(lambda x: x, range(20)))"
      ],
      "execution_count": null,
      "outputs": []
    },
    {
      "cell_type": "code",
      "metadata": {
        "colab": {
          "base_uri": "https://localhost:8080/"
        },
        "id": "cgAk9r3zdsLr",
        "outputId": "cd16712b-1a99-40b2-d7e8-a8243f87f670"
      },
      "source": [
        "print(list1)"
      ],
      "execution_count": null,
      "outputs": [
        {
          "output_type": "stream",
          "text": [
            "[0, 1, 2, 3, 4, 5, 6, 7, 8, 9, 10, 11, 12, 13, 14, 15, 16, 17, 18, 19]\n"
          ],
          "name": "stdout"
        }
      ]
    },
    {
      "cell_type": "code",
      "metadata": {
        "id": "Ok89e23cdyEC"
      },
      "source": [
        "output = lambda x: x * 5"
      ],
      "execution_count": null,
      "outputs": []
    },
    {
      "cell_type": "code",
      "metadata": {
        "colab": {
          "base_uri": "https://localhost:8080/"
        },
        "id": "xtnMojDfe7tp",
        "outputId": "5b8a96b3-8dbe-41a3-9002-0bddaf3ae202"
      },
      "source": [
        "output(4)"
      ],
      "execution_count": null,
      "outputs": [
        {
          "output_type": "execute_result",
          "data": {
            "text/plain": [
              "20"
            ]
          },
          "metadata": {
            "tags": []
          },
          "execution_count": 71
        }
      ]
    },
    {
      "cell_type": "code",
      "metadata": {
        "id": "yftwj3Pme9M9"
      },
      "source": [
        "list1 = list(filter(lambda x: x > 2, range(20)))"
      ],
      "execution_count": null,
      "outputs": []
    },
    {
      "cell_type": "code",
      "metadata": {
        "colab": {
          "base_uri": "https://localhost:8080/"
        },
        "id": "PBKY7VswfHvy",
        "outputId": "6e18ae42-b4de-4240-cfe0-ab1541075e97"
      },
      "source": [
        "print(list1)"
      ],
      "execution_count": null,
      "outputs": [
        {
          "output_type": "stream",
          "text": [
            "[3, 4, 5, 6, 7, 8, 9, 10, 11, 12, 13, 14, 15, 16, 17, 18, 19]\n"
          ],
          "name": "stdout"
        }
      ]
    },
    {
      "cell_type": "code",
      "metadata": {
        "colab": {
          "base_uri": "https://localhost:8080/"
        },
        "id": "KGvp1-v6gZnv",
        "outputId": "7ca81b23-5552-44bd-804c-9333b56e1cce"
      },
      "source": [
        "list1 = list(map(lambda x: x>2, range(20)))\n",
        "\n",
        "list1"
      ],
      "execution_count": null,
      "outputs": [
        {
          "output_type": "execute_result",
          "data": {
            "text/plain": [
              "[False,\n",
              " False,\n",
              " False,\n",
              " True,\n",
              " True,\n",
              " True,\n",
              " True,\n",
              " True,\n",
              " True,\n",
              " True,\n",
              " True,\n",
              " True,\n",
              " True,\n",
              " True,\n",
              " True,\n",
              " True,\n",
              " True,\n",
              " True,\n",
              " True,\n",
              " True]"
            ]
          },
          "metadata": {
            "tags": []
          },
          "execution_count": 77
        }
      ]
    },
    {
      "cell_type": "code",
      "metadata": {
        "colab": {
          "base_uri": "https://localhost:8080/"
        },
        "id": "g8Ty0yPahM1v",
        "outputId": "5d103a05-e843-4140-ef15-976bc1d69932"
      },
      "source": [
        "list1 = list(map(lambda x: x*2, range(20)))\n",
        "\n",
        "list1"
      ],
      "execution_count": null,
      "outputs": [
        {
          "output_type": "execute_result",
          "data": {
            "text/plain": [
              "[0, 2, 4, 6, 8, 10, 12, 14, 16, 18, 20, 22, 24, 26, 28, 30, 32, 34, 36, 38]"
            ]
          },
          "metadata": {
            "tags": []
          },
          "execution_count": 78
        }
      ]
    },
    {
      "cell_type": "code",
      "metadata": {
        "id": "LxoTUe0Ah9cj"
      },
      "source": [
        "longer_list_of_lists = [[1, 2, 3, 4],\n",
        "                        [5, 6, 7, 8],\n",
        "                        [9, 8, 7, 6],\n",
        "                        [5, 4, 3, 2]]"
      ],
      "execution_count": null,
      "outputs": []
    },
    {
      "cell_type": "code",
      "metadata": {
        "colab": {
          "base_uri": "https://localhost:8080/"
        },
        "id": "uozQDuxzj3Pd",
        "outputId": "2a01b774-de9f-4cfc-dcf0-15f67e284047"
      },
      "source": [
        "import numpy as np\n",
        "\n",
        "np.sum(longer_list_of_lists)"
      ],
      "execution_count": null,
      "outputs": [
        {
          "output_type": "execute_result",
          "data": {
            "text/plain": [
              "80"
            ]
          },
          "metadata": {
            "tags": []
          },
          "execution_count": 80
        }
      ]
    },
    {
      "cell_type": "code",
      "metadata": {
        "id": "4haAZAU9j8HH"
      },
      "source": [
        "list_to_array = np.array(longer_list_of_lists)"
      ],
      "execution_count": null,
      "outputs": []
    },
    {
      "cell_type": "code",
      "metadata": {
        "colab": {
          "base_uri": "https://localhost:8080/"
        },
        "id": "EOQqzDkAkIZl",
        "outputId": "477a0e13-7fc4-490d-df32-a4d2532fb36f"
      },
      "source": [
        "list_to_array"
      ],
      "execution_count": null,
      "outputs": [
        {
          "output_type": "execute_result",
          "data": {
            "text/plain": [
              "array([[1, 2, 3, 4],\n",
              "       [5, 6, 7, 8],\n",
              "       [9, 8, 7, 6],\n",
              "       [5, 4, 3, 2]])"
            ]
          },
          "metadata": {
            "tags": []
          },
          "execution_count": 83
        }
      ]
    },
    {
      "cell_type": "code",
      "metadata": {
        "colab": {
          "base_uri": "https://localhost:8080/"
        },
        "id": "KdTbShvzkZXC",
        "outputId": "f04dae4b-9326-4826-c5a8-1b4681e670b2"
      },
      "source": [
        "np.array([1, 3, 4])"
      ],
      "execution_count": null,
      "outputs": [
        {
          "output_type": "execute_result",
          "data": {
            "text/plain": [
              "array([1, 3, 4])"
            ]
          },
          "metadata": {
            "tags": []
          },
          "execution_count": 84
        }
      ]
    },
    {
      "cell_type": "code",
      "metadata": {
        "colab": {
          "base_uri": "https://localhost:8080/"
        },
        "id": "EjN-2ANelcjJ",
        "outputId": "47537bf8-965d-436d-8064-d639ebcc6549"
      },
      "source": [
        "print(np.array([1, 2, 3, 4], dtype=float))"
      ],
      "execution_count": null,
      "outputs": [
        {
          "output_type": "stream",
          "text": [
            "[1. 2. 3. 4.]\n"
          ],
          "name": "stdout"
        }
      ]
    },
    {
      "cell_type": "code",
      "metadata": {
        "id": "lfSg0raVlogN"
      },
      "source": [
        ""
      ],
      "execution_count": null,
      "outputs": []
    },
    {
      "cell_type": "markdown",
      "metadata": {
        "id": "603or8daubuM"
      },
      "source": [
        "###Cont\n"
      ]
    },
    {
      "cell_type": "code",
      "metadata": {
        "colab": {
          "base_uri": "https://localhost:8080/"
        },
        "id": "KHOTqfU0ubJD",
        "outputId": "e17e733c-564a-4604-d155-a32b80579b66"
      },
      "source": [
        "x = -5\n",
        "np.abs(x)"
      ],
      "execution_count": null,
      "outputs": [
        {
          "output_type": "execute_result",
          "data": {
            "text/plain": [
              "5"
            ]
          },
          "metadata": {
            "tags": []
          },
          "execution_count": 86
        }
      ]
    },
    {
      "cell_type": "code",
      "metadata": {
        "colab": {
          "base_uri": "https://localhost:8080/"
        },
        "id": "rxAysgE9ugZ-",
        "outputId": "c9b4259b-1c4e-4567-e2a6-99332fac4c59"
      },
      "source": [
        "print(np.floor(3.5))\n",
        "print('\\n')\n",
        "print(np.ceil(3.5))"
      ],
      "execution_count": null,
      "outputs": [
        {
          "output_type": "stream",
          "text": [
            "3.0\n",
            "\n",
            "\n",
            "4.0\n"
          ],
          "name": "stdout"
        }
      ]
    },
    {
      "cell_type": "code",
      "metadata": {
        "colab": {
          "base_uri": "https://localhost:8080/"
        },
        "id": "m0Zc-Lksupzy",
        "outputId": "d24eeae3-5605-455c-ed89-4bed7f8af948"
      },
      "source": [
        "data1 = np.array([1, 2, 3, 4, 5])\n",
        "# np.max(data1)\n",
        "# np.min(data1)\n",
        "# np.std(data1)\n",
        "np.var(data1)"
      ],
      "execution_count": null,
      "outputs": [
        {
          "output_type": "execute_result",
          "data": {
            "text/plain": [
              "2.0"
            ]
          },
          "metadata": {
            "tags": []
          },
          "execution_count": 97
        }
      ]
    },
    {
      "cell_type": "code",
      "metadata": {
        "colab": {
          "base_uri": "https://localhost:8080/"
        },
        "id": "uLeksTCkvlk0",
        "outputId": "14d55999-4f60-4aee-f5f6-bdf720c2fd19"
      },
      "source": [
        "!gdown https://drive.google.com/uc?id=1QGV_zFOefmTWIJQqJmDS9LRpgUfnhZ2Y"
      ],
      "execution_count": null,
      "outputs": [
        {
          "output_type": "stream",
          "text": [
            "Downloading...\n",
            "From: https://drive.google.com/uc?id=1QGV_zFOefmTWIJQqJmDS9LRpgUfnhZ2Y\n",
            "To: /content/Cats.csv\n",
            "\r  0% 0.00/274 [00:00<?, ?B/s]\r100% 274/274 [00:00<00:00, 645kB/s]\n"
          ],
          "name": "stdout"
        }
      ]
    },
    {
      "cell_type": "code",
      "metadata": {
        "id": "21OME1_5wy7A"
      },
      "source": [
        "import pandas as pd"
      ],
      "execution_count": null,
      "outputs": []
    },
    {
      "cell_type": "code",
      "metadata": {
        "id": "dqvyRCxjxbC6"
      },
      "source": [
        "df = pd.read_csv('/content/Cats.csv')"
      ],
      "execution_count": null,
      "outputs": []
    },
    {
      "cell_type": "code",
      "metadata": {
        "colab": {
          "base_uri": "https://localhost:8080/",
          "height": 204
        },
        "id": "XxBlvz_LxhEu",
        "outputId": "498e4c62-901a-4537-99f2-af1048139da2"
      },
      "source": [
        "df.head()"
      ],
      "execution_count": null,
      "outputs": [
        {
          "output_type": "execute_result",
          "data": {
            "text/html": [
              "<div>\n",
              "<style scoped>\n",
              "    .dataframe tbody tr th:only-of-type {\n",
              "        vertical-align: middle;\n",
              "    }\n",
              "\n",
              "    .dataframe tbody tr th {\n",
              "        vertical-align: top;\n",
              "    }\n",
              "\n",
              "    .dataframe thead th {\n",
              "        text-align: right;\n",
              "    }\n",
              "</style>\n",
              "<table border=\"1\" class=\"dataframe\">\n",
              "  <thead>\n",
              "    <tr style=\"text-align: right;\">\n",
              "      <th></th>\n",
              "      <th>Name</th>\n",
              "      <th>Color</th>\n",
              "      <th>Fur</th>\n",
              "      <th>Weight</th>\n",
              "      <th>Owner</th>\n",
              "      <th>Age</th>\n",
              "    </tr>\n",
              "  </thead>\n",
              "  <tbody>\n",
              "    <tr>\n",
              "      <th>0</th>\n",
              "      <td>Ridley</td>\n",
              "      <td>Black</td>\n",
              "      <td>Fluffy</td>\n",
              "      <td>4</td>\n",
              "      <td>Tyler</td>\n",
              "      <td>3</td>\n",
              "    </tr>\n",
              "    <tr>\n",
              "      <th>1</th>\n",
              "      <td>Mish</td>\n",
              "      <td>Tuxedo</td>\n",
              "      <td>Short</td>\n",
              "      <td>3</td>\n",
              "      <td>Ariel</td>\n",
              "      <td>4</td>\n",
              "    </tr>\n",
              "    <tr>\n",
              "      <th>2</th>\n",
              "      <td>Moe</td>\n",
              "      <td>Black</td>\n",
              "      <td>Fluffy</td>\n",
              "      <td>5</td>\n",
              "      <td>Dustin</td>\n",
              "      <td>4</td>\n",
              "    </tr>\n",
              "    <tr>\n",
              "      <th>3</th>\n",
              "      <td>Kaya</td>\n",
              "      <td>Grey</td>\n",
              "      <td>Short</td>\n",
              "      <td>4</td>\n",
              "      <td>Gordon</td>\n",
              "      <td>8</td>\n",
              "    </tr>\n",
              "    <tr>\n",
              "      <th>4</th>\n",
              "      <td>Shadow</td>\n",
              "      <td>Black</td>\n",
              "      <td>Short</td>\n",
              "      <td>3</td>\n",
              "      <td>Nicky</td>\n",
              "      <td>10</td>\n",
              "    </tr>\n",
              "  </tbody>\n",
              "</table>\n",
              "</div>"
            ],
            "text/plain": [
              "     Name   Color     Fur  Weight   Owner  Age\n",
              "0  Ridley   Black  Fluffy       4   Tyler    3\n",
              "1    Mish  Tuxedo   Short       3   Ariel    4\n",
              "2     Moe   Black  Fluffy       5  Dustin    4\n",
              "3    Kaya    Grey   Short       4  Gordon    8\n",
              "4  Shadow   Black   Short       3   Nicky   10"
            ]
          },
          "metadata": {
            "tags": []
          },
          "execution_count": 140
        }
      ]
    },
    {
      "cell_type": "code",
      "metadata": {
        "colab": {
          "base_uri": "https://localhost:8080/"
        },
        "id": "Uwt_j618xkao",
        "outputId": "edfa5390-0b96-4039-8134-b72ebb34d642"
      },
      "source": [
        "df.shape"
      ],
      "execution_count": null,
      "outputs": [
        {
          "output_type": "execute_result",
          "data": {
            "text/plain": [
              "(8, 6)"
            ]
          },
          "metadata": {
            "tags": []
          },
          "execution_count": 141
        }
      ]
    },
    {
      "cell_type": "code",
      "metadata": {
        "id": "rsenI8uRyFQp"
      },
      "source": [
        "df2 = df.drop(['Owner'], axis=1)"
      ],
      "execution_count": null,
      "outputs": []
    },
    {
      "cell_type": "code",
      "metadata": {
        "colab": {
          "base_uri": "https://localhost:8080/",
          "height": 297
        },
        "id": "hZ7D2BVOyXli",
        "outputId": "ef247891-7677-410d-c9b0-81bf6fa3f961"
      },
      "source": [
        "df2"
      ],
      "execution_count": null,
      "outputs": [
        {
          "output_type": "execute_result",
          "data": {
            "text/html": [
              "<div>\n",
              "<style scoped>\n",
              "    .dataframe tbody tr th:only-of-type {\n",
              "        vertical-align: middle;\n",
              "    }\n",
              "\n",
              "    .dataframe tbody tr th {\n",
              "        vertical-align: top;\n",
              "    }\n",
              "\n",
              "    .dataframe thead th {\n",
              "        text-align: right;\n",
              "    }\n",
              "</style>\n",
              "<table border=\"1\" class=\"dataframe\">\n",
              "  <thead>\n",
              "    <tr style=\"text-align: right;\">\n",
              "      <th></th>\n",
              "      <th>Name</th>\n",
              "      <th>Color</th>\n",
              "      <th>Fur</th>\n",
              "      <th>Weight</th>\n",
              "      <th>Age</th>\n",
              "    </tr>\n",
              "  </thead>\n",
              "  <tbody>\n",
              "    <tr>\n",
              "      <th>0</th>\n",
              "      <td>Ridley</td>\n",
              "      <td>Black</td>\n",
              "      <td>Fluffy</td>\n",
              "      <td>4</td>\n",
              "      <td>3</td>\n",
              "    </tr>\n",
              "    <tr>\n",
              "      <th>1</th>\n",
              "      <td>Mish</td>\n",
              "      <td>Tuxedo</td>\n",
              "      <td>Short</td>\n",
              "      <td>3</td>\n",
              "      <td>4</td>\n",
              "    </tr>\n",
              "    <tr>\n",
              "      <th>2</th>\n",
              "      <td>Moe</td>\n",
              "      <td>Black</td>\n",
              "      <td>Fluffy</td>\n",
              "      <td>5</td>\n",
              "      <td>4</td>\n",
              "    </tr>\n",
              "    <tr>\n",
              "      <th>3</th>\n",
              "      <td>Kaya</td>\n",
              "      <td>Grey</td>\n",
              "      <td>Short</td>\n",
              "      <td>4</td>\n",
              "      <td>8</td>\n",
              "    </tr>\n",
              "    <tr>\n",
              "      <th>4</th>\n",
              "      <td>Shadow</td>\n",
              "      <td>Black</td>\n",
              "      <td>Short</td>\n",
              "      <td>3</td>\n",
              "      <td>10</td>\n",
              "    </tr>\n",
              "    <tr>\n",
              "      <th>5</th>\n",
              "      <td>Otis</td>\n",
              "      <td>Grey</td>\n",
              "      <td>Fluffy</td>\n",
              "      <td>4</td>\n",
              "      <td>6</td>\n",
              "    </tr>\n",
              "    <tr>\n",
              "      <th>6</th>\n",
              "      <td>Elvis</td>\n",
              "      <td>Brown</td>\n",
              "      <td>Fluffy</td>\n",
              "      <td>8</td>\n",
              "      <td>16</td>\n",
              "    </tr>\n",
              "    <tr>\n",
              "      <th>7</th>\n",
              "      <td>Kaboodle</td>\n",
              "      <td>Black</td>\n",
              "      <td>Fluffy</td>\n",
              "      <td>5</td>\n",
              "      <td>15</td>\n",
              "    </tr>\n",
              "  </tbody>\n",
              "</table>\n",
              "</div>"
            ],
            "text/plain": [
              "       Name   Color     Fur  Weight  Age\n",
              "0    Ridley   Black  Fluffy       4    3\n",
              "1      Mish  Tuxedo   Short       3    4\n",
              "2       Moe   Black  Fluffy       5    4\n",
              "3      Kaya    Grey   Short       4    8\n",
              "4    Shadow   Black   Short       3   10\n",
              "5      Otis    Grey  Fluffy       4    6\n",
              "6     Elvis   Brown  Fluffy       8   16\n",
              "7  Kaboodle   Black  Fluffy       5   15"
            ]
          },
          "metadata": {
            "tags": []
          },
          "execution_count": 164
        }
      ]
    },
    {
      "cell_type": "code",
      "metadata": {
        "colab": {
          "base_uri": "https://localhost:8080/",
          "height": 80
        },
        "id": "bST5X_JiyaZ1",
        "outputId": "2aaab621-1745-4f7c-a26b-7201f57f7c6a"
      },
      "source": [
        "df.iloc[[0]]"
      ],
      "execution_count": null,
      "outputs": [
        {
          "output_type": "execute_result",
          "data": {
            "text/html": [
              "<div>\n",
              "<style scoped>\n",
              "    .dataframe tbody tr th:only-of-type {\n",
              "        vertical-align: middle;\n",
              "    }\n",
              "\n",
              "    .dataframe tbody tr th {\n",
              "        vertical-align: top;\n",
              "    }\n",
              "\n",
              "    .dataframe thead th {\n",
              "        text-align: right;\n",
              "    }\n",
              "</style>\n",
              "<table border=\"1\" class=\"dataframe\">\n",
              "  <thead>\n",
              "    <tr style=\"text-align: right;\">\n",
              "      <th></th>\n",
              "      <th>Name</th>\n",
              "      <th>Color</th>\n",
              "      <th>Fur</th>\n",
              "      <th>Weight</th>\n",
              "      <th>Owner</th>\n",
              "      <th>Age</th>\n",
              "    </tr>\n",
              "  </thead>\n",
              "  <tbody>\n",
              "    <tr>\n",
              "      <th>0</th>\n",
              "      <td>Ridley</td>\n",
              "      <td>Black</td>\n",
              "      <td>Fluffy</td>\n",
              "      <td>4</td>\n",
              "      <td>Tyler</td>\n",
              "      <td>3</td>\n",
              "    </tr>\n",
              "  </tbody>\n",
              "</table>\n",
              "</div>"
            ],
            "text/plain": [
              "     Name  Color     Fur  Weight  Owner  Age\n",
              "0  Ridley  Black  Fluffy       4  Tyler    3"
            ]
          },
          "metadata": {
            "tags": []
          },
          "execution_count": 165
        }
      ]
    },
    {
      "cell_type": "code",
      "metadata": {
        "colab": {
          "base_uri": "https://localhost:8080/",
          "height": 80
        },
        "id": "AVQBG3DDyy-c",
        "outputId": "b10e9fa9-d6f9-47c5-9193-fa52b6a9f801"
      },
      "source": [
        "df.loc[[4]]"
      ],
      "execution_count": null,
      "outputs": [
        {
          "output_type": "execute_result",
          "data": {
            "text/html": [
              "<div>\n",
              "<style scoped>\n",
              "    .dataframe tbody tr th:only-of-type {\n",
              "        vertical-align: middle;\n",
              "    }\n",
              "\n",
              "    .dataframe tbody tr th {\n",
              "        vertical-align: top;\n",
              "    }\n",
              "\n",
              "    .dataframe thead th {\n",
              "        text-align: right;\n",
              "    }\n",
              "</style>\n",
              "<table border=\"1\" class=\"dataframe\">\n",
              "  <thead>\n",
              "    <tr style=\"text-align: right;\">\n",
              "      <th></th>\n",
              "      <th>Name</th>\n",
              "      <th>Color</th>\n",
              "      <th>Fur</th>\n",
              "      <th>Weight</th>\n",
              "      <th>Owner</th>\n",
              "      <th>Age</th>\n",
              "    </tr>\n",
              "  </thead>\n",
              "  <tbody>\n",
              "    <tr>\n",
              "      <th>4</th>\n",
              "      <td>Shadow</td>\n",
              "      <td>Black</td>\n",
              "      <td>Short</td>\n",
              "      <td>3</td>\n",
              "      <td>Nicky</td>\n",
              "      <td>10</td>\n",
              "    </tr>\n",
              "  </tbody>\n",
              "</table>\n",
              "</div>"
            ],
            "text/plain": [
              "     Name  Color    Fur  Weight  Owner  Age\n",
              "4  Shadow  Black  Short       3  Nicky   10"
            ]
          },
          "metadata": {
            "tags": []
          },
          "execution_count": 166
        }
      ]
    },
    {
      "cell_type": "code",
      "metadata": {
        "colab": {
          "base_uri": "https://localhost:8080/",
          "height": 35
        },
        "id": "bFP3CiPPzc0F",
        "outputId": "6664d69f-7882-4cf6-c5ae-c7609f6094dc"
      },
      "source": [
        "df2['Fur'][3]"
      ],
      "execution_count": null,
      "outputs": [
        {
          "output_type": "execute_result",
          "data": {
            "application/vnd.google.colaboratory.intrinsic+json": {
              "type": "string"
            },
            "text/plain": [
              "'Short'"
            ]
          },
          "metadata": {
            "tags": []
          },
          "execution_count": 167
        }
      ]
    },
    {
      "cell_type": "code",
      "metadata": {
        "id": "SsbG3128zxuy"
      },
      "source": [
        "df2['vet_visit'] = [x for x in range(8)]"
      ],
      "execution_count": null,
      "outputs": []
    },
    {
      "cell_type": "code",
      "metadata": {
        "colab": {
          "base_uri": "https://localhost:8080/",
          "height": 297
        },
        "id": "QrWL4SxA0KUX",
        "outputId": "4b045ebb-00b2-4b95-f68b-c4deb3e81dec"
      },
      "source": [
        "df2"
      ],
      "execution_count": null,
      "outputs": [
        {
          "output_type": "execute_result",
          "data": {
            "text/html": [
              "<div>\n",
              "<style scoped>\n",
              "    .dataframe tbody tr th:only-of-type {\n",
              "        vertical-align: middle;\n",
              "    }\n",
              "\n",
              "    .dataframe tbody tr th {\n",
              "        vertical-align: top;\n",
              "    }\n",
              "\n",
              "    .dataframe thead th {\n",
              "        text-align: right;\n",
              "    }\n",
              "</style>\n",
              "<table border=\"1\" class=\"dataframe\">\n",
              "  <thead>\n",
              "    <tr style=\"text-align: right;\">\n",
              "      <th></th>\n",
              "      <th>Name</th>\n",
              "      <th>Color</th>\n",
              "      <th>Fur</th>\n",
              "      <th>Weight</th>\n",
              "      <th>Age</th>\n",
              "      <th>vet_visit</th>\n",
              "    </tr>\n",
              "  </thead>\n",
              "  <tbody>\n",
              "    <tr>\n",
              "      <th>0</th>\n",
              "      <td>Ridley</td>\n",
              "      <td>Black</td>\n",
              "      <td>Fluffy</td>\n",
              "      <td>4</td>\n",
              "      <td>3</td>\n",
              "      <td>0</td>\n",
              "    </tr>\n",
              "    <tr>\n",
              "      <th>1</th>\n",
              "      <td>Mish</td>\n",
              "      <td>Tuxedo</td>\n",
              "      <td>Short</td>\n",
              "      <td>3</td>\n",
              "      <td>4</td>\n",
              "      <td>1</td>\n",
              "    </tr>\n",
              "    <tr>\n",
              "      <th>2</th>\n",
              "      <td>Moe</td>\n",
              "      <td>Black</td>\n",
              "      <td>Fluffy</td>\n",
              "      <td>5</td>\n",
              "      <td>4</td>\n",
              "      <td>2</td>\n",
              "    </tr>\n",
              "    <tr>\n",
              "      <th>3</th>\n",
              "      <td>Kaya</td>\n",
              "      <td>Grey</td>\n",
              "      <td>Short</td>\n",
              "      <td>4</td>\n",
              "      <td>8</td>\n",
              "      <td>3</td>\n",
              "    </tr>\n",
              "    <tr>\n",
              "      <th>4</th>\n",
              "      <td>Shadow</td>\n",
              "      <td>Black</td>\n",
              "      <td>Short</td>\n",
              "      <td>3</td>\n",
              "      <td>10</td>\n",
              "      <td>4</td>\n",
              "    </tr>\n",
              "    <tr>\n",
              "      <th>5</th>\n",
              "      <td>Otis</td>\n",
              "      <td>Grey</td>\n",
              "      <td>Fluffy</td>\n",
              "      <td>4</td>\n",
              "      <td>6</td>\n",
              "      <td>5</td>\n",
              "    </tr>\n",
              "    <tr>\n",
              "      <th>6</th>\n",
              "      <td>Elvis</td>\n",
              "      <td>Brown</td>\n",
              "      <td>Fluffy</td>\n",
              "      <td>8</td>\n",
              "      <td>16</td>\n",
              "      <td>6</td>\n",
              "    </tr>\n",
              "    <tr>\n",
              "      <th>7</th>\n",
              "      <td>Kaboodle</td>\n",
              "      <td>Black</td>\n",
              "      <td>Fluffy</td>\n",
              "      <td>5</td>\n",
              "      <td>15</td>\n",
              "      <td>7</td>\n",
              "    </tr>\n",
              "  </tbody>\n",
              "</table>\n",
              "</div>"
            ],
            "text/plain": [
              "       Name   Color     Fur  Weight  Age  vet_visit\n",
              "0    Ridley   Black  Fluffy       4    3          0\n",
              "1      Mish  Tuxedo   Short       3    4          1\n",
              "2       Moe   Black  Fluffy       5    4          2\n",
              "3      Kaya    Grey   Short       4    8          3\n",
              "4    Shadow   Black   Short       3   10          4\n",
              "5      Otis    Grey  Fluffy       4    6          5\n",
              "6     Elvis   Brown  Fluffy       8   16          6\n",
              "7  Kaboodle   Black  Fluffy       5   15          7"
            ]
          },
          "metadata": {
            "tags": []
          },
          "execution_count": 169
        }
      ]
    },
    {
      "cell_type": "code",
      "metadata": {
        "colab": {
          "base_uri": "https://localhost:8080/"
        },
        "id": "hwPuhspi0TAJ",
        "outputId": "4394e3af-6e5e-4c5c-a9cb-1c1fb8ac05ce"
      },
      "source": [
        "df2['vet_visit'][2] = 5"
      ],
      "execution_count": null,
      "outputs": [
        {
          "output_type": "stream",
          "text": [
            "/usr/local/lib/python3.7/dist-packages/ipykernel_launcher.py:1: SettingWithCopyWarning: \n",
            "A value is trying to be set on a copy of a slice from a DataFrame\n",
            "\n",
            "See the caveats in the documentation: https://pandas.pydata.org/pandas-docs/stable/user_guide/indexing.html#returning-a-view-versus-a-copy\n",
            "  \"\"\"Entry point for launching an IPython kernel.\n"
          ],
          "name": "stderr"
        }
      ]
    },
    {
      "cell_type": "code",
      "metadata": {
        "id": "EwmDLHLW0ZNf"
      },
      "source": [
        "df2['vet_visit'] = df2['vet_visit']*2"
      ],
      "execution_count": null,
      "outputs": []
    },
    {
      "cell_type": "code",
      "metadata": {
        "colab": {
          "base_uri": "https://localhost:8080/",
          "height": 297
        },
        "id": "jM58Kslr0byF",
        "outputId": "d1ab2e7e-5656-406e-e7e6-479bd0fe4f49"
      },
      "source": [
        "df2"
      ],
      "execution_count": null,
      "outputs": [
        {
          "output_type": "execute_result",
          "data": {
            "text/html": [
              "<div>\n",
              "<style scoped>\n",
              "    .dataframe tbody tr th:only-of-type {\n",
              "        vertical-align: middle;\n",
              "    }\n",
              "\n",
              "    .dataframe tbody tr th {\n",
              "        vertical-align: top;\n",
              "    }\n",
              "\n",
              "    .dataframe thead th {\n",
              "        text-align: right;\n",
              "    }\n",
              "</style>\n",
              "<table border=\"1\" class=\"dataframe\">\n",
              "  <thead>\n",
              "    <tr style=\"text-align: right;\">\n",
              "      <th></th>\n",
              "      <th>Name</th>\n",
              "      <th>Color</th>\n",
              "      <th>Fur</th>\n",
              "      <th>Weight</th>\n",
              "      <th>Age</th>\n",
              "      <th>vet_visit</th>\n",
              "    </tr>\n",
              "  </thead>\n",
              "  <tbody>\n",
              "    <tr>\n",
              "      <th>0</th>\n",
              "      <td>Ridley</td>\n",
              "      <td>Black</td>\n",
              "      <td>Fluffy</td>\n",
              "      <td>4</td>\n",
              "      <td>3</td>\n",
              "      <td>0</td>\n",
              "    </tr>\n",
              "    <tr>\n",
              "      <th>1</th>\n",
              "      <td>Mish</td>\n",
              "      <td>Tuxedo</td>\n",
              "      <td>Short</td>\n",
              "      <td>3</td>\n",
              "      <td>4</td>\n",
              "      <td>2</td>\n",
              "    </tr>\n",
              "    <tr>\n",
              "      <th>2</th>\n",
              "      <td>Moe</td>\n",
              "      <td>Black</td>\n",
              "      <td>Fluffy</td>\n",
              "      <td>5</td>\n",
              "      <td>4</td>\n",
              "      <td>10</td>\n",
              "    </tr>\n",
              "    <tr>\n",
              "      <th>3</th>\n",
              "      <td>Kaya</td>\n",
              "      <td>Grey</td>\n",
              "      <td>Short</td>\n",
              "      <td>4</td>\n",
              "      <td>8</td>\n",
              "      <td>6</td>\n",
              "    </tr>\n",
              "    <tr>\n",
              "      <th>4</th>\n",
              "      <td>Shadow</td>\n",
              "      <td>Black</td>\n",
              "      <td>Short</td>\n",
              "      <td>3</td>\n",
              "      <td>10</td>\n",
              "      <td>8</td>\n",
              "    </tr>\n",
              "    <tr>\n",
              "      <th>5</th>\n",
              "      <td>Otis</td>\n",
              "      <td>Grey</td>\n",
              "      <td>Fluffy</td>\n",
              "      <td>4</td>\n",
              "      <td>6</td>\n",
              "      <td>10</td>\n",
              "    </tr>\n",
              "    <tr>\n",
              "      <th>6</th>\n",
              "      <td>Elvis</td>\n",
              "      <td>Brown</td>\n",
              "      <td>Fluffy</td>\n",
              "      <td>8</td>\n",
              "      <td>16</td>\n",
              "      <td>12</td>\n",
              "    </tr>\n",
              "    <tr>\n",
              "      <th>7</th>\n",
              "      <td>Kaboodle</td>\n",
              "      <td>Black</td>\n",
              "      <td>Fluffy</td>\n",
              "      <td>5</td>\n",
              "      <td>15</td>\n",
              "      <td>14</td>\n",
              "    </tr>\n",
              "  </tbody>\n",
              "</table>\n",
              "</div>"
            ],
            "text/plain": [
              "       Name   Color     Fur  Weight  Age  vet_visit\n",
              "0    Ridley   Black  Fluffy       4    3          0\n",
              "1      Mish  Tuxedo   Short       3    4          2\n",
              "2       Moe   Black  Fluffy       5    4         10\n",
              "3      Kaya    Grey   Short       4    8          6\n",
              "4    Shadow   Black   Short       3   10          8\n",
              "5      Otis    Grey  Fluffy       4    6         10\n",
              "6     Elvis   Brown  Fluffy       8   16         12\n",
              "7  Kaboodle   Black  Fluffy       5   15         14"
            ]
          },
          "metadata": {
            "tags": []
          },
          "execution_count": 172
        }
      ]
    },
    {
      "cell_type": "code",
      "metadata": {
        "id": "V0ZHveg_1UpT"
      },
      "source": [
        "df2 = df2.sort_values('Age')"
      ],
      "execution_count": null,
      "outputs": []
    },
    {
      "cell_type": "code",
      "metadata": {
        "colab": {
          "base_uri": "https://localhost:8080/",
          "height": 297
        },
        "id": "GtZRFZOZ1pOy",
        "outputId": "b1bdedeb-e0ff-423e-f570-7ca1c684bab4"
      },
      "source": [
        "df2"
      ],
      "execution_count": null,
      "outputs": [
        {
          "output_type": "execute_result",
          "data": {
            "text/html": [
              "<div>\n",
              "<style scoped>\n",
              "    .dataframe tbody tr th:only-of-type {\n",
              "        vertical-align: middle;\n",
              "    }\n",
              "\n",
              "    .dataframe tbody tr th {\n",
              "        vertical-align: top;\n",
              "    }\n",
              "\n",
              "    .dataframe thead th {\n",
              "        text-align: right;\n",
              "    }\n",
              "</style>\n",
              "<table border=\"1\" class=\"dataframe\">\n",
              "  <thead>\n",
              "    <tr style=\"text-align: right;\">\n",
              "      <th></th>\n",
              "      <th>Name</th>\n",
              "      <th>Color</th>\n",
              "      <th>Fur</th>\n",
              "      <th>Weight</th>\n",
              "      <th>Age</th>\n",
              "      <th>vet_visit</th>\n",
              "    </tr>\n",
              "  </thead>\n",
              "  <tbody>\n",
              "    <tr>\n",
              "      <th>0</th>\n",
              "      <td>Ridley</td>\n",
              "      <td>Black</td>\n",
              "      <td>Fluffy</td>\n",
              "      <td>4</td>\n",
              "      <td>3</td>\n",
              "      <td>0</td>\n",
              "    </tr>\n",
              "    <tr>\n",
              "      <th>1</th>\n",
              "      <td>Mish</td>\n",
              "      <td>Tuxedo</td>\n",
              "      <td>Short</td>\n",
              "      <td>3</td>\n",
              "      <td>4</td>\n",
              "      <td>2</td>\n",
              "    </tr>\n",
              "    <tr>\n",
              "      <th>2</th>\n",
              "      <td>Moe</td>\n",
              "      <td>Black</td>\n",
              "      <td>Fluffy</td>\n",
              "      <td>5</td>\n",
              "      <td>4</td>\n",
              "      <td>10</td>\n",
              "    </tr>\n",
              "    <tr>\n",
              "      <th>5</th>\n",
              "      <td>Otis</td>\n",
              "      <td>Grey</td>\n",
              "      <td>Fluffy</td>\n",
              "      <td>4</td>\n",
              "      <td>6</td>\n",
              "      <td>10</td>\n",
              "    </tr>\n",
              "    <tr>\n",
              "      <th>3</th>\n",
              "      <td>Kaya</td>\n",
              "      <td>Grey</td>\n",
              "      <td>Short</td>\n",
              "      <td>4</td>\n",
              "      <td>8</td>\n",
              "      <td>6</td>\n",
              "    </tr>\n",
              "    <tr>\n",
              "      <th>4</th>\n",
              "      <td>Shadow</td>\n",
              "      <td>Black</td>\n",
              "      <td>Short</td>\n",
              "      <td>3</td>\n",
              "      <td>10</td>\n",
              "      <td>8</td>\n",
              "    </tr>\n",
              "    <tr>\n",
              "      <th>7</th>\n",
              "      <td>Kaboodle</td>\n",
              "      <td>Black</td>\n",
              "      <td>Fluffy</td>\n",
              "      <td>5</td>\n",
              "      <td>15</td>\n",
              "      <td>14</td>\n",
              "    </tr>\n",
              "    <tr>\n",
              "      <th>6</th>\n",
              "      <td>Elvis</td>\n",
              "      <td>Brown</td>\n",
              "      <td>Fluffy</td>\n",
              "      <td>8</td>\n",
              "      <td>16</td>\n",
              "      <td>12</td>\n",
              "    </tr>\n",
              "  </tbody>\n",
              "</table>\n",
              "</div>"
            ],
            "text/plain": [
              "       Name   Color     Fur  Weight  Age  vet_visit\n",
              "0    Ridley   Black  Fluffy       4    3          0\n",
              "1      Mish  Tuxedo   Short       3    4          2\n",
              "2       Moe   Black  Fluffy       5    4         10\n",
              "5      Otis    Grey  Fluffy       4    6         10\n",
              "3      Kaya    Grey   Short       4    8          6\n",
              "4    Shadow   Black   Short       3   10          8\n",
              "7  Kaboodle   Black  Fluffy       5   15         14\n",
              "6     Elvis   Brown  Fluffy       8   16         12"
            ]
          },
          "metadata": {
            "tags": []
          },
          "execution_count": 178
        }
      ]
    },
    {
      "cell_type": "code",
      "metadata": {
        "id": "nN9KVv7C14oP"
      },
      "source": [
        "df2['Owner'] = df['Owner']"
      ],
      "execution_count": null,
      "outputs": []
    },
    {
      "cell_type": "code",
      "metadata": {
        "colab": {
          "base_uri": "https://localhost:8080/",
          "height": 297
        },
        "id": "g2Fc9Ha62QiE",
        "outputId": "249172ea-95a8-4b0b-baf3-734d2dfd3e8f"
      },
      "source": [
        "df2"
      ],
      "execution_count": null,
      "outputs": [
        {
          "output_type": "execute_result",
          "data": {
            "text/html": [
              "<div>\n",
              "<style scoped>\n",
              "    .dataframe tbody tr th:only-of-type {\n",
              "        vertical-align: middle;\n",
              "    }\n",
              "\n",
              "    .dataframe tbody tr th {\n",
              "        vertical-align: top;\n",
              "    }\n",
              "\n",
              "    .dataframe thead th {\n",
              "        text-align: right;\n",
              "    }\n",
              "</style>\n",
              "<table border=\"1\" class=\"dataframe\">\n",
              "  <thead>\n",
              "    <tr style=\"text-align: right;\">\n",
              "      <th></th>\n",
              "      <th>Name</th>\n",
              "      <th>Color</th>\n",
              "      <th>Fur</th>\n",
              "      <th>Weight</th>\n",
              "      <th>Age</th>\n",
              "      <th>vet_visit</th>\n",
              "      <th>Owner</th>\n",
              "    </tr>\n",
              "  </thead>\n",
              "  <tbody>\n",
              "    <tr>\n",
              "      <th>0</th>\n",
              "      <td>Ridley</td>\n",
              "      <td>Black</td>\n",
              "      <td>Fluffy</td>\n",
              "      <td>4</td>\n",
              "      <td>3</td>\n",
              "      <td>0</td>\n",
              "      <td>Tyler</td>\n",
              "    </tr>\n",
              "    <tr>\n",
              "      <th>1</th>\n",
              "      <td>Mish</td>\n",
              "      <td>Tuxedo</td>\n",
              "      <td>Short</td>\n",
              "      <td>3</td>\n",
              "      <td>4</td>\n",
              "      <td>2</td>\n",
              "      <td>Ariel</td>\n",
              "    </tr>\n",
              "    <tr>\n",
              "      <th>2</th>\n",
              "      <td>Moe</td>\n",
              "      <td>Black</td>\n",
              "      <td>Fluffy</td>\n",
              "      <td>5</td>\n",
              "      <td>4</td>\n",
              "      <td>10</td>\n",
              "      <td>Dustin</td>\n",
              "    </tr>\n",
              "    <tr>\n",
              "      <th>5</th>\n",
              "      <td>Otis</td>\n",
              "      <td>Grey</td>\n",
              "      <td>Fluffy</td>\n",
              "      <td>4</td>\n",
              "      <td>6</td>\n",
              "      <td>10</td>\n",
              "      <td>Nicky</td>\n",
              "    </tr>\n",
              "    <tr>\n",
              "      <th>3</th>\n",
              "      <td>Kaya</td>\n",
              "      <td>Grey</td>\n",
              "      <td>Short</td>\n",
              "      <td>4</td>\n",
              "      <td>8</td>\n",
              "      <td>6</td>\n",
              "      <td>Gordon</td>\n",
              "    </tr>\n",
              "    <tr>\n",
              "      <th>4</th>\n",
              "      <td>Shadow</td>\n",
              "      <td>Black</td>\n",
              "      <td>Short</td>\n",
              "      <td>3</td>\n",
              "      <td>10</td>\n",
              "      <td>8</td>\n",
              "      <td>Nicky</td>\n",
              "    </tr>\n",
              "    <tr>\n",
              "      <th>7</th>\n",
              "      <td>Kaboodle</td>\n",
              "      <td>Black</td>\n",
              "      <td>Fluffy</td>\n",
              "      <td>5</td>\n",
              "      <td>15</td>\n",
              "      <td>14</td>\n",
              "      <td>Cory</td>\n",
              "    </tr>\n",
              "    <tr>\n",
              "      <th>6</th>\n",
              "      <td>Elvis</td>\n",
              "      <td>Brown</td>\n",
              "      <td>Fluffy</td>\n",
              "      <td>8</td>\n",
              "      <td>16</td>\n",
              "      <td>12</td>\n",
              "      <td>Tom</td>\n",
              "    </tr>\n",
              "  </tbody>\n",
              "</table>\n",
              "</div>"
            ],
            "text/plain": [
              "       Name   Color     Fur  Weight  Age  vet_visit   Owner\n",
              "0    Ridley   Black  Fluffy       4    3          0   Tyler\n",
              "1      Mish  Tuxedo   Short       3    4          2   Ariel\n",
              "2       Moe   Black  Fluffy       5    4         10  Dustin\n",
              "5      Otis    Grey  Fluffy       4    6         10   Nicky\n",
              "3      Kaya    Grey   Short       4    8          6  Gordon\n",
              "4    Shadow   Black   Short       3   10          8   Nicky\n",
              "7  Kaboodle   Black  Fluffy       5   15         14    Cory\n",
              "6     Elvis   Brown  Fluffy       8   16         12     Tom"
            ]
          },
          "metadata": {
            "tags": []
          },
          "execution_count": 181
        }
      ]
    },
    {
      "cell_type": "code",
      "metadata": {
        "colab": {
          "base_uri": "https://localhost:8080/"
        },
        "id": "75rGCh6X2R2y",
        "outputId": "cf9a1f62-c2c3-4423-a8fc-290fc28a34e8"
      },
      "source": [
        "df2['Owner'][3] = np.nan"
      ],
      "execution_count": null,
      "outputs": [
        {
          "output_type": "stream",
          "text": [
            "/usr/local/lib/python3.7/dist-packages/ipykernel_launcher.py:1: SettingWithCopyWarning: \n",
            "A value is trying to be set on a copy of a slice from a DataFrame\n",
            "\n",
            "See the caveats in the documentation: https://pandas.pydata.org/pandas-docs/stable/user_guide/indexing.html#returning-a-view-versus-a-copy\n",
            "  \"\"\"Entry point for launching an IPython kernel.\n"
          ],
          "name": "stderr"
        }
      ]
    },
    {
      "cell_type": "code",
      "metadata": {
        "colab": {
          "base_uri": "https://localhost:8080/",
          "height": 297
        },
        "id": "afd8lpit2xy4",
        "outputId": "d4bd5eb6-158b-4693-ce0e-838e57c250f8"
      },
      "source": [
        "df2"
      ],
      "execution_count": null,
      "outputs": [
        {
          "output_type": "execute_result",
          "data": {
            "text/html": [
              "<div>\n",
              "<style scoped>\n",
              "    .dataframe tbody tr th:only-of-type {\n",
              "        vertical-align: middle;\n",
              "    }\n",
              "\n",
              "    .dataframe tbody tr th {\n",
              "        vertical-align: top;\n",
              "    }\n",
              "\n",
              "    .dataframe thead th {\n",
              "        text-align: right;\n",
              "    }\n",
              "</style>\n",
              "<table border=\"1\" class=\"dataframe\">\n",
              "  <thead>\n",
              "    <tr style=\"text-align: right;\">\n",
              "      <th></th>\n",
              "      <th>Name</th>\n",
              "      <th>Color</th>\n",
              "      <th>Fur</th>\n",
              "      <th>Weight</th>\n",
              "      <th>Age</th>\n",
              "      <th>vet_visit</th>\n",
              "      <th>Owner</th>\n",
              "    </tr>\n",
              "  </thead>\n",
              "  <tbody>\n",
              "    <tr>\n",
              "      <th>0</th>\n",
              "      <td>Ridley</td>\n",
              "      <td>Black</td>\n",
              "      <td>Fluffy</td>\n",
              "      <td>4</td>\n",
              "      <td>3</td>\n",
              "      <td>0</td>\n",
              "      <td>Tyler</td>\n",
              "    </tr>\n",
              "    <tr>\n",
              "      <th>1</th>\n",
              "      <td>Mish</td>\n",
              "      <td>Tuxedo</td>\n",
              "      <td>Short</td>\n",
              "      <td>3</td>\n",
              "      <td>4</td>\n",
              "      <td>2</td>\n",
              "      <td>Ariel</td>\n",
              "    </tr>\n",
              "    <tr>\n",
              "      <th>2</th>\n",
              "      <td>Moe</td>\n",
              "      <td>Black</td>\n",
              "      <td>Fluffy</td>\n",
              "      <td>5</td>\n",
              "      <td>4</td>\n",
              "      <td>10</td>\n",
              "      <td>Dustin</td>\n",
              "    </tr>\n",
              "    <tr>\n",
              "      <th>5</th>\n",
              "      <td>Otis</td>\n",
              "      <td>Grey</td>\n",
              "      <td>Fluffy</td>\n",
              "      <td>4</td>\n",
              "      <td>6</td>\n",
              "      <td>10</td>\n",
              "      <td>Nicky</td>\n",
              "    </tr>\n",
              "    <tr>\n",
              "      <th>3</th>\n",
              "      <td>Kaya</td>\n",
              "      <td>Grey</td>\n",
              "      <td>Short</td>\n",
              "      <td>4</td>\n",
              "      <td>8</td>\n",
              "      <td>6</td>\n",
              "      <td>NaN</td>\n",
              "    </tr>\n",
              "    <tr>\n",
              "      <th>4</th>\n",
              "      <td>Shadow</td>\n",
              "      <td>Black</td>\n",
              "      <td>Short</td>\n",
              "      <td>3</td>\n",
              "      <td>10</td>\n",
              "      <td>8</td>\n",
              "      <td>Nicky</td>\n",
              "    </tr>\n",
              "    <tr>\n",
              "      <th>7</th>\n",
              "      <td>Kaboodle</td>\n",
              "      <td>Black</td>\n",
              "      <td>Fluffy</td>\n",
              "      <td>5</td>\n",
              "      <td>15</td>\n",
              "      <td>14</td>\n",
              "      <td>Cory</td>\n",
              "    </tr>\n",
              "    <tr>\n",
              "      <th>6</th>\n",
              "      <td>Elvis</td>\n",
              "      <td>Brown</td>\n",
              "      <td>Fluffy</td>\n",
              "      <td>8</td>\n",
              "      <td>16</td>\n",
              "      <td>12</td>\n",
              "      <td>Tom</td>\n",
              "    </tr>\n",
              "  </tbody>\n",
              "</table>\n",
              "</div>"
            ],
            "text/plain": [
              "       Name   Color     Fur  Weight  Age  vet_visit   Owner\n",
              "0    Ridley   Black  Fluffy       4    3          0   Tyler\n",
              "1      Mish  Tuxedo   Short       3    4          2   Ariel\n",
              "2       Moe   Black  Fluffy       5    4         10  Dustin\n",
              "5      Otis    Grey  Fluffy       4    6         10   Nicky\n",
              "3      Kaya    Grey   Short       4    8          6     NaN\n",
              "4    Shadow   Black   Short       3   10          8   Nicky\n",
              "7  Kaboodle   Black  Fluffy       5   15         14    Cory\n",
              "6     Elvis   Brown  Fluffy       8   16         12     Tom"
            ]
          },
          "metadata": {
            "tags": []
          },
          "execution_count": 191
        }
      ]
    },
    {
      "cell_type": "code",
      "metadata": {
        "colab": {
          "base_uri": "https://localhost:8080/",
          "height": 266
        },
        "id": "30s3To6F2zXU",
        "outputId": "185249de-674d-489b-a307-9947e1ab38ce"
      },
      "source": [
        "df2.dropna()"
      ],
      "execution_count": null,
      "outputs": [
        {
          "output_type": "execute_result",
          "data": {
            "text/html": [
              "<div>\n",
              "<style scoped>\n",
              "    .dataframe tbody tr th:only-of-type {\n",
              "        vertical-align: middle;\n",
              "    }\n",
              "\n",
              "    .dataframe tbody tr th {\n",
              "        vertical-align: top;\n",
              "    }\n",
              "\n",
              "    .dataframe thead th {\n",
              "        text-align: right;\n",
              "    }\n",
              "</style>\n",
              "<table border=\"1\" class=\"dataframe\">\n",
              "  <thead>\n",
              "    <tr style=\"text-align: right;\">\n",
              "      <th></th>\n",
              "      <th>Name</th>\n",
              "      <th>Color</th>\n",
              "      <th>Fur</th>\n",
              "      <th>Weight</th>\n",
              "      <th>Age</th>\n",
              "      <th>vet_visit</th>\n",
              "      <th>Owner</th>\n",
              "    </tr>\n",
              "  </thead>\n",
              "  <tbody>\n",
              "    <tr>\n",
              "      <th>0</th>\n",
              "      <td>Ridley</td>\n",
              "      <td>Black</td>\n",
              "      <td>Fluffy</td>\n",
              "      <td>4</td>\n",
              "      <td>3</td>\n",
              "      <td>0</td>\n",
              "      <td>Tyler</td>\n",
              "    </tr>\n",
              "    <tr>\n",
              "      <th>1</th>\n",
              "      <td>Mish</td>\n",
              "      <td>Tuxedo</td>\n",
              "      <td>Short</td>\n",
              "      <td>3</td>\n",
              "      <td>4</td>\n",
              "      <td>2</td>\n",
              "      <td>Ariel</td>\n",
              "    </tr>\n",
              "    <tr>\n",
              "      <th>2</th>\n",
              "      <td>Moe</td>\n",
              "      <td>Black</td>\n",
              "      <td>Fluffy</td>\n",
              "      <td>5</td>\n",
              "      <td>4</td>\n",
              "      <td>10</td>\n",
              "      <td>Dustin</td>\n",
              "    </tr>\n",
              "    <tr>\n",
              "      <th>5</th>\n",
              "      <td>Otis</td>\n",
              "      <td>Grey</td>\n",
              "      <td>Fluffy</td>\n",
              "      <td>4</td>\n",
              "      <td>6</td>\n",
              "      <td>10</td>\n",
              "      <td>Nicky</td>\n",
              "    </tr>\n",
              "    <tr>\n",
              "      <th>4</th>\n",
              "      <td>Shadow</td>\n",
              "      <td>Black</td>\n",
              "      <td>Short</td>\n",
              "      <td>3</td>\n",
              "      <td>10</td>\n",
              "      <td>8</td>\n",
              "      <td>Nicky</td>\n",
              "    </tr>\n",
              "    <tr>\n",
              "      <th>7</th>\n",
              "      <td>Kaboodle</td>\n",
              "      <td>Black</td>\n",
              "      <td>Fluffy</td>\n",
              "      <td>5</td>\n",
              "      <td>15</td>\n",
              "      <td>14</td>\n",
              "      <td>Cory</td>\n",
              "    </tr>\n",
              "    <tr>\n",
              "      <th>6</th>\n",
              "      <td>Elvis</td>\n",
              "      <td>Brown</td>\n",
              "      <td>Fluffy</td>\n",
              "      <td>8</td>\n",
              "      <td>16</td>\n",
              "      <td>12</td>\n",
              "      <td>Tom</td>\n",
              "    </tr>\n",
              "  </tbody>\n",
              "</table>\n",
              "</div>"
            ],
            "text/plain": [
              "       Name   Color     Fur  Weight  Age  vet_visit   Owner\n",
              "0    Ridley   Black  Fluffy       4    3          0   Tyler\n",
              "1      Mish  Tuxedo   Short       3    4          2   Ariel\n",
              "2       Moe   Black  Fluffy       5    4         10  Dustin\n",
              "5      Otis    Grey  Fluffy       4    6         10   Nicky\n",
              "4    Shadow   Black   Short       3   10          8   Nicky\n",
              "7  Kaboodle   Black  Fluffy       5   15         14    Cory\n",
              "6     Elvis   Brown  Fluffy       8   16         12     Tom"
            ]
          },
          "metadata": {
            "tags": []
          },
          "execution_count": 192
        }
      ]
    },
    {
      "cell_type": "code",
      "metadata": {
        "colab": {
          "base_uri": "https://localhost:8080/"
        },
        "id": "GkHMnBy42-jm",
        "outputId": "1c673a68-95f3-4db4-ea6f-7465feb1c9e1"
      },
      "source": [
        "sum(df2['vet_visit'])"
      ],
      "execution_count": null,
      "outputs": [
        {
          "output_type": "execute_result",
          "data": {
            "text/plain": [
              "62"
            ]
          },
          "metadata": {
            "tags": []
          },
          "execution_count": 193
        }
      ]
    },
    {
      "cell_type": "code",
      "metadata": {
        "colab": {
          "base_uri": "https://localhost:8080/"
        },
        "id": "VoY1ZA5v3N4B",
        "outputId": "147f7f31-1b2a-463b-b79c-3646c5fbc327"
      },
      "source": [
        "list1 = [1, 3, 4, 6, 3, 4, 7]\n",
        "\n",
        "sorted(list1)"
      ],
      "execution_count": null,
      "outputs": [
        {
          "output_type": "execute_result",
          "data": {
            "text/plain": [
              "[1, 3, 3, 4, 4, 6, 7]"
            ]
          },
          "metadata": {
            "tags": []
          },
          "execution_count": 194
        }
      ]
    },
    {
      "cell_type": "code",
      "metadata": {
        "colab": {
          "base_uri": "https://localhost:8080/"
        },
        "id": "Y5E4dxp84Bg_",
        "outputId": "1d6c451b-6eb3-43c0-9752-bdabfa4880fe"
      },
      "source": [
        "print(np.sort(list1)) == sorted(list1)"
      ],
      "execution_count": null,
      "outputs": [
        {
          "output_type": "stream",
          "text": [
            "[1 3 3 4 4 6 7]\n"
          ],
          "name": "stdout"
        },
        {
          "output_type": "execute_result",
          "data": {
            "text/plain": [
              "False"
            ]
          },
          "metadata": {
            "tags": []
          },
          "execution_count": 198
        }
      ]
    },
    {
      "cell_type": "code",
      "metadata": {
        "colab": {
          "base_uri": "https://localhost:8080/"
        },
        "id": "GSj7VoLG5E3D",
        "outputId": "dc655d65-2d0a-4d22-f834-77d6f5c0e09c"
      },
      "source": [
        "for i in np.sort(list1):\n",
        "  print(i)"
      ],
      "execution_count": null,
      "outputs": [
        {
          "output_type": "stream",
          "text": [
            "1\n",
            "3\n",
            "3\n",
            "4\n",
            "4\n",
            "6\n",
            "7\n"
          ],
          "name": "stdout"
        }
      ]
    },
    {
      "cell_type": "code",
      "metadata": {
        "colab": {
          "base_uri": "https://localhost:8080/"
        },
        "id": "YLxjzQeB5QOL",
        "outputId": "2640a863-605f-4c6e-a05d-781e72303bc7"
      },
      "source": [
        "for i in sorted(list1):\n",
        "  print(i)"
      ],
      "execution_count": null,
      "outputs": [
        {
          "output_type": "stream",
          "text": [
            "1\n",
            "3\n",
            "3\n",
            "4\n",
            "4\n",
            "6\n",
            "7\n"
          ],
          "name": "stdout"
        }
      ]
    },
    {
      "cell_type": "code",
      "metadata": {
        "colab": {
          "base_uri": "https://localhost:8080/"
        },
        "id": "Tr4zY2q_5Tb-",
        "outputId": "9c72eb31-6e45-4765-f4ec-cb8cbb8c8e4b"
      },
      "source": [
        "print(np.sort(list1)) == sorted(list1)"
      ],
      "execution_count": null,
      "outputs": [
        {
          "output_type": "stream",
          "text": [
            "[1 3 3 4 4 6 7]\n"
          ],
          "name": "stdout"
        },
        {
          "output_type": "execute_result",
          "data": {
            "text/plain": [
              "False"
            ]
          },
          "metadata": {
            "tags": []
          },
          "execution_count": 201
        }
      ]
    },
    {
      "cell_type": "code",
      "metadata": {
        "colab": {
          "base_uri": "https://localhost:8080/"
        },
        "id": "lUI0HpNy5cB1",
        "outputId": "48be9067-807b-4f8a-e20e-04729849efca"
      },
      "source": [
        "len(np.sort(list1))"
      ],
      "execution_count": null,
      "outputs": [
        {
          "output_type": "execute_result",
          "data": {
            "text/plain": [
              "7"
            ]
          },
          "metadata": {
            "tags": []
          },
          "execution_count": 202
        }
      ]
    },
    {
      "cell_type": "code",
      "metadata": {
        "id": "tcv1MDVI6FbJ"
      },
      "source": [
        "#I would love to know more about industry application of GPT-3. I though it came like a game changer for AI real world application like generating SQL queries and went away. It’s really interesting. "
      ],
      "execution_count": null,
      "outputs": []
    },
    {
      "cell_type": "code",
      "metadata": {
        "id": "VY1-u1Nh7QDX"
      },
      "source": [
        "number = 123\n",
        "\n"
      ],
      "execution_count": null,
      "outputs": []
    }
  ]
}