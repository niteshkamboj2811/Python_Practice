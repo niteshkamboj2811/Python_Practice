{
  "nbformat": 4,
  "nbformat_minor": 0,
  "metadata": {
    "colab": {
      "provenance": [],
      "include_colab_link": true
    },
    "kernelspec": {
      "name": "python3",
      "display_name": "Python 3"
    },
    "language_info": {
      "name": "python"
    }
  },
  "cells": [
    {
      "cell_type": "markdown",
      "metadata": {
        "id": "view-in-github",
        "colab_type": "text"
      },
      "source": [
        "<a href=\"https://colab.research.google.com/github/niteshkamboj2811/Python_Practice/blob/main/Pyspark_BQ_python_sql_interview_practice.ipynb\" target=\"_parent\"><img src=\"https://colab.research.google.com/assets/colab-badge.svg\" alt=\"Open In Colab\"/></a>"
      ]
    },
    {
      "cell_type": "code",
      "execution_count": null,
      "metadata": {
        "id": "a9DATCZJYx3q"
      },
      "outputs": [],
      "source": [
        "##INSTALLING SPARK\n",
        "\n",
        "# innstall java\n",
        "!apt-get install openjdk-8-jdk-headless -qq > /dev/null\n",
        "\n",
        "# # install spark (change the version number if needed)\n",
        "!wget -q https://archive.apache.org/dist/spark/spark-3.5.0/spark-3.5.0-bin-hadoop3-scala2.13.tgz\n",
        "\n",
        "# # unzip the spark file to the current folder\n",
        "!tar xf spark-3.5.0-bin-hadoop3-scala2.13.tgz\n",
        "\n",
        "# # set your spark folder to your system path environment.\n",
        "import os\n",
        "os.environ[\"JAVA_HOME\"] = \"/usr/lib/jvm/java-8-openjdk-amd64\"\n",
        "os.environ[\"SPARK_HOME\"] = \"/content/spark-3.5.0-bin-hadoop3-scala2.13\"\n",
        "os.environ['PYSPARK_SUBMIT_ARGS'] = '--packages com.amazonaws:aws-java-sdk-pom:1.11.538,org.apache.hadoop:hadoop-aws:2.7.3 pyspark-shell'\n",
        "\n",
        "\n",
        "# # install findspark using pip\n",
        "!pip install --quiet findspark\n",
        "\n",
        "# # install pyspark using pip"
      ]
    },
    {
      "cell_type": "code",
      "source": [
        "##INSTALLING BQ\n",
        "\n",
        "# Authenticate your colab environment\n",
        "from google.colab import auth\n",
        "auth.authenticate_user()\n",
        "print('Authenticated')\n",
        "\n",
        "# Import pandas library\n",
        "#import pandas as pd\n",
        "\n",
        "# Import Google Big Query (GCP) extension of Pandas to be able to query against tables in GCP\n",
        "import pandas_gbq\n",
        "from google.cloud import bigquery\n",
        "%load_ext google.cloud.bigquery"
      ],
      "metadata": {
        "colab": {
          "base_uri": "https://localhost:8080/"
        },
        "id": "Hq7Q6YW8f2d-",
        "outputId": "6b04edeb-87de-4223-ea0e-ddd6733fece2"
      },
      "execution_count": null,
      "outputs": [
        {
          "output_type": "stream",
          "name": "stdout",
          "text": [
            "Authenticated\n"
          ]
        }
      ]
    },
    {
      "cell_type": "code",
      "source": [
        "import findspark\n",
        "findspark.init()"
      ],
      "metadata": {
        "id": "ncffvQegYyZE"
      },
      "execution_count": null,
      "outputs": []
    },
    {
      "cell_type": "code",
      "source": [
        "from google.colab import drive\n",
        "drive.mount('/content/drive')"
      ],
      "metadata": {
        "colab": {
          "base_uri": "https://localhost:8080/"
        },
        "id": "Ty7RUUdAPUg1",
        "outputId": "96742ed7-9471-4db7-e139-493a539fb394"
      },
      "execution_count": null,
      "outputs": [
        {
          "output_type": "stream",
          "name": "stdout",
          "text": [
            "Mounted at /content/drive\n"
          ]
        }
      ]
    },
    {
      "cell_type": "code",
      "source": [
        "from pyspark.sql import SparkSession\n",
        "spark = SparkSession.builder\\\n",
        "        .master(\"local\")\\\n",
        "        .appName(\"Colab\")\\\n",
        "        .config('spark.ui.port', '4050')\\\n",
        "        .getOrCreate()"
      ],
      "metadata": {
        "id": "QMu2qKx7ZDvh"
      },
      "execution_count": null,
      "outputs": []
    },
    {
      "cell_type": "code",
      "source": [
        "spark_df = spark.read.option('Header', True).csv(\"/content/drive/MyDrive/Resume/2023/Practice_Python_SQL_PYsrpak/amazon.csv\")\n",
        "\n",
        "spark_df.createOrReplaceTempView('spark_df_table')"
      ],
      "metadata": {
        "id": "qhotYvkNZFvQ"
      },
      "execution_count": null,
      "outputs": []
    },
    {
      "cell_type": "code",
      "source": [
        "pandas_df = pandas_gbq.read_gbq(\"\"\"SELECT * FROM  `bigquery-public-data.google_analytics_sample.ga_sessions_20170801` LIMIT 2000\"\"\", project_id='fifth-inkwell-303205')\n",
        "\n",
        "pandas_df"
      ],
      "metadata": {
        "colab": {
          "base_uri": "https://localhost:8080/"
        },
        "id": "LaDuZuyXgM_5",
        "outputId": "1bd90b52-9913-47fe-b4c9-7c3d0dc099ae"
      },
      "execution_count": null,
      "outputs": [
        {
          "output_type": "stream",
          "name": "stdout",
          "text": [
            "Downloading: 100%|\u001b[32m██████████\u001b[0m|\n"
          ]
        }
      ]
    },
    {
      "cell_type": "code",
      "source": [
        "type(pandas_df)"
      ],
      "metadata": {
        "colab": {
          "base_uri": "https://localhost:8080/"
        },
        "id": "t3ZYXmzNiA5s",
        "outputId": "6aec69e5-2040-4a51-943f-fbd52de0330f"
      },
      "execution_count": null,
      "outputs": [
        {
          "output_type": "execute_result",
          "data": {
            "text/plain": [
              "pandas.core.frame.DataFrame"
            ]
          },
          "metadata": {},
          "execution_count": 43
        }
      ]
    },
    {
      "cell_type": "code",
      "source": [
        "spark_df.columns"
      ],
      "metadata": {
        "colab": {
          "base_uri": "https://localhost:8080/"
        },
        "id": "eOaHRySssqu0",
        "outputId": "603702b7-f3ae-46ff-88a8-3b2dae5db999"
      },
      "execution_count": null,
      "outputs": [
        {
          "output_type": "execute_result",
          "data": {
            "text/plain": [
              "['product_id',\n",
              " 'product_name',\n",
              " 'category',\n",
              " 'discounted_price',\n",
              " 'actual_price',\n",
              " 'discount_percentage',\n",
              " 'rating',\n",
              " 'rating_count',\n",
              " 'about_product',\n",
              " 'user_id',\n",
              " 'user_name',\n",
              " 'review_id',\n",
              " 'review_title',\n",
              " 'review_content',\n",
              " 'img_link',\n",
              " 'product_link']"
            ]
          },
          "metadata": {},
          "execution_count": 30
        }
      ]
    },
    {
      "cell_type": "code",
      "source": [
        "# df_1 = df_1['standardTimestamp','ip','estid','yobi_hem_md5','android_id']"
      ],
      "metadata": {
        "id": "w4qDuapArsFT"
      },
      "execution_count": null,
      "outputs": []
    },
    {
      "cell_type": "code",
      "source": [
        "pandas_df.columns"
      ],
      "metadata": {
        "colab": {
          "base_uri": "https://localhost:8080/"
        },
        "id": "_3vjxPtttTGr",
        "outputId": "34b59854-383c-48e0-a80e-4a6017c48063"
      },
      "execution_count": null,
      "outputs": [
        {
          "output_type": "execute_result",
          "data": {
            "text/plain": [
              "Index(['visitorId', 'visitNumber', 'visitId', 'visitStartTime', 'date',\n",
              "       'totals', 'trafficSource', 'device', 'geoNetwork', 'customDimensions',\n",
              "       'hits', 'fullVisitorId', 'userId', 'clientId', 'channelGrouping',\n",
              "       'socialEngagementType'],\n",
              "      dtype='object')"
            ]
          },
          "metadata": {},
          "execution_count": 33
        }
      ]
    },
    {
      "cell_type": "code",
      "source": [
        "spark_df.show(5)"
      ],
      "metadata": {
        "colab": {
          "base_uri": "https://localhost:8080/"
        },
        "id": "3NRx8puvvldw",
        "outputId": "7722fd70-8bdb-4fbb-b612-646a379f2cbe"
      },
      "execution_count": null,
      "outputs": [
        {
          "output_type": "stream",
          "name": "stdout",
          "text": [
            "+----------+--------------------+--------------------+----------------+------------+-------------------+------+------------+---------------------+--------------------+--------------------+--------------------+--------------------+--------------------+--------------------+--------------------+\n",
            "|product_id|        product_name|            category|discounted_price|actual_price|discount_percentage|rating|rating_count|        about_product|             user_id|           user_name|           review_id|        review_title|      review_content|            img_link|        product_link|\n",
            "+----------+--------------------+--------------------+----------------+------------+-------------------+------+------------+---------------------+--------------------+--------------------+--------------------+--------------------+--------------------+--------------------+--------------------+\n",
            "|B07JW9H4J1|Wayona Nylon Brai...|Computers&Accesso...|            ₹399|      ₹1,099|                64%|   4.2|      24,269| High Compatibilit...|AG3D6O4STAQKAY2UV...|Manav,Adarsh gupt...|R3HXWT0LRP0NMF,R2...|Satisfied,Chargin...|Looks durable Cha...|https://m.media-a...|https://www.amazo...|\n",
            "|B098NS6PVG|Ambrane Unbreakab...|Computers&Accesso...|            ₹199|        ₹349|                43%|   4.0|      43,994| Compatible with a...|AECPFYFQVRUWC3KGN...|ArdKn,Nirbhay kum...|RGIQEG07R9HS2,R1S...|A Good Braided Ca...|I ordered this ca...|https://m.media-a...|https://www.amazo...|\n",
            "|B096MSW6CT|Sounce Fast Phone...|Computers&Accesso...|            ₹199|      ₹1,899|                90%|   3.9|       7,928|【 Fast Charger& D...|AGU3BBQ2V2DDAMOAK...|Kunal,Himanshu,vi...|R3J3EQQ9TZI5ZJ,R3...|Good speed for ea...|Not quite durable...|https://m.media-a...|https://www.amazo...|\n",
            "|B08HDJ86NZ|boAt Deuce USB 30...|Computers&Accesso...|            ₹329|        ₹699|                53%|   4.2|      94,363| The boAt Deuce US...|AEWAZDZZJLQUYVOVG...|Omkar dhale,JD,HE...|R3EEUZKKK9J36I,R3...|Good product,Good...|Good product,long...|https://m.media-a...|https://www.amazo...|\n",
            "|B08CF3B7N1|Portronics Konnec...|Computers&Accesso...|            ₹154|        ₹399|                61%|   4.2|      16,905| [CHARGE & SYNC FU...|AE3Q6KSUK5P75D5HF...|rahuls6099,Swasat...|R1BP4L2HH9TFUP,R1...|As good as origin...|Bought this inste...|https://m.media-a...|https://www.amazo...|\n",
            "+----------+--------------------+--------------------+----------------+------------+-------------------+------+------------+---------------------+--------------------+--------------------+--------------------+--------------------+--------------------+--------------------+--------------------+\n",
            "only showing top 5 rows\n",
            "\n"
          ]
        }
      ]
    },
    {
      "cell_type": "code",
      "source": [
        "pandas_df.head(5)"
      ],
      "metadata": {
        "colab": {
          "base_uri": "https://localhost:8080/",
          "height": 487
        },
        "id": "18IEDZ-Vvr7K",
        "outputId": "a66ab0aa-e206-409c-92ac-46a6ef4c7554"
      },
      "execution_count": null,
      "outputs": [
        {
          "output_type": "execute_result",
          "data": {
            "text/plain": [
              "   visitorId  visitNumber     visitId  visitStartTime      date  \\\n",
              "0       <NA>            1  1501591568      1501591568  20170801   \n",
              "1       <NA>            2  1501589647      1501589647  20170801   \n",
              "2       <NA>            1  1501616621      1501616621  20170801   \n",
              "3       <NA>            1  1501601200      1501601200  20170801   \n",
              "4       <NA>            1  1501615525      1501615525  20170801   \n",
              "\n",
              "                                              totals  \\\n",
              "0  {'visits': 1, 'hits': 1, 'pageviews': 1, 'time...   \n",
              "1  {'visits': 1, 'hits': 1, 'pageviews': 1, 'time...   \n",
              "2  {'visits': 1, 'hits': 1, 'pageviews': 1, 'time...   \n",
              "3  {'visits': 1, 'hits': 1, 'pageviews': 1, 'time...   \n",
              "4  {'visits': 1, 'hits': 1, 'pageviews': 1, 'time...   \n",
              "\n",
              "                                       trafficSource  \\\n",
              "0  {'referralPath': None, 'campaign': '(not set)'...   \n",
              "1  {'referralPath': '/analytics/web/', 'campaign'...   \n",
              "2  {'referralPath': '/analytics/web/', 'campaign'...   \n",
              "3  {'referralPath': '/analytics/web/', 'campaign'...   \n",
              "4  {'referralPath': '/analytics/web/', 'campaign'...   \n",
              "\n",
              "                                              device  \\\n",
              "0  {'browser': 'Chrome', 'browserVersion': 'not a...   \n",
              "1  {'browser': 'Chrome', 'browserVersion': 'not a...   \n",
              "2  {'browser': 'Chrome', 'browserVersion': 'not a...   \n",
              "3  {'browser': 'Firefox', 'browserVersion': 'not ...   \n",
              "4  {'browser': 'Chrome', 'browserVersion': 'not a...   \n",
              "\n",
              "                                          geoNetwork  \\\n",
              "0  {'continent': 'Europe', 'subContinent': 'South...   \n",
              "1  {'continent': 'Asia', 'subContinent': 'Souther...   \n",
              "2  {'continent': 'Europe', 'subContinent': 'North...   \n",
              "3  {'continent': 'Americas', 'subContinent': 'Nor...   \n",
              "4  {'continent': 'Americas', 'subContinent': 'Nor...   \n",
              "\n",
              "                           customDimensions  \\\n",
              "0                                        []   \n",
              "1           [{'index': 4, 'value': 'APAC'}]   \n",
              "2           [{'index': 4, 'value': 'EMEA'}]   \n",
              "3  [{'index': 4, 'value': 'North America'}]   \n",
              "4  [{'index': 4, 'value': 'North America'}]   \n",
              "\n",
              "                                                hits        fullVisitorId  \\\n",
              "0  [{'hitNumber': 1, 'time': 0, 'hour': 5, 'minut...  3418334011779872055   \n",
              "1  [{'hitNumber': 1, 'time': 0, 'hour': 5, 'minut...  2474397855041322408   \n",
              "2  [{'hitNumber': 1, 'time': 0, 'hour': 12, 'minu...  5870462820713110108   \n",
              "3  [{'hitNumber': 1, 'time': 0, 'hour': 8, 'minut...  9397809171349480379   \n",
              "4  [{'hitNumber': 1, 'time': 0, 'hour': 12, 'minu...  6089902943184578335   \n",
              "\n",
              "  userId clientId channelGrouping  socialEngagementType  \n",
              "0   None     None  Organic Search  Not Socially Engaged  \n",
              "1   None     None        Referral  Not Socially Engaged  \n",
              "2   None     None        Referral  Not Socially Engaged  \n",
              "3   None     None        Referral  Not Socially Engaged  \n",
              "4   None     None        Referral  Not Socially Engaged  "
            ],
            "text/html": [
              "\n",
              "  <div id=\"df-719ac52c-83a3-4a86-bb70-020cd7e37810\" class=\"colab-df-container\">\n",
              "    <div>\n",
              "<style scoped>\n",
              "    .dataframe tbody tr th:only-of-type {\n",
              "        vertical-align: middle;\n",
              "    }\n",
              "\n",
              "    .dataframe tbody tr th {\n",
              "        vertical-align: top;\n",
              "    }\n",
              "\n",
              "    .dataframe thead th {\n",
              "        text-align: right;\n",
              "    }\n",
              "</style>\n",
              "<table border=\"1\" class=\"dataframe\">\n",
              "  <thead>\n",
              "    <tr style=\"text-align: right;\">\n",
              "      <th></th>\n",
              "      <th>visitorId</th>\n",
              "      <th>visitNumber</th>\n",
              "      <th>visitId</th>\n",
              "      <th>visitStartTime</th>\n",
              "      <th>date</th>\n",
              "      <th>totals</th>\n",
              "      <th>trafficSource</th>\n",
              "      <th>device</th>\n",
              "      <th>geoNetwork</th>\n",
              "      <th>customDimensions</th>\n",
              "      <th>hits</th>\n",
              "      <th>fullVisitorId</th>\n",
              "      <th>userId</th>\n",
              "      <th>clientId</th>\n",
              "      <th>channelGrouping</th>\n",
              "      <th>socialEngagementType</th>\n",
              "    </tr>\n",
              "  </thead>\n",
              "  <tbody>\n",
              "    <tr>\n",
              "      <th>0</th>\n",
              "      <td>&lt;NA&gt;</td>\n",
              "      <td>1</td>\n",
              "      <td>1501591568</td>\n",
              "      <td>1501591568</td>\n",
              "      <td>20170801</td>\n",
              "      <td>{'visits': 1, 'hits': 1, 'pageviews': 1, 'time...</td>\n",
              "      <td>{'referralPath': None, 'campaign': '(not set)'...</td>\n",
              "      <td>{'browser': 'Chrome', 'browserVersion': 'not a...</td>\n",
              "      <td>{'continent': 'Europe', 'subContinent': 'South...</td>\n",
              "      <td>[]</td>\n",
              "      <td>[{'hitNumber': 1, 'time': 0, 'hour': 5, 'minut...</td>\n",
              "      <td>3418334011779872055</td>\n",
              "      <td>None</td>\n",
              "      <td>None</td>\n",
              "      <td>Organic Search</td>\n",
              "      <td>Not Socially Engaged</td>\n",
              "    </tr>\n",
              "    <tr>\n",
              "      <th>1</th>\n",
              "      <td>&lt;NA&gt;</td>\n",
              "      <td>2</td>\n",
              "      <td>1501589647</td>\n",
              "      <td>1501589647</td>\n",
              "      <td>20170801</td>\n",
              "      <td>{'visits': 1, 'hits': 1, 'pageviews': 1, 'time...</td>\n",
              "      <td>{'referralPath': '/analytics/web/', 'campaign'...</td>\n",
              "      <td>{'browser': 'Chrome', 'browserVersion': 'not a...</td>\n",
              "      <td>{'continent': 'Asia', 'subContinent': 'Souther...</td>\n",
              "      <td>[{'index': 4, 'value': 'APAC'}]</td>\n",
              "      <td>[{'hitNumber': 1, 'time': 0, 'hour': 5, 'minut...</td>\n",
              "      <td>2474397855041322408</td>\n",
              "      <td>None</td>\n",
              "      <td>None</td>\n",
              "      <td>Referral</td>\n",
              "      <td>Not Socially Engaged</td>\n",
              "    </tr>\n",
              "    <tr>\n",
              "      <th>2</th>\n",
              "      <td>&lt;NA&gt;</td>\n",
              "      <td>1</td>\n",
              "      <td>1501616621</td>\n",
              "      <td>1501616621</td>\n",
              "      <td>20170801</td>\n",
              "      <td>{'visits': 1, 'hits': 1, 'pageviews': 1, 'time...</td>\n",
              "      <td>{'referralPath': '/analytics/web/', 'campaign'...</td>\n",
              "      <td>{'browser': 'Chrome', 'browserVersion': 'not a...</td>\n",
              "      <td>{'continent': 'Europe', 'subContinent': 'North...</td>\n",
              "      <td>[{'index': 4, 'value': 'EMEA'}]</td>\n",
              "      <td>[{'hitNumber': 1, 'time': 0, 'hour': 12, 'minu...</td>\n",
              "      <td>5870462820713110108</td>\n",
              "      <td>None</td>\n",
              "      <td>None</td>\n",
              "      <td>Referral</td>\n",
              "      <td>Not Socially Engaged</td>\n",
              "    </tr>\n",
              "    <tr>\n",
              "      <th>3</th>\n",
              "      <td>&lt;NA&gt;</td>\n",
              "      <td>1</td>\n",
              "      <td>1501601200</td>\n",
              "      <td>1501601200</td>\n",
              "      <td>20170801</td>\n",
              "      <td>{'visits': 1, 'hits': 1, 'pageviews': 1, 'time...</td>\n",
              "      <td>{'referralPath': '/analytics/web/', 'campaign'...</td>\n",
              "      <td>{'browser': 'Firefox', 'browserVersion': 'not ...</td>\n",
              "      <td>{'continent': 'Americas', 'subContinent': 'Nor...</td>\n",
              "      <td>[{'index': 4, 'value': 'North America'}]</td>\n",
              "      <td>[{'hitNumber': 1, 'time': 0, 'hour': 8, 'minut...</td>\n",
              "      <td>9397809171349480379</td>\n",
              "      <td>None</td>\n",
              "      <td>None</td>\n",
              "      <td>Referral</td>\n",
              "      <td>Not Socially Engaged</td>\n",
              "    </tr>\n",
              "    <tr>\n",
              "      <th>4</th>\n",
              "      <td>&lt;NA&gt;</td>\n",
              "      <td>1</td>\n",
              "      <td>1501615525</td>\n",
              "      <td>1501615525</td>\n",
              "      <td>20170801</td>\n",
              "      <td>{'visits': 1, 'hits': 1, 'pageviews': 1, 'time...</td>\n",
              "      <td>{'referralPath': '/analytics/web/', 'campaign'...</td>\n",
              "      <td>{'browser': 'Chrome', 'browserVersion': 'not a...</td>\n",
              "      <td>{'continent': 'Americas', 'subContinent': 'Nor...</td>\n",
              "      <td>[{'index': 4, 'value': 'North America'}]</td>\n",
              "      <td>[{'hitNumber': 1, 'time': 0, 'hour': 12, 'minu...</td>\n",
              "      <td>6089902943184578335</td>\n",
              "      <td>None</td>\n",
              "      <td>None</td>\n",
              "      <td>Referral</td>\n",
              "      <td>Not Socially Engaged</td>\n",
              "    </tr>\n",
              "  </tbody>\n",
              "</table>\n",
              "</div>\n",
              "    <div class=\"colab-df-buttons\">\n",
              "\n",
              "  <div class=\"colab-df-container\">\n",
              "    <button class=\"colab-df-convert\" onclick=\"convertToInteractive('df-719ac52c-83a3-4a86-bb70-020cd7e37810')\"\n",
              "            title=\"Convert this dataframe to an interactive table.\"\n",
              "            style=\"display:none;\">\n",
              "\n",
              "  <svg xmlns=\"http://www.w3.org/2000/svg\" height=\"24px\" viewBox=\"0 -960 960 960\">\n",
              "    <path d=\"M120-120v-720h720v720H120Zm60-500h600v-160H180v160Zm220 220h160v-160H400v160Zm0 220h160v-160H400v160ZM180-400h160v-160H180v160Zm440 0h160v-160H620v160ZM180-180h160v-160H180v160Zm440 0h160v-160H620v160Z\"/>\n",
              "  </svg>\n",
              "    </button>\n",
              "\n",
              "  <style>\n",
              "    .colab-df-container {\n",
              "      display:flex;\n",
              "      gap: 12px;\n",
              "    }\n",
              "\n",
              "    .colab-df-convert {\n",
              "      background-color: #E8F0FE;\n",
              "      border: none;\n",
              "      border-radius: 50%;\n",
              "      cursor: pointer;\n",
              "      display: none;\n",
              "      fill: #1967D2;\n",
              "      height: 32px;\n",
              "      padding: 0 0 0 0;\n",
              "      width: 32px;\n",
              "    }\n",
              "\n",
              "    .colab-df-convert:hover {\n",
              "      background-color: #E2EBFA;\n",
              "      box-shadow: 0px 1px 2px rgba(60, 64, 67, 0.3), 0px 1px 3px 1px rgba(60, 64, 67, 0.15);\n",
              "      fill: #174EA6;\n",
              "    }\n",
              "\n",
              "    .colab-df-buttons div {\n",
              "      margin-bottom: 4px;\n",
              "    }\n",
              "\n",
              "    [theme=dark] .colab-df-convert {\n",
              "      background-color: #3B4455;\n",
              "      fill: #D2E3FC;\n",
              "    }\n",
              "\n",
              "    [theme=dark] .colab-df-convert:hover {\n",
              "      background-color: #434B5C;\n",
              "      box-shadow: 0px 1px 3px 1px rgba(0, 0, 0, 0.15);\n",
              "      filter: drop-shadow(0px 1px 2px rgba(0, 0, 0, 0.3));\n",
              "      fill: #FFFFFF;\n",
              "    }\n",
              "  </style>\n",
              "\n",
              "    <script>\n",
              "      const buttonEl =\n",
              "        document.querySelector('#df-719ac52c-83a3-4a86-bb70-020cd7e37810 button.colab-df-convert');\n",
              "      buttonEl.style.display =\n",
              "        google.colab.kernel.accessAllowed ? 'block' : 'none';\n",
              "\n",
              "      async function convertToInteractive(key) {\n",
              "        const element = document.querySelector('#df-719ac52c-83a3-4a86-bb70-020cd7e37810');\n",
              "        const dataTable =\n",
              "          await google.colab.kernel.invokeFunction('convertToInteractive',\n",
              "                                                    [key], {});\n",
              "        if (!dataTable) return;\n",
              "\n",
              "        const docLinkHtml = 'Like what you see? Visit the ' +\n",
              "          '<a target=\"_blank\" href=https://colab.research.google.com/notebooks/data_table.ipynb>data table notebook</a>'\n",
              "          + ' to learn more about interactive tables.';\n",
              "        element.innerHTML = '';\n",
              "        dataTable['output_type'] = 'display_data';\n",
              "        await google.colab.output.renderOutput(dataTable, element);\n",
              "        const docLink = document.createElement('div');\n",
              "        docLink.innerHTML = docLinkHtml;\n",
              "        element.appendChild(docLink);\n",
              "      }\n",
              "    </script>\n",
              "  </div>\n",
              "\n",
              "\n",
              "<div id=\"df-83dfaba0-67dd-465d-af29-4bb58b2c12c1\">\n",
              "  <button class=\"colab-df-quickchart\" onclick=\"quickchart('df-83dfaba0-67dd-465d-af29-4bb58b2c12c1')\"\n",
              "            title=\"Suggest charts.\"\n",
              "            style=\"display:none;\">\n",
              "\n",
              "<svg xmlns=\"http://www.w3.org/2000/svg\" height=\"24px\"viewBox=\"0 0 24 24\"\n",
              "     width=\"24px\">\n",
              "    <g>\n",
              "        <path d=\"M19 3H5c-1.1 0-2 .9-2 2v14c0 1.1.9 2 2 2h14c1.1 0 2-.9 2-2V5c0-1.1-.9-2-2-2zM9 17H7v-7h2v7zm4 0h-2V7h2v10zm4 0h-2v-4h2v4z\"/>\n",
              "    </g>\n",
              "</svg>\n",
              "  </button>\n",
              "\n",
              "<style>\n",
              "  .colab-df-quickchart {\n",
              "      --bg-color: #E8F0FE;\n",
              "      --fill-color: #1967D2;\n",
              "      --hover-bg-color: #E2EBFA;\n",
              "      --hover-fill-color: #174EA6;\n",
              "      --disabled-fill-color: #AAA;\n",
              "      --disabled-bg-color: #DDD;\n",
              "  }\n",
              "\n",
              "  [theme=dark] .colab-df-quickchart {\n",
              "      --bg-color: #3B4455;\n",
              "      --fill-color: #D2E3FC;\n",
              "      --hover-bg-color: #434B5C;\n",
              "      --hover-fill-color: #FFFFFF;\n",
              "      --disabled-bg-color: #3B4455;\n",
              "      --disabled-fill-color: #666;\n",
              "  }\n",
              "\n",
              "  .colab-df-quickchart {\n",
              "    background-color: var(--bg-color);\n",
              "    border: none;\n",
              "    border-radius: 50%;\n",
              "    cursor: pointer;\n",
              "    display: none;\n",
              "    fill: var(--fill-color);\n",
              "    height: 32px;\n",
              "    padding: 0;\n",
              "    width: 32px;\n",
              "  }\n",
              "\n",
              "  .colab-df-quickchart:hover {\n",
              "    background-color: var(--hover-bg-color);\n",
              "    box-shadow: 0 1px 2px rgba(60, 64, 67, 0.3), 0 1px 3px 1px rgba(60, 64, 67, 0.15);\n",
              "    fill: var(--button-hover-fill-color);\n",
              "  }\n",
              "\n",
              "  .colab-df-quickchart-complete:disabled,\n",
              "  .colab-df-quickchart-complete:disabled:hover {\n",
              "    background-color: var(--disabled-bg-color);\n",
              "    fill: var(--disabled-fill-color);\n",
              "    box-shadow: none;\n",
              "  }\n",
              "\n",
              "  .colab-df-spinner {\n",
              "    border: 2px solid var(--fill-color);\n",
              "    border-color: transparent;\n",
              "    border-bottom-color: var(--fill-color);\n",
              "    animation:\n",
              "      spin 1s steps(1) infinite;\n",
              "  }\n",
              "\n",
              "  @keyframes spin {\n",
              "    0% {\n",
              "      border-color: transparent;\n",
              "      border-bottom-color: var(--fill-color);\n",
              "      border-left-color: var(--fill-color);\n",
              "    }\n",
              "    20% {\n",
              "      border-color: transparent;\n",
              "      border-left-color: var(--fill-color);\n",
              "      border-top-color: var(--fill-color);\n",
              "    }\n",
              "    30% {\n",
              "      border-color: transparent;\n",
              "      border-left-color: var(--fill-color);\n",
              "      border-top-color: var(--fill-color);\n",
              "      border-right-color: var(--fill-color);\n",
              "    }\n",
              "    40% {\n",
              "      border-color: transparent;\n",
              "      border-right-color: var(--fill-color);\n",
              "      border-top-color: var(--fill-color);\n",
              "    }\n",
              "    60% {\n",
              "      border-color: transparent;\n",
              "      border-right-color: var(--fill-color);\n",
              "    }\n",
              "    80% {\n",
              "      border-color: transparent;\n",
              "      border-right-color: var(--fill-color);\n",
              "      border-bottom-color: var(--fill-color);\n",
              "    }\n",
              "    90% {\n",
              "      border-color: transparent;\n",
              "      border-bottom-color: var(--fill-color);\n",
              "    }\n",
              "  }\n",
              "</style>\n",
              "\n",
              "  <script>\n",
              "    async function quickchart(key) {\n",
              "      const quickchartButtonEl =\n",
              "        document.querySelector('#' + key + ' button');\n",
              "      quickchartButtonEl.disabled = true;  // To prevent multiple clicks.\n",
              "      quickchartButtonEl.classList.add('colab-df-spinner');\n",
              "      try {\n",
              "        const charts = await google.colab.kernel.invokeFunction(\n",
              "            'suggestCharts', [key], {});\n",
              "      } catch (error) {\n",
              "        console.error('Error during call to suggestCharts:', error);\n",
              "      }\n",
              "      quickchartButtonEl.classList.remove('colab-df-spinner');\n",
              "      quickchartButtonEl.classList.add('colab-df-quickchart-complete');\n",
              "    }\n",
              "    (() => {\n",
              "      let quickchartButtonEl =\n",
              "        document.querySelector('#df-83dfaba0-67dd-465d-af29-4bb58b2c12c1 button');\n",
              "      quickchartButtonEl.style.display =\n",
              "        google.colab.kernel.accessAllowed ? 'block' : 'none';\n",
              "    })();\n",
              "  </script>\n",
              "</div>\n",
              "    </div>\n",
              "  </div>\n"
            ]
          },
          "metadata": {},
          "execution_count": 42
        }
      ]
    },
    {
      "cell_type": "markdown",
      "source": [
        "--For each estid count it's occurance in a new column order by the counts/new col<br><br>\n",
        "**SELECT estid, count(DISTINCT android_id_exploded) as countuniqe\n",
        "FROM df\n",
        "LATERAL VIEW explode(android_id) as android_id_exploded\n",
        "GROUP BY estid\n",
        "ORDER BY countuniqe DESC;**"
      ],
      "metadata": {
        "id": "-0WzzyhJwi3y"
      }
    },
    {
      "cell_type": "code",
      "source": [
        "from pyspark.sql.functions import explode, countDistinct, desc"
      ],
      "metadata": {
        "id": "-vMlTpa-0dzY"
      },
      "execution_count": null,
      "outputs": []
    },
    {
      "cell_type": "code",
      "source": [
        "df_1_exploded = df_1.select(\"estid\", explode(\"android_id\").alias(\"exploded_android_id\"))"
      ],
      "metadata": {
        "id": "QpKUXaEkv4zp"
      },
      "execution_count": null,
      "outputs": []
    },
    {
      "cell_type": "markdown",
      "source": [
        "# New Section"
      ],
      "metadata": {
        "id": "XysVxSg1q6VU"
      }
    },
    {
      "cell_type": "markdown",
      "source": [
        "# New Section"
      ],
      "metadata": {
        "id": "AXdrqHcoq69c"
      }
    },
    {
      "cell_type": "code",
      "source": [
        "df1 = spark.read.option('Header', True).csv(\"/content/sample_data_for_window_().csv\")\n",
        "df1.createOrReplaceTempView('df1')"
      ],
      "metadata": {
        "id": "HLfJBeO7rKi0"
      },
      "execution_count": null,
      "outputs": []
    },
    {
      "cell_type": "code",
      "source": [
        "type()"
      ],
      "metadata": {
        "id": "3GtXfn0qbDh9",
        "colab": {
          "base_uri": "https://localhost:8080/",
          "height": 140
        },
        "outputId": "7af1678b-4210-4230-b8f8-5d89cffb7317"
      },
      "execution_count": null,
      "outputs": [
        {
          "output_type": "error",
          "ename": "SyntaxError",
          "evalue": "ignored",
          "traceback": [
            "\u001b[0;36m  File \u001b[0;32m\"<ipython-input-14-695d9e87e8e8>\"\u001b[0;36m, line \u001b[0;32m2\u001b[0m\n\u001b[0;31m    SELECT * FROM 'df1'\u001b[0m\n\u001b[0m                  ^\u001b[0m\n\u001b[0;31mSyntaxError\u001b[0m\u001b[0;31m:\u001b[0m invalid syntax\n"
          ]
        }
      ]
    },
    {
      "cell_type": "code",
      "source": [
        "# download Northwind SQLite DB\n",
        "!wget https://tdmdal.github.io/mma-sql-2021/data/northwind.sqlite3"
      ],
      "metadata": {
        "colab": {
          "base_uri": "https://localhost:8080/"
        },
        "id": "L9JaAK6cz6Zi",
        "outputId": "736fdf05-0085-4e58-f738-c1d3153ba426"
      },
      "execution_count": null,
      "outputs": [
        {
          "output_type": "stream",
          "name": "stdout",
          "text": [
            "--2023-10-09 17:27:14--  https://tdmdal.github.io/mma-sql-2021/data/northwind.sqlite3\n",
            "Resolving tdmdal.github.io (tdmdal.github.io)... 185.199.108.153, 185.199.109.153, 185.199.110.153, ...\n",
            "Connecting to tdmdal.github.io (tdmdal.github.io)|185.199.108.153|:443... connected.\n",
            "HTTP request sent, awaiting response... 200 OK\n",
            "Length: 804864 (786K) [application/octet-stream]\n",
            "Saving to: ‘northwind.sqlite3’\n",
            "\n",
            "\rnorthwind.sqlite3     0%[                    ]       0  --.-KB/s               \rnorthwind.sqlite3   100%[===================>] 786.00K  --.-KB/s    in 0.03s   \n",
            "\n",
            "2023-10-09 17:27:15 (22.8 MB/s) - ‘northwind.sqlite3’ saved [804864/804864]\n",
            "\n"
          ]
        }
      ]
    },
    {
      "cell_type": "code",
      "source": [
        "# load the SQL magic extension\n",
        "# https://github.com/catherinedevlin/ipython-sql\n",
        "# this extension allows us to connect to DBs and issue SQL command\n",
        "%load_ext sql\n",
        "\n",
        "# now we can use the magic extension to connect to our SQLite DB\n",
        "# use %sql to write an inline SQL command\n",
        "# use %%sql to write SQL commands in a cell\n",
        "%sql sqlite:///northwind.sqlite3"
      ],
      "metadata": {
        "id": "DnUcd2iWFz-2"
      },
      "execution_count": null,
      "outputs": []
    },
    {
      "cell_type": "code",
      "source": [
        "%%sql\n",
        "SELECT sqlite_version();"
      ],
      "metadata": {
        "colab": {
          "base_uri": "https://localhost:8080/",
          "height": 96
        },
        "id": "H_meeqFlGIoi",
        "outputId": "b8f53d56-7bed-4eb5-a17d-cd8ad1721d2a"
      },
      "execution_count": null,
      "outputs": [
        {
          "output_type": "stream",
          "name": "stdout",
          "text": [
            " * sqlite:///northwind.sqlite3\n",
            "Done.\n"
          ]
        },
        {
          "output_type": "execute_result",
          "data": {
            "text/plain": [
              "[('3.37.2',)]"
            ],
            "text/html": [
              "<table>\n",
              "    <thead>\n",
              "        <tr>\n",
              "            <th>sqlite_version()</th>\n",
              "        </tr>\n",
              "    </thead>\n",
              "    <tbody>\n",
              "        <tr>\n",
              "            <td>3.37.2</td>\n",
              "        </tr>\n",
              "    </tbody>\n",
              "</table>"
            ]
          },
          "metadata": {},
          "execution_count": 3
        }
      ]
    },
    {
      "cell_type": "code",
      "source": [
        "%%sql\n",
        "SELECT name FROM sqlite_master WHERE type='table' AND name NOT LIKE 'sqlite_%';"
      ],
      "metadata": {
        "colab": {
          "base_uri": "https://localhost:8080/",
          "height": 246
        },
        "id": "DXGhnH7FGKYo",
        "outputId": "819386ba-dbfa-413d-e2e8-0f613428f643"
      },
      "execution_count": null,
      "outputs": [
        {
          "output_type": "stream",
          "name": "stdout",
          "text": [
            " * sqlite:///northwind.sqlite3\n",
            "Done.\n"
          ]
        },
        {
          "output_type": "execute_result",
          "data": {
            "text/plain": [
              "[('Suppliers',),\n",
              " ('Shippers',),\n",
              " ('Employees',),\n",
              " ('Customers',),\n",
              " ('Orders',),\n",
              " ('Categories',),\n",
              " ('Products',),\n",
              " ('OrderDetails',)]"
            ],
            "text/html": [
              "<table>\n",
              "    <thead>\n",
              "        <tr>\n",
              "            <th>name</th>\n",
              "        </tr>\n",
              "    </thead>\n",
              "    <tbody>\n",
              "        <tr>\n",
              "            <td>Suppliers</td>\n",
              "        </tr>\n",
              "        <tr>\n",
              "            <td>Shippers</td>\n",
              "        </tr>\n",
              "        <tr>\n",
              "            <td>Employees</td>\n",
              "        </tr>\n",
              "        <tr>\n",
              "            <td>Customers</td>\n",
              "        </tr>\n",
              "        <tr>\n",
              "            <td>Orders</td>\n",
              "        </tr>\n",
              "        <tr>\n",
              "            <td>Categories</td>\n",
              "        </tr>\n",
              "        <tr>\n",
              "            <td>Products</td>\n",
              "        </tr>\n",
              "        <tr>\n",
              "            <td>OrderDetails</td>\n",
              "        </tr>\n",
              "    </tbody>\n",
              "</table>"
            ]
          },
          "metadata": {},
          "execution_count": 4
        }
      ]
    },
    {
      "cell_type": "code",
      "source": [
        "%sql PRAGMA table_info(Employees);"
      ],
      "metadata": {
        "colab": {
          "base_uri": "https://localhost:8080/",
          "height": 460
        },
        "id": "Cz5TgfgyGMZI",
        "outputId": "086df8a4-6c47-4589-d273-0ec0adae5987"
      },
      "execution_count": null,
      "outputs": [
        {
          "output_type": "stream",
          "name": "stdout",
          "text": [
            " * sqlite:///northwind.sqlite3\n",
            "Done.\n"
          ]
        },
        {
          "output_type": "execute_result",
          "data": {
            "text/plain": [
              "[(0, 'EmployeeID', 'INTEGER', 1, None, 1),\n",
              " (1, 'LastName', 'nvarchar(20)', 1, None, 0),\n",
              " (2, 'FirstName', 'nvarchar(10)', 1, None, 0),\n",
              " (3, 'Title', 'nvarchar(30)', 0, None, 0),\n",
              " (4, 'TitleOfCourtesy', 'nvarchar(25)', 0, None, 0),\n",
              " (5, 'BirthDate', 'datetime', 0, None, 0),\n",
              " (6, 'HireDate', 'datetime', 0, None, 0),\n",
              " (7, 'Address', 'nvarchar(60)', 0, None, 0),\n",
              " (8, 'City', 'nvarchar(15)', 0, None, 0),\n",
              " (9, 'Region', 'nvarchar(15)', 0, None, 0),\n",
              " (10, 'PostalCode', 'nvarchar(10)', 0, None, 0),\n",
              " (11, 'Country', 'nvarchar(15)', 0, None, 0),\n",
              " (12, 'HomePhone', 'nvarchar(24)', 0, None, 0),\n",
              " (13, 'Extension', 'nvarchar(4)', 0, None, 0),\n",
              " (14, 'Photo', 'image', 0, None, 0),\n",
              " (15, 'Notes', 'ntext', 0, None, 0),\n",
              " (16, 'ReportsTo', 'INT', 0, None, 0),\n",
              " (17, 'PhotoPath', 'nvarchar(255)', 0, None, 0)]"
            ],
            "text/html": [
              "<table>\n",
              "    <thead>\n",
              "        <tr>\n",
              "            <th>cid</th>\n",
              "            <th>name</th>\n",
              "            <th>type</th>\n",
              "            <th>notnull</th>\n",
              "            <th>dflt_value</th>\n",
              "            <th>pk</th>\n",
              "        </tr>\n",
              "    </thead>\n",
              "    <tbody>\n",
              "        <tr>\n",
              "            <td>0</td>\n",
              "            <td>EmployeeID</td>\n",
              "            <td>INTEGER</td>\n",
              "            <td>1</td>\n",
              "            <td>None</td>\n",
              "            <td>1</td>\n",
              "        </tr>\n",
              "        <tr>\n",
              "            <td>1</td>\n",
              "            <td>LastName</td>\n",
              "            <td>nvarchar(20)</td>\n",
              "            <td>1</td>\n",
              "            <td>None</td>\n",
              "            <td>0</td>\n",
              "        </tr>\n",
              "        <tr>\n",
              "            <td>2</td>\n",
              "            <td>FirstName</td>\n",
              "            <td>nvarchar(10)</td>\n",
              "            <td>1</td>\n",
              "            <td>None</td>\n",
              "            <td>0</td>\n",
              "        </tr>\n",
              "        <tr>\n",
              "            <td>3</td>\n",
              "            <td>Title</td>\n",
              "            <td>nvarchar(30)</td>\n",
              "            <td>0</td>\n",
              "            <td>None</td>\n",
              "            <td>0</td>\n",
              "        </tr>\n",
              "        <tr>\n",
              "            <td>4</td>\n",
              "            <td>TitleOfCourtesy</td>\n",
              "            <td>nvarchar(25)</td>\n",
              "            <td>0</td>\n",
              "            <td>None</td>\n",
              "            <td>0</td>\n",
              "        </tr>\n",
              "        <tr>\n",
              "            <td>5</td>\n",
              "            <td>BirthDate</td>\n",
              "            <td>datetime</td>\n",
              "            <td>0</td>\n",
              "            <td>None</td>\n",
              "            <td>0</td>\n",
              "        </tr>\n",
              "        <tr>\n",
              "            <td>6</td>\n",
              "            <td>HireDate</td>\n",
              "            <td>datetime</td>\n",
              "            <td>0</td>\n",
              "            <td>None</td>\n",
              "            <td>0</td>\n",
              "        </tr>\n",
              "        <tr>\n",
              "            <td>7</td>\n",
              "            <td>Address</td>\n",
              "            <td>nvarchar(60)</td>\n",
              "            <td>0</td>\n",
              "            <td>None</td>\n",
              "            <td>0</td>\n",
              "        </tr>\n",
              "        <tr>\n",
              "            <td>8</td>\n",
              "            <td>City</td>\n",
              "            <td>nvarchar(15)</td>\n",
              "            <td>0</td>\n",
              "            <td>None</td>\n",
              "            <td>0</td>\n",
              "        </tr>\n",
              "        <tr>\n",
              "            <td>9</td>\n",
              "            <td>Region</td>\n",
              "            <td>nvarchar(15)</td>\n",
              "            <td>0</td>\n",
              "            <td>None</td>\n",
              "            <td>0</td>\n",
              "        </tr>\n",
              "        <tr>\n",
              "            <td>10</td>\n",
              "            <td>PostalCode</td>\n",
              "            <td>nvarchar(10)</td>\n",
              "            <td>0</td>\n",
              "            <td>None</td>\n",
              "            <td>0</td>\n",
              "        </tr>\n",
              "        <tr>\n",
              "            <td>11</td>\n",
              "            <td>Country</td>\n",
              "            <td>nvarchar(15)</td>\n",
              "            <td>0</td>\n",
              "            <td>None</td>\n",
              "            <td>0</td>\n",
              "        </tr>\n",
              "        <tr>\n",
              "            <td>12</td>\n",
              "            <td>HomePhone</td>\n",
              "            <td>nvarchar(24)</td>\n",
              "            <td>0</td>\n",
              "            <td>None</td>\n",
              "            <td>0</td>\n",
              "        </tr>\n",
              "        <tr>\n",
              "            <td>13</td>\n",
              "            <td>Extension</td>\n",
              "            <td>nvarchar(4)</td>\n",
              "            <td>0</td>\n",
              "            <td>None</td>\n",
              "            <td>0</td>\n",
              "        </tr>\n",
              "        <tr>\n",
              "            <td>14</td>\n",
              "            <td>Photo</td>\n",
              "            <td>image</td>\n",
              "            <td>0</td>\n",
              "            <td>None</td>\n",
              "            <td>0</td>\n",
              "        </tr>\n",
              "        <tr>\n",
              "            <td>15</td>\n",
              "            <td>Notes</td>\n",
              "            <td>ntext</td>\n",
              "            <td>0</td>\n",
              "            <td>None</td>\n",
              "            <td>0</td>\n",
              "        </tr>\n",
              "        <tr>\n",
              "            <td>16</td>\n",
              "            <td>ReportsTo</td>\n",
              "            <td>INT</td>\n",
              "            <td>0</td>\n",
              "            <td>None</td>\n",
              "            <td>0</td>\n",
              "        </tr>\n",
              "        <tr>\n",
              "            <td>17</td>\n",
              "            <td>PhotoPath</td>\n",
              "            <td>nvarchar(255)</td>\n",
              "            <td>0</td>\n",
              "            <td>None</td>\n",
              "            <td>0</td>\n",
              "        </tr>\n",
              "    </tbody>\n",
              "</table>"
            ]
          },
          "metadata": {},
          "execution_count": 5
        }
      ]
    },
    {
      "cell_type": "code",
      "source": [
        "%%sql\n",
        "SELECT FirstName,\n",
        "LastName,\n",
        "Title,\n",
        "DATE(BirthDate)\n",
        "FROM Employees\n",
        "ORDER BY 4"
      ],
      "metadata": {
        "colab": {
          "base_uri": "https://localhost:8080/",
          "height": 267
        },
        "id": "VzvEYXBEGg7A",
        "outputId": "1956e79a-41aa-4df7-85d5-6f96aef02b98"
      },
      "execution_count": null,
      "outputs": [
        {
          "output_type": "stream",
          "name": "stdout",
          "text": [
            " * sqlite:///northwind.sqlite3\n",
            "Done.\n"
          ]
        },
        {
          "output_type": "execute_result",
          "data": {
            "text/plain": [
              "[('Margaret', 'Peacock', 'Sales Representative', '1955-09-19'),\n",
              " ('Nancy', 'Davolio', 'Sales Representative', '1966-12-08'),\n",
              " ('Andrew', 'Fuller', 'Vice President, Sales', '1970-02-19'),\n",
              " ('Steven', 'Buchanan', 'Sales Manager', '1973-03-04'),\n",
              " ('Laura', 'Callahan', 'Inside Sales Coordinator', '1976-01-09'),\n",
              " ('Robert', 'King', 'Sales Representative', '1978-05-29'),\n",
              " ('Michael', 'Suyama', 'Sales Representative', '1981-07-02'),\n",
              " ('Janet', 'Leverling', 'Sales Representative', '1981-08-30'),\n",
              " ('Anne', 'Dodsworth', 'Sales Representative', '1984-01-27')]"
            ],
            "text/html": [
              "<table>\n",
              "    <thead>\n",
              "        <tr>\n",
              "            <th>FirstName</th>\n",
              "            <th>LastName</th>\n",
              "            <th>Title</th>\n",
              "            <th>DATE(BirthDate)</th>\n",
              "        </tr>\n",
              "    </thead>\n",
              "    <tbody>\n",
              "        <tr>\n",
              "            <td>Margaret</td>\n",
              "            <td>Peacock</td>\n",
              "            <td>Sales Representative</td>\n",
              "            <td>1955-09-19</td>\n",
              "        </tr>\n",
              "        <tr>\n",
              "            <td>Nancy</td>\n",
              "            <td>Davolio</td>\n",
              "            <td>Sales Representative</td>\n",
              "            <td>1966-12-08</td>\n",
              "        </tr>\n",
              "        <tr>\n",
              "            <td>Andrew</td>\n",
              "            <td>Fuller</td>\n",
              "            <td>Vice President, Sales</td>\n",
              "            <td>1970-02-19</td>\n",
              "        </tr>\n",
              "        <tr>\n",
              "            <td>Steven</td>\n",
              "            <td>Buchanan</td>\n",
              "            <td>Sales Manager</td>\n",
              "            <td>1973-03-04</td>\n",
              "        </tr>\n",
              "        <tr>\n",
              "            <td>Laura</td>\n",
              "            <td>Callahan</td>\n",
              "            <td>Inside Sales Coordinator</td>\n",
              "            <td>1976-01-09</td>\n",
              "        </tr>\n",
              "        <tr>\n",
              "            <td>Robert</td>\n",
              "            <td>King</td>\n",
              "            <td>Sales Representative</td>\n",
              "            <td>1978-05-29</td>\n",
              "        </tr>\n",
              "        <tr>\n",
              "            <td>Michael</td>\n",
              "            <td>Suyama</td>\n",
              "            <td>Sales Representative</td>\n",
              "            <td>1981-07-02</td>\n",
              "        </tr>\n",
              "        <tr>\n",
              "            <td>Janet</td>\n",
              "            <td>Leverling</td>\n",
              "            <td>Sales Representative</td>\n",
              "            <td>1981-08-30</td>\n",
              "        </tr>\n",
              "        <tr>\n",
              "            <td>Anne</td>\n",
              "            <td>Dodsworth</td>\n",
              "            <td>Sales Representative</td>\n",
              "            <td>1984-01-27</td>\n",
              "        </tr>\n",
              "    </tbody>\n",
              "</table>"
            ]
          },
          "metadata": {},
          "execution_count": 17
        }
      ]
    },
    {
      "cell_type": "code",
      "source": [
        "%%sql\n",
        "SELECT FirstName,\n",
        "LastName,\n",
        "UPPER(LastName) ||', '||FirstName\n",
        "FROM Employees"
      ],
      "metadata": {
        "colab": {
          "base_uri": "https://localhost:8080/",
          "height": 267
        },
        "id": "e6vNJjzpjJOz",
        "outputId": "3e55c7d8-247b-465a-94a2-43764b31ec8b"
      },
      "execution_count": null,
      "outputs": [
        {
          "output_type": "stream",
          "name": "stdout",
          "text": [
            " * sqlite:///northwind.sqlite3\n",
            "Done.\n"
          ]
        },
        {
          "output_type": "execute_result",
          "data": {
            "text/plain": [
              "[('Nancy', 'Davolio', 'DAVOLIO, Nancy'),\n",
              " ('Andrew', 'Fuller', 'FULLER, Andrew'),\n",
              " ('Janet', 'Leverling', 'LEVERLING, Janet'),\n",
              " ('Margaret', 'Peacock', 'PEACOCK, Margaret'),\n",
              " ('Steven', 'Buchanan', 'BUCHANAN, Steven'),\n",
              " ('Michael', 'Suyama', 'SUYAMA, Michael'),\n",
              " ('Robert', 'King', 'KING, Robert'),\n",
              " ('Laura', 'Callahan', 'CALLAHAN, Laura'),\n",
              " ('Anne', 'Dodsworth', 'DODSWORTH, Anne')]"
            ],
            "text/html": [
              "<table>\n",
              "    <thead>\n",
              "        <tr>\n",
              "            <th>FirstName</th>\n",
              "            <th>LastName</th>\n",
              "            <th>UPPER(LastName) ||&#x27;, &#x27;||FirstName</th>\n",
              "        </tr>\n",
              "    </thead>\n",
              "    <tbody>\n",
              "        <tr>\n",
              "            <td>Nancy</td>\n",
              "            <td>Davolio</td>\n",
              "            <td>DAVOLIO, Nancy</td>\n",
              "        </tr>\n",
              "        <tr>\n",
              "            <td>Andrew</td>\n",
              "            <td>Fuller</td>\n",
              "            <td>FULLER, Andrew</td>\n",
              "        </tr>\n",
              "        <tr>\n",
              "            <td>Janet</td>\n",
              "            <td>Leverling</td>\n",
              "            <td>LEVERLING, Janet</td>\n",
              "        </tr>\n",
              "        <tr>\n",
              "            <td>Margaret</td>\n",
              "            <td>Peacock</td>\n",
              "            <td>PEACOCK, Margaret</td>\n",
              "        </tr>\n",
              "        <tr>\n",
              "            <td>Steven</td>\n",
              "            <td>Buchanan</td>\n",
              "            <td>BUCHANAN, Steven</td>\n",
              "        </tr>\n",
              "        <tr>\n",
              "            <td>Michael</td>\n",
              "            <td>Suyama</td>\n",
              "            <td>SUYAMA, Michael</td>\n",
              "        </tr>\n",
              "        <tr>\n",
              "            <td>Robert</td>\n",
              "            <td>King</td>\n",
              "            <td>KING, Robert</td>\n",
              "        </tr>\n",
              "        <tr>\n",
              "            <td>Laura</td>\n",
              "            <td>Callahan</td>\n",
              "            <td>CALLAHAN, Laura</td>\n",
              "        </tr>\n",
              "        <tr>\n",
              "            <td>Anne</td>\n",
              "            <td>Dodsworth</td>\n",
              "            <td>DODSWORTH, Anne</td>\n",
              "        </tr>\n",
              "    </tbody>\n",
              "</table>"
            ]
          },
          "metadata": {},
          "execution_count": 27
        }
      ]
    },
    {
      "cell_type": "code",
      "source": [
        "%%sql\n",
        "SELECT *\n",
        "FROM OrderDetails\n",
        "LIMIT 10"
      ],
      "metadata": {
        "colab": {
          "base_uri": "https://localhost:8080/",
          "height": 289
        },
        "id": "WsHw-bLQnGIo",
        "outputId": "103e9d13-3bdc-43a6-84d3-308eb21505aa"
      },
      "execution_count": null,
      "outputs": [
        {
          "output_type": "stream",
          "name": "stdout",
          "text": [
            " * sqlite:///northwind.sqlite3\n",
            "Done.\n"
          ]
        },
        {
          "output_type": "execute_result",
          "data": {
            "text/plain": [
              "[(10248, 11, 14, 12, 0.0),\n",
              " (10248, 42, 9.8, 10, 0.0),\n",
              " (10248, 72, 34.8, 5, 0.0),\n",
              " (10249, 14, 18.6, 9, 0.0),\n",
              " (10249, 51, 42.4, 40, 0.0),\n",
              " (10250, 41, 7.7, 10, 0.0),\n",
              " (10250, 51, 42.4, 35, 0.15),\n",
              " (10250, 65, 16.8, 15, 0.15),\n",
              " (10251, 22, 16.8, 6, 0.05),\n",
              " (10251, 57, 15.6, 15, 0.05)]"
            ],
            "text/html": [
              "<table>\n",
              "    <thead>\n",
              "        <tr>\n",
              "            <th>OrderID</th>\n",
              "            <th>ProductID</th>\n",
              "            <th>UnitPrice</th>\n",
              "            <th>Quantity</th>\n",
              "            <th>Discount</th>\n",
              "        </tr>\n",
              "    </thead>\n",
              "    <tbody>\n",
              "        <tr>\n",
              "            <td>10248</td>\n",
              "            <td>11</td>\n",
              "            <td>14</td>\n",
              "            <td>12</td>\n",
              "            <td>0.0</td>\n",
              "        </tr>\n",
              "        <tr>\n",
              "            <td>10248</td>\n",
              "            <td>42</td>\n",
              "            <td>9.8</td>\n",
              "            <td>10</td>\n",
              "            <td>0.0</td>\n",
              "        </tr>\n",
              "        <tr>\n",
              "            <td>10248</td>\n",
              "            <td>72</td>\n",
              "            <td>34.8</td>\n",
              "            <td>5</td>\n",
              "            <td>0.0</td>\n",
              "        </tr>\n",
              "        <tr>\n",
              "            <td>10249</td>\n",
              "            <td>14</td>\n",
              "            <td>18.6</td>\n",
              "            <td>9</td>\n",
              "            <td>0.0</td>\n",
              "        </tr>\n",
              "        <tr>\n",
              "            <td>10249</td>\n",
              "            <td>51</td>\n",
              "            <td>42.4</td>\n",
              "            <td>40</td>\n",
              "            <td>0.0</td>\n",
              "        </tr>\n",
              "        <tr>\n",
              "            <td>10250</td>\n",
              "            <td>41</td>\n",
              "            <td>7.7</td>\n",
              "            <td>10</td>\n",
              "            <td>0.0</td>\n",
              "        </tr>\n",
              "        <tr>\n",
              "            <td>10250</td>\n",
              "            <td>51</td>\n",
              "            <td>42.4</td>\n",
              "            <td>35</td>\n",
              "            <td>0.15</td>\n",
              "        </tr>\n",
              "        <tr>\n",
              "            <td>10250</td>\n",
              "            <td>65</td>\n",
              "            <td>16.8</td>\n",
              "            <td>15</td>\n",
              "            <td>0.15</td>\n",
              "        </tr>\n",
              "        <tr>\n",
              "            <td>10251</td>\n",
              "            <td>22</td>\n",
              "            <td>16.8</td>\n",
              "            <td>6</td>\n",
              "            <td>0.05</td>\n",
              "        </tr>\n",
              "        <tr>\n",
              "            <td>10251</td>\n",
              "            <td>57</td>\n",
              "            <td>15.6</td>\n",
              "            <td>15</td>\n",
              "            <td>0.05</td>\n",
              "        </tr>\n",
              "    </tbody>\n",
              "</table>"
            ]
          },
          "metadata": {},
          "execution_count": 38
        }
      ]
    },
    {
      "cell_type": "code",
      "source": [
        "%%sql\n",
        "SELECT OrderID,\n",
        "ProductID,\n",
        "Quantity,\n",
        "UnitPrice,\n",
        "UnitPrice*Quantity AS TotalPrice\n",
        "FROM OrderDetails\n",
        "WHERE UnitPrice*Quantity>12000\n",
        "ORDER BY 2, 4 DESC"
      ],
      "metadata": {
        "colab": {
          "base_uri": "https://localhost:8080/",
          "height": 118
        },
        "id": "etdE-HGLraW1",
        "outputId": "e8e2b33f-9491-464c-b16e-23cf5490f352"
      },
      "execution_count": null,
      "outputs": [
        {
          "output_type": "stream",
          "name": "stdout",
          "text": [
            " * sqlite:///northwind.sqlite3\n",
            "Done.\n"
          ]
        },
        {
          "output_type": "execute_result",
          "data": {
            "text/plain": [
              "[(10865, 38, 60, 263.5, 15810.0), (10981, 38, 60, 263.5, 15810.0)]"
            ],
            "text/html": [
              "<table>\n",
              "    <thead>\n",
              "        <tr>\n",
              "            <th>OrderID</th>\n",
              "            <th>ProductID</th>\n",
              "            <th>Quantity</th>\n",
              "            <th>UnitPrice</th>\n",
              "            <th>TotalPrice</th>\n",
              "        </tr>\n",
              "    </thead>\n",
              "    <tbody>\n",
              "        <tr>\n",
              "            <td>10865</td>\n",
              "            <td>38</td>\n",
              "            <td>60</td>\n",
              "            <td>263.5</td>\n",
              "            <td>15810.0</td>\n",
              "        </tr>\n",
              "        <tr>\n",
              "            <td>10981</td>\n",
              "            <td>38</td>\n",
              "            <td>60</td>\n",
              "            <td>263.5</td>\n",
              "            <td>15810.0</td>\n",
              "        </tr>\n",
              "    </tbody>\n",
              "</table>"
            ]
          },
          "metadata": {},
          "execution_count": 46
        }
      ]
    },
    {
      "cell_type": "code",
      "source": [
        "%%sql\n",
        "SELECT ProductID,\n",
        "ProductName,\n",
        "UnitsInStock,\n",
        "UnitsOnOrder,\n",
        "ReorderLevel,\n",
        "Discontinued\n",
        "FROM Products\n",
        "WHERE UnitsInStock + UnitsOnOrder <= ReorderLevel\n",
        "AND Discontinued = 0"
      ],
      "metadata": {
        "colab": {
          "base_uri": "https://localhost:8080/",
          "height": 118
        },
        "id": "lUntnlfWsM9i",
        "outputId": "edec6f25-0432-4622-ac5b-8767facd8c2d"
      },
      "execution_count": null,
      "outputs": [
        {
          "output_type": "stream",
          "name": "stdout",
          "text": [
            " * sqlite:///northwind.sqlite3\n",
            "Done.\n"
          ]
        },
        {
          "output_type": "execute_result",
          "data": {
            "text/plain": [
              "[(30, 'Nord-Ost Matjeshering', 10, 0, 15, 0),\n",
              " (70, 'Outback Lager', 15, 10, 30, 0)]"
            ],
            "text/html": [
              "<table>\n",
              "    <thead>\n",
              "        <tr>\n",
              "            <th>ProductID</th>\n",
              "            <th>ProductName</th>\n",
              "            <th>UnitsInStock</th>\n",
              "            <th>UnitsOnOrder</th>\n",
              "            <th>ReorderLevel</th>\n",
              "            <th>Discontinued</th>\n",
              "        </tr>\n",
              "    </thead>\n",
              "    <tbody>\n",
              "        <tr>\n",
              "            <td>30</td>\n",
              "            <td>Nord-Ost Matjeshering</td>\n",
              "            <td>10</td>\n",
              "            <td>0</td>\n",
              "            <td>15</td>\n",
              "            <td>0</td>\n",
              "        </tr>\n",
              "        <tr>\n",
              "            <td>70</td>\n",
              "            <td>Outback Lager</td>\n",
              "            <td>15</td>\n",
              "            <td>10</td>\n",
              "            <td>30</td>\n",
              "            <td>0</td>\n",
              "        </tr>\n",
              "    </tbody>\n",
              "</table>"
            ]
          },
          "metadata": {},
          "execution_count": 47
        }
      ]
    },
    {
      "cell_type": "code",
      "source": [
        "%%sql\n",
        "SELECT *\n",
        "FROM OrderDetails\n",
        "LIMIT 10"
      ],
      "metadata": {
        "colab": {
          "base_uri": "https://localhost:8080/",
          "height": 289
        },
        "id": "ZA18tH8NuTAH",
        "outputId": "ef101317-96b8-4d9f-8e64-653b328b76f5"
      },
      "execution_count": null,
      "outputs": [
        {
          "output_type": "stream",
          "name": "stdout",
          "text": [
            " * sqlite:///northwind.sqlite3\n",
            "Done.\n"
          ]
        },
        {
          "output_type": "execute_result",
          "data": {
            "text/plain": [
              "[(10248, 11, 14, 12, 0.0),\n",
              " (10248, 42, 9.8, 10, 0.0),\n",
              " (10248, 72, 34.8, 5, 0.0),\n",
              " (10249, 14, 18.6, 9, 0.0),\n",
              " (10249, 51, 42.4, 40, 0.0),\n",
              " (10250, 41, 7.7, 10, 0.0),\n",
              " (10250, 51, 42.4, 35, 0.15),\n",
              " (10250, 65, 16.8, 15, 0.15),\n",
              " (10251, 22, 16.8, 6, 0.05),\n",
              " (10251, 57, 15.6, 15, 0.05)]"
            ],
            "text/html": [
              "<table>\n",
              "    <thead>\n",
              "        <tr>\n",
              "            <th>OrderID</th>\n",
              "            <th>ProductID</th>\n",
              "            <th>UnitPrice</th>\n",
              "            <th>Quantity</th>\n",
              "            <th>Discount</th>\n",
              "        </tr>\n",
              "    </thead>\n",
              "    <tbody>\n",
              "        <tr>\n",
              "            <td>10248</td>\n",
              "            <td>11</td>\n",
              "            <td>14</td>\n",
              "            <td>12</td>\n",
              "            <td>0.0</td>\n",
              "        </tr>\n",
              "        <tr>\n",
              "            <td>10248</td>\n",
              "            <td>42</td>\n",
              "            <td>9.8</td>\n",
              "            <td>10</td>\n",
              "            <td>0.0</td>\n",
              "        </tr>\n",
              "        <tr>\n",
              "            <td>10248</td>\n",
              "            <td>72</td>\n",
              "            <td>34.8</td>\n",
              "            <td>5</td>\n",
              "            <td>0.0</td>\n",
              "        </tr>\n",
              "        <tr>\n",
              "            <td>10249</td>\n",
              "            <td>14</td>\n",
              "            <td>18.6</td>\n",
              "            <td>9</td>\n",
              "            <td>0.0</td>\n",
              "        </tr>\n",
              "        <tr>\n",
              "            <td>10249</td>\n",
              "            <td>51</td>\n",
              "            <td>42.4</td>\n",
              "            <td>40</td>\n",
              "            <td>0.0</td>\n",
              "        </tr>\n",
              "        <tr>\n",
              "            <td>10250</td>\n",
              "            <td>41</td>\n",
              "            <td>7.7</td>\n",
              "            <td>10</td>\n",
              "            <td>0.0</td>\n",
              "        </tr>\n",
              "        <tr>\n",
              "            <td>10250</td>\n",
              "            <td>51</td>\n",
              "            <td>42.4</td>\n",
              "            <td>35</td>\n",
              "            <td>0.15</td>\n",
              "        </tr>\n",
              "        <tr>\n",
              "            <td>10250</td>\n",
              "            <td>65</td>\n",
              "            <td>16.8</td>\n",
              "            <td>15</td>\n",
              "            <td>0.15</td>\n",
              "        </tr>\n",
              "        <tr>\n",
              "            <td>10251</td>\n",
              "            <td>22</td>\n",
              "            <td>16.8</td>\n",
              "            <td>6</td>\n",
              "            <td>0.05</td>\n",
              "        </tr>\n",
              "        <tr>\n",
              "            <td>10251</td>\n",
              "            <td>57</td>\n",
              "            <td>15.6</td>\n",
              "            <td>15</td>\n",
              "            <td>0.05</td>\n",
              "        </tr>\n",
              "    </tbody>\n",
              "</table>"
            ]
          },
          "metadata": {},
          "execution_count": 50
        }
      ]
    },
    {
      "cell_type": "code",
      "source": [
        "%%sql\n",
        "SELECT OrderID+ProductID AS Order_item,\n",
        "MIN(UnitPrice),\n",
        "MAX(UnitPrice),\n",
        "ROUND(AVG(UnitPrice),2)\n",
        "FROM OrderDetails\n",
        "GROUP BY 1\n",
        "LIMIT 10"
      ],
      "metadata": {
        "colab": {
          "base_uri": "https://localhost:8080/",
          "height": 289
        },
        "id": "jUe2mbrctL6S",
        "outputId": "0a249701-c8be-43b5-b64f-db51311870da"
      },
      "execution_count": null,
      "outputs": [
        {
          "output_type": "stream",
          "name": "stdout",
          "text": [
            " * sqlite:///northwind.sqlite3\n",
            "Done.\n"
          ]
        },
        {
          "output_type": "execute_result",
          "data": {
            "text/plain": [
              "[(10257, 15.2, 15.2, 15.2),\n",
              " (10259, 14, 14, 14.0),\n",
              " (10260, 15.2, 15.2, 15.2),\n",
              " (10263, 17, 18.6, 17.8),\n",
              " (10266, 15.2, 15.2, 15.2),\n",
              " (10267, 17, 17, 17.0),\n",
              " (10269, 24, 24, 24.0),\n",
              " (10271, 13.9, 13.9, 13.9),\n",
              " (10272, 64.8, 64.8, 64.8),\n",
              " (10273, 16.8, 16.8, 16.8)]"
            ],
            "text/html": [
              "<table>\n",
              "    <thead>\n",
              "        <tr>\n",
              "            <th>Order_item</th>\n",
              "            <th>MIN(UnitPrice)</th>\n",
              "            <th>MAX(UnitPrice)</th>\n",
              "            <th>ROUND(AVG(UnitPrice),2)</th>\n",
              "        </tr>\n",
              "    </thead>\n",
              "    <tbody>\n",
              "        <tr>\n",
              "            <td>10257</td>\n",
              "            <td>15.2</td>\n",
              "            <td>15.2</td>\n",
              "            <td>15.2</td>\n",
              "        </tr>\n",
              "        <tr>\n",
              "            <td>10259</td>\n",
              "            <td>14</td>\n",
              "            <td>14</td>\n",
              "            <td>14.0</td>\n",
              "        </tr>\n",
              "        <tr>\n",
              "            <td>10260</td>\n",
              "            <td>15.2</td>\n",
              "            <td>15.2</td>\n",
              "            <td>15.2</td>\n",
              "        </tr>\n",
              "        <tr>\n",
              "            <td>10263</td>\n",
              "            <td>17</td>\n",
              "            <td>18.6</td>\n",
              "            <td>17.8</td>\n",
              "        </tr>\n",
              "        <tr>\n",
              "            <td>10266</td>\n",
              "            <td>15.2</td>\n",
              "            <td>15.2</td>\n",
              "            <td>15.2</td>\n",
              "        </tr>\n",
              "        <tr>\n",
              "            <td>10267</td>\n",
              "            <td>17</td>\n",
              "            <td>17</td>\n",
              "            <td>17.0</td>\n",
              "        </tr>\n",
              "        <tr>\n",
              "            <td>10269</td>\n",
              "            <td>24</td>\n",
              "            <td>24</td>\n",
              "            <td>24.0</td>\n",
              "        </tr>\n",
              "        <tr>\n",
              "            <td>10271</td>\n",
              "            <td>13.9</td>\n",
              "            <td>13.9</td>\n",
              "            <td>13.9</td>\n",
              "        </tr>\n",
              "        <tr>\n",
              "            <td>10272</td>\n",
              "            <td>64.8</td>\n",
              "            <td>64.8</td>\n",
              "            <td>64.8</td>\n",
              "        </tr>\n",
              "        <tr>\n",
              "            <td>10273</td>\n",
              "            <td>16.8</td>\n",
              "            <td>16.8</td>\n",
              "            <td>16.8</td>\n",
              "        </tr>\n",
              "    </tbody>\n",
              "</table>"
            ]
          },
          "metadata": {},
          "execution_count": 55
        }
      ]
    },
    {
      "cell_type": "code",
      "source": [
        "%%sql\n",
        "SELECT *\n",
        "FROM Suppliers\n",
        "LIMIT 10"
      ],
      "metadata": {
        "colab": {
          "base_uri": "https://localhost:8080/",
          "height": 462
        },
        "id": "kKUcxrWYuu2Y",
        "outputId": "bd520b82-6a80-493d-ecc4-def08a09b664"
      },
      "execution_count": null,
      "outputs": [
        {
          "output_type": "stream",
          "name": "stdout",
          "text": [
            " * sqlite:///northwind.sqlite3\n",
            "Done.\n"
          ]
        },
        {
          "output_type": "execute_result",
          "data": {
            "text/plain": [
              "[(1, 'Exotic Liquids', 'Charlotte Cooper', 'Purchasing Manager', '49 Gilbert St.', 'London', None, 'EC1 4SD', 'UK', '(171) 555-2222', None, None),\n",
              " (2, 'New Orleans Cajun Delights', 'Shelley Burke', 'Order Administrator', 'P.O. Box 78934', 'New Orleans', 'LA', '70117', 'USA', '(100) 555-4822', None, '#CAJUN.HTM#'),\n",
              " (3, \"Grandma Kelly's Homestead\", 'Regina Murphy', 'Sales Representative', '707 Oxford Rd.', 'Ann Arbor', 'MI', '48104', 'USA', '(313) 555-5735', '(313) 555-3349', None),\n",
              " (4, 'Tokyo Traders', 'Yoshi Nagase', 'Marketing Manager', '9-8 Sekimai Musashino-shi', 'Tokyo', None, '100', 'Japan', '(03) 3555-5011', None, None),\n",
              " (5, \"Cooperativa de Quesos 'Las Cabras'\", 'Antonio del Valle Saavedra', 'Export Administrator', 'Calle del Rosal 4', 'Oviedo', 'Asturias', '33007', 'Spain', '(98) 598 76 54', None, None),\n",
              " (6, \"Mayumi's\", 'Mayumi Ohno', 'Marketing Representative', '92 Setsuko Chuo-ku', 'Osaka', None, '545', 'Japan', '(06) 431-7877', None, \"Mayumi's (on the World Wide Web)#http://www.microsoft.com/accessdev/sampleapps/mayumi.htm#\"),\n",
              " (7, 'Pavlova, Ltd.', 'Ian Devling', 'Marketing Manager', '74 Rose St. Moonie Ponds', 'Melbourne', 'Victoria', '3058', 'Australia', '(03) 444-2343', '(03) 444-6588', None),\n",
              " (8, 'Specialty Biscuits, Ltd.', 'Peter Wilson', 'Sales Representative', \"29 King's Way\", 'Manchester', None, 'M14 GSD', 'UK', '(161) 555-4448', None, None),\n",
              " (9, 'PB Knäckebröd AB', 'Lars Peterson', 'Sales Agent', 'Kaloadagatan 13', 'Göteborg', None, 'S-345 67', 'Sweden', '031-987 65 43', '031-987 65 91', None),\n",
              " (10, 'Refrescos Americanas LTDA', 'Carlos Diaz', 'Marketing Manager', 'Av. das Americanas 12.890', 'Sao Paulo', None, '5442', 'Brazil', '(11) 555 4640', None, None)]"
            ],
            "text/html": [
              "<table>\n",
              "    <thead>\n",
              "        <tr>\n",
              "            <th>SupplierID</th>\n",
              "            <th>CompanyName</th>\n",
              "            <th>ContactName</th>\n",
              "            <th>ContactTitle</th>\n",
              "            <th>Address</th>\n",
              "            <th>City</th>\n",
              "            <th>Region</th>\n",
              "            <th>PostalCode</th>\n",
              "            <th>Country</th>\n",
              "            <th>Phone</th>\n",
              "            <th>Fax</th>\n",
              "            <th>HomePage</th>\n",
              "        </tr>\n",
              "    </thead>\n",
              "    <tbody>\n",
              "        <tr>\n",
              "            <td>1</td>\n",
              "            <td>Exotic Liquids</td>\n",
              "            <td>Charlotte Cooper</td>\n",
              "            <td>Purchasing Manager</td>\n",
              "            <td>49 Gilbert St.</td>\n",
              "            <td>London</td>\n",
              "            <td>None</td>\n",
              "            <td>EC1 4SD</td>\n",
              "            <td>UK</td>\n",
              "            <td>(171) 555-2222</td>\n",
              "            <td>None</td>\n",
              "            <td>None</td>\n",
              "        </tr>\n",
              "        <tr>\n",
              "            <td>2</td>\n",
              "            <td>New Orleans Cajun Delights</td>\n",
              "            <td>Shelley Burke</td>\n",
              "            <td>Order Administrator</td>\n",
              "            <td>P.O. Box 78934</td>\n",
              "            <td>New Orleans</td>\n",
              "            <td>LA</td>\n",
              "            <td>70117</td>\n",
              "            <td>USA</td>\n",
              "            <td>(100) 555-4822</td>\n",
              "            <td>None</td>\n",
              "            <td>#CAJUN.HTM#</td>\n",
              "        </tr>\n",
              "        <tr>\n",
              "            <td>3</td>\n",
              "            <td>Grandma Kelly&#x27;s Homestead</td>\n",
              "            <td>Regina Murphy</td>\n",
              "            <td>Sales Representative</td>\n",
              "            <td>707 Oxford Rd.</td>\n",
              "            <td>Ann Arbor</td>\n",
              "            <td>MI</td>\n",
              "            <td>48104</td>\n",
              "            <td>USA</td>\n",
              "            <td>(313) 555-5735</td>\n",
              "            <td>(313) 555-3349</td>\n",
              "            <td>None</td>\n",
              "        </tr>\n",
              "        <tr>\n",
              "            <td>4</td>\n",
              "            <td>Tokyo Traders</td>\n",
              "            <td>Yoshi Nagase</td>\n",
              "            <td>Marketing Manager</td>\n",
              "            <td>9-8 Sekimai Musashino-shi</td>\n",
              "            <td>Tokyo</td>\n",
              "            <td>None</td>\n",
              "            <td>100</td>\n",
              "            <td>Japan</td>\n",
              "            <td>(03) 3555-5011</td>\n",
              "            <td>None</td>\n",
              "            <td>None</td>\n",
              "        </tr>\n",
              "        <tr>\n",
              "            <td>5</td>\n",
              "            <td>Cooperativa de Quesos &#x27;Las Cabras&#x27;</td>\n",
              "            <td>Antonio del Valle Saavedra</td>\n",
              "            <td>Export Administrator</td>\n",
              "            <td>Calle del Rosal 4</td>\n",
              "            <td>Oviedo</td>\n",
              "            <td>Asturias</td>\n",
              "            <td>33007</td>\n",
              "            <td>Spain</td>\n",
              "            <td>(98) 598 76 54</td>\n",
              "            <td>None</td>\n",
              "            <td>None</td>\n",
              "        </tr>\n",
              "        <tr>\n",
              "            <td>6</td>\n",
              "            <td>Mayumi&#x27;s</td>\n",
              "            <td>Mayumi Ohno</td>\n",
              "            <td>Marketing Representative</td>\n",
              "            <td>92 Setsuko Chuo-ku</td>\n",
              "            <td>Osaka</td>\n",
              "            <td>None</td>\n",
              "            <td>545</td>\n",
              "            <td>Japan</td>\n",
              "            <td>(06) 431-7877</td>\n",
              "            <td>None</td>\n",
              "            <td>Mayumi&#x27;s (on the World Wide Web)#http://www.microsoft.com/accessdev/sampleapps/mayumi.htm#</td>\n",
              "        </tr>\n",
              "        <tr>\n",
              "            <td>7</td>\n",
              "            <td>Pavlova, Ltd.</td>\n",
              "            <td>Ian Devling</td>\n",
              "            <td>Marketing Manager</td>\n",
              "            <td>74 Rose St. Moonie Ponds</td>\n",
              "            <td>Melbourne</td>\n",
              "            <td>Victoria</td>\n",
              "            <td>3058</td>\n",
              "            <td>Australia</td>\n",
              "            <td>(03) 444-2343</td>\n",
              "            <td>(03) 444-6588</td>\n",
              "            <td>None</td>\n",
              "        </tr>\n",
              "        <tr>\n",
              "            <td>8</td>\n",
              "            <td>Specialty Biscuits, Ltd.</td>\n",
              "            <td>Peter Wilson</td>\n",
              "            <td>Sales Representative</td>\n",
              "            <td>29 King&#x27;s Way</td>\n",
              "            <td>Manchester</td>\n",
              "            <td>None</td>\n",
              "            <td>M14 GSD</td>\n",
              "            <td>UK</td>\n",
              "            <td>(161) 555-4448</td>\n",
              "            <td>None</td>\n",
              "            <td>None</td>\n",
              "        </tr>\n",
              "        <tr>\n",
              "            <td>9</td>\n",
              "            <td>PB Knäckebröd AB</td>\n",
              "            <td>Lars Peterson</td>\n",
              "            <td>Sales Agent</td>\n",
              "            <td>Kaloadagatan 13</td>\n",
              "            <td>Göteborg</td>\n",
              "            <td>None</td>\n",
              "            <td>S-345 67</td>\n",
              "            <td>Sweden</td>\n",
              "            <td>031-987 65 43</td>\n",
              "            <td>031-987 65 91</td>\n",
              "            <td>None</td>\n",
              "        </tr>\n",
              "        <tr>\n",
              "            <td>10</td>\n",
              "            <td>Refrescos Americanas LTDA</td>\n",
              "            <td>Carlos Diaz</td>\n",
              "            <td>Marketing Manager</td>\n",
              "            <td>Av. das Americanas 12.890</td>\n",
              "            <td>Sao Paulo</td>\n",
              "            <td>None</td>\n",
              "            <td>5442</td>\n",
              "            <td>Brazil</td>\n",
              "            <td>(11) 555 4640</td>\n",
              "            <td>None</td>\n",
              "            <td>None</td>\n",
              "        </tr>\n",
              "    </tbody>\n",
              "</table>"
            ]
          },
          "metadata": {},
          "execution_count": 57
        }
      ]
    },
    {
      "cell_type": "code",
      "source": [
        "%%sql\n",
        "SELECT ContactTitle,\n",
        "COUNT(1) AS total_customers,\n",
        "COUNT(DISTINCT ContactName) AS unique_customers\n",
        "FROM Suppliers\n",
        "GROUP BY 1"
      ],
      "metadata": {
        "colab": {
          "base_uri": "https://localhost:8080/",
          "height": 395
        },
        "id": "0UCGTqNSPETW",
        "outputId": "537fbada-c2e9-4c84-fce2-17e727856ac2"
      },
      "execution_count": null,
      "outputs": [
        {
          "output_type": "stream",
          "name": "stdout",
          "text": [
            " * sqlite:///northwind.sqlite3\n",
            "Done.\n"
          ]
        },
        {
          "output_type": "execute_result",
          "data": {
            "text/plain": [
              "[('Accounting Manager', 2, 2),\n",
              " ('Coordinator Foreign Markets', 1, 1),\n",
              " ('Export Administrator', 1, 1),\n",
              " ('International Marketing Mgr.', 1, 1),\n",
              " ('Marketing Manager', 5, 5),\n",
              " ('Marketing Representative', 1, 1),\n",
              " ('Order Administrator', 2, 2),\n",
              " ('Owner', 1, 1),\n",
              " ('Product Manager', 1, 1),\n",
              " ('Purchasing Manager', 1, 1),\n",
              " ('Regional Account Rep.', 1, 1),\n",
              " ('Sales Agent', 1, 1),\n",
              " ('Sales Manager', 4, 4),\n",
              " ('Sales Representative', 6, 6),\n",
              " ('Wholesale Account Agent', 1, 1)]"
            ],
            "text/html": [
              "<table>\n",
              "    <thead>\n",
              "        <tr>\n",
              "            <th>ContactTitle</th>\n",
              "            <th>total_customers</th>\n",
              "            <th>unique_customers</th>\n",
              "        </tr>\n",
              "    </thead>\n",
              "    <tbody>\n",
              "        <tr>\n",
              "            <td>Accounting Manager</td>\n",
              "            <td>2</td>\n",
              "            <td>2</td>\n",
              "        </tr>\n",
              "        <tr>\n",
              "            <td>Coordinator Foreign Markets</td>\n",
              "            <td>1</td>\n",
              "            <td>1</td>\n",
              "        </tr>\n",
              "        <tr>\n",
              "            <td>Export Administrator</td>\n",
              "            <td>1</td>\n",
              "            <td>1</td>\n",
              "        </tr>\n",
              "        <tr>\n",
              "            <td>International Marketing Mgr.</td>\n",
              "            <td>1</td>\n",
              "            <td>1</td>\n",
              "        </tr>\n",
              "        <tr>\n",
              "            <td>Marketing Manager</td>\n",
              "            <td>5</td>\n",
              "            <td>5</td>\n",
              "        </tr>\n",
              "        <tr>\n",
              "            <td>Marketing Representative</td>\n",
              "            <td>1</td>\n",
              "            <td>1</td>\n",
              "        </tr>\n",
              "        <tr>\n",
              "            <td>Order Administrator</td>\n",
              "            <td>2</td>\n",
              "            <td>2</td>\n",
              "        </tr>\n",
              "        <tr>\n",
              "            <td>Owner</td>\n",
              "            <td>1</td>\n",
              "            <td>1</td>\n",
              "        </tr>\n",
              "        <tr>\n",
              "            <td>Product Manager</td>\n",
              "            <td>1</td>\n",
              "            <td>1</td>\n",
              "        </tr>\n",
              "        <tr>\n",
              "            <td>Purchasing Manager</td>\n",
              "            <td>1</td>\n",
              "            <td>1</td>\n",
              "        </tr>\n",
              "        <tr>\n",
              "            <td>Regional Account Rep.</td>\n",
              "            <td>1</td>\n",
              "            <td>1</td>\n",
              "        </tr>\n",
              "        <tr>\n",
              "            <td>Sales Agent</td>\n",
              "            <td>1</td>\n",
              "            <td>1</td>\n",
              "        </tr>\n",
              "        <tr>\n",
              "            <td>Sales Manager</td>\n",
              "            <td>4</td>\n",
              "            <td>4</td>\n",
              "        </tr>\n",
              "        <tr>\n",
              "            <td>Sales Representative</td>\n",
              "            <td>6</td>\n",
              "            <td>6</td>\n",
              "        </tr>\n",
              "        <tr>\n",
              "            <td>Wholesale Account Agent</td>\n",
              "            <td>1</td>\n",
              "            <td>1</td>\n",
              "        </tr>\n",
              "    </tbody>\n",
              "</table>"
            ]
          },
          "metadata": {},
          "execution_count": 59
        }
      ]
    },
    {
      "cell_type": "code",
      "source": [
        "%%sql\n",
        "SELECT *\n",
        "FROM Customers\n",
        "LIMIT 10"
      ],
      "metadata": {
        "colab": {
          "base_uri": "https://localhost:8080/",
          "height": 289
        },
        "id": "aYJ7u06nQr81",
        "outputId": "d9980a95-4dec-4156-c34c-d14e9256b582"
      },
      "execution_count": null,
      "outputs": [
        {
          "output_type": "stream",
          "name": "stdout",
          "text": [
            " * sqlite:///northwind.sqlite3\n",
            "Done.\n"
          ]
        },
        {
          "output_type": "execute_result",
          "data": {
            "text/plain": [
              "[('ALFKI', 'Alfreds Futterkiste', 'Maria Anders', 'Sales Representative', 'Obere Str. 57', 'Berlin', None, '12209', 'Germany', '030-0074321', '030-0076545'),\n",
              " ('ANATR', 'Ana Trujillo Emparedados y helados', 'Ana Trujillo', 'Owner', 'Avda. de la Constitución 2222', 'México D.F.', None, '05021', 'Mexico', '(5) 555-4729', '(5) 555-3745'),\n",
              " ('ANTON', 'Antonio Moreno Taquería', 'Antonio Moreno', 'Owner', 'Mataderos  2312', 'México D.F.', None, '05023', 'Mexico', '(5) 555-3932', None),\n",
              " ('AROUT', 'Around the Horn', 'Thomas Hardy', 'Sales Representative', '120 Hanover Sq.', 'London', None, 'WA1 1DP', 'UK', '(171) 555-7788', '(171) 555-6750'),\n",
              " ('BERGS', 'Berglunds snabbköp', 'Christina Berglund', 'Order Administrator', 'Berguvsvägen  8', 'Luleå', None, 'S-958 22', 'Sweden', '0921-12 34 65', '0921-12 34 67'),\n",
              " ('BLAUS', 'Blauer See Delikatessen', 'Hanna Moos', 'Sales Representative', 'Forsterstr. 57', 'Mannheim', None, '68306', 'Germany', '0621-08460', '0621-08924'),\n",
              " ('BLONP', 'Blondesddsl père et fils', 'Frédérique Citeaux', 'Marketing Manager', '24, place Kléber', 'Strasbourg', None, '67000', 'France', '88.60.15.31', '88.60.15.32'),\n",
              " ('BOLID', 'Bólido Comidas preparadas', 'Martín Sommer', 'Owner', 'C/ Araquil, 67', 'Madrid', None, '28023', 'Spain', '(91) 555 22 82', '(91) 555 91 99'),\n",
              " ('BONAP', \"Bon app'\", 'Laurence Lebihan', 'Owner', '12, rue des Bouchers', 'Marseille', None, '13008', 'France', '91.24.45.40', '91.24.45.41'),\n",
              " ('BOTTM', 'Bottom-Dollar Markets', 'Elizabeth Lincoln', 'Accounting Manager', '23 Tsawassen Blvd.', 'Tsawassen', 'BC', 'T2F 8M4', 'Canada', '(604) 555-4729', '(604) 555-3745')]"
            ],
            "text/html": [
              "<table>\n",
              "    <thead>\n",
              "        <tr>\n",
              "            <th>CustomerID</th>\n",
              "            <th>CompanyName</th>\n",
              "            <th>ContactName</th>\n",
              "            <th>ContactTitle</th>\n",
              "            <th>Address</th>\n",
              "            <th>City</th>\n",
              "            <th>Region</th>\n",
              "            <th>PostalCode</th>\n",
              "            <th>Country</th>\n",
              "            <th>Phone</th>\n",
              "            <th>Fax</th>\n",
              "        </tr>\n",
              "    </thead>\n",
              "    <tbody>\n",
              "        <tr>\n",
              "            <td>ALFKI</td>\n",
              "            <td>Alfreds Futterkiste</td>\n",
              "            <td>Maria Anders</td>\n",
              "            <td>Sales Representative</td>\n",
              "            <td>Obere Str. 57</td>\n",
              "            <td>Berlin</td>\n",
              "            <td>None</td>\n",
              "            <td>12209</td>\n",
              "            <td>Germany</td>\n",
              "            <td>030-0074321</td>\n",
              "            <td>030-0076545</td>\n",
              "        </tr>\n",
              "        <tr>\n",
              "            <td>ANATR</td>\n",
              "            <td>Ana Trujillo Emparedados y helados</td>\n",
              "            <td>Ana Trujillo</td>\n",
              "            <td>Owner</td>\n",
              "            <td>Avda. de la Constitución 2222</td>\n",
              "            <td>México D.F.</td>\n",
              "            <td>None</td>\n",
              "            <td>05021</td>\n",
              "            <td>Mexico</td>\n",
              "            <td>(5) 555-4729</td>\n",
              "            <td>(5) 555-3745</td>\n",
              "        </tr>\n",
              "        <tr>\n",
              "            <td>ANTON</td>\n",
              "            <td>Antonio Moreno Taquería</td>\n",
              "            <td>Antonio Moreno</td>\n",
              "            <td>Owner</td>\n",
              "            <td>Mataderos  2312</td>\n",
              "            <td>México D.F.</td>\n",
              "            <td>None</td>\n",
              "            <td>05023</td>\n",
              "            <td>Mexico</td>\n",
              "            <td>(5) 555-3932</td>\n",
              "            <td>None</td>\n",
              "        </tr>\n",
              "        <tr>\n",
              "            <td>AROUT</td>\n",
              "            <td>Around the Horn</td>\n",
              "            <td>Thomas Hardy</td>\n",
              "            <td>Sales Representative</td>\n",
              "            <td>120 Hanover Sq.</td>\n",
              "            <td>London</td>\n",
              "            <td>None</td>\n",
              "            <td>WA1 1DP</td>\n",
              "            <td>UK</td>\n",
              "            <td>(171) 555-7788</td>\n",
              "            <td>(171) 555-6750</td>\n",
              "        </tr>\n",
              "        <tr>\n",
              "            <td>BERGS</td>\n",
              "            <td>Berglunds snabbköp</td>\n",
              "            <td>Christina Berglund</td>\n",
              "            <td>Order Administrator</td>\n",
              "            <td>Berguvsvägen  8</td>\n",
              "            <td>Luleå</td>\n",
              "            <td>None</td>\n",
              "            <td>S-958 22</td>\n",
              "            <td>Sweden</td>\n",
              "            <td>0921-12 34 65</td>\n",
              "            <td>0921-12 34 67</td>\n",
              "        </tr>\n",
              "        <tr>\n",
              "            <td>BLAUS</td>\n",
              "            <td>Blauer See Delikatessen</td>\n",
              "            <td>Hanna Moos</td>\n",
              "            <td>Sales Representative</td>\n",
              "            <td>Forsterstr. 57</td>\n",
              "            <td>Mannheim</td>\n",
              "            <td>None</td>\n",
              "            <td>68306</td>\n",
              "            <td>Germany</td>\n",
              "            <td>0621-08460</td>\n",
              "            <td>0621-08924</td>\n",
              "        </tr>\n",
              "        <tr>\n",
              "            <td>BLONP</td>\n",
              "            <td>Blondesddsl père et fils</td>\n",
              "            <td>Frédérique Citeaux</td>\n",
              "            <td>Marketing Manager</td>\n",
              "            <td>24, place Kléber</td>\n",
              "            <td>Strasbourg</td>\n",
              "            <td>None</td>\n",
              "            <td>67000</td>\n",
              "            <td>France</td>\n",
              "            <td>88.60.15.31</td>\n",
              "            <td>88.60.15.32</td>\n",
              "        </tr>\n",
              "        <tr>\n",
              "            <td>BOLID</td>\n",
              "            <td>Bólido Comidas preparadas</td>\n",
              "            <td>Martín Sommer</td>\n",
              "            <td>Owner</td>\n",
              "            <td>C/ Araquil, 67</td>\n",
              "            <td>Madrid</td>\n",
              "            <td>None</td>\n",
              "            <td>28023</td>\n",
              "            <td>Spain</td>\n",
              "            <td>(91) 555 22 82</td>\n",
              "            <td>(91) 555 91 99</td>\n",
              "        </tr>\n",
              "        <tr>\n",
              "            <td>BONAP</td>\n",
              "            <td>Bon app&#x27;</td>\n",
              "            <td>Laurence Lebihan</td>\n",
              "            <td>Owner</td>\n",
              "            <td>12, rue des Bouchers</td>\n",
              "            <td>Marseille</td>\n",
              "            <td>None</td>\n",
              "            <td>13008</td>\n",
              "            <td>France</td>\n",
              "            <td>91.24.45.40</td>\n",
              "            <td>91.24.45.41</td>\n",
              "        </tr>\n",
              "        <tr>\n",
              "            <td>BOTTM</td>\n",
              "            <td>Bottom-Dollar Markets</td>\n",
              "            <td>Elizabeth Lincoln</td>\n",
              "            <td>Accounting Manager</td>\n",
              "            <td>23 Tsawassen Blvd.</td>\n",
              "            <td>Tsawassen</td>\n",
              "            <td>BC</td>\n",
              "            <td>T2F 8M4</td>\n",
              "            <td>Canada</td>\n",
              "            <td>(604) 555-4729</td>\n",
              "            <td>(604) 555-3745</td>\n",
              "        </tr>\n",
              "    </tbody>\n",
              "</table>"
            ]
          },
          "metadata": {},
          "execution_count": 60
        }
      ]
    },
    {
      "cell_type": "code",
      "source": [
        "%%sql\n",
        "SELECT country,\n",
        "city,\n",
        "COUNT(customerid)\n",
        "FROM Customers\n",
        "GROUP BY 1, 2\n",
        "ORDER BY 3 DESC"
      ],
      "metadata": {
        "colab": {
          "base_uri": "https://localhost:8080/",
          "height": 1000
        },
        "id": "DBM-0v-3RBgf",
        "outputId": "801da394-f883-48ba-bc20-50e280d816d5"
      },
      "execution_count": null,
      "outputs": [
        {
          "output_type": "stream",
          "name": "stdout",
          "text": [
            " * sqlite:///northwind.sqlite3\n",
            "Done.\n"
          ]
        },
        {
          "output_type": "execute_result",
          "data": {
            "text/plain": [
              "[('UK', 'London', 6),\n",
              " ('Mexico', 'México D.F.', 5),\n",
              " ('Brazil', 'Sao Paulo', 4),\n",
              " ('Argentina', 'Buenos Aires', 3),\n",
              " ('Brazil', 'Rio de Janeiro', 3),\n",
              " ('Spain', 'Madrid', 3),\n",
              " ('France', 'Nantes', 2),\n",
              " ('France', 'Paris', 2),\n",
              " ('Portugal', 'Lisboa', 2),\n",
              " ('USA', 'Portland', 2),\n",
              " ('Austria', 'Graz', 1),\n",
              " ('Austria', 'Salzburg', 1),\n",
              " ('Belgium', 'Bruxelles', 1),\n",
              " ('Belgium', 'Charleroi', 1),\n",
              " ('Brazil', 'Campinas', 1),\n",
              " ('Brazil', 'Resende', 1),\n",
              " ('Canada', 'Montréal', 1),\n",
              " ('Canada', 'Tsawassen', 1),\n",
              " ('Canada', 'Vancouver', 1),\n",
              " ('Denmark', 'Kobenhavn', 1),\n",
              " ('Denmark', 'Århus', 1),\n",
              " ('Finland', 'Helsinki', 1),\n",
              " ('Finland', 'Oulu', 1),\n",
              " ('France', 'Lille', 1),\n",
              " ('France', 'Lyon', 1),\n",
              " ('France', 'Marseille', 1),\n",
              " ('France', 'Reims', 1),\n",
              " ('France', 'Strasbourg', 1),\n",
              " ('France', 'Toulouse', 1),\n",
              " ('France', 'Versailles', 1),\n",
              " ('Germany', 'Aachen', 1),\n",
              " ('Germany', 'Berlin', 1),\n",
              " ('Germany', 'Brandenburg', 1),\n",
              " ('Germany', 'Cunewalde', 1),\n",
              " ('Germany', 'Frankfurt a.M.', 1),\n",
              " ('Germany', 'Köln', 1),\n",
              " ('Germany', 'Leipzig', 1),\n",
              " ('Germany', 'Mannheim', 1),\n",
              " ('Germany', 'München', 1),\n",
              " ('Germany', 'Münster', 1),\n",
              " ('Germany', 'Stuttgart', 1),\n",
              " ('Ireland', 'Cork', 1),\n",
              " ('Italy', 'Bergamo', 1),\n",
              " ('Italy', 'Reggio Emilia', 1),\n",
              " ('Italy', 'Torino', 1),\n",
              " ('Norway', 'Stavern', 1),\n",
              " ('Poland', 'Warszawa', 1),\n",
              " ('Spain', 'Barcelona', 1),\n",
              " ('Spain', 'Sevilla', 1),\n",
              " ('Sweden', 'Bräcke', 1),\n",
              " ('Sweden', 'Luleå', 1),\n",
              " ('Switzerland', 'Bern', 1),\n",
              " ('Switzerland', 'Genève', 1),\n",
              " ('UK', 'Cowes', 1),\n",
              " ('USA', 'Albuquerque', 1),\n",
              " ('USA', 'Anchorage', 1),\n",
              " ('USA', 'Boise', 1),\n",
              " ('USA', 'Butte', 1),\n",
              " ('USA', 'Elgin', 1),\n",
              " ('USA', 'Eugene', 1),\n",
              " ('USA', 'Kirkland', 1),\n",
              " ('USA', 'Lander', 1),\n",
              " ('USA', 'San Francisco', 1),\n",
              " ('USA', 'Seattle', 1),\n",
              " ('USA', 'Walla Walla', 1),\n",
              " ('Venezuela', 'Barquisimeto', 1),\n",
              " ('Venezuela', 'Caracas', 1),\n",
              " ('Venezuela', 'I. de Margarita', 1),\n",
              " ('Venezuela', 'San Cristóbal', 1)]"
            ],
            "text/html": [
              "<table>\n",
              "    <thead>\n",
              "        <tr>\n",
              "            <th>Country</th>\n",
              "            <th>City</th>\n",
              "            <th>COUNT(customerid)</th>\n",
              "        </tr>\n",
              "    </thead>\n",
              "    <tbody>\n",
              "        <tr>\n",
              "            <td>UK</td>\n",
              "            <td>London</td>\n",
              "            <td>6</td>\n",
              "        </tr>\n",
              "        <tr>\n",
              "            <td>Mexico</td>\n",
              "            <td>México D.F.</td>\n",
              "            <td>5</td>\n",
              "        </tr>\n",
              "        <tr>\n",
              "            <td>Brazil</td>\n",
              "            <td>Sao Paulo</td>\n",
              "            <td>4</td>\n",
              "        </tr>\n",
              "        <tr>\n",
              "            <td>Argentina</td>\n",
              "            <td>Buenos Aires</td>\n",
              "            <td>3</td>\n",
              "        </tr>\n",
              "        <tr>\n",
              "            <td>Brazil</td>\n",
              "            <td>Rio de Janeiro</td>\n",
              "            <td>3</td>\n",
              "        </tr>\n",
              "        <tr>\n",
              "            <td>Spain</td>\n",
              "            <td>Madrid</td>\n",
              "            <td>3</td>\n",
              "        </tr>\n",
              "        <tr>\n",
              "            <td>France</td>\n",
              "            <td>Nantes</td>\n",
              "            <td>2</td>\n",
              "        </tr>\n",
              "        <tr>\n",
              "            <td>France</td>\n",
              "            <td>Paris</td>\n",
              "            <td>2</td>\n",
              "        </tr>\n",
              "        <tr>\n",
              "            <td>Portugal</td>\n",
              "            <td>Lisboa</td>\n",
              "            <td>2</td>\n",
              "        </tr>\n",
              "        <tr>\n",
              "            <td>USA</td>\n",
              "            <td>Portland</td>\n",
              "            <td>2</td>\n",
              "        </tr>\n",
              "        <tr>\n",
              "            <td>Austria</td>\n",
              "            <td>Graz</td>\n",
              "            <td>1</td>\n",
              "        </tr>\n",
              "        <tr>\n",
              "            <td>Austria</td>\n",
              "            <td>Salzburg</td>\n",
              "            <td>1</td>\n",
              "        </tr>\n",
              "        <tr>\n",
              "            <td>Belgium</td>\n",
              "            <td>Bruxelles</td>\n",
              "            <td>1</td>\n",
              "        </tr>\n",
              "        <tr>\n",
              "            <td>Belgium</td>\n",
              "            <td>Charleroi</td>\n",
              "            <td>1</td>\n",
              "        </tr>\n",
              "        <tr>\n",
              "            <td>Brazil</td>\n",
              "            <td>Campinas</td>\n",
              "            <td>1</td>\n",
              "        </tr>\n",
              "        <tr>\n",
              "            <td>Brazil</td>\n",
              "            <td>Resende</td>\n",
              "            <td>1</td>\n",
              "        </tr>\n",
              "        <tr>\n",
              "            <td>Canada</td>\n",
              "            <td>Montréal</td>\n",
              "            <td>1</td>\n",
              "        </tr>\n",
              "        <tr>\n",
              "            <td>Canada</td>\n",
              "            <td>Tsawassen</td>\n",
              "            <td>1</td>\n",
              "        </tr>\n",
              "        <tr>\n",
              "            <td>Canada</td>\n",
              "            <td>Vancouver</td>\n",
              "            <td>1</td>\n",
              "        </tr>\n",
              "        <tr>\n",
              "            <td>Denmark</td>\n",
              "            <td>Kobenhavn</td>\n",
              "            <td>1</td>\n",
              "        </tr>\n",
              "        <tr>\n",
              "            <td>Denmark</td>\n",
              "            <td>Århus</td>\n",
              "            <td>1</td>\n",
              "        </tr>\n",
              "        <tr>\n",
              "            <td>Finland</td>\n",
              "            <td>Helsinki</td>\n",
              "            <td>1</td>\n",
              "        </tr>\n",
              "        <tr>\n",
              "            <td>Finland</td>\n",
              "            <td>Oulu</td>\n",
              "            <td>1</td>\n",
              "        </tr>\n",
              "        <tr>\n",
              "            <td>France</td>\n",
              "            <td>Lille</td>\n",
              "            <td>1</td>\n",
              "        </tr>\n",
              "        <tr>\n",
              "            <td>France</td>\n",
              "            <td>Lyon</td>\n",
              "            <td>1</td>\n",
              "        </tr>\n",
              "        <tr>\n",
              "            <td>France</td>\n",
              "            <td>Marseille</td>\n",
              "            <td>1</td>\n",
              "        </tr>\n",
              "        <tr>\n",
              "            <td>France</td>\n",
              "            <td>Reims</td>\n",
              "            <td>1</td>\n",
              "        </tr>\n",
              "        <tr>\n",
              "            <td>France</td>\n",
              "            <td>Strasbourg</td>\n",
              "            <td>1</td>\n",
              "        </tr>\n",
              "        <tr>\n",
              "            <td>France</td>\n",
              "            <td>Toulouse</td>\n",
              "            <td>1</td>\n",
              "        </tr>\n",
              "        <tr>\n",
              "            <td>France</td>\n",
              "            <td>Versailles</td>\n",
              "            <td>1</td>\n",
              "        </tr>\n",
              "        <tr>\n",
              "            <td>Germany</td>\n",
              "            <td>Aachen</td>\n",
              "            <td>1</td>\n",
              "        </tr>\n",
              "        <tr>\n",
              "            <td>Germany</td>\n",
              "            <td>Berlin</td>\n",
              "            <td>1</td>\n",
              "        </tr>\n",
              "        <tr>\n",
              "            <td>Germany</td>\n",
              "            <td>Brandenburg</td>\n",
              "            <td>1</td>\n",
              "        </tr>\n",
              "        <tr>\n",
              "            <td>Germany</td>\n",
              "            <td>Cunewalde</td>\n",
              "            <td>1</td>\n",
              "        </tr>\n",
              "        <tr>\n",
              "            <td>Germany</td>\n",
              "            <td>Frankfurt a.M.</td>\n",
              "            <td>1</td>\n",
              "        </tr>\n",
              "        <tr>\n",
              "            <td>Germany</td>\n",
              "            <td>Köln</td>\n",
              "            <td>1</td>\n",
              "        </tr>\n",
              "        <tr>\n",
              "            <td>Germany</td>\n",
              "            <td>Leipzig</td>\n",
              "            <td>1</td>\n",
              "        </tr>\n",
              "        <tr>\n",
              "            <td>Germany</td>\n",
              "            <td>Mannheim</td>\n",
              "            <td>1</td>\n",
              "        </tr>\n",
              "        <tr>\n",
              "            <td>Germany</td>\n",
              "            <td>München</td>\n",
              "            <td>1</td>\n",
              "        </tr>\n",
              "        <tr>\n",
              "            <td>Germany</td>\n",
              "            <td>Münster</td>\n",
              "            <td>1</td>\n",
              "        </tr>\n",
              "        <tr>\n",
              "            <td>Germany</td>\n",
              "            <td>Stuttgart</td>\n",
              "            <td>1</td>\n",
              "        </tr>\n",
              "        <tr>\n",
              "            <td>Ireland</td>\n",
              "            <td>Cork</td>\n",
              "            <td>1</td>\n",
              "        </tr>\n",
              "        <tr>\n",
              "            <td>Italy</td>\n",
              "            <td>Bergamo</td>\n",
              "            <td>1</td>\n",
              "        </tr>\n",
              "        <tr>\n",
              "            <td>Italy</td>\n",
              "            <td>Reggio Emilia</td>\n",
              "            <td>1</td>\n",
              "        </tr>\n",
              "        <tr>\n",
              "            <td>Italy</td>\n",
              "            <td>Torino</td>\n",
              "            <td>1</td>\n",
              "        </tr>\n",
              "        <tr>\n",
              "            <td>Norway</td>\n",
              "            <td>Stavern</td>\n",
              "            <td>1</td>\n",
              "        </tr>\n",
              "        <tr>\n",
              "            <td>Poland</td>\n",
              "            <td>Warszawa</td>\n",
              "            <td>1</td>\n",
              "        </tr>\n",
              "        <tr>\n",
              "            <td>Spain</td>\n",
              "            <td>Barcelona</td>\n",
              "            <td>1</td>\n",
              "        </tr>\n",
              "        <tr>\n",
              "            <td>Spain</td>\n",
              "            <td>Sevilla</td>\n",
              "            <td>1</td>\n",
              "        </tr>\n",
              "        <tr>\n",
              "            <td>Sweden</td>\n",
              "            <td>Bräcke</td>\n",
              "            <td>1</td>\n",
              "        </tr>\n",
              "        <tr>\n",
              "            <td>Sweden</td>\n",
              "            <td>Luleå</td>\n",
              "            <td>1</td>\n",
              "        </tr>\n",
              "        <tr>\n",
              "            <td>Switzerland</td>\n",
              "            <td>Bern</td>\n",
              "            <td>1</td>\n",
              "        </tr>\n",
              "        <tr>\n",
              "            <td>Switzerland</td>\n",
              "            <td>Genève</td>\n",
              "            <td>1</td>\n",
              "        </tr>\n",
              "        <tr>\n",
              "            <td>UK</td>\n",
              "            <td>Cowes</td>\n",
              "            <td>1</td>\n",
              "        </tr>\n",
              "        <tr>\n",
              "            <td>USA</td>\n",
              "            <td>Albuquerque</td>\n",
              "            <td>1</td>\n",
              "        </tr>\n",
              "        <tr>\n",
              "            <td>USA</td>\n",
              "            <td>Anchorage</td>\n",
              "            <td>1</td>\n",
              "        </tr>\n",
              "        <tr>\n",
              "            <td>USA</td>\n",
              "            <td>Boise</td>\n",
              "            <td>1</td>\n",
              "        </tr>\n",
              "        <tr>\n",
              "            <td>USA</td>\n",
              "            <td>Butte</td>\n",
              "            <td>1</td>\n",
              "        </tr>\n",
              "        <tr>\n",
              "            <td>USA</td>\n",
              "            <td>Elgin</td>\n",
              "            <td>1</td>\n",
              "        </tr>\n",
              "        <tr>\n",
              "            <td>USA</td>\n",
              "            <td>Eugene</td>\n",
              "            <td>1</td>\n",
              "        </tr>\n",
              "        <tr>\n",
              "            <td>USA</td>\n",
              "            <td>Kirkland</td>\n",
              "            <td>1</td>\n",
              "        </tr>\n",
              "        <tr>\n",
              "            <td>USA</td>\n",
              "            <td>Lander</td>\n",
              "            <td>1</td>\n",
              "        </tr>\n",
              "        <tr>\n",
              "            <td>USA</td>\n",
              "            <td>San Francisco</td>\n",
              "            <td>1</td>\n",
              "        </tr>\n",
              "        <tr>\n",
              "            <td>USA</td>\n",
              "            <td>Seattle</td>\n",
              "            <td>1</td>\n",
              "        </tr>\n",
              "        <tr>\n",
              "            <td>USA</td>\n",
              "            <td>Walla Walla</td>\n",
              "            <td>1</td>\n",
              "        </tr>\n",
              "        <tr>\n",
              "            <td>Venezuela</td>\n",
              "            <td>Barquisimeto</td>\n",
              "            <td>1</td>\n",
              "        </tr>\n",
              "        <tr>\n",
              "            <td>Venezuela</td>\n",
              "            <td>Caracas</td>\n",
              "            <td>1</td>\n",
              "        </tr>\n",
              "        <tr>\n",
              "            <td>Venezuela</td>\n",
              "            <td>I. de Margarita</td>\n",
              "            <td>1</td>\n",
              "        </tr>\n",
              "        <tr>\n",
              "            <td>Venezuela</td>\n",
              "            <td>San Cristóbal</td>\n",
              "            <td>1</td>\n",
              "        </tr>\n",
              "    </tbody>\n",
              "</table>"
            ]
          },
          "metadata": {},
          "execution_count": 63
        }
      ]
    },
    {
      "cell_type": "code",
      "source": [
        "%%sql\n",
        "SELECT ProductID,\n",
        "ProductName,\n",
        "CompanyName\n",
        "FROM Products\n",
        "INNER JOIN Suppliers\n",
        "USING(SupplierID)\n",
        "ORDER BY 1 DESC"
      ],
      "metadata": {
        "colab": {
          "base_uri": "https://localhost:8080/",
          "height": 1000
        },
        "id": "8axJGHu0S-nd",
        "outputId": "e3c10798-a5ed-498b-fc85-1c4cf328a96f"
      },
      "execution_count": null,
      "outputs": [
        {
          "output_type": "stream",
          "name": "stdout",
          "text": [
            " * sqlite:///northwind.sqlite3\n",
            "Done.\n"
          ]
        },
        {
          "output_type": "execute_result",
          "data": {
            "text/plain": [
              "[(77, 'Original Frankfurter grüne Soße', 'Plutzer Lebensmittelgroßmärkte AG'),\n",
              " (76, 'Lakkalikööri', 'Karkki Oy'),\n",
              " (75, 'Rhönbräu Klosterbier', 'Plutzer Lebensmittelgroßmärkte AG'),\n",
              " (74, 'Longlife Tofu', 'Tokyo Traders'),\n",
              " (73, 'Röd Kaviar', 'Svensk Sjöföda AB'),\n",
              " (72, 'Mozzarella di Giovanni', 'Formaggi Fortini s.r.l.'),\n",
              " (71, 'Flotemysost', 'Norske Meierier'),\n",
              " (70, 'Outback Lager', 'Pavlova, Ltd.'),\n",
              " (69, 'Gudbrandsdalsost', 'Norske Meierier'),\n",
              " (68, 'Scottish Longbreads', 'Specialty Biscuits, Ltd.'),\n",
              " (67, 'Laughing Lumberjack Lager', 'Bigfoot Breweries'),\n",
              " (66, 'Louisiana Hot Spiced Okra', 'New Orleans Cajun Delights'),\n",
              " (65, 'Louisiana Fiery Hot Pepper Sauce', 'New Orleans Cajun Delights'),\n",
              " (64, 'Wimmers gute Semmelknödel', 'Plutzer Lebensmittelgroßmärkte AG'),\n",
              " (63, 'Vegie-spread', 'Pavlova, Ltd.'),\n",
              " (62, 'Tarte au sucre', \"Forêts d'érables\"),\n",
              " (61, \"Sirop d'érable\", \"Forêts d'érables\"),\n",
              " (60, 'Camembert Pierrot', 'Gai pâturage'),\n",
              " (59, 'Raclette Courdavault', 'Gai pâturage'),\n",
              " (58, 'Escargots de Bourgogne', 'Escargots Nouveaux'),\n",
              " (57, 'Ravioli Angelo', 'Pasta Buttini s.r.l.'),\n",
              " (56, 'Gnocchi di nonna Alice', 'Pasta Buttini s.r.l.'),\n",
              " (55, 'Pâté chinois', 'Ma Maison'),\n",
              " (54, 'Tourtière', 'Ma Maison'),\n",
              " (53, 'Perth Pasties', \"G'day, Mate\"),\n",
              " (52, 'Filo Mix', \"G'day, Mate\"),\n",
              " (51, 'Manjimup Dried Apples', \"G'day, Mate\"),\n",
              " (50, 'Valkoinen suklaa', 'Karkki Oy'),\n",
              " (49, 'Maxilaku', 'Karkki Oy'),\n",
              " (48, 'Chocolade', 'Zaanse Snoepfabriek'),\n",
              " (47, 'Zaanse koeken', 'Zaanse Snoepfabriek'),\n",
              " (46, 'Spegesild', 'Lyngbysild'),\n",
              " (45, 'Rogede sild', 'Lyngbysild'),\n",
              " (44, 'Gula Malacca', 'Leka Trading'),\n",
              " (43, 'Ipoh Coffee', 'Leka Trading'),\n",
              " (42, 'Singaporean Hokkien Fried Mee', 'Leka Trading'),\n",
              " (41, \"Jack's New England Clam Chowder\", 'New England Seafood Cannery'),\n",
              " (40, 'Boston Crab Meat', 'New England Seafood Cannery'),\n",
              " (39, 'Chartreuse verte', 'Aux joyeux ecclésiastiques'),\n",
              " (38, 'Côte de Blaye', 'Aux joyeux ecclésiastiques'),\n",
              " (37, 'Gravad lax', 'Svensk Sjöföda AB'),\n",
              " (36, 'Inlagd Sill', 'Svensk Sjöföda AB'),\n",
              " (35, 'Steeleye Stout', 'Bigfoot Breweries'),\n",
              " (34, 'Sasquatch Ale', 'Bigfoot Breweries'),\n",
              " (33, 'Geitost', 'Norske Meierier'),\n",
              " (32, 'Mascarpone Fabioli', 'Formaggi Fortini s.r.l.'),\n",
              " (31, 'Gorgonzola Telino', 'Formaggi Fortini s.r.l.'),\n",
              " (30, 'Nord-Ost Matjeshering', 'Nord-Ost-Fisch Handelsgesellschaft mbH'),\n",
              " (29, 'Thüringer Rostbratwurst', 'Plutzer Lebensmittelgroßmärkte AG'),\n",
              " (28, 'Rössle Sauerkraut', 'Plutzer Lebensmittelgroßmärkte AG'),\n",
              " (27, 'Schoggi Schokolade', 'Heli Süßwaren GmbH & Co. KG'),\n",
              " (26, 'Gumbär Gummibärchen', 'Heli Süßwaren GmbH & Co. KG'),\n",
              " (25, 'NuNuCa Nuß-Nougat-Creme', 'Heli Süßwaren GmbH & Co. KG'),\n",
              " (24, 'Guaraná Fantástica', 'Refrescos Americanas LTDA'),\n",
              " (23, 'Tunnbröd', 'PB Knäckebröd AB'),\n",
              " (22, \"Gustaf's Knäckebröd\", 'PB Knäckebröd AB'),\n",
              " (21, \"Sir Rodney's Scones\", 'Specialty Biscuits, Ltd.'),\n",
              " (20, \"Sir Rodney's Marmalade\", 'Specialty Biscuits, Ltd.'),\n",
              " (19, 'Teatime Chocolate Biscuits', 'Specialty Biscuits, Ltd.'),\n",
              " (18, 'Carnarvon Tigers', 'Pavlova, Ltd.'),\n",
              " (17, 'Alice Mutton', 'Pavlova, Ltd.'),\n",
              " (16, 'Pavlova', 'Pavlova, Ltd.'),\n",
              " (15, 'Genen Shouyu', \"Mayumi's\"),\n",
              " (14, 'Tofu', \"Mayumi's\"),\n",
              " (13, 'Konbu', \"Mayumi's\"),\n",
              " (12, 'Queso Manchego La Pastora', \"Cooperativa de Quesos 'Las Cabras'\"),\n",
              " (11, 'Queso Cabrales', \"Cooperativa de Quesos 'Las Cabras'\"),\n",
              " (10, 'Ikura', 'Tokyo Traders'),\n",
              " (9, 'Mishi Kobe Niku', 'Tokyo Traders'),\n",
              " (8, 'Northwoods Cranberry Sauce', \"Grandma Kelly's Homestead\"),\n",
              " (7, \"Uncle Bob's Organic Dried Pears\", \"Grandma Kelly's Homestead\"),\n",
              " (6, \"Grandma's Boysenberry Spread\", \"Grandma Kelly's Homestead\"),\n",
              " (5, \"Chef Anton's Gumbo Mix\", 'New Orleans Cajun Delights'),\n",
              " (4, \"Chef Anton's Cajun Seasoning\", 'New Orleans Cajun Delights'),\n",
              " (3, 'Aniseed Syrup', 'Exotic Liquids'),\n",
              " (2, 'Chang', 'Exotic Liquids'),\n",
              " (1, 'Chai', 'Exotic Liquids')]"
            ],
            "text/html": [
              "<table>\n",
              "    <thead>\n",
              "        <tr>\n",
              "            <th>ProductID</th>\n",
              "            <th>ProductName</th>\n",
              "            <th>CompanyName</th>\n",
              "        </tr>\n",
              "    </thead>\n",
              "    <tbody>\n",
              "        <tr>\n",
              "            <td>77</td>\n",
              "            <td>Original Frankfurter grüne Soße</td>\n",
              "            <td>Plutzer Lebensmittelgroßmärkte AG</td>\n",
              "        </tr>\n",
              "        <tr>\n",
              "            <td>76</td>\n",
              "            <td>Lakkalikööri</td>\n",
              "            <td>Karkki Oy</td>\n",
              "        </tr>\n",
              "        <tr>\n",
              "            <td>75</td>\n",
              "            <td>Rhönbräu Klosterbier</td>\n",
              "            <td>Plutzer Lebensmittelgroßmärkte AG</td>\n",
              "        </tr>\n",
              "        <tr>\n",
              "            <td>74</td>\n",
              "            <td>Longlife Tofu</td>\n",
              "            <td>Tokyo Traders</td>\n",
              "        </tr>\n",
              "        <tr>\n",
              "            <td>73</td>\n",
              "            <td>Röd Kaviar</td>\n",
              "            <td>Svensk Sjöföda AB</td>\n",
              "        </tr>\n",
              "        <tr>\n",
              "            <td>72</td>\n",
              "            <td>Mozzarella di Giovanni</td>\n",
              "            <td>Formaggi Fortini s.r.l.</td>\n",
              "        </tr>\n",
              "        <tr>\n",
              "            <td>71</td>\n",
              "            <td>Flotemysost</td>\n",
              "            <td>Norske Meierier</td>\n",
              "        </tr>\n",
              "        <tr>\n",
              "            <td>70</td>\n",
              "            <td>Outback Lager</td>\n",
              "            <td>Pavlova, Ltd.</td>\n",
              "        </tr>\n",
              "        <tr>\n",
              "            <td>69</td>\n",
              "            <td>Gudbrandsdalsost</td>\n",
              "            <td>Norske Meierier</td>\n",
              "        </tr>\n",
              "        <tr>\n",
              "            <td>68</td>\n",
              "            <td>Scottish Longbreads</td>\n",
              "            <td>Specialty Biscuits, Ltd.</td>\n",
              "        </tr>\n",
              "        <tr>\n",
              "            <td>67</td>\n",
              "            <td>Laughing Lumberjack Lager</td>\n",
              "            <td>Bigfoot Breweries</td>\n",
              "        </tr>\n",
              "        <tr>\n",
              "            <td>66</td>\n",
              "            <td>Louisiana Hot Spiced Okra</td>\n",
              "            <td>New Orleans Cajun Delights</td>\n",
              "        </tr>\n",
              "        <tr>\n",
              "            <td>65</td>\n",
              "            <td>Louisiana Fiery Hot Pepper Sauce</td>\n",
              "            <td>New Orleans Cajun Delights</td>\n",
              "        </tr>\n",
              "        <tr>\n",
              "            <td>64</td>\n",
              "            <td>Wimmers gute Semmelknödel</td>\n",
              "            <td>Plutzer Lebensmittelgroßmärkte AG</td>\n",
              "        </tr>\n",
              "        <tr>\n",
              "            <td>63</td>\n",
              "            <td>Vegie-spread</td>\n",
              "            <td>Pavlova, Ltd.</td>\n",
              "        </tr>\n",
              "        <tr>\n",
              "            <td>62</td>\n",
              "            <td>Tarte au sucre</td>\n",
              "            <td>Forêts d&#x27;érables</td>\n",
              "        </tr>\n",
              "        <tr>\n",
              "            <td>61</td>\n",
              "            <td>Sirop d&#x27;érable</td>\n",
              "            <td>Forêts d&#x27;érables</td>\n",
              "        </tr>\n",
              "        <tr>\n",
              "            <td>60</td>\n",
              "            <td>Camembert Pierrot</td>\n",
              "            <td>Gai pâturage</td>\n",
              "        </tr>\n",
              "        <tr>\n",
              "            <td>59</td>\n",
              "            <td>Raclette Courdavault</td>\n",
              "            <td>Gai pâturage</td>\n",
              "        </tr>\n",
              "        <tr>\n",
              "            <td>58</td>\n",
              "            <td>Escargots de Bourgogne</td>\n",
              "            <td>Escargots Nouveaux</td>\n",
              "        </tr>\n",
              "        <tr>\n",
              "            <td>57</td>\n",
              "            <td>Ravioli Angelo</td>\n",
              "            <td>Pasta Buttini s.r.l.</td>\n",
              "        </tr>\n",
              "        <tr>\n",
              "            <td>56</td>\n",
              "            <td>Gnocchi di nonna Alice</td>\n",
              "            <td>Pasta Buttini s.r.l.</td>\n",
              "        </tr>\n",
              "        <tr>\n",
              "            <td>55</td>\n",
              "            <td>Pâté chinois</td>\n",
              "            <td>Ma Maison</td>\n",
              "        </tr>\n",
              "        <tr>\n",
              "            <td>54</td>\n",
              "            <td>Tourtière</td>\n",
              "            <td>Ma Maison</td>\n",
              "        </tr>\n",
              "        <tr>\n",
              "            <td>53</td>\n",
              "            <td>Perth Pasties</td>\n",
              "            <td>G&#x27;day, Mate</td>\n",
              "        </tr>\n",
              "        <tr>\n",
              "            <td>52</td>\n",
              "            <td>Filo Mix</td>\n",
              "            <td>G&#x27;day, Mate</td>\n",
              "        </tr>\n",
              "        <tr>\n",
              "            <td>51</td>\n",
              "            <td>Manjimup Dried Apples</td>\n",
              "            <td>G&#x27;day, Mate</td>\n",
              "        </tr>\n",
              "        <tr>\n",
              "            <td>50</td>\n",
              "            <td>Valkoinen suklaa</td>\n",
              "            <td>Karkki Oy</td>\n",
              "        </tr>\n",
              "        <tr>\n",
              "            <td>49</td>\n",
              "            <td>Maxilaku</td>\n",
              "            <td>Karkki Oy</td>\n",
              "        </tr>\n",
              "        <tr>\n",
              "            <td>48</td>\n",
              "            <td>Chocolade</td>\n",
              "            <td>Zaanse Snoepfabriek</td>\n",
              "        </tr>\n",
              "        <tr>\n",
              "            <td>47</td>\n",
              "            <td>Zaanse koeken</td>\n",
              "            <td>Zaanse Snoepfabriek</td>\n",
              "        </tr>\n",
              "        <tr>\n",
              "            <td>46</td>\n",
              "            <td>Spegesild</td>\n",
              "            <td>Lyngbysild</td>\n",
              "        </tr>\n",
              "        <tr>\n",
              "            <td>45</td>\n",
              "            <td>Rogede sild</td>\n",
              "            <td>Lyngbysild</td>\n",
              "        </tr>\n",
              "        <tr>\n",
              "            <td>44</td>\n",
              "            <td>Gula Malacca</td>\n",
              "            <td>Leka Trading</td>\n",
              "        </tr>\n",
              "        <tr>\n",
              "            <td>43</td>\n",
              "            <td>Ipoh Coffee</td>\n",
              "            <td>Leka Trading</td>\n",
              "        </tr>\n",
              "        <tr>\n",
              "            <td>42</td>\n",
              "            <td>Singaporean Hokkien Fried Mee</td>\n",
              "            <td>Leka Trading</td>\n",
              "        </tr>\n",
              "        <tr>\n",
              "            <td>41</td>\n",
              "            <td>Jack&#x27;s New England Clam Chowder</td>\n",
              "            <td>New England Seafood Cannery</td>\n",
              "        </tr>\n",
              "        <tr>\n",
              "            <td>40</td>\n",
              "            <td>Boston Crab Meat</td>\n",
              "            <td>New England Seafood Cannery</td>\n",
              "        </tr>\n",
              "        <tr>\n",
              "            <td>39</td>\n",
              "            <td>Chartreuse verte</td>\n",
              "            <td>Aux joyeux ecclésiastiques</td>\n",
              "        </tr>\n",
              "        <tr>\n",
              "            <td>38</td>\n",
              "            <td>Côte de Blaye</td>\n",
              "            <td>Aux joyeux ecclésiastiques</td>\n",
              "        </tr>\n",
              "        <tr>\n",
              "            <td>37</td>\n",
              "            <td>Gravad lax</td>\n",
              "            <td>Svensk Sjöföda AB</td>\n",
              "        </tr>\n",
              "        <tr>\n",
              "            <td>36</td>\n",
              "            <td>Inlagd Sill</td>\n",
              "            <td>Svensk Sjöföda AB</td>\n",
              "        </tr>\n",
              "        <tr>\n",
              "            <td>35</td>\n",
              "            <td>Steeleye Stout</td>\n",
              "            <td>Bigfoot Breweries</td>\n",
              "        </tr>\n",
              "        <tr>\n",
              "            <td>34</td>\n",
              "            <td>Sasquatch Ale</td>\n",
              "            <td>Bigfoot Breweries</td>\n",
              "        </tr>\n",
              "        <tr>\n",
              "            <td>33</td>\n",
              "            <td>Geitost</td>\n",
              "            <td>Norske Meierier</td>\n",
              "        </tr>\n",
              "        <tr>\n",
              "            <td>32</td>\n",
              "            <td>Mascarpone Fabioli</td>\n",
              "            <td>Formaggi Fortini s.r.l.</td>\n",
              "        </tr>\n",
              "        <tr>\n",
              "            <td>31</td>\n",
              "            <td>Gorgonzola Telino</td>\n",
              "            <td>Formaggi Fortini s.r.l.</td>\n",
              "        </tr>\n",
              "        <tr>\n",
              "            <td>30</td>\n",
              "            <td>Nord-Ost Matjeshering</td>\n",
              "            <td>Nord-Ost-Fisch Handelsgesellschaft mbH</td>\n",
              "        </tr>\n",
              "        <tr>\n",
              "            <td>29</td>\n",
              "            <td>Thüringer Rostbratwurst</td>\n",
              "            <td>Plutzer Lebensmittelgroßmärkte AG</td>\n",
              "        </tr>\n",
              "        <tr>\n",
              "            <td>28</td>\n",
              "            <td>Rössle Sauerkraut</td>\n",
              "            <td>Plutzer Lebensmittelgroßmärkte AG</td>\n",
              "        </tr>\n",
              "        <tr>\n",
              "            <td>27</td>\n",
              "            <td>Schoggi Schokolade</td>\n",
              "            <td>Heli Süßwaren GmbH &amp; Co. KG</td>\n",
              "        </tr>\n",
              "        <tr>\n",
              "            <td>26</td>\n",
              "            <td>Gumbär Gummibärchen</td>\n",
              "            <td>Heli Süßwaren GmbH &amp; Co. KG</td>\n",
              "        </tr>\n",
              "        <tr>\n",
              "            <td>25</td>\n",
              "            <td>NuNuCa Nuß-Nougat-Creme</td>\n",
              "            <td>Heli Süßwaren GmbH &amp; Co. KG</td>\n",
              "        </tr>\n",
              "        <tr>\n",
              "            <td>24</td>\n",
              "            <td>Guaraná Fantástica</td>\n",
              "            <td>Refrescos Americanas LTDA</td>\n",
              "        </tr>\n",
              "        <tr>\n",
              "            <td>23</td>\n",
              "            <td>Tunnbröd</td>\n",
              "            <td>PB Knäckebröd AB</td>\n",
              "        </tr>\n",
              "        <tr>\n",
              "            <td>22</td>\n",
              "            <td>Gustaf&#x27;s Knäckebröd</td>\n",
              "            <td>PB Knäckebröd AB</td>\n",
              "        </tr>\n",
              "        <tr>\n",
              "            <td>21</td>\n",
              "            <td>Sir Rodney&#x27;s Scones</td>\n",
              "            <td>Specialty Biscuits, Ltd.</td>\n",
              "        </tr>\n",
              "        <tr>\n",
              "            <td>20</td>\n",
              "            <td>Sir Rodney&#x27;s Marmalade</td>\n",
              "            <td>Specialty Biscuits, Ltd.</td>\n",
              "        </tr>\n",
              "        <tr>\n",
              "            <td>19</td>\n",
              "            <td>Teatime Chocolate Biscuits</td>\n",
              "            <td>Specialty Biscuits, Ltd.</td>\n",
              "        </tr>\n",
              "        <tr>\n",
              "            <td>18</td>\n",
              "            <td>Carnarvon Tigers</td>\n",
              "            <td>Pavlova, Ltd.</td>\n",
              "        </tr>\n",
              "        <tr>\n",
              "            <td>17</td>\n",
              "            <td>Alice Mutton</td>\n",
              "            <td>Pavlova, Ltd.</td>\n",
              "        </tr>\n",
              "        <tr>\n",
              "            <td>16</td>\n",
              "            <td>Pavlova</td>\n",
              "            <td>Pavlova, Ltd.</td>\n",
              "        </tr>\n",
              "        <tr>\n",
              "            <td>15</td>\n",
              "            <td>Genen Shouyu</td>\n",
              "            <td>Mayumi&#x27;s</td>\n",
              "        </tr>\n",
              "        <tr>\n",
              "            <td>14</td>\n",
              "            <td>Tofu</td>\n",
              "            <td>Mayumi&#x27;s</td>\n",
              "        </tr>\n",
              "        <tr>\n",
              "            <td>13</td>\n",
              "            <td>Konbu</td>\n",
              "            <td>Mayumi&#x27;s</td>\n",
              "        </tr>\n",
              "        <tr>\n",
              "            <td>12</td>\n",
              "            <td>Queso Manchego La Pastora</td>\n",
              "            <td>Cooperativa de Quesos &#x27;Las Cabras&#x27;</td>\n",
              "        </tr>\n",
              "        <tr>\n",
              "            <td>11</td>\n",
              "            <td>Queso Cabrales</td>\n",
              "            <td>Cooperativa de Quesos &#x27;Las Cabras&#x27;</td>\n",
              "        </tr>\n",
              "        <tr>\n",
              "            <td>10</td>\n",
              "            <td>Ikura</td>\n",
              "            <td>Tokyo Traders</td>\n",
              "        </tr>\n",
              "        <tr>\n",
              "            <td>9</td>\n",
              "            <td>Mishi Kobe Niku</td>\n",
              "            <td>Tokyo Traders</td>\n",
              "        </tr>\n",
              "        <tr>\n",
              "            <td>8</td>\n",
              "            <td>Northwoods Cranberry Sauce</td>\n",
              "            <td>Grandma Kelly&#x27;s Homestead</td>\n",
              "        </tr>\n",
              "        <tr>\n",
              "            <td>7</td>\n",
              "            <td>Uncle Bob&#x27;s Organic Dried Pears</td>\n",
              "            <td>Grandma Kelly&#x27;s Homestead</td>\n",
              "        </tr>\n",
              "        <tr>\n",
              "            <td>6</td>\n",
              "            <td>Grandma&#x27;s Boysenberry Spread</td>\n",
              "            <td>Grandma Kelly&#x27;s Homestead</td>\n",
              "        </tr>\n",
              "        <tr>\n",
              "            <td>5</td>\n",
              "            <td>Chef Anton&#x27;s Gumbo Mix</td>\n",
              "            <td>New Orleans Cajun Delights</td>\n",
              "        </tr>\n",
              "        <tr>\n",
              "            <td>4</td>\n",
              "            <td>Chef Anton&#x27;s Cajun Seasoning</td>\n",
              "            <td>New Orleans Cajun Delights</td>\n",
              "        </tr>\n",
              "        <tr>\n",
              "            <td>3</td>\n",
              "            <td>Aniseed Syrup</td>\n",
              "            <td>Exotic Liquids</td>\n",
              "        </tr>\n",
              "        <tr>\n",
              "            <td>2</td>\n",
              "            <td>Chang</td>\n",
              "            <td>Exotic Liquids</td>\n",
              "        </tr>\n",
              "        <tr>\n",
              "            <td>1</td>\n",
              "            <td>Chai</td>\n",
              "            <td>Exotic Liquids</td>\n",
              "        </tr>\n",
              "    </tbody>\n",
              "</table>"
            ]
          },
          "metadata": {},
          "execution_count": 102
        }
      ]
    },
    {
      "cell_type": "code",
      "source": [
        "%%sql\n",
        "SELECT OrderID, DATE(OrderDate), CompanyName\n",
        "FROM Orders\n",
        "INNER JOIN Shippers\n",
        "ON ShipVia=ShipperID\n",
        "WHERE OrderID < 10255"
      ],
      "metadata": {
        "colab": {
          "base_uri": "https://localhost:8080/",
          "height": 225
        },
        "id": "nIWSky_OWuFL",
        "outputId": "be45395c-aa00-4525-c0cc-32c3d9605b06"
      },
      "execution_count": null,
      "outputs": [
        {
          "output_type": "stream",
          "name": "stdout",
          "text": [
            " * sqlite:///northwind.sqlite3\n",
            "Done.\n"
          ]
        },
        {
          "output_type": "execute_result",
          "data": {
            "text/plain": [
              "[(10248, '2014-07-04', 'Federal Shipping'),\n",
              " (10249, '2014-07-05', 'Speedy Express'),\n",
              " (10250, '2014-07-08', 'United Package'),\n",
              " (10251, '2014-07-08', 'Speedy Express'),\n",
              " (10252, '2014-07-09', 'United Package'),\n",
              " (10253, '2014-07-10', 'United Package'),\n",
              " (10254, '2014-07-11', 'United Package')]"
            ],
            "text/html": [
              "<table>\n",
              "    <thead>\n",
              "        <tr>\n",
              "            <th>OrderID</th>\n",
              "            <th>DATE(OrderDate)</th>\n",
              "            <th>CompanyName</th>\n",
              "        </tr>\n",
              "    </thead>\n",
              "    <tbody>\n",
              "        <tr>\n",
              "            <td>10248</td>\n",
              "            <td>2014-07-04</td>\n",
              "            <td>Federal Shipping</td>\n",
              "        </tr>\n",
              "        <tr>\n",
              "            <td>10249</td>\n",
              "            <td>2014-07-05</td>\n",
              "            <td>Speedy Express</td>\n",
              "        </tr>\n",
              "        <tr>\n",
              "            <td>10250</td>\n",
              "            <td>2014-07-08</td>\n",
              "            <td>United Package</td>\n",
              "        </tr>\n",
              "        <tr>\n",
              "            <td>10251</td>\n",
              "            <td>2014-07-08</td>\n",
              "            <td>Speedy Express</td>\n",
              "        </tr>\n",
              "        <tr>\n",
              "            <td>10252</td>\n",
              "            <td>2014-07-09</td>\n",
              "            <td>United Package</td>\n",
              "        </tr>\n",
              "        <tr>\n",
              "            <td>10253</td>\n",
              "            <td>2014-07-10</td>\n",
              "            <td>United Package</td>\n",
              "        </tr>\n",
              "        <tr>\n",
              "            <td>10254</td>\n",
              "            <td>2014-07-11</td>\n",
              "            <td>United Package</td>\n",
              "        </tr>\n",
              "    </tbody>\n",
              "</table>"
            ]
          },
          "metadata": {},
          "execution_count": 107
        }
      ]
    },
    {
      "cell_type": "code",
      "source": [
        "%%sql\n",
        "SELECT CategoryName, COUNT(DISTINCT ProductName)\n",
        "FROM Categories\n",
        "INNER JOIN Products\n",
        "USING(CategoryID)\n",
        "GROUP BY 1\n",
        "ORDER BY 2 DESC"
      ],
      "metadata": {
        "colab": {
          "base_uri": "https://localhost:8080/",
          "height": 246
        },
        "id": "kXECoo6OX0s9",
        "outputId": "086638d5-fee7-48a1-9c1a-be73fc67f2d5"
      },
      "execution_count": null,
      "outputs": [
        {
          "output_type": "stream",
          "name": "stdout",
          "text": [
            " * sqlite:///northwind.sqlite3\n",
            "Done.\n"
          ]
        },
        {
          "output_type": "execute_result",
          "data": {
            "text/plain": [
              "[('Confections', 13),\n",
              " ('Beverages', 12),\n",
              " ('Condiments', 12),\n",
              " ('Seafood', 12),\n",
              " ('Dairy Products', 10),\n",
              " ('Grains/Cereals', 7),\n",
              " ('Meat/Poultry', 6),\n",
              " ('Produce', 5)]"
            ],
            "text/html": [
              "<table>\n",
              "    <thead>\n",
              "        <tr>\n",
              "            <th>CategoryName</th>\n",
              "            <th>COUNT(DISTINCT ProductName)</th>\n",
              "        </tr>\n",
              "    </thead>\n",
              "    <tbody>\n",
              "        <tr>\n",
              "            <td>Confections</td>\n",
              "            <td>13</td>\n",
              "        </tr>\n",
              "        <tr>\n",
              "            <td>Beverages</td>\n",
              "            <td>12</td>\n",
              "        </tr>\n",
              "        <tr>\n",
              "            <td>Condiments</td>\n",
              "            <td>12</td>\n",
              "        </tr>\n",
              "        <tr>\n",
              "            <td>Seafood</td>\n",
              "            <td>12</td>\n",
              "        </tr>\n",
              "        <tr>\n",
              "            <td>Dairy Products</td>\n",
              "            <td>10</td>\n",
              "        </tr>\n",
              "        <tr>\n",
              "            <td>Grains/Cereals</td>\n",
              "            <td>7</td>\n",
              "        </tr>\n",
              "        <tr>\n",
              "            <td>Meat/Poultry</td>\n",
              "            <td>6</td>\n",
              "        </tr>\n",
              "        <tr>\n",
              "            <td>Produce</td>\n",
              "            <td>5</td>\n",
              "        </tr>\n",
              "    </tbody>\n",
              "</table>"
            ]
          },
          "metadata": {},
          "execution_count": 111
        }
      ]
    },
    {
      "cell_type": "code",
      "source": [
        "%%sql\n",
        "SELECT OrderID, FLOOR(UnitPrice*Quantity) AS total_value\n",
        "FROM Orders\n",
        "INNER JOIN OrderDetails\n",
        "USING(OrderID)\n",
        "WHERE DATE(OrderDate) BETWEEN '2015-12-31' AND '2016-12-31'\n",
        "GROUP BY 1\n",
        "HAVING total_value > 12000"
      ],
      "metadata": {
        "colab": {
          "base_uri": "https://localhost:8080/",
          "height": 118
        },
        "id": "ATG9OwEbbqCY",
        "outputId": "1330e4d5-eed8-4511-c53c-1bb6479f6024"
      },
      "execution_count": null,
      "outputs": [
        {
          "output_type": "stream",
          "name": "stdout",
          "text": [
            " * sqlite:///northwind.sqlite3\n",
            "Done.\n"
          ]
        },
        {
          "output_type": "execute_result",
          "data": {
            "text/plain": [
              "[(10865, 15810), (10981, 15810)]"
            ],
            "text/html": [
              "<table>\n",
              "    <thead>\n",
              "        <tr>\n",
              "            <th>OrderID</th>\n",
              "            <th>total_value</th>\n",
              "        </tr>\n",
              "    </thead>\n",
              "    <tbody>\n",
              "        <tr>\n",
              "            <td>10865</td>\n",
              "            <td>15810</td>\n",
              "        </tr>\n",
              "        <tr>\n",
              "            <td>10981</td>\n",
              "            <td>15810</td>\n",
              "        </tr>\n",
              "    </tbody>\n",
              "</table>"
            ]
          },
          "metadata": {},
          "execution_count": 119
        }
      ]
    },
    {
      "cell_type": "code",
      "source": [
        "%%sql\n",
        "SELECT DISTINCT EmployeeID,\n",
        "FirstName,\n",
        "LastName,\n",
        "ProductID,\n",
        "ProductName\n",
        "FROM Employees\n",
        "LEFT JOIN Orders\n",
        "USING(EmployeeID)\n",
        "LEFT JOIN OrderDetails\n",
        "USING(OrderID)\n",
        "LEFT JOIN Products\n",
        "USING(ProductID)\n",
        "WHERE LOWER(FirstName) = 'michael'\n",
        "AND LOWER(LastName) = 'suyama'"
      ],
      "metadata": {
        "colab": {
          "base_uri": "https://localhost:8080/",
          "height": 1000
        },
        "id": "oc10LLvodWhn",
        "outputId": "b38afa52-a2b5-40fa-ea87-37a59578cb93"
      },
      "execution_count": null,
      "outputs": [
        {
          "output_type": "stream",
          "name": "stdout",
          "text": [
            " * sqlite:///northwind.sqlite3\n",
            "Done.\n"
          ]
        },
        {
          "output_type": "execute_result",
          "data": {
            "text/plain": [
              "[(6, 'Michael', 'Suyama', 14, 'Tofu'),\n",
              " (6, 'Michael', 'Suyama', 51, 'Manjimup Dried Apples'),\n",
              " (6, 'Michael', 'Suyama', 2, 'Chang'),\n",
              " (6, 'Michael', 'Suyama', 41, \"Jack's New England Clam Chowder\"),\n",
              " (6, 'Michael', 'Suyama', 33, 'Geitost'),\n",
              " (6, 'Michael', 'Suyama', 20, \"Sir Rodney's Marmalade\"),\n",
              " (6, 'Michael', 'Suyama', 31, 'Gorgonzola Telino'),\n",
              " (6, 'Michael', 'Suyama', 72, 'Mozzarella di Giovanni'),\n",
              " (6, 'Michael', 'Suyama', 71, 'Flotemysost'),\n",
              " (6, 'Michael', 'Suyama', 13, 'Konbu'),\n",
              " (6, 'Michael', 'Suyama', 44, 'Gula Malacca'),\n",
              " (6, 'Michael', 'Suyama', 11, 'Queso Cabrales'),\n",
              " (6, 'Michael', 'Suyama', 16, 'Pavlova'),\n",
              " (6, 'Michael', 'Suyama', 69, 'Gudbrandsdalsost'),\n",
              " (6, 'Michael', 'Suyama', 36, 'Inlagd Sill'),\n",
              " (6, 'Michael', 'Suyama', 59, 'Raclette Courdavault'),\n",
              " (6, 'Michael', 'Suyama', 62, 'Tarte au sucre'),\n",
              " (6, 'Michael', 'Suyama', 1, 'Chai'),\n",
              " (6, 'Michael', 'Suyama', 50, 'Valkoinen suklaa'),\n",
              " (6, 'Michael', 'Suyama', 24, 'Guaraná Fantástica'),\n",
              " (6, 'Michael', 'Suyama', 57, 'Ravioli Angelo'),\n",
              " (6, 'Michael', 'Suyama', 55, 'Pâté chinois'),\n",
              " (6, 'Michael', 'Suyama', 64, 'Wimmers gute Semmelknödel'),\n",
              " (6, 'Michael', 'Suyama', 74, 'Longlife Tofu'),\n",
              " (6, 'Michael', 'Suyama', 35, 'Steeleye Stout'),\n",
              " (6, 'Michael', 'Suyama', 46, 'Spegesild'),\n",
              " (6, 'Michael', 'Suyama', 53, 'Perth Pasties'),\n",
              " (6, 'Michael', 'Suyama', 76, 'Lakkalikööri'),\n",
              " (6, 'Michael', 'Suyama', 12, 'Queso Manchego La Pastora'),\n",
              " (6, 'Michael', 'Suyama', 19, 'Teatime Chocolate Biscuits'),\n",
              " (6, 'Michael', 'Suyama', 52, 'Filo Mix'),\n",
              " (6, 'Michael', 'Suyama', 47, 'Zaanse koeken'),\n",
              " (6, 'Michael', 'Suyama', 15, 'Genen Shouyu'),\n",
              " (6, 'Michael', 'Suyama', 28, 'Rössle Sauerkraut'),\n",
              " (6, 'Michael', 'Suyama', 65, 'Louisiana Fiery Hot Pepper Sauce'),\n",
              " (6, 'Michael', 'Suyama', 29, 'Thüringer Rostbratwurst'),\n",
              " (6, 'Michael', 'Suyama', 75, 'Rhönbräu Klosterbier'),\n",
              " (6, 'Michael', 'Suyama', 10, 'Ikura'),\n",
              " (6, 'Michael', 'Suyama', 56, 'Gnocchi di nonna Alice'),\n",
              " (6, 'Michael', 'Suyama', 60, 'Camembert Pierrot'),\n",
              " (6, 'Michael', 'Suyama', 21, \"Sir Rodney's Scones\"),\n",
              " (6, 'Michael', 'Suyama', 49, 'Maxilaku'),\n",
              " (6, 'Michael', 'Suyama', 39, 'Chartreuse verte'),\n",
              " (6, 'Michael', 'Suyama', 73, 'Röd Kaviar'),\n",
              " (6, 'Michael', 'Suyama', 4, \"Chef Anton's Cajun Seasoning\"),\n",
              " (6, 'Michael', 'Suyama', 48, 'Chocolade'),\n",
              " (6, 'Michael', 'Suyama', 5, \"Chef Anton's Gumbo Mix\"),\n",
              " (6, 'Michael', 'Suyama', 61, \"Sirop d'érable\"),\n",
              " (6, 'Michael', 'Suyama', 77, 'Original Frankfurter grüne Soße'),\n",
              " (6, 'Michael', 'Suyama', 40, 'Boston Crab Meat'),\n",
              " (6, 'Michael', 'Suyama', 63, 'Vegie-spread'),\n",
              " (6, 'Michael', 'Suyama', 34, 'Sasquatch Ale'),\n",
              " (6, 'Michael', 'Suyama', 3, 'Aniseed Syrup'),\n",
              " (6, 'Michael', 'Suyama', 7, \"Uncle Bob's Organic Dried Pears\"),\n",
              " (6, 'Michael', 'Suyama', 54, 'Tourtière'),\n",
              " (6, 'Michael', 'Suyama', 70, 'Outback Lager'),\n",
              " (6, 'Michael', 'Suyama', 26, 'Gumbär Gummibärchen')]"
            ],
            "text/html": [
              "<table>\n",
              "    <thead>\n",
              "        <tr>\n",
              "            <th>EmployeeID</th>\n",
              "            <th>FirstName</th>\n",
              "            <th>LastName</th>\n",
              "            <th>ProductID</th>\n",
              "            <th>ProductName</th>\n",
              "        </tr>\n",
              "    </thead>\n",
              "    <tbody>\n",
              "        <tr>\n",
              "            <td>6</td>\n",
              "            <td>Michael</td>\n",
              "            <td>Suyama</td>\n",
              "            <td>14</td>\n",
              "            <td>Tofu</td>\n",
              "        </tr>\n",
              "        <tr>\n",
              "            <td>6</td>\n",
              "            <td>Michael</td>\n",
              "            <td>Suyama</td>\n",
              "            <td>51</td>\n",
              "            <td>Manjimup Dried Apples</td>\n",
              "        </tr>\n",
              "        <tr>\n",
              "            <td>6</td>\n",
              "            <td>Michael</td>\n",
              "            <td>Suyama</td>\n",
              "            <td>2</td>\n",
              "            <td>Chang</td>\n",
              "        </tr>\n",
              "        <tr>\n",
              "            <td>6</td>\n",
              "            <td>Michael</td>\n",
              "            <td>Suyama</td>\n",
              "            <td>41</td>\n",
              "            <td>Jack&#x27;s New England Clam Chowder</td>\n",
              "        </tr>\n",
              "        <tr>\n",
              "            <td>6</td>\n",
              "            <td>Michael</td>\n",
              "            <td>Suyama</td>\n",
              "            <td>33</td>\n",
              "            <td>Geitost</td>\n",
              "        </tr>\n",
              "        <tr>\n",
              "            <td>6</td>\n",
              "            <td>Michael</td>\n",
              "            <td>Suyama</td>\n",
              "            <td>20</td>\n",
              "            <td>Sir Rodney&#x27;s Marmalade</td>\n",
              "        </tr>\n",
              "        <tr>\n",
              "            <td>6</td>\n",
              "            <td>Michael</td>\n",
              "            <td>Suyama</td>\n",
              "            <td>31</td>\n",
              "            <td>Gorgonzola Telino</td>\n",
              "        </tr>\n",
              "        <tr>\n",
              "            <td>6</td>\n",
              "            <td>Michael</td>\n",
              "            <td>Suyama</td>\n",
              "            <td>72</td>\n",
              "            <td>Mozzarella di Giovanni</td>\n",
              "        </tr>\n",
              "        <tr>\n",
              "            <td>6</td>\n",
              "            <td>Michael</td>\n",
              "            <td>Suyama</td>\n",
              "            <td>71</td>\n",
              "            <td>Flotemysost</td>\n",
              "        </tr>\n",
              "        <tr>\n",
              "            <td>6</td>\n",
              "            <td>Michael</td>\n",
              "            <td>Suyama</td>\n",
              "            <td>13</td>\n",
              "            <td>Konbu</td>\n",
              "        </tr>\n",
              "        <tr>\n",
              "            <td>6</td>\n",
              "            <td>Michael</td>\n",
              "            <td>Suyama</td>\n",
              "            <td>44</td>\n",
              "            <td>Gula Malacca</td>\n",
              "        </tr>\n",
              "        <tr>\n",
              "            <td>6</td>\n",
              "            <td>Michael</td>\n",
              "            <td>Suyama</td>\n",
              "            <td>11</td>\n",
              "            <td>Queso Cabrales</td>\n",
              "        </tr>\n",
              "        <tr>\n",
              "            <td>6</td>\n",
              "            <td>Michael</td>\n",
              "            <td>Suyama</td>\n",
              "            <td>16</td>\n",
              "            <td>Pavlova</td>\n",
              "        </tr>\n",
              "        <tr>\n",
              "            <td>6</td>\n",
              "            <td>Michael</td>\n",
              "            <td>Suyama</td>\n",
              "            <td>69</td>\n",
              "            <td>Gudbrandsdalsost</td>\n",
              "        </tr>\n",
              "        <tr>\n",
              "            <td>6</td>\n",
              "            <td>Michael</td>\n",
              "            <td>Suyama</td>\n",
              "            <td>36</td>\n",
              "            <td>Inlagd Sill</td>\n",
              "        </tr>\n",
              "        <tr>\n",
              "            <td>6</td>\n",
              "            <td>Michael</td>\n",
              "            <td>Suyama</td>\n",
              "            <td>59</td>\n",
              "            <td>Raclette Courdavault</td>\n",
              "        </tr>\n",
              "        <tr>\n",
              "            <td>6</td>\n",
              "            <td>Michael</td>\n",
              "            <td>Suyama</td>\n",
              "            <td>62</td>\n",
              "            <td>Tarte au sucre</td>\n",
              "        </tr>\n",
              "        <tr>\n",
              "            <td>6</td>\n",
              "            <td>Michael</td>\n",
              "            <td>Suyama</td>\n",
              "            <td>1</td>\n",
              "            <td>Chai</td>\n",
              "        </tr>\n",
              "        <tr>\n",
              "            <td>6</td>\n",
              "            <td>Michael</td>\n",
              "            <td>Suyama</td>\n",
              "            <td>50</td>\n",
              "            <td>Valkoinen suklaa</td>\n",
              "        </tr>\n",
              "        <tr>\n",
              "            <td>6</td>\n",
              "            <td>Michael</td>\n",
              "            <td>Suyama</td>\n",
              "            <td>24</td>\n",
              "            <td>Guaraná Fantástica</td>\n",
              "        </tr>\n",
              "        <tr>\n",
              "            <td>6</td>\n",
              "            <td>Michael</td>\n",
              "            <td>Suyama</td>\n",
              "            <td>57</td>\n",
              "            <td>Ravioli Angelo</td>\n",
              "        </tr>\n",
              "        <tr>\n",
              "            <td>6</td>\n",
              "            <td>Michael</td>\n",
              "            <td>Suyama</td>\n",
              "            <td>55</td>\n",
              "            <td>Pâté chinois</td>\n",
              "        </tr>\n",
              "        <tr>\n",
              "            <td>6</td>\n",
              "            <td>Michael</td>\n",
              "            <td>Suyama</td>\n",
              "            <td>64</td>\n",
              "            <td>Wimmers gute Semmelknödel</td>\n",
              "        </tr>\n",
              "        <tr>\n",
              "            <td>6</td>\n",
              "            <td>Michael</td>\n",
              "            <td>Suyama</td>\n",
              "            <td>74</td>\n",
              "            <td>Longlife Tofu</td>\n",
              "        </tr>\n",
              "        <tr>\n",
              "            <td>6</td>\n",
              "            <td>Michael</td>\n",
              "            <td>Suyama</td>\n",
              "            <td>35</td>\n",
              "            <td>Steeleye Stout</td>\n",
              "        </tr>\n",
              "        <tr>\n",
              "            <td>6</td>\n",
              "            <td>Michael</td>\n",
              "            <td>Suyama</td>\n",
              "            <td>46</td>\n",
              "            <td>Spegesild</td>\n",
              "        </tr>\n",
              "        <tr>\n",
              "            <td>6</td>\n",
              "            <td>Michael</td>\n",
              "            <td>Suyama</td>\n",
              "            <td>53</td>\n",
              "            <td>Perth Pasties</td>\n",
              "        </tr>\n",
              "        <tr>\n",
              "            <td>6</td>\n",
              "            <td>Michael</td>\n",
              "            <td>Suyama</td>\n",
              "            <td>76</td>\n",
              "            <td>Lakkalikööri</td>\n",
              "        </tr>\n",
              "        <tr>\n",
              "            <td>6</td>\n",
              "            <td>Michael</td>\n",
              "            <td>Suyama</td>\n",
              "            <td>12</td>\n",
              "            <td>Queso Manchego La Pastora</td>\n",
              "        </tr>\n",
              "        <tr>\n",
              "            <td>6</td>\n",
              "            <td>Michael</td>\n",
              "            <td>Suyama</td>\n",
              "            <td>19</td>\n",
              "            <td>Teatime Chocolate Biscuits</td>\n",
              "        </tr>\n",
              "        <tr>\n",
              "            <td>6</td>\n",
              "            <td>Michael</td>\n",
              "            <td>Suyama</td>\n",
              "            <td>52</td>\n",
              "            <td>Filo Mix</td>\n",
              "        </tr>\n",
              "        <tr>\n",
              "            <td>6</td>\n",
              "            <td>Michael</td>\n",
              "            <td>Suyama</td>\n",
              "            <td>47</td>\n",
              "            <td>Zaanse koeken</td>\n",
              "        </tr>\n",
              "        <tr>\n",
              "            <td>6</td>\n",
              "            <td>Michael</td>\n",
              "            <td>Suyama</td>\n",
              "            <td>15</td>\n",
              "            <td>Genen Shouyu</td>\n",
              "        </tr>\n",
              "        <tr>\n",
              "            <td>6</td>\n",
              "            <td>Michael</td>\n",
              "            <td>Suyama</td>\n",
              "            <td>28</td>\n",
              "            <td>Rössle Sauerkraut</td>\n",
              "        </tr>\n",
              "        <tr>\n",
              "            <td>6</td>\n",
              "            <td>Michael</td>\n",
              "            <td>Suyama</td>\n",
              "            <td>65</td>\n",
              "            <td>Louisiana Fiery Hot Pepper Sauce</td>\n",
              "        </tr>\n",
              "        <tr>\n",
              "            <td>6</td>\n",
              "            <td>Michael</td>\n",
              "            <td>Suyama</td>\n",
              "            <td>29</td>\n",
              "            <td>Thüringer Rostbratwurst</td>\n",
              "        </tr>\n",
              "        <tr>\n",
              "            <td>6</td>\n",
              "            <td>Michael</td>\n",
              "            <td>Suyama</td>\n",
              "            <td>75</td>\n",
              "            <td>Rhönbräu Klosterbier</td>\n",
              "        </tr>\n",
              "        <tr>\n",
              "            <td>6</td>\n",
              "            <td>Michael</td>\n",
              "            <td>Suyama</td>\n",
              "            <td>10</td>\n",
              "            <td>Ikura</td>\n",
              "        </tr>\n",
              "        <tr>\n",
              "            <td>6</td>\n",
              "            <td>Michael</td>\n",
              "            <td>Suyama</td>\n",
              "            <td>56</td>\n",
              "            <td>Gnocchi di nonna Alice</td>\n",
              "        </tr>\n",
              "        <tr>\n",
              "            <td>6</td>\n",
              "            <td>Michael</td>\n",
              "            <td>Suyama</td>\n",
              "            <td>60</td>\n",
              "            <td>Camembert Pierrot</td>\n",
              "        </tr>\n",
              "        <tr>\n",
              "            <td>6</td>\n",
              "            <td>Michael</td>\n",
              "            <td>Suyama</td>\n",
              "            <td>21</td>\n",
              "            <td>Sir Rodney&#x27;s Scones</td>\n",
              "        </tr>\n",
              "        <tr>\n",
              "            <td>6</td>\n",
              "            <td>Michael</td>\n",
              "            <td>Suyama</td>\n",
              "            <td>49</td>\n",
              "            <td>Maxilaku</td>\n",
              "        </tr>\n",
              "        <tr>\n",
              "            <td>6</td>\n",
              "            <td>Michael</td>\n",
              "            <td>Suyama</td>\n",
              "            <td>39</td>\n",
              "            <td>Chartreuse verte</td>\n",
              "        </tr>\n",
              "        <tr>\n",
              "            <td>6</td>\n",
              "            <td>Michael</td>\n",
              "            <td>Suyama</td>\n",
              "            <td>73</td>\n",
              "            <td>Röd Kaviar</td>\n",
              "        </tr>\n",
              "        <tr>\n",
              "            <td>6</td>\n",
              "            <td>Michael</td>\n",
              "            <td>Suyama</td>\n",
              "            <td>4</td>\n",
              "            <td>Chef Anton&#x27;s Cajun Seasoning</td>\n",
              "        </tr>\n",
              "        <tr>\n",
              "            <td>6</td>\n",
              "            <td>Michael</td>\n",
              "            <td>Suyama</td>\n",
              "            <td>48</td>\n",
              "            <td>Chocolade</td>\n",
              "        </tr>\n",
              "        <tr>\n",
              "            <td>6</td>\n",
              "            <td>Michael</td>\n",
              "            <td>Suyama</td>\n",
              "            <td>5</td>\n",
              "            <td>Chef Anton&#x27;s Gumbo Mix</td>\n",
              "        </tr>\n",
              "        <tr>\n",
              "            <td>6</td>\n",
              "            <td>Michael</td>\n",
              "            <td>Suyama</td>\n",
              "            <td>61</td>\n",
              "            <td>Sirop d&#x27;érable</td>\n",
              "        </tr>\n",
              "        <tr>\n",
              "            <td>6</td>\n",
              "            <td>Michael</td>\n",
              "            <td>Suyama</td>\n",
              "            <td>77</td>\n",
              "            <td>Original Frankfurter grüne Soße</td>\n",
              "        </tr>\n",
              "        <tr>\n",
              "            <td>6</td>\n",
              "            <td>Michael</td>\n",
              "            <td>Suyama</td>\n",
              "            <td>40</td>\n",
              "            <td>Boston Crab Meat</td>\n",
              "        </tr>\n",
              "        <tr>\n",
              "            <td>6</td>\n",
              "            <td>Michael</td>\n",
              "            <td>Suyama</td>\n",
              "            <td>63</td>\n",
              "            <td>Vegie-spread</td>\n",
              "        </tr>\n",
              "        <tr>\n",
              "            <td>6</td>\n",
              "            <td>Michael</td>\n",
              "            <td>Suyama</td>\n",
              "            <td>34</td>\n",
              "            <td>Sasquatch Ale</td>\n",
              "        </tr>\n",
              "        <tr>\n",
              "            <td>6</td>\n",
              "            <td>Michael</td>\n",
              "            <td>Suyama</td>\n",
              "            <td>3</td>\n",
              "            <td>Aniseed Syrup</td>\n",
              "        </tr>\n",
              "        <tr>\n",
              "            <td>6</td>\n",
              "            <td>Michael</td>\n",
              "            <td>Suyama</td>\n",
              "            <td>7</td>\n",
              "            <td>Uncle Bob&#x27;s Organic Dried Pears</td>\n",
              "        </tr>\n",
              "        <tr>\n",
              "            <td>6</td>\n",
              "            <td>Michael</td>\n",
              "            <td>Suyama</td>\n",
              "            <td>54</td>\n",
              "            <td>Tourtière</td>\n",
              "        </tr>\n",
              "        <tr>\n",
              "            <td>6</td>\n",
              "            <td>Michael</td>\n",
              "            <td>Suyama</td>\n",
              "            <td>70</td>\n",
              "            <td>Outback Lager</td>\n",
              "        </tr>\n",
              "        <tr>\n",
              "            <td>6</td>\n",
              "            <td>Michael</td>\n",
              "            <td>Suyama</td>\n",
              "            <td>26</td>\n",
              "            <td>Gumbär Gummibärchen</td>\n",
              "        </tr>\n",
              "    </tbody>\n",
              "</table>"
            ]
          },
          "metadata": {},
          "execution_count": 125
        }
      ]
    },
    {
      "cell_type": "code",
      "source": [
        "%%sql\n",
        "SELECT CompanyName, OrderId\n",
        "FROM Customers\n",
        "LEFT JOIN Orders\n",
        "USING(CustomerId)\n",
        "WHERE OrderId IS NULL"
      ],
      "metadata": {
        "colab": {
          "base_uri": "https://localhost:8080/",
          "height": 118
        },
        "id": "24ZAWlqQlbRr",
        "outputId": "ae2a52c5-2dd5-4082-a601-24a7759fa850"
      },
      "execution_count": null,
      "outputs": [
        {
          "output_type": "stream",
          "name": "stdout",
          "text": [
            " * sqlite:///northwind.sqlite3\n",
            "Done.\n"
          ]
        },
        {
          "output_type": "execute_result",
          "data": {
            "text/plain": [
              "[('FISSA Fabrica Inter. Salchichas S.A.', None), ('Paris spécialités', None)]"
            ],
            "text/html": [
              "<table>\n",
              "    <thead>\n",
              "        <tr>\n",
              "            <th>CompanyName</th>\n",
              "            <th>OrderID</th>\n",
              "        </tr>\n",
              "    </thead>\n",
              "    <tbody>\n",
              "        <tr>\n",
              "            <td>FISSA Fabrica Inter. Salchichas S.A.</td>\n",
              "            <td>None</td>\n",
              "        </tr>\n",
              "        <tr>\n",
              "            <td>Paris spécialités</td>\n",
              "            <td>None</td>\n",
              "        </tr>\n",
              "    </tbody>\n",
              "</table>"
            ]
          },
          "metadata": {},
          "execution_count": 127
        }
      ]
    },
    {
      "cell_type": "code",
      "source": [
        "%%sql\n",
        "SELECT DISTINCT CompanyName AS customer\n",
        "FROM customers\n",
        "LEFT JOIN Orders\n",
        "USING(CustomerId)\n",
        "WHERE EmployeeId != 4"
      ],
      "metadata": {
        "colab": {
          "base_uri": "https://localhost:8080/",
          "height": 1000
        },
        "id": "CfSAQFiXmT7P",
        "outputId": "058b4708-5b41-4cbf-8df5-29d6be83b870"
      },
      "execution_count": null,
      "outputs": [
        {
          "output_type": "stream",
          "name": "stdout",
          "text": [
            " * sqlite:///northwind.sqlite3\n",
            "Done.\n"
          ]
        },
        {
          "output_type": "execute_result",
          "data": {
            "text/plain": [
              "[('Vins et alcools Chevalier',),\n",
              " ('Toms Spezialitäten',),\n",
              " ('Victuailles en stock',),\n",
              " ('Hanari Carnes',),\n",
              " ('Chop-suey Chinese',),\n",
              " ('Richter Supermarkt',),\n",
              " ('Wellington Importadora',),\n",
              " ('Ernst Handel',),\n",
              " ('Rattlesnake Canyon Grocery',),\n",
              " ('Folk och fä HB',),\n",
              " ('Blondesddsl père et fils',),\n",
              " ('Wartian Herkku',),\n",
              " ('GROSELLA-Restaurante',),\n",
              " ('White Clover Markets',),\n",
              " ('Split Rail Beer & Ale',),\n",
              " ('QUICK-Stop',),\n",
              " ('Magazzini Alimentari Riuniti',),\n",
              " ('Tortuga Restaurante',),\n",
              " ('Morgenstern Gesundkost',),\n",
              " ('Berglunds snabbköp',),\n",
              " ('Lehmanns Marktstand',),\n",
              " ('LILA-Supermercado',),\n",
              " ('Ricardo Adocicados',),\n",
              " (\"B's Beverages\",),\n",
              " ('Comércio Mineiro',),\n",
              " ('Que Delícia',),\n",
              " ('Tradição Hipermercados',),\n",
              " ('Hungry Owl All-Night Grocers',),\n",
              " ('Die Wandernde Kuh',),\n",
              " ('Godos Cocina Típica',),\n",
              " ('Old World Delicatessen',),\n",
              " ('Romero y tomillo',),\n",
              " ('Lonesome Pine Restaurant',),\n",
              " ('Ana Trujillo Emparedados y helados',),\n",
              " ('The Big Cheese',),\n",
              " ('Du monde entier',),\n",
              " ('Island Trading',),\n",
              " ('Pericles Comidas clásicas',),\n",
              " ('Save-a-lot Markets',),\n",
              " ('Königlich Essen',),\n",
              " (\"Bon app'\",),\n",
              " ('Mère Paillarde',),\n",
              " ('Princesa Isabel Vinhos',),\n",
              " ('Simons bistro',),\n",
              " (\"La maison d'Asie\",),\n",
              " ('Furia Bacalhau e Frutos do Mar',),\n",
              " ('Piccolo und mehr',),\n",
              " ('Around the Horn',),\n",
              " ('Seven Seas Imports',),\n",
              " ('Eastern Connection',),\n",
              " ('Antonio Moreno Taquería',),\n",
              " ('Galería del gastrónomo',),\n",
              " ('Vaffeljernet',),\n",
              " ('Queen Cozinha',),\n",
              " ('Wolski  Zajazd',),\n",
              " ('Hungry Coyote Import Store',),\n",
              " ('Familia Arquibaldo',),\n",
              " ('Santé Gourmet',),\n",
              " ('Drachenblut Delikatessen',),\n",
              " ('HILARION-Abastos',),\n",
              " ('Frankenversand',),\n",
              " ('LINO-Delicateses',),\n",
              " ('Ottilies Käseladen',),\n",
              " ('Folies gourmandes',),\n",
              " ('Océano Atlántico Ltda.',),\n",
              " ('Bottom-Dollar Markets',),\n",
              " ('Franchi S.p.A.',),\n",
              " ('Gourmet Lanchonetes',),\n",
              " ('Reggiani Caseifici',),\n",
              " ('Consolidated Holdings',),\n",
              " ('Suprêmes délices',),\n",
              " ('Lazy K Kountry Store',),\n",
              " ('Laughing Bacchus Wine Cellars',),\n",
              " ('Blauer See Delikatessen',),\n",
              " ('North/South',),\n",
              " ('Cactus Comidas para llevar',),\n",
              " ('Great Lakes Food Market',),\n",
              " ('Maison Dewey',),\n",
              " (\"Trail's Head Gourmet Provisioners\",),\n",
              " (\"Let's Stop N Shop\",),\n",
              " ('Wilman Kala',),\n",
              " ('Alfreds Futterkiste',),\n",
              " ('France restauration',),\n",
              " ('Spécialités du monde',),\n",
              " ('The Cracker Box',),\n",
              " ('Rancho grande',),\n",
              " (\"La corne d'abondance\",),\n",
              " ('Bólido Comidas preparadas',)]"
            ],
            "text/html": [
              "<table>\n",
              "    <thead>\n",
              "        <tr>\n",
              "            <th>customer</th>\n",
              "        </tr>\n",
              "    </thead>\n",
              "    <tbody>\n",
              "        <tr>\n",
              "            <td>Vins et alcools Chevalier</td>\n",
              "        </tr>\n",
              "        <tr>\n",
              "            <td>Toms Spezialitäten</td>\n",
              "        </tr>\n",
              "        <tr>\n",
              "            <td>Victuailles en stock</td>\n",
              "        </tr>\n",
              "        <tr>\n",
              "            <td>Hanari Carnes</td>\n",
              "        </tr>\n",
              "        <tr>\n",
              "            <td>Chop-suey Chinese</td>\n",
              "        </tr>\n",
              "        <tr>\n",
              "            <td>Richter Supermarkt</td>\n",
              "        </tr>\n",
              "        <tr>\n",
              "            <td>Wellington Importadora</td>\n",
              "        </tr>\n",
              "        <tr>\n",
              "            <td>Ernst Handel</td>\n",
              "        </tr>\n",
              "        <tr>\n",
              "            <td>Rattlesnake Canyon Grocery</td>\n",
              "        </tr>\n",
              "        <tr>\n",
              "            <td>Folk och fä HB</td>\n",
              "        </tr>\n",
              "        <tr>\n",
              "            <td>Blondesddsl père et fils</td>\n",
              "        </tr>\n",
              "        <tr>\n",
              "            <td>Wartian Herkku</td>\n",
              "        </tr>\n",
              "        <tr>\n",
              "            <td>GROSELLA-Restaurante</td>\n",
              "        </tr>\n",
              "        <tr>\n",
              "            <td>White Clover Markets</td>\n",
              "        </tr>\n",
              "        <tr>\n",
              "            <td>Split Rail Beer &amp; Ale</td>\n",
              "        </tr>\n",
              "        <tr>\n",
              "            <td>QUICK-Stop</td>\n",
              "        </tr>\n",
              "        <tr>\n",
              "            <td>Magazzini Alimentari Riuniti</td>\n",
              "        </tr>\n",
              "        <tr>\n",
              "            <td>Tortuga Restaurante</td>\n",
              "        </tr>\n",
              "        <tr>\n",
              "            <td>Morgenstern Gesundkost</td>\n",
              "        </tr>\n",
              "        <tr>\n",
              "            <td>Berglunds snabbköp</td>\n",
              "        </tr>\n",
              "        <tr>\n",
              "            <td>Lehmanns Marktstand</td>\n",
              "        </tr>\n",
              "        <tr>\n",
              "            <td>LILA-Supermercado</td>\n",
              "        </tr>\n",
              "        <tr>\n",
              "            <td>Ricardo Adocicados</td>\n",
              "        </tr>\n",
              "        <tr>\n",
              "            <td>B&#x27;s Beverages</td>\n",
              "        </tr>\n",
              "        <tr>\n",
              "            <td>Comércio Mineiro</td>\n",
              "        </tr>\n",
              "        <tr>\n",
              "            <td>Que Delícia</td>\n",
              "        </tr>\n",
              "        <tr>\n",
              "            <td>Tradição Hipermercados</td>\n",
              "        </tr>\n",
              "        <tr>\n",
              "            <td>Hungry Owl All-Night Grocers</td>\n",
              "        </tr>\n",
              "        <tr>\n",
              "            <td>Die Wandernde Kuh</td>\n",
              "        </tr>\n",
              "        <tr>\n",
              "            <td>Godos Cocina Típica</td>\n",
              "        </tr>\n",
              "        <tr>\n",
              "            <td>Old World Delicatessen</td>\n",
              "        </tr>\n",
              "        <tr>\n",
              "            <td>Romero y tomillo</td>\n",
              "        </tr>\n",
              "        <tr>\n",
              "            <td>Lonesome Pine Restaurant</td>\n",
              "        </tr>\n",
              "        <tr>\n",
              "            <td>Ana Trujillo Emparedados y helados</td>\n",
              "        </tr>\n",
              "        <tr>\n",
              "            <td>The Big Cheese</td>\n",
              "        </tr>\n",
              "        <tr>\n",
              "            <td>Du monde entier</td>\n",
              "        </tr>\n",
              "        <tr>\n",
              "            <td>Island Trading</td>\n",
              "        </tr>\n",
              "        <tr>\n",
              "            <td>Pericles Comidas clásicas</td>\n",
              "        </tr>\n",
              "        <tr>\n",
              "            <td>Save-a-lot Markets</td>\n",
              "        </tr>\n",
              "        <tr>\n",
              "            <td>Königlich Essen</td>\n",
              "        </tr>\n",
              "        <tr>\n",
              "            <td>Bon app&#x27;</td>\n",
              "        </tr>\n",
              "        <tr>\n",
              "            <td>Mère Paillarde</td>\n",
              "        </tr>\n",
              "        <tr>\n",
              "            <td>Princesa Isabel Vinhos</td>\n",
              "        </tr>\n",
              "        <tr>\n",
              "            <td>Simons bistro</td>\n",
              "        </tr>\n",
              "        <tr>\n",
              "            <td>La maison d&#x27;Asie</td>\n",
              "        </tr>\n",
              "        <tr>\n",
              "            <td>Furia Bacalhau e Frutos do Mar</td>\n",
              "        </tr>\n",
              "        <tr>\n",
              "            <td>Piccolo und mehr</td>\n",
              "        </tr>\n",
              "        <tr>\n",
              "            <td>Around the Horn</td>\n",
              "        </tr>\n",
              "        <tr>\n",
              "            <td>Seven Seas Imports</td>\n",
              "        </tr>\n",
              "        <tr>\n",
              "            <td>Eastern Connection</td>\n",
              "        </tr>\n",
              "        <tr>\n",
              "            <td>Antonio Moreno Taquería</td>\n",
              "        </tr>\n",
              "        <tr>\n",
              "            <td>Galería del gastrónomo</td>\n",
              "        </tr>\n",
              "        <tr>\n",
              "            <td>Vaffeljernet</td>\n",
              "        </tr>\n",
              "        <tr>\n",
              "            <td>Queen Cozinha</td>\n",
              "        </tr>\n",
              "        <tr>\n",
              "            <td>Wolski  Zajazd</td>\n",
              "        </tr>\n",
              "        <tr>\n",
              "            <td>Hungry Coyote Import Store</td>\n",
              "        </tr>\n",
              "        <tr>\n",
              "            <td>Familia Arquibaldo</td>\n",
              "        </tr>\n",
              "        <tr>\n",
              "            <td>Santé Gourmet</td>\n",
              "        </tr>\n",
              "        <tr>\n",
              "            <td>Drachenblut Delikatessen</td>\n",
              "        </tr>\n",
              "        <tr>\n",
              "            <td>HILARION-Abastos</td>\n",
              "        </tr>\n",
              "        <tr>\n",
              "            <td>Frankenversand</td>\n",
              "        </tr>\n",
              "        <tr>\n",
              "            <td>LINO-Delicateses</td>\n",
              "        </tr>\n",
              "        <tr>\n",
              "            <td>Ottilies Käseladen</td>\n",
              "        </tr>\n",
              "        <tr>\n",
              "            <td>Folies gourmandes</td>\n",
              "        </tr>\n",
              "        <tr>\n",
              "            <td>Océano Atlántico Ltda.</td>\n",
              "        </tr>\n",
              "        <tr>\n",
              "            <td>Bottom-Dollar Markets</td>\n",
              "        </tr>\n",
              "        <tr>\n",
              "            <td>Franchi S.p.A.</td>\n",
              "        </tr>\n",
              "        <tr>\n",
              "            <td>Gourmet Lanchonetes</td>\n",
              "        </tr>\n",
              "        <tr>\n",
              "            <td>Reggiani Caseifici</td>\n",
              "        </tr>\n",
              "        <tr>\n",
              "            <td>Consolidated Holdings</td>\n",
              "        </tr>\n",
              "        <tr>\n",
              "            <td>Suprêmes délices</td>\n",
              "        </tr>\n",
              "        <tr>\n",
              "            <td>Lazy K Kountry Store</td>\n",
              "        </tr>\n",
              "        <tr>\n",
              "            <td>Laughing Bacchus Wine Cellars</td>\n",
              "        </tr>\n",
              "        <tr>\n",
              "            <td>Blauer See Delikatessen</td>\n",
              "        </tr>\n",
              "        <tr>\n",
              "            <td>North/South</td>\n",
              "        </tr>\n",
              "        <tr>\n",
              "            <td>Cactus Comidas para llevar</td>\n",
              "        </tr>\n",
              "        <tr>\n",
              "            <td>Great Lakes Food Market</td>\n",
              "        </tr>\n",
              "        <tr>\n",
              "            <td>Maison Dewey</td>\n",
              "        </tr>\n",
              "        <tr>\n",
              "            <td>Trail&#x27;s Head Gourmet Provisioners</td>\n",
              "        </tr>\n",
              "        <tr>\n",
              "            <td>Let&#x27;s Stop N Shop</td>\n",
              "        </tr>\n",
              "        <tr>\n",
              "            <td>Wilman Kala</td>\n",
              "        </tr>\n",
              "        <tr>\n",
              "            <td>Alfreds Futterkiste</td>\n",
              "        </tr>\n",
              "        <tr>\n",
              "            <td>France restauration</td>\n",
              "        </tr>\n",
              "        <tr>\n",
              "            <td>Spécialités du monde</td>\n",
              "        </tr>\n",
              "        <tr>\n",
              "            <td>The Cracker Box</td>\n",
              "        </tr>\n",
              "        <tr>\n",
              "            <td>Rancho grande</td>\n",
              "        </tr>\n",
              "        <tr>\n",
              "            <td>La corne d&#x27;abondance</td>\n",
              "        </tr>\n",
              "        <tr>\n",
              "            <td>Bólido Comidas preparadas</td>\n",
              "        </tr>\n",
              "    </tbody>\n",
              "</table>"
            ]
          },
          "metadata": {},
          "execution_count": 135
        }
      ]
    },
    {
      "cell_type": "code",
      "source": [
        "%%sql\n",
        "SELECT CompanyName, OrderId, SUM(UnitPrice*Quantity)\n",
        "FROM Customers\n",
        "INNER JOIN Orders\n",
        "USING(CustomerID)\n",
        "INNER JOIN OrderDetails\n",
        "USING(OrderID)\n",
        "WHERE UnitPrice*Quantity >= 15000\n",
        "AND DATE(OrderDate) BETWEEN '2015-12-31' AND '2016-12-31'\n",
        "GROUP BY 1"
      ],
      "metadata": {
        "colab": {
          "base_uri": "https://localhost:8080/",
          "height": 118
        },
        "id": "nl1HYgLNm4Ft",
        "outputId": "fedbd4eb-da1f-4089-b6e5-d41406f7e781"
      },
      "execution_count": null,
      "outputs": [
        {
          "output_type": "stream",
          "name": "stdout",
          "text": [
            " * sqlite:///northwind.sqlite3\n",
            "Done.\n"
          ]
        },
        {
          "output_type": "execute_result",
          "data": {
            "text/plain": [
              "[('Hanari Carnes', 10981, 15810.0), ('QUICK-Stop', 10865, 15810.0)]"
            ],
            "text/html": [
              "<table>\n",
              "    <thead>\n",
              "        <tr>\n",
              "            <th>CompanyName</th>\n",
              "            <th>OrderID</th>\n",
              "            <th>SUM(UnitPrice*Quantity)</th>\n",
              "        </tr>\n",
              "    </thead>\n",
              "    <tbody>\n",
              "        <tr>\n",
              "            <td>Hanari Carnes</td>\n",
              "            <td>10981</td>\n",
              "            <td>15810.0</td>\n",
              "        </tr>\n",
              "        <tr>\n",
              "            <td>QUICK-Stop</td>\n",
              "            <td>10865</td>\n",
              "            <td>15810.0</td>\n",
              "        </tr>\n",
              "    </tbody>\n",
              "</table>"
            ]
          },
          "metadata": {},
          "execution_count": 153
        }
      ]
    },
    {
      "cell_type": "code",
      "source": [
        "%%sql\n",
        "WITH cte_oldest_emp AS (\n",
        "  SELECT EmployeeID, FirstName, DATE(BirthDate) AS B_day\n",
        "  FROM Employees\n",
        "  ORDER BY B_day\n",
        "  LIMIT 1\n",
        ")\n",
        "SELECT EmployeeID, FirstName, COUNT(OrderID)\n",
        "FROM Orders\n",
        "INNER JOIN cte_oldest_emp\n",
        "USING(EmployeeID)\n",
        "GROUP BY 1, 2"
      ],
      "metadata": {
        "colab": {
          "base_uri": "https://localhost:8080/",
          "height": 96
        },
        "id": "TYlhhZm9oRbt",
        "outputId": "4421f7a8-4bd0-4bf8-ca54-3d1907e7a8b1"
      },
      "execution_count": null,
      "outputs": [
        {
          "output_type": "stream",
          "name": "stdout",
          "text": [
            " * sqlite:///northwind.sqlite3\n",
            "Done.\n"
          ]
        },
        {
          "output_type": "execute_result",
          "data": {
            "text/plain": [
              "[(4, 'Margaret', 156)]"
            ],
            "text/html": [
              "<table>\n",
              "    <thead>\n",
              "        <tr>\n",
              "            <th>EmployeeID</th>\n",
              "            <th>FirstName</th>\n",
              "            <th>COUNT(OrderID)</th>\n",
              "        </tr>\n",
              "    </thead>\n",
              "    <tbody>\n",
              "        <tr>\n",
              "            <td>4</td>\n",
              "            <td>Margaret</td>\n",
              "            <td>156</td>\n",
              "        </tr>\n",
              "    </tbody>\n",
              "</table>"
            ]
          },
          "metadata": {},
          "execution_count": 168
        }
      ]
    },
    {
      "cell_type": "code",
      "source": [
        " %%sql\n",
        " WITH cte_total AS (\n",
        "  SELECT EmployeeID,\n",
        "  COUNT(OrderID) AS total_number_of_orders,\n",
        "  RequiredDate,\n",
        "  ShippedDate,\n",
        "  SUM(CASE WHEN RequiredDate <= ShippedDate THEN 1 END) AS late_orders\n",
        "  FROM Orders\n",
        "  GROUP BY 1\n",
        "  HAVING SUM(CASE WHEN RequiredDate <= ShippedDate THEN 1 END) > 0\n",
        " )\n",
        "\n",
        " SELECT EmployeeID,\n",
        " LastName,\n",
        " total_number_of_orders,\n",
        " late_orders,\n",
        " ROUND(late_orders/total_number_of_orders, 2) AS perc_of_later_orders\n",
        " FROM cte_total\n",
        " INNER JOIN Employees\n",
        " USING(EmployeeID)"
      ],
      "metadata": {
        "colab": {
          "base_uri": "https://localhost:8080/",
          "height": 246
        },
        "id": "1k5MQ6MlqL6E",
        "outputId": "bb771e72-d62d-43d5-ae5c-d5060e5ef935"
      },
      "execution_count": null,
      "outputs": [
        {
          "output_type": "stream",
          "name": "stdout",
          "text": [
            " * sqlite:///northwind.sqlite3\n",
            "Done.\n"
          ]
        },
        {
          "output_type": "execute_result",
          "data": {
            "text/plain": [
              "[(1, 'Davolio', 123, 3, 0.0),\n",
              " (2, 'Fuller', 96, 4, 0.0),\n",
              " (3, 'Leverling', 127, 5, 0.0),\n",
              " (4, 'Peacock', 156, 10, 0.0),\n",
              " (6, 'Suyama', 67, 3, 0.0),\n",
              " (7, 'King', 72, 4, 0.0),\n",
              " (8, 'Callahan', 104, 5, 0.0),\n",
              " (9, 'Dodsworth', 43, 5, 0.0)]"
            ],
            "text/html": [
              "<table>\n",
              "    <thead>\n",
              "        <tr>\n",
              "            <th>EmployeeID</th>\n",
              "            <th>LastName</th>\n",
              "            <th>total_number_of_orders</th>\n",
              "            <th>late_orders</th>\n",
              "            <th>perc_of_later_orders</th>\n",
              "        </tr>\n",
              "    </thead>\n",
              "    <tbody>\n",
              "        <tr>\n",
              "            <td>1</td>\n",
              "            <td>Davolio</td>\n",
              "            <td>123</td>\n",
              "            <td>3</td>\n",
              "            <td>0.0</td>\n",
              "        </tr>\n",
              "        <tr>\n",
              "            <td>2</td>\n",
              "            <td>Fuller</td>\n",
              "            <td>96</td>\n",
              "            <td>4</td>\n",
              "            <td>0.0</td>\n",
              "        </tr>\n",
              "        <tr>\n",
              "            <td>3</td>\n",
              "            <td>Leverling</td>\n",
              "            <td>127</td>\n",
              "            <td>5</td>\n",
              "            <td>0.0</td>\n",
              "        </tr>\n",
              "        <tr>\n",
              "            <td>4</td>\n",
              "            <td>Peacock</td>\n",
              "            <td>156</td>\n",
              "            <td>10</td>\n",
              "            <td>0.0</td>\n",
              "        </tr>\n",
              "        <tr>\n",
              "            <td>6</td>\n",
              "            <td>Suyama</td>\n",
              "            <td>67</td>\n",
              "            <td>3</td>\n",
              "            <td>0.0</td>\n",
              "        </tr>\n",
              "        <tr>\n",
              "            <td>7</td>\n",
              "            <td>King</td>\n",
              "            <td>72</td>\n",
              "            <td>4</td>\n",
              "            <td>0.0</td>\n",
              "        </tr>\n",
              "        <tr>\n",
              "            <td>8</td>\n",
              "            <td>Callahan</td>\n",
              "            <td>104</td>\n",
              "            <td>5</td>\n",
              "            <td>0.0</td>\n",
              "        </tr>\n",
              "        <tr>\n",
              "            <td>9</td>\n",
              "            <td>Dodsworth</td>\n",
              "            <td>43</td>\n",
              "            <td>5</td>\n",
              "            <td>0.0</td>\n",
              "        </tr>\n",
              "    </tbody>\n",
              "</table>"
            ]
          },
          "metadata": {},
          "execution_count": 28
        }
      ]
    },
    {
      "cell_type": "code",
      "source": [
        "%%sql\n",
        "SELECT sql\n",
        "FROM sqlite_master\n",
        "WHERE type='table' AND name IN ('Orders', 'Customers')"
      ],
      "metadata": {
        "colab": {
          "base_uri": "https://localhost:8080/",
          "height": 656
        },
        "id": "FngKuK6vmJVY",
        "outputId": "ca799039-1970-43a8-96d9-82c882e59dc0"
      },
      "execution_count": null,
      "outputs": [
        {
          "output_type": "stream",
          "name": "stdout",
          "text": [
            " * sqlite:///northwind.sqlite3\n",
            "Done.\n"
          ]
        },
        {
          "output_type": "execute_result",
          "data": {
            "text/plain": [
              "[('CREATE TABLE [Customers] (\\n  [CustomerID] nchar(5) NOT NULL\\n, [CompanyName] nvarchar(40) NOT NULL COLLATE NOCASE\\n, [ContactName] nvarchar(30) NULL ... (291 characters truncated) ... CASE\\n, [Phone] nvarchar(24) NULL COLLATE NOCASE\\n, [Fax] nvarchar(24) NULL COLLATE NOCASE\\n, CONSTRAINT [PK_Customers] PRIMARY KEY ([CustomerID])\\n)',),\n",
              " ('CREATE TABLE [Orders] (\\n  [OrderID] INTEGER PRIMARY KEY AUTOINCREMENT NOT NULL\\n, [CustomerID] nchar(5) NOT NULL COLLATE NOCASE\\n, [EmployeeID] int  ... (719 characters truncated) ... E NO ACTION\\n, CONSTRAINT [FK_Orders_Shippers] FOREIGN KEY ([ShipVia]) REFERENCES [Shippers] ([ShipperID]) ON DELETE NO ACTION ON UPDATE NO ACTION\\n)',)]"
            ],
            "text/html": [
              "<table>\n",
              "    <thead>\n",
              "        <tr>\n",
              "            <th>sql</th>\n",
              "        </tr>\n",
              "    </thead>\n",
              "    <tbody>\n",
              "        <tr>\n",
              "            <td>CREATE TABLE [Customers] (<br>  [CustomerID] nchar(5) NOT NULL<br>, [CompanyName] nvarchar(40) NOT NULL COLLATE NOCASE<br>, [ContactName] nvarchar(30) NULL COLLATE NOCASE<br>, [ContactTitle] nvarchar(30) NULL COLLATE NOCASE<br>, [Address] nvarchar(60) NULL COLLATE NOCASE<br>, [City] nvarchar(15) NULL COLLATE NOCASE<br>, [Region] nvarchar(15) NULL COLLATE NOCASE<br>, [PostalCode] nvarchar(10) NULL COLLATE NOCASE<br>, [Country] nvarchar(15) NULL COLLATE NOCASE<br>, [Phone] nvarchar(24) NULL COLLATE NOCASE<br>, [Fax] nvarchar(24) NULL COLLATE NOCASE<br>, CONSTRAINT [PK_Customers] PRIMARY KEY ([CustomerID])<br>)</td>\n",
              "        </tr>\n",
              "        <tr>\n",
              "            <td>CREATE TABLE [Orders] (<br>  [OrderID] INTEGER PRIMARY KEY AUTOINCREMENT NOT NULL<br>, [CustomerID] nchar(5) NOT NULL COLLATE NOCASE<br>, [EmployeeID] int NULL<br>, [OrderDate] datetime NULL<br>, [RequiredDate] datetime NULL<br>, [ShippedDate] datetime NULL<br>, [ShipVia] int NULL<br>, [Freight] money DEFAULT 0 NULL<br>, [ShipName] nvarchar(40) NULL COLLATE NOCASE<br>, [ShipAddress] nvarchar(60) NULL COLLATE NOCASE<br>, [ShipCity] nvarchar(15) NULL COLLATE NOCASE<br>, [ShipRegion] nvarchar(15) NULL COLLATE NOCASE<br>, [ShipPostalCode] nvarchar(10) NULL COLLATE NOCASE<br>, [ShipCountry] nvarchar(15) NULL COLLATE NOCASE<br>, CONSTRAINT [FK_Orders_Customers] FOREIGN KEY ([CustomerID]) REFERENCES [Customers] ([CustomerID]) ON DELETE NO ACTION ON UPDATE NO ACTION<br>, CONSTRAINT [FK_Orders_Employees] FOREIGN KEY ([EmployeeID]) REFERENCES [Employees] ([EmployeeID]) ON DELETE NO ACTION ON UPDATE NO ACTION<br>, CONSTRAINT [FK_Orders_Shippers] FOREIGN KEY ([ShipVia]) REFERENCES [Shippers] ([ShipperID]) ON DELETE NO ACTION ON UPDATE NO ACTION<br>)</td>\n",
              "        </tr>\n",
              "    </tbody>\n",
              "</table>"
            ]
          },
          "metadata": {},
          "execution_count": 43
        }
      ]
    },
    {
      "cell_type": "code",
      "source": [
        "%%sql\n",
        "with cte_aa AS (SELECT CompanyName,\n",
        "OrderId,\n",
        "DATE(OrderDate) AS actual_order_date,\n",
        "DATE(DATE(OrderDate), '5 Day') AS next_5_days,\n",
        "DATE(DATE(OrderDate), '-5 Day') AS prev_5_days\n",
        "FROM Orders\n",
        "INNER JOIN Customers\n",
        "USING(CustomerID)\n",
        "WHERE CompanyName = 'Hanari Carnes')\n",
        "\n",
        "SELECT\n",
        "CompanyName, OrderID, actual_order_date, next_5_days, prev_5_days, COUNT(OrderID) OVER (ORDER BY actual_order_date ROWS BETWEEN 5 PRECEDING AND 5 FOLLOWING)\n",
        "FROM cte_aa"
      ],
      "metadata": {
        "colab": {
          "base_uri": "https://localhost:8080/",
          "height": 374
        },
        "id": "QWJGA9Nqhm9p",
        "outputId": "f18c3231-64d0-4cf7-a745-6dedc2a3eca3"
      },
      "execution_count": null,
      "outputs": [
        {
          "output_type": "stream",
          "name": "stdout",
          "text": [
            " * sqlite:///northwind.sqlite3\n",
            "Done.\n"
          ]
        },
        {
          "output_type": "execute_result",
          "data": {
            "text/plain": [
              "[('Hanari Carnes', 10250, '2014-07-08', '2014-07-13', '2014-07-03', None),\n",
              " ('Hanari Carnes', 10253, '2014-07-10', '2014-07-15', '2014-07-05', 10250),\n",
              " ('Hanari Carnes', 10541, '2015-05-19', '2015-05-24', '2015-05-14', 10253),\n",
              " ('Hanari Carnes', 10645, '2015-08-26', '2015-08-31', '2015-08-21', 10541),\n",
              " ('Hanari Carnes', 10690, '2015-10-02', '2015-10-07', '2015-09-27', 10645),\n",
              " ('Hanari Carnes', 10770, '2015-12-09', '2015-12-14', '2015-12-04', 10690),\n",
              " ('Hanari Carnes', 10783, '2015-12-18', '2015-12-23', '2015-12-13', 10770),\n",
              " ('Hanari Carnes', 10886, '2016-02-13', '2016-02-18', '2016-02-08', 10783),\n",
              " ('Hanari Carnes', 10903, '2016-02-24', '2016-02-29', '2016-02-19', 10886),\n",
              " ('Hanari Carnes', 10922, '2016-03-03', '2016-03-08', '2016-02-27', 10903),\n",
              " ('Hanari Carnes', 10925, '2016-03-04', '2016-03-09', '2016-02-28', 10922),\n",
              " ('Hanari Carnes', 10981, '2016-03-27', '2016-04-01', '2016-03-22', 10925),\n",
              " ('Hanari Carnes', 11022, '2016-04-14', '2016-04-19', '2016-04-09', 10981),\n",
              " ('Hanari Carnes', 11052, '2016-04-27', '2016-05-02', '2016-04-22', 11022)]"
            ],
            "text/html": [
              "<table>\n",
              "    <thead>\n",
              "        <tr>\n",
              "            <th>CompanyName</th>\n",
              "            <th>OrderId</th>\n",
              "            <th>actual_order_date</th>\n",
              "            <th>next_5_days</th>\n",
              "            <th>prev_5_days</th>\n",
              "            <th>LAG(OrderID) OVER (ORDER BY actual_order_date ROWS BETWEEN 5 PRECEDING AND 5 FOLLOWING)</th>\n",
              "        </tr>\n",
              "    </thead>\n",
              "    <tbody>\n",
              "        <tr>\n",
              "            <td>Hanari Carnes</td>\n",
              "            <td>10250</td>\n",
              "            <td>2014-07-08</td>\n",
              "            <td>2014-07-13</td>\n",
              "            <td>2014-07-03</td>\n",
              "            <td>None</td>\n",
              "        </tr>\n",
              "        <tr>\n",
              "            <td>Hanari Carnes</td>\n",
              "            <td>10253</td>\n",
              "            <td>2014-07-10</td>\n",
              "            <td>2014-07-15</td>\n",
              "            <td>2014-07-05</td>\n",
              "            <td>10250</td>\n",
              "        </tr>\n",
              "        <tr>\n",
              "            <td>Hanari Carnes</td>\n",
              "            <td>10541</td>\n",
              "            <td>2015-05-19</td>\n",
              "            <td>2015-05-24</td>\n",
              "            <td>2015-05-14</td>\n",
              "            <td>10253</td>\n",
              "        </tr>\n",
              "        <tr>\n",
              "            <td>Hanari Carnes</td>\n",
              "            <td>10645</td>\n",
              "            <td>2015-08-26</td>\n",
              "            <td>2015-08-31</td>\n",
              "            <td>2015-08-21</td>\n",
              "            <td>10541</td>\n",
              "        </tr>\n",
              "        <tr>\n",
              "            <td>Hanari Carnes</td>\n",
              "            <td>10690</td>\n",
              "            <td>2015-10-02</td>\n",
              "            <td>2015-10-07</td>\n",
              "            <td>2015-09-27</td>\n",
              "            <td>10645</td>\n",
              "        </tr>\n",
              "        <tr>\n",
              "            <td>Hanari Carnes</td>\n",
              "            <td>10770</td>\n",
              "            <td>2015-12-09</td>\n",
              "            <td>2015-12-14</td>\n",
              "            <td>2015-12-04</td>\n",
              "            <td>10690</td>\n",
              "        </tr>\n",
              "        <tr>\n",
              "            <td>Hanari Carnes</td>\n",
              "            <td>10783</td>\n",
              "            <td>2015-12-18</td>\n",
              "            <td>2015-12-23</td>\n",
              "            <td>2015-12-13</td>\n",
              "            <td>10770</td>\n",
              "        </tr>\n",
              "        <tr>\n",
              "            <td>Hanari Carnes</td>\n",
              "            <td>10886</td>\n",
              "            <td>2016-02-13</td>\n",
              "            <td>2016-02-18</td>\n",
              "            <td>2016-02-08</td>\n",
              "            <td>10783</td>\n",
              "        </tr>\n",
              "        <tr>\n",
              "            <td>Hanari Carnes</td>\n",
              "            <td>10903</td>\n",
              "            <td>2016-02-24</td>\n",
              "            <td>2016-02-29</td>\n",
              "            <td>2016-02-19</td>\n",
              "            <td>10886</td>\n",
              "        </tr>\n",
              "        <tr>\n",
              "            <td>Hanari Carnes</td>\n",
              "            <td>10922</td>\n",
              "            <td>2016-03-03</td>\n",
              "            <td>2016-03-08</td>\n",
              "            <td>2016-02-27</td>\n",
              "            <td>10903</td>\n",
              "        </tr>\n",
              "        <tr>\n",
              "            <td>Hanari Carnes</td>\n",
              "            <td>10925</td>\n",
              "            <td>2016-03-04</td>\n",
              "            <td>2016-03-09</td>\n",
              "            <td>2016-02-28</td>\n",
              "            <td>10922</td>\n",
              "        </tr>\n",
              "        <tr>\n",
              "            <td>Hanari Carnes</td>\n",
              "            <td>10981</td>\n",
              "            <td>2016-03-27</td>\n",
              "            <td>2016-04-01</td>\n",
              "            <td>2016-03-22</td>\n",
              "            <td>10925</td>\n",
              "        </tr>\n",
              "        <tr>\n",
              "            <td>Hanari Carnes</td>\n",
              "            <td>11022</td>\n",
              "            <td>2016-04-14</td>\n",
              "            <td>2016-04-19</td>\n",
              "            <td>2016-04-09</td>\n",
              "            <td>10981</td>\n",
              "        </tr>\n",
              "        <tr>\n",
              "            <td>Hanari Carnes</td>\n",
              "            <td>11052</td>\n",
              "            <td>2016-04-27</td>\n",
              "            <td>2016-05-02</td>\n",
              "            <td>2016-04-22</td>\n",
              "            <td>11022</td>\n",
              "        </tr>\n",
              "    </tbody>\n",
              "</table>"
            ]
          },
          "metadata": {},
          "execution_count": 62
        }
      ]
    },
    {
      "cell_type": "code",
      "source": [
        "%%sql\n",
        "with cte_aa AS (SELECT CustomerID,\n",
        "OrderId,\n",
        "DATE(OrderDate) AS actual_order_date\n",
        "FROM Orders)\n",
        "\n",
        "SELECT CustomerID,\n",
        "OrderId,\n",
        "COUNT(1)\n",
        "FROM cte_aa\n",
        "WHERE actual_order_date BETWEEN (SELECT MIN(actual_order_date) FROM cte_aa)\n",
        "AND (SELECT DATE(MIN(actual_order_date), '5 Day') FROM cte_aa)\n",
        "GROUP BY 1, 2"
      ],
      "metadata": {
        "colab": {
          "base_uri": "https://localhost:8080/",
          "height": 182
        },
        "id": "5Gcp3sPmkLJP",
        "outputId": "2370c9f8-1b75-4094-a7b6-cfb7df69127f"
      },
      "execution_count": null,
      "outputs": [
        {
          "output_type": "stream",
          "name": "stdout",
          "text": [
            " * sqlite:///northwind.sqlite3\n",
            "Done.\n"
          ]
        },
        {
          "output_type": "execute_result",
          "data": {
            "text/plain": [
              "[('VINET', 10248, 1),\n",
              " ('TOMSP', 10249, 1),\n",
              " ('HANAR', 10250, 1),\n",
              " ('VICTE', 10251, 1),\n",
              " ('SUPRD', 10252, 1)]"
            ],
            "text/html": [
              "<table>\n",
              "    <thead>\n",
              "        <tr>\n",
              "            <th>CustomerID</th>\n",
              "            <th>OrderId</th>\n",
              "            <th>COUNT(1)</th>\n",
              "        </tr>\n",
              "    </thead>\n",
              "    <tbody>\n",
              "        <tr>\n",
              "            <td>VINET</td>\n",
              "            <td>10248</td>\n",
              "            <td>1</td>\n",
              "        </tr>\n",
              "        <tr>\n",
              "            <td>TOMSP</td>\n",
              "            <td>10249</td>\n",
              "            <td>1</td>\n",
              "        </tr>\n",
              "        <tr>\n",
              "            <td>HANAR</td>\n",
              "            <td>10250</td>\n",
              "            <td>1</td>\n",
              "        </tr>\n",
              "        <tr>\n",
              "            <td>VICTE</td>\n",
              "            <td>10251</td>\n",
              "            <td>1</td>\n",
              "        </tr>\n",
              "        <tr>\n",
              "            <td>SUPRD</td>\n",
              "            <td>10252</td>\n",
              "            <td>1</td>\n",
              "        </tr>\n",
              "    </tbody>\n",
              "</table>"
            ]
          },
          "metadata": {},
          "execution_count": 73
        }
      ]
    },
    {
      "cell_type": "code",
      "source": [
        "%%sql\n",
        "SELECT *, ROW_NUMBER() OVER () FROM Orders"
      ],
      "metadata": {
        "id": "6knXVedKo-Dy"
      },
      "execution_count": null,
      "outputs": []
    },
    {
      "cell_type": "code",
      "source": [
        "spark_df = spark.read.option('Header', True).csv(\"/content/sql_example.csv\")"
      ],
      "metadata": {
        "id": "erZdo0ZMsmPf"
      },
      "execution_count": null,
      "outputs": []
    },
    {
      "cell_type": "code",
      "source": [
        "spark_df.createOrReplaceTempView('df_table')"
      ],
      "metadata": {
        "id": "myHUMvVMujXb"
      },
      "execution_count": null,
      "outputs": []
    },
    {
      "cell_type": "code",
      "source": [
        "import pandas as pd"
      ],
      "metadata": {
        "id": "T1WsP_HWuwFh"
      },
      "execution_count": null,
      "outputs": []
    },
    {
      "cell_type": "code",
      "source": [
        "df = pd.read_csv('/content/sql_example.csv', header=0)"
      ],
      "metadata": {
        "id": "xO7_kNPhvIGl"
      },
      "execution_count": null,
      "outputs": []
    },
    {
      "cell_type": "code",
      "source": [
        "df_1 = pd.DataFrame(df)"
      ],
      "metadata": {
        "id": "sHAxBbW5w96J"
      },
      "execution_count": null,
      "outputs": []
    },
    {
      "cell_type": "code",
      "source": [
        "import sqlalchemy\n",
        "%reload_ext sql\n",
        "engine = sqlalchemy.create_engine('sqlite:///mydatabase.db')\n",
        "%sql sqlite:///mydatabase.db\n",
        "df.to_sql('data', con=engine, if_exists='replace')"
      ],
      "metadata": {
        "colab": {
          "base_uri": "https://localhost:8080/"
        },
        "id": "ytj1CMSexaVK",
        "outputId": "1098ac92-a0be-4f51-9181-a89c8b26ba4e"
      },
      "execution_count": null,
      "outputs": [
        {
          "output_type": "execute_result",
          "data": {
            "text/plain": [
              "30"
            ]
          },
          "metadata": {},
          "execution_count": 112
        }
      ]
    },
    {
      "cell_type": "code",
      "source": [
        "%%sql\n",
        "SELECT *\n",
        "FROM data\n",
        "ORDER BY customer_id, order_date;"
      ],
      "metadata": {
        "colab": {
          "base_uri": "https://localhost:8080/",
          "height": 733
        },
        "id": "AgvO1FwWwen-",
        "outputId": "40722899-90f1-424b-d9cd-76e0e77797d1"
      },
      "execution_count": null,
      "outputs": [
        {
          "output_type": "stream",
          "name": "stdout",
          "text": [
            " * sqlite:///mydatabase.db\n",
            "   sqlite:///northwind.sqlite3\n",
            "Done.\n"
          ]
        },
        {
          "output_type": "execute_result",
          "data": {
            "text/plain": [
              "[(0, 1, 101, '2023-01-01'),\n",
              " (1, 2, 101, '2023-01-03'),\n",
              " (4, 5, 101, '2023-01-06'),\n",
              " (7, 8, 101, '2023-01-10'),\n",
              " (11, 12, 101, '2023-01-16'),\n",
              " (17, 18, 101, '2023-01-26'),\n",
              " (2, 3, 102, '2023-01-02'),\n",
              " (5, 6, 102, '2023-01-07'),\n",
              " (12, 13, 102, '2023-01-18'),\n",
              " (14, 15, 102, '2023-01-21'),\n",
              " (3, 4, 103, '2023-01-04'),\n",
              " (8, 9, 103, '2023-01-11'),\n",
              " (15, 16, 103, '2023-01-23'),\n",
              " (6, 7, 104, '2023-01-08'),\n",
              " (9, 10, 104, '2023-01-13'),\n",
              " (18, 19, 104, '2023-01-27'),\n",
              " (10, 11, 105, '2023-01-14'),\n",
              " (13, 14, 105, '2023-01-20'),\n",
              " (16, 17, 105, '2023-01-25'),\n",
              " (19, 20, 105, '2023-01-30'),\n",
              " (20, 21, 106, '2023-02-01'),\n",
              " (21, 22, 106, '2023-02-02'),\n",
              " (22, 23, 107, '2023-02-04'),\n",
              " (23, 24, 107, '2023-02-05'),\n",
              " (24, 25, 108, '2023-02-06'),\n",
              " (25, 26, 108, '2023-02-08'),\n",
              " (26, 27, 109, '2023-02-10'),\n",
              " (27, 28, 109, '2023-02-11'),\n",
              " (28, 29, 110, '2023-02-12'),\n",
              " (29, 30, 110, '2023-02-14')]"
            ],
            "text/html": [
              "<table>\n",
              "    <thead>\n",
              "        <tr>\n",
              "            <th>index</th>\n",
              "            <th>order_id</th>\n",
              "            <th>customer_id</th>\n",
              "            <th>order_date</th>\n",
              "        </tr>\n",
              "    </thead>\n",
              "    <tbody>\n",
              "        <tr>\n",
              "            <td>0</td>\n",
              "            <td>1</td>\n",
              "            <td>101</td>\n",
              "            <td>2023-01-01</td>\n",
              "        </tr>\n",
              "        <tr>\n",
              "            <td>1</td>\n",
              "            <td>2</td>\n",
              "            <td>101</td>\n",
              "            <td>2023-01-03</td>\n",
              "        </tr>\n",
              "        <tr>\n",
              "            <td>4</td>\n",
              "            <td>5</td>\n",
              "            <td>101</td>\n",
              "            <td>2023-01-06</td>\n",
              "        </tr>\n",
              "        <tr>\n",
              "            <td>7</td>\n",
              "            <td>8</td>\n",
              "            <td>101</td>\n",
              "            <td>2023-01-10</td>\n",
              "        </tr>\n",
              "        <tr>\n",
              "            <td>11</td>\n",
              "            <td>12</td>\n",
              "            <td>101</td>\n",
              "            <td>2023-01-16</td>\n",
              "        </tr>\n",
              "        <tr>\n",
              "            <td>17</td>\n",
              "            <td>18</td>\n",
              "            <td>101</td>\n",
              "            <td>2023-01-26</td>\n",
              "        </tr>\n",
              "        <tr>\n",
              "            <td>2</td>\n",
              "            <td>3</td>\n",
              "            <td>102</td>\n",
              "            <td>2023-01-02</td>\n",
              "        </tr>\n",
              "        <tr>\n",
              "            <td>5</td>\n",
              "            <td>6</td>\n",
              "            <td>102</td>\n",
              "            <td>2023-01-07</td>\n",
              "        </tr>\n",
              "        <tr>\n",
              "            <td>12</td>\n",
              "            <td>13</td>\n",
              "            <td>102</td>\n",
              "            <td>2023-01-18</td>\n",
              "        </tr>\n",
              "        <tr>\n",
              "            <td>14</td>\n",
              "            <td>15</td>\n",
              "            <td>102</td>\n",
              "            <td>2023-01-21</td>\n",
              "        </tr>\n",
              "        <tr>\n",
              "            <td>3</td>\n",
              "            <td>4</td>\n",
              "            <td>103</td>\n",
              "            <td>2023-01-04</td>\n",
              "        </tr>\n",
              "        <tr>\n",
              "            <td>8</td>\n",
              "            <td>9</td>\n",
              "            <td>103</td>\n",
              "            <td>2023-01-11</td>\n",
              "        </tr>\n",
              "        <tr>\n",
              "            <td>15</td>\n",
              "            <td>16</td>\n",
              "            <td>103</td>\n",
              "            <td>2023-01-23</td>\n",
              "        </tr>\n",
              "        <tr>\n",
              "            <td>6</td>\n",
              "            <td>7</td>\n",
              "            <td>104</td>\n",
              "            <td>2023-01-08</td>\n",
              "        </tr>\n",
              "        <tr>\n",
              "            <td>9</td>\n",
              "            <td>10</td>\n",
              "            <td>104</td>\n",
              "            <td>2023-01-13</td>\n",
              "        </tr>\n",
              "        <tr>\n",
              "            <td>18</td>\n",
              "            <td>19</td>\n",
              "            <td>104</td>\n",
              "            <td>2023-01-27</td>\n",
              "        </tr>\n",
              "        <tr>\n",
              "            <td>10</td>\n",
              "            <td>11</td>\n",
              "            <td>105</td>\n",
              "            <td>2023-01-14</td>\n",
              "        </tr>\n",
              "        <tr>\n",
              "            <td>13</td>\n",
              "            <td>14</td>\n",
              "            <td>105</td>\n",
              "            <td>2023-01-20</td>\n",
              "        </tr>\n",
              "        <tr>\n",
              "            <td>16</td>\n",
              "            <td>17</td>\n",
              "            <td>105</td>\n",
              "            <td>2023-01-25</td>\n",
              "        </tr>\n",
              "        <tr>\n",
              "            <td>19</td>\n",
              "            <td>20</td>\n",
              "            <td>105</td>\n",
              "            <td>2023-01-30</td>\n",
              "        </tr>\n",
              "        <tr>\n",
              "            <td>20</td>\n",
              "            <td>21</td>\n",
              "            <td>106</td>\n",
              "            <td>2023-02-01</td>\n",
              "        </tr>\n",
              "        <tr>\n",
              "            <td>21</td>\n",
              "            <td>22</td>\n",
              "            <td>106</td>\n",
              "            <td>2023-02-02</td>\n",
              "        </tr>\n",
              "        <tr>\n",
              "            <td>22</td>\n",
              "            <td>23</td>\n",
              "            <td>107</td>\n",
              "            <td>2023-02-04</td>\n",
              "        </tr>\n",
              "        <tr>\n",
              "            <td>23</td>\n",
              "            <td>24</td>\n",
              "            <td>107</td>\n",
              "            <td>2023-02-05</td>\n",
              "        </tr>\n",
              "        <tr>\n",
              "            <td>24</td>\n",
              "            <td>25</td>\n",
              "            <td>108</td>\n",
              "            <td>2023-02-06</td>\n",
              "        </tr>\n",
              "        <tr>\n",
              "            <td>25</td>\n",
              "            <td>26</td>\n",
              "            <td>108</td>\n",
              "            <td>2023-02-08</td>\n",
              "        </tr>\n",
              "        <tr>\n",
              "            <td>26</td>\n",
              "            <td>27</td>\n",
              "            <td>109</td>\n",
              "            <td>2023-02-10</td>\n",
              "        </tr>\n",
              "        <tr>\n",
              "            <td>27</td>\n",
              "            <td>28</td>\n",
              "            <td>109</td>\n",
              "            <td>2023-02-11</td>\n",
              "        </tr>\n",
              "        <tr>\n",
              "            <td>28</td>\n",
              "            <td>29</td>\n",
              "            <td>110</td>\n",
              "            <td>2023-02-12</td>\n",
              "        </tr>\n",
              "        <tr>\n",
              "            <td>29</td>\n",
              "            <td>30</td>\n",
              "            <td>110</td>\n",
              "            <td>2023-02-14</td>\n",
              "        </tr>\n",
              "    </tbody>\n",
              "</table>"
            ]
          },
          "metadata": {},
          "execution_count": 124
        }
      ]
    },
    {
      "cell_type": "code",
      "source": [
        "%%sql\n",
        "with cte_aa AS (SELECT customer_id,\n",
        "order_id,\n",
        "DATE(order_date) AS actual_order_date\n",
        "FROM data)\n",
        "\n",
        "SELECT *\n",
        "FROM cte_aa\n",
        "WHERE actual_order_date BETWEEN (SELECT MIN(actual_order_date) FROM cte_aa)\n",
        "AND (SELECT DATE(MIN(actual_order_date), '5 Day') FROM cte_aa)"
      ],
      "metadata": {
        "colab": {
          "base_uri": "https://localhost:8080/",
          "height": 199
        },
        "id": "M3Y3qs5Cxtip",
        "outputId": "60a92c41-e81e-4fe2-af1c-890728017772"
      },
      "execution_count": null,
      "outputs": [
        {
          "output_type": "stream",
          "name": "stdout",
          "text": [
            " * sqlite:///mydatabase.db\n",
            "   sqlite:///northwind.sqlite3\n",
            "Done.\n"
          ]
        },
        {
          "output_type": "execute_result",
          "data": {
            "text/plain": [
              "[(101, 1, '2023-01-01'),\n",
              " (101, 2, '2023-01-03'),\n",
              " (102, 3, '2023-01-02'),\n",
              " (103, 4, '2023-01-04'),\n",
              " (101, 5, '2023-01-06')]"
            ],
            "text/html": [
              "<table>\n",
              "    <thead>\n",
              "        <tr>\n",
              "            <th>customer_id</th>\n",
              "            <th>order_id</th>\n",
              "            <th>actual_order_date</th>\n",
              "        </tr>\n",
              "    </thead>\n",
              "    <tbody>\n",
              "        <tr>\n",
              "            <td>101</td>\n",
              "            <td>1</td>\n",
              "            <td>2023-01-01</td>\n",
              "        </tr>\n",
              "        <tr>\n",
              "            <td>101</td>\n",
              "            <td>2</td>\n",
              "            <td>2023-01-03</td>\n",
              "        </tr>\n",
              "        <tr>\n",
              "            <td>102</td>\n",
              "            <td>3</td>\n",
              "            <td>2023-01-02</td>\n",
              "        </tr>\n",
              "        <tr>\n",
              "            <td>103</td>\n",
              "            <td>4</td>\n",
              "            <td>2023-01-04</td>\n",
              "        </tr>\n",
              "        <tr>\n",
              "            <td>101</td>\n",
              "            <td>5</td>\n",
              "            <td>2023-01-06</td>\n",
              "        </tr>\n",
              "    </tbody>\n",
              "</table>"
            ]
          },
          "metadata": {},
          "execution_count": 121
        }
      ]
    },
    {
      "cell_type": "code",
      "source": [
        "%%sql\n",
        "SELECT customer_id,\n",
        "COUNT(1)\n",
        "FROM data\n",
        "WHERE order_date BETWEEN (SELECT MIN(order_date) FROM data)\n",
        "AND (SELECT DATE(MIN(order_date), '5 Day') FROM data)\n",
        "GROUP BY 1\n",
        "HAVING COUNT(1)>=2"
      ],
      "metadata": {
        "colab": {
          "base_uri": "https://localhost:8080/",
          "height": 114
        },
        "id": "ICCLe-pCyUnk",
        "outputId": "537e3662-2821-4ac2-8ecf-9749b5c5f025"
      },
      "execution_count": null,
      "outputs": [
        {
          "output_type": "stream",
          "name": "stdout",
          "text": [
            " * sqlite:///mydatabase.db\n",
            "   sqlite:///northwind.sqlite3\n",
            "Done.\n"
          ]
        },
        {
          "output_type": "execute_result",
          "data": {
            "text/plain": [
              "[(101, 3)]"
            ],
            "text/html": [
              "<table>\n",
              "    <thead>\n",
              "        <tr>\n",
              "            <th>customer_id</th>\n",
              "            <th>COUNT(1)</th>\n",
              "        </tr>\n",
              "    </thead>\n",
              "    <tbody>\n",
              "        <tr>\n",
              "            <td>101</td>\n",
              "            <td>3</td>\n",
              "        </tr>\n",
              "    </tbody>\n",
              "</table>"
            ]
          },
          "metadata": {},
          "execution_count": 146
        }
      ]
    },
    {
      "cell_type": "code",
      "source": [
        "%%sql\n",
        "SELECT customer_id\n",
        "FROM data\n",
        "WHERE order_date BETWEEN (SELECT MIN(order_date) FROM data)\n",
        "AND (SELECT DATE(MIN(order_date), '6 Day') FROM data)\n",
        "GROUP BY 1\n",
        "HAVING COUNT(1)>=2"
      ],
      "metadata": {
        "colab": {
          "base_uri": "https://localhost:8080/",
          "height": 135
        },
        "id": "dnen0w3n0ncD",
        "outputId": "07fc1625-8920-4e81-a707-fcf2ad3234b8"
      },
      "execution_count": null,
      "outputs": [
        {
          "output_type": "stream",
          "name": "stdout",
          "text": [
            " * sqlite:///mydatabase.db\n",
            "   sqlite:///northwind.sqlite3\n",
            "Done.\n"
          ]
        },
        {
          "output_type": "execute_result",
          "data": {
            "text/plain": [
              "[(101,), (102,)]"
            ],
            "text/html": [
              "<table>\n",
              "    <thead>\n",
              "        <tr>\n",
              "            <th>customer_id</th>\n",
              "        </tr>\n",
              "    </thead>\n",
              "    <tbody>\n",
              "        <tr>\n",
              "            <td>101</td>\n",
              "        </tr>\n",
              "        <tr>\n",
              "            <td>102</td>\n",
              "        </tr>\n",
              "    </tbody>\n",
              "</table>"
            ]
          },
          "metadata": {},
          "execution_count": 148
        }
      ]
    },
    {
      "cell_type": "code",
      "source": [
        "%sql sqlite:///northwind.sqlite3"
      ],
      "metadata": {
        "id": "xsyCWjih2Aia"
      },
      "execution_count": null,
      "outputs": []
    },
    {
      "cell_type": "code",
      "source": [
        "%%sql\n",
        "WITH cte_total_value_2016 AS (\n",
        "SELECT OrderID,\n",
        "CustomerID,\n",
        "UnitPrice*Quantity AS order_value\n",
        "FROM Orders\n",
        "LEFT JOIN OrderDetails\n",
        "USING(OrderID)\n",
        "WHERE strftime('%Y', DATE(OrderDate)) = '2016'\n",
        "), cte_cust_total_order AS (\n",
        "  SELECT CompanyName,\n",
        "  SUM(order_value) AS total_order_value\n",
        "  FROM Customers\n",
        "  INNER JOIN cte_total_value_2016\n",
        "  USING(CustomerID)\n",
        "  GROUP BY 1\n",
        ")\n",
        "SELECT CompanyName,\n",
        "total_order_value,\n",
        "CASE WHEN total_order_value > 10000 THEN 'Very High'\n",
        "WHEN total_order_value BETWEEN 5000 AND 10000 THEN 'High'\n",
        "WHEN total_order_value BETWEEN 1000 AND 5000 THEN 'Medium'\n",
        "ELSE 'Low'\n",
        "END AS categories\n",
        "FROM cte_cust_total_order\n",
        "ORDER BY  1"
      ],
      "metadata": {
        "colab": {
          "base_uri": "https://localhost:8080/",
          "height": 1000
        },
        "id": "v73Qfi5J2Fik",
        "outputId": "a7d8231b-4fe4-4fb0-bf86-a1fadb35b015"
      },
      "execution_count": null,
      "outputs": [
        {
          "output_type": "stream",
          "name": "stdout",
          "text": [
            "   sqlite:///mydatabase.db\n",
            " * sqlite:///northwind.sqlite3\n",
            "Done.\n"
          ]
        },
        {
          "output_type": "execute_result",
          "data": {
            "text/plain": [
              "[('Alfreds Futterkiste', 2302.2, 'Medium'),\n",
              " ('Ana Trujillo Emparedados y helados', 514.4, 'Low'),\n",
              " ('Antonio Moreno Taquería', 660, 'Low'),\n",
              " ('Around the Horn', 5838.5, 'High'),\n",
              " (\"B's Beverages\", 2431, 'Medium'),\n",
              " ('Berglunds snabbköp', 8110.550000000001, 'High'),\n",
              " ('Blauer See Delikatessen', 2160.0, 'Medium'),\n",
              " ('Blondesddsl père et fils', 730.0, 'Low'),\n",
              " (\"Bon app'\", 7185.9, 'High'),\n",
              " ('Bottom-Dollar Markets', 12227.4, 'Very High'),\n",
              " ('Bólido Comidas preparadas', 280, 'Low'),\n",
              " ('Cactus Comidas para llevar', 1576.8, 'Medium'),\n",
              " ('Chop-suey Chinese', 4429.4, 'Medium'),\n",
              " ('Comércio Mineiro', 513.75, 'Low'),\n",
              " ('Consolidated Holdings', 931.5, 'Low'),\n",
              " ('Die Wandernde Kuh', 1564, 'Medium'),\n",
              " ('Drachenblut Delikatessen', 2809.61, 'Medium'),\n",
              " ('Du monde entier', 860.1, 'Low'),\n",
              " ('Eastern Connection', 9569.310000000001, 'High'),\n",
              " ('Ernst Handel', 42598.9, 'Very High'),\n",
              " ('Folk och fä HB', 15973.85, 'Very High'),\n",
              " ('France restauration', 2252.0600000000004, 'Medium'),\n",
              " ('Franchi S.p.A.', 1296.0, 'Medium'),\n",
              " ('Frankenversand', 5587.0, 'High'),\n",
              " ('Furia Bacalhau e Frutos do Mar', 68, 'Low'),\n",
              " ('Galería del gastrónomo', 207.5, 'Low'),\n",
              " ('Godos Cocina Típica', 7064.05, 'High'),\n",
              " ('Gourmet Lanchonetes', 497.0, 'Low'),\n",
              " ('Great Lakes Food Market', 10562.58, 'Very High'),\n",
              " ('Hanari Carnes', 24238.05, 'Very High'),\n",
              " ('HILARION-Abastos', 6132.299999999999, 'High'),\n",
              " ('Hungry Owl All-Night Grocers', 22796.340000000004, 'Very High'),\n",
              " ('Island Trading', 2684.6, 'Medium'),\n",
              " ('Königlich Essen', 20204.95, 'Very High'),\n",
              " (\"La corne d'abondance\", 1992.0500000000002, 'Medium'),\n",
              " (\"La maison d'Asie\", 1549.95, 'Medium'),\n",
              " ('Laughing Bacchus Wine Cellars', 187, 'Low'),\n",
              " ('Lehmanns Marktstand', 3342.85, 'Medium'),\n",
              " (\"Let's Stop N Shop\", 1450.6, 'Medium'),\n",
              " ('LILA-Supermercado', 5994.06, 'High'),\n",
              " ('LINO-Delicateses', 10085.6, 'Very High'),\n",
              " ('Lonesome Pine Restaurant', 1709.4, 'Medium'),\n",
              " ('Magazzini Alimentari Riuniti', 1693.0, 'Medium'),\n",
              " ('Maison Dewey', 5000.2, 'High'),\n",
              " ('Morgenstern Gesundkost', 245.0, 'Low'),\n",
              " ('North/South', 45, 'Low'),\n",
              " ('Océano Atlántico Ltda.', 3031.0, 'Medium'),\n",
              " ('Old World Delicatessen', 5337.65, 'High'),\n",
              " ('Ottilies Käseladen', 3012.7, 'Medium'),\n",
              " ('Pericles Comidas clásicas', 1496.0, 'Medium'),\n",
              " ('Piccolo und mehr', 4393.75, 'Medium'),\n",
              " ('Princesa Isabel Vinhos', 2633.9, 'Medium'),\n",
              " ('Que Delícia', 1353.6, 'Medium'),\n",
              " ('Queen Cozinha', 7007.650000000001, 'High'),\n",
              " ('QUICK-Stop', 40526.99, 'Very High'),\n",
              " ('Rancho grande', 1694.7, 'Medium'),\n",
              " ('Rattlesnake Canyon Grocery', 21725.600000000002, 'Very High'),\n",
              " ('Reggiani Caseifici', 4263.0, 'Medium'),\n",
              " ('Ricardo Adocicados', 7312.0, 'High'),\n",
              " ('Richter Supermarkt', 5497.9, 'High'),\n",
              " ('Romero y tomillo', 726.89, 'Low'),\n",
              " ('Santé Gourmet', 3976.75, 'Medium'),\n",
              " ('Save-a-lot Markets', 42806.25, 'Very High'),\n",
              " ('Seven Seas Imports', 1630.0, 'Medium'),\n",
              " ('Simons bistro', 244.29999999999998, 'Low'),\n",
              " ('Split Rail Beer & Ale', 1117.0, 'Medium'),\n",
              " ('Spécialités du monde', 2371.0, 'Medium'),\n",
              " ('Suprêmes délices', 11862.5, 'Very High'),\n",
              " ('The Big Cheese', 69.6, 'Low'),\n",
              " ('The Cracker Box', 326.0, 'Low'),\n",
              " ('Toms Spezialitäten', 910.4, 'Low'),\n",
              " ('Tortuga Restaurante', 1874.5, 'Medium'),\n",
              " ('Tradição Hipermercados', 4401.62, 'Medium'),\n",
              " (\"Trail's Head Gourmet Provisioners\", 237.89999999999998, 'Low'),\n",
              " ('Vaffeljernet', 4333.5, 'Medium'),\n",
              " ('Victuailles en stock', 3022.0, 'Medium'),\n",
              " ('Wartian Herkku', 300, 'Low'),\n",
              " ('Wellington Importadora', 1245.0, 'Medium'),\n",
              " ('White Clover Markets', 15278.9, 'Very High'),\n",
              " ('Wilman Kala', 1987.0, 'Medium'),\n",
              " ('Wolski  Zajazd', 1865.1, 'Medium')]"
            ],
            "text/html": [
              "<table>\n",
              "    <thead>\n",
              "        <tr>\n",
              "            <th>CompanyName</th>\n",
              "            <th>total_order_value</th>\n",
              "            <th>categories</th>\n",
              "        </tr>\n",
              "    </thead>\n",
              "    <tbody>\n",
              "        <tr>\n",
              "            <td>Alfreds Futterkiste</td>\n",
              "            <td>2302.2</td>\n",
              "            <td>Medium</td>\n",
              "        </tr>\n",
              "        <tr>\n",
              "            <td>Ana Trujillo Emparedados y helados</td>\n",
              "            <td>514.4</td>\n",
              "            <td>Low</td>\n",
              "        </tr>\n",
              "        <tr>\n",
              "            <td>Antonio Moreno Taquería</td>\n",
              "            <td>660</td>\n",
              "            <td>Low</td>\n",
              "        </tr>\n",
              "        <tr>\n",
              "            <td>Around the Horn</td>\n",
              "            <td>5838.5</td>\n",
              "            <td>High</td>\n",
              "        </tr>\n",
              "        <tr>\n",
              "            <td>B&#x27;s Beverages</td>\n",
              "            <td>2431</td>\n",
              "            <td>Medium</td>\n",
              "        </tr>\n",
              "        <tr>\n",
              "            <td>Berglunds snabbköp</td>\n",
              "            <td>8110.550000000001</td>\n",
              "            <td>High</td>\n",
              "        </tr>\n",
              "        <tr>\n",
              "            <td>Blauer See Delikatessen</td>\n",
              "            <td>2160.0</td>\n",
              "            <td>Medium</td>\n",
              "        </tr>\n",
              "        <tr>\n",
              "            <td>Blondesddsl père et fils</td>\n",
              "            <td>730.0</td>\n",
              "            <td>Low</td>\n",
              "        </tr>\n",
              "        <tr>\n",
              "            <td>Bon app&#x27;</td>\n",
              "            <td>7185.9</td>\n",
              "            <td>High</td>\n",
              "        </tr>\n",
              "        <tr>\n",
              "            <td>Bottom-Dollar Markets</td>\n",
              "            <td>12227.4</td>\n",
              "            <td>Very High</td>\n",
              "        </tr>\n",
              "        <tr>\n",
              "            <td>Bólido Comidas preparadas</td>\n",
              "            <td>280</td>\n",
              "            <td>Low</td>\n",
              "        </tr>\n",
              "        <tr>\n",
              "            <td>Cactus Comidas para llevar</td>\n",
              "            <td>1576.8</td>\n",
              "            <td>Medium</td>\n",
              "        </tr>\n",
              "        <tr>\n",
              "            <td>Chop-suey Chinese</td>\n",
              "            <td>4429.4</td>\n",
              "            <td>Medium</td>\n",
              "        </tr>\n",
              "        <tr>\n",
              "            <td>Comércio Mineiro</td>\n",
              "            <td>513.75</td>\n",
              "            <td>Low</td>\n",
              "        </tr>\n",
              "        <tr>\n",
              "            <td>Consolidated Holdings</td>\n",
              "            <td>931.5</td>\n",
              "            <td>Low</td>\n",
              "        </tr>\n",
              "        <tr>\n",
              "            <td>Die Wandernde Kuh</td>\n",
              "            <td>1564</td>\n",
              "            <td>Medium</td>\n",
              "        </tr>\n",
              "        <tr>\n",
              "            <td>Drachenblut Delikatessen</td>\n",
              "            <td>2809.61</td>\n",
              "            <td>Medium</td>\n",
              "        </tr>\n",
              "        <tr>\n",
              "            <td>Du monde entier</td>\n",
              "            <td>860.1</td>\n",
              "            <td>Low</td>\n",
              "        </tr>\n",
              "        <tr>\n",
              "            <td>Eastern Connection</td>\n",
              "            <td>9569.310000000001</td>\n",
              "            <td>High</td>\n",
              "        </tr>\n",
              "        <tr>\n",
              "            <td>Ernst Handel</td>\n",
              "            <td>42598.9</td>\n",
              "            <td>Very High</td>\n",
              "        </tr>\n",
              "        <tr>\n",
              "            <td>Folk och fä HB</td>\n",
              "            <td>15973.85</td>\n",
              "            <td>Very High</td>\n",
              "        </tr>\n",
              "        <tr>\n",
              "            <td>France restauration</td>\n",
              "            <td>2252.0600000000004</td>\n",
              "            <td>Medium</td>\n",
              "        </tr>\n",
              "        <tr>\n",
              "            <td>Franchi S.p.A.</td>\n",
              "            <td>1296.0</td>\n",
              "            <td>Medium</td>\n",
              "        </tr>\n",
              "        <tr>\n",
              "            <td>Frankenversand</td>\n",
              "            <td>5587.0</td>\n",
              "            <td>High</td>\n",
              "        </tr>\n",
              "        <tr>\n",
              "            <td>Furia Bacalhau e Frutos do Mar</td>\n",
              "            <td>68</td>\n",
              "            <td>Low</td>\n",
              "        </tr>\n",
              "        <tr>\n",
              "            <td>Galería del gastrónomo</td>\n",
              "            <td>207.5</td>\n",
              "            <td>Low</td>\n",
              "        </tr>\n",
              "        <tr>\n",
              "            <td>Godos Cocina Típica</td>\n",
              "            <td>7064.05</td>\n",
              "            <td>High</td>\n",
              "        </tr>\n",
              "        <tr>\n",
              "            <td>Gourmet Lanchonetes</td>\n",
              "            <td>497.0</td>\n",
              "            <td>Low</td>\n",
              "        </tr>\n",
              "        <tr>\n",
              "            <td>Great Lakes Food Market</td>\n",
              "            <td>10562.58</td>\n",
              "            <td>Very High</td>\n",
              "        </tr>\n",
              "        <tr>\n",
              "            <td>Hanari Carnes</td>\n",
              "            <td>24238.05</td>\n",
              "            <td>Very High</td>\n",
              "        </tr>\n",
              "        <tr>\n",
              "            <td>HILARION-Abastos</td>\n",
              "            <td>6132.299999999999</td>\n",
              "            <td>High</td>\n",
              "        </tr>\n",
              "        <tr>\n",
              "            <td>Hungry Owl All-Night Grocers</td>\n",
              "            <td>22796.340000000004</td>\n",
              "            <td>Very High</td>\n",
              "        </tr>\n",
              "        <tr>\n",
              "            <td>Island Trading</td>\n",
              "            <td>2684.6</td>\n",
              "            <td>Medium</td>\n",
              "        </tr>\n",
              "        <tr>\n",
              "            <td>Königlich Essen</td>\n",
              "            <td>20204.95</td>\n",
              "            <td>Very High</td>\n",
              "        </tr>\n",
              "        <tr>\n",
              "            <td>La corne d&#x27;abondance</td>\n",
              "            <td>1992.0500000000002</td>\n",
              "            <td>Medium</td>\n",
              "        </tr>\n",
              "        <tr>\n",
              "            <td>La maison d&#x27;Asie</td>\n",
              "            <td>1549.95</td>\n",
              "            <td>Medium</td>\n",
              "        </tr>\n",
              "        <tr>\n",
              "            <td>Laughing Bacchus Wine Cellars</td>\n",
              "            <td>187</td>\n",
              "            <td>Low</td>\n",
              "        </tr>\n",
              "        <tr>\n",
              "            <td>Lehmanns Marktstand</td>\n",
              "            <td>3342.85</td>\n",
              "            <td>Medium</td>\n",
              "        </tr>\n",
              "        <tr>\n",
              "            <td>Let&#x27;s Stop N Shop</td>\n",
              "            <td>1450.6</td>\n",
              "            <td>Medium</td>\n",
              "        </tr>\n",
              "        <tr>\n",
              "            <td>LILA-Supermercado</td>\n",
              "            <td>5994.06</td>\n",
              "            <td>High</td>\n",
              "        </tr>\n",
              "        <tr>\n",
              "            <td>LINO-Delicateses</td>\n",
              "            <td>10085.6</td>\n",
              "            <td>Very High</td>\n",
              "        </tr>\n",
              "        <tr>\n",
              "            <td>Lonesome Pine Restaurant</td>\n",
              "            <td>1709.4</td>\n",
              "            <td>Medium</td>\n",
              "        </tr>\n",
              "        <tr>\n",
              "            <td>Magazzini Alimentari Riuniti</td>\n",
              "            <td>1693.0</td>\n",
              "            <td>Medium</td>\n",
              "        </tr>\n",
              "        <tr>\n",
              "            <td>Maison Dewey</td>\n",
              "            <td>5000.2</td>\n",
              "            <td>High</td>\n",
              "        </tr>\n",
              "        <tr>\n",
              "            <td>Morgenstern Gesundkost</td>\n",
              "            <td>245.0</td>\n",
              "            <td>Low</td>\n",
              "        </tr>\n",
              "        <tr>\n",
              "            <td>North/South</td>\n",
              "            <td>45</td>\n",
              "            <td>Low</td>\n",
              "        </tr>\n",
              "        <tr>\n",
              "            <td>Océano Atlántico Ltda.</td>\n",
              "            <td>3031.0</td>\n",
              "            <td>Medium</td>\n",
              "        </tr>\n",
              "        <tr>\n",
              "            <td>Old World Delicatessen</td>\n",
              "            <td>5337.65</td>\n",
              "            <td>High</td>\n",
              "        </tr>\n",
              "        <tr>\n",
              "            <td>Ottilies Käseladen</td>\n",
              "            <td>3012.7</td>\n",
              "            <td>Medium</td>\n",
              "        </tr>\n",
              "        <tr>\n",
              "            <td>Pericles Comidas clásicas</td>\n",
              "            <td>1496.0</td>\n",
              "            <td>Medium</td>\n",
              "        </tr>\n",
              "        <tr>\n",
              "            <td>Piccolo und mehr</td>\n",
              "            <td>4393.75</td>\n",
              "            <td>Medium</td>\n",
              "        </tr>\n",
              "        <tr>\n",
              "            <td>Princesa Isabel Vinhos</td>\n",
              "            <td>2633.9</td>\n",
              "            <td>Medium</td>\n",
              "        </tr>\n",
              "        <tr>\n",
              "            <td>Que Delícia</td>\n",
              "            <td>1353.6</td>\n",
              "            <td>Medium</td>\n",
              "        </tr>\n",
              "        <tr>\n",
              "            <td>Queen Cozinha</td>\n",
              "            <td>7007.650000000001</td>\n",
              "            <td>High</td>\n",
              "        </tr>\n",
              "        <tr>\n",
              "            <td>QUICK-Stop</td>\n",
              "            <td>40526.99</td>\n",
              "            <td>Very High</td>\n",
              "        </tr>\n",
              "        <tr>\n",
              "            <td>Rancho grande</td>\n",
              "            <td>1694.7</td>\n",
              "            <td>Medium</td>\n",
              "        </tr>\n",
              "        <tr>\n",
              "            <td>Rattlesnake Canyon Grocery</td>\n",
              "            <td>21725.600000000002</td>\n",
              "            <td>Very High</td>\n",
              "        </tr>\n",
              "        <tr>\n",
              "            <td>Reggiani Caseifici</td>\n",
              "            <td>4263.0</td>\n",
              "            <td>Medium</td>\n",
              "        </tr>\n",
              "        <tr>\n",
              "            <td>Ricardo Adocicados</td>\n",
              "            <td>7312.0</td>\n",
              "            <td>High</td>\n",
              "        </tr>\n",
              "        <tr>\n",
              "            <td>Richter Supermarkt</td>\n",
              "            <td>5497.9</td>\n",
              "            <td>High</td>\n",
              "        </tr>\n",
              "        <tr>\n",
              "            <td>Romero y tomillo</td>\n",
              "            <td>726.89</td>\n",
              "            <td>Low</td>\n",
              "        </tr>\n",
              "        <tr>\n",
              "            <td>Santé Gourmet</td>\n",
              "            <td>3976.75</td>\n",
              "            <td>Medium</td>\n",
              "        </tr>\n",
              "        <tr>\n",
              "            <td>Save-a-lot Markets</td>\n",
              "            <td>42806.25</td>\n",
              "            <td>Very High</td>\n",
              "        </tr>\n",
              "        <tr>\n",
              "            <td>Seven Seas Imports</td>\n",
              "            <td>1630.0</td>\n",
              "            <td>Medium</td>\n",
              "        </tr>\n",
              "        <tr>\n",
              "            <td>Simons bistro</td>\n",
              "            <td>244.29999999999998</td>\n",
              "            <td>Low</td>\n",
              "        </tr>\n",
              "        <tr>\n",
              "            <td>Split Rail Beer &amp; Ale</td>\n",
              "            <td>1117.0</td>\n",
              "            <td>Medium</td>\n",
              "        </tr>\n",
              "        <tr>\n",
              "            <td>Spécialités du monde</td>\n",
              "            <td>2371.0</td>\n",
              "            <td>Medium</td>\n",
              "        </tr>\n",
              "        <tr>\n",
              "            <td>Suprêmes délices</td>\n",
              "            <td>11862.5</td>\n",
              "            <td>Very High</td>\n",
              "        </tr>\n",
              "        <tr>\n",
              "            <td>The Big Cheese</td>\n",
              "            <td>69.6</td>\n",
              "            <td>Low</td>\n",
              "        </tr>\n",
              "        <tr>\n",
              "            <td>The Cracker Box</td>\n",
              "            <td>326.0</td>\n",
              "            <td>Low</td>\n",
              "        </tr>\n",
              "        <tr>\n",
              "            <td>Toms Spezialitäten</td>\n",
              "            <td>910.4</td>\n",
              "            <td>Low</td>\n",
              "        </tr>\n",
              "        <tr>\n",
              "            <td>Tortuga Restaurante</td>\n",
              "            <td>1874.5</td>\n",
              "            <td>Medium</td>\n",
              "        </tr>\n",
              "        <tr>\n",
              "            <td>Tradição Hipermercados</td>\n",
              "            <td>4401.62</td>\n",
              "            <td>Medium</td>\n",
              "        </tr>\n",
              "        <tr>\n",
              "            <td>Trail&#x27;s Head Gourmet Provisioners</td>\n",
              "            <td>237.89999999999998</td>\n",
              "            <td>Low</td>\n",
              "        </tr>\n",
              "        <tr>\n",
              "            <td>Vaffeljernet</td>\n",
              "            <td>4333.5</td>\n",
              "            <td>Medium</td>\n",
              "        </tr>\n",
              "        <tr>\n",
              "            <td>Victuailles en stock</td>\n",
              "            <td>3022.0</td>\n",
              "            <td>Medium</td>\n",
              "        </tr>\n",
              "        <tr>\n",
              "            <td>Wartian Herkku</td>\n",
              "            <td>300</td>\n",
              "            <td>Low</td>\n",
              "        </tr>\n",
              "        <tr>\n",
              "            <td>Wellington Importadora</td>\n",
              "            <td>1245.0</td>\n",
              "            <td>Medium</td>\n",
              "        </tr>\n",
              "        <tr>\n",
              "            <td>White Clover Markets</td>\n",
              "            <td>15278.9</td>\n",
              "            <td>Very High</td>\n",
              "        </tr>\n",
              "        <tr>\n",
              "            <td>Wilman Kala</td>\n",
              "            <td>1987.0</td>\n",
              "            <td>Medium</td>\n",
              "        </tr>\n",
              "        <tr>\n",
              "            <td>Wolski  Zajazd</td>\n",
              "            <td>1865.1</td>\n",
              "            <td>Medium</td>\n",
              "        </tr>\n",
              "    </tbody>\n",
              "</table>"
            ]
          },
          "metadata": {},
          "execution_count": 162
        }
      ]
    },
    {
      "cell_type": "code",
      "source": [
        "%%sql\n",
        "DROP TABLE IF EXISTS cust_country;\n",
        "\n",
        "CREATE TEMP TABLE cust_country AS\n",
        "SELECT \"Customer\" AS Dimension, Country, COUNT(1) AS total_accounts\n",
        "FROM Customers\n",
        "GROUP BY 1, 2;"
      ],
      "metadata": {
        "colab": {
          "base_uri": "https://localhost:8080/",
          "height": 576
        },
        "id": "CCby2Te_5h7x",
        "outputId": "fa13b095-9833-4224-a44c-3e9c288851d3"
      },
      "execution_count": null,
      "outputs": [
        {
          "output_type": "stream",
          "name": "stdout",
          "text": [
            "   sqlite:///mydatabase.db\n",
            " * sqlite:///northwind.sqlite3\n",
            "Done.\n",
            "Done.\n",
            "Done.\n"
          ]
        },
        {
          "output_type": "execute_result",
          "data": {
            "text/plain": [
              "[('Customer', 'Argentina', 3),\n",
              " ('Customer', 'Austria', 2),\n",
              " ('Customer', 'Belgium', 2),\n",
              " ('Customer', 'Brazil', 9),\n",
              " ('Customer', 'Canada', 3),\n",
              " ('Customer', 'Denmark', 2),\n",
              " ('Customer', 'Finland', 2),\n",
              " ('Customer', 'France', 11),\n",
              " ('Customer', 'Germany', 11),\n",
              " ('Customer', 'Ireland', 1),\n",
              " ('Customer', 'Italy', 3),\n",
              " ('Customer', 'Mexico', 5),\n",
              " ('Customer', 'Norway', 1),\n",
              " ('Customer', 'Poland', 1),\n",
              " ('Customer', 'Portugal', 2),\n",
              " ('Customer', 'Spain', 5),\n",
              " ('Customer', 'Sweden', 2),\n",
              " ('Customer', 'Switzerland', 2),\n",
              " ('Customer', 'UK', 7),\n",
              " ('Customer', 'USA', 13),\n",
              " ('Customer', 'Venezuela', 4)]"
            ],
            "text/html": [
              "<table>\n",
              "    <thead>\n",
              "        <tr>\n",
              "            <th>Dimension</th>\n",
              "            <th>Country</th>\n",
              "            <th>total_accounts</th>\n",
              "        </tr>\n",
              "    </thead>\n",
              "    <tbody>\n",
              "        <tr>\n",
              "            <td>Customer</td>\n",
              "            <td>Argentina</td>\n",
              "            <td>3</td>\n",
              "        </tr>\n",
              "        <tr>\n",
              "            <td>Customer</td>\n",
              "            <td>Austria</td>\n",
              "            <td>2</td>\n",
              "        </tr>\n",
              "        <tr>\n",
              "            <td>Customer</td>\n",
              "            <td>Belgium</td>\n",
              "            <td>2</td>\n",
              "        </tr>\n",
              "        <tr>\n",
              "            <td>Customer</td>\n",
              "            <td>Brazil</td>\n",
              "            <td>9</td>\n",
              "        </tr>\n",
              "        <tr>\n",
              "            <td>Customer</td>\n",
              "            <td>Canada</td>\n",
              "            <td>3</td>\n",
              "        </tr>\n",
              "        <tr>\n",
              "            <td>Customer</td>\n",
              "            <td>Denmark</td>\n",
              "            <td>2</td>\n",
              "        </tr>\n",
              "        <tr>\n",
              "            <td>Customer</td>\n",
              "            <td>Finland</td>\n",
              "            <td>2</td>\n",
              "        </tr>\n",
              "        <tr>\n",
              "            <td>Customer</td>\n",
              "            <td>France</td>\n",
              "            <td>11</td>\n",
              "        </tr>\n",
              "        <tr>\n",
              "            <td>Customer</td>\n",
              "            <td>Germany</td>\n",
              "            <td>11</td>\n",
              "        </tr>\n",
              "        <tr>\n",
              "            <td>Customer</td>\n",
              "            <td>Ireland</td>\n",
              "            <td>1</td>\n",
              "        </tr>\n",
              "        <tr>\n",
              "            <td>Customer</td>\n",
              "            <td>Italy</td>\n",
              "            <td>3</td>\n",
              "        </tr>\n",
              "        <tr>\n",
              "            <td>Customer</td>\n",
              "            <td>Mexico</td>\n",
              "            <td>5</td>\n",
              "        </tr>\n",
              "        <tr>\n",
              "            <td>Customer</td>\n",
              "            <td>Norway</td>\n",
              "            <td>1</td>\n",
              "        </tr>\n",
              "        <tr>\n",
              "            <td>Customer</td>\n",
              "            <td>Poland</td>\n",
              "            <td>1</td>\n",
              "        </tr>\n",
              "        <tr>\n",
              "            <td>Customer</td>\n",
              "            <td>Portugal</td>\n",
              "            <td>2</td>\n",
              "        </tr>\n",
              "        <tr>\n",
              "            <td>Customer</td>\n",
              "            <td>Spain</td>\n",
              "            <td>5</td>\n",
              "        </tr>\n",
              "        <tr>\n",
              "            <td>Customer</td>\n",
              "            <td>Sweden</td>\n",
              "            <td>2</td>\n",
              "        </tr>\n",
              "        <tr>\n",
              "            <td>Customer</td>\n",
              "            <td>Switzerland</td>\n",
              "            <td>2</td>\n",
              "        </tr>\n",
              "        <tr>\n",
              "            <td>Customer</td>\n",
              "            <td>UK</td>\n",
              "            <td>7</td>\n",
              "        </tr>\n",
              "        <tr>\n",
              "            <td>Customer</td>\n",
              "            <td>USA</td>\n",
              "            <td>13</td>\n",
              "        </tr>\n",
              "        <tr>\n",
              "            <td>Customer</td>\n",
              "            <td>Venezuela</td>\n",
              "            <td>4</td>\n",
              "        </tr>\n",
              "    </tbody>\n",
              "</table>"
            ]
          },
          "metadata": {},
          "execution_count": 169
        }
      ]
    },
    {
      "cell_type": "code",
      "source": [
        "%%sql\n",
        "DROP TABLE IF EXISTS supp_country;\n",
        "\n",
        "CREATE TEMP TABLE supp_country AS\n",
        "SELECT \"Supplier\" AS Dimension, Country, COUNT(1) total_accounts\n",
        "FROM Suppliers\n",
        "GROUP BY 1, 2"
      ],
      "metadata": {
        "colab": {
          "base_uri": "https://localhost:8080/"
        },
        "id": "ufVMqobg-2Oj",
        "outputId": "42f4b157-3a16-40b2-f22b-fa036cd43b5c"
      },
      "execution_count": null,
      "outputs": [
        {
          "output_type": "stream",
          "name": "stdout",
          "text": [
            "   sqlite:///mydatabase.db\n",
            " * sqlite:///northwind.sqlite3\n",
            "Done.\n",
            "Done.\n"
          ]
        },
        {
          "output_type": "execute_result",
          "data": {
            "text/plain": [
              "[]"
            ]
          },
          "metadata": {},
          "execution_count": 171
        }
      ]
    },
    {
      "cell_type": "code",
      "source": [
        "%%sql\n",
        "with total AS (\n",
        "SELECT Country, Dimension, total_accounts\n",
        "FROM cust_country\n",
        "UNION ALL\n",
        "SELECT Country, Dimension, total_accounts\n",
        "FROM supp_country)\n",
        "\n",
        "SELECT Country, Dimension, total_accounts\n",
        "FROM total\n",
        "GROUP BY 1\n",
        "ORDER BY 1, 3 DESC"
      ],
      "metadata": {
        "colab": {
          "base_uri": "https://localhost:8080/",
          "height": 626
        },
        "id": "rJDlOOZa_JFW",
        "outputId": "d7938484-e5cc-40c8-a8fc-8d1e59f5bab0"
      },
      "execution_count": null,
      "outputs": [
        {
          "output_type": "stream",
          "name": "stdout",
          "text": [
            "   sqlite:///mydatabase.db\n",
            " * sqlite:///northwind.sqlite3\n",
            "Done.\n"
          ]
        },
        {
          "output_type": "execute_result",
          "data": {
            "text/plain": [
              "[('Argentina', 'Customer', 3),\n",
              " ('Australia', 'Supplier', 2),\n",
              " ('Austria', 'Customer', 2),\n",
              " ('Belgium', 'Customer', 2),\n",
              " ('Brazil', 'Customer', 9),\n",
              " ('Canada', 'Customer', 3),\n",
              " ('Denmark', 'Customer', 2),\n",
              " ('Finland', 'Customer', 2),\n",
              " ('France', 'Customer', 11),\n",
              " ('Germany', 'Customer', 11),\n",
              " ('Ireland', 'Customer', 1),\n",
              " ('Italy', 'Customer', 3),\n",
              " ('Japan', 'Supplier', 2),\n",
              " ('Mexico', 'Customer', 5),\n",
              " ('Netherlands', 'Supplier', 1),\n",
              " ('Norway', 'Customer', 1),\n",
              " ('Poland', 'Customer', 1),\n",
              " ('Portugal', 'Customer', 2),\n",
              " ('Singapore', 'Supplier', 1),\n",
              " ('Spain', 'Customer', 5),\n",
              " ('Sweden', 'Customer', 2),\n",
              " ('Switzerland', 'Customer', 2),\n",
              " ('UK', 'Customer', 7),\n",
              " ('USA', 'Customer', 13),\n",
              " ('Venezuela', 'Customer', 4)]"
            ],
            "text/html": [
              "<table>\n",
              "    <thead>\n",
              "        <tr>\n",
              "            <th>Country</th>\n",
              "            <th>Dimension</th>\n",
              "            <th>total_accounts</th>\n",
              "        </tr>\n",
              "    </thead>\n",
              "    <tbody>\n",
              "        <tr>\n",
              "            <td>Argentina</td>\n",
              "            <td>Customer</td>\n",
              "            <td>3</td>\n",
              "        </tr>\n",
              "        <tr>\n",
              "            <td>Australia</td>\n",
              "            <td>Supplier</td>\n",
              "            <td>2</td>\n",
              "        </tr>\n",
              "        <tr>\n",
              "            <td>Austria</td>\n",
              "            <td>Customer</td>\n",
              "            <td>2</td>\n",
              "        </tr>\n",
              "        <tr>\n",
              "            <td>Belgium</td>\n",
              "            <td>Customer</td>\n",
              "            <td>2</td>\n",
              "        </tr>\n",
              "        <tr>\n",
              "            <td>Brazil</td>\n",
              "            <td>Customer</td>\n",
              "            <td>9</td>\n",
              "        </tr>\n",
              "        <tr>\n",
              "            <td>Canada</td>\n",
              "            <td>Customer</td>\n",
              "            <td>3</td>\n",
              "        </tr>\n",
              "        <tr>\n",
              "            <td>Denmark</td>\n",
              "            <td>Customer</td>\n",
              "            <td>2</td>\n",
              "        </tr>\n",
              "        <tr>\n",
              "            <td>Finland</td>\n",
              "            <td>Customer</td>\n",
              "            <td>2</td>\n",
              "        </tr>\n",
              "        <tr>\n",
              "            <td>France</td>\n",
              "            <td>Customer</td>\n",
              "            <td>11</td>\n",
              "        </tr>\n",
              "        <tr>\n",
              "            <td>Germany</td>\n",
              "            <td>Customer</td>\n",
              "            <td>11</td>\n",
              "        </tr>\n",
              "        <tr>\n",
              "            <td>Ireland</td>\n",
              "            <td>Customer</td>\n",
              "            <td>1</td>\n",
              "        </tr>\n",
              "        <tr>\n",
              "            <td>Italy</td>\n",
              "            <td>Customer</td>\n",
              "            <td>3</td>\n",
              "        </tr>\n",
              "        <tr>\n",
              "            <td>Japan</td>\n",
              "            <td>Supplier</td>\n",
              "            <td>2</td>\n",
              "        </tr>\n",
              "        <tr>\n",
              "            <td>Mexico</td>\n",
              "            <td>Customer</td>\n",
              "            <td>5</td>\n",
              "        </tr>\n",
              "        <tr>\n",
              "            <td>Netherlands</td>\n",
              "            <td>Supplier</td>\n",
              "            <td>1</td>\n",
              "        </tr>\n",
              "        <tr>\n",
              "            <td>Norway</td>\n",
              "            <td>Customer</td>\n",
              "            <td>1</td>\n",
              "        </tr>\n",
              "        <tr>\n",
              "            <td>Poland</td>\n",
              "            <td>Customer</td>\n",
              "            <td>1</td>\n",
              "        </tr>\n",
              "        <tr>\n",
              "            <td>Portugal</td>\n",
              "            <td>Customer</td>\n",
              "            <td>2</td>\n",
              "        </tr>\n",
              "        <tr>\n",
              "            <td>Singapore</td>\n",
              "            <td>Supplier</td>\n",
              "            <td>1</td>\n",
              "        </tr>\n",
              "        <tr>\n",
              "            <td>Spain</td>\n",
              "            <td>Customer</td>\n",
              "            <td>5</td>\n",
              "        </tr>\n",
              "        <tr>\n",
              "            <td>Sweden</td>\n",
              "            <td>Customer</td>\n",
              "            <td>2</td>\n",
              "        </tr>\n",
              "        <tr>\n",
              "            <td>Switzerland</td>\n",
              "            <td>Customer</td>\n",
              "            <td>2</td>\n",
              "        </tr>\n",
              "        <tr>\n",
              "            <td>UK</td>\n",
              "            <td>Customer</td>\n",
              "            <td>7</td>\n",
              "        </tr>\n",
              "        <tr>\n",
              "            <td>USA</td>\n",
              "            <td>Customer</td>\n",
              "            <td>13</td>\n",
              "        </tr>\n",
              "        <tr>\n",
              "            <td>Venezuela</td>\n",
              "            <td>Customer</td>\n",
              "            <td>4</td>\n",
              "        </tr>\n",
              "    </tbody>\n",
              "</table>"
            ]
          },
          "metadata": {},
          "execution_count": 174
        }
      ]
    },
    {
      "cell_type": "code",
      "source": [
        "%%sql\n",
        "SELECT define('Value', )"
      ],
      "metadata": {
        "colab": {
          "base_uri": "https://localhost:8080/"
        },
        "id": "HS5CEdNx_YOR",
        "outputId": "e50c8196-c0c8-4d74-baa2-f3ce9b4ff0ec"
      },
      "execution_count": null,
      "outputs": [
        {
          "output_type": "stream",
          "name": "stdout",
          "text": [
            "   sqlite:///mydatabase.db\n",
            " * sqlite:///northwind.sqlite3\n",
            "(sqlite3.OperationalError) near \"FUNCTION\": syntax error\n",
            "[SQL: CREATE FUNCTION total_value(UnitPrice INT, Quantity INT)\n",
            "RETURNS INT\n",
            "BEGIN\n",
            "  RETURN UnitPrice * Quantity\n",
            "END;]\n",
            "(Background on this error at: https://sqlalche.me/e/20/e3q8)\n"
          ]
        }
      ]
    },
    {
      "cell_type": "code",
      "source": [
        "%%sql\n",
        "SELECT sql\n",
        "FROM sqlite_master\n",
        "WHERE type='table' AND name IN ('OrderDetails')"
      ],
      "metadata": {
        "colab": {
          "base_uri": "https://localhost:8080/",
          "height": 270
        },
        "id": "s_OZrCeH0v9v",
        "outputId": "2ccf0b45-032e-4f24-a608-04e3181c22d0"
      },
      "execution_count": null,
      "outputs": [
        {
          "output_type": "stream",
          "name": "stdout",
          "text": [
            "   sqlite:///mydatabase.db\n",
            " * sqlite:///northwind.sqlite3\n",
            "Done.\n"
          ]
        },
        {
          "output_type": "execute_result",
          "data": {
            "text/plain": [
              "[('CREATE TABLE [OrderDetails] (\\n  [OrderID] int NOT NULL\\n, [ProductID] int NOT NULL\\n, [UnitPrice] money DEFAULT 0 NOT NULL\\n, [Quantity] smallint DE ... (257 characters truncated) ... ON\\n, CONSTRAINT [FK_Order_Details_Products] FOREIGN KEY ([ProductID]) REFERENCES [Products] ([ProductID]) ON DELETE NO ACTION ON UPDATE NO ACTION\\n)',)]"
            ],
            "text/html": [
              "<table>\n",
              "    <thead>\n",
              "        <tr>\n",
              "            <th>sql</th>\n",
              "        </tr>\n",
              "    </thead>\n",
              "    <tbody>\n",
              "        <tr>\n",
              "            <td>CREATE TABLE [OrderDetails] (<br>  [OrderID] int NOT NULL<br>, [ProductID] int NOT NULL<br>, [UnitPrice] money DEFAULT 0 NOT NULL<br>, [Quantity] smallint DEFAULT 1 NOT NULL<br>, [Discount] real DEFAULT 0 NOT NULL<br>, CONSTRAINT [PK_Order_Details] PRIMARY KEY ([OrderID],[ProductID])<br>, CONSTRAINT [FK_Order_Details_Orders] FOREIGN KEY ([OrderID]) REFERENCES [Orders] ([OrderID]) ON DELETE NO ACTION ON UPDATE NO ACTION<br>, CONSTRAINT [FK_Order_Details_Products] FOREIGN KEY ([ProductID]) REFERENCES [Products] ([ProductID]) ON DELETE NO ACTION ON UPDATE NO ACTION<br>)</td>\n",
              "        </tr>\n",
              "    </tbody>\n",
              "</table>"
            ]
          },
          "metadata": {},
          "execution_count": 177
        }
      ]
    },
    {
      "cell_type": "code",
      "source": [
        "#Question 1: Remove Duplicates\n",
        "my_list = [1, 2, 2, 3, 4, 4, 5]\n",
        "# new_list = []\n",
        "# for x in my_list:\n",
        "#     if x not in new_list:\n",
        "#         new_list.append(x)\n",
        "\n",
        "# print(new_list)\n",
        "#alternative is using set()\n",
        "new_list_set = set(my_list)\n",
        "print(new_list_set)"
      ],
      "metadata": {
        "colab": {
          "base_uri": "https://localhost:8080/"
        },
        "id": "3B2uxtLQCadO",
        "outputId": "d0bd4f6b-19a3-409a-bb6c-4c091a8de635"
      },
      "execution_count": null,
      "outputs": [
        {
          "output_type": "stream",
          "name": "stdout",
          "text": [
            "{1, 2, 3, 4, 5}\n"
          ]
        }
      ]
    },
    {
      "cell_type": "code",
      "source": [
        "# Question 2: Count Occurrences\n",
        "my_list = [1, 2, 2, 3, 4, 4, 5]\n",
        "new_dict = {}\n",
        "\n",
        "def count_occurance(x):\n",
        "  for item in my_list:\n",
        "    if item in new_dict:\n",
        "      new_dict[item] += 1\n",
        "    else:\n",
        "      new_dict[item] = 1\n",
        "  return new_dict"
      ],
      "metadata": {
        "id": "5TFdbTQmTLRQ"
      },
      "execution_count": null,
      "outputs": []
    },
    {
      "cell_type": "code",
      "source": [
        "count_occurance(my_list)"
      ],
      "metadata": {
        "colab": {
          "base_uri": "https://localhost:8080/"
        },
        "id": "NQ7DGrSP2nRW",
        "outputId": "21e9c8a7-8bb4-4575-e93a-7853b4058bff"
      },
      "execution_count": null,
      "outputs": [
        {
          "output_type": "execute_result",
          "data": {
            "text/plain": [
              "{1: 1, 2: 2, 3: 1, 4: 2, 5: 1}"
            ]
          },
          "metadata": {},
          "execution_count": 33
        }
      ]
    },
    {
      "cell_type": "code",
      "source": [
        "print(new_dict)"
      ],
      "metadata": {
        "colab": {
          "base_uri": "https://localhost:8080/"
        },
        "id": "b92ZlSRb2vpv",
        "outputId": "196055d7-d30a-42e2-eb0e-c0dd4a7ff3a4"
      },
      "execution_count": null,
      "outputs": [
        {
          "output_type": "stream",
          "name": "stdout",
          "text": [
            "{1: 1, 2: 2, 3: 1, 4: 2, 5: 1}\n"
          ]
        }
      ]
    },
    {
      "cell_type": "code",
      "source": [
        "number = []\n",
        "occurance = []\n",
        "for key, value in new_dict.items():\n",
        "  number.append(key)\n",
        "  occurance.append(value)"
      ],
      "metadata": {
        "id": "3FwYo7dG2z6n"
      },
      "execution_count": null,
      "outputs": []
    },
    {
      "cell_type": "code",
      "source": [
        "print(f\"The key list is {number} \\nThe occurance is {occurance}\")"
      ],
      "metadata": {
        "colab": {
          "base_uri": "https://localhost:8080/"
        },
        "id": "i0SKoFKm3H4p",
        "outputId": "07c44c8b-2aa1-4aeb-fcc7-a3c1ec560d51"
      },
      "execution_count": null,
      "outputs": [
        {
          "output_type": "stream",
          "name": "stdout",
          "text": [
            "The key list is [1, 2, 3, 4, 5] \n",
            "The occurance is [1, 2, 1, 2, 1]\n"
          ]
        }
      ]
    },
    {
      "cell_type": "code",
      "source": [
        "print(new_dict)"
      ],
      "metadata": {
        "colab": {
          "base_uri": "https://localhost:8080/"
        },
        "id": "OLNoMtG9yrp9",
        "outputId": "fd3bac37-97de-4c0a-8b21-e518d3a119bc"
      },
      "execution_count": null,
      "outputs": [
        {
          "output_type": "stream",
          "name": "stdout",
          "text": [
            "{1: 1, 2: 2, 3: 1, 4: 2, 5: 1}\n"
          ]
        }
      ]
    },
    {
      "cell_type": "code",
      "source": [
        "my_dict = {'name': 'Nitesh', 'Age': 30, 'Address': 'San Jose, CA'}"
      ],
      "metadata": {
        "id": "jH43SkFaz3Bt"
      },
      "execution_count": null,
      "outputs": []
    },
    {
      "cell_type": "code",
      "source": [
        "key = []\n",
        "value = []\n",
        "for k, v in my_dict.items():\n",
        "  key.append(k)\n",
        "  value.append(v)\n"
      ],
      "metadata": {
        "id": "9wS73B9L0OJ1"
      },
      "execution_count": null,
      "outputs": []
    },
    {
      "cell_type": "code",
      "source": [
        "for key in my_dict:\n",
        "  print(key)"
      ],
      "metadata": {
        "colab": {
          "base_uri": "https://localhost:8080/"
        },
        "id": "Yw4EJTuf0ZHv",
        "outputId": "bcdf6597-473a-48a9-fb7a-7fbe05cd3cb7"
      },
      "execution_count": null,
      "outputs": [
        {
          "output_type": "stream",
          "name": "stdout",
          "text": [
            "name\n",
            "Age\n",
            "spouse\n"
          ]
        }
      ]
    },
    {
      "cell_type": "code",
      "source": [
        "my_dict['Age'] = 33"
      ],
      "metadata": {
        "id": "HMPaLU0S0qxc"
      },
      "execution_count": null,
      "outputs": []
    },
    {
      "cell_type": "code",
      "source": [
        "for key, value in my_dict.items():\n",
        "  print(value)"
      ],
      "metadata": {
        "colab": {
          "base_uri": "https://localhost:8080/"
        },
        "id": "cOKZjUAu0_jp",
        "outputId": "a704bb2e-638e-4fc8-b20a-092b524c314d"
      },
      "execution_count": null,
      "outputs": [
        {
          "output_type": "stream",
          "name": "stdout",
          "text": [
            "Nitesh\n",
            "33\n",
            "San Jose, CA\n",
            "Aisha\n"
          ]
        }
      ]
    },
    {
      "cell_type": "code",
      "source": [
        "my_dict['spouse'] = 'Aisha'"
      ],
      "metadata": {
        "id": "XtPRszn61J22"
      },
      "execution_count": null,
      "outputs": []
    },
    {
      "cell_type": "code",
      "source": [
        "my_dict.pop('Address')"
      ],
      "metadata": {
        "colab": {
          "base_uri": "https://localhost:8080/",
          "height": 35
        },
        "id": "kBWaVGGe1PbV",
        "outputId": "e99e63f2-e6f8-4da7-8fa9-8d5c07c8567b"
      },
      "execution_count": null,
      "outputs": [
        {
          "output_type": "execute_result",
          "data": {
            "text/plain": [
              "'San Jose, CA'"
            ],
            "application/vnd.google.colaboratory.intrinsic+json": {
              "type": "string"
            }
          },
          "metadata": {},
          "execution_count": 24
        }
      ]
    },
    {
      "cell_type": "code",
      "source": [
        "my_dict = {'name': 'Nitesh', 'Age': 30, 'Address': 'San Jose, CA'}\n",
        "for k, v in my_dict.items():\n",
        "  print(f\"The Key is '{k}' and Value is '{v}'\")"
      ],
      "metadata": {
        "colab": {
          "base_uri": "https://localhost:8080/"
        },
        "id": "LCv1132F1axf",
        "outputId": "d9ad67e4-42e8-4b59-cf85-b66fb67b1180"
      },
      "execution_count": null,
      "outputs": [
        {
          "output_type": "stream",
          "name": "stdout",
          "text": [
            "The Key is 'name' and Value is 'Nitesh'\n",
            "The Key is 'Age' and Value is '30'\n",
            "The Key is 'Address' and Value is 'San Jose, CA'\n"
          ]
        }
      ]
    },
    {
      "cell_type": "code",
      "source": [
        "#Question 3: Find Maximum and Minimum\n",
        "my_list = [3, 1, 4, 1, 5, 9, 2, 6, 5, 3, 5]\n",
        "my_list.sort()\n",
        "print(f\"Max value is {my_list[-1]} AND Min value is {my_list[0]}\")"
      ],
      "metadata": {
        "colab": {
          "base_uri": "https://localhost:8080/"
        },
        "id": "rV_uDA-Y1p64",
        "outputId": "7114a0d0-c98d-481a-cc58-e3f7a3f61837"
      },
      "execution_count": null,
      "outputs": [
        {
          "output_type": "stream",
          "name": "stdout",
          "text": [
            "Max value is 9 AND Min value is 1\n"
          ]
        }
      ]
    },
    {
      "cell_type": "code",
      "source": [
        "#Question 3: Find Maximum and Minimum by writing logic\n",
        "my_list = [3, 1, 4, 1, 5, 9, 2, 6, 5, 3, 5]\n",
        "def max_min(x):\n",
        "  max = 0\n",
        "  min = 0\n",
        "  for num in x:\n",
        "    if num != max and num >= max:\n",
        "      max = num\n",
        "    if num != min and num <= min:\n",
        "      min = num\n",
        "    else:\n",
        "      pass\n",
        "  return max, min"
      ],
      "metadata": {
        "id": "NmPEmY0-4EEO"
      },
      "execution_count": null,
      "outputs": []
    },
    {
      "cell_type": "code",
      "source": [
        "#Question 3: Find Maximum and Minimum by writing logic\n",
        "my_list = [3, 1, 4, 1, 5, 9, 2, 6, 5, 3, 5]\n",
        "def max_min(x):\n",
        "  if not x:\n",
        "    return None, None\n",
        "\n",
        "  min = x[0]\n",
        "  max = x[0]\n",
        "\n",
        "  for item in my_list:\n",
        "    if item < min:\n",
        "      min = item\n",
        "    elif item > max:\n",
        "      max = item\n",
        "    else:\n",
        "      pass\n",
        "\n",
        "  return min, max\n",
        "\n",
        "max_min(my_list)"
      ],
      "metadata": {
        "colab": {
          "base_uri": "https://localhost:8080/"
        },
        "id": "-cjynwx65_Qp",
        "outputId": "d9c8b2c1-29fa-4644-98b9-3ca42a52c2d0"
      },
      "execution_count": null,
      "outputs": [
        {
          "output_type": "execute_result",
          "data": {
            "text/plain": [
              "(1, 9)"
            ]
          },
          "metadata": {},
          "execution_count": 42
        }
      ]
    },
    {
      "cell_type": "code",
      "source": [
        "# Question 4: Filter List\n",
        "# Write a Python function to filter a list of numbers and keep only the even numbers.\n",
        "\n",
        "my_list = [1, 2, 3, 4, 5, 6, 7, 8, 9, 10]\n",
        "def even_num(x):\n",
        "  for x in my_list:\n",
        "    if x % 2 != 0:\n",
        "      my_list.remove(x)\n",
        "    else:\n",
        "      pass\n",
        "\n",
        "  return my_list\n",
        "\n",
        "even_num(my_list)"
      ],
      "metadata": {
        "colab": {
          "base_uri": "https://localhost:8080/"
        },
        "id": "Lm6vqE537sHl",
        "outputId": "c3159377-c019-4aab-c5ce-bd55c39a3cc9"
      },
      "execution_count": null,
      "outputs": [
        {
          "output_type": "execute_result",
          "data": {
            "text/plain": [
              "[2, 4, 6, 8, 10]"
            ]
          },
          "metadata": {},
          "execution_count": 45
        }
      ]
    },
    {
      "cell_type": "code",
      "source": [
        "#Make a dict with even and odd numbers\n",
        "my_list = [1, 2, 3, 4, 5, 6, 7, 8, 9, 10]\n",
        "\n",
        "def even_odd(x):\n",
        "  num_dict = {'Even': [], 'Odd': []}\n",
        "  for x in my_list:\n",
        "    if x % 2 == 0:\n",
        "      num_dict['Even'].append(x)\n",
        "    else:\n",
        "      num_dict['Odd'].append(x)\n",
        "\n",
        "  return num_dict\n",
        "\n",
        "even_odd(my_list)"
      ],
      "metadata": {
        "colab": {
          "base_uri": "https://localhost:8080/"
        },
        "id": "V-UD3Kph8xHj",
        "outputId": "cef172d5-6592-4539-e785-f3ac1e212811"
      },
      "execution_count": null,
      "outputs": [
        {
          "output_type": "execute_result",
          "data": {
            "text/plain": [
              "{'Even': [2, 4, 6, 8, 10], 'Odd': [1, 3, 5, 7, 9]}"
            ]
          },
          "metadata": {},
          "execution_count": 47
        }
      ]
    },
    {
      "cell_type": "code",
      "source": [
        "import random"
      ],
      "metadata": {
        "id": "Wm9VNR_k1xnl"
      },
      "execution_count": null,
      "outputs": []
    },
    {
      "cell_type": "code",
      "source": [
        " #Exercise 1: Filter Even Numbers\n",
        "my_list = []\n",
        "even_odd_dict = {'Even': [], 'Odd': []}\n",
        " for x in range(20):\n",
        "  my_list.append(random.randint(1, 150))\n",
        "  for y in my_list:\n",
        "    if y % 2 == 0:\n",
        "      even_odd_dict['Even'].append(y)\n",
        "    else:\n",
        "      even_odd_dict['Odd'].append(y)\n"
      ],
      "metadata": {
        "id": "isMZ-6no98zH"
      },
      "execution_count": null,
      "outputs": []
    },
    {
      "cell_type": "code",
      "source": [
        "print(my_list, even_list)"
      ],
      "metadata": {
        "colab": {
          "base_uri": "https://localhost:8080/"
        },
        "id": "cVDs6TXw1wUv",
        "outputId": "a43dc2ea-e980-4c50-8b5d-e857a2c78586"
      },
      "execution_count": null,
      "outputs": [
        {
          "output_type": "stream",
          "name": "stdout",
          "text": [
            "[72, 89, 130, 68, 105, 88, 58, 39, 21, 14, 19, 75, 97, 74, 22, 60, 54, 24, 82, 20, 121, 117, 139, 1, 87, 123, 43, 41, 88, 24] [72, 72, 72, 130, 72, 130, 68, 72, 130, 68, 72, 130, 68, 88, 72, 130, 68, 88, 58, 72, 130, 68, 88, 58, 72, 130, 68, 88, 58, 72, 130, 68, 88, 58, 14, 72, 130, 68, 88, 58, 14, 72, 130, 68, 88, 58, 14, 72, 130, 68, 88, 58, 14, 72, 130, 68, 88, 58, 14, 74, 72, 130, 68, 88, 58, 14, 74, 22, 72, 130, 68, 88, 58, 14, 74, 22, 60, 72, 130, 68, 88, 58, 14, 74, 22, 60, 54, 72, 130, 68, 88, 58, 14, 74, 22, 60, 54, 24, 72, 130, 68, 88, 58, 14, 74, 22, 60, 54, 24, 82, 72, 130, 68, 88, 58, 14, 74, 22, 60, 54, 24, 82, 20, 72, 130, 68, 88, 58, 14, 74, 22, 60, 54, 24, 82, 20, 72, 130, 68, 88, 58, 14, 74, 22, 60, 54, 24, 82, 20, 72, 130, 68, 88, 58, 14, 74, 22, 60, 54, 24, 82, 20, 72, 130, 68, 88, 58, 14, 74, 22, 60, 54, 24, 82, 20, 72, 130, 68, 88, 58, 14, 74, 22, 60, 54, 24, 82, 20, 72, 130, 68, 88, 58, 14, 74, 22, 60, 54, 24, 82, 20, 72, 130, 68, 88, 58, 14, 74, 22, 60, 54, 24, 82, 20, 72, 130, 68, 88, 58, 14, 74, 22, 60, 54, 24, 82, 20, 72, 130, 68, 88, 58, 14, 74, 22, 60, 54, 24, 82, 20, 88, 72, 130, 68, 88, 58, 14, 74, 22, 60, 54, 24, 82, 20, 88, 24]\n"
          ]
        }
      ]
    },
    {
      "cell_type": "code",
      "source": [
        "print(even_odd_dict)"
      ],
      "metadata": {
        "colab": {
          "base_uri": "https://localhost:8080/"
        },
        "id": "ngRKc-TT2NPG",
        "outputId": "cc47cae9-87c0-40fc-88dc-2455f8884ed1"
      },
      "execution_count": null,
      "outputs": [
        {
          "output_type": "stream",
          "name": "stdout",
          "text": [
            "{'Even': [34, 34, 102, 34, 102, 34, 102, 140, 34, 102, 140, 100, 34, 102, 140, 100, 34, 102, 140, 100, 56, 34, 102, 140, 100, 56, 34, 102, 140, 100, 56, 10, 34, 102, 140, 100, 56, 10, 34, 102, 140, 100, 56, 10, 8, 34, 102, 140, 100, 56, 10, 8, 34, 102, 140, 100, 56, 10, 8, 34, 102, 140, 100, 56, 10, 8, 68, 34, 102, 140, 100, 56, 10, 8, 68, 132, 34, 102, 140, 100, 56, 10, 8, 68, 132, 34, 102, 140, 100, 56, 10, 8, 68, 132, 122, 34, 102, 140, 100, 56, 10, 8, 68, 132, 122, 34, 102, 140, 100, 56, 10, 8, 68, 132, 122, 60], 'Odd': [13, 13, 13, 13, 51, 13, 51, 13, 51, 13, 51, 27, 13, 51, 27, 13, 51, 27, 33, 13, 51, 27, 33, 13, 51, 27, 33, 131, 13, 51, 27, 33, 131, 13, 51, 27, 33, 131, 51, 13, 51, 27, 33, 131, 51, 25, 13, 51, 27, 33, 131, 51, 25, 13, 51, 27, 33, 131, 51, 25, 13, 51, 27, 33, 131, 51, 25, 7, 13, 51, 27, 33, 131, 51, 25, 7, 13, 51, 27, 33, 131, 51, 25, 7, 105, 13, 51, 27, 33, 131, 51, 25, 7, 105]}\n"
          ]
        }
      ]
    },
    {
      "cell_type": "markdown",
      "source": [
        "Exercise 2: Calculate Mean and Median\n",
        "\n",
        "Write a Python function that calculates the mean (average) and median of a list of numbers. You can assume the input list is not empty."
      ],
      "metadata": {
        "id": "pM5ZS9_W37B-"
      }
    },
    {
      "cell_type": "code",
      "source": [
        "from sqlalchemy.util import non_memoized_property\n",
        "#random list\n",
        "rand_list = [random.randint(1, 200) for x in range(20)]\n",
        "rand_list.sort()\n",
        "print(rand_list)\n",
        "\n",
        "total_of_items = sum(rand_list)\n",
        "total_number_of_items = len(rand_list)\n",
        "mean = total_of_items/total_number_of_items\n",
        "\n",
        "if total_number_of_items == 0:\n",
        "  median = None\n",
        "\n",
        "if total_number_of_items % 2 != 0:\n",
        "  median_val_1 = rand_list[(total_number_of_items//2)-1]\n",
        "  median_val_2 = rand_list[(total_number_of_items//2)]\n",
        "  median_list = rand_list[median_val_1:median_val_2]\n",
        "  median = median_list\n",
        "else:\n",
        "  median_index = (total_number_of_items//2)+1\n",
        "  median = rand_list[median_index]\n",
        "\n",
        "\n",
        "print(f\"The mean value is: {mean} And median is: {median}\")"
      ],
      "metadata": {
        "colab": {
          "base_uri": "https://localhost:8080/"
        },
        "id": "y5xCPYmd6PU0",
        "outputId": "c2be1ff3-2540-481a-d291-e1a34af77699"
      },
      "execution_count": null,
      "outputs": [
        {
          "output_type": "stream",
          "name": "stdout",
          "text": [
            "[5, 12, 14, 18, 21, 30, 32, 42, 52, 55, 67, 67, 78, 108, 120, 164, 173, 187, 193, 196]\n",
            "The mean value is: 81.7 And median is: 67\n"
          ]
        }
      ]
    },
    {
      "cell_type": "code",
      "source": [
        "my_list_even = [x for x in range(20) if x % 2 == 0]\n",
        "print(my_list_even)"
      ],
      "metadata": {
        "colab": {
          "base_uri": "https://localhost:8080/"
        },
        "id": "WRZSRMGz4k3b",
        "outputId": "0e662ce0-7cf1-4713-9106-c64312a3c6d9"
      },
      "execution_count": null,
      "outputs": [
        {
          "output_type": "stream",
          "name": "stdout",
          "text": [
            "[0, 2, 4, 6, 8, 10, 12, 14, 16, 18]\n"
          ]
        }
      ]
    },
    {
      "cell_type": "code",
      "source": [
        "#Lambda == Inline ()s\n",
        "#Lambda functions are typically used for short, simple operations where you don't want to define a full function using def.\n",
        "#define a quick, throwaway function for a specific purpose.\n",
        "#They are especially useful when working with functions like map, filter, and reduce, or when sorting data using custom criteria.\n",
        "add_2 = lambda x, y: (x + y)*2\n"
      ],
      "metadata": {
        "id": "U2mdR3xOAeQG"
      },
      "execution_count": null,
      "outputs": []
    },
    {
      "cell_type": "code",
      "source": [
        "add_2(4, 3)"
      ],
      "metadata": {
        "colab": {
          "base_uri": "https://localhost:8080/"
        },
        "id": "6NudwMK2LFRT",
        "outputId": "1ce7cae4-d0a4-4d2a-cb27-05c3cad009cd"
      },
      "execution_count": null,
      "outputs": [
        {
          "output_type": "execute_result",
          "data": {
            "text/plain": [
              "14"
            ]
          },
          "metadata": {},
          "execution_count": 61
        }
      ]
    },
    {
      "cell_type": "code",
      "source": [
        "#map(function, iterable)\n",
        "#You can use a lambda function with map to apply a specific operation to each element in the iterable.\n",
        "numbers = [x for x in range(1, 6)]\n",
        "squared = map(lambda x: x**2, numbers)\n",
        "print(f\"The squared list with map(): {list(squared)}\")\n",
        "\n",
        "even = map(lambda x: x % 2 == 0, numbers)\n",
        "print(f\"The even list with map(): {list(even)}\")\n",
        "\n",
        "\n",
        "#if you want the values, then use filter\n",
        "#filter(function, iterable)\n",
        "even = filter(lambda x: x % 2 == 0, numbers)\n",
        "print(f\"The even list with filter(): {list(even)}\")\n",
        "\n",
        "\n",
        "#functools.reduce(function, iterable)\n",
        "from functools import reduce\n",
        "product = reduce(lambda x, y: x*y, [1, 4, 9, 16, 25])\n",
        "print(f\"The product list with reduce(): {product}\")"
      ],
      "metadata": {
        "colab": {
          "base_uri": "https://localhost:8080/"
        },
        "id": "j7l-Wh9uLG7N",
        "outputId": "5c60da92-3f84-40c2-89c3-54c7ba505006"
      },
      "execution_count": null,
      "outputs": [
        {
          "output_type": "stream",
          "name": "stdout",
          "text": [
            "The squared list with map(): [1, 4, 9, 16, 25]\n",
            "The even list with map(): [False, True, False, True, False]\n",
            "The even list with filter(): [2, 4]\n",
            "The product list with reduce(): 14400\n"
          ]
        }
      ]
    },
    {
      "cell_type": "code",
      "source": [
        "#calculating mean of a list using reduce()\n",
        "numbers = [random.randint(1, 130) for x in range(10)]\n",
        "sum = reduce(lambda x, y: x + y, numbers)\n",
        "length = len(numbers)\n",
        "print(f\"The mean is {sum//length}\")\n",
        "#numerator//denominator gives int not float"
      ],
      "metadata": {
        "colab": {
          "base_uri": "https://localhost:8080/"
        },
        "id": "-RzgqdjkLwdA",
        "outputId": "ef39db50-ad6a-45df-c923-3c8784687950"
      },
      "execution_count": null,
      "outputs": [
        {
          "output_type": "stream",
          "name": "stdout",
          "text": [
            "The mean is 53\n"
          ]
        }
      ]
    },
    {
      "cell_type": "markdown",
      "source": [
        "Exercise 3: Remove Vowels\n",
        "\n",
        "Write a Python function that takes a string as input and returns the same string with all vowels removed. For example, if the input is \"hello,\" the output should be \"hll.\""
      ],
      "metadata": {
        "id": "94vPcVa2Q8Bm"
      }
    },
    {
      "cell_type": "code",
      "source": [
        "sentance = input(\"Please enter your sentance: \")\n",
        "sentance_no_vow = \"\"\n",
        "for x in sentance:\n",
        "  if x.lower() not in ['a', 'e', 'i', 'o', 'u']:\n",
        "    sentance_no_vow+=x.lower()\n",
        "  else:\n",
        "    pass\n",
        "print(sentance_no_vow)"
      ],
      "metadata": {
        "colab": {
          "base_uri": "https://localhost:8080/"
        },
        "id": "viKJpKlCRatC",
        "outputId": "c9c24af3-ab1f-4eb6-c7ec-a334cf26500d"
      },
      "execution_count": null,
      "outputs": [
        {
          "output_type": "stream",
          "name": "stdout",
          "text": [
            "Please enter your sentance: HELOOOOOOO\n",
            "hl\n"
          ]
        }
      ]
    },
    {
      "cell_type": "markdown",
      "source": [
        "Exercise 4: Reverse a String\n",
        "\n",
        "Write a Python function that reverses a given string. For example, if the input is \"Python,\" the output should be \"nohtyP.\""
      ],
      "metadata": {
        "id": "PUY1sR1Wk15b"
      }
    },
    {
      "cell_type": "code",
      "source": [
        "string = input(\"Please enter your sentence: \")\n",
        "reverse = string[::-1]\n",
        "print(reverse)"
      ],
      "metadata": {
        "colab": {
          "base_uri": "https://localhost:8080/"
        },
        "id": "M1sOGUlTRv9K",
        "outputId": "850e2029-6168-4fbd-d69d-85025030245e"
      },
      "execution_count": null,
      "outputs": [
        {
          "output_type": "stream",
          "name": "stdout",
          "text": [
            "Please enter your sentence: aoudaweoufhefiuheaouhdoiwdoiaaiwnd\n",
            "dnwiaaiodwiodhuoaehuifehfuoewaduoa\n"
          ]
        }
      ]
    },
    {
      "cell_type": "markdown",
      "source": [
        "Exercise 5: Palindrome Check\n",
        "\n",
        "Write a Python function that checks if a given string is a palindrome. A palindrome is a word, phrase, or sequence that reads the same backward as forward."
      ],
      "metadata": {
        "id": "bAc8nRoB0Szd"
      }
    },
    {
      "cell_type": "code",
      "source": [
        "string = input(\"Please enter your sentence: \")\n",
        "reverse = string[::-1]\n",
        "\n",
        "print(f\"Is the word a Palidrome? {string == reverse}\")"
      ],
      "metadata": {
        "colab": {
          "base_uri": "https://localhost:8080/"
        },
        "id": "S28Y9epCzjLw",
        "outputId": "667fdc53-b744-44ab-8d86-d552099b168f"
      },
      "execution_count": null,
      "outputs": [
        {
          "output_type": "stream",
          "name": "stdout",
          "text": [
            "Please enter your sentence: add\n",
            "Is the word a Palidrome? False\n"
          ]
        }
      ]
    },
    {
      "cell_type": "markdown",
      "source": [
        "Exercise 6: Merge Two Lists\n",
        "\n",
        "Write a Python function that takes two lists as input and returns a new list that contains all elements from both lists, preserving the order of elements."
      ],
      "metadata": {
        "id": "G9NFD8wn0716"
      }
    },
    {
      "cell_type": "code",
      "source": [
        "list_1 = [x for x in range(1, 11)]\n",
        "list_2 = [x for x in range(11, 21)]\n",
        "list_3 = list_1 + list_2\n",
        "print(list_3)"
      ],
      "metadata": {
        "colab": {
          "base_uri": "https://localhost:8080/"
        },
        "id": "0JpHiHnr01f_",
        "outputId": "94d4ece0-ad7d-4d1a-9b03-416020d7748f"
      },
      "execution_count": null,
      "outputs": [
        {
          "output_type": "stream",
          "name": "stdout",
          "text": [
            "[1, 2, 3, 4, 5, 6, 7, 8, 9, 10, 11, 12, 13, 14, 15, 16, 17, 18, 19, 20]\n"
          ]
        }
      ]
    },
    {
      "cell_type": "markdown",
      "source": [
        "Exercise 7: Find Common Elements\n",
        "\n",
        "Write a Python function that finds and returns the common elements between two lists."
      ],
      "metadata": {
        "id": "4VTtsA-v3G7b"
      }
    },
    {
      "cell_type": "code",
      "source": [
        "list_1 = [x for x in range(1, 11)]\n",
        "list_2 = [x for x in range(5, 11)]\n",
        "list_3_lc = [x for x in list_1 if x in list_2]\n",
        "list_3_lambda = list(filter(lambda x: x in list_2, list_1))\n",
        "print(list_3_lambda)"
      ],
      "metadata": {
        "colab": {
          "base_uri": "https://localhost:8080/"
        },
        "id": "UOqHE8OP3AFs",
        "outputId": "f59cb0b3-54fd-4b69-994f-b7f49f3b5391"
      },
      "execution_count": null,
      "outputs": [
        {
          "output_type": "stream",
          "name": "stdout",
          "text": [
            "[5, 6, 7, 8, 9, 10]\n"
          ]
        }
      ]
    },
    {
      "cell_type": "markdown",
      "source": [
        "Exercise 8: Count Words in a Sentence\n",
        "\n",
        "Write a Python function that takes a sentence as input and counts the number of words in it. You can assume that words in the sentence are separated by spaces."
      ],
      "metadata": {
        "id": "qemEQyGJ4I__"
      }
    },
    {
      "cell_type": "code",
      "source": [
        "sentence = \"Hello World This is Python\"\n",
        "\n",
        "def word_count(text):\n",
        "  words = 0\n",
        "  for x in text:\n",
        "    if x == \" \":\n",
        "      words+=1\n",
        "  return words+1\n",
        "\n",
        "word_count(sentence)"
      ],
      "metadata": {
        "colab": {
          "base_uri": "https://localhost:8080/"
        },
        "id": "N5CUFq303s0M",
        "outputId": "5b439181-0b7e-4b5c-c76f-587a19323cf7"
      },
      "execution_count": null,
      "outputs": [
        {
          "output_type": "execute_result",
          "data": {
            "text/plain": [
              "5"
            ]
          },
          "metadata": {},
          "execution_count": 145
        }
      ]
    },
    {
      "cell_type": "markdown",
      "source": [
        "Exercise 9: Remove Duplicates\n",
        "\n",
        "Write a Python function that removes duplicate elements from a list while preserving the order of the remaining elements."
      ],
      "metadata": {
        "id": "L_XnsJSFFkVi"
      }
    },
    {
      "cell_type": "code",
      "source": [
        "dict_of_words_number = {\"Numbers\": [random.randint(1, 5) for x in range(1, 11)], \"Sentence\" : input(\"please enter sentence of your choice:  \").split()}"
      ],
      "metadata": {
        "colab": {
          "base_uri": "https://localhost:8080/"
        },
        "id": "vBRCG7nBEzVL",
        "outputId": "eebc7bd4-704f-4796-c353-5aff2bbe3919"
      },
      "execution_count": null,
      "outputs": [
        {
          "name": "stdout",
          "output_type": "stream",
          "text": [
            "please enter sentence of your choice:  Hello World This is Python, Python World, baby!\n"
          ]
        }
      ]
    },
    {
      "cell_type": "code",
      "source": [
        "def dedup(y):\n",
        "  list_of_elements = [random.randint(1, 20) for x in range(1, y)]\n",
        "  duplicated = list_of_elements\n",
        "  deduped = list(set(list_of_elements))\n",
        "  print(f\"Before dedup: {duplicated}\")\n",
        "  print(f\"After dedup: {deduped}\")"
      ],
      "metadata": {
        "id": "OuzO-g3QGBHz"
      },
      "execution_count": null,
      "outputs": []
    },
    {
      "cell_type": "code",
      "source": [
        "dedup(50)"
      ],
      "metadata": {
        "colab": {
          "base_uri": "https://localhost:8080/"
        },
        "id": "MAYSt1OZGM6Q",
        "outputId": "e096bdfd-223c-4fb6-e463-92646564403e"
      },
      "execution_count": null,
      "outputs": [
        {
          "output_type": "stream",
          "name": "stdout",
          "text": [
            "Before dedup: [7, 6, 5, 20, 6, 9, 13, 16, 1, 10, 5, 11, 1, 5, 1, 10, 8, 17, 5, 12, 4, 11, 18, 15, 6, 9, 17, 14, 14, 17, 2, 20, 9, 11, 11, 13, 3, 14, 10, 3, 1, 14, 13, 19, 6, 8, 8, 19, 9]\n",
            "After dedup: [1, 2, 3, 4, 5, 6, 7, 8, 9, 10, 11, 12, 13, 14, 15, 16, 17, 18, 19, 20]\n"
          ]
        }
      ]
    },
    {
      "cell_type": "markdown",
      "source": [
        "Exercise 10: Calculate Factorial\n",
        "\n",
        "Write a Python function that calculates the factorial of a given positive integer."
      ],
      "metadata": {
        "id": "bdDbvHgbK1KZ"
      }
    },
    {
      "cell_type": "code",
      "source": [
        "def factorial(num):\n",
        "  factorials = reduce(lambda x, y: x*y,  [z for z in range(1, num+1)])\n",
        "\n",
        "  return factorials"
      ],
      "metadata": {
        "id": "ET4O5h64K21C"
      },
      "execution_count": null,
      "outputs": []
    },
    {
      "cell_type": "code",
      "source": [
        "factorial(51)"
      ],
      "metadata": {
        "colab": {
          "base_uri": "https://localhost:8080/"
        },
        "id": "U7714KGpL03W",
        "outputId": "069b7d0e-a58b-408f-9824-e6a848f87688"
      },
      "execution_count": null,
      "outputs": [
        {
          "output_type": "execute_result",
          "data": {
            "text/plain": [
              "1551118753287382280224243016469303211063259720016986112000000000000"
            ]
          },
          "metadata": {},
          "execution_count": 229
        }
      ]
    },
    {
      "cell_type": "code",
      "source": [
        "def factorial(n):\n",
        "  if n == 1:\n",
        "    return 1\n",
        "  else:\n",
        "    return n * factorial(n-1)\n",
        "\n",
        "factorial(10)"
      ],
      "metadata": {
        "colab": {
          "base_uri": "https://localhost:8080/"
        },
        "id": "vzv_GtY_ZU6d",
        "outputId": "94171559-7fcc-4971-c2e0-036b6474e596"
      },
      "execution_count": null,
      "outputs": [
        {
          "output_type": "execute_result",
          "data": {
            "text/plain": [
              "3628800"
            ]
          },
          "metadata": {},
          "execution_count": 2
        }
      ]
    },
    {
      "cell_type": "code",
      "source": [
        "import numpy as np\n",
        "from sklearn.model_selection import train_test_split\n",
        "from sklearn.linear_model import LogisticRegression\n",
        "from sklearn.metrics import accuracy_score, confusion_matrix, classification_report\n",
        "\n",
        "# Sample data\n",
        "X = np.array([[90], [85], [88], [78], [94], [89], [96], [85], [80], [70]])\n",
        "y = np.array([1, 0, 1, 0, 1, 1, 1, 0, 0, 0])  # 1 for pass, 0 for fail\n",
        "\n",
        "# Split the data into a training set and a testing set\n",
        "X_train, X_test, y_train, y_test = train_test_split(X, y, test_size=0.2, random_state=42)\n",
        "\n",
        "# Create and train the logistic regression model\n",
        "model = LogisticRegression()\n",
        "model.fit(X_train, y_train)\n",
        "\n",
        "# Make predictions on the testing set\n",
        "y_pred = model.predict(X_test)\n",
        "\n",
        "# Evaluate the model's performance\n",
        "accuracy = accuracy_score(y_test, y_pred)\n",
        "confusion = confusion_matrix(y_test, y_pred)\n",
        "report = classification_report(y_test, y_pred)\n",
        "\n",
        "print(\"Accuracy:\", accuracy)\n",
        "print(\"Confusion Matrix:\\n\", confusion)\n",
        "print(\"Classification Report:\\n\", report)"
      ],
      "metadata": {
        "id": "u9C28oNNL2IY",
        "colab": {
          "base_uri": "https://localhost:8080/"
        },
        "outputId": "e6bc0876-7cc9-4ad8-941f-2df13e8b89fa"
      },
      "execution_count": null,
      "outputs": [
        {
          "output_type": "stream",
          "name": "stdout",
          "text": [
            "Accuracy: 1.0\n",
            "Confusion Matrix:\n",
            " [[2]]\n",
            "Classification Report:\n",
            "               precision    recall  f1-score   support\n",
            "\n",
            "           0       1.00      1.00      1.00         2\n",
            "\n",
            "    accuracy                           1.00         2\n",
            "   macro avg       1.00      1.00      1.00         2\n",
            "weighted avg       1.00      1.00      1.00         2\n",
            "\n"
          ]
        }
      ]
    },
    {
      "cell_type": "code",
      "source": [
        "def fibo(n):\n",
        "  if n <= 0:\n",
        "    return 0\n",
        "  elif n == 1:\n",
        "    return 1\n",
        "  else:\n",
        "    return fibo(n-1) + fibo(n-2)\n",
        "\n",
        "fibo(5)\n"
      ],
      "metadata": {
        "colab": {
          "base_uri": "https://localhost:8080/"
        },
        "id": "0MzSdIItWSZ0",
        "outputId": "2ad15521-9778-479b-a2f4-8ffc6319bf06"
      },
      "execution_count": null,
      "outputs": [
        {
          "output_type": "execute_result",
          "data": {
            "text/plain": [
              "5"
            ]
          },
          "metadata": {},
          "execution_count": 4
        }
      ]
    },
    {
      "cell_type": "code",
      "source": [
        "class Profile:\n",
        "    def __init__(self, name, age):\n",
        "        self.name = name\n",
        "        self.age = age\n",
        "\n",
        "    def group(self):\n",
        "        print(f\"Name: {self.name}\")\n",
        "        print(f\"Age: {self.age}\")\n",
        "\n",
        "# Creating two instances of the Profile class\n",
        "person1 = Profile(\"John\", 30)\n",
        "person2 = Profile(\"Alice\", 25)\n",
        "\n",
        "# Calling the 'group' method for the first person\n",
        "print(\"Person 1:\")\n",
        "person1.group()\n",
        "\n",
        "# Calling the 'group' method for the second person\n",
        "print(\"\\nPerson 2:\")\n",
        "person2.group()"
      ],
      "metadata": {
        "colab": {
          "base_uri": "https://localhost:8080/"
        },
        "id": "9R48Dukgal4G",
        "outputId": "9eba99b2-49ca-493d-b1af-685774f5caf9"
      },
      "execution_count": null,
      "outputs": [
        {
          "output_type": "stream",
          "name": "stdout",
          "text": [
            "Person 1:\n",
            "Name: John\n",
            "Age: 30\n",
            "\n",
            "Person 2:\n",
            "Name: Alice\n",
            "Age: 25\n"
          ]
        }
      ]
    },
    {
      "cell_type": "code",
      "source": [
        "##INSTALLING SPARK\n",
        "\n",
        "# innstall java\n",
        "!apt-get install openjdk-8-jdk-headless -qq > /dev/null\n",
        "\n",
        "# # install spark (change the version number if needed)\n",
        "!wget -q https://archive.apache.org/dist/spark/spark-3.5.0/spark-3.5.0-bin-hadoop3-scala2.13.tgz\n",
        "\n",
        "# # unzip the spark file to the current folder\n",
        "!tar xf spark-3.5.0-bin-hadoop3-scala2.13.tgz\n",
        "\n",
        "# # set your spark folder to your system path environment.\n",
        "import os\n",
        "os.environ[\"JAVA_HOME\"] = \"/usr/lib/jvm/java-8-openjdk-amd64\"\n",
        "os.environ[\"SPARK_HOME\"] = \"/content/spark-3.5.0-bin-hadoop3-scala2.13\"\n",
        "os.environ['PYSPARK_SUBMIT_ARGS'] = '--packages com.amazonaws:aws-java-sdk-pom:1.11.538,org.apache.hadoop:hadoop-aws:2.7.3 pyspark-shell'\n",
        "\n",
        "\n",
        "# # install findspark using pip\n",
        "!pip install --quiet findspark\n",
        "\n",
        "# # install pyspark using pip"
      ],
      "metadata": {
        "id": "fJ_2L4pf9CUH"
      },
      "execution_count": null,
      "outputs": []
    },
    {
      "cell_type": "code",
      "source": [
        "df = spark.read.option('Header', True).csv(\"/content/drive/MyDrive/Resume/2023/Practice_Python_SQL_PYsrpak/amazon.csv\")"
      ],
      "metadata": {
        "id": "icim2vnySTr3"
      },
      "execution_count": null,
      "outputs": []
    },
    {
      "cell_type": "code",
      "source": [
        "df.show(10, False)"
      ],
      "metadata": {
        "colab": {
          "base_uri": "https://localhost:8080/"
        },
        "id": "Rp6VAJFESx2K",
        "outputId": "142de6ea-542e-4846-fe37-fc7c0a20370b"
      },
      "execution_count": null,
      "outputs": [
        {
          "output_type": "stream",
          "name": "stdout",
          "text": [
            "+----------+-------------------------------------------------------------------------------------------------------------------------------------------------------------------------------------------------------+---------------------------------------------------------------------------------+----------------+------------+-------------------+------+------------+---------------------------------------------------------------------------------------------------------------------------------------------------------------------------------------------------------------------------------------------------------------------------------------------------------------------------------------------------------------------------------------------------------------------------------------------------------------------------------------------------------------------------------------------------------------------------------------------------------------------------------------------------------------------------------------------------------------------------------------------------------------------------------------------------------------------------------------------------------------------------------------------------------------------------------------------------------------------------------------------------------------------------------------------------------------------------------------------------------------------------------------------+---------------------------------------------------------------------------------------------------------------------------------------------------------------------------------------------------------------------------------------+--------------------------------------------------------------------------------------------------------+-----------------------------------------------------------------------------------------------------------------------+---------------------------------------------------------------------------------------------------------------------------------------------------------------------------------------------------------------------------------------------------------------------------------------+-----------------------------------------------------------------------------------------------------------------------------------------------------------------------------------------------------------------------------------------------------------------------------------------------------------------------------------------------------------------------------------------------------------------------------------------------------------------------------------------------------------------------------------------------------------------------------------------------------------------------------------------------------------------------------------------------------------------------------------------------------------------------------------------------------------------------------------------------------------------------------------------------------------------------------------------------------------------------------------------------------------------------------------------------------------------------------------------------------------------------------------------------------------------------------------------------------------------------------------------------------------------------------------------------------------------------------------------------------------------------------------------------------------------------------------------------------------------------------------------------------------------------------------------------------------------------------------------------------------------------------------------------------------------------------------------------------------------------------------------------------------------------------------------------------------------------------------------------------------------------------------------------------------------------------------------------------------------------------------------------------------------------------------------------------------------------------------------------------------------------------------------------------------------------------------------------------------------------------------------------------------------------------------------------------------------------------------------------------------------------------------------------------------------------------------------------------------------------------------------------------------------------------------------------------------------------------------------------------------------------------------------------------------------------------------------------------------------------------------------------------------------------------------------------------------------------------------------------------------------------------------------------------------------------------------------------------------------------------------------------------------------------------------------------------------------------------------------------------------------------------------------------------------------------------------------------------------------------------------------------------------------------------------------------------------------------------------------------------------------------------------------------------------------------------------------------------------------------------------------------------------------------------------------------------------------------------------------------------------------------------------------------------------------------------------------------------------------------------------------------------------------------------------------------------------------------------------------------------------------------------------------------------------------------------------------------------------------------------------------------------------------------------------------------------------------------------------------------------------------------------------------------------+-----------------------------------------------------------------------------------------------------+---------------------------------------------------------------------------------------------------------------------------------+\n",
            "|product_id|product_name                                                                                                                                                                                           |category                                                                         |discounted_price|actual_price|discount_percentage|rating|rating_count|about_product                                                                                                                                                                                                                                                                                                                                                                                                                                                                                                                                                                                                                                                                                                                                                                                                                                                                                                                                                                                                                                                                                                                                |user_id                                                                                                                                                                                                                                |user_name                                                                                               |review_id                                                                                                              |review_title                                                                                                                                                                                                                                                                           |review_content                                                                                                                                                                                                                                                                                                                                                                                                                                                                                                                                                                                                                                                                                                                                                                                                                                                                                                                                                                                                                                                                                                                                                                                                                                                                                                                                                                                                                                                                                                                                                                                                                                                                                                                                                                                                                                                                                                                                                                                                                                                                                                                                                                                                                                                                                                                                                                                                                                                                                                                                                                                                                                                                                                                                                                                                                                                                                                                                                                                                                                                                                                                                                                                                                                                                                                                                                                                                                                                                                                                                                                                                                                                                                                                                                                                                                                                                                                                                                                                                                                                                                                                                       |img_link                                                                                             |product_link                                                                                                                     |\n",
            "+----------+-------------------------------------------------------------------------------------------------------------------------------------------------------------------------------------------------------+---------------------------------------------------------------------------------+----------------+------------+-------------------+------+------------+---------------------------------------------------------------------------------------------------------------------------------------------------------------------------------------------------------------------------------------------------------------------------------------------------------------------------------------------------------------------------------------------------------------------------------------------------------------------------------------------------------------------------------------------------------------------------------------------------------------------------------------------------------------------------------------------------------------------------------------------------------------------------------------------------------------------------------------------------------------------------------------------------------------------------------------------------------------------------------------------------------------------------------------------------------------------------------------------------------------------------------------------+---------------------------------------------------------------------------------------------------------------------------------------------------------------------------------------------------------------------------------------+--------------------------------------------------------------------------------------------------------+-----------------------------------------------------------------------------------------------------------------------+---------------------------------------------------------------------------------------------------------------------------------------------------------------------------------------------------------------------------------------------------------------------------------------+-----------------------------------------------------------------------------------------------------------------------------------------------------------------------------------------------------------------------------------------------------------------------------------------------------------------------------------------------------------------------------------------------------------------------------------------------------------------------------------------------------------------------------------------------------------------------------------------------------------------------------------------------------------------------------------------------------------------------------------------------------------------------------------------------------------------------------------------------------------------------------------------------------------------------------------------------------------------------------------------------------------------------------------------------------------------------------------------------------------------------------------------------------------------------------------------------------------------------------------------------------------------------------------------------------------------------------------------------------------------------------------------------------------------------------------------------------------------------------------------------------------------------------------------------------------------------------------------------------------------------------------------------------------------------------------------------------------------------------------------------------------------------------------------------------------------------------------------------------------------------------------------------------------------------------------------------------------------------------------------------------------------------------------------------------------------------------------------------------------------------------------------------------------------------------------------------------------------------------------------------------------------------------------------------------------------------------------------------------------------------------------------------------------------------------------------------------------------------------------------------------------------------------------------------------------------------------------------------------------------------------------------------------------------------------------------------------------------------------------------------------------------------------------------------------------------------------------------------------------------------------------------------------------------------------------------------------------------------------------------------------------------------------------------------------------------------------------------------------------------------------------------------------------------------------------------------------------------------------------------------------------------------------------------------------------------------------------------------------------------------------------------------------------------------------------------------------------------------------------------------------------------------------------------------------------------------------------------------------------------------------------------------------------------------------------------------------------------------------------------------------------------------------------------------------------------------------------------------------------------------------------------------------------------------------------------------------------------------------------------------------------------------------------------------------------------------------------------------------------------------------------------------------+-----------------------------------------------------------------------------------------------------+---------------------------------------------------------------------------------------------------------------------------------+\n",
            "|B07JW9H4J1|Wayona Nylon Braided USB to Lightning Fast Charging and Data Sync Cable Compatible for iPhone 13, 12,11, X, 8, 7, 6, 5, iPad Air, Pro, Mini (3 FT Pack of 1, Grey)                                     |Computers&Accessories|Accessories&Peripherals|Cables&Accessories|Cables|USBCables|₹399            |₹1,099      |64%                |4.2   |24,269      |High Compatibility : Compatible With iPhone 12, 11, X/XsMax/Xr ,iPhone 8/8 Plus,iPhone 7/7 Plus,iPhone 6s/6s Plus,iPhone 6/6 Plus,iPhone 5/5s/5c/se,iPad Pro,iPad Air 1/2,iPad mini 1/2/3,iPod nano7,iPod touch and more apple devices.|Fast Charge&Data Sync : It can charge and sync simultaneously at a rapid speed, Compatible with any charging adaptor, multi-port charging station or power bank.|Durability : Durable nylon braided design with premium aluminum housing and toughened nylon fiber wound tightly around the cord lending it superior durability and adding a bit to its flexibility.|High Security Level : It is designed to fully protect your device from damaging excessive current.Copper core thick+Multilayer shielding, Anti-interference, Protective circuit equipment.|WARRANTY: 12 months warranty and friendly customer services, ensures the long-time enjoyment of your purchase. If you meet any question or problem, please don't hesitate to contact us.                                                                                                                                             |AG3D6O4STAQKAY2UVGEUV46KN35Q,AHMY5CWJMMK5BJRBBSNLYT3ONILA,AHCTC6ULH4XB6YHDY6PCH2R772LQ,AGYHHIERNXKA6P5T7CZLXKVPT7IQ,AG4OGOFWXJZTQ2HKYIOCOY3KXF2Q,AENGU523SXMOS7JPDTW52PNNVWGQ,AEQJHCVTNINBS4FKTBGQRQTGTE5Q,AFC3FFC5PKFF5PMA52S3VCHOZ5FQ|Manav,Adarsh gupta,Sundeep,S.Sayeed Ahmed,jaspreet singh,Khaja moin,Anand,S.ARUMUGAM                    |R3HXWT0LRP0NMF,R2AJM3LFTLZHFO,R6AQJGUP6P86,R1KD19VHEDV0OR,R3C02RMYQMK6FC,R39GQRVBUZBWGY,R2K9EDOE15QIRJ,R3OI7YT648TL8I  |Satisfied,Charging is really fast,Value for money,Product review,Good quality,Good product,Good Product,As of now seems good                                                                                                                                                           |Looks durable Charging is fine tooNo complains,Charging is really fast, good product.,Till now satisfied with the quality.,This is a good product . The charging speed is slower than the original iPhone cable,Good quality, would recommend,https://m.media-amazon.com/images/W/WEBP_402378-T1/images/I/81---F1ZgHL._SY88.jpg,Product had worked well till date and was having no issue.Cable is also sturdy enough...Have asked for replacement and company is doing the same...,Value for money                                                                                                                                                                                                                                                                                                                                                                                                                                                                                                                                                                                                                                                                                                                                                                                                                                                                                                                                                                                                                                                                                                                                                                                                                                                                                                                                                                                                                                                                                                                                                                                                                                                                                                                                                                                                                                                                                                                                                                                                                                                                                                                                                                                                                                                                                                                                                                                                                                                                                                                                                                                                                                                                                                                                                                                                                                                                                                                                                                                                                                                                                                                                                                                                                                                                                                                                                                                                                                                                                                                                                                                                                                                  |https://m.media-amazon.com/images/W/WEBP_402378-T1/images/I/51UsScvHQNL._SX300_SY300_QL70_FMwebp_.jpg|https://www.amazon.in/Wayona-Braided-WN3LG1-Syncing-Charging/dp/B07JW9H4J1/ref=sr_1_1?qid=1672909124&s=electronics&sr=1-1        |\n",
            "|B098NS6PVG|Ambrane Unbreakable 60W / 3A Fast Charging 1.5m Braided Type C Cable for Smartphones, Tablets, Laptops & other Type C devices, PD Technology, 480Mbps Data Sync, Quick Charge 3.0 (RCT15A, Black)      |Computers&Accessories|Accessories&Peripherals|Cables&Accessories|Cables|USBCables|₹199            |₹349        |43%                |4.0   |43,994      |Compatible with all Type C enabled devices, be it an android smartphone (Mi, Samsung, Oppo, Vivo, Realme, OnePlus, etc), tablet, laptop (Macbook, Chromebook, etc)|Supports Quick Charging (2.0/3.0)|Unbreakable – Made of special braided outer with rugged interior bindings, it is ultra-durable cable that won’t be affected by daily rough usage|Ideal Length – It has ideal length of 1.5 meters which is neither too short like your typical 1meter cable or too long like a 2meters cable|Supports maximum 3A fast charging and 480 Mbps data transfer speed|6 months manufacturer warranty from the date of purchase                                                                                                                                                                                                                                                                                                                                                                                                                                                                                                                |AECPFYFQVRUWC3KGNLJIOREFP5LQ,AGYYVPDD7YG7FYNBXNGXZJT525AQ,AHONIZU3ICIEHQIGQ6R2VFRSBXOQ,AFPHD2CRPDZMWMBL7WXRSVYWS5JA,AEZ346GX3HJ4O4XNRPHCNHXQURMQ,AEPSWFPNECKO34PUC7I56ITGXR6Q,AHWVEHR5DYLVFTO2KF3IZATFQSWQ,AH4QT33M55677I7ISQOAKEQWACYQ|ArdKn,Nirbhay kumar,Sagar Viswanathan,Asp,Placeholder,BharanI,sonia,Niam                                |RGIQEG07R9HS2,R1SMWZQ86XIN8U,R2J3Y1WL29GWDE,RYGGS0M09S3KY,R17KQRUTAN5DKS,R3AAQGS6HP2QUK,R1HDNOG6TO2CCA,R3PHKXYA5AFEOU  |A Good Braided Cable for Your Type C Device,Good quality product from ambrane,Super cable,As,Good quality,Good product,its good,Good quality for the price but one issue with my unit                                                                                                  |I ordered this cable to connect my phone to Android Auto of car. The cable is really strong and the connection ports are really well made. I already has a Micro USB cable from Ambrane and it's still in good shape. I connected my phone to the car using the cable and it got connected well and no issues. I also connected it to the charging port and yes it has Fast Charging support.,It quality is good at this price and the main thing is that i didn't ever thought that this cable will be so long it's good one and charging power is too good and also supports fast charging,Value for money, with extra length👍,Good, working fine,Product quality is good,Good,very good,Bought for my daughter's old phone.Brand new cable it was not charging, I already repacked and requested for replacement.I checked again, and there was some green colour paste/fungus inside the micro USB connector. I cleaned with an alcoholic and starts working again.Checked the ampere of charging speed got around 1400ma-1500ma - not bad, came with braided 1.5m long cable, pretty impressive for the price.Can't blame the manufacturer.But quality issues by the distributor, they might have stored in very humid place.                                                                                                                                                                                                                                                                                                                                                                                                                                                                                                                                                                                                                                                                                                                                                                                                                                                                                                                                                                                                                                                                                                                                                                                                                                                                                                                                                                                                                                                                                                                                                                                                                                                                                                                                                                                                                                                                                                                                                                                                                                                                                                                                                                                                                                                                                                                                                                                                                                                                                                                                                                                                                                                                                                                                                                                                                                                                                                                  |https://m.media-amazon.com/images/W/WEBP_402378-T2/images/I/31zOsqQOAOL._SY445_SX342_QL70_FMwebp_.jpg|https://www.amazon.in/Ambrane-Unbreakable-Charging-Braided-Cable/dp/B098NS6PVG/ref=sr_1_2?qid=1672909124&s=electronics&sr=1-2    |\n",
            "|B096MSW6CT|Sounce Fast Phone Charging Cable & Data Sync USB Cable Compatible for iPhone 13, 12,11, X, 8, 7, 6, 5, iPad Air, Pro, Mini & iOS Devices                                                               |Computers&Accessories|Accessories&Peripherals|Cables&Accessories|Cables|USBCables|₹199            |₹1,899      |90%                |3.9   |7,928       |【 Fast Charger& Data Sync】-With built-in safety proctections and four-core copper wires promote maximum signal quality and strength and enhance charging & data transfer speed with up to 480 mb/s transferring speed.|【 Compatibility】-Compatible with iPhone 13, 12,11, X, 8, 7, 6, 5, iPad Air, Pro, Mini & iOS devices.|【 Sturdy & Durable】-The jacket and enforced connector made of TPE and premium copper, are resistant to repeatedly bending and coiling.|【 Ultra High Quality】: According to the experimental results, the fishbone design can accept at least 20,000 bending and insertion tests for extra protection and durability. Upgraded 3D aluminum connector and exclusive laser welding technology, which to ensure the metal part won't break and also have a tighter connection which fits well even with a protective case on and will never loose connection.|【 Good After Sales Service】-Our friendly and reliable customer service will respond to you within 24 hours ! you can purchase with confidence,and every sale includes a 365-day worry-free Service to prove the importance we set on quality.|AGU3BBQ2V2DDAMOAKGFAWDDQ6QHA,AESFLDV2PT363T2AQLWQOWZ4N3OA,AHTPQRIMGUD4BYR5YIHBH3CCGEFQ,AEUVWXYP5LT7PZLLZENEO2NODPBQ,AHC7MPW55DOO6WNCOQVA2VHOD26A,AFDI6FRPFBTNBG7BAEB7JDJSMKDQ,AFQKCEEEKXCOHTDG4WUN3XPPHJQQ,AHKUUFNMBZIDLSSPA4FEHIO2EC7Q|Kunal,Himanshu,viswanath,sai niharka,saqib malik,Aashiq,Ramu Challa,Sanjay gupta                        |R3J3EQQ9TZI5ZJ,R3E7WBGK7ID0KV,RWU79XKQ6I1QF,R25X4TBMPY91LX,R27OK7G99VK0TR,R207CYDCHJJTCJ,R3PCU8XMU173BT,R1IMONDOWRNU5V |Good speed for earlier versions,Good Product,Working good,Good for the price,Good,Worth for money,Working nice,it's a really nice product                                                                                                                                              |Not quite durable and sturdy,https://m.media-amazon.com/images/W/WEBP_402378-T1/images/I/71rIggrbUCL._SY88.jpg,Working good,https://m.media-amazon.com/images/W/WEBP_402378-T1/images/I/61bKp9YO6wL._SY88.jpg,Product,Very nice product,Working well,It's a really nice product                                                                                                                                                                                                                                                                                                                                                                                                                                                                                                                                                                                                                                                                                                                                                                                                                                                                                                                                                                                                                                                                                                                                                                                                                                                                                                                                                                                                                                                                                                                                                                                                                                                                                                                                                                                                                                                                                                                                                                                                                                                                                                                                                                                                                                                                                                                                                                                                                                                                                                                                                                                                                                                                                                                                                                                                                                                                                                                                                                                                                                                                                                                                                                                                                                                                                                                                                                                                                                                                                                                                                                                                                                                                                                                                                                                                                                                                      |https://m.media-amazon.com/images/W/WEBP_402378-T1/images/I/31IvNJZnmdL._SY445_SX342_QL70_FMwebp_.jpg|https://www.amazon.in/Sounce-iPhone-Charging-Compatible-Devices/dp/B096MSW6CT/ref=sr_1_3?qid=1672909124&s=electronics&sr=1-3     |\n",
            "|B08HDJ86NZ|boAt Deuce USB 300 2 in 1 Type-C & Micro USB Stress Resistant, Tangle-Free, Sturdy Cable with 3A Fast Charging & 480mbps Data Transmission, 10000+ Bends Lifespan and Extended 1.5m Length(Martian Red)|Computers&Accessories|Accessories&Peripherals|Cables&Accessories|Cables|USBCables|₹329            |₹699        |53%                |4.2   |94,363      |The boAt Deuce USB 300 2 in 1 cable is compatible with smartphones, tablets, PC peripherals, Bluetooth speakers, power banks and all other devices with Type-C as well as Micro USB port|It ensures 3A fast charging and data transmissions with rapid sync at 480 mbps|The premium Nylon braided skin makes it sturdy and invincible against external damage|Its Aluminium alloy shell housing makes it last longer with 10000+ Bends Lifespan with extended frame protection for strain relief|The resilient and flexible design offers a tangle free experience seamlessly|Deuce USB 300 cable offers a perfect 1.5 meters in length for smooth & hassle-free user experience|2 years warranty from the date of purchase                                                                                                                                                                                                                                                                                                                                                                                                                  |AEWAZDZZJLQUYVOVGBEUKSLXHQ5A,AG5HTSFRRE6NL3M5SGCUQBP7YSCA,AH725ST5NW2Y4JZPKUNTIJCUK2BA,AHV3TXIFCJPMS4D5JATCEUR266MQ,AGWIGDEMFIIUAOXYY2QATNBSUGHA,AFSTSLQUV4EVEXWKBOLEFHL2H5YQ,AGAKDNBHY2FKX7I4ACRGILU7QL7A,AFNWJUWJRHCC6HN52KMG5AKZY37Q|Omkar dhale,JD,HEMALATHA,Ajwadh a.,amar singh chouhan,Ravi Siddan,Himanshu Goel,Udaykumar               |R3EEUZKKK9J36I,R3HJVYCLYOY554,REDECAZ7AMPQC,R1CLH2ULIVG5U3,R2DMKIBGFKBD6R,RC89B5IAJUTR5,R3B3DDON5FH8DS,R13WAEJDI5RS36  |Good product,Good one,Nice,Really nice product,Very first time change,Good,Fine product but could be better,Very nice it's charging like jet                                                                                                                                           |Good product,long wire,Charges good,Nice,I bought this cable for Rs.339 worthy product for this price, i tested it in various charger adapters 33w and 18w it supports fast charging as well.,Good,Ok,I had got this at good price on sale on Amazon and product is useful with warranty but for warranty you need to go very far not practical for such a cost and mine micro to type c connector stopped working after few days only.,I like this product                                                                                                                                                                                                                                                                                                                                                                                                                                                                                                                                                                                                                                                                                                                                                                                                                                                                                                                                                                                                                                                                                                                                                                                                                                                                                                                                                                                                                                                                                                                                                                                                                                                                                                                                                                                                                                                                                                                                                                                                                                                                                                                                                                                                                                                                                                                                                                                                                                                                                                                                                                                                                                                                                                                                                                                                                                                                                                                                                                                                                                                                                                                                                                                                                                                                                                                                                                                                                                                                                                                                                                                                                                                                                          |https://m.media-amazon.com/images/I/41V5FtEWPkL._SX300_SY300_QL70_FMwebp_.jpg                        |https://www.amazon.in/Deuce-300-Resistant-Tangle-Free-Transmission/dp/B08HDJ86NZ/ref=sr_1_4?qid=1672909124&s=electronics&sr=1-4  |\n",
            "|B08CF3B7N1|Portronics Konnect L 1.2M Fast Charging 3A 8 Pin USB Cable with Charge & Sync Function for iPhone, iPad (Grey)                                                                                         |Computers&Accessories|Accessories&Peripherals|Cables&Accessories|Cables|USBCables|₹154            |₹399        |61%                |4.2   |16,905      |[CHARGE & SYNC FUNCTION]- This cable comes with charging & Data sync function|[HIGH QUALITY MATERIAL]- TPE + Nylon Material to make sure that the life of the cable is enhanced significantly|[LONG CORD]- The Cable is extra thick 1.2 meter long, optimized for an easy use for your comfort at home or office|[MORE DURABLE]-This cable is unique interms of design and multi-use and is positioned to provide the best comfort and performance while using|[UNIVERSAL COMPATIBILITY]- Compatible with all devices like iPhone XS, X, XR, 8, 7, 6S, 6, 5S, iPad Pro, iPad mini and iPad Air                                                                                                                                                                                                                                                                                                                                                                                                                                                                                                                                               |AE3Q6KSUK5P75D5HFYHCRAOLODSA,AFUGIFH5ZAFXRDSZHM4QB2KPKFUQ,AFK4NJOLFSJGWLOJIUIAROJF6YVA,AFUOTYRFUXVPEBGIXVZZ7DR3CZUA,AFDLRSXKDZ6U3U3KD46SQLFGZQRA,AH5VLM66SIK7J3IRG4NY7XVOQ55A,AE3MQNNHHLUHXURL5S7IAR7JTGNQ,AFSEOFZY67MYC7UAJU264Z5NFTLA|rahuls6099,Swasat Borah,Ajay Wadke,Pranali,RVK,Bhargav,Durai Vignesh,Amazon Customer                    |R1BP4L2HH9TFUP,R16PVJEXKV6QZS,R2UPDB81N66T4P,R3KK4GT934ST3I,RCFHMWUSBIJO,RDO7DACXMAJ84,R3A6MEZL3LY66Z,R1ESIEKPGAYA29   |As good as original,Decent,Good one for secondary use,Best quality,GOOD,Amazing product at a mind blowing price!,Nice Quality,Good product                                                                                                                                             |Bought this instead of original apple, does the work for 150rs, not as fast as apple charger but its a good option if you want cheap and good product, bought it for iPad pro 10.5 and it's working flawlessly, build quality is ok, its not like i am gonna hang my clothes on it and i want a very strong cable, even a braided cable stop working after a year, i have used both Anker and Apple store strong braided cable they all stop working after a year so please don't buy high end cables just for that instead choose a this one and even if it's stops working withing a year you only loose 150rs compares to 2000rs.UPDATE------------------------------------pin has stopped charging from one side, now i have to slip the pin to charge from other side, but i will update and let know for how long does it work,,It’s good. Not sure about durability as the pin area feels a bit fragile,Does not support apple carplaySo was little disappointed about thatOther than that cable is made up of very good quality,Best to buy,100% NOT FATHFUL,Writing this review post 10 months and 3 orders of the same product.Honestly Portronics Konnect L lightning cable works like magic with the original Apple charging brick.Seeing the price of the cable I initially hesitated buying as it was as low as ₹99/- with the offers and so I wasn’t sure if it would work well with my iPhone 12 or whether it would impact my iPhone’s battery health because all the other lightning cable brands were costing over ₹350/- like Wayona, Amazon Basics, etc.Earlier I was using Wayona Brand lightning cable with eventually frayed and stopped working.Charging Speed:Charges my iPhone fast enough almost similar compared to the original cable level when used with 12W Original Apple power adapter.Quality and Durability:Great quality braided cable and doesn’t tangle easily and can withstand day-to-day usage.L-Shaped pin:This is very innovative by Portronics and it makes sure the cable doesn’t get damaged even if used while charging.CarPlay and Data Sync:Works smoothly with CarPlay and syncs data effortlessly.PS: I have used this cable only with the Original Apple Charging Brick and extremely satisfied with its performance.,Better than I expect the product I like that Quality and I plan to buy same type cable come with usb C to Lighting cable for emergency purpose that much I love this cable. Buy for this cable only emergency uses only since Good one,Good product and value for money                                                                                                                                                                                                                                                                                                                                                                                                                                                                                                                                                                                                                                                                                                                                                                                                                                                                                                                                                                                                                                                                                                                                                                                                                                                                                                                                                                                                                                                                                                                                                                                                  |https://m.media-amazon.com/images/W/WEBP_402378-T2/images/I/31VzNhhqifL._SX300_SY300_QL70_FMwebp_.jpg|https://www.amazon.in/Portronics-Konnect-POR-1080-Charging-Function/dp/B08CF3B7N1/ref=sr_1_5?qid=1672909124&s=electronics&sr=1-5 |\n",
            "|B08Y1TFSP6|pTron Solero TB301 3A Type-C Data and Fast Charging Cable, Made in India, 480Mbps Data Sync, Strong and Durable 1.5-Meter Nylon Braided USB Cable for Type-C Devices for Charging Adapter (Black)      |Computers&Accessories|Accessories&Peripherals|Cables&Accessories|Cables|USBCables|₹149            |₹1,000      |85%                |3.9   |24,871      |Fast Charging & Data Sync: Solero TB301 Type-C cable supports fast charge up to 5V/3A for devices and data syncing speed up to 480Mbps.|Universal Compatibility: This USB charging cable connects USB Type-C devices with standard USB devices like laptops, hard drives, power banks, wall and car chargers, etc..Connector One: Reversible Type C|Connector Two: USB A Type|Rough & Tough Type-C Cable: Charging cable with a double-braided exterior, premium aramid fiber core and metal plugs. It has passed 10,000 bending tests and can easily withstand daily use.|Extended Length: 1.5-meter long c-type cable uses nylon material to protect the wire and avoid knots.|Perfect Fit Connectors: pTron Soler USB-C has passed the 5KG load test, swing test, 5000+ times connect & disconnect to ensure that there are no loose connections.                                                                                                                                                                                                                                                                                         |AEQ2YMXSZWEOHK2EHTNLOS56YTZQ,AGRVINWECNY7323CWFXZYYIZOFTQ,AHBAT6VLOXWGYDL57KHCNCLPXAKA,AF7NDY2H6JVYTSQOZP76GCATQ34Q,AFV7ZA733ZLME4KNLZPMPCBUNPPA,AHFAAPSY2MJ5HYOU2VQDJ7AQY4NQ,AH2WGV2PEBUTICRPBEEVKF24G5LA,AEP4MK3EKOBDKTGPJTRN5RBDIODA|Jayesh,Rajesh k.,Soopy,amazon customer,Aman,Shankar,dinesh,Chitra,Ajaybabu.O.M                          |R7S8ANNSDPR40,R3CLZFLHVJU26P,RFF7U7MPQFUGR,R1MV1NKC23DWPI,R11D3U0V2XKDKF,R18MP1KLUE18PC,RWGJNVEH5ZQME,R1XN72FU6Q37IH   |It's pretty good,Average quality,very good and useful usb cable,Good USB cable. My experience was very good it is long lasting,Good,Nice product and useful,-,Sturdy but does not support 33w charging                                                                                 |It's a good product.,Like,Very good item strong and useful USB cableValue for moneyThanks to amazon and producer,https://m.media-amazon.com/images/I/51112ZRE-1L._SY88.jpg,Good,Nice product and useful product,-,Sturdy but does not support 33w charging                                                                                                                                                                                                                                                                                                                                                                                                                                                                                                                                                                                                                                                                                                                                                                                                                                                                                                                                                                                                                                                                                                                                                                                                                                                                                                                                                                                                                                                                                                                                                                                                                                                                                                                                                                                                                                                                                                                                                                                                                                                                                                                                                                                                                                                                                                                                                                                                                                                                                                                                                                                                                                                                                                                                                                                                                                                                                                                                                                                                                                                                                                                                                                                                                                                                                                                                                                                                                                                                                                                                                                                                                                                                                                                                                                                                                                                                                           |https://m.media-amazon.com/images/I/31wOPjcSxlL._SX300_SY300_QL70_FMwebp_.jpg                        |https://www.amazon.in/Solero-TB301-Charging-480Mbps-1-5-Meter/dp/B08Y1TFSP6/ref=sr_1_6?qid=1672909124&s=electronics&sr=1-6       |\n",
            "|B08WRWPM22|boAt Micro USB 55 Tangle-free, Sturdy Micro USB Cable with 3A Fast Charging & 480mbps Data Transmission (Black)                                                                                        |Computers&Accessories|Accessories&Peripherals|Cables&Accessories|Cables|USBCables|₹176.63         |₹499        |65%                |4.1   |15,188      |It Ensures High Speed Transmission And Charging By Offering 3A Fast Charging And Data Transmissions With Rapid Sync At 480 Mbps|The Braided Skin Makes It Durable And Invincible Against External Damage So You Can Have An Absolute Hassle-Free & Tangle Free Experience|Its Durable Pvc Housing And The Flexible Design Makes It Last 6 Times Longer Than Other Cables|Usb Cable Offers A Perfect 1.5 Meters In Length For Smooth & Hassle-Free User Experience For Superior Charging & Data Transfer Tasks|The Compact And Smooth Aluminium Connector Fits Most Cases Seamlessly And Resists Corrosion For Signal Purity|Micro Usb 55 Cable Offers Universal Compatibility As It Is Compatible With Most Android Smartphones, Tablets, Pc Peripherals, Bluetooth Speakers, Power Banks, Game Consoles & All Micro-Usb Enabled Devices|2 years warranty from the date of purchase                                                                                                                                                                                                                                                          |AG7C6DAADCTRQJG2BRS3RIKDT52Q,AFU7BOMPVJ7Q3TTA4G67RASTGYIQ,AER5ZGIXXVYG3AWZTRZT7M2BYCEA,AHE76XQSOLGOP5ZEKTIW6KUPDWBQ,AGXTMB2XHZBEWZ2UIX7ODZ4XTU6Q,AHNM2XVU745EDPNGUOAG74PTSNRA,AH5RWQ4S72IVLZD6O75OPCFIVDXQ,AG322TYKVPLPBDXE7ABEUK5QTALQ|Vivek kumar,Amazon Customer,SARTHAK,Chiranjeevi,V V GIRI KUMAR,Rajnandini,Akshay Talla,sudhanshu chaubey|R8E73K2KWJRDS,RSD0JTIIWQQL8,R64CRSTE9SLW1,R2FRTNIIUFJE1F,RWGNX3W7UOJ7W,R32TYHHODHTF5D,RQL9ZMQUTY7P2,R280XJ5VZUBOXV     |Long durable.,good,Does not charge Lenovo m8 tab,Best charging cable,good,Boat,Product was good,1.5 m का केबल मेरे लिए बहुत ही लाभदायक है ।                                                                                                                                            |Build quality is good and it is comes with 2 year warranty.,Good Product,Bought it for charging my mobile & tab but it doesn't work for Lenovo m8 tab,Guys this cable is is best compare of everyone over heat protection, quickly charging, but chance to shock circuit,good,Nice,Good quality,1.5एम का डाटा केबल मेरे लिए बहुत ही लाभदायक है ।  मैं इस केबल को लाइन में चार्ज करते समय फोन बहुत आराम से उपयोग  कर पा रहा हु । आप इस केबल से 15watt का  चार्जर उसे कर सकते है (इससे जड़ा नही) । लोकल बाजार में इसका दाम 150 है ,  अमेजन पे ये केबल मुझे 67 में मिला । गर्व से कहो हम हिंदू है , जय हिंद जय भारत ,                                                                                                                                                                                                                                                                                                                                                                                                                                                                                                                                                                                                                                                                                                                                                                                                                                                                                                                                                                                                                                                                                                                                                                                                                                                                                                                                                                                                                                                                                                                                                                                                                                                                                                                                                                                                                                                                                                                                                                                                                                                                                                                                                                                                                                                                                                                                                                                                                                                                                                                                                                                                                                                                                                                                                                                                                                                                                                                                                                                                                                                                                                                                                                                                                                                                                                                                                                                                                                                                                                                                   |https://m.media-amazon.com/images/W/WEBP_402378-T2/images/I/41jlwEZpa5L._SX300_SY300_QL70_FMwebp_.jpg|https://www.amazon.in/boAt-Micro-USB-Tangle-Free-Transmission/dp/B08WRWPM22/ref=sr_1_8?qid=1672909124&s=electronics&sr=1-8       |\n",
            "|B08DDRGWTJ|MI Usb Type-C Cable Smartphone (Black)                                                                                                                                                                 |Computers&Accessories|Accessories&Peripherals|Cables&Accessories|Cables|USBCables|₹229            |₹299        |23%                |4.3   |30,411      |1m long Type-C USB Cable|Sturdy and Durable. With USB cable you can transfer data with speeds of upto 480 Mbps|Upto 3A output|6months warranty|Sturdy and Durable. With USB cable you can transfer data with speeds of upto 480 Mbps|6months warranty|Up To 3A Output                                                                                                                                                                                                                                                                                                                                                                                                                                                                                                                                                                                                                                                                                                                                                                                                                                                                        |AHW6E5LQ2BDYOIVLAJGDH45J5V5Q,AF74RSGCHPZITVFSZN76K6GKPICA,AHDD7ZNB47QA2JLYU53HD4ML3VNQ,AHV3ELGDSOWBYUQLXSPDCSHBQRHQ,AEJU4L3ZM2GTILSJZZSNSF6VUOIA,AFVD66VQMSHPDT3A6HBBBGKRXBZA,AELKHQXVSSG6NHXLFJLLNEFRQQUQ,AGYSMAC6V6RFJJOHG2FIRPOZ6CSQ|Pavan A H,Jayesh bagad,Shridhar,rajendran,karuppu k,Akshay wani,Abbimaniu Singh,VISHAL H BADSHE         |R2X090D1YHACKR,R32ZCIH9AFNJ60,R3N57EVVG0EHAF,R3QWLE8JHROKC1,R2VTSDOOUTSQ5X,R3E6FZ75Q074KH,R1SYBQLTPFCW20,RYQT96J8HPIXE |Worth for money - suitable for Android auto,Good Product,Length,Nice,Original,Very good quay Cable support fast charging.,Original MI cable for charging upto 33 watt,I am veri happy with this product as it provide turbo charging.                                                  |Worth for money - suitable for Android auto... my purpose served in car....got it for Rs.150,Everything is Okay. But packaging is not good feeling like seller gave is used cable.,Good product,Good product but cost is more.,Original cable,I bought this cable at 129. Using this cable for Android auto in my car. Perfectly works without any glitch.,Original MI cable. Will charge upto 33 watts. Got it for Rs 150.  I have 67 watt charger and I want a cable for my car so I went for it. I checked the performance with battery charging app. The charging speed is exactly half of my 67 watt original cable. Go for it.,It provided me turbo charging. I recommend for all Redmi note 10s mobile phones. As it provide turbo charging. I am veri happy with this product.                                                                                                                                                                                                                                                                                                                                                                                                                                                                                                                                                                                                                                                                                                                                                                                                                                                                                                                                                                                                                                                                                                                                                                                                                                                                                                                                                                                                                                                                                                                                                                                                                                                                                                                                                                                                                                                                                                                                                                                                                                                                                                                                                                                                                                                                                                                                                                                                                                                                                                                                                                                                                                                                                                                                                                                                                                                                                                                                                                                                                                                                                                                                                                                                                                                                                                                                                               |https://m.media-amazon.com/images/I/31XO-wfGGGL._SX300_SY300_QL70_FMwebp_.jpg                        |https://www.amazon.in/MI-MTCY001IN-USB-Type-C-Cable/dp/B08DDRGWTJ/ref=sr_1_9?qid=1672909124&s=electronics&sr=1-9                 |\n",
            "|B008IFXQFU|TP-Link USB WiFi Adapter for PC(TL-WN725N), N150 Wireless Network Adapter for Desktop - Nano Size WiFi Dongle Compatible with Windows 11/10/7/8/8.1/XP/ Mac OS 10.9-10.15 Linux Kernel 2.6.18-4.4.3    |Computers&Accessories|NetworkingDevices|NetworkAdapters|WirelessUSBAdapters      |₹499            |₹999        |50%                |4.2   |1,79,691    |USB WiFi Adapter —— Speedy wireless transmission at up to 150Mbps ideal for video streaming or internet calls|Mini Design —— Sleek miniature design so small that once plugged in, can be left in a Laptop’s USB port|Advanced Security —— Supports 64/128 WEP, WPA, PA2/WPA-PSK/WPA2-PSK(TKIP/AES)|Compatibility —— Windows 11/10/8.1/8/7/XP, Mac OS 10.15 and earlier, Linux|Easy Setup —— Connect in no time with easy setup utility in 14 languages|In an unlikely case of product quality related issue, we may ask you to reach out to brand’s customer service support and seek resolution. We will require brand proof of issue to process replacement request                                                                                                                                                                                                                                                                                                                                                                                                                                                                       |AGV3IEFANZCKECFGUM42MRH5FNOA,AEBO7NWCNXKT4AESAN443HQH35FQ,AE7GD3VRRYQEAHDR7FXJIR23INYA,AHPAW24BI5X2GCX5M2LHI72VSJJQ,AE2VXY4CFO36MDSIMPG43XHNF4GA,AHHQEKUNVETALN7DTRHUQ2WAWEKQ,AFMIFTNTUD5PIHGONWOTRMMZ5EBA,AHOJBIZVVIIFJKRREY4B6ESVA4KA|Azhar JuMan,Anirudh Sood,Hari Krishnan PS,Akash Jindal,PRADEEP,Rajesh,Divya Kothari,abhijit             |R1LW6NWSVTVZ2H,R3VR5WFKUS15C5,R2F6GC79OYWUKQ,R3QZ19MECGWG9A,R2MPU42MYK7GPO,R33DVXFB4VYPZZ,R1SQ7OGFR4JRUR,R1S5F9QI0M1VBZ|Works on linux for me. Get the model with antenna.,Does what it say but other brands available at lesser price,Easy Handle,Great product,Perfect working,Speed is perfect,Great Design, Build, Connectivity Range, Packaging and other features but no linux support since v2,Very good|I use this to connect an old PC to internet. I tried lubuntu 20 and ubuntu 22, it worked out of the box in both, didn't have to do any setup. There's an extender cable so you can place this in a comfortable place. Get the model with antenna because otherwise you'll have range problems if you're not directly in line of sight from your wifi router.,The wifi dongle is a simple plug & play device, will start catching available networks right after you plug it into your USB port, no additional installations/ softwares requires. Signal strength is good.... just wonder what would be different in other adapters of lesser known brands which are available at a much more competitive pricing, hence a star less.,Pros:*Easy to use & Portable*Can be connected to Mobile Hotspot and used in PC( Budget Friendly)*Less installation process*No heating issues & Good Coverage*Best alternative for USB Tethering (phone's battery may get damaged for long term run with Tethering)Cons:*Internet connection speed varies at times, also depends on your modem or cellular connection*Issues occur while installing via CD, which is available along with the product( Installation driver can be downloaded from TP-Link site)*Needed to reconnect the adapter every time system is turned ON*Will not work if your software has some issues, so encountered any just update your system(worked for me)*Support Center is worse, calls are unattended most of the times or just visit nearby storeConclusion:Brought this @499/-Ideal for users who don't need very high speed internet usage,a good alternative for USB Tethering and are on Budge(1080p Youtube videos can be easily played with this without any interruptions),wifi connectivity is a great good result for me. however, some jitter problems did exist.,This is perfect device to connect wifi. Go for it.,This wifi adopter is good working,(Pictures attached)Size/Design:  ★ ★ ★ ★ ★Build Quality: ★ ★ ★ ★ ★Packaging:  ★ ★ ★ ★ ★Software:  ★ ★ ★ ★Speed:  ★ ★ ★ ★ ★Connectivity:  ★ ★ ★ ★ ★Experience:  ★ ★ ★ ★ ★Warranty:  ★ ★ ★ ★ ★Size and Design:The best part about this is that it is very compact in size and very sober and elegant in design. This is a big plus as it is easy plug in and use, add to it the good sober design.Build Quality:The build quality is undoubtedly superb. Just no qualms about that, at all. When held, it doesnt give off that cheap and flimsy product-like feeling. It is good sturdy with its build quality.Packaging:This part is also a big plus as the item was well cushioned and packaged with all the necessary items that ensured that no damage could have been caused to the product during transportation. This ensures that I as a customer have received something not damaged internally already.Software:This is actually good but not great part with the product.The good part is that a CD has been provided with it along with a manual.The not great part is that NO LINUX SUPPORT has been given from Version 2 onwards. This is bad, really.Speed:It easily supports net speeds upto 300 Mbps. Practically speaking, I have tested it at my home and it easily supports net speed of over 100-150 Mbps without a sigh.On testing I found that it did connect to 5GHz network, without any issue.Connectivity:Please mark its not feet its metres. Multiply metres x 3 to get the distance in feet.It easily connects to my laptop or phone from 7 metres across one room. So thats 21 feet. I mean even our old bluetooth used to connect to about 15 ft.So 20-25 feet is not at all an issue with this. This is the big plus I found with the product.Experience:From this point of view, so far except the linux non-compatibility issue, I found no other flaws with this product.So overall its a great product.Warranty:Its 3 years so I am assured that atleast for 3 years I am tension-free and not just 1 year, contrary to most electronic items today that only provide 1 year warranty with their items.,Best adapter I have bought ever. Works nicely seemless connectivity|https://m.media-amazon.com/images/W/WEBP_402378-T2/images/I/31e6ElWRymL._SX300_SY300_QL70_FMwebp_.jpg|https://www.amazon.in/TP-Link-TL-WN725N-150Mbps-Wireless-Adapter/dp/B008IFXQFU/ref=sr_1_10?qid=1672909124&s=electronics&sr=1-10  |\n",
            "|B082LZGK39|Ambrane Unbreakable 60W / 3A Fast Charging 1.5m Braided Micro USB Cable for Smartphones, Tablets, Laptops & Other Micro USB Devices, 480Mbps Data Sync, Quick Charge 3.0 (RCM15, Black)                |Computers&Accessories|Accessories&Peripherals|Cables&Accessories|Cables|USBCables|₹199            |₹299        |33%                |4.0   |43,994      |Universal Compatibility – It is compatible with all Micro USB enabled devices, be it an android smartphone, tablet, PC peripheral or any other micro USB compatible device|Unbreakable – Made of special braided outer with rugged interior bindings, it is ultra-durable cable that won’t be affected by daily rough usage|Ideal Length – It has ideal length of 1.5 meters which is neither too short like your typical 1meter cable or too long like a 2meters cable|Supports maximum 3A fast charging and 480 Mbps data transfer speed|6 Months manufacturer warranty from the date of purchase.                                                                                                                                                                                                                                                                                                                                                                                                                                                                                                                                         |AECPFYFQVRUWC3KGNLJIOREFP5LQ,AGYYVPDD7YG7FYNBXNGXZJT525AQ,AHONIZU3ICIEHQIGQ6R2VFRSBXOQ,AFPHD2CRPDZMWMBL7WXRSVYWS5JA,AEZ346GX3HJ4O4XNRPHCNHXQURMQ,AEPSWFPNECKO34PUC7I56ITGXR6Q,AHWVEHR5DYLVFTO2KF3IZATFQSWQ,AH4QT33M55677I7ISQOAKEQWACYQ|ArdKn,Nirbhay kumar,Sagar Viswanathan,Asp,Placeholder,BharanI,sonia,Niam                                |RGIQEG07R9HS2,R1SMWZQ86XIN8U,R2J3Y1WL29GWDE,RYGGS0M09S3KY,R17KQRUTAN5DKS,R3AAQGS6HP2QUK,R1HDNOG6TO2CCA,R3PHKXYA5AFEOU  |A Good Braided Cable for Your Type C Device,Good quality product from ambrane,Super cable,As,Good quality,Good product,its good,Good quality for the price but one issue with my unit                                                                                                  |I ordered this cable to connect my phone to Android Auto of car. The cable is really strong and the connection ports are really well made. I already has a Micro USB cable from Ambrane and it's still in good shape. I connected my phone to the car using the cable and it got connected well and no issues. I also connected it to the charging port and yes it has Fast Charging support.,It quality is good at this price and the main thing is that i didn't ever thought that this cable will be so long it's good one and charging power is too good and also supports fast charging,Value for money, with extra length👍,Good, working fine,Product quality is good,Good,very good,Bought for my daughter's old phone.Brand new cable it was not charging, I already repacked and requested for replacement.I checked again, and there was some green colour paste/fungus inside the micro USB connector. I cleaned with an alcoholic and starts working again.Checked the ampere of charging speed got around 1400ma-1500ma - not bad, came with braided 1.5m long cable, pretty impressive for the price.Can't blame the manufacturer.But quality issues by the distributor, they might have stored in very humid place.                                                                                                                                                                                                                                                                                                                                                                                                                                                                                                                                                                                                                                                                                                                                                                                                                                                                                                                                                                                                                                                                                                                                                                                                                                                                                                                                                                                                                                                                                                                                                                                                                                                                                                                                                                                                                                                                                                                                                                                                                                                                                                                                                                                                                                                                                                                                                                                                                                                                                                                                                                                                                                                                                                                                                                                                                                                                                                                  |https://m.media-amazon.com/images/W/WEBP_402378-T2/images/I/31kj3q4SepL._SY445_SX342_QL70_FMwebp_.jpg|https://www.amazon.in/Ambrane-Unbreakable-Charging-Braided-Android/dp/B082LZGK39/ref=sr_1_11?qid=1672909124&s=electronics&sr=1-11|\n",
            "+----------+-------------------------------------------------------------------------------------------------------------------------------------------------------------------------------------------------------+---------------------------------------------------------------------------------+----------------+------------+-------------------+------+------------+---------------------------------------------------------------------------------------------------------------------------------------------------------------------------------------------------------------------------------------------------------------------------------------------------------------------------------------------------------------------------------------------------------------------------------------------------------------------------------------------------------------------------------------------------------------------------------------------------------------------------------------------------------------------------------------------------------------------------------------------------------------------------------------------------------------------------------------------------------------------------------------------------------------------------------------------------------------------------------------------------------------------------------------------------------------------------------------------------------------------------------------------+---------------------------------------------------------------------------------------------------------------------------------------------------------------------------------------------------------------------------------------+--------------------------------------------------------------------------------------------------------+-----------------------------------------------------------------------------------------------------------------------+---------------------------------------------------------------------------------------------------------------------------------------------------------------------------------------------------------------------------------------------------------------------------------------+-----------------------------------------------------------------------------------------------------------------------------------------------------------------------------------------------------------------------------------------------------------------------------------------------------------------------------------------------------------------------------------------------------------------------------------------------------------------------------------------------------------------------------------------------------------------------------------------------------------------------------------------------------------------------------------------------------------------------------------------------------------------------------------------------------------------------------------------------------------------------------------------------------------------------------------------------------------------------------------------------------------------------------------------------------------------------------------------------------------------------------------------------------------------------------------------------------------------------------------------------------------------------------------------------------------------------------------------------------------------------------------------------------------------------------------------------------------------------------------------------------------------------------------------------------------------------------------------------------------------------------------------------------------------------------------------------------------------------------------------------------------------------------------------------------------------------------------------------------------------------------------------------------------------------------------------------------------------------------------------------------------------------------------------------------------------------------------------------------------------------------------------------------------------------------------------------------------------------------------------------------------------------------------------------------------------------------------------------------------------------------------------------------------------------------------------------------------------------------------------------------------------------------------------------------------------------------------------------------------------------------------------------------------------------------------------------------------------------------------------------------------------------------------------------------------------------------------------------------------------------------------------------------------------------------------------------------------------------------------------------------------------------------------------------------------------------------------------------------------------------------------------------------------------------------------------------------------------------------------------------------------------------------------------------------------------------------------------------------------------------------------------------------------------------------------------------------------------------------------------------------------------------------------------------------------------------------------------------------------------------------------------------------------------------------------------------------------------------------------------------------------------------------------------------------------------------------------------------------------------------------------------------------------------------------------------------------------------------------------------------------------------------------------------------------------------------------------------------------------------------------------------------------+-----------------------------------------------------------------------------------------------------+---------------------------------------------------------------------------------------------------------------------------------+\n",
            "only showing top 10 rows\n",
            "\n"
          ]
        }
      ]
    },
    {
      "cell_type": "code",
      "source": [
        "df.withColumn('xx', explode('product_id')).show(5)"
      ],
      "metadata": {
        "colab": {
          "base_uri": "https://localhost:8080/",
          "height": 175
        },
        "id": "VbqPzfzHS6JM",
        "outputId": "0d97e07f-9055-4b45-b6ce-cb167ec23b14"
      },
      "execution_count": null,
      "outputs": [
        {
          "output_type": "error",
          "ename": "NameError",
          "evalue": "ignored",
          "traceback": [
            "\u001b[0;31m---------------------------------------------------------------------------\u001b[0m",
            "\u001b[0;31mNameError\u001b[0m                                 Traceback (most recent call last)",
            "\u001b[0;32m<ipython-input-17-bd3e32862998>\u001b[0m in \u001b[0;36m<cell line: 1>\u001b[0;34m()\u001b[0m\n\u001b[0;32m----> 1\u001b[0;31m \u001b[0mdf\u001b[0m\u001b[0;34m.\u001b[0m\u001b[0mwithColumn\u001b[0m\u001b[0;34m(\u001b[0m\u001b[0;34m'xx'\u001b[0m\u001b[0;34m,\u001b[0m \u001b[0mexplode\u001b[0m\u001b[0;34m(\u001b[0m\u001b[0;34m'product_id'\u001b[0m\u001b[0;34m)\u001b[0m\u001b[0;34m)\u001b[0m\u001b[0;34m.\u001b[0m\u001b[0mshow\u001b[0m\u001b[0;34m(\u001b[0m\u001b[0;36m5\u001b[0m\u001b[0;34m)\u001b[0m\u001b[0;34m\u001b[0m\u001b[0;34m\u001b[0m\u001b[0m\n\u001b[0m",
            "\u001b[0;31mNameError\u001b[0m: name 'explode' is not defined"
          ]
        }
      ]
    },
    {
      "cell_type": "code",
      "source": [
        "from pyspark.sql import SparkSession\n",
        "import pyspark.sql.functions as F\n",
        "\n",
        "# Create a Spark session\n",
        "spark = SparkSession.builder.appName(\"ExplodeExample\").getOrCreate()\n",
        "\n",
        "# Sample data\n",
        "data = [(1, [1, 2, 3]), (2, []), (3, [4, 5])]\n",
        "\n",
        "# Create a DataFrame\n",
        "df = spark.createDataFrame(data, [\"id\", \"values\"])\n",
        "\n",
        "# Explode the \"values\" column, retaining null or empty values\n",
        "df_exploded = df.withColumn(\"exploded_values\", F.explode_outer(F.col(\"values\")))\n",
        "\n",
        "df_exploded.show()"
      ],
      "metadata": {
        "colab": {
          "base_uri": "https://localhost:8080/"
        },
        "id": "yDJJT1UdTQXr",
        "outputId": "2a22f0cf-838c-4e33-8562-ea58f37eddf2"
      },
      "execution_count": null,
      "outputs": [
        {
          "output_type": "stream",
          "name": "stdout",
          "text": [
            "+---+---------+---------------+\n",
            "| id|   values|exploded_values|\n",
            "+---+---------+---------------+\n",
            "|  1|[1, 2, 3]|              1|\n",
            "|  1|[1, 2, 3]|              2|\n",
            "|  1|[1, 2, 3]|              3|\n",
            "|  2|       []|           NULL|\n",
            "|  3|   [4, 5]|              4|\n",
            "|  3|   [4, 5]|              5|\n",
            "+---+---------+---------------+\n",
            "\n"
          ]
        }
      ]
    },
    {
      "cell_type": "markdown",
      "source": [
        "# FizzBuzz Problem:\n",
        "Write a program that prints the numbers from 1 to 100. But for multiples of three, print \"Fizz\" instead of the number, and for the multiples of five, print \"Buzz.\" For numbers that are multiples of both three and five, print \"FizzBuzz.\""
      ],
      "metadata": {
        "id": "WcC7747wifOP"
      }
    },
    {
      "cell_type": "code",
      "source": [
        "for x in range(1, 10):\n",
        "  if x == 1:\n",
        "    print(None)\n",
        "  elif x % 3 == 0 and x % 5 == 0:\n",
        "    print('FizzBuzz')\n",
        "  elif x % 3 == 0:\n",
        "    print('Fizz')\n",
        "  elif x % 5 == 0:\n",
        "    print('Buzz')\n",
        "  else:\n",
        "    print(x)"
      ],
      "metadata": {
        "colab": {
          "base_uri": "https://localhost:8080/"
        },
        "id": "I211K4cKkqq3",
        "outputId": "5b60965d-abce-4f10-bb22-2b791049747f"
      },
      "execution_count": null,
      "outputs": [
        {
          "output_type": "stream",
          "name": "stdout",
          "text": [
            "None\n",
            "2\n",
            "Fizz\n",
            "4\n",
            "Buzz\n",
            "Fizz\n",
            "7\n",
            "8\n",
            "Fizz\n"
          ]
        }
      ]
    },
    {
      "cell_type": "markdown",
      "source": [
        "## Reverse a String:\n",
        "Write a function to reverse a given string without using any built-in reverse functions or slicing."
      ],
      "metadata": {
        "id": "Bh_-KmZLlibH"
      }
    },
    {
      "cell_type": "code",
      "source": [
        "x = 'cat'\n",
        "length = len(x)\n",
        "reverse = \"\"\n",
        "for y in range(-1, -length-1, -1):\n",
        "  reverse += x[y]\n",
        "\n",
        "print(reverse)"
      ],
      "metadata": {
        "colab": {
          "base_uri": "https://localhost:8080/"
        },
        "id": "DTBoTS8KsHcU",
        "outputId": "6f2e509b-290b-47d9-a11f-62e076a1ba14"
      },
      "execution_count": null,
      "outputs": [
        {
          "output_type": "stream",
          "name": "stdout",
          "text": [
            "tac\n"
          ]
        }
      ]
    },
    {
      "cell_type": "code",
      "source": [
        "x = 'cat'\n",
        "length = len(x)\n",
        "reverse = \"\"\n",
        "for y in range(-1, -length-1, -1):\n",
        "  print(y)"
      ],
      "metadata": {
        "colab": {
          "base_uri": "https://localhost:8080/"
        },
        "id": "4rk8nndsuy9X",
        "outputId": "814d5e9b-de19-4f78-ed2e-4e9e50d20bab"
      },
      "execution_count": null,
      "outputs": [
        {
          "output_type": "stream",
          "name": "stdout",
          "text": [
            "-1\n",
            "-2\n",
            "-3\n"
          ]
        }
      ]
    },
    {
      "cell_type": "markdown",
      "source": [
        "# Find the Missing Number:\n",
        "Given an array containing n distinct numbers taken from 0, 1, 2, ..., n, find the one that is missing from the array."
      ],
      "metadata": {
        "id": "ZCYIb8-Gv3iw"
      }
    },
    {
      "cell_type": "code",
      "source": [
        "def missing_number(x):\n",
        "  missing = [a for a in range(0, len(x)+1) if a not in x]\n",
        "  return missing"
      ],
      "metadata": {
        "id": "5Azimd1Vu4vS"
      },
      "execution_count": null,
      "outputs": []
    },
    {
      "cell_type": "code",
      "source": [
        "nums = [9,6,4,2,3,5,7,0,1]\n",
        "nums.sort()\n",
        "print(nums)"
      ],
      "metadata": {
        "colab": {
          "base_uri": "https://localhost:8080/"
        },
        "id": "ABszLhBwxKTZ",
        "outputId": "c2551881-c29f-4de5-e94a-9da1cddb24f9"
      },
      "execution_count": null,
      "outputs": [
        {
          "output_type": "stream",
          "name": "stdout",
          "text": [
            "[0, 1, 2, 3, 4, 5, 6, 7, 9]\n"
          ]
        }
      ]
    },
    {
      "cell_type": "code",
      "source": [
        "class solution_1:\n",
        "  @staticmethod\n",
        "  def missing(nums):\n",
        "    nums.sort()\n",
        "    for x in nums:\n",
        "      if x+1 in nums:\n",
        "        pass\n",
        "    else:\n",
        "      return x+1"
      ],
      "metadata": {
        "id": "pG19FJy9xf8j"
      },
      "execution_count": null,
      "outputs": []
    },
    {
      "cell_type": "code",
      "source": [
        "missing([9,6,4,2,3,5,7,0,1])"
      ],
      "metadata": {
        "colab": {
          "base_uri": "https://localhost:8080/"
        },
        "id": "ygngWvxc0FUX",
        "outputId": "499ec54a-be9f-4418-a5a7-3d6d3e9b704d"
      },
      "execution_count": null,
      "outputs": [
        {
          "output_type": "execute_result",
          "data": {
            "text/plain": [
              "8"
            ]
          },
          "metadata": {},
          "execution_count": 55
        }
      ]
    },
    {
      "cell_type": "markdown",
      "source": [
        "# Palindrome Check:\n",
        "Write a function to check if a given string is a palindrome (reads the same forwards and backwards)."
      ],
      "metadata": {
        "id": "4ZfMh0mG50q-"
      }
    },
    {
      "cell_type": "code",
      "source": [
        "class Solution:\n",
        "  @staticmethod\n",
        "  def palindrome(x):\n",
        "    if x == x[::-1]:\n",
        "      return True\n",
        "    return False\n",
        "Solution.palindrome('yae')"
      ],
      "metadata": {
        "colab": {
          "base_uri": "https://localhost:8080/"
        },
        "id": "DROeTX912mrh",
        "outputId": "64048224-2d48-48c5-d3e4-0bdcd23dec14"
      },
      "execution_count": null,
      "outputs": [
        {
          "output_type": "execute_result",
          "data": {
            "text/plain": [
              "False"
            ]
          },
          "metadata": {},
          "execution_count": 70
        }
      ]
    },
    {
      "cell_type": "markdown",
      "source": [
        "# Anagram Check:\n",
        "Write a function to check if two given strings are anagrams of each other. For example listen AND silent are anagram"
      ],
      "metadata": {
        "id": "MHNRYyl88jyw"
      }
    },
    {
      "cell_type": "code",
      "source": [
        "class solution:\n",
        "  @staticmethod\n",
        "  def anagram(x, y):\n",
        "    x_list = [letter for letter in x]\n",
        "    y_list = [letter for letter in y]\n",
        "    x_len = len(x_list)\n",
        "    y_len = len(y_list)\n",
        "    comparison = 0\n",
        "    for l in x_list:\n",
        "      if l in y_list:\n",
        "        comparison+=1\n",
        "      else:\n",
        "        return False\n",
        "    if comparison == x_len:\n",
        "      print('Yes, Anagram')"
      ],
      "metadata": {
        "id": "dUL4sfYu61xu"
      },
      "execution_count": null,
      "outputs": []
    },
    {
      "cell_type": "code",
      "source": [
        "solution.anagram('god', 'dog')"
      ],
      "metadata": {
        "colab": {
          "base_uri": "https://localhost:8080/"
        },
        "id": "RCdw0b0pdCYp",
        "outputId": "cf4561b9-6b76-4c7a-9e55-94d163f7cae8"
      },
      "execution_count": null,
      "outputs": [
        {
          "output_type": "stream",
          "name": "stdout",
          "text": [
            "Yes, Anagram\n"
          ]
        }
      ]
    },
    {
      "cell_type": "code",
      "source": [
        "solution.anagram('nitesh', 'tine')"
      ],
      "metadata": {
        "colab": {
          "base_uri": "https://localhost:8080/"
        },
        "id": "niFn7tpydHsq",
        "outputId": "20721980-7808-4d1f-c259-32eb37d5ae61"
      },
      "execution_count": null,
      "outputs": [
        {
          "output_type": "execute_result",
          "data": {
            "text/plain": [
              "False"
            ]
          },
          "metadata": {},
          "execution_count": 11
        }
      ]
    },
    {
      "cell_type": "code",
      "source": [
        "def anagram(x, y):\n",
        "  x_dict = {}\n",
        "  y_dict = {}\n",
        "  for letter in x:\n",
        "    if letter in x_dict:\n",
        "        x_dict[letter]+=1\n",
        "    else:\n",
        "        x_dict[letter]=1\n",
        "\n",
        "  for letter in y:\n",
        "    if letter in y_dict:\n",
        "        y_dict[letter]+=1\n",
        "    else:\n",
        "        y_dict[letter]=1\n",
        "\n",
        "  if x_dict == y_dict:\n",
        "    return True\n",
        "  return False"
      ],
      "metadata": {
        "id": "ECYt51lNdL_T"
      },
      "execution_count": null,
      "outputs": []
    },
    {
      "cell_type": "code",
      "source": [
        "anagram('good', 'dog')"
      ],
      "metadata": {
        "colab": {
          "base_uri": "https://localhost:8080/"
        },
        "id": "XSJTHGfbedJi",
        "outputId": "6854a462-d011-463b-fa4d-24eadc2138f1"
      },
      "execution_count": null,
      "outputs": [
        {
          "output_type": "execute_result",
          "data": {
            "text/plain": [
              "False"
            ]
          },
          "metadata": {},
          "execution_count": 23
        }
      ]
    },
    {
      "cell_type": "markdown",
      "source": [
        "## Sum of Two Numbers:\n",
        "Given an array of integers, return indices of the two numbers such that they add up to a specific target."
      ],
      "metadata": {
        "id": "Hi5004MfhcUV"
      }
    },
    {
      "cell_type": "code",
      "source": [
        "#Assuming the target value of 17\n",
        "def sum_two(x):\n",
        "  target_value = 17\n",
        "  for i in x:\n",
        "    if target_value-i in x:\n",
        "      print(f\"Two numbers are: {i} and {target_value-i}\")\n",
        "    else:\n",
        "      pass\n",
        "sum_two([9, 10, 6, 7])"
      ],
      "metadata": {
        "colab": {
          "base_uri": "https://localhost:8080/"
        },
        "id": "QHRha9spefTA",
        "outputId": "1b424983-585e-428f-81cb-ed0b49453618"
      },
      "execution_count": null,
      "outputs": [
        {
          "output_type": "stream",
          "name": "stdout",
          "text": [
            "Two numbers are: 10 and 7\n",
            "Two numbers are: 7 and 10\n"
          ]
        }
      ]
    },
    {
      "cell_type": "code",
      "source": [
        "sum_two([9, 10, 6, 7])"
      ],
      "metadata": {
        "colab": {
          "base_uri": "https://localhost:8080/"
        },
        "id": "YUQnZXuzjFlX",
        "outputId": "d93e1eb7-aeb7-45a0-e04c-bc436c61d82f"
      },
      "execution_count": null,
      "outputs": [
        {
          "name": "stdout",
          "output_type": "stream",
          "text": [
            "Please input the target value: 17\n"
          ]
        },
        {
          "output_type": "execute_result",
          "data": {
            "text/plain": [
              "False"
            ]
          },
          "metadata": {},
          "execution_count": 28
        }
      ]
    },
    {
      "cell_type": "code",
      "source": [
        "import enum\n",
        "#create a dictionary/hashmap with value as key and index as value\n",
        "def hashmap(x):\n",
        "  x_dict = {}\n",
        "  for i, val in enumerate(x):\n",
        "    x_dict[val] = i\n",
        "  return x_dict"
      ],
      "metadata": {
        "id": "WHzn_O7xjNB7"
      },
      "execution_count": null,
      "outputs": []
    },
    {
      "cell_type": "code",
      "source": [
        "hashmap([9, 10, 6, 7])"
      ],
      "metadata": {
        "colab": {
          "base_uri": "https://localhost:8080/"
        },
        "id": "8wq3keSpmeNw",
        "outputId": "834d9f0d-fadc-4db7-e1c5-8c0fa8c7909c"
      },
      "execution_count": null,
      "outputs": [
        {
          "output_type": "execute_result",
          "data": {
            "text/plain": [
              "{9: 0, 10: 1, 6: 2, 7: 3}"
            ]
          },
          "metadata": {},
          "execution_count": 37
        }
      ]
    },
    {
      "cell_type": "markdown",
      "source": [
        "##More Python Question"
      ],
      "metadata": {
        "id": "pRJak-9bPz5P"
      }
    },
    {
      "cell_type": "code",
      "source": [
        "#Reverse a string without using string reversal functions or slicing.\n",
        "\n",
        "def reserve_string(x):\n",
        "  return x[::-1]\n",
        "\n"
      ],
      "metadata": {
        "colab": {
          "base_uri": "https://localhost:8080/",
          "height": 210
        },
        "id": "KiHxeTA9AeGb",
        "outputId": "67e3bf45-5c76-4fe5-966f-cda3b9e5bcc1"
      },
      "execution_count": null,
      "outputs": [
        {
          "output_type": "error",
          "ename": "NameError",
          "evalue": "ignored",
          "traceback": [
            "\u001b[0;31m---------------------------------------------------------------------------\u001b[0m",
            "\u001b[0;31mNameError\u001b[0m                                 Traceback (most recent call last)",
            "\u001b[0;32m<ipython-input-1-13e1dbbee359>\u001b[0m in \u001b[0;36m<cell line: 6>\u001b[0;34m()\u001b[0m\n\u001b[1;32m      4\u001b[0m   \u001b[0;32mreturn\u001b[0m \u001b[0mx\u001b[0m\u001b[0;34m[\u001b[0m\u001b[0;34m:\u001b[0m\u001b[0;34m:\u001b[0m\u001b[0;34m-\u001b[0m\u001b[0;36m1\u001b[0m\u001b[0;34m]\u001b[0m\u001b[0;34m\u001b[0m\u001b[0;34m\u001b[0m\u001b[0m\n\u001b[1;32m      5\u001b[0m \u001b[0;34m\u001b[0m\u001b[0m\n\u001b[0;32m----> 6\u001b[0;31m \u001b[0mreverse_string\u001b[0m\u001b[0;34m(\u001b[0m\u001b[0;34m'abc'\u001b[0m\u001b[0;34m)\u001b[0m\u001b[0;34m\u001b[0m\u001b[0;34m\u001b[0m\u001b[0m\n\u001b[0m",
            "\u001b[0;31mNameError\u001b[0m: name 'reverse_string' is not defined"
          ]
        }
      ]
    },
    {
      "cell_type": "code",
      "source": [
        "reserve_string('abc')"
      ],
      "metadata": {
        "colab": {
          "base_uri": "https://localhost:8080/",
          "height": 35
        },
        "id": "M-wth8bN07gd",
        "outputId": "795cf873-a023-4a7c-daff-63213722c660"
      },
      "execution_count": null,
      "outputs": [
        {
          "output_type": "execute_result",
          "data": {
            "text/plain": [
              "'cba'"
            ],
            "application/vnd.google.colaboratory.intrinsic+json": {
              "type": "string"
            }
          },
          "metadata": {},
          "execution_count": 2
        }
      ]
    },
    {
      "cell_type": "code",
      "source": [
        "df = spark.read.option('Header', True).csv('/content/drive/MyDrive/Resume/2023/Practice_Python_SQL_PYsrpak/Baby_Names__Beginning_2007.csv')"
      ],
      "metadata": {
        "id": "ExRc1ZTi0-N_"
      },
      "execution_count": null,
      "outputs": []
    },
    {
      "cell_type": "code",
      "source": [
        "df.show(5)"
      ],
      "metadata": {
        "colab": {
          "base_uri": "https://localhost:8080/"
        },
        "id": "g47t--3k44Px",
        "outputId": "1dd01d16-5932-4cb2-f459-e821bcfe86d0"
      },
      "execution_count": null,
      "outputs": [
        {
          "output_type": "stream",
          "name": "stdout",
          "text": [
            "+----+----------+-------+---+-----+\n",
            "|Year|First Name| County|Sex|Count|\n",
            "+----+----------+-------+---+-----+\n",
            "|2007|      ZOEY|  KINGS|  F|   11|\n",
            "|2007|      ZOEY|SUFFOLK|  F|    6|\n",
            "|2007|      ZOEY| MONROE|  F|    6|\n",
            "|2007|      ZOEY|   ERIE|  F|    9|\n",
            "|2007|       ZOE| ULSTER|  F|    5|\n",
            "+----+----------+-------+---+-----+\n",
            "only showing top 5 rows\n",
            "\n"
          ]
        }
      ]
    },
    {
      "cell_type": "code",
      "source": [
        "import pandas as pd\n",
        "\n",
        "white_wine = pd.read_csv(\"https://archive.ics.uci.edu/ml/machine-learning-databases/wine-quality/winequality-white.csv\", sep=\";\")\n",
        "red_wine = pd.read_csv(\"https://archive.ics.uci.edu/ml/machine-learning-databases/wine-quality/winequality-red.csv\", sep=\";\")"
      ],
      "metadata": {
        "id": "SI_CmylN5DG4"
      },
      "execution_count": null,
      "outputs": []
    },
    {
      "cell_type": "code",
      "source": [
        "md\n",
        "Merge the two DataFrames into a single dataset, with a new binary feature \"is_red\" that indicates whether the wine is red or white."
      ],
      "metadata": {
        "colab": {
          "base_uri": "https://localhost:8080/",
          "height": 140
        },
        "id": "_8rRaGRUqq37",
        "outputId": "08ba34dc-1029-4258-e0d7-11d926d8e4d0"
      },
      "execution_count": null,
      "outputs": [
        {
          "output_type": "error",
          "ename": "SyntaxError",
          "evalue": "ignored",
          "traceback": [
            "\u001b[0;36m  File \u001b[0;32m\"<ipython-input-3-f1d6348f22ee>\"\u001b[0;36m, line \u001b[0;32m2\u001b[0m\n\u001b[0;31m    Merge the two DataFrames into a single dataset, with a new binary feature \"is_red\" that indicates whether the wine is red or white.\u001b[0m\n\u001b[0m          ^\u001b[0m\n\u001b[0;31mSyntaxError\u001b[0m\u001b[0;31m:\u001b[0m invalid syntax\n"
          ]
        }
      ]
    },
    {
      "cell_type": "code",
      "source": [
        "!pip install pmdarima"
      ],
      "metadata": {
        "colab": {
          "base_uri": "https://localhost:8080/"
        },
        "id": "QBGLQQ63rhTq",
        "outputId": "3e544847-3c79-4a18-96ef-4bc1c9c819dd"
      },
      "execution_count": null,
      "outputs": [
        {
          "output_type": "stream",
          "name": "stdout",
          "text": [
            "Collecting pmdarima\n",
            "  Downloading pmdarima-2.0.3-cp310-cp310-manylinux_2_17_x86_64.manylinux2014_x86_64.manylinux_2_28_x86_64.whl (1.8 MB)\n",
            "\u001b[2K     \u001b[90m━━━━━━━━━━━━━━━━━━━━━━━━━━━━━━━━━━━━━━━━\u001b[0m \u001b[32m1.8/1.8 MB\u001b[0m \u001b[31m18.8 MB/s\u001b[0m eta \u001b[36m0:00:00\u001b[0m\n",
            "\u001b[?25hRequirement already satisfied: joblib>=0.11 in /usr/local/lib/python3.10/dist-packages (from pmdarima) (1.3.2)\n",
            "Requirement already satisfied: Cython!=0.29.18,!=0.29.31,>=0.29 in /usr/local/lib/python3.10/dist-packages (from pmdarima) (3.0.3)\n",
            "Requirement already satisfied: numpy>=1.21.2 in /usr/local/lib/python3.10/dist-packages (from pmdarima) (1.23.5)\n",
            "Requirement already satisfied: pandas>=0.19 in /usr/local/lib/python3.10/dist-packages (from pmdarima) (1.5.3)\n",
            "Requirement already satisfied: scikit-learn>=0.22 in /usr/local/lib/python3.10/dist-packages (from pmdarima) (1.2.2)\n",
            "Requirement already satisfied: scipy>=1.3.2 in /usr/local/lib/python3.10/dist-packages (from pmdarima) (1.11.3)\n",
            "Requirement already satisfied: statsmodels>=0.13.2 in /usr/local/lib/python3.10/dist-packages (from pmdarima) (0.14.0)\n",
            "Requirement already satisfied: urllib3 in /usr/local/lib/python3.10/dist-packages (from pmdarima) (2.0.6)\n",
            "Requirement already satisfied: setuptools!=50.0.0,>=38.6.0 in /usr/local/lib/python3.10/dist-packages (from pmdarima) (67.7.2)\n",
            "Requirement already satisfied: python-dateutil>=2.8.1 in /usr/local/lib/python3.10/dist-packages (from pandas>=0.19->pmdarima) (2.8.2)\n",
            "Requirement already satisfied: pytz>=2020.1 in /usr/local/lib/python3.10/dist-packages (from pandas>=0.19->pmdarima) (2023.3.post1)\n",
            "Requirement already satisfied: threadpoolctl>=2.0.0 in /usr/local/lib/python3.10/dist-packages (from scikit-learn>=0.22->pmdarima) (3.2.0)\n",
            "Requirement already satisfied: patsy>=0.5.2 in /usr/local/lib/python3.10/dist-packages (from statsmodels>=0.13.2->pmdarima) (0.5.3)\n",
            "Requirement already satisfied: packaging>=21.3 in /usr/local/lib/python3.10/dist-packages (from statsmodels>=0.13.2->pmdarima) (23.2)\n",
            "Requirement already satisfied: six in /usr/local/lib/python3.10/dist-packages (from patsy>=0.5.2->statsmodels>=0.13.2->pmdarima) (1.16.0)\n",
            "Installing collected packages: pmdarima\n",
            "Successfully installed pmdarima-2.0.3\n"
          ]
        }
      ]
    },
    {
      "cell_type": "code",
      "source": [
        "import numpy as np\n",
        "import pandas as pd\n",
        "import statsmodels.api as sm\n",
        "from pmdarima import auto_arima\n",
        "import matplotlib.pyplot as plt\n"
      ],
      "metadata": {
        "id": "JDje5kqrqvB5"
      },
      "execution_count": null,
      "outputs": []
    },
    {
      "cell_type": "code",
      "source": [
        "data = pd.read_csv('/content/drive/MyDrive/Resume/2023/Practice_Python_SQL_PYsrpak/AirPassengers.csv')"
      ],
      "metadata": {
        "id": "v8uoycvEqWFI"
      },
      "execution_count": null,
      "outputs": []
    },
    {
      "cell_type": "code",
      "source": [
        "display(data)"
      ],
      "metadata": {
        "colab": {
          "base_uri": "https://localhost:8080/",
          "height": 424
        },
        "id": "lrIZbOFMsNrP",
        "outputId": "2d0284fe-b6fe-43ed-ac17-b0e4ae6d6802"
      },
      "execution_count": null,
      "outputs": [
        {
          "output_type": "display_data",
          "data": {
            "text/plain": [
              "       Month  #Passengers\n",
              "0    1949-01          112\n",
              "1    1949-02          118\n",
              "2    1949-03          132\n",
              "3    1949-04          129\n",
              "4    1949-05          121\n",
              "..       ...          ...\n",
              "139  1960-08          606\n",
              "140  1960-09          508\n",
              "141  1960-10          461\n",
              "142  1960-11          390\n",
              "143  1960-12          432\n",
              "\n",
              "[144 rows x 2 columns]"
            ],
            "text/html": [
              "\n",
              "  <div id=\"df-c0789ec9-e6ad-4497-948c-be52ed6070b7\" class=\"colab-df-container\">\n",
              "    <div>\n",
              "<style scoped>\n",
              "    .dataframe tbody tr th:only-of-type {\n",
              "        vertical-align: middle;\n",
              "    }\n",
              "\n",
              "    .dataframe tbody tr th {\n",
              "        vertical-align: top;\n",
              "    }\n",
              "\n",
              "    .dataframe thead th {\n",
              "        text-align: right;\n",
              "    }\n",
              "</style>\n",
              "<table border=\"1\" class=\"dataframe\">\n",
              "  <thead>\n",
              "    <tr style=\"text-align: right;\">\n",
              "      <th></th>\n",
              "      <th>Month</th>\n",
              "      <th>#Passengers</th>\n",
              "    </tr>\n",
              "  </thead>\n",
              "  <tbody>\n",
              "    <tr>\n",
              "      <th>0</th>\n",
              "      <td>1949-01</td>\n",
              "      <td>112</td>\n",
              "    </tr>\n",
              "    <tr>\n",
              "      <th>1</th>\n",
              "      <td>1949-02</td>\n",
              "      <td>118</td>\n",
              "    </tr>\n",
              "    <tr>\n",
              "      <th>2</th>\n",
              "      <td>1949-03</td>\n",
              "      <td>132</td>\n",
              "    </tr>\n",
              "    <tr>\n",
              "      <th>3</th>\n",
              "      <td>1949-04</td>\n",
              "      <td>129</td>\n",
              "    </tr>\n",
              "    <tr>\n",
              "      <th>4</th>\n",
              "      <td>1949-05</td>\n",
              "      <td>121</td>\n",
              "    </tr>\n",
              "    <tr>\n",
              "      <th>...</th>\n",
              "      <td>...</td>\n",
              "      <td>...</td>\n",
              "    </tr>\n",
              "    <tr>\n",
              "      <th>139</th>\n",
              "      <td>1960-08</td>\n",
              "      <td>606</td>\n",
              "    </tr>\n",
              "    <tr>\n",
              "      <th>140</th>\n",
              "      <td>1960-09</td>\n",
              "      <td>508</td>\n",
              "    </tr>\n",
              "    <tr>\n",
              "      <th>141</th>\n",
              "      <td>1960-10</td>\n",
              "      <td>461</td>\n",
              "    </tr>\n",
              "    <tr>\n",
              "      <th>142</th>\n",
              "      <td>1960-11</td>\n",
              "      <td>390</td>\n",
              "    </tr>\n",
              "    <tr>\n",
              "      <th>143</th>\n",
              "      <td>1960-12</td>\n",
              "      <td>432</td>\n",
              "    </tr>\n",
              "  </tbody>\n",
              "</table>\n",
              "<p>144 rows × 2 columns</p>\n",
              "</div>\n",
              "    <div class=\"colab-df-buttons\">\n",
              "\n",
              "  <div class=\"colab-df-container\">\n",
              "    <button class=\"colab-df-convert\" onclick=\"convertToInteractive('df-c0789ec9-e6ad-4497-948c-be52ed6070b7')\"\n",
              "            title=\"Convert this dataframe to an interactive table.\"\n",
              "            style=\"display:none;\">\n",
              "\n",
              "  <svg xmlns=\"http://www.w3.org/2000/svg\" height=\"24px\" viewBox=\"0 -960 960 960\">\n",
              "    <path d=\"M120-120v-720h720v720H120Zm60-500h600v-160H180v160Zm220 220h160v-160H400v160Zm0 220h160v-160H400v160ZM180-400h160v-160H180v160Zm440 0h160v-160H620v160ZM180-180h160v-160H180v160Zm440 0h160v-160H620v160Z\"/>\n",
              "  </svg>\n",
              "    </button>\n",
              "\n",
              "  <style>\n",
              "    .colab-df-container {\n",
              "      display:flex;\n",
              "      gap: 12px;\n",
              "    }\n",
              "\n",
              "    .colab-df-convert {\n",
              "      background-color: #E8F0FE;\n",
              "      border: none;\n",
              "      border-radius: 50%;\n",
              "      cursor: pointer;\n",
              "      display: none;\n",
              "      fill: #1967D2;\n",
              "      height: 32px;\n",
              "      padding: 0 0 0 0;\n",
              "      width: 32px;\n",
              "    }\n",
              "\n",
              "    .colab-df-convert:hover {\n",
              "      background-color: #E2EBFA;\n",
              "      box-shadow: 0px 1px 2px rgba(60, 64, 67, 0.3), 0px 1px 3px 1px rgba(60, 64, 67, 0.15);\n",
              "      fill: #174EA6;\n",
              "    }\n",
              "\n",
              "    .colab-df-buttons div {\n",
              "      margin-bottom: 4px;\n",
              "    }\n",
              "\n",
              "    [theme=dark] .colab-df-convert {\n",
              "      background-color: #3B4455;\n",
              "      fill: #D2E3FC;\n",
              "    }\n",
              "\n",
              "    [theme=dark] .colab-df-convert:hover {\n",
              "      background-color: #434B5C;\n",
              "      box-shadow: 0px 1px 3px 1px rgba(0, 0, 0, 0.15);\n",
              "      filter: drop-shadow(0px 1px 2px rgba(0, 0, 0, 0.3));\n",
              "      fill: #FFFFFF;\n",
              "    }\n",
              "  </style>\n",
              "\n",
              "    <script>\n",
              "      const buttonEl =\n",
              "        document.querySelector('#df-c0789ec9-e6ad-4497-948c-be52ed6070b7 button.colab-df-convert');\n",
              "      buttonEl.style.display =\n",
              "        google.colab.kernel.accessAllowed ? 'block' : 'none';\n",
              "\n",
              "      async function convertToInteractive(key) {\n",
              "        const element = document.querySelector('#df-c0789ec9-e6ad-4497-948c-be52ed6070b7');\n",
              "        const dataTable =\n",
              "          await google.colab.kernel.invokeFunction('convertToInteractive',\n",
              "                                                    [key], {});\n",
              "        if (!dataTable) return;\n",
              "\n",
              "        const docLinkHtml = 'Like what you see? Visit the ' +\n",
              "          '<a target=\"_blank\" href=https://colab.research.google.com/notebooks/data_table.ipynb>data table notebook</a>'\n",
              "          + ' to learn more about interactive tables.';\n",
              "        element.innerHTML = '';\n",
              "        dataTable['output_type'] = 'display_data';\n",
              "        await google.colab.output.renderOutput(dataTable, element);\n",
              "        const docLink = document.createElement('div');\n",
              "        docLink.innerHTML = docLinkHtml;\n",
              "        element.appendChild(docLink);\n",
              "      }\n",
              "    </script>\n",
              "  </div>\n",
              "\n",
              "\n",
              "<div id=\"df-0d3e8f3f-d2a6-422c-a297-ec283d853c25\">\n",
              "  <button class=\"colab-df-quickchart\" onclick=\"quickchart('df-0d3e8f3f-d2a6-422c-a297-ec283d853c25')\"\n",
              "            title=\"Suggest charts.\"\n",
              "            style=\"display:none;\">\n",
              "\n",
              "<svg xmlns=\"http://www.w3.org/2000/svg\" height=\"24px\"viewBox=\"0 0 24 24\"\n",
              "     width=\"24px\">\n",
              "    <g>\n",
              "        <path d=\"M19 3H5c-1.1 0-2 .9-2 2v14c0 1.1.9 2 2 2h14c1.1 0 2-.9 2-2V5c0-1.1-.9-2-2-2zM9 17H7v-7h2v7zm4 0h-2V7h2v10zm4 0h-2v-4h2v4z\"/>\n",
              "    </g>\n",
              "</svg>\n",
              "  </button>\n",
              "\n",
              "<style>\n",
              "  .colab-df-quickchart {\n",
              "      --bg-color: #E8F0FE;\n",
              "      --fill-color: #1967D2;\n",
              "      --hover-bg-color: #E2EBFA;\n",
              "      --hover-fill-color: #174EA6;\n",
              "      --disabled-fill-color: #AAA;\n",
              "      --disabled-bg-color: #DDD;\n",
              "  }\n",
              "\n",
              "  [theme=dark] .colab-df-quickchart {\n",
              "      --bg-color: #3B4455;\n",
              "      --fill-color: #D2E3FC;\n",
              "      --hover-bg-color: #434B5C;\n",
              "      --hover-fill-color: #FFFFFF;\n",
              "      --disabled-bg-color: #3B4455;\n",
              "      --disabled-fill-color: #666;\n",
              "  }\n",
              "\n",
              "  .colab-df-quickchart {\n",
              "    background-color: var(--bg-color);\n",
              "    border: none;\n",
              "    border-radius: 50%;\n",
              "    cursor: pointer;\n",
              "    display: none;\n",
              "    fill: var(--fill-color);\n",
              "    height: 32px;\n",
              "    padding: 0;\n",
              "    width: 32px;\n",
              "  }\n",
              "\n",
              "  .colab-df-quickchart:hover {\n",
              "    background-color: var(--hover-bg-color);\n",
              "    box-shadow: 0 1px 2px rgba(60, 64, 67, 0.3), 0 1px 3px 1px rgba(60, 64, 67, 0.15);\n",
              "    fill: var(--button-hover-fill-color);\n",
              "  }\n",
              "\n",
              "  .colab-df-quickchart-complete:disabled,\n",
              "  .colab-df-quickchart-complete:disabled:hover {\n",
              "    background-color: var(--disabled-bg-color);\n",
              "    fill: var(--disabled-fill-color);\n",
              "    box-shadow: none;\n",
              "  }\n",
              "\n",
              "  .colab-df-spinner {\n",
              "    border: 2px solid var(--fill-color);\n",
              "    border-color: transparent;\n",
              "    border-bottom-color: var(--fill-color);\n",
              "    animation:\n",
              "      spin 1s steps(1) infinite;\n",
              "  }\n",
              "\n",
              "  @keyframes spin {\n",
              "    0% {\n",
              "      border-color: transparent;\n",
              "      border-bottom-color: var(--fill-color);\n",
              "      border-left-color: var(--fill-color);\n",
              "    }\n",
              "    20% {\n",
              "      border-color: transparent;\n",
              "      border-left-color: var(--fill-color);\n",
              "      border-top-color: var(--fill-color);\n",
              "    }\n",
              "    30% {\n",
              "      border-color: transparent;\n",
              "      border-left-color: var(--fill-color);\n",
              "      border-top-color: var(--fill-color);\n",
              "      border-right-color: var(--fill-color);\n",
              "    }\n",
              "    40% {\n",
              "      border-color: transparent;\n",
              "      border-right-color: var(--fill-color);\n",
              "      border-top-color: var(--fill-color);\n",
              "    }\n",
              "    60% {\n",
              "      border-color: transparent;\n",
              "      border-right-color: var(--fill-color);\n",
              "    }\n",
              "    80% {\n",
              "      border-color: transparent;\n",
              "      border-right-color: var(--fill-color);\n",
              "      border-bottom-color: var(--fill-color);\n",
              "    }\n",
              "    90% {\n",
              "      border-color: transparent;\n",
              "      border-bottom-color: var(--fill-color);\n",
              "    }\n",
              "  }\n",
              "</style>\n",
              "\n",
              "  <script>\n",
              "    async function quickchart(key) {\n",
              "      const quickchartButtonEl =\n",
              "        document.querySelector('#' + key + ' button');\n",
              "      quickchartButtonEl.disabled = true;  // To prevent multiple clicks.\n",
              "      quickchartButtonEl.classList.add('colab-df-spinner');\n",
              "      try {\n",
              "        const charts = await google.colab.kernel.invokeFunction(\n",
              "            'suggestCharts', [key], {});\n",
              "      } catch (error) {\n",
              "        console.error('Error during call to suggestCharts:', error);\n",
              "      }\n",
              "      quickchartButtonEl.classList.remove('colab-df-spinner');\n",
              "      quickchartButtonEl.classList.add('colab-df-quickchart-complete');\n",
              "    }\n",
              "    (() => {\n",
              "      let quickchartButtonEl =\n",
              "        document.querySelector('#df-0d3e8f3f-d2a6-422c-a297-ec283d853c25 button');\n",
              "      quickchartButtonEl.style.display =\n",
              "        google.colab.kernel.accessAllowed ? 'block' : 'none';\n",
              "    })();\n",
              "  </script>\n",
              "</div>\n",
              "    </div>\n",
              "  </div>\n"
            ]
          },
          "metadata": {}
        }
      ]
    },
    {
      "cell_type": "markdown",
      "source": [
        "**Stationarity Check:**\n",
        "\n",
        "ARIMA assumes that the time series is stationary. You may need to difference your data to make it stationary. You can use diff() in Pandas or perform a more advanced test, like the Augmented Dickey-Fuller test, to check for stationarity."
      ],
      "metadata": {
        "id": "_7l8Zc6WsAZL"
      }
    },
    {
      "cell_type": "code",
      "source": [
        "from statsmodels.tsa.stattools import adfuller\n",
        "\n",
        "result = adfuller(data['#Passengers'])\n",
        "if result[1] <= 0.05:\n",
        "    print(\"Data is stationary\")\n",
        "else:\n",
        "    print(\"Data is not stationary\")\n"
      ],
      "metadata": {
        "colab": {
          "base_uri": "https://localhost:8080/"
        },
        "id": "16YWLGYVr43Q",
        "outputId": "cf08f868-08a5-4cf3-d811-a5eab3f6607e"
      },
      "execution_count": null,
      "outputs": [
        {
          "output_type": "stream",
          "name": "stdout",
          "text": [
            "Data is not stationary\n"
          ]
        }
      ]
    },
    {
      "cell_type": "markdown",
      "source": [
        "**Choosing ARIMA Orders:**\n",
        "You can either manually specify the order of the ARIMA model (p, d, q), or you can use automatic methods to determine the best orders. The *auto_arima* function from *pmdarima* can help you find the best orders."
      ],
      "metadata": {
        "id": "30KAromDsWqe"
      }
    },
    {
      "cell_type": "code",
      "source": [
        "stepwise_fit = auto_arima(data['#Passengers'], seasonal=False, suppress_warnings=True)\n",
        "p, d, q = stepwise_fit.order"
      ],
      "metadata": {
        "id": "XdvcBlLFr8_5"
      },
      "execution_count": null,
      "outputs": []
    },
    {
      "cell_type": "markdown",
      "source": [
        "**Fitting the ARIMA Model:**\n",
        "You can now create and fit the ARIMA model to your data using the ARIMA class from statsmodels."
      ],
      "metadata": {
        "id": "JvHu2dRDsnF9"
      }
    },
    {
      "cell_type": "code",
      "source": [
        "model = sm.tsa.ARIMA(data['#Passengers'], order=(p, d, q))\n",
        "results = model.fit()\n"
      ],
      "metadata": {
        "colab": {
          "base_uri": "https://localhost:8080/"
        },
        "id": "pjjQAhRNsjsF",
        "outputId": "fd45d6d2-9d57-46b8-ad01-a4b95684ba06"
      },
      "execution_count": null,
      "outputs": [
        {
          "output_type": "stream",
          "name": "stderr",
          "text": [
            "/usr/local/lib/python3.10/dist-packages/statsmodels/tsa/statespace/sarimax.py:966: UserWarning: Non-stationary starting autoregressive parameters found. Using zeros as starting parameters.\n",
            "  warn('Non-stationary starting autoregressive parameters'\n",
            "/usr/local/lib/python3.10/dist-packages/statsmodels/tsa/statespace/sarimax.py:978: UserWarning: Non-invertible starting MA parameters found. Using zeros as starting parameters.\n",
            "  warn('Non-invertible starting MA parameters found.'\n"
          ]
        }
      ]
    },
    {
      "cell_type": "markdown",
      "source": [
        "**Model Summary and Diagnostic Checks:**\n",
        "You should inspect the model's summary and perform diagnostic checks to ensure the model's goodness-of-fit."
      ],
      "metadata": {
        "id": "xQe-S72Nsw10"
      }
    },
    {
      "cell_type": "code",
      "source": [
        "print(results.summary())\n",
        "sm.graphics.tsa.plot_acf(results.resid)\n",
        "sm.graphics.tsa.plot_pacf(results.resid)\n"
      ],
      "metadata": {
        "colab": {
          "base_uri": "https://localhost:8080/",
          "height": 1000
        },
        "id": "FMTXBJOYsrmV",
        "outputId": "b7bad55c-810f-47ef-8c06-9613694b5a83"
      },
      "execution_count": null,
      "outputs": [
        {
          "output_type": "stream",
          "name": "stdout",
          "text": [
            "                               SARIMAX Results                                \n",
            "==============================================================================\n",
            "Dep. Variable:            #Passengers   No. Observations:                  144\n",
            "Model:                 ARIMA(4, 1, 3)   Log Likelihood                -674.913\n",
            "Date:                Wed, 18 Oct 2023   AIC                           1365.825\n",
            "Time:                        16:51:40   BIC                           1389.528\n",
            "Sample:                             0   HQIC                          1375.457\n",
            "                                - 144                                         \n",
            "Covariance Type:                  opg                                         \n",
            "==============================================================================\n",
            "                 coef    std err          z      P>|z|      [0.025      0.975]\n",
            "------------------------------------------------------------------------------\n",
            "ar.L1         -0.5582      0.117     -4.782      0.000      -0.787      -0.329\n",
            "ar.L2          0.4935      0.113      4.375      0.000       0.272       0.715\n",
            "ar.L3          0.1238      0.128      0.970      0.332      -0.126       0.374\n",
            "ar.L4         -0.5213      0.085     -6.136      0.000      -0.688      -0.355\n",
            "ma.L1          0.9069      0.094      9.657      0.000       0.723       1.091\n",
            "ma.L2         -0.5590      0.145     -3.866      0.000      -0.842      -0.276\n",
            "ma.L3         -0.7385      0.109     -6.778      0.000      -0.952      -0.525\n",
            "sigma2       724.1731     85.616      8.458      0.000     556.369     891.977\n",
            "===================================================================================\n",
            "Ljung-Box (L1) (Q):                   0.37   Jarque-Bera (JB):                14.59\n",
            "Prob(Q):                              0.54   Prob(JB):                         0.00\n",
            "Heteroskedasticity (H):               5.66   Skew:                             0.74\n",
            "Prob(H) (two-sided):                  0.00   Kurtosis:                         3.52\n",
            "===================================================================================\n",
            "\n",
            "Warnings:\n",
            "[1] Covariance matrix calculated using the outer product of gradients (complex-step).\n"
          ]
        },
        {
          "output_type": "execute_result",
          "data": {
            "text/plain": [
              "<Figure size 640x480 with 1 Axes>"
            ],
            "image/png": "[encoded data removed]"
          },
          "metadata": {},
          "execution_count": 11
        },
        {
          "output_type": "display_data",
          "data": {
            "text/plain": [
              "<Figure size 640x480 with 1 Axes>"
            ],
            "image/png": "[encoded data removed]"
          },
          "metadata": {}
        },
        {
          "output_type": "display_data",
          "data": {
            "text/plain": [
              "<Figure size 640x480 with 1 Axes>"
            ],
            "image/png": "[encoded data removed]"
          },
          "metadata": {}
        }
      ]
    },
    {
      "cell_type": "markdown",
      "source": [
        "**Forecasting:**\n",
        "Finally, you can use the fitted ARIMA model to make predictions and generate forecasts."
      ],
      "metadata": {
        "id": "mYmQqZIttDBv"
      }
    },
    {
      "cell_type": "code",
      "source": [
        "forecast = results.get_forecast(steps=20)  # n is the number of steps ahead you want to forecast\n",
        "forecast_mean = forecast.predicted_mean\n"
      ],
      "metadata": {
        "id": "rKc1IEE_sy57"
      },
      "execution_count": null,
      "outputs": []
    },
    {
      "cell_type": "markdown",
      "source": [
        "**Visualization:**\n",
        "Visualize the observed data and the forecasted values."
      ],
      "metadata": {
        "id": "b9GHfSQutKZ5"
      }
    },
    {
      "cell_type": "code",
      "source": [
        "plt.plot(data['#Passengers'], label='Observed')\n",
        "plt.plot(forecast_mean, label='Forecast', color='r')\n",
        "plt.legend()\n",
        "plt.show()\n"
      ],
      "metadata": {
        "colab": {
          "base_uri": "https://localhost:8080/",
          "height": 430
        },
        "id": "volPdXd2tFfn",
        "outputId": "1b50a222-7c84-43dc-db38-ecf7c8478c44"
      },
      "execution_count": null,
      "outputs": [
        {
          "output_type": "display_data",
          "data": {
            "text/plain": [
              "<Figure size 640x480 with 1 Axes>"
            ],
            "image/png": "[encoded data removed]"
          },
          "metadata": {}
        }
      ]
    },
    {
      "cell_type": "code",
      "source": [
        "!pip install matplotlib"
      ],
      "metadata": {
        "colab": {
          "base_uri": "https://localhost:8080/"
        },
        "id": "ffQja629tz3y",
        "outputId": "cf6ffdd5-d671-4bd3-e4bf-2396f9ca0edf"
      },
      "execution_count": null,
      "outputs": [
        {
          "output_type": "stream",
          "name": "stdout",
          "text": [
            "Requirement already satisfied: matplotlib in /usr/local/lib/python3.10/dist-packages (3.7.1)\n",
            "Requirement already satisfied: contourpy>=1.0.1 in /usr/local/lib/python3.10/dist-packages (from matplotlib) (1.1.1)\n",
            "Requirement already satisfied: cycler>=0.10 in /usr/local/lib/python3.10/dist-packages (from matplotlib) (0.12.1)\n",
            "Requirement already satisfied: fonttools>=4.22.0 in /usr/local/lib/python3.10/dist-packages (from matplotlib) (4.43.1)\n",
            "Requirement already satisfied: kiwisolver>=1.0.1 in /usr/local/lib/python3.10/dist-packages (from matplotlib) (1.4.5)\n",
            "Requirement already satisfied: numpy>=1.20 in /usr/local/lib/python3.10/dist-packages (from matplotlib) (1.23.5)\n",
            "Requirement already satisfied: packaging>=20.0 in /usr/local/lib/python3.10/dist-packages (from matplotlib) (23.2)\n",
            "Requirement already satisfied: pillow>=6.2.0 in /usr/local/lib/python3.10/dist-packages (from matplotlib) (9.4.0)\n",
            "Requirement already satisfied: pyparsing>=2.3.1 in /usr/local/lib/python3.10/dist-packages (from matplotlib) (3.1.1)\n",
            "Requirement already satisfied: python-dateutil>=2.7 in /usr/local/lib/python3.10/dist-packages (from matplotlib) (2.8.2)\n",
            "Requirement already satisfied: six>=1.5 in /usr/local/lib/python3.10/dist-packages (from python-dateutil>=2.7->matplotlib) (1.16.0)\n"
          ]
        }
      ]
    },
    {
      "cell_type": "code",
      "source": [
        "\n",
        "\n",
        "# Importing required libraries\n",
        "import numpy as np\n",
        "import pandas as pd\n",
        "import matplotlib.pyplot as plt\n",
        "from statsmodels.tsa.seasonal import seasonal_decompose\n",
        "\n",
        "# Read the AirPassengers dataset\n",
        "airline = pd.read_csv('/content/drive/MyDrive/Resume/2023/Practice_Python_SQL_PYsrpak/AirPassengers.csv',\n",
        "                       index_col ='Month',\n",
        "                       parse_dates = True)\n",
        "\n",
        "# Print the first five rows of the dataset\n",
        "display(airline.head())\n",
        "\n",
        "# ETS Decomposition\n",
        "result = seasonal_decompose(airline['#Passengers'],\n",
        "                            model ='multiplicative')\n",
        "\n",
        "# ETS plot\n",
        "result.plot()"
      ],
      "metadata": {
        "colab": {
          "base_uri": "https://localhost:8080/",
          "height": 1000
        },
        "id": "NFbe8dEbtPQY",
        "outputId": "fb2b3684-8536-424f-cbba-7c3207c948be"
      },
      "execution_count": 35,
      "outputs": [
        {
          "output_type": "display_data",
          "data": {
            "text/plain": [
              "            #Passengers\n",
              "Month                  \n",
              "1949-01-01          112\n",
              "1949-02-01          118\n",
              "1949-03-01          132\n",
              "1949-04-01          129\n",
              "1949-05-01          121"
            ],
            "text/html": [
              "\n",
              "  <div id=\"df-937fb26d-0632-4a17-8695-8934cc2097fd\" class=\"colab-df-container\">\n",
              "    <div>\n",
              "<style scoped>\n",
              "    .dataframe tbody tr th:only-of-type {\n",
              "        vertical-align: middle;\n",
              "    }\n",
              "\n",
              "    .dataframe tbody tr th {\n",
              "        vertical-align: top;\n",
              "    }\n",
              "\n",
              "    .dataframe thead th {\n",
              "        text-align: right;\n",
              "    }\n",
              "</style>\n",
              "<table border=\"1\" class=\"dataframe\">\n",
              "  <thead>\n",
              "    <tr style=\"text-align: right;\">\n",
              "      <th></th>\n",
              "      <th>#Passengers</th>\n",
              "    </tr>\n",
              "    <tr>\n",
              "      <th>Month</th>\n",
              "      <th></th>\n",
              "    </tr>\n",
              "  </thead>\n",
              "  <tbody>\n",
              "    <tr>\n",
              "      <th>1949-01-01</th>\n",
              "      <td>112</td>\n",
              "    </tr>\n",
              "    <tr>\n",
              "      <th>1949-02-01</th>\n",
              "      <td>118</td>\n",
              "    </tr>\n",
              "    <tr>\n",
              "      <th>1949-03-01</th>\n",
              "      <td>132</td>\n",
              "    </tr>\n",
              "    <tr>\n",
              "      <th>1949-04-01</th>\n",
              "      <td>129</td>\n",
              "    </tr>\n",
              "    <tr>\n",
              "      <th>1949-05-01</th>\n",
              "      <td>121</td>\n",
              "    </tr>\n",
              "  </tbody>\n",
              "</table>\n",
              "</div>\n",
              "    <div class=\"colab-df-buttons\">\n",
              "\n",
              "  <div class=\"colab-df-container\">\n",
              "    <button class=\"colab-df-convert\" onclick=\"convertToInteractive('df-937fb26d-0632-4a17-8695-8934cc2097fd')\"\n",
              "            title=\"Convert this dataframe to an interactive table.\"\n",
              "            style=\"display:none;\">\n",
              "\n",
              "  <svg xmlns=\"http://www.w3.org/2000/svg\" height=\"24px\" viewBox=\"0 -960 960 960\">\n",
              "    <path d=\"M120-120v-720h720v720H120Zm60-500h600v-160H180v160Zm220 220h160v-160H400v160Zm0 220h160v-160H400v160ZM180-400h160v-160H180v160Zm440 0h160v-160H620v160ZM180-180h160v-160H180v160Zm440 0h160v-160H620v160Z\"/>\n",
              "  </svg>\n",
              "    </button>\n",
              "\n",
              "  <style>\n",
              "    .colab-df-container {\n",
              "      display:flex;\n",
              "      gap: 12px;\n",
              "    }\n",
              "\n",
              "    .colab-df-convert {\n",
              "      background-color: #E8F0FE;\n",
              "      border: none;\n",
              "      border-radius: 50%;\n",
              "      cursor: pointer;\n",
              "      display: none;\n",
              "      fill: #1967D2;\n",
              "      height: 32px;\n",
              "      padding: 0 0 0 0;\n",
              "      width: 32px;\n",
              "    }\n",
              "\n",
              "    .colab-df-convert:hover {\n",
              "      background-color: #E2EBFA;\n",
              "      box-shadow: 0px 1px 2px rgba(60, 64, 67, 0.3), 0px 1px 3px 1px rgba(60, 64, 67, 0.15);\n",
              "      fill: #174EA6;\n",
              "    }\n",
              "\n",
              "    .colab-df-buttons div {\n",
              "      margin-bottom: 4px;\n",
              "    }\n",
              "\n",
              "    [theme=dark] .colab-df-convert {\n",
              "      background-color: #3B4455;\n",
              "      fill: #D2E3FC;\n",
              "    }\n",
              "\n",
              "    [theme=dark] .colab-df-convert:hover {\n",
              "      background-color: #434B5C;\n",
              "      box-shadow: 0px 1px 3px 1px rgba(0, 0, 0, 0.15);\n",
              "      filter: drop-shadow(0px 1px 2px rgba(0, 0, 0, 0.3));\n",
              "      fill: #FFFFFF;\n",
              "    }\n",
              "  </style>\n",
              "\n",
              "    <script>\n",
              "      const buttonEl =\n",
              "        document.querySelector('#df-937fb26d-0632-4a17-8695-8934cc2097fd button.colab-df-convert');\n",
              "      buttonEl.style.display =\n",
              "        google.colab.kernel.accessAllowed ? 'block' : 'none';\n",
              "\n",
              "      async function convertToInteractive(key) {\n",
              "        const element = document.querySelector('#df-937fb26d-0632-4a17-8695-8934cc2097fd');\n",
              "        const dataTable =\n",
              "          await google.colab.kernel.invokeFunction('convertToInteractive',\n",
              "                                                    [key], {});\n",
              "        if (!dataTable) return;\n",
              "\n",
              "        const docLinkHtml = 'Like what you see? Visit the ' +\n",
              "          '<a target=\"_blank\" href=https://colab.research.google.com/notebooks/data_table.ipynb>data table notebook</a>'\n",
              "          + ' to learn more about interactive tables.';\n",
              "        element.innerHTML = '';\n",
              "        dataTable['output_type'] = 'display_data';\n",
              "        await google.colab.output.renderOutput(dataTable, element);\n",
              "        const docLink = document.createElement('div');\n",
              "        docLink.innerHTML = docLinkHtml;\n",
              "        element.appendChild(docLink);\n",
              "      }\n",
              "    </script>\n",
              "  </div>\n",
              "\n",
              "\n",
              "<div id=\"df-e6595d6a-a9fd-40f8-9ab9-6352d3014956\">\n",
              "  <button class=\"colab-df-quickchart\" onclick=\"quickchart('df-e6595d6a-a9fd-40f8-9ab9-6352d3014956')\"\n",
              "            title=\"Suggest charts.\"\n",
              "            style=\"display:none;\">\n",
              "\n",
              "<svg xmlns=\"http://www.w3.org/2000/svg\" height=\"24px\"viewBox=\"0 0 24 24\"\n",
              "     width=\"24px\">\n",
              "    <g>\n",
              "        <path d=\"M19 3H5c-1.1 0-2 .9-2 2v14c0 1.1.9 2 2 2h14c1.1 0 2-.9 2-2V5c0-1.1-.9-2-2-2zM9 17H7v-7h2v7zm4 0h-2V7h2v10zm4 0h-2v-4h2v4z\"/>\n",
              "    </g>\n",
              "</svg>\n",
              "  </button>\n",
              "\n",
              "<style>\n",
              "  .colab-df-quickchart {\n",
              "      --bg-color: #E8F0FE;\n",
              "      --fill-color: #1967D2;\n",
              "      --hover-bg-color: #E2EBFA;\n",
              "      --hover-fill-color: #174EA6;\n",
              "      --disabled-fill-color: #AAA;\n",
              "      --disabled-bg-color: #DDD;\n",
              "  }\n",
              "\n",
              "  [theme=dark] .colab-df-quickchart {\n",
              "      --bg-color: #3B4455;\n",
              "      --fill-color: #D2E3FC;\n",
              "      --hover-bg-color: #434B5C;\n",
              "      --hover-fill-color: #FFFFFF;\n",
              "      --disabled-bg-color: #3B4455;\n",
              "      --disabled-fill-color: #666;\n",
              "  }\n",
              "\n",
              "  .colab-df-quickchart {\n",
              "    background-color: var(--bg-color);\n",
              "    border: none;\n",
              "    border-radius: 50%;\n",
              "    cursor: pointer;\n",
              "    display: none;\n",
              "    fill: var(--fill-color);\n",
              "    height: 32px;\n",
              "    padding: 0;\n",
              "    width: 32px;\n",
              "  }\n",
              "\n",
              "  .colab-df-quickchart:hover {\n",
              "    background-color: var(--hover-bg-color);\n",
              "    box-shadow: 0 1px 2px rgba(60, 64, 67, 0.3), 0 1px 3px 1px rgba(60, 64, 67, 0.15);\n",
              "    fill: var(--button-hover-fill-color);\n",
              "  }\n",
              "\n",
              "  .colab-df-quickchart-complete:disabled,\n",
              "  .colab-df-quickchart-complete:disabled:hover {\n",
              "    background-color: var(--disabled-bg-color);\n",
              "    fill: var(--disabled-fill-color);\n",
              "    box-shadow: none;\n",
              "  }\n",
              "\n",
              "  .colab-df-spinner {\n",
              "    border: 2px solid var(--fill-color);\n",
              "    border-color: transparent;\n",
              "    border-bottom-color: var(--fill-color);\n",
              "    animation:\n",
              "      spin 1s steps(1) infinite;\n",
              "  }\n",
              "\n",
              "  @keyframes spin {\n",
              "    0% {\n",
              "      border-color: transparent;\n",
              "      border-bottom-color: var(--fill-color);\n",
              "      border-left-color: var(--fill-color);\n",
              "    }\n",
              "    20% {\n",
              "      border-color: transparent;\n",
              "      border-left-color: var(--fill-color);\n",
              "      border-top-color: var(--fill-color);\n",
              "    }\n",
              "    30% {\n",
              "      border-color: transparent;\n",
              "      border-left-color: var(--fill-color);\n",
              "      border-top-color: var(--fill-color);\n",
              "      border-right-color: var(--fill-color);\n",
              "    }\n",
              "    40% {\n",
              "      border-color: transparent;\n",
              "      border-right-color: var(--fill-color);\n",
              "      border-top-color: var(--fill-color);\n",
              "    }\n",
              "    60% {\n",
              "      border-color: transparent;\n",
              "      border-right-color: var(--fill-color);\n",
              "    }\n",
              "    80% {\n",
              "      border-color: transparent;\n",
              "      border-right-color: var(--fill-color);\n",
              "      border-bottom-color: var(--fill-color);\n",
              "    }\n",
              "    90% {\n",
              "      border-color: transparent;\n",
              "      border-bottom-color: var(--fill-color);\n",
              "    }\n",
              "  }\n",
              "</style>\n",
              "\n",
              "  <script>\n",
              "    async function quickchart(key) {\n",
              "      const quickchartButtonEl =\n",
              "        document.querySelector('#' + key + ' button');\n",
              "      quickchartButtonEl.disabled = true;  // To prevent multiple clicks.\n",
              "      quickchartButtonEl.classList.add('colab-df-spinner');\n",
              "      try {\n",
              "        const charts = await google.colab.kernel.invokeFunction(\n",
              "            'suggestCharts', [key], {});\n",
              "      } catch (error) {\n",
              "        console.error('Error during call to suggestCharts:', error);\n",
              "      }\n",
              "      quickchartButtonEl.classList.remove('colab-df-spinner');\n",
              "      quickchartButtonEl.classList.add('colab-df-quickchart-complete');\n",
              "    }\n",
              "    (() => {\n",
              "      let quickchartButtonEl =\n",
              "        document.querySelector('#df-e6595d6a-a9fd-40f8-9ab9-6352d3014956 button');\n",
              "      quickchartButtonEl.style.display =\n",
              "        google.colab.kernel.accessAllowed ? 'block' : 'none';\n",
              "    })();\n",
              "  </script>\n",
              "</div>\n",
              "    </div>\n",
              "  </div>\n"
            ]
          },
          "metadata": {}
        },
        {
          "output_type": "execute_result",
          "data": {
            "text/plain": [
              "<Figure size 640x480 with 4 Axes>"
            ],
            "image/png": "[encoded data removed]"
          },
          "metadata": {},
          "execution_count": 35
        },
        {
          "output_type": "display_data",
          "data": {
            "text/plain": [
              "<Figure size 640x480 with 4 Axes>"
            ],
            "image/png": "[encoded data removed]"
          },
          "metadata": {}
        }
      ]
    },
    {
      "cell_type": "code",
      "source": [
        "# To install the library\n",
        "# pip install pmdarima\n",
        "\n",
        "# Import the library\n",
        "# from pmdarima import auto_arima\n",
        "\n",
        "# Ignore harmless warnings\n",
        "import warnings\n",
        "warnings.filterwarnings(\"ignore\")\n",
        "\n",
        "# Fit auto_arima function to AirPassengers dataset\n",
        "stepwise_fit = auto_arima(airline['#Passengers'], start_p = 1, start_q = 1,\n",
        "\t\t\t\t\t\tmax_p = 3, max_q = 3, m = 12,\n",
        "\t\t\t\t\t\tstart_P = 0, seasonal = True,\n",
        "\t\t\t\t\t\td = None, D = 1, trace = True,\n",
        "\t\t\t\t\t\terror_action ='ignore', # we don't want to know if an order does not work\n",
        "\t\t\t\t\t\tsuppress_warnings = True, # we don't want convergence warnings\n",
        "\t\t\t\t\t\tstepwise = True)\t\t # set to stepwise\n",
        "\n",
        "# To print the summary\n",
        "stepwise_fit.summary()\n"
      ],
      "metadata": {
        "id": "FmhwBE4Itx-i",
        "colab": {
          "base_uri": "https://localhost:8080/",
          "height": 833
        },
        "outputId": "37f3b91d-bea8-427b-d0e1-93ea8aff6b72"
      },
      "execution_count": 25,
      "outputs": [
        {
          "output_type": "stream",
          "name": "stdout",
          "text": [
            "Performing stepwise search to minimize aic\n",
            " ARIMA(1,1,1)(0,1,1)[12]             : AIC=1022.896, Time=1.93 sec\n",
            " ARIMA(0,1,0)(0,1,0)[12]             : AIC=1031.508, Time=0.10 sec\n",
            " ARIMA(1,1,0)(1,1,0)[12]             : AIC=1020.393, Time=0.95 sec\n",
            " ARIMA(0,1,1)(0,1,1)[12]             : AIC=1021.003, Time=1.31 sec\n",
            " ARIMA(1,1,0)(0,1,0)[12]             : AIC=1020.393, Time=0.26 sec\n",
            " ARIMA(1,1,0)(2,1,0)[12]             : AIC=1019.239, Time=1.31 sec\n",
            " ARIMA(1,1,0)(2,1,1)[12]             : AIC=inf, Time=14.64 sec\n",
            " ARIMA(1,1,0)(1,1,1)[12]             : AIC=1020.493, Time=2.02 sec\n",
            " ARIMA(0,1,0)(2,1,0)[12]             : AIC=1032.120, Time=1.09 sec\n",
            " ARIMA(2,1,0)(2,1,0)[12]             : AIC=1021.120, Time=1.99 sec\n",
            " ARIMA(1,1,1)(2,1,0)[12]             : AIC=1021.032, Time=2.62 sec\n",
            " ARIMA(0,1,1)(2,1,0)[12]             : AIC=1019.178, Time=1.41 sec\n",
            " ARIMA(0,1,1)(1,1,0)[12]             : AIC=1020.425, Time=0.80 sec\n",
            " ARIMA(0,1,1)(2,1,1)[12]             : AIC=inf, Time=11.49 sec\n",
            " ARIMA(0,1,1)(1,1,1)[12]             : AIC=1020.327, Time=2.05 sec\n",
            " ARIMA(0,1,2)(2,1,0)[12]             : AIC=1021.148, Time=1.87 sec\n",
            " ARIMA(1,1,2)(2,1,0)[12]             : AIC=1022.805, Time=4.92 sec\n",
            " ARIMA(0,1,1)(2,1,0)[12] intercept   : AIC=1021.017, Time=3.99 sec\n",
            "\n",
            "Best model:  ARIMA(0,1,1)(2,1,0)[12]          \n",
            "Total fit time: 55.030 seconds\n"
          ]
        },
        {
          "output_type": "execute_result",
          "data": {
            "text/plain": [
              "<class 'statsmodels.iolib.summary.Summary'>\n",
              "\"\"\"\n",
              "                                      SARIMAX Results                                      \n",
              "===========================================================================================\n",
              "Dep. Variable:                                   y   No. Observations:                  144\n",
              "Model:             SARIMAX(0, 1, 1)x(2, 1, [], 12)   Log Likelihood                -505.589\n",
              "Date:                             Wed, 18 Oct 2023   AIC                           1019.178\n",
              "Time:                                     17:03:26   BIC                           1030.679\n",
              "Sample:                                 01-01-1949   HQIC                          1023.851\n",
              "                                      - 12-01-1960                                         \n",
              "Covariance Type:                               opg                                         \n",
              "==============================================================================\n",
              "                 coef    std err          z      P>|z|      [0.025      0.975]\n",
              "------------------------------------------------------------------------------\n",
              "ma.L1         -0.3634      0.074     -4.945      0.000      -0.508      -0.219\n",
              "ar.S.L12      -0.1239      0.090     -1.372      0.170      -0.301       0.053\n",
              "ar.S.L24       0.1911      0.107      1.783      0.075      -0.019       0.401\n",
              "sigma2       130.4480     15.527      8.402      0.000     100.016     160.880\n",
              "===================================================================================\n",
              "Ljung-Box (L1) (Q):                   0.01   Jarque-Bera (JB):                 4.59\n",
              "Prob(Q):                              0.92   Prob(JB):                         0.10\n",
              "Heteroskedasticity (H):               2.70   Skew:                             0.15\n",
              "Prob(H) (two-sided):                  0.00   Kurtosis:                         3.87\n",
              "===================================================================================\n",
              "\n",
              "Warnings:\n",
              "[1] Covariance matrix calculated using the outer product of gradients (complex-step).\n",
              "\"\"\""
            ],
            "text/html": [
              "<table class=\"simpletable\">\n",
              "<caption>SARIMAX Results</caption>\n",
              "<tr>\n",
              "  <th>Dep. Variable:</th>                  <td>y</td>                <th>  No. Observations:  </th>    <td>144</td>  \n",
              "</tr>\n",
              "<tr>\n",
              "  <th>Model:</th>           <td>SARIMAX(0, 1, 1)x(2, 1, [], 12)</td> <th>  Log Likelihood     </th> <td>-505.589</td>\n",
              "</tr>\n",
              "<tr>\n",
              "  <th>Date:</th>                   <td>Wed, 18 Oct 2023</td>         <th>  AIC                </th> <td>1019.178</td>\n",
              "</tr>\n",
              "<tr>\n",
              "  <th>Time:</th>                       <td>17:03:26</td>             <th>  BIC                </th> <td>1030.679</td>\n",
              "</tr>\n",
              "<tr>\n",
              "  <th>Sample:</th>                    <td>01-01-1949</td>            <th>  HQIC               </th> <td>1023.851</td>\n",
              "</tr>\n",
              "<tr>\n",
              "  <th></th>                          <td>- 12-01-1960</td>           <th>                     </th>     <td> </td>   \n",
              "</tr>\n",
              "<tr>\n",
              "  <th>Covariance Type:</th>               <td>opg</td>               <th>                     </th>     <td> </td>   \n",
              "</tr>\n",
              "</table>\n",
              "<table class=\"simpletable\">\n",
              "<tr>\n",
              "      <td></td>        <th>coef</th>     <th>std err</th>      <th>z</th>      <th>P>|z|</th>  <th>[0.025</th>    <th>0.975]</th>  \n",
              "</tr>\n",
              "<tr>\n",
              "  <th>ma.L1</th>    <td>   -0.3634</td> <td>    0.074</td> <td>   -4.945</td> <td> 0.000</td> <td>   -0.508</td> <td>   -0.219</td>\n",
              "</tr>\n",
              "<tr>\n",
              "  <th>ar.S.L12</th> <td>   -0.1239</td> <td>    0.090</td> <td>   -1.372</td> <td> 0.170</td> <td>   -0.301</td> <td>    0.053</td>\n",
              "</tr>\n",
              "<tr>\n",
              "  <th>ar.S.L24</th> <td>    0.1911</td> <td>    0.107</td> <td>    1.783</td> <td> 0.075</td> <td>   -0.019</td> <td>    0.401</td>\n",
              "</tr>\n",
              "<tr>\n",
              "  <th>sigma2</th>   <td>  130.4480</td> <td>   15.527</td> <td>    8.402</td> <td> 0.000</td> <td>  100.016</td> <td>  160.880</td>\n",
              "</tr>\n",
              "</table>\n",
              "<table class=\"simpletable\">\n",
              "<tr>\n",
              "  <th>Ljung-Box (L1) (Q):</th>     <td>0.01</td> <th>  Jarque-Bera (JB):  </th> <td>4.59</td>\n",
              "</tr>\n",
              "<tr>\n",
              "  <th>Prob(Q):</th>                <td>0.92</td> <th>  Prob(JB):          </th> <td>0.10</td>\n",
              "</tr>\n",
              "<tr>\n",
              "  <th>Heteroskedasticity (H):</th> <td>2.70</td> <th>  Skew:              </th> <td>0.15</td>\n",
              "</tr>\n",
              "<tr>\n",
              "  <th>Prob(H) (two-sided):</th>    <td>0.00</td> <th>  Kurtosis:          </th> <td>3.87</td>\n",
              "</tr>\n",
              "</table><br/><br/>Warnings:<br/>[1] Covariance matrix calculated using the outer product of gradients (complex-step)."
            ],
            "text/latex": "\\begin{center}\n\\begin{tabular}{lclc}\n\\toprule\n\\textbf{Dep. Variable:}          &                y                & \\textbf{  No. Observations:  } &    144      \\\\\n\\textbf{Model:}                  & SARIMAX(0, 1, 1)x(2, 1, [], 12) & \\textbf{  Log Likelihood     } &  -505.589   \\\\\n\\textbf{Date:}                   &         Wed, 18 Oct 2023        & \\textbf{  AIC                } &  1019.178   \\\\\n\\textbf{Time:}                   &             17:03:26            & \\textbf{  BIC                } &  1030.679   \\\\\n\\textbf{Sample:}                 &            01-01-1949           & \\textbf{  HQIC               } &  1023.851   \\\\\n\\textbf{}                        &           - 12-01-1960          & \\textbf{                     } &             \\\\\n\\textbf{Covariance Type:}        &               opg               & \\textbf{                     } &             \\\\\n\\bottomrule\n\\end{tabular}\n\\begin{tabular}{lcccccc}\n                  & \\textbf{coef} & \\textbf{std err} & \\textbf{z} & \\textbf{P$> |$z$|$} & \\textbf{[0.025} & \\textbf{0.975]}  \\\\\n\\midrule\n\\textbf{ma.L1}    &      -0.3634  &        0.074     &    -4.945  &         0.000        &       -0.508    &       -0.219     \\\\\n\\textbf{ar.S.L12} &      -0.1239  &        0.090     &    -1.372  &         0.170        &       -0.301    &        0.053     \\\\\n\\textbf{ar.S.L24} &       0.1911  &        0.107     &     1.783  &         0.075        &       -0.019    &        0.401     \\\\\n\\textbf{sigma2}   &     130.4480  &       15.527     &     8.402  &         0.000        &      100.016    &      160.880     \\\\\n\\bottomrule\n\\end{tabular}\n\\begin{tabular}{lclc}\n\\textbf{Ljung-Box (L1) (Q):}     & 0.01 & \\textbf{  Jarque-Bera (JB):  } & 4.59  \\\\\n\\textbf{Prob(Q):}                & 0.92 & \\textbf{  Prob(JB):          } & 0.10  \\\\\n\\textbf{Heteroskedasticity (H):} & 2.70 & \\textbf{  Skew:              } & 0.15  \\\\\n\\textbf{Prob(H) (two-sided):}    & 0.00 & \\textbf{  Kurtosis:          } & 3.87  \\\\\n\\bottomrule\n\\end{tabular}\n%\\caption{SARIMAX Results}\n\\end{center}\n\nWarnings: \\newline\n [1] Covariance matrix calculated using the outer product of gradients (complex-step)."
          },
          "metadata": {},
          "execution_count": 25
        }
      ]
    },
    {
      "cell_type": "code",
      "source": [
        "# Split data into train / test sets\n",
        "train = airline.iloc[:len(airline)-12]\n",
        "test = airline.iloc[len(airline)-12:] # set one year(12 months) for testing\n",
        "\n",
        "# Fit a SARIMAX(0, 1, 1)x(2, 1, 1, 12) on the training set\n",
        "from statsmodels.tsa.statespace.sarimax import SARIMAX\n",
        "\n",
        "model = SARIMAX(train['#Passengers'],\n",
        "\t\t\t\torder = (0, 1, 1),\n",
        "\t\t\t\tseasonal_order =(2, 1, 1, 12))\n",
        "\n",
        "result = model.fit()\n",
        "result.summary()\n"
      ],
      "metadata": {
        "colab": {
          "base_uri": "https://localhost:8080/",
          "height": 473
        },
        "id": "8YEMAm73vQeN",
        "outputId": "a440212d-264f-4a93-b782-abd74a645d9f"
      },
      "execution_count": 26,
      "outputs": [
        {
          "output_type": "execute_result",
          "data": {
            "text/plain": [
              "<class 'statsmodels.iolib.summary.Summary'>\n",
              "\"\"\"\n",
              "                                     SARIMAX Results                                      \n",
              "==========================================================================================\n",
              "Dep. Variable:                        #Passengers   No. Observations:                  132\n",
              "Model:             SARIMAX(0, 1, 1)x(2, 1, 1, 12)   Log Likelihood                -443.013\n",
              "Date:                            Wed, 18 Oct 2023   AIC                            896.027\n",
              "Time:                                    17:05:47   BIC                            909.922\n",
              "Sample:                                01-01-1949   HQIC                           901.669\n",
              "                                     - 12-01-1959                                         \n",
              "Covariance Type:                              opg                                         \n",
              "==============================================================================\n",
              "                 coef    std err          z      P>|z|      [0.025      0.975]\n",
              "------------------------------------------------------------------------------\n",
              "ma.L1         -0.2982      0.076     -3.934      0.000      -0.447      -0.150\n",
              "ar.S.L12       0.7105      0.237      2.998      0.003       0.246       1.175\n",
              "ar.S.L24       0.2886      0.100      2.885      0.004       0.093       0.485\n",
              "ma.S.L12      -0.9800      2.262     -0.433      0.665      -5.413       3.453\n",
              "sigma2        88.2971    179.432      0.492      0.623    -263.384     439.978\n",
              "===================================================================================\n",
              "Ljung-Box (L1) (Q):                   0.04   Jarque-Bera (JB):                 0.00\n",
              "Prob(Q):                              0.85   Prob(JB):                         1.00\n",
              "Heteroskedasticity (H):               1.62   Skew:                            -0.00\n",
              "Prob(H) (two-sided):                  0.13   Kurtosis:                         2.99\n",
              "===================================================================================\n",
              "\n",
              "Warnings:\n",
              "[1] Covariance matrix calculated using the outer product of gradients (complex-step).\n",
              "\"\"\""
            ],
            "text/html": [
              "<table class=\"simpletable\">\n",
              "<caption>SARIMAX Results</caption>\n",
              "<tr>\n",
              "  <th>Dep. Variable:</th>             <td>#Passengers</td>          <th>  No. Observations:  </th>    <td>132</td>  \n",
              "</tr>\n",
              "<tr>\n",
              "  <th>Model:</th>           <td>SARIMAX(0, 1, 1)x(2, 1, 1, 12)</td> <th>  Log Likelihood     </th> <td>-443.013</td>\n",
              "</tr>\n",
              "<tr>\n",
              "  <th>Date:</th>                   <td>Wed, 18 Oct 2023</td>        <th>  AIC                </th>  <td>896.027</td>\n",
              "</tr>\n",
              "<tr>\n",
              "  <th>Time:</th>                       <td>17:05:47</td>            <th>  BIC                </th>  <td>909.922</td>\n",
              "</tr>\n",
              "<tr>\n",
              "  <th>Sample:</th>                    <td>01-01-1949</td>           <th>  HQIC               </th>  <td>901.669</td>\n",
              "</tr>\n",
              "<tr>\n",
              "  <th></th>                          <td>- 12-01-1959</td>          <th>                     </th>     <td> </td>   \n",
              "</tr>\n",
              "<tr>\n",
              "  <th>Covariance Type:</th>               <td>opg</td>              <th>                     </th>     <td> </td>   \n",
              "</tr>\n",
              "</table>\n",
              "<table class=\"simpletable\">\n",
              "<tr>\n",
              "      <td></td>        <th>coef</th>     <th>std err</th>      <th>z</th>      <th>P>|z|</th>  <th>[0.025</th>    <th>0.975]</th>  \n",
              "</tr>\n",
              "<tr>\n",
              "  <th>ma.L1</th>    <td>   -0.2982</td> <td>    0.076</td> <td>   -3.934</td> <td> 0.000</td> <td>   -0.447</td> <td>   -0.150</td>\n",
              "</tr>\n",
              "<tr>\n",
              "  <th>ar.S.L12</th> <td>    0.7105</td> <td>    0.237</td> <td>    2.998</td> <td> 0.003</td> <td>    0.246</td> <td>    1.175</td>\n",
              "</tr>\n",
              "<tr>\n",
              "  <th>ar.S.L24</th> <td>    0.2886</td> <td>    0.100</td> <td>    2.885</td> <td> 0.004</td> <td>    0.093</td> <td>    0.485</td>\n",
              "</tr>\n",
              "<tr>\n",
              "  <th>ma.S.L12</th> <td>   -0.9800</td> <td>    2.262</td> <td>   -0.433</td> <td> 0.665</td> <td>   -5.413</td> <td>    3.453</td>\n",
              "</tr>\n",
              "<tr>\n",
              "  <th>sigma2</th>   <td>   88.2971</td> <td>  179.432</td> <td>    0.492</td> <td> 0.623</td> <td> -263.384</td> <td>  439.978</td>\n",
              "</tr>\n",
              "</table>\n",
              "<table class=\"simpletable\">\n",
              "<tr>\n",
              "  <th>Ljung-Box (L1) (Q):</th>     <td>0.04</td> <th>  Jarque-Bera (JB):  </th> <td>0.00</td> \n",
              "</tr>\n",
              "<tr>\n",
              "  <th>Prob(Q):</th>                <td>0.85</td> <th>  Prob(JB):          </th> <td>1.00</td> \n",
              "</tr>\n",
              "<tr>\n",
              "  <th>Heteroskedasticity (H):</th> <td>1.62</td> <th>  Skew:              </th> <td>-0.00</td>\n",
              "</tr>\n",
              "<tr>\n",
              "  <th>Prob(H) (two-sided):</th>    <td>0.13</td> <th>  Kurtosis:          </th> <td>2.99</td> \n",
              "</tr>\n",
              "</table><br/><br/>Warnings:<br/>[1] Covariance matrix calculated using the outer product of gradients (complex-step)."
            ],
            "text/latex": "\\begin{center}\n\\begin{tabular}{lclc}\n\\toprule\n\\textbf{Dep. Variable:}          &          \\#Passengers          & \\textbf{  No. Observations:  } &    132      \\\\\n\\textbf{Model:}                  & SARIMAX(0, 1, 1)x(2, 1, 1, 12) & \\textbf{  Log Likelihood     } &  -443.013   \\\\\n\\textbf{Date:}                   &        Wed, 18 Oct 2023        & \\textbf{  AIC                } &  896.027    \\\\\n\\textbf{Time:}                   &            17:05:47            & \\textbf{  BIC                } &  909.922    \\\\\n\\textbf{Sample:}                 &           01-01-1949           & \\textbf{  HQIC               } &  901.669    \\\\\n\\textbf{}                        &          - 12-01-1959          & \\textbf{                     } &             \\\\\n\\textbf{Covariance Type:}        &              opg               & \\textbf{                     } &             \\\\\n\\bottomrule\n\\end{tabular}\n\\begin{tabular}{lcccccc}\n                  & \\textbf{coef} & \\textbf{std err} & \\textbf{z} & \\textbf{P$> |$z$|$} & \\textbf{[0.025} & \\textbf{0.975]}  \\\\\n\\midrule\n\\textbf{ma.L1}    &      -0.2982  &        0.076     &    -3.934  &         0.000        &       -0.447    &       -0.150     \\\\\n\\textbf{ar.S.L12} &       0.7105  &        0.237     &     2.998  &         0.003        &        0.246    &        1.175     \\\\\n\\textbf{ar.S.L24} &       0.2886  &        0.100     &     2.885  &         0.004        &        0.093    &        0.485     \\\\\n\\textbf{ma.S.L12} &      -0.9800  &        2.262     &    -0.433  &         0.665        &       -5.413    &        3.453     \\\\\n\\textbf{sigma2}   &      88.2971  &      179.432     &     0.492  &         0.623        &     -263.384    &      439.978     \\\\\n\\bottomrule\n\\end{tabular}\n\\begin{tabular}{lclc}\n\\textbf{Ljung-Box (L1) (Q):}     & 0.04 & \\textbf{  Jarque-Bera (JB):  } &  0.00  \\\\\n\\textbf{Prob(Q):}                & 0.85 & \\textbf{  Prob(JB):          } &  1.00  \\\\\n\\textbf{Heteroskedasticity (H):} & 1.62 & \\textbf{  Skew:              } & -0.00  \\\\\n\\textbf{Prob(H) (two-sided):}    & 0.13 & \\textbf{  Kurtosis:          } &  2.99  \\\\\n\\bottomrule\n\\end{tabular}\n%\\caption{SARIMAX Results}\n\\end{center}\n\nWarnings: \\newline\n [1] Covariance matrix calculated using the outer product of gradients (complex-step)."
          },
          "metadata": {},
          "execution_count": 26
        }
      ]
    },
    {
      "cell_type": "code",
      "source": [
        "start = len(train)\n",
        "end = len(train) + len(test) - 1\n",
        "\n",
        "# Predictions for one-year against the test set\n",
        "predictions = result.predict(start, end,\n",
        "\t\t\t\t\t\t\ttyp = 'levels').rename(\"Predictions\")\n",
        "\n",
        "# plot predictions and actual values\n",
        "predictions.plot(legend = True)\n",
        "test['#Passengers'].plot(legend = True)\n"
      ],
      "metadata": {
        "colab": {
          "base_uri": "https://localhost:8080/",
          "height": 483
        },
        "id": "zKSDg7MVv_1G",
        "outputId": "73d3c890-df18-418f-9c35-218a1efe7390"
      },
      "execution_count": 27,
      "outputs": [
        {
          "output_type": "execute_result",
          "data": {
            "text/plain": [
              "<Axes: xlabel='Month'>"
            ]
          },
          "metadata": {},
          "execution_count": 27
        },
        {
          "output_type": "display_data",
          "data": {
            "text/plain": [
              "<Figure size 640x480 with 1 Axes>"
            ],
            "image/png": "[encoded data removed]"
          },
          "metadata": {}
        }
      ]
    },
    {
      "cell_type": "code",
      "source": [
        "# Load specific evaluation tools\n",
        "from sklearn.metrics import mean_squared_error\n",
        "from statsmodels.tools.eval_measures import rmse\n",
        "\n",
        "# Calculate root mean squared error\n",
        "rmse(test[\"#Passengers\"], predictions)\n",
        "\n",
        "# Calculate mean squared error\n",
        "mean_squared_error(test[\"#Passengers\"], predictions)\n"
      ],
      "metadata": {
        "colab": {
          "base_uri": "https://localhost:8080/"
        },
        "id": "RJQyyBW8wGPn",
        "outputId": "77b5c3bd-4642-4663-f65b-a73f8be5f1fb"
      },
      "execution_count": 28,
      "outputs": [
        {
          "output_type": "execute_result",
          "data": {
            "text/plain": [
              "294.7098442702099"
            ]
          },
          "metadata": {},
          "execution_count": 28
        }
      ]
    },
    {
      "cell_type": "code",
      "source": [
        "# Train the model on the full dataset\n",
        "model = model = SARIMAX(airline['#Passengers'],\n",
        "\t\t\t\t\t\torder = (0, 1, 1),\n",
        "\t\t\t\t\t\tseasonal_order =(2, 1, 1, 12))\n",
        "result = model.fit()\n",
        "\n",
        "# Forecast for the next 3 years\n",
        "forecast = result.predict(start = len(airline),\n",
        "\t\t\t\t\t\tend = (len(airline)-1) + 3 * 12,\n",
        "\t\t\t\t\t\ttyp = 'levels').rename('Forecast')\n",
        "\n",
        "# Plot the forecast values\n",
        "airline['#Passengers'].plot(figsize = (12, 5), legend = True)\n",
        "forecast.plot(legend = True)\n"
      ],
      "metadata": {
        "colab": {
          "base_uri": "https://localhost:8080/",
          "height": 482
        },
        "id": "rb23zWGFwJ-e",
        "outputId": "43c34099-6e28-42fd-9ca4-33f40f04a6ba"
      },
      "execution_count": 29,
      "outputs": [
        {
          "output_type": "execute_result",
          "data": {
            "text/plain": [
              "<Axes: xlabel='Month'>"
            ]
          },
          "metadata": {},
          "execution_count": 29
        },
        {
          "output_type": "display_data",
          "data": {
            "text/plain": [
              "<Figure size 1200x500 with 1 Axes>"
            ],
            "image/png": "[encoded data removed]"
          },
          "metadata": {}
        }
      ]
    },
    {
      "cell_type": "code",
      "source": [
        "import pandas as pd\n",
        "import numpy as np\n",
        "from sklearn.model_selection import train_test_split\n",
        "from sklearn.linear_model import LogisticRegression\n",
        "from sklearn.metrics import accuracy_score, confusion_matrix\n"
      ],
      "metadata": {
        "id": "9JhvyKfYwQZb"
      },
      "execution_count": 36,
      "outputs": []
    },
    {
      "cell_type": "code",
      "source": [
        "data = pd.read_csv('/content/drive/MyDrive/Resume/2023/Practice_Python_SQL_PYsrpak/students.csv')"
      ],
      "metadata": {
        "id": "5X3i7ulYzkQY"
      },
      "execution_count": 37,
      "outputs": []
    },
    {
      "cell_type": "code",
      "source": [
        "display(data.head(2))"
      ],
      "metadata": {
        "colab": {
          "base_uri": "https://localhost:8080/",
          "height": 112
        },
        "id": "N4Am6VNCztY0",
        "outputId": "003428df-af84-4cbe-9a5e-a1ff0b08724a"
      },
      "execution_count": 40,
      "outputs": [
        {
          "output_type": "display_data",
          "data": {
            "text/plain": [
              "    Hours Studied    Exam Outcome \n",
              "0              2.5               0\n",
              "1              3.0               0"
            ],
            "text/html": [
              "\n",
              "  <div id=\"df-4dc3ac1c-35da-4939-85b9-9f9159e574bc\" class=\"colab-df-container\">\n",
              "    <div>\n",
              "<style scoped>\n",
              "    .dataframe tbody tr th:only-of-type {\n",
              "        vertical-align: middle;\n",
              "    }\n",
              "\n",
              "    .dataframe tbody tr th {\n",
              "        vertical-align: top;\n",
              "    }\n",
              "\n",
              "    .dataframe thead th {\n",
              "        text-align: right;\n",
              "    }\n",
              "</style>\n",
              "<table border=\"1\" class=\"dataframe\">\n",
              "  <thead>\n",
              "    <tr style=\"text-align: right;\">\n",
              "      <th></th>\n",
              "      <th>Hours Studied</th>\n",
              "      <th>Exam Outcome</th>\n",
              "    </tr>\n",
              "  </thead>\n",
              "  <tbody>\n",
              "    <tr>\n",
              "      <th>0</th>\n",
              "      <td>2.5</td>\n",
              "      <td>0</td>\n",
              "    </tr>\n",
              "    <tr>\n",
              "      <th>1</th>\n",
              "      <td>3.0</td>\n",
              "      <td>0</td>\n",
              "    </tr>\n",
              "  </tbody>\n",
              "</table>\n",
              "</div>\n",
              "    <div class=\"colab-df-buttons\">\n",
              "\n",
              "  <div class=\"colab-df-container\">\n",
              "    <button class=\"colab-df-convert\" onclick=\"convertToInteractive('df-4dc3ac1c-35da-4939-85b9-9f9159e574bc')\"\n",
              "            title=\"Convert this dataframe to an interactive table.\"\n",
              "            style=\"display:none;\">\n",
              "\n",
              "  <svg xmlns=\"http://www.w3.org/2000/svg\" height=\"24px\" viewBox=\"0 -960 960 960\">\n",
              "    <path d=\"M120-120v-720h720v720H120Zm60-500h600v-160H180v160Zm220 220h160v-160H400v160Zm0 220h160v-160H400v160ZM180-400h160v-160H180v160Zm440 0h160v-160H620v160ZM180-180h160v-160H180v160Zm440 0h160v-160H620v160Z\"/>\n",
              "  </svg>\n",
              "    </button>\n",
              "\n",
              "  <style>\n",
              "    .colab-df-container {\n",
              "      display:flex;\n",
              "      gap: 12px;\n",
              "    }\n",
              "\n",
              "    .colab-df-convert {\n",
              "      background-color: #E8F0FE;\n",
              "      border: none;\n",
              "      border-radius: 50%;\n",
              "      cursor: pointer;\n",
              "      display: none;\n",
              "      fill: #1967D2;\n",
              "      height: 32px;\n",
              "      padding: 0 0 0 0;\n",
              "      width: 32px;\n",
              "    }\n",
              "\n",
              "    .colab-df-convert:hover {\n",
              "      background-color: #E2EBFA;\n",
              "      box-shadow: 0px 1px 2px rgba(60, 64, 67, 0.3), 0px 1px 3px 1px rgba(60, 64, 67, 0.15);\n",
              "      fill: #174EA6;\n",
              "    }\n",
              "\n",
              "    .colab-df-buttons div {\n",
              "      margin-bottom: 4px;\n",
              "    }\n",
              "\n",
              "    [theme=dark] .colab-df-convert {\n",
              "      background-color: #3B4455;\n",
              "      fill: #D2E3FC;\n",
              "    }\n",
              "\n",
              "    [theme=dark] .colab-df-convert:hover {\n",
              "      background-color: #434B5C;\n",
              "      box-shadow: 0px 1px 3px 1px rgba(0, 0, 0, 0.15);\n",
              "      filter: drop-shadow(0px 1px 2px rgba(0, 0, 0, 0.3));\n",
              "      fill: #FFFFFF;\n",
              "    }\n",
              "  </style>\n",
              "\n",
              "    <script>\n",
              "      const buttonEl =\n",
              "        document.querySelector('#df-4dc3ac1c-35da-4939-85b9-9f9159e574bc button.colab-df-convert');\n",
              "      buttonEl.style.display =\n",
              "        google.colab.kernel.accessAllowed ? 'block' : 'none';\n",
              "\n",
              "      async function convertToInteractive(key) {\n",
              "        const element = document.querySelector('#df-4dc3ac1c-35da-4939-85b9-9f9159e574bc');\n",
              "        const dataTable =\n",
              "          await google.colab.kernel.invokeFunction('convertToInteractive',\n",
              "                                                    [key], {});\n",
              "        if (!dataTable) return;\n",
              "\n",
              "        const docLinkHtml = 'Like what you see? Visit the ' +\n",
              "          '<a target=\"_blank\" href=https://colab.research.google.com/notebooks/data_table.ipynb>data table notebook</a>'\n",
              "          + ' to learn more about interactive tables.';\n",
              "        element.innerHTML = '';\n",
              "        dataTable['output_type'] = 'display_data';\n",
              "        await google.colab.output.renderOutput(dataTable, element);\n",
              "        const docLink = document.createElement('div');\n",
              "        docLink.innerHTML = docLinkHtml;\n",
              "        element.appendChild(docLink);\n",
              "      }\n",
              "    </script>\n",
              "  </div>\n",
              "\n",
              "\n",
              "<div id=\"df-9c49e216-64fb-425e-9750-9f9f51ada9e0\">\n",
              "  <button class=\"colab-df-quickchart\" onclick=\"quickchart('df-9c49e216-64fb-425e-9750-9f9f51ada9e0')\"\n",
              "            title=\"Suggest charts.\"\n",
              "            style=\"display:none;\">\n",
              "\n",
              "<svg xmlns=\"http://www.w3.org/2000/svg\" height=\"24px\"viewBox=\"0 0 24 24\"\n",
              "     width=\"24px\">\n",
              "    <g>\n",
              "        <path d=\"M19 3H5c-1.1 0-2 .9-2 2v14c0 1.1.9 2 2 2h14c1.1 0 2-.9 2-2V5c0-1.1-.9-2-2-2zM9 17H7v-7h2v7zm4 0h-2V7h2v10zm4 0h-2v-4h2v4z\"/>\n",
              "    </g>\n",
              "</svg>\n",
              "  </button>\n",
              "\n",
              "<style>\n",
              "  .colab-df-quickchart {\n",
              "      --bg-color: #E8F0FE;\n",
              "      --fill-color: #1967D2;\n",
              "      --hover-bg-color: #E2EBFA;\n",
              "      --hover-fill-color: #174EA6;\n",
              "      --disabled-fill-color: #AAA;\n",
              "      --disabled-bg-color: #DDD;\n",
              "  }\n",
              "\n",
              "  [theme=dark] .colab-df-quickchart {\n",
              "      --bg-color: #3B4455;\n",
              "      --fill-color: #D2E3FC;\n",
              "      --hover-bg-color: #434B5C;\n",
              "      --hover-fill-color: #FFFFFF;\n",
              "      --disabled-bg-color: #3B4455;\n",
              "      --disabled-fill-color: #666;\n",
              "  }\n",
              "\n",
              "  .colab-df-quickchart {\n",
              "    background-color: var(--bg-color);\n",
              "    border: none;\n",
              "    border-radius: 50%;\n",
              "    cursor: pointer;\n",
              "    display: none;\n",
              "    fill: var(--fill-color);\n",
              "    height: 32px;\n",
              "    padding: 0;\n",
              "    width: 32px;\n",
              "  }\n",
              "\n",
              "  .colab-df-quickchart:hover {\n",
              "    background-color: var(--hover-bg-color);\n",
              "    box-shadow: 0 1px 2px rgba(60, 64, 67, 0.3), 0 1px 3px 1px rgba(60, 64, 67, 0.15);\n",
              "    fill: var(--button-hover-fill-color);\n",
              "  }\n",
              "\n",
              "  .colab-df-quickchart-complete:disabled,\n",
              "  .colab-df-quickchart-complete:disabled:hover {\n",
              "    background-color: var(--disabled-bg-color);\n",
              "    fill: var(--disabled-fill-color);\n",
              "    box-shadow: none;\n",
              "  }\n",
              "\n",
              "  .colab-df-spinner {\n",
              "    border: 2px solid var(--fill-color);\n",
              "    border-color: transparent;\n",
              "    border-bottom-color: var(--fill-color);\n",
              "    animation:\n",
              "      spin 1s steps(1) infinite;\n",
              "  }\n",
              "\n",
              "  @keyframes spin {\n",
              "    0% {\n",
              "      border-color: transparent;\n",
              "      border-bottom-color: var(--fill-color);\n",
              "      border-left-color: var(--fill-color);\n",
              "    }\n",
              "    20% {\n",
              "      border-color: transparent;\n",
              "      border-left-color: var(--fill-color);\n",
              "      border-top-color: var(--fill-color);\n",
              "    }\n",
              "    30% {\n",
              "      border-color: transparent;\n",
              "      border-left-color: var(--fill-color);\n",
              "      border-top-color: var(--fill-color);\n",
              "      border-right-color: var(--fill-color);\n",
              "    }\n",
              "    40% {\n",
              "      border-color: transparent;\n",
              "      border-right-color: var(--fill-color);\n",
              "      border-top-color: var(--fill-color);\n",
              "    }\n",
              "    60% {\n",
              "      border-color: transparent;\n",
              "      border-right-color: var(--fill-color);\n",
              "    }\n",
              "    80% {\n",
              "      border-color: transparent;\n",
              "      border-right-color: var(--fill-color);\n",
              "      border-bottom-color: var(--fill-color);\n",
              "    }\n",
              "    90% {\n",
              "      border-color: transparent;\n",
              "      border-bottom-color: var(--fill-color);\n",
              "    }\n",
              "  }\n",
              "</style>\n",
              "\n",
              "  <script>\n",
              "    async function quickchart(key) {\n",
              "      const quickchartButtonEl =\n",
              "        document.querySelector('#' + key + ' button');\n",
              "      quickchartButtonEl.disabled = true;  // To prevent multiple clicks.\n",
              "      quickchartButtonEl.classList.add('colab-df-spinner');\n",
              "      try {\n",
              "        const charts = await google.colab.kernel.invokeFunction(\n",
              "            'suggestCharts', [key], {});\n",
              "      } catch (error) {\n",
              "        console.error('Error during call to suggestCharts:', error);\n",
              "      }\n",
              "      quickchartButtonEl.classList.remove('colab-df-spinner');\n",
              "      quickchartButtonEl.classList.add('colab-df-quickchart-complete');\n",
              "    }\n",
              "    (() => {\n",
              "      let quickchartButtonEl =\n",
              "        document.querySelector('#df-9c49e216-64fb-425e-9750-9f9f51ada9e0 button');\n",
              "      quickchartButtonEl.style.display =\n",
              "        google.colab.kernel.accessAllowed ? 'block' : 'none';\n",
              "    })();\n",
              "  </script>\n",
              "</div>\n",
              "    </div>\n",
              "  </div>\n"
            ]
          },
          "metadata": {}
        }
      ]
    },
    {
      "cell_type": "code",
      "source": [
        "data.columns"
      ],
      "metadata": {
        "colab": {
          "base_uri": "https://localhost:8080/"
        },
        "id": "cCu3Zv6Pz4e_",
        "outputId": "82881447-ce0b-4475-d1a3-9a40439accab"
      },
      "execution_count": 45,
      "outputs": [
        {
          "output_type": "execute_result",
          "data": {
            "text/plain": [
              "Index([' Hours Studied ', ' Exam Outcome '], dtype='object')"
            ]
          },
          "metadata": {},
          "execution_count": 45
        }
      ]
    },
    {
      "cell_type": "code",
      "source": [
        "X = data[[' Hours Studied ']]\n",
        "Y = data[' Exam Outcome ']"
      ],
      "metadata": {
        "id": "YioJKLJhzpf7"
      },
      "execution_count": 47,
      "outputs": []
    },
    {
      "cell_type": "code",
      "source": [
        "# Split the data into training and testing sets\n",
        "X_train, X_test, Y_train, Y_test = train_test_split(X, Y, test_size=0.2, random_state=42)\n"
      ],
      "metadata": {
        "id": "UwvGvDPo0ETw"
      },
      "execution_count": 50,
      "outputs": []
    },
    {
      "cell_type": "code",
      "source": [
        "# Create a logistic regression model and fit it to the training data\n",
        "model = LogisticRegression()\n",
        "model.fit(X_train, Y_train)"
      ],
      "metadata": {
        "colab": {
          "base_uri": "https://localhost:8080/",
          "height": 75
        },
        "id": "guQr-oSP0JaH",
        "outputId": "0701a77d-4c21-4a2a-a36f-e42ec3fa2962"
      },
      "execution_count": 51,
      "outputs": [
        {
          "output_type": "execute_result",
          "data": {
            "text/plain": [
              "LogisticRegression()"
            ],
            "text/html": [
              "<style>#sk-container-id-1 {color: black;background-color: white;}#sk-container-id-1 pre{padding: 0;}#sk-container-id-1 div.sk-toggleable {background-color: white;}#sk-container-id-1 label.sk-toggleable__label {cursor: pointer;display: block;width: 100%;margin-bottom: 0;padding: 0.3em;box-sizing: border-box;text-align: center;}#sk-container-id-1 label.sk-toggleable__label-arrow:before {content: \"▸\";float: left;margin-right: 0.25em;color: #696969;}#sk-container-id-1 label.sk-toggleable__label-arrow:hover:before {color: black;}#sk-container-id-1 div.sk-estimator:hover label.sk-toggleable__label-arrow:before {color: black;}#sk-container-id-1 div.sk-toggleable__content {max-height: 0;max-width: 0;overflow: hidden;text-align: left;background-color: #f0f8ff;}#sk-container-id-1 div.sk-toggleable__content pre {margin: 0.2em;color: black;border-radius: 0.25em;background-color: #f0f8ff;}#sk-container-id-1 input.sk-toggleable__control:checked~div.sk-toggleable__content {max-height: 200px;max-width: 100%;overflow: auto;}#sk-container-id-1 input.sk-toggleable__control:checked~label.sk-toggleable__label-arrow:before {content: \"▾\";}#sk-container-id-1 div.sk-estimator input.sk-toggleable__control:checked~label.sk-toggleable__label {background-color: #d4ebff;}#sk-container-id-1 div.sk-label input.sk-toggleable__control:checked~label.sk-toggleable__label {background-color: #d4ebff;}#sk-container-id-1 input.sk-hidden--visually {border: 0;clip: rect(1px 1px 1px 1px);clip: rect(1px, 1px, 1px, 1px);height: 1px;margin: -1px;overflow: hidden;padding: 0;position: absolute;width: 1px;}#sk-container-id-1 div.sk-estimator {font-family: monospace;background-color: #f0f8ff;border: 1px dotted black;border-radius: 0.25em;box-sizing: border-box;margin-bottom: 0.5em;}#sk-container-id-1 div.sk-estimator:hover {background-color: #d4ebff;}#sk-container-id-1 div.sk-parallel-item::after {content: \"\";width: 100%;border-bottom: 1px solid gray;flex-grow: 1;}#sk-container-id-1 div.sk-label:hover label.sk-toggleable__label {background-color: #d4ebff;}#sk-container-id-1 div.sk-serial::before {content: \"\";position: absolute;border-left: 1px solid gray;box-sizing: border-box;top: 0;bottom: 0;left: 50%;z-index: 0;}#sk-container-id-1 div.sk-serial {display: flex;flex-direction: column;align-items: center;background-color: white;padding-right: 0.2em;padding-left: 0.2em;position: relative;}#sk-container-id-1 div.sk-item {position: relative;z-index: 1;}#sk-container-id-1 div.sk-parallel {display: flex;align-items: stretch;justify-content: center;background-color: white;position: relative;}#sk-container-id-1 div.sk-item::before, #sk-container-id-1 div.sk-parallel-item::before {content: \"\";position: absolute;border-left: 1px solid gray;box-sizing: border-box;top: 0;bottom: 0;left: 50%;z-index: -1;}#sk-container-id-1 div.sk-parallel-item {display: flex;flex-direction: column;z-index: 1;position: relative;background-color: white;}#sk-container-id-1 div.sk-parallel-item:first-child::after {align-self: flex-end;width: 50%;}#sk-container-id-1 div.sk-parallel-item:last-child::after {align-self: flex-start;width: 50%;}#sk-container-id-1 div.sk-parallel-item:only-child::after {width: 0;}#sk-container-id-1 div.sk-dashed-wrapped {border: 1px dashed gray;margin: 0 0.4em 0.5em 0.4em;box-sizing: border-box;padding-bottom: 0.4em;background-color: white;}#sk-container-id-1 div.sk-label label {font-family: monospace;font-weight: bold;display: inline-block;line-height: 1.2em;}#sk-container-id-1 div.sk-label-container {text-align: center;}#sk-container-id-1 div.sk-container {/* jupyter's `normalize.less` sets `[hidden] { display: none; }` but bootstrap.min.css set `[hidden] { display: none !important; }` so we also need the `!important` here to be able to override the default hidden behavior on the sphinx rendered scikit-learn.org. See: https://github.com/scikit-learn/scikit-learn/issues/21755 */display: inline-block !important;position: relative;}#sk-container-id-1 div.sk-text-repr-fallback {display: none;}</style><div id=\"sk-container-id-1\" class=\"sk-top-container\"><div class=\"sk-text-repr-fallback\"><pre>LogisticRegression()</pre><b>In a Jupyter environment, please rerun this cell to show the HTML representation or trust the notebook. <br />On GitHub, the HTML representation is unable to render, please try loading this page with nbviewer.org.</b></div><div class=\"sk-container\" hidden><div class=\"sk-item\"><div class=\"sk-estimator sk-toggleable\"><input class=\"sk-toggleable__control sk-hidden--visually\" id=\"sk-estimator-id-1\" type=\"checkbox\" checked><label for=\"sk-estimator-id-1\" class=\"sk-toggleable__label sk-toggleable__label-arrow\">LogisticRegression</label><div class=\"sk-toggleable__content\"><pre>LogisticRegression()</pre></div></div></div></div></div>"
            ]
          },
          "metadata": {},
          "execution_count": 51
        }
      ]
    },
    {
      "cell_type": "code",
      "source": [
        "Y_pred = model.predict(X_test)"
      ],
      "metadata": {
        "id": "K9xMAtr70KoD"
      },
      "execution_count": 52,
      "outputs": []
    },
    {
      "cell_type": "code",
      "source": [
        "# Evaluate the model\n",
        "accuracy = accuracy_score(Y_test, Y_pred)\n",
        "confusion = confusion_matrix(Y_test, Y_pred)"
      ],
      "metadata": {
        "id": "4X0mBc_L0M0r"
      },
      "execution_count": 53,
      "outputs": []
    },
    {
      "cell_type": "code",
      "source": [
        "print(\"Accuracy:\", accuracy)\n",
        "print(\"Confusion Matrix:\")\n",
        "print(confusion)"
      ],
      "metadata": {
        "colab": {
          "base_uri": "https://localhost:8080/"
        },
        "id": "GiPSRQCJ0OKz",
        "outputId": "f829a67e-5323-475d-dffb-5af81d7e697f"
      },
      "execution_count": 54,
      "outputs": [
        {
          "output_type": "stream",
          "name": "stdout",
          "text": [
            "Accuracy: 1.0\n",
            "Confusion Matrix:\n",
            "[[2 0]\n",
            " [0 8]]\n"
          ]
        }
      ]
    },
    {
      "cell_type": "code",
      "source": [
        "data = pd.read_csv('/content/drive/MyDrive/Resume/2023/Practice_Python_SQL_PYsrpak/freezer.csv')"
      ],
      "metadata": {
        "id": "_PZLEojj0PNz"
      },
      "execution_count": 56,
      "outputs": []
    },
    {
      "cell_type": "code",
      "source": [
        "data.columns"
      ],
      "metadata": {
        "colab": {
          "base_uri": "https://localhost:8080/"
        },
        "id": "WsUvw1ye31R1",
        "outputId": "ac9001d6-79f0-4f7d-a95c-a24dc7d7eb4b"
      },
      "execution_count": 57,
      "outputs": [
        {
          "output_type": "execute_result",
          "data": {
            "text/plain": [
              "Index(['Temperature', 'Out_of_Range'], dtype='object')"
            ]
          },
          "metadata": {},
          "execution_count": 57
        }
      ]
    },
    {
      "cell_type": "code",
      "source": [
        "X = data[['Temperature']]\n",
        "Y = data['Out_of_Range']"
      ],
      "metadata": {
        "id": "mB1FEQfX3vM9"
      },
      "execution_count": 61,
      "outputs": []
    },
    {
      "cell_type": "code",
      "source": [
        "# Split the data into training and testing sets\n",
        "X_train, X_test, Y_train, Y_test = train_test_split(X, Y, test_size=0.2, random_state=42)\n"
      ],
      "metadata": {
        "id": "8y6cCf6l35iR"
      },
      "execution_count": 62,
      "outputs": []
    },
    {
      "cell_type": "code",
      "source": [
        "# Create a logistic regression model and fit it to the training data\n",
        "model = LogisticRegression()\n",
        "model.fit(X_train, Y_train)"
      ],
      "metadata": {
        "colab": {
          "base_uri": "https://localhost:8080/",
          "height": 75
        },
        "id": "rXJ-AK-r37R5",
        "outputId": "8751aec9-be57-404e-e524-92d7ce0fd61f"
      },
      "execution_count": 64,
      "outputs": [
        {
          "output_type": "execute_result",
          "data": {
            "text/plain": [
              "LogisticRegression()"
            ],
            "text/html": [
              "<style>#sk-container-id-2 {color: black;background-color: white;}#sk-container-id-2 pre{padding: 0;}#sk-container-id-2 div.sk-toggleable {background-color: white;}#sk-container-id-2 label.sk-toggleable__label {cursor: pointer;display: block;width: 100%;margin-bottom: 0;padding: 0.3em;box-sizing: border-box;text-align: center;}#sk-container-id-2 label.sk-toggleable__label-arrow:before {content: \"▸\";float: left;margin-right: 0.25em;color: #696969;}#sk-container-id-2 label.sk-toggleable__label-arrow:hover:before {color: black;}#sk-container-id-2 div.sk-estimator:hover label.sk-toggleable__label-arrow:before {color: black;}#sk-container-id-2 div.sk-toggleable__content {max-height: 0;max-width: 0;overflow: hidden;text-align: left;background-color: #f0f8ff;}#sk-container-id-2 div.sk-toggleable__content pre {margin: 0.2em;color: black;border-radius: 0.25em;background-color: #f0f8ff;}#sk-container-id-2 input.sk-toggleable__control:checked~div.sk-toggleable__content {max-height: 200px;max-width: 100%;overflow: auto;}#sk-container-id-2 input.sk-toggleable__control:checked~label.sk-toggleable__label-arrow:before {content: \"▾\";}#sk-container-id-2 div.sk-estimator input.sk-toggleable__control:checked~label.sk-toggleable__label {background-color: #d4ebff;}#sk-container-id-2 div.sk-label input.sk-toggleable__control:checked~label.sk-toggleable__label {background-color: #d4ebff;}#sk-container-id-2 input.sk-hidden--visually {border: 0;clip: rect(1px 1px 1px 1px);clip: rect(1px, 1px, 1px, 1px);height: 1px;margin: -1px;overflow: hidden;padding: 0;position: absolute;width: 1px;}#sk-container-id-2 div.sk-estimator {font-family: monospace;background-color: #f0f8ff;border: 1px dotted black;border-radius: 0.25em;box-sizing: border-box;margin-bottom: 0.5em;}#sk-container-id-2 div.sk-estimator:hover {background-color: #d4ebff;}#sk-container-id-2 div.sk-parallel-item::after {content: \"\";width: 100%;border-bottom: 1px solid gray;flex-grow: 1;}#sk-container-id-2 div.sk-label:hover label.sk-toggleable__label {background-color: #d4ebff;}#sk-container-id-2 div.sk-serial::before {content: \"\";position: absolute;border-left: 1px solid gray;box-sizing: border-box;top: 0;bottom: 0;left: 50%;z-index: 0;}#sk-container-id-2 div.sk-serial {display: flex;flex-direction: column;align-items: center;background-color: white;padding-right: 0.2em;padding-left: 0.2em;position: relative;}#sk-container-id-2 div.sk-item {position: relative;z-index: 1;}#sk-container-id-2 div.sk-parallel {display: flex;align-items: stretch;justify-content: center;background-color: white;position: relative;}#sk-container-id-2 div.sk-item::before, #sk-container-id-2 div.sk-parallel-item::before {content: \"\";position: absolute;border-left: 1px solid gray;box-sizing: border-box;top: 0;bottom: 0;left: 50%;z-index: -1;}#sk-container-id-2 div.sk-parallel-item {display: flex;flex-direction: column;z-index: 1;position: relative;background-color: white;}#sk-container-id-2 div.sk-parallel-item:first-child::after {align-self: flex-end;width: 50%;}#sk-container-id-2 div.sk-parallel-item:last-child::after {align-self: flex-start;width: 50%;}#sk-container-id-2 div.sk-parallel-item:only-child::after {width: 0;}#sk-container-id-2 div.sk-dashed-wrapped {border: 1px dashed gray;margin: 0 0.4em 0.5em 0.4em;box-sizing: border-box;padding-bottom: 0.4em;background-color: white;}#sk-container-id-2 div.sk-label label {font-family: monospace;font-weight: bold;display: inline-block;line-height: 1.2em;}#sk-container-id-2 div.sk-label-container {text-align: center;}#sk-container-id-2 div.sk-container {/* jupyter's `normalize.less` sets `[hidden] { display: none; }` but bootstrap.min.css set `[hidden] { display: none !important; }` so we also need the `!important` here to be able to override the default hidden behavior on the sphinx rendered scikit-learn.org. See: https://github.com/scikit-learn/scikit-learn/issues/21755 */display: inline-block !important;position: relative;}#sk-container-id-2 div.sk-text-repr-fallback {display: none;}</style><div id=\"sk-container-id-2\" class=\"sk-top-container\"><div class=\"sk-text-repr-fallback\"><pre>LogisticRegression()</pre><b>In a Jupyter environment, please rerun this cell to show the HTML representation or trust the notebook. <br />On GitHub, the HTML representation is unable to render, please try loading this page with nbviewer.org.</b></div><div class=\"sk-container\" hidden><div class=\"sk-item\"><div class=\"sk-estimator sk-toggleable\"><input class=\"sk-toggleable__control sk-hidden--visually\" id=\"sk-estimator-id-2\" type=\"checkbox\" checked><label for=\"sk-estimator-id-2\" class=\"sk-toggleable__label sk-toggleable__label-arrow\">LogisticRegression</label><div class=\"sk-toggleable__content\"><pre>LogisticRegression()</pre></div></div></div></div></div>"
            ]
          },
          "metadata": {},
          "execution_count": 64
        }
      ]
    },
    {
      "cell_type": "code",
      "source": [
        "Y_pred = model.predict(X_test)"
      ],
      "metadata": {
        "id": "HyeSO3Rl3846"
      },
      "execution_count": 65,
      "outputs": []
    },
    {
      "cell_type": "code",
      "source": [
        "# Evaluate the model\n",
        "accuracy = accuracy_score(Y_test, Y_pred)\n",
        "confusion = confusion_matrix(Y_test, Y_pred)"
      ],
      "metadata": {
        "id": "KdrDukC34EBv"
      },
      "execution_count": 66,
      "outputs": []
    },
    {
      "cell_type": "code",
      "source": [
        "print(\"Accuracy:\", accuracy)\n",
        "print(\"Confusion Matrix:\")\n",
        "print(confusion)"
      ],
      "metadata": {
        "colab": {
          "base_uri": "https://localhost:8080/"
        },
        "id": "yuME6LOQ4FX4",
        "outputId": "db40d898-ffdb-4491-a042-6c37b2711083"
      },
      "execution_count": 67,
      "outputs": [
        {
          "output_type": "stream",
          "name": "stdout",
          "text": [
            "Accuracy: 0.7777777777777778\n",
            "Confusion Matrix:\n",
            "[[40  0]\n",
            " [12  2]]\n"
          ]
        }
      ]
    },
    {
      "cell_type": "code",
      "source": [],
      "metadata": {
        "id": "dRHrMIUJ4lW_"
      },
      "execution_count": null,
      "outputs": []
    }
  ]
}