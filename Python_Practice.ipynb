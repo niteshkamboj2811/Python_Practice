{
  "nbformat": 4,
  "nbformat_minor": 0,
  "metadata": {
    "colab": {
      "name": "Python Practice.ipynb",
      "provenance": [],
      "collapsed_sections": [],
      "authorship_tag": "ABX9TyNXvrCHzw4zs+JoB72sgBfW",
      "include_colab_link": true
    },
    "kernelspec": {
      "name": "python3",
      "display_name": "Python 3"
    },
    "language_info": {
      "name": "python"
    }
  },
  "cells": [
    {
      "cell_type": "markdown",
      "metadata": {
        "id": "view-in-github",
        "colab_type": "text"
      },
      "source": [
        "<a href=\"https://colab.research.google.com/github/niteshkamboj2811/Python_Practice/blob/main/Python_Practice.ipynb\" target=\"_parent\"><img src=\"https://colab.research.google.com/assets/colab-badge.svg\" alt=\"Open In Colab\"/></a>"
      ]
    },
    {
      "cell_type": "code",
      "metadata": {
        "colab": {
          "base_uri": "https://localhost:8080/"
        },
        "id": "kcWBo6KfxECn",
        "outputId": "d6bfd2ee-c0e2-4e01-b3a2-2461a84fff9c"
      },
      "source": [
        "print('First Print')"
      ],
      "execution_count": null,
      "outputs": [
        {
          "output_type": "stream",
          "text": [
            "First Print\n"
          ],
          "name": "stdout"
        }
      ]
    },
    {
      "cell_type": "code",
      "metadata": {
        "id": "Ju2GkJspxwyG"
      },
      "source": [
        "text = 'First Print'"
      ],
      "execution_count": null,
      "outputs": []
    },
    {
      "cell_type": "code",
      "metadata": {
        "colab": {
          "base_uri": "https://localhost:8080/",
          "height": 34
        },
        "id": "srZWh1ttypLb",
        "outputId": "9af4a33f-c626-4ae9-8de2-add9dec7e01e"
      },
      "source": [
        "text[0:2] + text[3:]"
      ],
      "execution_count": null,
      "outputs": [
        {
          "output_type": "execute_result",
          "data": {
            "application/vnd.google.colaboratory.intrinsic+json": {
              "type": "string"
            },
            "text/plain": [
              "'Fist Print'"
            ]
          },
          "metadata": {
            "tags": []
          },
          "execution_count": 4
        }
      ]
    },
    {
      "cell_type": "code",
      "metadata": {
        "id": "VFLkAaiNys78"
      },
      "source": [
        "fn, ln = 'Nitesh', 'Kamboj'"
      ],
      "execution_count": null,
      "outputs": []
    },
    {
      "cell_type": "code",
      "metadata": {
        "colab": {
          "base_uri": "https://localhost:8080/"
        },
        "id": "EnooNeN_DpKI",
        "outputId": "cac9c577-2bbd-42e6-d3a8-9eacba9948ee"
      },
      "source": [
        "print(f'First Name: {fn} \\nLast Name:    {ln}')"
      ],
      "execution_count": null,
      "outputs": [
        {
          "output_type": "stream",
          "text": [
            "First Name: Nitesh \n",
            "Last Name:    Kamboj\n"
          ],
          "name": "stdout"
        }
      ]
    },
    {
      "cell_type": "code",
      "metadata": {
        "id": "WWQODYW7D3J-"
      },
      "source": [
        "num, exp = 4, 3"
      ],
      "execution_count": null,
      "outputs": []
    },
    {
      "cell_type": "code",
      "metadata": {
        "colab": {
          "base_uri": "https://localhost:8080/"
        },
        "id": "7tdtV_LIEZi2",
        "outputId": "1490cb47-6a75-478e-8274-df68c2785d89"
      },
      "source": [
        "print(f'Number: {num} and {exp} is the power. \\nThe result is {num ** exp}')"
      ],
      "execution_count": null,
      "outputs": [
        {
          "output_type": "stream",
          "text": [
            "Number: 4 and 3 is the power. \n",
            "The result is 64\n"
          ],
          "name": "stdout"
        }
      ]
    },
    {
      "cell_type": "code",
      "metadata": {
        "id": "c7L5Vpg6EkJE"
      },
      "source": [
        "#caling function inside fstrin\n",
        "\n",
        "text = 'NITESH KAMBOJ nitesh'"
      ],
      "execution_count": 21,
      "outputs": []
    },
    {
      "cell_type": "code",
      "metadata": {
        "colab": {
          "base_uri": "https://localhost:8080/"
        },
        "id": "M4keUb5nEzch",
        "outputId": "8800246e-8c10-432c-c738-b2886b3e41b4"
      },
      "source": [
        "print(f'lower function = {text.lower()} \\n')\n",
        "print(f'capitalize function = {text.capitalize()} \\n')\n",
        "print(f'first index = {text.index(\"N\")} \\n')\n",
        "print(f'first index = {text.lower().find(\"a\")} \\n')\n",
        "print(f'Alpha Numeric = {text.isalnum() } \\n')\n",
        "print(f'All Numeric = {text.isnumeric() } \\n')\n",
        "print(f'All Alphabets = {text.isalpha() } \\n')"
      ],
      "execution_count": 22,
      "outputs": [
        {
          "output_type": "stream",
          "text": [
            "lower function = nitesh kamboj nitesh \n",
            "\n",
            "capitalize function = Nitesh kamboj nitesh \n",
            "\n",
            "first index = 0 \n",
            "\n",
            "first index = 8 \n",
            "\n",
            "Alpha Numeric = False \n",
            "\n",
            "All Numeric = False \n",
            "\n",
            "All Alphabets = False \n",
            "\n"
          ],
          "name": "stdout"
        }
      ]
    },
    {
      "cell_type": "code",
      "metadata": {
        "colab": {
          "base_uri": "https://localhost:8080/"
        },
        "id": "1s1lWO-4duGO",
        "outputId": "30c6225b-0953-4715-9e10-395b46fa6269"
      },
      "source": [
        "'123'.isidentifier()"
      ],
      "execution_count": 45,
      "outputs": [
        {
          "output_type": "execute_result",
          "data": {
            "text/plain": [
              "False"
            ]
          },
          "metadata": {
            "tags": []
          },
          "execution_count": 45
        }
      ]
    },
    {
      "cell_type": "code",
      "metadata": {
        "colab": {
          "base_uri": "https://localhost:8080/"
        },
        "id": "DYoronO-eT5t",
        "outputId": "bcdc85a4-ece0-4949-9e68-02401185a519"
      },
      "source": [
        "'123'.isprintable()"
      ],
      "execution_count": 46,
      "outputs": [
        {
          "output_type": "execute_result",
          "data": {
            "text/plain": [
              "True"
            ]
          },
          "metadata": {
            "tags": []
          },
          "execution_count": 46
        }
      ]
    },
    {
      "cell_type": "code",
      "metadata": {
        "colab": {
          "base_uri": "https://localhost:8080/"
        },
        "id": "Sb-NWEVnefL3",
        "outputId": "1ae79fb6-2ff3-4354-9315-720c76f46ca9"
      },
      "source": [
        "'NI'.isupper()"
      ],
      "execution_count": 49,
      "outputs": [
        {
          "output_type": "execute_result",
          "data": {
            "text/plain": [
              "True"
            ]
          },
          "metadata": {
            "tags": []
          },
          "execution_count": 49
        }
      ]
    },
    {
      "cell_type": "code",
      "metadata": {
        "id": "4yNsu-94Gcku",
        "colab": {
          "base_uri": "https://localhost:8080/"
        },
        "outputId": "898797fe-67f1-4002-d254-291b4ebeb507"
      },
      "source": [
        "'123'.isnumeric()"
      ],
      "execution_count": 25,
      "outputs": [
        {
          "output_type": "execute_result",
          "data": {
            "text/plain": [
              "True"
            ]
          },
          "metadata": {
            "tags": []
          },
          "execution_count": 25
        }
      ]
    },
    {
      "cell_type": "code",
      "metadata": {
        "colab": {
          "base_uri": "https://localhost:8080/"
        },
        "id": "4RW97aw9Vqwy",
        "outputId": "774a8ccc-701a-4391-bdf9-17a5b4d34905"
      },
      "source": [
        "'123'.isalnum()"
      ],
      "execution_count": 26,
      "outputs": [
        {
          "output_type": "execute_result",
          "data": {
            "text/plain": [
              "True"
            ]
          },
          "metadata": {
            "tags": []
          },
          "execution_count": 26
        }
      ]
    },
    {
      "cell_type": "code",
      "metadata": {
        "colab": {
          "base_uri": "https://localhost:8080/"
        },
        "id": "P3KzeDBIWSqd",
        "outputId": "26719e30-d603-44cd-da87-315d189204eb"
      },
      "source": [
        "'123'.isalpha()"
      ],
      "execution_count": 27,
      "outputs": [
        {
          "output_type": "execute_result",
          "data": {
            "text/plain": [
              "False"
            ]
          },
          "metadata": {
            "tags": []
          },
          "execution_count": 27
        }
      ]
    },
    {
      "cell_type": "code",
      "metadata": {
        "colab": {
          "base_uri": "https://localhost:8080/"
        },
        "id": "emFeD35GWp5L",
        "outputId": "2fdcd555-f341-45e9-b62a-8c2362773c60"
      },
      "source": [
        "'123'.isdigit()"
      ],
      "execution_count": 28,
      "outputs": [
        {
          "output_type": "execute_result",
          "data": {
            "text/plain": [
              "True"
            ]
          },
          "metadata": {
            "tags": []
          },
          "execution_count": 28
        }
      ]
    },
    {
      "cell_type": "code",
      "metadata": {
        "id": "8wKuJsF4Wwi9"
      },
      "source": [
        "def test(s):\n",
        "  for attr in ['isnumeric', 'isdigit', 'isalnum', 'isalpha', 'isidentifier']:\n",
        "    print(attr, getattr(s, attr)()) #s.isnumberi() == s.attr()"
      ],
      "execution_count": 43,
      "outputs": []
    },
    {
      "cell_type": "code",
      "metadata": {
        "colab": {
          "base_uri": "https://localhost:8080/"
        },
        "id": "6-l-JQ6vXaWX",
        "outputId": "f9c220e5-b247-4707-e240-4eff33deb9f4"
      },
      "source": [
        "test('12')"
      ],
      "execution_count": 44,
      "outputs": [
        {
          "output_type": "stream",
          "text": [
            "isnumeric True\n",
            "isdigit True\n",
            "isalnum True\n",
            "isalpha False\n",
            "isidentifier False\n"
          ],
          "name": "stdout"
        }
      ]
    },
    {
      "cell_type": "code",
      "metadata": {
        "colab": {
          "base_uri": "https://localhost:8080/"
        },
        "id": "M6iwmbn8XfDm",
        "outputId": "d1918e6d-02be-4aac-c7ff-a79342a1277f"
      },
      "source": [
        "'nitesh'.capitalize() == 'nitesh'.title()"
      ],
      "execution_count": 51,
      "outputs": [
        {
          "output_type": "execute_result",
          "data": {
            "text/plain": [
              "True"
            ]
          },
          "metadata": {
            "tags": []
          },
          "execution_count": 51
        }
      ]
    },
    {
      "cell_type": "code",
      "metadata": {
        "colab": {
          "base_uri": "https://localhost:8080/",
          "height": 35
        },
        "id": "ZYwOqfHqevfG",
        "outputId": "3a1f8471-74a8-4f51-ffa4-7c557b68750f"
      },
      "source": [
        "'Strips this strips'.strip('s')"
      ],
      "execution_count": 52,
      "outputs": [
        {
          "output_type": "execute_result",
          "data": {
            "application/vnd.google.colaboratory.intrinsic+json": {
              "type": "string"
            },
            "text/plain": [
              "'Strips this strip'"
            ]
          },
          "metadata": {
            "tags": []
          },
          "execution_count": 52
        }
      ]
    },
    {
      "cell_type": "code",
      "metadata": {
        "colab": {
          "base_uri": "https://localhost:8080/",
          "height": 35
        },
        "id": "RLc8-S0He-Ta",
        "outputId": "21f6f85d-bcfc-4f51-999f-62ea0fa4cb53"
      },
      "source": [
        "'Strips this strips'.rstrip('s')"
      ],
      "execution_count": 53,
      "outputs": [
        {
          "output_type": "execute_result",
          "data": {
            "application/vnd.google.colaboratory.intrinsic+json": {
              "type": "string"
            },
            "text/plain": [
              "'Strips this strip'"
            ]
          },
          "metadata": {
            "tags": []
          },
          "execution_count": 53
        }
      ]
    },
    {
      "cell_type": "code",
      "metadata": {
        "colab": {
          "base_uri": "https://localhost:8080/",
          "height": 35
        },
        "id": "A5ojJQNofDCd",
        "outputId": "81c5566b-ec16-4241-9576-48e0e2884013"
      },
      "source": [
        "'Strips this strips'.lstrip('S')"
      ],
      "execution_count": 56,
      "outputs": [
        {
          "output_type": "execute_result",
          "data": {
            "application/vnd.google.colaboratory.intrinsic+json": {
              "type": "string"
            },
            "text/plain": [
              "'trips this strips'"
            ]
          },
          "metadata": {
            "tags": []
          },
          "execution_count": 56
        }
      ]
    },
    {
      "cell_type": "code",
      "metadata": {
        "colab": {
          "base_uri": "https://localhost:8080/"
        },
        "id": "jHitD8F4fEm3",
        "outputId": "022ba0f0-2e66-4ad6-dedc-f64b084062c9"
      },
      "source": [
        "[x.strip() for x in ['    removing','    extra whitespaces     ']]"
      ],
      "execution_count": 70,
      "outputs": [
        {
          "output_type": "execute_result",
          "data": {
            "text/plain": [
              "['removing', 'extra whitespaces']"
            ]
          },
          "metadata": {
            "tags": []
          },
          "execution_count": 70
        }
      ]
    },
    {
      "cell_type": "code",
      "metadata": {
        "id": "T3gY7b5wiKIB"
      },
      "source": [
        "myList = [1, 2]"
      ],
      "execution_count": 141,
      "outputs": []
    },
    {
      "cell_type": "code",
      "metadata": {
        "colab": {
          "base_uri": "https://localhost:8080/"
        },
        "id": "EKg9yuXXob4v",
        "outputId": "7a4ac99e-b85b-43c4-d19a-0106063733ab"
      },
      "source": [
        "myList.append(3)\n",
        "\n",
        "print(myList)"
      ],
      "execution_count": 142,
      "outputs": [
        {
          "output_type": "stream",
          "text": [
            "[1, 2, 3]\n"
          ],
          "name": "stdout"
        }
      ]
    },
    {
      "cell_type": "code",
      "metadata": {
        "colab": {
          "base_uri": "https://localhost:8080/"
        },
        "id": "6sb6GNVl3fpf",
        "outputId": "2fd85115-9d4f-4ba1-f1aa-cc3d280a9146"
      },
      "source": [
        "myList.extend([4, 5])\n",
        "\n",
        "print(myList)"
      ],
      "execution_count": 143,
      "outputs": [
        {
          "output_type": "stream",
          "text": [
            "[1, 2, 3, 4, 5]\n"
          ],
          "name": "stdout"
        }
      ]
    },
    {
      "cell_type": "code",
      "metadata": {
        "colab": {
          "base_uri": "https://localhost:8080/"
        },
        "id": "-wxcB0t03lKm",
        "outputId": "e732c7b6-464a-4bbf-94bd-21c1b9e3ac2e"
      },
      "source": [
        "myList.insert(0, 0)\n",
        "\n",
        "print(myList)"
      ],
      "execution_count": 144,
      "outputs": [
        {
          "output_type": "stream",
          "text": [
            "[0, 1, 2, 3, 4, 5]\n"
          ],
          "name": "stdout"
        }
      ]
    },
    {
      "cell_type": "code",
      "metadata": {
        "colab": {
          "base_uri": "https://localhost:8080/"
        },
        "id": "tD1ZS25m3tXE",
        "outputId": "09026afd-566a-44e9-de34-cafad7fc1a46"
      },
      "source": [
        "myList.remove(0)\n",
        "\n",
        "print(myList)"
      ],
      "execution_count": 145,
      "outputs": [
        {
          "output_type": "stream",
          "text": [
            "[1, 2, 3, 4, 5]\n"
          ],
          "name": "stdout"
        }
      ]
    },
    {
      "cell_type": "code",
      "metadata": {
        "colab": {
          "base_uri": "https://localhost:8080/"
        },
        "id": "3wkROOjx5YlU",
        "outputId": "fe93c4fe-8411-420b-a465-646bcd00b7bb"
      },
      "source": [
        "myList.pop() #removes the last item\n",
        "\n",
        "print(myList)"
      ],
      "execution_count": 146,
      "outputs": [
        {
          "output_type": "stream",
          "text": [
            "[1, 2, 3, 4]\n"
          ],
          "name": "stdout"
        }
      ]
    },
    {
      "cell_type": "code",
      "metadata": {
        "colab": {
          "base_uri": "https://localhost:8080/"
        },
        "id": "-a2k6mbc3_8p",
        "outputId": "277534da-23c0-4df6-bc26-904634e142d3"
      },
      "source": [
        "myList.extend([4, 5, 3])\n",
        "\n",
        "print(myList)"
      ],
      "execution_count": 147,
      "outputs": [
        {
          "output_type": "stream",
          "text": [
            "[1, 2, 3, 4, 4, 5, 3]\n"
          ],
          "name": "stdout"
        }
      ]
    },
    {
      "cell_type": "code",
      "metadata": {
        "colab": {
          "base_uri": "https://localhost:8080/"
        },
        "id": "G6RTH4D84Oy8",
        "outputId": "a47d5d54-bdcb-4735-8e26-354a7bdb72bb"
      },
      "source": [
        "myList.sort()\n",
        "\n",
        "print(myList)"
      ],
      "execution_count": 148,
      "outputs": [
        {
          "output_type": "stream",
          "text": [
            "[1, 2, 3, 3, 4, 4, 5]\n"
          ],
          "name": "stdout"
        }
      ]
    },
    {
      "cell_type": "code",
      "metadata": {
        "id": "eESpg5EC4Xhj"
      },
      "source": [
        "unsorted_myList = [1, 2, 3, 4, 5, 4, 3]"
      ],
      "execution_count": 153,
      "outputs": []
    },
    {
      "cell_type": "code",
      "metadata": {
        "colab": {
          "base_uri": "https://localhost:8080/"
        },
        "id": "W11RE9tJ4fJg",
        "outputId": "af8e6022-2d15-4180-a9bb-3c0cdb59cfcc"
      },
      "source": [
        "sorted(unsorted_myList)"
      ],
      "execution_count": 154,
      "outputs": [
        {
          "output_type": "execute_result",
          "data": {
            "text/plain": [
              "[1, 2, 3, 3, 4, 4, 5]"
            ]
          },
          "metadata": {
            "tags": []
          },
          "execution_count": 154
        }
      ]
    },
    {
      "cell_type": "code",
      "metadata": {
        "colab": {
          "base_uri": "https://localhost:8080/"
        },
        "id": "Gv28YzTj4lNn",
        "outputId": "aeea06cd-3816-4bc7-c317-be933a848e23"
      },
      "source": [
        "myList.sort()\n",
        "\n",
        "print(myList)"
      ],
      "execution_count": 155,
      "outputs": [
        {
          "output_type": "stream",
          "text": [
            "[1, 2, 3, 3, 4, 4, 5]\n"
          ],
          "name": "stdout"
        }
      ]
    },
    {
      "cell_type": "code",
      "metadata": {
        "colab": {
          "base_uri": "https://localhost:8080/"
        },
        "id": "b9fOvSG54sgQ",
        "outputId": "82d2beb9-ae35-4a4c-db8b-ebcf3a8c9bda"
      },
      "source": [
        "sorted(unsorted_myList) == myList #sorted([]) == [].sort()"
      ],
      "execution_count": 156,
      "outputs": [
        {
          "output_type": "execute_result",
          "data": {
            "text/plain": [
              "True"
            ]
          },
          "metadata": {
            "tags": []
          },
          "execution_count": 156
        }
      ]
    },
    {
      "cell_type": "code",
      "metadata": {
        "id": "uIJvIcBh4wO4"
      },
      "source": [
        "myTuple = (1, 2, 3, 4, 5)"
      ],
      "execution_count": 168,
      "outputs": []
    },
    {
      "cell_type": "code",
      "metadata": {
        "colab": {
          "base_uri": "https://localhost:8080/"
        },
        "id": "V-5255or7rji",
        "outputId": "5d7a5969-457d-4865-ad7b-16febb70595a"
      },
      "source": [
        "myDict = {\"a\": 1, \"b\": 2, \"c\": 3, \"d\": 4}\n",
        "\n",
        "print(myDict)"
      ],
      "execution_count": 192,
      "outputs": [
        {
          "output_type": "stream",
          "text": [
            "{'a': 1, 'b': 2, 'c': 3, 'd': 4}\n"
          ],
          "name": "stdout"
        }
      ]
    },
    {
      "cell_type": "code",
      "metadata": {
        "colab": {
          "base_uri": "https://localhost:8080/"
        },
        "id": "2_mNeUG085mK",
        "outputId": "a2625bb4-8141-4a84-8e77-4c7d96eba724"
      },
      "source": [
        "del myDict['d']\n",
        "\n",
        "print(myDict)"
      ],
      "execution_count": 193,
      "outputs": [
        {
          "output_type": "stream",
          "text": [
            "{'a': 1, 'b': 2, 'c': 3}\n"
          ],
          "name": "stdout"
        }
      ]
    },
    {
      "cell_type": "code",
      "metadata": {
        "colab": {
          "base_uri": "https://localhost:8080/"
        },
        "id": "j6T-TjAo88vT",
        "outputId": "8468e789-3e2f-4d63-d8db-71bc407478b2"
      },
      "source": [
        "myDict['b'] == myDict.get('b')"
      ],
      "execution_count": 194,
      "outputs": [
        {
          "output_type": "execute_result",
          "data": {
            "text/plain": [
              "True"
            ]
          },
          "metadata": {
            "tags": []
          },
          "execution_count": 194
        }
      ]
    },
    {
      "cell_type": "code",
      "metadata": {
        "colab": {
          "base_uri": "https://localhost:8080/"
        },
        "id": "iO9TZwmS9Hgh",
        "outputId": "496ceb8a-cd1d-4bd7-a0d9-617de592961f"
      },
      "source": [
        "myDict.pop('a')\n",
        "\n",
        "print(myDict)"
      ],
      "execution_count": 195,
      "outputs": [
        {
          "output_type": "stream",
          "text": [
            "{'b': 2, 'c': 3}\n"
          ],
          "name": "stdout"
        }
      ]
    },
    {
      "cell_type": "code",
      "metadata": {
        "colab": {
          "base_uri": "https://localhost:8080/"
        },
        "id": "mb30vhOu-BhX",
        "outputId": "b87c81c5-3b86-491b-979a-d3da63e95f95"
      },
      "source": [
        "poped_item = myDict.pop('b')\n",
        "\n",
        "print(poped_item)"
      ],
      "execution_count": 196,
      "outputs": [
        {
          "output_type": "stream",
          "text": [
            "2\n"
          ],
          "name": "stdout"
        }
      ]
    },
    {
      "cell_type": "code",
      "metadata": {
        "colab": {
          "base_uri": "https://localhost:8080/"
        },
        "id": "Qcl9mhMN9mg3",
        "outputId": "bfbe4e88-9e0a-432e-8ec3-2a0c35a8b1c6"
      },
      "source": [
        "myDict.popitem()\n",
        "\n",
        "print(myDict)"
      ],
      "execution_count": 197,
      "outputs": [
        {
          "output_type": "stream",
          "text": [
            "{}\n"
          ],
          "name": "stdout"
        }
      ]
    },
    {
      "cell_type": "code",
      "metadata": {
        "colab": {
          "base_uri": "https://localhost:8080/"
        },
        "id": "LKdgWYSo9yhv",
        "outputId": "3c419935-1c36-43af-e6cb-557e6887dd78"
      },
      "source": [
        "myDict.setdefault('a', 1)"
      ],
      "execution_count": 199,
      "outputs": [
        {
          "output_type": "execute_result",
          "data": {
            "text/plain": [
              "1"
            ]
          },
          "metadata": {
            "tags": []
          },
          "execution_count": 199
        }
      ]
    },
    {
      "cell_type": "code",
      "metadata": {
        "colab": {
          "base_uri": "https://localhost:8080/"
        },
        "id": "tUQHwH9x-ixh",
        "outputId": "561b364c-4f72-43cf-eee8-d02f6388c807"
      },
      "source": [
        "myDict.setdefault('a', 100000)"
      ],
      "execution_count": 200,
      "outputs": [
        {
          "output_type": "execute_result",
          "data": {
            "text/plain": [
              "1"
            ]
          },
          "metadata": {
            "tags": []
          },
          "execution_count": 200
        }
      ]
    },
    {
      "cell_type": "code",
      "metadata": {
        "id": "znWEN79r-rfL"
      },
      "source": [
        "myDict.update({'b': 2, 'c': 4})"
      ],
      "execution_count": 202,
      "outputs": []
    },
    {
      "cell_type": "code",
      "metadata": {
        "colab": {
          "base_uri": "https://localhost:8080/"
        },
        "id": "2GCm5sJD-zAK",
        "outputId": "b30f7c4b-cdf9-4ae7-dae2-4425f62d2582"
      },
      "source": [
        "myDict"
      ],
      "execution_count": 203,
      "outputs": [
        {
          "output_type": "execute_result",
          "data": {
            "text/plain": [
              "{'a': 1, 'b': 2, 'c': 4}"
            ]
          },
          "metadata": {
            "tags": []
          },
          "execution_count": 203
        }
      ]
    },
    {
      "cell_type": "code",
      "metadata": {
        "id": "ZhKVXbsV-8rS"
      },
      "source": [
        ""
      ],
      "execution_count": null,
      "outputs": []
    }
  ]
}