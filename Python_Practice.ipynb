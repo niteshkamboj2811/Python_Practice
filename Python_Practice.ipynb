{
  "nbformat": 4,
  "nbformat_minor": 0,
  "metadata": {
    "colab": {
      "name": "Python_Practice.ipynb",
      "provenance": [],
      "collapsed_sections": [],
      "include_colab_link": true
    },
    "kernelspec": {
      "name": "python3",
      "display_name": "Python 3"
    },
    "language_info": {
      "name": "python"
    }
  },
  "cells": [
    {
      "cell_type": "markdown",
      "metadata": {
        "id": "view-in-github",
        "colab_type": "text"
      },
      "source": [
        "<a href=\"https://colab.research.google.com/github/niteshkamboj2811/Python_Practice/blob/main/Python_Practice.ipynb\" target=\"_parent\"><img src=\"https://colab.research.google.com/assets/colab-badge.svg\" alt=\"Open In Colab\"/></a>"
      ]
    },
    {
      "cell_type": "code",
      "metadata": {
        "colab": {
          "base_uri": "https://localhost:8080/"
        },
        "id": "kcWBo6KfxECn",
        "outputId": "d6bfd2ee-c0e2-4e01-b3a2-2461a84fff9c"
      },
      "source": [
        "print('First Print')"
      ],
      "execution_count": null,
      "outputs": [
        {
          "output_type": "stream",
          "text": [
            "First Print\n"
          ],
          "name": "stdout"
        }
      ]
    },
    {
      "cell_type": "code",
      "metadata": {
        "id": "Ju2GkJspxwyG"
      },
      "source": [
        "text = 'First Print'"
      ],
      "execution_count": null,
      "outputs": []
    },
    {
      "cell_type": "code",
      "metadata": {
        "colab": {
          "base_uri": "https://localhost:8080/",
          "height": 34
        },
        "id": "srZWh1ttypLb",
        "outputId": "9af4a33f-c626-4ae9-8de2-add9dec7e01e"
      },
      "source": [
        "text[0:2] + text[3:]"
      ],
      "execution_count": null,
      "outputs": [
        {
          "output_type": "execute_result",
          "data": {
            "application/vnd.google.colaboratory.intrinsic+json": {
              "type": "string"
            },
            "text/plain": [
              "'Fist Print'"
            ]
          },
          "metadata": {
            "tags": []
          },
          "execution_count": 4
        }
      ]
    },
    {
      "cell_type": "code",
      "metadata": {
        "id": "VFLkAaiNys78"
      },
      "source": [
        "fn, ln = 'Nitesh', 'Kamboj'"
      ],
      "execution_count": null,
      "outputs": []
    },
    {
      "cell_type": "code",
      "metadata": {
        "colab": {
          "base_uri": "https://localhost:8080/"
        },
        "id": "EnooNeN_DpKI",
        "outputId": "cac9c577-2bbd-42e6-d3a8-9eacba9948ee"
      },
      "source": [
        "print(f'First Name: {fn} \\nLast Name:    {ln}')"
      ],
      "execution_count": null,
      "outputs": [
        {
          "output_type": "stream",
          "text": [
            "First Name: Nitesh \n",
            "Last Name:    Kamboj\n"
          ],
          "name": "stdout"
        }
      ]
    },
    {
      "cell_type": "code",
      "metadata": {
        "id": "WWQODYW7D3J-"
      },
      "source": [
        "num, exp = 4, 3"
      ],
      "execution_count": null,
      "outputs": []
    },
    {
      "cell_type": "code",
      "metadata": {
        "colab": {
          "base_uri": "https://localhost:8080/"
        },
        "id": "7tdtV_LIEZi2",
        "outputId": "1490cb47-6a75-478e-8274-df68c2785d89"
      },
      "source": [
        "print(f'Number: {num} and {exp} is the power. \\nThe result is {num ** exp}')"
      ],
      "execution_count": null,
      "outputs": [
        {
          "output_type": "stream",
          "text": [
            "Number: 4 and 3 is the power. \n",
            "The result is 64\n"
          ],
          "name": "stdout"
        }
      ]
    },
    {
      "cell_type": "code",
      "metadata": {
        "id": "c7L5Vpg6EkJE"
      },
      "source": [
        "#caling function inside fstrin\n",
        "\n",
        "text = 'NITESH KAMBOJ nitesh'"
      ],
      "execution_count": null,
      "outputs": []
    },
    {
      "cell_type": "code",
      "metadata": {
        "colab": {
          "base_uri": "https://localhost:8080/"
        },
        "id": "M4keUb5nEzch",
        "outputId": "8800246e-8c10-432c-c738-b2886b3e41b4"
      },
      "source": [
        "print(f'lower function = {text.lower()} \\n')\n",
        "print(f'capitalize function = {text.capitalize()} \\n')\n",
        "print(f'first index = {text.index(\"N\")} \\n')\n",
        "print(f'first index = {text.lower().find(\"a\")} \\n')\n",
        "print(f'Alpha Numeric = {text.isalnum() } \\n')\n",
        "print(f'All Numeric = {text.isnumeric() } \\n')\n",
        "print(f'All Alphabets = {text.isalpha() } \\n')"
      ],
      "execution_count": null,
      "outputs": [
        {
          "output_type": "stream",
          "text": [
            "lower function = nitesh kamboj nitesh \n",
            "\n",
            "capitalize function = Nitesh kamboj nitesh \n",
            "\n",
            "first index = 0 \n",
            "\n",
            "first index = 8 \n",
            "\n",
            "Alpha Numeric = False \n",
            "\n",
            "All Numeric = False \n",
            "\n",
            "All Alphabets = False \n",
            "\n"
          ],
          "name": "stdout"
        }
      ]
    },
    {
      "cell_type": "code",
      "metadata": {
        "colab": {
          "base_uri": "https://localhost:8080/"
        },
        "id": "1s1lWO-4duGO",
        "outputId": "30c6225b-0953-4715-9e10-395b46fa6269"
      },
      "source": [
        "'123'.isidentifier()"
      ],
      "execution_count": null,
      "outputs": [
        {
          "output_type": "execute_result",
          "data": {
            "text/plain": [
              "False"
            ]
          },
          "metadata": {
            "tags": []
          },
          "execution_count": 45
        }
      ]
    },
    {
      "cell_type": "code",
      "metadata": {
        "colab": {
          "base_uri": "https://localhost:8080/"
        },
        "id": "DYoronO-eT5t",
        "outputId": "bcdc85a4-ece0-4949-9e68-02401185a519"
      },
      "source": [
        "'123'.isprintable()"
      ],
      "execution_count": null,
      "outputs": [
        {
          "output_type": "execute_result",
          "data": {
            "text/plain": [
              "True"
            ]
          },
          "metadata": {
            "tags": []
          },
          "execution_count": 46
        }
      ]
    },
    {
      "cell_type": "code",
      "metadata": {
        "colab": {
          "base_uri": "https://localhost:8080/"
        },
        "id": "Sb-NWEVnefL3",
        "outputId": "1ae79fb6-2ff3-4354-9315-720c76f46ca9"
      },
      "source": [
        "'NI'.isupper()"
      ],
      "execution_count": null,
      "outputs": [
        {
          "output_type": "execute_result",
          "data": {
            "text/plain": [
              "True"
            ]
          },
          "metadata": {
            "tags": []
          },
          "execution_count": 49
        }
      ]
    },
    {
      "cell_type": "code",
      "metadata": {
        "id": "4yNsu-94Gcku",
        "colab": {
          "base_uri": "https://localhost:8080/"
        },
        "outputId": "898797fe-67f1-4002-d254-291b4ebeb507"
      },
      "source": [
        "'123'.isnumeric()"
      ],
      "execution_count": null,
      "outputs": [
        {
          "output_type": "execute_result",
          "data": {
            "text/plain": [
              "True"
            ]
          },
          "metadata": {
            "tags": []
          },
          "execution_count": 25
        }
      ]
    },
    {
      "cell_type": "code",
      "metadata": {
        "colab": {
          "base_uri": "https://localhost:8080/"
        },
        "id": "4RW97aw9Vqwy",
        "outputId": "774a8ccc-701a-4391-bdf9-17a5b4d34905"
      },
      "source": [
        "'123'.isalnum()"
      ],
      "execution_count": null,
      "outputs": [
        {
          "output_type": "execute_result",
          "data": {
            "text/plain": [
              "True"
            ]
          },
          "metadata": {
            "tags": []
          },
          "execution_count": 26
        }
      ]
    },
    {
      "cell_type": "code",
      "metadata": {
        "colab": {
          "base_uri": "https://localhost:8080/"
        },
        "id": "P3KzeDBIWSqd",
        "outputId": "26719e30-d603-44cd-da87-315d189204eb"
      },
      "source": [
        "'123'.isalpha()"
      ],
      "execution_count": null,
      "outputs": [
        {
          "output_type": "execute_result",
          "data": {
            "text/plain": [
              "False"
            ]
          },
          "metadata": {
            "tags": []
          },
          "execution_count": 27
        }
      ]
    },
    {
      "cell_type": "code",
      "metadata": {
        "colab": {
          "base_uri": "https://localhost:8080/"
        },
        "id": "emFeD35GWp5L",
        "outputId": "2fdcd555-f341-45e9-b62a-8c2362773c60"
      },
      "source": [
        "'123'.isdigit()"
      ],
      "execution_count": null,
      "outputs": [
        {
          "output_type": "execute_result",
          "data": {
            "text/plain": [
              "True"
            ]
          },
          "metadata": {
            "tags": []
          },
          "execution_count": 28
        }
      ]
    },
    {
      "cell_type": "code",
      "metadata": {
        "id": "8wKuJsF4Wwi9"
      },
      "source": [
        "def test(s):\n",
        "  for attr in ['isnumeric', 'isdigit', 'isalnum', 'isalpha', 'isidentifier']:\n",
        "    print(attr, getattr(s, attr)()) #s.isnumberi() == s.attr()"
      ],
      "execution_count": null,
      "outputs": []
    },
    {
      "cell_type": "code",
      "metadata": {
        "colab": {
          "base_uri": "https://localhost:8080/"
        },
        "id": "6-l-JQ6vXaWX",
        "outputId": "f9c220e5-b247-4707-e240-4eff33deb9f4"
      },
      "source": [
        "test('12')"
      ],
      "execution_count": null,
      "outputs": [
        {
          "output_type": "stream",
          "text": [
            "isnumeric True\n",
            "isdigit True\n",
            "isalnum True\n",
            "isalpha False\n",
            "isidentifier False\n"
          ],
          "name": "stdout"
        }
      ]
    },
    {
      "cell_type": "code",
      "metadata": {
        "colab": {
          "base_uri": "https://localhost:8080/"
        },
        "id": "M6iwmbn8XfDm",
        "outputId": "d1918e6d-02be-4aac-c7ff-a79342a1277f"
      },
      "source": [
        "'nitesh'.capitalize() == 'nitesh'.title()"
      ],
      "execution_count": null,
      "outputs": [
        {
          "output_type": "execute_result",
          "data": {
            "text/plain": [
              "True"
            ]
          },
          "metadata": {
            "tags": []
          },
          "execution_count": 51
        }
      ]
    },
    {
      "cell_type": "code",
      "metadata": {
        "colab": {
          "base_uri": "https://localhost:8080/",
          "height": 35
        },
        "id": "ZYwOqfHqevfG",
        "outputId": "3a1f8471-74a8-4f51-ffa4-7c557b68750f"
      },
      "source": [
        "'Strips this strips'.strip('s')"
      ],
      "execution_count": null,
      "outputs": [
        {
          "output_type": "execute_result",
          "data": {
            "application/vnd.google.colaboratory.intrinsic+json": {
              "type": "string"
            },
            "text/plain": [
              "'Strips this strip'"
            ]
          },
          "metadata": {
            "tags": []
          },
          "execution_count": 52
        }
      ]
    },
    {
      "cell_type": "code",
      "metadata": {
        "colab": {
          "base_uri": "https://localhost:8080/",
          "height": 35
        },
        "id": "RLc8-S0He-Ta",
        "outputId": "21f6f85d-bcfc-4f51-999f-62ea0fa4cb53"
      },
      "source": [
        "'Strips this strips'.rstrip('s')"
      ],
      "execution_count": null,
      "outputs": [
        {
          "output_type": "execute_result",
          "data": {
            "application/vnd.google.colaboratory.intrinsic+json": {
              "type": "string"
            },
            "text/plain": [
              "'Strips this strip'"
            ]
          },
          "metadata": {
            "tags": []
          },
          "execution_count": 53
        }
      ]
    },
    {
      "cell_type": "code",
      "metadata": {
        "colab": {
          "base_uri": "https://localhost:8080/",
          "height": 35
        },
        "id": "A5ojJQNofDCd",
        "outputId": "81c5566b-ec16-4241-9576-48e0e2884013"
      },
      "source": [
        "'Strips this strips'.lstrip('S')"
      ],
      "execution_count": null,
      "outputs": [
        {
          "output_type": "execute_result",
          "data": {
            "application/vnd.google.colaboratory.intrinsic+json": {
              "type": "string"
            },
            "text/plain": [
              "'trips this strips'"
            ]
          },
          "metadata": {
            "tags": []
          },
          "execution_count": 56
        }
      ]
    },
    {
      "cell_type": "code",
      "metadata": {
        "colab": {
          "base_uri": "https://localhost:8080/"
        },
        "id": "jHitD8F4fEm3",
        "outputId": "022ba0f0-2e66-4ad6-dedc-f64b084062c9"
      },
      "source": [
        "[x.strip() for x in ['    removing','    extra whitespaces     ']]"
      ],
      "execution_count": null,
      "outputs": [
        {
          "output_type": "execute_result",
          "data": {
            "text/plain": [
              "['removing', 'extra whitespaces']"
            ]
          },
          "metadata": {
            "tags": []
          },
          "execution_count": 70
        }
      ]
    },
    {
      "cell_type": "code",
      "metadata": {
        "id": "T3gY7b5wiKIB"
      },
      "source": [
        "myList = [1, 2]"
      ],
      "execution_count": null,
      "outputs": []
    },
    {
      "cell_type": "code",
      "metadata": {
        "colab": {
          "base_uri": "https://localhost:8080/"
        },
        "id": "EKg9yuXXob4v",
        "outputId": "7a4ac99e-b85b-43c4-d19a-0106063733ab"
      },
      "source": [
        "myList.append(3)\n",
        "\n",
        "print(myList)"
      ],
      "execution_count": null,
      "outputs": [
        {
          "output_type": "stream",
          "text": [
            "[1, 2, 3]\n"
          ],
          "name": "stdout"
        }
      ]
    },
    {
      "cell_type": "code",
      "metadata": {
        "colab": {
          "base_uri": "https://localhost:8080/"
        },
        "id": "6sb6GNVl3fpf",
        "outputId": "2fd85115-9d4f-4ba1-f1aa-cc3d280a9146"
      },
      "source": [
        "myList.extend([4, 5])\n",
        "\n",
        "print(myList)"
      ],
      "execution_count": null,
      "outputs": [
        {
          "output_type": "stream",
          "text": [
            "[1, 2, 3, 4, 5]\n"
          ],
          "name": "stdout"
        }
      ]
    },
    {
      "cell_type": "code",
      "metadata": {
        "colab": {
          "base_uri": "https://localhost:8080/"
        },
        "id": "-wxcB0t03lKm",
        "outputId": "e732c7b6-464a-4bbf-94bd-21c1b9e3ac2e"
      },
      "source": [
        "myList.insert(0, 0)\n",
        "\n",
        "print(myList)"
      ],
      "execution_count": null,
      "outputs": [
        {
          "output_type": "stream",
          "text": [
            "[0, 1, 2, 3, 4, 5]\n"
          ],
          "name": "stdout"
        }
      ]
    },
    {
      "cell_type": "code",
      "metadata": {
        "colab": {
          "base_uri": "https://localhost:8080/"
        },
        "id": "tD1ZS25m3tXE",
        "outputId": "09026afd-566a-44e9-de34-cafad7fc1a46"
      },
      "source": [
        "myList.remove(0)\n",
        "\n",
        "print(myList)"
      ],
      "execution_count": null,
      "outputs": [
        {
          "output_type": "stream",
          "text": [
            "[1, 2, 3, 4, 5]\n"
          ],
          "name": "stdout"
        }
      ]
    },
    {
      "cell_type": "code",
      "metadata": {
        "colab": {
          "base_uri": "https://localhost:8080/"
        },
        "id": "3wkROOjx5YlU",
        "outputId": "fe93c4fe-8411-420b-a465-646bcd00b7bb"
      },
      "source": [
        "myList.pop() #removes the last item\n",
        "\n",
        "print(myList)"
      ],
      "execution_count": null,
      "outputs": [
        {
          "output_type": "stream",
          "text": [
            "[1, 2, 3, 4]\n"
          ],
          "name": "stdout"
        }
      ]
    },
    {
      "cell_type": "code",
      "metadata": {
        "colab": {
          "base_uri": "https://localhost:8080/"
        },
        "id": "-a2k6mbc3_8p",
        "outputId": "277534da-23c0-4df6-bc26-904634e142d3"
      },
      "source": [
        "myList.extend([4, 5, 3])\n",
        "\n",
        "print(myList)"
      ],
      "execution_count": null,
      "outputs": [
        {
          "output_type": "stream",
          "text": [
            "[1, 2, 3, 4, 4, 5, 3]\n"
          ],
          "name": "stdout"
        }
      ]
    },
    {
      "cell_type": "code",
      "metadata": {
        "colab": {
          "base_uri": "https://localhost:8080/"
        },
        "id": "G6RTH4D84Oy8",
        "outputId": "a47d5d54-bdcb-4735-8e26-354a7bdb72bb"
      },
      "source": [
        "myList.sort()\n",
        "\n",
        "print(myList)"
      ],
      "execution_count": null,
      "outputs": [
        {
          "output_type": "stream",
          "text": [
            "[1, 2, 3, 3, 4, 4, 5]\n"
          ],
          "name": "stdout"
        }
      ]
    },
    {
      "cell_type": "code",
      "metadata": {
        "id": "eESpg5EC4Xhj"
      },
      "source": [
        "unsorted_myList = [1, 2, 3, 4, 5, 4, 3]"
      ],
      "execution_count": null,
      "outputs": []
    },
    {
      "cell_type": "code",
      "metadata": {
        "colab": {
          "base_uri": "https://localhost:8080/"
        },
        "id": "W11RE9tJ4fJg",
        "outputId": "af8e6022-2d15-4180-a9bb-3c0cdb59cfcc"
      },
      "source": [
        "sorted(unsorted_myList)"
      ],
      "execution_count": null,
      "outputs": [
        {
          "output_type": "execute_result",
          "data": {
            "text/plain": [
              "[1, 2, 3, 3, 4, 4, 5]"
            ]
          },
          "metadata": {
            "tags": []
          },
          "execution_count": 154
        }
      ]
    },
    {
      "cell_type": "code",
      "metadata": {
        "colab": {
          "base_uri": "https://localhost:8080/"
        },
        "id": "Gv28YzTj4lNn",
        "outputId": "aeea06cd-3816-4bc7-c317-be933a848e23"
      },
      "source": [
        "myList.sort()\n",
        "\n",
        "print(myList)"
      ],
      "execution_count": null,
      "outputs": [
        {
          "output_type": "stream",
          "text": [
            "[1, 2, 3, 3, 4, 4, 5]\n"
          ],
          "name": "stdout"
        }
      ]
    },
    {
      "cell_type": "code",
      "metadata": {
        "colab": {
          "base_uri": "https://localhost:8080/"
        },
        "id": "b9fOvSG54sgQ",
        "outputId": "82d2beb9-ae35-4a4c-db8b-ebcf3a8c9bda"
      },
      "source": [
        "sorted(unsorted_myList) == myList #sorted([]) == [].sort()"
      ],
      "execution_count": null,
      "outputs": [
        {
          "output_type": "execute_result",
          "data": {
            "text/plain": [
              "True"
            ]
          },
          "metadata": {
            "tags": []
          },
          "execution_count": 156
        }
      ]
    },
    {
      "cell_type": "code",
      "metadata": {
        "id": "uIJvIcBh4wO4"
      },
      "source": [
        "myTuple = (1, 2, 3, 4, 5)"
      ],
      "execution_count": null,
      "outputs": []
    },
    {
      "cell_type": "code",
      "metadata": {
        "colab": {
          "base_uri": "https://localhost:8080/"
        },
        "id": "V-5255or7rji",
        "outputId": "5d7a5969-457d-4865-ad7b-16febb70595a"
      },
      "source": [
        "myDict = {\"a\": 1, \"b\": 2, \"c\": 3, \"d\": 4}\n",
        "\n",
        "print(myDict)"
      ],
      "execution_count": null,
      "outputs": [
        {
          "output_type": "stream",
          "text": [
            "{'a': 1, 'b': 2, 'c': 3, 'd': 4}\n"
          ],
          "name": "stdout"
        }
      ]
    },
    {
      "cell_type": "code",
      "metadata": {
        "colab": {
          "base_uri": "https://localhost:8080/"
        },
        "id": "2_mNeUG085mK",
        "outputId": "a2625bb4-8141-4a84-8e77-4c7d96eba724"
      },
      "source": [
        "del myDict['d']\n",
        "\n",
        "print(myDict)"
      ],
      "execution_count": null,
      "outputs": [
        {
          "output_type": "stream",
          "text": [
            "{'a': 1, 'b': 2, 'c': 3}\n"
          ],
          "name": "stdout"
        }
      ]
    },
    {
      "cell_type": "code",
      "metadata": {
        "colab": {
          "base_uri": "https://localhost:8080/"
        },
        "id": "j6T-TjAo88vT",
        "outputId": "8468e789-3e2f-4d63-d8db-71bc407478b2"
      },
      "source": [
        "myDict['b'] == myDict.get('b')"
      ],
      "execution_count": null,
      "outputs": [
        {
          "output_type": "execute_result",
          "data": {
            "text/plain": [
              "True"
            ]
          },
          "metadata": {
            "tags": []
          },
          "execution_count": 194
        }
      ]
    },
    {
      "cell_type": "code",
      "metadata": {
        "colab": {
          "base_uri": "https://localhost:8080/"
        },
        "id": "iO9TZwmS9Hgh",
        "outputId": "496ceb8a-cd1d-4bd7-a0d9-617de592961f"
      },
      "source": [
        "myDict.pop('a')\n",
        "\n",
        "print(myDict)"
      ],
      "execution_count": null,
      "outputs": [
        {
          "output_type": "stream",
          "text": [
            "{'b': 2, 'c': 3}\n"
          ],
          "name": "stdout"
        }
      ]
    },
    {
      "cell_type": "code",
      "metadata": {
        "colab": {
          "base_uri": "https://localhost:8080/"
        },
        "id": "mb30vhOu-BhX",
        "outputId": "b87c81c5-3b86-491b-979a-d3da63e95f95"
      },
      "source": [
        "poped_item = myDict.pop('b')\n",
        "\n",
        "print(poped_item)"
      ],
      "execution_count": null,
      "outputs": [
        {
          "output_type": "stream",
          "text": [
            "2\n"
          ],
          "name": "stdout"
        }
      ]
    },
    {
      "cell_type": "code",
      "metadata": {
        "colab": {
          "base_uri": "https://localhost:8080/"
        },
        "id": "Qcl9mhMN9mg3",
        "outputId": "bfbe4e88-9e0a-432e-8ec3-2a0c35a8b1c6"
      },
      "source": [
        "myDict.popitem() #works like .pop() in lists/tuple\n",
        "\n",
        "print(myDict)"
      ],
      "execution_count": null,
      "outputs": [
        {
          "output_type": "stream",
          "text": [
            "{}\n"
          ],
          "name": "stdout"
        }
      ]
    },
    {
      "cell_type": "code",
      "metadata": {
        "colab": {
          "base_uri": "https://localhost:8080/"
        },
        "id": "LKdgWYSo9yhv",
        "outputId": "3c419935-1c36-43af-e6cb-557e6887dd78"
      },
      "source": [
        "myDict.setdefault('a', 1)"
      ],
      "execution_count": null,
      "outputs": [
        {
          "output_type": "execute_result",
          "data": {
            "text/plain": [
              "1"
            ]
          },
          "metadata": {
            "tags": []
          },
          "execution_count": 199
        }
      ]
    },
    {
      "cell_type": "code",
      "metadata": {
        "colab": {
          "base_uri": "https://localhost:8080/"
        },
        "id": "tUQHwH9x-ixh",
        "outputId": "561b364c-4f72-43cf-eee8-d02f6388c807"
      },
      "source": [
        "myDict.setdefault('a', 100000)"
      ],
      "execution_count": null,
      "outputs": [
        {
          "output_type": "execute_result",
          "data": {
            "text/plain": [
              "1"
            ]
          },
          "metadata": {
            "tags": []
          },
          "execution_count": 200
        }
      ]
    },
    {
      "cell_type": "code",
      "metadata": {
        "id": "znWEN79r-rfL"
      },
      "source": [
        "myDict.update({'b': 2, 'c': 4})"
      ],
      "execution_count": null,
      "outputs": []
    },
    {
      "cell_type": "code",
      "metadata": {
        "colab": {
          "base_uri": "https://localhost:8080/"
        },
        "id": "2GCm5sJD-zAK",
        "outputId": "b30f7c4b-cdf9-4ae7-dae2-4425f62d2582"
      },
      "source": [
        "myDict"
      ],
      "execution_count": null,
      "outputs": [
        {
          "output_type": "execute_result",
          "data": {
            "text/plain": [
              "{'a': 1, 'b': 2, 'c': 4}"
            ]
          },
          "metadata": {
            "tags": []
          },
          "execution_count": 203
        }
      ]
    },
    {
      "cell_type": "code",
      "metadata": {
        "id": "ZhKVXbsV-8rS",
        "colab": {
          "base_uri": "https://localhost:8080/"
        },
        "outputId": "d5072b7c-2ebc-4afe-b52b-0883057d86ad"
      },
      "source": [
        "newList = list()\n",
        "\n",
        "for i in range(0, 11):\n",
        "  newList.append(i+2)\n",
        "\n",
        "print(newList)"
      ],
      "execution_count": null,
      "outputs": [
        {
          "output_type": "stream",
          "text": [
            "[2, 3, 4, 5, 6, 7, 8, 9, 10, 11, 12]\n"
          ],
          "name": "stdout"
        }
      ]
    },
    {
      "cell_type": "code",
      "metadata": {
        "colab": {
          "base_uri": "https://localhost:8080/"
        },
        "id": "voNw2q-GhMQh",
        "outputId": "4d60e734-1ac3-46b8-aa2e-edce416bdd73"
      },
      "source": [
        "#priting even #s without calculation by using step function.\n",
        "evenList = list()\n",
        "\n",
        "for i in range(0, len(newList), 2):\n",
        "  evenList.append(newList[i])\n",
        "\n",
        "print(evenList)"
      ],
      "execution_count": null,
      "outputs": [
        {
          "output_type": "stream",
          "text": [
            "[2, 4, 6, 8, 10, 12]\n"
          ],
          "name": "stdout"
        }
      ]
    },
    {
      "cell_type": "code",
      "metadata": {
        "colab": {
          "base_uri": "https://localhost:8080/"
        },
        "id": "U2XevovthiUR",
        "outputId": "b15f6a49-b437-4485-a17e-ab660d2cbb5a"
      },
      "source": [
        "%debug"
      ],
      "execution_count": null,
      "outputs": [
        {
          "output_type": "stream",
          "text": [
            "ERROR:root:No traceback has been produced, nothing to debug.\n"
          ],
          "name": "stderr"
        }
      ]
    },
    {
      "cell_type": "code",
      "metadata": {
        "colab": {
          "base_uri": "https://localhost:8080/"
        },
        "id": "zObqjuKpnkJ3",
        "outputId": "7d18dcaa-7f45-48bf-b71d-58c450ee44c5"
      },
      "source": [
        "newList = [\"a\", \"b\", \"c\", \"d\"]\n",
        "\n",
        "for i in range(2, len(newList)):\n",
        "  newList[i] = newList[i] * i\n",
        "\n",
        "newList"
      ],
      "execution_count": null,
      "outputs": [
        {
          "output_type": "execute_result",
          "data": {
            "text/plain": [
              "['a', 'b', 'cc', 'ddd']"
            ]
          },
          "metadata": {
            "tags": []
          },
          "execution_count": 15
        }
      ]
    },
    {
      "cell_type": "code",
      "metadata": {
        "colab": {
          "base_uri": "https://localhost:8080/"
        },
        "id": "23Omk4XBoLEh",
        "outputId": "2aa0742e-bbdf-4c02-9a22-9e56df44d3da"
      },
      "source": [
        "#printing reverse list\n",
        "\n",
        "newList = list()\n",
        "\n",
        "for i in range(0, 10):\n",
        "  newList.append(i)\n",
        "\n",
        "for i in range(len(newList), 5, -1):\n",
        "  print(i)"
      ],
      "execution_count": null,
      "outputs": [
        {
          "output_type": "stream",
          "text": [
            "10\n",
            "9\n",
            "8\n",
            "7\n",
            "6\n"
          ],
          "name": "stdout"
        }
      ]
    },
    {
      "cell_type": "code",
      "metadata": {
        "colab": {
          "base_uri": "https://localhost:8080/"
        },
        "id": "liXfkztjpPmf",
        "outputId": "e14828ba-389a-4196-9f1a-8abd0dc0b246"
      },
      "source": [
        "myDict = dict()\n",
        "\n",
        "for i, v in enumerate(range(10), 1):\n",
        "  myDict[i] = v+1\n",
        "\n",
        "print(myDict)"
      ],
      "execution_count": null,
      "outputs": [
        {
          "output_type": "stream",
          "text": [
            "{1: 1, 2: 2, 3: 3, 4: 4, 5: 5, 6: 6, 7: 7, 8: 8, 9: 9, 10: 10}\n"
          ],
          "name": "stdout"
        }
      ]
    },
    {
      "cell_type": "code",
      "metadata": {
        "colab": {
          "base_uri": "https://localhost:8080/"
        },
        "id": "UhKq_MfyqZle",
        "outputId": "e842b6f3-97ef-43f2-c169-6359d8872e7a"
      },
      "source": [
        "for key, val in myDict.items():\n",
        "  print(f'Key is: {key} and Value is {val}')"
      ],
      "execution_count": null,
      "outputs": [
        {
          "output_type": "stream",
          "text": [
            "Key is: 0 and Value is 1\n",
            "Key is: 1 and Value is 2\n",
            "Key is: 2 and Value is 3\n",
            "Key is: 3 and Value is 4\n",
            "Key is: 4 and Value is 5\n",
            "Key is: 5 and Value is 6\n",
            "Key is: 6 and Value is 7\n",
            "Key is: 7 and Value is 8\n",
            "Key is: 8 and Value is 9\n",
            "Key is: 9 and Value is 10\n"
          ],
          "name": "stdout"
        }
      ]
    },
    {
      "cell_type": "code",
      "metadata": {
        "colab": {
          "base_uri": "https://localhost:8080/"
        },
        "id": "TeK_m0CdqrTk",
        "outputId": "09737f55-7fc2-4f2d-b224-dd0d1f9a9c08"
      },
      "source": [
        "for pair in myDict.items():\n",
        "  print(pair)"
      ],
      "execution_count": null,
      "outputs": [
        {
          "output_type": "stream",
          "text": [
            "(0, 1)\n",
            "(1, 2)\n",
            "(2, 3)\n",
            "(3, 4)\n",
            "(4, 5)\n",
            "(5, 6)\n",
            "(6, 7)\n",
            "(7, 8)\n",
            "(8, 9)\n",
            "(9, 10)\n"
          ],
          "name": "stdout"
        }
      ]
    },
    {
      "cell_type": "code",
      "metadata": {
        "colab": {
          "base_uri": "https://localhost:8080/"
        },
        "id": "Om9i2aPvrJ6k",
        "outputId": "c7e429c2-bb5d-47e4-a238-5491953da24f"
      },
      "source": [
        "#printing only 'n' in word\n",
        "\n",
        "nums = 12345\n",
        "\n",
        "for num in str(nums):\n",
        "  if int(num) % 3 == 0:\n",
        "    print('ODD')\n",
        "    continue\n",
        "  print('Not ODD')"
      ],
      "execution_count": null,
      "outputs": [
        {
          "output_type": "stream",
          "text": [
            "Not ODD\n",
            "Not ODD\n",
            "ODD\n",
            "Not ODD\n",
            "Not ODD\n"
          ],
          "name": "stdout"
        }
      ]
    },
    {
      "cell_type": "code",
      "metadata": {
        "id": "40gMS-ou0wlk"
      },
      "source": [
        ""
      ],
      "execution_count": null,
      "outputs": []
    },
    {
      "cell_type": "code",
      "metadata": {
        "colab": {
          "base_uri": "https://localhost:8080/"
        },
        "id": "1r3pH2Ek0E2l",
        "outputId": "9c6b4afa-de6a-4095-e7aa-47ad58fe358d"
      },
      "source": [
        "nums = [1, 2, 3, 4, 5]\n",
        "\n",
        "for num in nums:\n",
        "  if num % 2 == 0:\n",
        "    print(f'Even: {num}')\n",
        "    break\n",
        "  else:\n",
        "    print(f'Odd: {num}')"
      ],
      "execution_count": null,
      "outputs": [
        {
          "output_type": "stream",
          "text": [
            "Odd: 1\n",
            "Even: 2\n"
          ],
          "name": "stdout"
        }
      ]
    },
    {
      "cell_type": "code",
      "metadata": {
        "colab": {
          "base_uri": "https://localhost:8080/"
        },
        "id": "hK6SK1WZtjMq",
        "outputId": "076d198f-0c33-45d7-ab5d-933946e865c9"
      },
      "source": [
        "nums = 12345\n",
        "\n",
        "for num in str(nums):\n",
        "  if int(num) % 3 == 0:\n",
        "    print('ODD')\n",
        "    break\n",
        "  print('Not ODD')"
      ],
      "execution_count": null,
      "outputs": [
        {
          "output_type": "stream",
          "text": [
            "Not ODD\n",
            "Not ODD\n",
            "ODD\n"
          ],
          "name": "stdout"
        }
      ]
    },
    {
      "cell_type": "code",
      "metadata": {
        "id": "1Bpm_a_wudbh"
      },
      "source": [
        "#zip() is an amazing built-in function that we can use in Python to iterate over multiple sequences at once, \n",
        "#getting their corresponding elements in each iteration."
      ],
      "execution_count": null,
      "outputs": []
    },
    {
      "cell_type": "code",
      "metadata": {
        "colab": {
          "base_uri": "https://localhost:8080/"
        },
        "id": "kvKDlGonv6hK",
        "outputId": "29a08667-0655-4fad-f36e-63dcf6572d28"
      },
      "source": [
        "l1, l2 = [1, 2, 3], [4, 5, 6]\n",
        "\n",
        "for v1, v2 in zip(l1, l2):\n",
        "  print(v1, v2)"
      ],
      "execution_count": null,
      "outputs": [
        {
          "output_type": "stream",
          "text": [
            "1 4\n",
            "2 5\n",
            "3 6\n"
          ],
          "name": "stdout"
        }
      ]
    },
    {
      "cell_type": "code",
      "metadata": {
        "colab": {
          "base_uri": "https://localhost:8080/"
        },
        "id": "4c7VGuo5wQqK",
        "outputId": "72b1a353-052a-4a6b-ded3-d7f6463ebee2"
      },
      "source": [
        "nums = [1, 2, 3, 4, 5]\n",
        "\n",
        "for num in nums:\n",
        "  if num > 6:\n",
        "    print('Found')\n",
        "    break\n",
        "\n",
        "print('Not found')"
      ],
      "execution_count": null,
      "outputs": [
        {
          "output_type": "stream",
          "text": [
            "Not found\n"
          ],
          "name": "stdout"
        }
      ]
    },
    {
      "cell_type": "code",
      "metadata": {
        "colab": {
          "base_uri": "https://localhost:8080/"
        },
        "id": "Ql21OLjaxLCq",
        "outputId": "536e25f1-e419-4cd1-96fc-9f66034206dd"
      },
      "source": [
        "nums = [1, 2, 3, 4, 5, 6, 7]\n",
        "\n",
        "for num in nums:\n",
        "  if num > 6:\n",
        "    print('Found')\n",
        "    break\n",
        "else:\n",
        "  print('Not found')"
      ],
      "execution_count": null,
      "outputs": [
        {
          "output_type": "stream",
          "text": [
            "Found\n"
          ],
          "name": "stdout"
        }
      ]
    },
    {
      "cell_type": "code",
      "metadata": {
        "colab": {
          "base_uri": "https://localhost:8080/"
        },
        "id": "x1X4H7QIyWNp",
        "outputId": "8e896e4c-7cf0-4c7f-86b4-949389cfe3fe"
      },
      "source": [
        "nums = [1, 2, 3, 4, 5, 6, 7]\n",
        "\n",
        "for num in nums:\n",
        "  if num > 6:\n",
        "    print('Found')\n",
        "    break\n",
        "else:\n",
        "  print('Not HERE')"
      ],
      "execution_count": null,
      "outputs": [
        {
          "output_type": "stream",
          "text": [
            "Found\n"
          ],
          "name": "stdout"
        }
      ]
    },
    {
      "cell_type": "code",
      "metadata": {
        "colab": {
          "base_uri": "https://localhost:8080/"
        },
        "id": "mcw7IPWNyqS_",
        "outputId": "228a1593-85d2-4428-db9e-5ec630928033"
      },
      "source": [
        "x = 5\n",
        "\n",
        "while x < 15:\n",
        "  if x % 2 == 0:\n",
        "    print(f'Even: {x}')\n",
        "    break\n",
        "  print(f'Odd: {x}')\n",
        "  x+=1"
      ],
      "execution_count": null,
      "outputs": [
        {
          "output_type": "stream",
          "text": [
            "Odd: 5\n",
            "Even: 6\n"
          ],
          "name": "stdout"
        }
      ]
    },
    {
      "cell_type": "code",
      "metadata": {
        "colab": {
          "base_uri": "https://localhost:8080/"
        },
        "id": "ARol0CghzjSy",
        "outputId": "88a53149-f650-4b0b-80d5-ff6e20ab3e03"
      },
      "source": [
        "#Nested Loops\n",
        "\n",
        "for i in range(3):\n",
        "  for j in range(2):\n",
        "    print(i, j)"
      ],
      "execution_count": null,
      "outputs": [
        {
          "output_type": "stream",
          "text": [
            "0 0\n",
            "0 1\n",
            "1 0\n",
            "1 1\n",
            "2 0\n",
            "2 1\n"
          ],
          "name": "stdout"
        }
      ]
    },
    {
      "cell_type": "code",
      "metadata": {
        "colab": {
          "base_uri": "https://localhost:8080/"
        },
        "id": "Eo4uyyb940px",
        "outputId": "d63f4d06-eb9a-4d3f-dd7e-f7d8ac266956"
      },
      "source": [
        "num_rows = 5\n",
        "\n",
        "for i in range(5):\n",
        "  for nums_cols in range(num_rows-i):\n",
        "    print('*', end='')\n",
        "  print()"
      ],
      "execution_count": null,
      "outputs": [
        {
          "output_type": "stream",
          "text": [
            "*****\n",
            "****\n",
            "***\n",
            "**\n",
            "*\n"
          ],
          "name": "stdout"
        }
      ]
    },
    {
      "cell_type": "code",
      "metadata": {
        "id": "4Wx0A06W5dKc"
      },
      "source": [
        "#writing a function for creating the same pyramid\n",
        "\n",
        "def print_pattern(num_rows, char):\n",
        "  for i in range(num_rows):\n",
        "    for col in range(num_rows-i):\n",
        "      print(char, end='')\n",
        "    print()"
      ],
      "execution_count": null,
      "outputs": []
    },
    {
      "cell_type": "code",
      "metadata": {
        "colab": {
          "base_uri": "https://localhost:8080/"
        },
        "id": "8urLufY47jXt",
        "outputId": "af8bee35-101c-456f-db23-add1e1c10e74"
      },
      "source": [
        "print_pattern(3, 'a')"
      ],
      "execution_count": null,
      "outputs": [
        {
          "output_type": "stream",
          "text": [
            "aaa\n",
            "aa\n",
            "a\n"
          ],
          "name": "stdout"
        }
      ]
    },
    {
      "cell_type": "code",
      "metadata": {
        "colab": {
          "base_uri": "https://localhost:8080/"
        },
        "id": "2iyrpIy78WXt",
        "outputId": "055dfb7c-1b97-4b95-a532-774bc6fd9241"
      },
      "source": [
        "return_even([1, 3, 5])"
      ],
      "execution_count": null,
      "outputs": [
        {
          "output_type": "execute_result",
          "data": {
            "text/plain": [
              "False"
            ]
          },
          "metadata": {
            "tags": []
          },
          "execution_count": 124
        }
      ]
    },
    {
      "cell_type": "code",
      "metadata": {
        "id": "xtbsdDVJ9Nt9"
      },
      "source": [
        "#Recursive ()\n",
        "\n",
        "def factorial(n):\n",
        "  if n not in (0, 1):\n",
        "    return n * factorial(n-1)\n",
        "  else:\n",
        "    return 1"
      ],
      "execution_count": null,
      "outputs": []
    },
    {
      "cell_type": "code",
      "metadata": {
        "colab": {
          "base_uri": "https://localhost:8080/"
        },
        "id": "XlfcMVyh-j8w",
        "outputId": "df86f275-317a-4567-f9f5-e95343e8084d"
      },
      "source": [
        "factorial(4)"
      ],
      "execution_count": null,
      "outputs": [
        {
          "output_type": "execute_result",
          "data": {
            "text/plain": [
              "24"
            ]
          },
          "metadata": {
            "tags": []
          },
          "execution_count": 131
        }
      ]
    },
    {
      "cell_type": "code",
      "metadata": {
        "colab": {
          "base_uri": "https://localhost:8080/",
          "height": 330
        },
        "id": "xFxt5hbAxGKp",
        "outputId": "942cd2d3-f2e8-42eb-9ed5-422748d07b50"
      },
      "source": [
        "def text(index):\n",
        "  index = int(input(\"Enter the index: \"))\n",
        "  my_list = [1, 2, 3, 4]\n",
        "  print(my_list[index])\n",
        "\n",
        "text(4)"
      ],
      "execution_count": null,
      "outputs": [
        {
          "output_type": "stream",
          "text": [
            "Enter the index: 4\n"
          ],
          "name": "stdout"
        },
        {
          "output_type": "error",
          "ename": "IndexError",
          "evalue": "ignored",
          "traceback": [
            "\u001b[0;31m---------------------------------------------------------------------------\u001b[0m",
            "\u001b[0;31mIndexError\u001b[0m                                Traceback (most recent call last)",
            "\u001b[0;32m<ipython-input-10-c74384e6075c>\u001b[0m in \u001b[0;36m<module>\u001b[0;34m()\u001b[0m\n\u001b[1;32m      4\u001b[0m   \u001b[0mprint\u001b[0m\u001b[0;34m(\u001b[0m\u001b[0mmy_list\u001b[0m\u001b[0;34m[\u001b[0m\u001b[0mindex\u001b[0m\u001b[0;34m]\u001b[0m\u001b[0;34m)\u001b[0m\u001b[0;34m\u001b[0m\u001b[0;34m\u001b[0m\u001b[0m\n\u001b[1;32m      5\u001b[0m \u001b[0;34m\u001b[0m\u001b[0m\n\u001b[0;32m----> 6\u001b[0;31m \u001b[0mtext\u001b[0m\u001b[0;34m(\u001b[0m\u001b[0;36m4\u001b[0m\u001b[0;34m)\u001b[0m\u001b[0;34m\u001b[0m\u001b[0;34m\u001b[0m\u001b[0m\n\u001b[0m",
            "\u001b[0;32m<ipython-input-10-c74384e6075c>\u001b[0m in \u001b[0;36mtext\u001b[0;34m(index)\u001b[0m\n\u001b[1;32m      2\u001b[0m   \u001b[0mindex\u001b[0m \u001b[0;34m=\u001b[0m \u001b[0mint\u001b[0m\u001b[0;34m(\u001b[0m\u001b[0minput\u001b[0m\u001b[0;34m(\u001b[0m\u001b[0;34m\"Enter the index: \"\u001b[0m\u001b[0;34m)\u001b[0m\u001b[0;34m)\u001b[0m\u001b[0;34m\u001b[0m\u001b[0;34m\u001b[0m\u001b[0m\n\u001b[1;32m      3\u001b[0m   \u001b[0mmy_list\u001b[0m \u001b[0;34m=\u001b[0m \u001b[0;34m[\u001b[0m\u001b[0;36m1\u001b[0m\u001b[0;34m,\u001b[0m \u001b[0;36m2\u001b[0m\u001b[0;34m,\u001b[0m \u001b[0;36m3\u001b[0m\u001b[0;34m,\u001b[0m \u001b[0;36m4\u001b[0m\u001b[0;34m]\u001b[0m\u001b[0;34m\u001b[0m\u001b[0;34m\u001b[0m\u001b[0m\n\u001b[0;32m----> 4\u001b[0;31m   \u001b[0mprint\u001b[0m\u001b[0;34m(\u001b[0m\u001b[0mmy_list\u001b[0m\u001b[0;34m[\u001b[0m\u001b[0mindex\u001b[0m\u001b[0;34m]\u001b[0m\u001b[0;34m)\u001b[0m\u001b[0;34m\u001b[0m\u001b[0;34m\u001b[0m\u001b[0m\n\u001b[0m\u001b[1;32m      5\u001b[0m \u001b[0;34m\u001b[0m\u001b[0m\n\u001b[1;32m      6\u001b[0m \u001b[0mtext\u001b[0m\u001b[0;34m(\u001b[0m\u001b[0;36m4\u001b[0m\u001b[0;34m)\u001b[0m\u001b[0;34m\u001b[0m\u001b[0;34m\u001b[0m\u001b[0m\n",
            "\u001b[0;31mIndexError\u001b[0m: list index out of range"
          ]
        }
      ]
    },
    {
      "cell_type": "code",
      "metadata": {
        "colab": {
          "base_uri": "https://localhost:8080/"
        },
        "id": "uxbIBsHNxW_-",
        "outputId": "8e6574e7-72ac-45e0-c9f4-308ca1d49d1d"
      },
      "source": [
        "index = int(input(\"Enter the index: \"))\n",
        "\n",
        "try:\n",
        "    my_list = [1, 2, 3, 4]\n",
        "    print(my_list[index])\n",
        "except IndexError as ie: # specify the type\n",
        "    print(\"Please enter a valid index.\", ie)"
      ],
      "execution_count": null,
      "outputs": [
        {
          "output_type": "stream",
          "text": [
            "Enter the index: 4\n",
            "Please enter a valid index. list index out of range\n"
          ],
          "name": "stdout"
        }
      ]
    },
    {
      "cell_type": "code",
      "metadata": {
        "colab": {
          "base_uri": "https://localhost:8080/"
        },
        "id": "omnzFJx7xqXB",
        "outputId": "60c1df18-491b-4136-a164-7e349de5d049"
      },
      "source": [
        "index = int(input(\"Enter the index: \"))\n",
        "\n",
        "try:\n",
        "    my_list = [1, 2, 3, 4]\n",
        "    print(my_list[index])\n",
        "except IndexError as ie: # specify the type\n",
        "    print(\"Please enter a valid index.\", ie)\n",
        "else:\n",
        "  print(\"You used a valid index number\")"
      ],
      "execution_count": null,
      "outputs": [
        {
          "output_type": "stream",
          "text": [
            "Enter the index: 4\n",
            "Please enter a valid index. list index out of range\n"
          ],
          "name": "stdout"
        }
      ]
    },
    {
      "cell_type": "code",
      "metadata": {
        "colab": {
          "base_uri": "https://localhost:8080/"
        },
        "id": "bgADvIn5yElc",
        "outputId": "d086b615-ae80-46b4-debd-0983be19a580"
      },
      "source": [
        "index = int(input(\"Enter the index: \"))\n",
        "\n",
        "try:\n",
        "    my_list = [1, 2, 3, 4]\n",
        "    print(my_list[index])\n",
        "except IndexError as ie: # specify the type\n",
        "    print(\"Please enter a valid index.\", ie)\n",
        "else: #Will only run if 'TRY' executes\n",
        "  print(\"You used a valid index number\")"
      ],
      "execution_count": null,
      "outputs": [
        {
          "output_type": "stream",
          "text": [
            "Enter the index: 3\n",
            "4\n",
            "You used a valid index number\n"
          ],
          "name": "stdout"
        }
      ]
    },
    {
      "cell_type": "code",
      "metadata": {
        "colab": {
          "base_uri": "https://localhost:8080/"
        },
        "id": "My1A-h4SyiXB",
        "outputId": "1a2ee282-8b9d-4b21-8036-fb7188893d04"
      },
      "source": [
        "index = int(input(\"Enter the index: \"))\n",
        "\n",
        "try:\n",
        "    my_list = [1, 2, 3, 4]\n",
        "    print(my_list[index])\n",
        "except IndexError as ie: # specify the type\n",
        "    print(\"Please enter a valid index.\", ie)\n",
        "else: #Will only run if 'TRY' executes\n",
        "  print(\"You used a valid index number\")\n",
        "finally: #will run regardless\n",
        "  print(\"End of the program\")"
      ],
      "execution_count": null,
      "outputs": [
        {
          "output_type": "stream",
          "text": [
            "Enter the index: 5\n",
            "Please enter a valid index. list index out of range\n",
            "End of the program\n"
          ],
          "name": "stdout"
        }
      ]
    },
    {
      "cell_type": "code",
      "metadata": {
        "id": "Hwwbt_16yqtD"
      },
      "source": [
        "class Dog:\n",
        "\n",
        "  def __init__(self, name, age):\n",
        "    self.name = name\n",
        "    self.age = age\n",
        "  "
      ],
      "execution_count": null,
      "outputs": []
    },
    {
      "cell_type": "code",
      "metadata": {
        "colab": {
          "base_uri": "https://localhost:8080/"
        },
        "id": "BztFjDao0_jE",
        "outputId": "62d8720f-1479-4204-83cf-336d503dffd1"
      },
      "source": [
        "my_dog = Dog('Kaju', 6) #Creating instance of Dog\n",
        "my_dog"
      ],
      "execution_count": null,
      "outputs": [
        {
          "output_type": "execute_result",
          "data": {
            "text/plain": [
              "<__main__.Dog at 0x7f62cc6d1a90>"
            ]
          },
          "metadata": {
            "tags": []
          },
          "execution_count": 38
        }
      ]
    },
    {
      "cell_type": "code",
      "metadata": {
        "colab": {
          "base_uri": "https://localhost:8080/"
        },
        "id": "zP-TdyRw1EA0",
        "outputId": "3dd4471b-dd51-4891-ab20-1cc90f55f25c"
      },
      "source": [
        "my_dog.name, my_dog.age #Getting attributes (Name and Age are atributes of Class Dog)"
      ],
      "execution_count": null,
      "outputs": [
        {
          "output_type": "execute_result",
          "data": {
            "text/plain": [
              "('Kaju', 6)"
            ]
          },
          "metadata": {
            "tags": []
          },
          "execution_count": 39
        }
      ]
    },
    {
      "cell_type": "code",
      "metadata": {
        "colab": {
          "base_uri": "https://localhost:8080/",
          "height": 35
        },
        "id": "oXtDkojZ1FrP",
        "outputId": "a13ccbe8-517b-481c-9498-46dcfb8feaaa"
      },
      "source": [
        "my_dog.name = 'Gujju' #Updating attribute\n",
        "\n",
        "my_dog.name"
      ],
      "execution_count": null,
      "outputs": [
        {
          "output_type": "execute_result",
          "data": {
            "application/vnd.google.colaboratory.intrinsic+json": {
              "type": "string"
            },
            "text/plain": [
              "'Gujju'"
            ]
          },
          "metadata": {
            "tags": []
          },
          "execution_count": 40
        }
      ]
    },
    {
      "cell_type": "code",
      "metadata": {
        "id": "1ZiFyZp-2IJy"
      },
      "source": [
        "del my_dog.name #Deleting the attribute from instane"
      ],
      "execution_count": null,
      "outputs": []
    },
    {
      "cell_type": "code",
      "metadata": {
        "colab": {
          "base_uri": "https://localhost:8080/"
        },
        "id": "eNa89lT92UR7",
        "outputId": "e7c5cf95-3c26-4b6b-d7e4-a5634cb7da08"
      },
      "source": [
        "my_dog.age"
      ],
      "execution_count": null,
      "outputs": [
        {
          "output_type": "execute_result",
          "data": {
            "text/plain": [
              "6"
            ]
          },
          "metadata": {
            "tags": []
          },
          "execution_count": 44
        }
      ]
    },
    {
      "cell_type": "code",
      "metadata": {
        "colab": {
          "base_uri": "https://localhost:8080/"
        },
        "id": "FZ4uWrhz2VFj",
        "outputId": "57a717a1-320f-4998-cc3f-a4f893ae4cdb"
      },
      "source": [
        "try:\n",
        "  my_dog.name\n",
        "except AttributeError as ae:\n",
        "  print('name attribute is removed from Dog instance my_dog :', ae)"
      ],
      "execution_count": null,
      "outputs": [
        {
          "output_type": "stream",
          "text": [
            "name attribute is removed from Dog instance my_dog : 'Dog' object has no attribute 'name'\n"
          ],
          "name": "stdout"
        }
      ]
    },
    {
      "cell_type": "code",
      "metadata": {
        "id": "JrCqBESI2njD"
      },
      "source": [
        "del my_dog #Deleting the instance"
      ],
      "execution_count": null,
      "outputs": []
    },
    {
      "cell_type": "code",
      "metadata": {
        "colab": {
          "base_uri": "https://localhost:8080/"
        },
        "id": "FR3uQ8h93HSc",
        "outputId": "e7aa7057-f6e4-4b2e-9bfc-f3e433195cf9"
      },
      "source": [
        "try:\n",
        "  my_dog\n",
        "except NameError as ne:\n",
        "  print('instance missing: ', ne)"
      ],
      "execution_count": null,
      "outputs": [
        {
          "output_type": "stream",
          "text": [
            "instance missing:  name 'my_dog' is not defined\n"
          ],
          "name": "stdout"
        }
      ]
    },
    {
      "cell_type": "code",
      "metadata": {
        "id": "HKKtyIQc3NZd"
      },
      "source": [
        "class Dog:\n",
        "\n",
        "  # Class attributes\n",
        "  category = 'Animal'\n",
        "\n",
        "  def __init__(self, name, age):\n",
        "    self.name = name\n",
        "    self.age = age\n",
        "    self.speed = 5\n",
        "  \n",
        "  def bark(self): #Defiing method of class dog\n",
        "    print(f\"My name is {self.name} Woof-Woof. I'm {self.age} years old.\")\n",
        "\n",
        "  def running(self, n):\n",
        "    self.speed += n"
      ],
      "execution_count": null,
      "outputs": []
    },
    {
      "cell_type": "code",
      "metadata": {
        "id": "7bO_V58G65SH"
      },
      "source": [
        "my_dog = Dog('Kaju', 7)"
      ],
      "execution_count": null,
      "outputs": []
    },
    {
      "cell_type": "code",
      "metadata": {
        "colab": {
          "base_uri": "https://localhost:8080/"
        },
        "id": "JAmRxmIK6_Sx",
        "outputId": "33daaa29-3876-4fa8-e05d-59ea328a086d"
      },
      "source": [
        "my_dog.bark()"
      ],
      "execution_count": null,
      "outputs": [
        {
          "output_type": "stream",
          "text": [
            "My name is Kaju Woof-Woof. I'm 7 years old.\n"
          ],
          "name": "stdout"
        }
      ]
    },
    {
      "cell_type": "code",
      "metadata": {
        "id": "KAi5APja7-lX"
      },
      "source": [
        "my_dog.running(5)"
      ],
      "execution_count": null,
      "outputs": []
    },
    {
      "cell_type": "code",
      "metadata": {
        "colab": {
          "base_uri": "https://localhost:8080/"
        },
        "id": "Dot_5K5w8g3m",
        "outputId": "78b40af3-ad20-4748-cc7a-35f1618827be"
      },
      "source": [
        "my_dog.speed"
      ],
      "execution_count": null,
      "outputs": [
        {
          "output_type": "execute_result",
          "data": {
            "text/plain": [
              "10"
            ]
          },
          "metadata": {
            "tags": []
          },
          "execution_count": 77
        }
      ]
    },
    {
      "cell_type": "code",
      "metadata": {
        "colab": {
          "base_uri": "https://localhost:8080/"
        },
        "id": "HTNhEc2s8xYM",
        "outputId": "c08501f7-f31a-4715-df41-b4dab20135c2"
      },
      "source": [
        "words = \"This is my first write program\"\n",
        "\n",
        "word.split()"
      ],
      "execution_count": null,
      "outputs": [
        {
          "output_type": "execute_result",
          "data": {
            "text/plain": [
              "['program']"
            ]
          },
          "metadata": {
            "tags": []
          },
          "execution_count": 132
        }
      ]
    },
    {
      "cell_type": "code",
      "metadata": {
        "id": "U4lhR7oX-bFT"
      },
      "source": [
        "#writing to file\n",
        "with open('first_write_prog.txt', 'w') as file:\n",
        "  for word in words.split():\n",
        "    file.write(word + ' ')"
      ],
      "execution_count": null,
      "outputs": []
    },
    {
      "cell_type": "code",
      "metadata": {
        "colab": {
          "base_uri": "https://localhost:8080/"
        },
        "id": "c9Hz-EqZ-yTG",
        "outputId": "a5229839-abed-47b5-fb6f-2a2764eb56aa"
      },
      "source": [
        "#Reading from file\n",
        "with open('first_write_prog.txt', 'r') as fh:\n",
        "  for line in fh:\n",
        "    print(line)"
      ],
      "execution_count": null,
      "outputs": [
        {
          "output_type": "stream",
          "text": [
            "This is my first write program \n"
          ],
          "name": "stdout"
        }
      ]
    },
    {
      "cell_type": "code",
      "metadata": {
        "id": "PnLR7rP8-2Tz"
      },
      "source": [
        "#Appending the file\n",
        "with open('first_append_prog.txt', 'a') as fh:\n",
        "  for line in words.split():\n",
        "    fh.write(line + \"\\n\")"
      ],
      "execution_count": null,
      "outputs": []
    },
    {
      "cell_type": "code",
      "metadata": {
        "id": "vqUuBaWLBcnV"
      },
      "source": [
        "#Deliting file\n",
        "import os\n",
        "\n",
        "if os.path.exists(\"first_append_prog.txt\"):\n",
        "  os.remove(\"first_append_prog.txt\")\n",
        "else:\n",
        "  print(\"This file doesn't exist\")"
      ],
      "execution_count": null,
      "outputs": []
    },
    {
      "cell_type": "code",
      "metadata": {
        "colab": {
          "base_uri": "https://localhost:8080/"
        },
        "id": "YDz7uYaEhm0N",
        "outputId": "2a03975d-aa5f-45e7-b2a6-9c60ae0eeba9"
      },
      "source": [
        "[chr(i) for i in range(97, 123)]"
      ],
      "execution_count": null,
      "outputs": [
        {
          "output_type": "execute_result",
          "data": {
            "text/plain": [
              "['a',\n",
              " 'b',\n",
              " 'c',\n",
              " 'd',\n",
              " 'e',\n",
              " 'f',\n",
              " 'g',\n",
              " 'h',\n",
              " 'i',\n",
              " 'j',\n",
              " 'k',\n",
              " 'l',\n",
              " 'm',\n",
              " 'n',\n",
              " 'o',\n",
              " 'p',\n",
              " 'q',\n",
              " 'r',\n",
              " 's',\n",
              " 't',\n",
              " 'u',\n",
              " 'v',\n",
              " 'w',\n",
              " 'x',\n",
              " 'y',\n",
              " 'z']"
            ]
          },
          "metadata": {
            "tags": []
          },
          "execution_count": 151
        }
      ]
    },
    {
      "cell_type": "code",
      "metadata": {
        "colab": {
          "base_uri": "https://localhost:8080/"
        },
        "id": "zK4lT6hljoX8",
        "outputId": "dbd9e975-a5a1-4bf3-b438-51221cf77948"
      },
      "source": [
        "list(map(chr, range(97, 123)))"
      ],
      "execution_count": null,
      "outputs": [
        {
          "output_type": "execute_result",
          "data": {
            "text/plain": [
              "['a',\n",
              " 'b',\n",
              " 'c',\n",
              " 'd',\n",
              " 'e',\n",
              " 'f',\n",
              " 'g',\n",
              " 'h',\n",
              " 'i',\n",
              " 'j',\n",
              " 'k',\n",
              " 'l',\n",
              " 'm',\n",
              " 'n',\n",
              " 'o',\n",
              " 'p',\n",
              " 'q',\n",
              " 'r',\n",
              " 's',\n",
              " 't',\n",
              " 'u',\n",
              " 'v',\n",
              " 'w',\n",
              " 'x',\n",
              " 'y',\n",
              " 'z']"
            ]
          },
          "metadata": {
            "tags": []
          },
          "execution_count": 177
        }
      ]
    },
    {
      "cell_type": "code",
      "metadata": {
        "colab": {
          "base_uri": "https://localhost:8080/"
        },
        "id": "upHGZ7YCkttz",
        "outputId": "c36455c7-9f7c-48fe-b7f9-43b7c6913993"
      },
      "source": [
        "print([chr(i) for i in range(97, 123)], end=' ')"
      ],
      "execution_count": null,
      "outputs": [
        {
          "output_type": "stream",
          "text": [
            "['a', 'b', 'c', 'd', 'e', 'f', 'g', 'h', 'i', 'j', 'k', 'l', 'm', 'n', 'o', 'p', 'q', 'r', 's', 't', 'u', 'v', 'w', 'x', 'y', 'z'] "
          ],
          "name": "stdout"
        }
      ]
    },
    {
      "cell_type": "code",
      "metadata": {
        "colab": {
          "base_uri": "https://localhost:8080/"
        },
        "id": "r-tuFM2dlOl6",
        "outputId": "baa34adc-ba57-41e1-dfbb-3e138ab3f997"
      },
      "source": [
        "[(index, val) for index in range(0, 2) for val in range(1, 3)]"
      ],
      "execution_count": null,
      "outputs": [
        {
          "output_type": "execute_result",
          "data": {
            "text/plain": [
              "[(0, 1), (0, 2), (1, 1), (1, 2)]"
            ]
          },
          "metadata": {
            "tags": []
          },
          "execution_count": 170
        }
      ]
    },
    {
      "cell_type": "code",
      "metadata": {
        "colab": {
          "base_uri": "https://localhost:8080/"
        },
        "id": "PEY-FWYmlmQN",
        "outputId": "e1b6ad78-2a87-4eb6-cc0a-4847f7020e62"
      },
      "source": [
        "for i in range(0, 2):\n",
        "  for j in range(1, 3):\n",
        "    print(i, j)"
      ],
      "execution_count": null,
      "outputs": [
        {
          "output_type": "stream",
          "text": [
            "0 1\n",
            "0 2\n",
            "1 1\n",
            "1 2\n"
          ],
          "name": "stdout"
        }
      ]
    },
    {
      "cell_type": "code",
      "metadata": {
        "colab": {
          "base_uri": "https://localhost:8080/"
        },
        "id": "anfP29wFl5oC",
        "outputId": "8f15c0f3-5205-4606-bff0-a0d448477afd"
      },
      "source": [
        "[i + j for i in range(0, 3) for j in range(1, 4)]"
      ],
      "execution_count": null,
      "outputs": [
        {
          "output_type": "execute_result",
          "data": {
            "text/plain": [
              "[1, 2, 3, 2, 3, 4, 3, 4, 5]"
            ]
          },
          "metadata": {
            "tags": []
          },
          "execution_count": 179
        }
      ]
    },
    {
      "cell_type": "code",
      "metadata": {
        "colab": {
          "base_uri": "https://localhost:8080/"
        },
        "id": "YIzTQKQ5nsV3",
        "outputId": "7d45491c-0692-4bae-eb6e-86292df8fa17"
      },
      "source": [
        "{index: index + val for index in range(0, 2) for val in range(1, 3)}"
      ],
      "execution_count": null,
      "outputs": [
        {
          "output_type": "execute_result",
          "data": {
            "text/plain": [
              "{0: 2, 1: 3}"
            ]
          },
          "metadata": {
            "tags": []
          },
          "execution_count": 178
        }
      ]
    },
    {
      "cell_type": "code",
      "metadata": {
        "colab": {
          "base_uri": "https://localhost:8080/"
        },
        "id": "CAgROEqBre7Y",
        "outputId": "381cafad-9cb9-48e8-f9d7-36ef6fc6fc01"
      },
      "source": [
        "#pass students\n",
        "grades = {\"Nora\": 78, \"Gino\": 100, \"Talina\": 56, \"Elizabeth\": 45, \"Lulu\": 67}\n",
        "\n",
        "new = {}\n",
        "\n",
        "for student, grade in grades.items():\n",
        "  if grade > 60:\n",
        "    new.update({student: grade})\n",
        "\n",
        "print(new)"
      ],
      "execution_count": null,
      "outputs": [
        {
          "output_type": "stream",
          "text": [
            "{'Nora': 78, 'Gino': 100, 'Lulu': 67}\n"
          ],
          "name": "stdout"
        }
      ]
    },
    {
      "cell_type": "code",
      "metadata": {
        "colab": {
          "base_uri": "https://localhost:8080/"
        },
        "id": "wQyRIhpZsIh1",
        "outputId": "9642f606-a205-43e6-b944-8c433bfdbf04"
      },
      "source": [
        "grades = {\"Nora\": 78, \"Gino\": 100, \"Talina\": 56, \"Elizabeth\": 45, \"Lulu\": 67}\n",
        "\n",
        "{student: grade for student, grade in grades.items() if grade > 60}"
      ],
      "execution_count": null,
      "outputs": [
        {
          "output_type": "execute_result",
          "data": {
            "text/plain": [
              "{'Gino': 100, 'Lulu': 67, 'Nora': 78}"
            ]
          },
          "metadata": {
            "tags": []
          },
          "execution_count": 189
        }
      ]
    },
    {
      "cell_type": "markdown",
      "metadata": {
        "id": "zrkYpZ1649N3"
      },
      "source": [
        "#Learnpythonorg https://www.learnpython.org"
      ]
    },
    {
      "cell_type": "markdown",
      "metadata": {
        "id": "RG4f9D8sBB-t"
      },
      "source": [
        "##Generators"
      ]
    },
    {
      "cell_type": "code",
      "metadata": {
        "id": "dllq51EQs70H"
      },
      "source": [
        "import random\n",
        "\n",
        "def lottery():\n",
        "  for i in range(6):\n",
        "    yield random.randint(1, 40)\n",
        "\n",
        "  yield random.randint(1, 15)\n"
      ],
      "execution_count": null,
      "outputs": []
    },
    {
      "cell_type": "code",
      "metadata": {
        "colab": {
          "base_uri": "https://localhost:8080/"
        },
        "id": "z08vBdr05cdn",
        "outputId": "09d57d1a-0be9-41a7-867d-cc3aee9c63c9"
      },
      "source": [
        "for random_num in lottery():\n",
        "  print(f'And the next number is... {random_num}')"
      ],
      "execution_count": null,
      "outputs": [
        {
          "output_type": "stream",
          "text": [
            "And the next number is... 3\n",
            "And the next number is... 15\n",
            "And the next number is... 8\n",
            "And the next number is... 19\n",
            "And the next number is... 19\n",
            "And the next number is... 24\n",
            "And the next number is... 13\n"
          ],
          "name": "stdout"
        }
      ]
    },
    {
      "cell_type": "code",
      "metadata": {
        "colab": {
          "base_uri": "https://localhost:8080/"
        },
        "id": "WbRqMQVG6XU2",
        "outputId": "8332d79d-8962-409a-cbf7-4372cd8dc9f4"
      },
      "source": [
        "for random_num in lottery():\n",
        "  print('And the next number is... %d' %random_num)"
      ],
      "execution_count": null,
      "outputs": [
        {
          "output_type": "stream",
          "text": [
            "And the next number is... 6\n",
            "And the next number is... 31\n",
            "And the next number is... 2\n",
            "And the next number is... 35\n",
            "And the next number is... 7\n",
            "And the next number is... 28\n",
            "And the next number is... 6\n"
          ],
          "name": "stdout"
        }
      ]
    },
    {
      "cell_type": "markdown",
      "metadata": {
        "id": "AtrmaAYzBEtd"
      },
      "source": [
        "##Sets"
      ]
    },
    {
      "cell_type": "code",
      "metadata": {
        "id": "XDUJi1Ed6v4R"
      },
      "source": [
        "home_friends = 'Vishal Arash Chintu Ikram'\n",
        "colg_friends = 'Medha,Makhi,Ikram,Neha'"
      ],
      "execution_count": 49,
      "outputs": []
    },
    {
      "cell_type": "code",
      "metadata": {
        "colab": {
          "base_uri": "https://localhost:8080/"
        },
        "id": "58qbVHRu92S4",
        "outputId": "0f01c09f-7220-4e89-e715-1caa93852fcf"
      },
      "source": [
        "home_friends.split()"
      ],
      "execution_count": 50,
      "outputs": [
        {
          "output_type": "execute_result",
          "data": {
            "text/plain": [
              "['Vishal', 'Arash', 'Chintu', 'Ikram']"
            ]
          },
          "metadata": {
            "tags": []
          },
          "execution_count": 50
        }
      ]
    },
    {
      "cell_type": "code",
      "metadata": {
        "colab": {
          "base_uri": "https://localhost:8080/"
        },
        "id": "TBA6LQk699EZ",
        "outputId": "c2ee38ea-f216-49c4-ac81-1f77ee486562"
      },
      "source": [
        "colg_friends.split(',')"
      ],
      "execution_count": 51,
      "outputs": [
        {
          "output_type": "execute_result",
          "data": {
            "text/plain": [
              "['Medha', 'Makhi', 'Ikram', 'Neha']"
            ]
          },
          "metadata": {
            "tags": []
          },
          "execution_count": 51
        }
      ]
    },
    {
      "cell_type": "code",
      "metadata": {
        "id": "OUp5ClS5-hCn"
      },
      "source": [
        "home = set(home_friends.split())\n",
        "colg = set(colg_friends.split(','))"
      ],
      "execution_count": 52,
      "outputs": []
    },
    {
      "cell_type": "code",
      "metadata": {
        "colab": {
          "base_uri": "https://localhost:8080/"
        },
        "id": "vN3kvWZb_n2Y",
        "outputId": "968d4a09-9f09-4994-d146-965aa9edf5d9"
      },
      "source": [
        "home"
      ],
      "execution_count": 53,
      "outputs": [
        {
          "output_type": "execute_result",
          "data": {
            "text/plain": [
              "{'Arash', 'Chintu', 'Ikram', 'Vishal'}"
            ]
          },
          "metadata": {
            "tags": []
          },
          "execution_count": 53
        }
      ]
    },
    {
      "cell_type": "code",
      "metadata": {
        "colab": {
          "base_uri": "https://localhost:8080/"
        },
        "id": "qFBRKNan_9JN",
        "outputId": "e509714e-a4cf-4fd3-f88c-4f3120ff4b6f"
      },
      "source": [
        "colg"
      ],
      "execution_count": 54,
      "outputs": [
        {
          "output_type": "execute_result",
          "data": {
            "text/plain": [
              "{'Ikram', 'Makhi', 'Medha', 'Neha'}"
            ]
          },
          "metadata": {
            "tags": []
          },
          "execution_count": 54
        }
      ]
    },
    {
      "cell_type": "code",
      "metadata": {
        "colab": {
          "base_uri": "https://localhost:8080/"
        },
        "id": "ca-ABdnC_ujK",
        "outputId": "bdce32cc-cf8d-4539-827b-32a0796af57a"
      },
      "source": [
        "print(home.intersection(colg))"
      ],
      "execution_count": 56,
      "outputs": [
        {
          "output_type": "stream",
          "text": [
            "{'Ikram'}\n"
          ],
          "name": "stdout"
        }
      ]
    },
    {
      "cell_type": "code",
      "metadata": {
        "colab": {
          "base_uri": "https://localhost:8080/"
        },
        "id": "UsrcjsdI_2R9",
        "outputId": "bd62878b-ee07-4676-d9c0-2d8df4a1a86c"
      },
      "source": [
        "print(home.symmetric_difference(colg))"
      ],
      "execution_count": 57,
      "outputs": [
        {
          "output_type": "stream",
          "text": [
            "{'Neha', 'Chintu', 'Medha', 'Arash', 'Makhi', 'Vishal'}\n"
          ],
          "name": "stdout"
        }
      ]
    },
    {
      "cell_type": "code",
      "metadata": {
        "colab": {
          "base_uri": "https://localhost:8080/"
        },
        "id": "xu4kTHM5AQtp",
        "outputId": "d368fe73-d9e6-4daf-d93d-683b0faedbcc"
      },
      "source": [
        "print(home.difference(colg))"
      ],
      "execution_count": 59,
      "outputs": [
        {
          "output_type": "stream",
          "text": [
            "{'Arash', 'Chintu', 'Vishal'}\n"
          ],
          "name": "stdout"
        }
      ]
    },
    {
      "cell_type": "code",
      "metadata": {
        "colab": {
          "base_uri": "https://localhost:8080/"
        },
        "id": "HzANg-NFAc22",
        "outputId": "e6839c5d-5dc3-4ac8-f3dd-7eb176951417"
      },
      "source": [
        "print(home.union(colg))"
      ],
      "execution_count": 60,
      "outputs": [
        {
          "output_type": "stream",
          "text": [
            "{'Ikram', 'Chintu', 'Neha', 'Arash', 'Medha', 'Makhi', 'Vishal'}\n"
          ],
          "name": "stdout"
        }
      ]
    },
    {
      "cell_type": "markdown",
      "metadata": {
        "id": "QTCMP9DPBICf"
      },
      "source": [
        "##Partial Function"
      ]
    },
    {
      "cell_type": "code",
      "metadata": {
        "id": "3ozDvJhWDhZb"
      },
      "source": [
        "from functools import partial"
      ],
      "execution_count": 61,
      "outputs": []
    },
    {
      "cell_type": "code",
      "metadata": {
        "id": "-cgvzb96DoYE"
      },
      "source": [
        "def add(x, y):\n",
        "  return x + y"
      ],
      "execution_count": 62,
      "outputs": []
    },
    {
      "cell_type": "code",
      "metadata": {
        "id": "EmxJoZQcDwGc"
      },
      "source": [
        "new_par = partial(add, 3) #3 will replace x in add()"
      ],
      "execution_count": 66,
      "outputs": []
    },
    {
      "cell_type": "code",
      "metadata": {
        "colab": {
          "base_uri": "https://localhost:8080/"
        },
        "id": "AHTJJa4NDy7W",
        "outputId": "c39ab7fc-abc4-4496-daa3-d8992801815e"
      },
      "source": [
        "new_par(2)"
      ],
      "execution_count": 67,
      "outputs": [
        {
          "output_type": "execute_result",
          "data": {
            "text/plain": [
              "5"
            ]
          },
          "metadata": {
            "tags": []
          },
          "execution_count": 67
        }
      ]
    },
    {
      "cell_type": "code",
      "metadata": {
        "id": "88ZdQxISD2H-"
      },
      "source": [
        "def add3(x, y, z):\n",
        "  return x + y + z"
      ],
      "execution_count": 68,
      "outputs": []
    },
    {
      "cell_type": "code",
      "metadata": {
        "id": "PZJwqva1ElEI"
      },
      "source": [
        "new_par_3 = partial(add3, 3, 2)"
      ],
      "execution_count": 72,
      "outputs": []
    },
    {
      "cell_type": "code",
      "metadata": {
        "colab": {
          "base_uri": "https://localhost:8080/"
        },
        "id": "Chdd5tQmErOh",
        "outputId": "d9e6612d-1545-4818-9e85-814642dc5aed"
      },
      "source": [
        "new_par_3(0)"
      ],
      "execution_count": 74,
      "outputs": [
        {
          "output_type": "execute_result",
          "data": {
            "text/plain": [
              "5"
            ]
          },
          "metadata": {
            "tags": []
          },
          "execution_count": 74
        }
      ]
    },
    {
      "cell_type": "code",
      "metadata": {
        "colab": {
          "base_uri": "https://localhost:8080/"
        },
        "id": "gRrs0xnbE6hL",
        "outputId": "aca6fb94-e8b1-4d3b-92cc-dab2323e146c"
      },
      "source": [
        "#Following is the exercise, function provided:\n",
        "from functools import partial\n",
        "def func(u,v,w,x):\n",
        "    return u*4 + v*3 + w*2 + x\n",
        "#Enter your code here to create and print with your partial function\n",
        "new_par = partial(func, 3, 4, 12)\n",
        "\n",
        "print(new_par(12))"
      ],
      "execution_count": 76,
      "outputs": [
        {
          "output_type": "stream",
          "text": [
            "60\n"
          ],
          "name": "stdout"
        }
      ]
    },
    {
      "cell_type": "code",
      "metadata": {
        "colab": {
          "base_uri": "https://localhost:8080/"
        },
        "id": "3zMxOIYwGo-v",
        "outputId": "8864b52c-86cc-4d53-bf77-05801a360b9e"
      },
      "source": [
        "def print_msg(number):\n",
        "    def printer():\n",
        "        \"Here we are using the nonlocal keyword\"\n",
        "        nonlocal number\n",
        "        number=3\n",
        "        print(number)\n",
        "    printer()\n",
        "    print(number)\n",
        "\n",
        "print_msg(9)"
      ],
      "execution_count": 83,
      "outputs": [
        {
          "output_type": "stream",
          "text": [
            "3\n",
            "3\n"
          ],
          "name": "stdout"
        }
      ]
    },
    {
      "cell_type": "code",
      "metadata": {
        "colab": {
          "base_uri": "https://localhost:8080/"
        },
        "id": "uNi3N7wUHHZ1",
        "outputId": "4955e827-7c18-4b72-b213-fe7409a7c35b"
      },
      "source": [
        "lambda x, y: x ** y"
      ],
      "execution_count": 90,
      "outputs": [
        {
          "output_type": "execute_result",
          "data": {
            "text/plain": [
              "<function __main__.<lambda>>"
            ]
          },
          "metadata": {
            "tags": []
          },
          "execution_count": 90
        }
      ]
    },
    {
      "cell_type": "code",
      "metadata": {
        "colab": {
          "base_uri": "https://localhost:8080/"
        },
        "id": "6wmJQnmAIVOl",
        "outputId": "bfd34051-9c73-484b-c830-868da04d758c"
      },
      "source": [
        "raise_to(2, 3)"
      ],
      "execution_count": 91,
      "outputs": [
        {
          "output_type": "execute_result",
          "data": {
            "text/plain": [
              "8"
            ]
          },
          "metadata": {
            "tags": []
          },
          "execution_count": 91
        }
      ]
    },
    {
      "cell_type": "markdown",
      "metadata": {
        "id": "ueOqpNOAKm6S"
      },
      "source": [
        "##Map, Reduece, Filter"
      ]
    },
    {
      "cell_type": "code",
      "metadata": {
        "colab": {
          "base_uri": "https://localhost:8080/"
        },
        "id": "Gcvm1LISIaOW",
        "outputId": "672352e6-68e1-4d86-85db-0b3d410bfef6"
      },
      "source": [
        "my_pets = ['alfred', 'tabitha', 'william', 'arla']\n",
        "\n",
        "upper_pets = set(map(str.upper, my_pets))\n",
        "\n",
        "print(upper_pets)"
      ],
      "execution_count": 92,
      "outputs": [
        {
          "output_type": "stream",
          "text": [
            "{'ALFRED', 'ARLA', 'TABITHA', 'WILLIAM'}\n"
          ],
          "name": "stdout"
        }
      ]
    },
    {
      "cell_type": "code",
      "metadata": {
        "id": "hjGO6cqzK_B-"
      },
      "source": [
        ""
      ],
      "execution_count": null,
      "outputs": []
    }
  ]
}