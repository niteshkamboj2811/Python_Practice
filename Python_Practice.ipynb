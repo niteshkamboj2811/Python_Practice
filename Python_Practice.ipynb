{
  "nbformat": 4,
  "nbformat_minor": 0,
  "metadata": {
    "colab": {
      "name": "Python Practice.ipynb",
      "provenance": [],
      "collapsed_sections": [],
      "authorship_tag": "ABX9TyN8QGsnZeIJIGDct+rd1jeD",
      "include_colab_link": true
    },
    "kernelspec": {
      "name": "python3",
      "display_name": "Python 3"
    },
    "language_info": {
      "name": "python"
    }
  },
  "cells": [
    {
      "cell_type": "markdown",
      "metadata": {
        "id": "view-in-github",
        "colab_type": "text"
      },
      "source": [
        "<a href=\"https://colab.research.google.com/github/niteshkamboj2811/Python_Practice/blob/main/Python_Practice.ipynb\" target=\"_parent\"><img src=\"https://colab.research.google.com/assets/colab-badge.svg\" alt=\"Open In Colab\"/></a>"
      ]
    },
    {
      "cell_type": "code",
      "metadata": {
        "colab": {
          "base_uri": "https://localhost:8080/"
        },
        "id": "kcWBo6KfxECn",
        "outputId": "d6bfd2ee-c0e2-4e01-b3a2-2461a84fff9c"
      },
      "source": [
        "print('First Print')"
      ],
      "execution_count": null,
      "outputs": [
        {
          "output_type": "stream",
          "text": [
            "First Print\n"
          ],
          "name": "stdout"
        }
      ]
    },
    {
      "cell_type": "code",
      "metadata": {
        "id": "Ju2GkJspxwyG"
      },
      "source": [
        "text = 'First Print'"
      ],
      "execution_count": null,
      "outputs": []
    },
    {
      "cell_type": "code",
      "metadata": {
        "colab": {
          "base_uri": "https://localhost:8080/",
          "height": 34
        },
        "id": "srZWh1ttypLb",
        "outputId": "9af4a33f-c626-4ae9-8de2-add9dec7e01e"
      },
      "source": [
        "text[0:2] + text[3:]"
      ],
      "execution_count": null,
      "outputs": [
        {
          "output_type": "execute_result",
          "data": {
            "application/vnd.google.colaboratory.intrinsic+json": {
              "type": "string"
            },
            "text/plain": [
              "'Fist Print'"
            ]
          },
          "metadata": {
            "tags": []
          },
          "execution_count": 4
        }
      ]
    },
    {
      "cell_type": "code",
      "metadata": {
        "id": "VFLkAaiNys78"
      },
      "source": [
        "fn, ln = 'Nitesh', 'Kamboj'"
      ],
      "execution_count": null,
      "outputs": []
    },
    {
      "cell_type": "code",
      "metadata": {
        "colab": {
          "base_uri": "https://localhost:8080/"
        },
        "id": "EnooNeN_DpKI",
        "outputId": "cac9c577-2bbd-42e6-d3a8-9eacba9948ee"
      },
      "source": [
        "print(f'First Name: {fn} \\nLast Name:    {ln}')"
      ],
      "execution_count": null,
      "outputs": [
        {
          "output_type": "stream",
          "text": [
            "First Name: Nitesh \n",
            "Last Name:    Kamboj\n"
          ],
          "name": "stdout"
        }
      ]
    },
    {
      "cell_type": "code",
      "metadata": {
        "id": "WWQODYW7D3J-"
      },
      "source": [
        "num, exp = 4, 3"
      ],
      "execution_count": null,
      "outputs": []
    },
    {
      "cell_type": "code",
      "metadata": {
        "colab": {
          "base_uri": "https://localhost:8080/"
        },
        "id": "7tdtV_LIEZi2",
        "outputId": "1490cb47-6a75-478e-8274-df68c2785d89"
      },
      "source": [
        "print(f'Number: {num} and {exp} is the power. \\nThe result is {num ** exp}')"
      ],
      "execution_count": null,
      "outputs": [
        {
          "output_type": "stream",
          "text": [
            "Number: 4 and 3 is the power. \n",
            "The result is 64\n"
          ],
          "name": "stdout"
        }
      ]
    },
    {
      "cell_type": "code",
      "metadata": {
        "id": "c7L5Vpg6EkJE"
      },
      "source": [
        "#caling function inside fstrin\n",
        "\n",
        "text = 'NITESH KAMBOJ nitesh'"
      ],
      "execution_count": null,
      "outputs": []
    },
    {
      "cell_type": "code",
      "metadata": {
        "colab": {
          "base_uri": "https://localhost:8080/"
        },
        "id": "M4keUb5nEzch",
        "outputId": "de2d2f34-e9c9-430e-b490-acbe6eef820c"
      },
      "source": [
        "print(f'lower function = {text.lower()} \\n')\n",
        "print(f'capitalize function = {text.capitalize()} \\n')\n",
        "print(f'first index = {text.index(\"N\")} \\n')\n",
        "print(f'first index = {text.lower().find(\"a\")} \\n')"
      ],
      "execution_count": null,
      "outputs": [
        {
          "output_type": "stream",
          "text": [
            "lower function = nitesh kamboj nitesh \n",
            "\n",
            "capitalize function = Nitesh kamboj nitesh \n",
            "\n",
            "first index = 0 \n",
            "\n",
            "first index = 8 \n",
            "\n"
          ],
          "name": "stdout"
        }
      ]
    },
    {
      "cell_type": "code",
      "metadata": {
        "id": "4yNsu-94Gcku"
      },
      "source": [
        ""
      ],
      "execution_count": null,
      "outputs": []
    }
  ]
}