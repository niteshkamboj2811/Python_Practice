{
  "nbformat": 4,
  "nbformat_minor": 0,
  "metadata": {
    "colab": {
      "name": "Strategy & Analytics Assignment.ipynb",
      "provenance": [],
      "collapsed_sections": [],
      "mount_file_id": "1R6cIfM4PI5tpv2HyREKE393LnCnjE1-d",
      "authorship_tag": "ABX9TyPUleZhuST/9da0jsUtU1//",
      "include_colab_link": true
    },
    "kernelspec": {
      "name": "python3",
      "display_name": "Python 3"
    },
    "language_info": {
      "name": "python"
    }
  },
  "cells": [
    {
      "cell_type": "markdown",
      "metadata": {
        "id": "view-in-github",
        "colab_type": "text"
      },
      "source": [
        "<a href=\"https://colab.research.google.com/github/niteshkamboj2811/Python_Practice/blob/main/Strategy_%26_Analytics_Assignment.ipynb\" target=\"_parent\"><img src=\"https://colab.research.google.com/assets/colab-badge.svg\" alt=\"Open In Colab\"/></a>"
      ]
    },
    {
      "cell_type": "markdown",
      "metadata": {
        "id": "PT92oXFhAKGK"
      },
      "source": [
        "##Preparing environment\n"
      ]
    },
    {
      "cell_type": "code",
      "metadata": {
        "colab": {
          "base_uri": "https://localhost:8080/"
        },
        "id": "rYdd12_YWJzt",
        "outputId": "a3a8e7f2-8380-408d-f034-d290e74201f3"
      },
      "source": [
        "#upgrading SQLite\n",
        "\"\"\"This step is necessary as default sqlite3 is version 3.22 in google colab which has a limitations to running window funtions\"\"\"\n",
        "#Stackoverflow article: https://stackoverflow.com/questions/62735105/sqlite-window-function-not-running-in-google-colab-notebook\n",
        "\n",
        "!gdown --id 1BSHIKQ7rFw5BpTq5nw1UZfjPK_7Mpnbi\n",
        "!mv _sqlite3.cpython-37m-x86_64-linux-gnu.so /usr/lib/python3.7/lib-dynload/"
      ],
      "execution_count": 4,
      "outputs": [
        {
          "output_type": "stream",
          "text": [
            "Downloading...\n",
            "From: https://drive.google.com/uc?id=1BSHIKQ7rFw5BpTq5nw1UZfjPK_7Mpnbi\n",
            "To: /content/_sqlite3.cpython-37m-x86_64-linux-gnu.so\n",
            "\r0.00B [00:00, ?B/s]\r6.23MB [00:00, 97.4MB/s]\n"
          ],
          "name": "stdout"
        }
      ]
    },
    {
      "cell_type": "code",
      "metadata": {
        "id": "0qE7wMLRWimF"
      },
      "source": [
        "# MENU: Runtime > Restart runtime\n",
        "#OR\n",
        "import os\n",
        "os._exit(00)"
      ],
      "execution_count": null,
      "outputs": []
    },
    {
      "cell_type": "code",
      "metadata": {
        "colab": {
          "base_uri": "https://localhost:8080/"
        },
        "id": "MsfxtQbGgitK",
        "outputId": "93924978-551b-4a8f-d090-c2cc5abb5853"
      },
      "source": [
        "pip install csv-to-sqlite #To load csv into sqlite3"
      ],
      "execution_count": 7,
      "outputs": [
        {
          "output_type": "stream",
          "text": [
            "Requirement already satisfied: csv-to-sqlite in /usr/local/lib/python3.7/dist-packages (2.1.1)\n",
            "Requirement already satisfied: click in /usr/local/lib/python3.7/dist-packages (from csv-to-sqlite) (7.1.2)\n"
          ],
          "name": "stdout"
        }
      ]
    },
    {
      "cell_type": "code",
      "metadata": {
        "colab": {
          "base_uri": "https://localhost:8080/",
          "height": 35
        },
        "id": "gAzbRoVKWu8-",
        "outputId": "7cf1b8b6-f65e-49fe-c594-5efbe619b59a"
      },
      "source": [
        "import csv_to_sqlite\n",
        "import pandas as pd\n",
        "import sqlite3\n",
        "sqlite3.sqlite_version  # '3.34.1'"
      ],
      "execution_count": 8,
      "outputs": [
        {
          "output_type": "execute_result",
          "data": {
            "application/vnd.google.colaboratory.intrinsic+json": {
              "type": "string"
            },
            "text/plain": [
              "'3.34.1'"
            ]
          },
          "metadata": {
            "tags": []
          },
          "execution_count": 8
        }
      ]
    },
    {
      "cell_type": "markdown",
      "metadata": {
        "id": "Pm_kzWWZWMTn"
      },
      "source": [
        "#Loading subscriptions.csv and visits.csv into a db"
      ]
    },
    {
      "cell_type": "code",
      "metadata": {
        "colab": {
          "resources": {
            "http://localhost:8080/nbextensions/google.colab/files.js": {
              "data": "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",
              "ok": true,
              "headers": [
                [
                  "content-type",
                  "application/javascript"
                ]
              ],
              "status": 200,
              "status_text": ""
            }
          },
          "base_uri": "https://localhost:8080/",
          "height": 72
        },
        "id": "FrJzLyolFOGH",
        "outputId": "32a2120b-5a38-4de2-d40e-804b4f73f5cc"
      },
      "source": [
        "#Please upload the \"subscriptions.csv\"\n",
        "from google.colab import files\n",
        "subscriptions_csv = files.upload()"
      ],
      "execution_count": 1,
      "outputs": [
        {
          "output_type": "display_data",
          "data": {
            "text/html": [
              "\n",
              "     <input type=\"file\" id=\"files-1a4a0acc-7625-49cf-8eb6-d8788a5caa71\" name=\"files[]\" multiple disabled\n",
              "        style=\"border:none\" />\n",
              "     <output id=\"result-1a4a0acc-7625-49cf-8eb6-d8788a5caa71\">\n",
              "      Upload widget is only available when the cell has been executed in the\n",
              "      current browser session. Please rerun this cell to enable.\n",
              "      </output>\n",
              "      <script src=\"/nbextensions/google.colab/files.js\"></script> "
            ],
            "text/plain": [
              "<IPython.core.display.HTML object>"
            ]
          },
          "metadata": {
            "tags": []
          }
        },
        {
          "output_type": "stream",
          "text": [
            "Saving subscriptions.csv to subscriptions.csv\n"
          ],
          "name": "stdout"
        }
      ]
    },
    {
      "cell_type": "code",
      "metadata": {
        "colab": {
          "resources": {
            "http://localhost:8080/nbextensions/google.colab/files.js": {
              "data": "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",
              "ok": true,
              "headers": [
                [
                  "content-type",
                  "application/javascript"
                ]
              ],
              "status": 200,
              "status_text": ""
            }
          },
          "base_uri": "https://localhost:8080/",
          "height": 72
        },
        "id": "IMJoDggQFY8s",
        "outputId": "5755716f-bac3-4047-fdd8-dc5c5e92c950"
      },
      "source": [
        "#Please upload the \"visits.csv\"\n",
        "from google.colab import files\n",
        "visits_csv = files.upload()"
      ],
      "execution_count": 2,
      "outputs": [
        {
          "output_type": "display_data",
          "data": {
            "text/html": [
              "\n",
              "     <input type=\"file\" id=\"files-6101721d-3dbf-4ebe-86d5-0a979f017b71\" name=\"files[]\" multiple disabled\n",
              "        style=\"border:none\" />\n",
              "     <output id=\"result-6101721d-3dbf-4ebe-86d5-0a979f017b71\">\n",
              "      Upload widget is only available when the cell has been executed in the\n",
              "      current browser session. Please rerun this cell to enable.\n",
              "      </output>\n",
              "      <script src=\"/nbextensions/google.colab/files.js\"></script> "
            ],
            "text/plain": [
              "<IPython.core.display.HTML object>"
            ]
          },
          "metadata": {
            "tags": []
          }
        },
        {
          "output_type": "stream",
          "text": [
            "Saving visits.csv to visits.csv\n"
          ],
          "name": "stdout"
        }
      ]
    },
    {
      "cell_type": "code",
      "metadata": {
        "colab": {
          "base_uri": "https://localhost:8080/"
        },
        "id": "D-YZA_y6Eo58",
        "outputId": "e574794e-a523-4339-9e2d-68d329b3f6d0"
      },
      "source": [
        "#Writing \"subscriptions.csv\" and \"visits.csv\" into tables\n",
        "options = csv_to_sqlite.CsvOptions(typing_style=\"full\", encoding=\"windows-1250\") \n",
        "input_files = [\"subscriptions.csv\", \"visits.csv\"]\n",
        "csv_to_sqlite.write_csv(input_files, \"output.sqlite\", options)"
      ],
      "execution_count": 9,
      "outputs": [
        {
          "output_type": "stream",
          "text": [
            "Written 61316 rows into 2 tables in 0.507 seconds\n"
          ],
          "name": "stdout"
        },
        {
          "output_type": "execute_result",
          "data": {
            "text/plain": [
              "61316"
            ]
          },
          "metadata": {
            "tags": []
          },
          "execution_count": 9
        }
      ]
    },
    {
      "cell_type": "code",
      "metadata": {
        "id": "RLo-WLCGIijc"
      },
      "source": [
        "#Creating engine\n",
        "con=sqlite3.connect('output.sqlite')"
      ],
      "execution_count": 10,
      "outputs": []
    },
    {
      "cell_type": "markdown",
      "metadata": {
        "id": "BsUIItNcF2lN"
      },
      "source": [
        "#Exploring the data"
      ]
    },
    {
      "cell_type": "code",
      "metadata": {
        "colab": {
          "base_uri": "https://localhost:8080/",
          "height": 359
        },
        "id": "-mgFpMLYGDWn",
        "outputId": "e66e1452-118f-4661-c534-ebf0170e8688"
      },
      "source": [
        "pd.read_sql_query(\"\"\"SELECT *\n",
        "  FROM subscriptions\n",
        " LIMIT 10;\"\"\",con)"
      ],
      "execution_count": 11,
      "outputs": [
        {
          "output_type": "execute_result",
          "data": {
            "text/html": [
              "<div>\n",
              "<style scoped>\n",
              "    .dataframe tbody tr th:only-of-type {\n",
              "        vertical-align: middle;\n",
              "    }\n",
              "\n",
              "    .dataframe tbody tr th {\n",
              "        vertical-align: top;\n",
              "    }\n",
              "\n",
              "    .dataframe thead th {\n",
              "        text-align: right;\n",
              "    }\n",
              "</style>\n",
              "<table border=\"1\" class=\"dataframe\">\n",
              "  <thead>\n",
              "    <tr style=\"text-align: right;\">\n",
              "      <th></th>\n",
              "      <th>subscription_id</th>\n",
              "      <th>account_id</th>\n",
              "      <th>subscription_start_date</th>\n",
              "      <th>subscription_end_date</th>\n",
              "      <th>trial_start_date</th>\n",
              "      <th>trial_end_date</th>\n",
              "      <th>revenue</th>\n",
              "    </tr>\n",
              "  </thead>\n",
              "  <tbody>\n",
              "    <tr>\n",
              "      <th>0</th>\n",
              "      <td>96d87f27-c4e3-401e-9efd-795834b12e1b</td>\n",
              "      <td>914fddea-7a72-4712-82dd-5b4590f9b670</td>\n",
              "      <td>2019-01-08</td>\n",
              "      <td>2020-01-08</td>\n",
              "      <td>2019-01-01</td>\n",
              "      <td>2019-01-08</td>\n",
              "      <td>1016.28</td>\n",
              "    </tr>\n",
              "    <tr>\n",
              "      <th>1</th>\n",
              "      <td>91838d2f-5cc1-448c-95d2-05dce13f0090</td>\n",
              "      <td>7e6ccf6b-16e1-4ea1-9057-ead81ac1cedd</td>\n",
              "      <td>2019-01-01</td>\n",
              "      <td>2020-01-01</td>\n",
              "      <td></td>\n",
              "      <td></td>\n",
              "      <td>755.67</td>\n",
              "    </tr>\n",
              "    <tr>\n",
              "      <th>2</th>\n",
              "      <td>7cb08fd7-9440-4a17-9cbd-674954d9b1c5</td>\n",
              "      <td>f7b65b83-2e33-4926-b36a-f37fead86623</td>\n",
              "      <td>2019-01-01</td>\n",
              "      <td>2020-01-01</td>\n",
              "      <td></td>\n",
              "      <td></td>\n",
              "      <td>999.89</td>\n",
              "    </tr>\n",
              "    <tr>\n",
              "      <th>3</th>\n",
              "      <td>ab2b038d-e56c-4102-8662-dedbff889235</td>\n",
              "      <td>f9b33d91-66d1-485c-8c6e-d27bdb46d605</td>\n",
              "      <td>2019-01-08</td>\n",
              "      <td>2020-01-08</td>\n",
              "      <td>2019-01-01</td>\n",
              "      <td>2019-01-08</td>\n",
              "      <td>971.82</td>\n",
              "    </tr>\n",
              "    <tr>\n",
              "      <th>4</th>\n",
              "      <td>183c7790-06fb-40f8-acf4-f3c78db265fd</td>\n",
              "      <td>c5124861-4163-409d-a419-c87681537371</td>\n",
              "      <td>2019-01-02</td>\n",
              "      <td>2020-01-02</td>\n",
              "      <td></td>\n",
              "      <td></td>\n",
              "      <td>1280.93</td>\n",
              "    </tr>\n",
              "    <tr>\n",
              "      <th>5</th>\n",
              "      <td>0adab5fa-ec35-4e1e-9da5-70bd45d684f6</td>\n",
              "      <td>c0463e2b-ca34-4f2c-b50f-a418df8923de</td>\n",
              "      <td></td>\n",
              "      <td></td>\n",
              "      <td>2019-01-02</td>\n",
              "      <td>2019-01-09</td>\n",
              "      <td></td>\n",
              "    </tr>\n",
              "    <tr>\n",
              "      <th>6</th>\n",
              "      <td>73f54f57-d366-43e0-8408-785332db207b</td>\n",
              "      <td>70840455-af47-4816-8792-6c7b8d18fb23</td>\n",
              "      <td>2019-01-02</td>\n",
              "      <td>2020-01-02</td>\n",
              "      <td></td>\n",
              "      <td></td>\n",
              "      <td>905.53</td>\n",
              "    </tr>\n",
              "    <tr>\n",
              "      <th>7</th>\n",
              "      <td>ece4a01a-9a96-4bee-9006-577405adc05e</td>\n",
              "      <td>f69dca85-131e-45a5-802a-8c197f0b1137</td>\n",
              "      <td></td>\n",
              "      <td></td>\n",
              "      <td>2019-01-02</td>\n",
              "      <td>2019-01-09</td>\n",
              "      <td></td>\n",
              "    </tr>\n",
              "    <tr>\n",
              "      <th>8</th>\n",
              "      <td>6549855e-bc71-4f3f-abfc-2f6cd626e0b7</td>\n",
              "      <td>b25c453e-04e7-45f3-9279-289c1ff2e805</td>\n",
              "      <td>2019-01-02</td>\n",
              "      <td>2020-01-02</td>\n",
              "      <td></td>\n",
              "      <td></td>\n",
              "      <td>1198.34</td>\n",
              "    </tr>\n",
              "    <tr>\n",
              "      <th>9</th>\n",
              "      <td>21da15c6-bd98-44ad-9e55-ba43c7e640ae</td>\n",
              "      <td>eb185350-ba04-4913-b78c-7f0672cdf34f</td>\n",
              "      <td>2019-01-10</td>\n",
              "      <td>2020-01-10</td>\n",
              "      <td>2019-01-03</td>\n",
              "      <td>2019-01-10</td>\n",
              "      <td>1198.38</td>\n",
              "    </tr>\n",
              "  </tbody>\n",
              "</table>\n",
              "</div>"
            ],
            "text/plain": [
              "                        subscription_id  ...  revenue\n",
              "0  96d87f27-c4e3-401e-9efd-795834b12e1b  ...  1016.28\n",
              "1  91838d2f-5cc1-448c-95d2-05dce13f0090  ...   755.67\n",
              "2  7cb08fd7-9440-4a17-9cbd-674954d9b1c5  ...   999.89\n",
              "3  ab2b038d-e56c-4102-8662-dedbff889235  ...   971.82\n",
              "4  183c7790-06fb-40f8-acf4-f3c78db265fd  ...  1280.93\n",
              "5  0adab5fa-ec35-4e1e-9da5-70bd45d684f6  ...         \n",
              "6  73f54f57-d366-43e0-8408-785332db207b  ...   905.53\n",
              "7  ece4a01a-9a96-4bee-9006-577405adc05e  ...         \n",
              "8  6549855e-bc71-4f3f-abfc-2f6cd626e0b7  ...  1198.34\n",
              "9  21da15c6-bd98-44ad-9e55-ba43c7e640ae  ...  1198.38\n",
              "\n",
              "[10 rows x 7 columns]"
            ]
          },
          "metadata": {
            "tags": []
          },
          "execution_count": 11
        }
      ]
    },
    {
      "cell_type": "code",
      "metadata": {
        "colab": {
          "base_uri": "https://localhost:8080/",
          "height": 359
        },
        "id": "EuLwAgDyJ5hA",
        "outputId": "4e3c3b63-7dae-474a-b462-b10833369c08"
      },
      "source": [
        "pd.read_sql_query(\"\"\"SELECT * \n",
        "  FROM visits\n",
        " LIMIT 10;\"\"\",con)"
      ],
      "execution_count": 12,
      "outputs": [
        {
          "output_type": "execute_result",
          "data": {
            "text/html": [
              "<div>\n",
              "<style scoped>\n",
              "    .dataframe tbody tr th:only-of-type {\n",
              "        vertical-align: middle;\n",
              "    }\n",
              "\n",
              "    .dataframe tbody tr th {\n",
              "        vertical-align: top;\n",
              "    }\n",
              "\n",
              "    .dataframe thead th {\n",
              "        text-align: right;\n",
              "    }\n",
              "</style>\n",
              "<table border=\"1\" class=\"dataframe\">\n",
              "  <thead>\n",
              "    <tr style=\"text-align: right;\">\n",
              "      <th></th>\n",
              "      <th>visit_id</th>\n",
              "      <th>account_id</th>\n",
              "      <th>day</th>\n",
              "      <th>region</th>\n",
              "      <th>language</th>\n",
              "      <th>channel</th>\n",
              "      <th>landing_page</th>\n",
              "    </tr>\n",
              "  </thead>\n",
              "  <tbody>\n",
              "    <tr>\n",
              "      <th>0</th>\n",
              "      <td>4b987205-5da4-403c-b7d4-b952db264794</td>\n",
              "      <td>914fddea-7a72-4712-82dd-5b4590f9b670</td>\n",
              "      <td>2019-01-01</td>\n",
              "      <td>US/Canada</td>\n",
              "      <td>English</td>\n",
              "      <td>video</td>\n",
              "      <td>A</td>\n",
              "    </tr>\n",
              "    <tr>\n",
              "      <th>1</th>\n",
              "      <td>93d005cd-2990-4432-ae98-bd11c9c28f63</td>\n",
              "      <td>7e6ccf6b-16e1-4ea1-9057-ead81ac1cedd</td>\n",
              "      <td>2019-01-01</td>\n",
              "      <td>US/Canada</td>\n",
              "      <td>English</td>\n",
              "      <td>organic search</td>\n",
              "      <td>G</td>\n",
              "    </tr>\n",
              "    <tr>\n",
              "      <th>2</th>\n",
              "      <td>0ec30176-7401-480c-8630-92da7e020a54</td>\n",
              "      <td></td>\n",
              "      <td>2019-01-01</td>\n",
              "      <td>US/Canada</td>\n",
              "      <td>English</td>\n",
              "      <td>organic search</td>\n",
              "      <td>E</td>\n",
              "    </tr>\n",
              "    <tr>\n",
              "      <th>3</th>\n",
              "      <td>4374d20b-d6bc-4b76-9fc8-a07847af79f9</td>\n",
              "      <td></td>\n",
              "      <td>2019-01-01</td>\n",
              "      <td>US/Canada</td>\n",
              "      <td>English</td>\n",
              "      <td>organic search</td>\n",
              "      <td>G</td>\n",
              "    </tr>\n",
              "    <tr>\n",
              "      <th>4</th>\n",
              "      <td>f64662d1-ce3f-427a-b175-55d54c123c72</td>\n",
              "      <td></td>\n",
              "      <td>2019-01-01</td>\n",
              "      <td>US/Canada</td>\n",
              "      <td>Spanish</td>\n",
              "      <td>organic search</td>\n",
              "      <td>E</td>\n",
              "    </tr>\n",
              "    <tr>\n",
              "      <th>5</th>\n",
              "      <td>eb594d0b-80ec-44fe-97a5-85afac3931a9</td>\n",
              "      <td></td>\n",
              "      <td>2019-01-01</td>\n",
              "      <td>US/Canada</td>\n",
              "      <td>English</td>\n",
              "      <td>organic search</td>\n",
              "      <td>D</td>\n",
              "    </tr>\n",
              "    <tr>\n",
              "      <th>6</th>\n",
              "      <td>d1dc5275-90f9-4578-810d-73791925482e</td>\n",
              "      <td></td>\n",
              "      <td>2019-01-01</td>\n",
              "      <td>US/Canada</td>\n",
              "      <td>English</td>\n",
              "      <td>organic search</td>\n",
              "      <td>J</td>\n",
              "    </tr>\n",
              "    <tr>\n",
              "      <th>7</th>\n",
              "      <td>d2bd6d7a-0f61-4323-8bbc-1e934a7368fd</td>\n",
              "      <td>f7b65b83-2e33-4926-b36a-f37fead86623</td>\n",
              "      <td>2019-01-01</td>\n",
              "      <td>US/Canada</td>\n",
              "      <td>English</td>\n",
              "      <td>organic search</td>\n",
              "      <td>H</td>\n",
              "    </tr>\n",
              "    <tr>\n",
              "      <th>8</th>\n",
              "      <td>83674a56-2bc3-47ed-95ee-598ee782d333</td>\n",
              "      <td>f9b33d91-66d1-485c-8c6e-d27bdb46d605</td>\n",
              "      <td>2019-01-01</td>\n",
              "      <td>US/Canada</td>\n",
              "      <td>English</td>\n",
              "      <td>paid search</td>\n",
              "      <td>E</td>\n",
              "    </tr>\n",
              "    <tr>\n",
              "      <th>9</th>\n",
              "      <td>8e18cb8d-62ca-486c-aafc-df68f886033a</td>\n",
              "      <td></td>\n",
              "      <td>2019-01-01</td>\n",
              "      <td>US/Canada</td>\n",
              "      <td>English</td>\n",
              "      <td>video</td>\n",
              "      <td>A</td>\n",
              "    </tr>\n",
              "  </tbody>\n",
              "</table>\n",
              "</div>"
            ],
            "text/plain": [
              "                               visit_id  ... landing_page\n",
              "0  4b987205-5da4-403c-b7d4-b952db264794  ...            A\n",
              "1  93d005cd-2990-4432-ae98-bd11c9c28f63  ...            G\n",
              "2  0ec30176-7401-480c-8630-92da7e020a54  ...            E\n",
              "3  4374d20b-d6bc-4b76-9fc8-a07847af79f9  ...            G\n",
              "4  f64662d1-ce3f-427a-b175-55d54c123c72  ...            E\n",
              "5  eb594d0b-80ec-44fe-97a5-85afac3931a9  ...            D\n",
              "6  d1dc5275-90f9-4578-810d-73791925482e  ...            J\n",
              "7  d2bd6d7a-0f61-4323-8bbc-1e934a7368fd  ...            H\n",
              "8  83674a56-2bc3-47ed-95ee-598ee782d333  ...            E\n",
              "9  8e18cb8d-62ca-486c-aafc-df68f886033a  ...            A\n",
              "\n",
              "[10 rows x 7 columns]"
            ]
          },
          "metadata": {
            "tags": []
          },
          "execution_count": 12
        }
      ]
    },
    {
      "cell_type": "code",
      "metadata": {
        "colab": {
          "base_uri": "https://localhost:8080/"
        },
        "id": "aMX-yxCQIqfn",
        "outputId": "757464db-d12c-4f7a-9e4e-54261c043b1e"
      },
      "source": [
        "#Exploring the data for null values with Pandas\n",
        "subscriptions_df = pd.read_csv('subscriptions.csv')\n",
        "visits_df = pd.read_csv('visits.csv')\n",
        "\n",
        "print(subscriptions_df.isnull().any())\n",
        "print('\\n')\n",
        "print(visits_df.isnull().any())"
      ],
      "execution_count": 13,
      "outputs": [
        {
          "output_type": "stream",
          "text": [
            "subscription_id            False\n",
            "account_id                 False\n",
            "subscription_start_date     True\n",
            "subscription_end_date       True\n",
            "trial_start_date            True\n",
            "trial_end_date              True\n",
            "revenue                     True\n",
            "dtype: bool\n",
            "\n",
            "\n",
            "visit_id        False\n",
            "account_id       True\n",
            "day             False\n",
            "region          False\n",
            "language        False\n",
            "channel         False\n",
            "landing_page    False\n",
            "dtype: bool\n"
          ],
          "name": "stdout"
        }
      ]
    },
    {
      "cell_type": "markdown",
      "metadata": {
        "id": "2k_yfy0CaDvg"
      },
      "source": [
        "####Due to the limitation of UPDATE SET functionality in pd.read_sql_query we will Null the empty record on the fly.\n",
        "\n",
        "---\n",
        "\n"
      ]
    },
    {
      "cell_type": "markdown",
      "metadata": {
        "id": "uhk6p0D0gFiA"
      },
      "source": [
        "#Basic Question"
      ]
    },
    {
      "cell_type": "markdown",
      "metadata": {
        "id": "OtRVo993J_j1"
      },
      "source": [
        "##Question 1: How much revenue has each region generated over the past two years?"
      ]
    },
    {
      "cell_type": "code",
      "metadata": {
        "colab": {
          "base_uri": "https://localhost:8080/",
          "height": 204
        },
        "id": "6rDwlS1nKElo",
        "outputId": "d47a5096-ce26-4035-a95e-1264af799d4d"
      },
      "source": [
        "Answer_1 = pd.read_sql_query(\"\"\"SELECT region,\n",
        "       ROUND(SUM(revenue), 0) AS Revenue\n",
        "  FROM visits AS v,\n",
        "       subscriptions AS s\n",
        " WHERE v.account_id = s.account_id\n",
        " GROUP BY 1\n",
        " ORDER BY 2 DESC;\"\"\", con)\n",
        "\n",
        "Answer_1"
      ],
      "execution_count": 14,
      "outputs": [
        {
          "output_type": "execute_result",
          "data": {
            "text/html": [
              "<div>\n",
              "<style scoped>\n",
              "    .dataframe tbody tr th:only-of-type {\n",
              "        vertical-align: middle;\n",
              "    }\n",
              "\n",
              "    .dataframe tbody tr th {\n",
              "        vertical-align: top;\n",
              "    }\n",
              "\n",
              "    .dataframe thead th {\n",
              "        text-align: right;\n",
              "    }\n",
              "</style>\n",
              "<table border=\"1\" class=\"dataframe\">\n",
              "  <thead>\n",
              "    <tr style=\"text-align: right;\">\n",
              "      <th></th>\n",
              "      <th>region</th>\n",
              "      <th>Revenue</th>\n",
              "    </tr>\n",
              "  </thead>\n",
              "  <tbody>\n",
              "    <tr>\n",
              "      <th>0</th>\n",
              "      <td>Latin America</td>\n",
              "      <td>2373439.0</td>\n",
              "    </tr>\n",
              "    <tr>\n",
              "      <th>1</th>\n",
              "      <td>Asia</td>\n",
              "      <td>1977364.0</td>\n",
              "    </tr>\n",
              "    <tr>\n",
              "      <th>2</th>\n",
              "      <td>US/Canada</td>\n",
              "      <td>1583260.0</td>\n",
              "    </tr>\n",
              "    <tr>\n",
              "      <th>3</th>\n",
              "      <td>Europe, Middle East, &amp; Africa (Non-English)</td>\n",
              "      <td>1317910.0</td>\n",
              "    </tr>\n",
              "    <tr>\n",
              "      <th>4</th>\n",
              "      <td>Other English-Speaking Countries</td>\n",
              "      <td>1135564.0</td>\n",
              "    </tr>\n",
              "  </tbody>\n",
              "</table>\n",
              "</div>"
            ],
            "text/plain": [
              "                                        region    Revenue\n",
              "0                                Latin America  2373439.0\n",
              "1                                         Asia  1977364.0\n",
              "2                                    US/Canada  1583260.0\n",
              "3  Europe, Middle East, & Africa (Non-English)  1317910.0\n",
              "4             Other English-Speaking Countries  1135564.0"
            ]
          },
          "metadata": {
            "tags": []
          },
          "execution_count": 14
        }
      ]
    },
    {
      "cell_type": "markdown",
      "metadata": {
        "id": "cyknKqsxLQf3"
      },
      "source": [
        "##Question 2: Which channel has the highest revenue per visitor?"
      ]
    },
    {
      "cell_type": "code",
      "metadata": {
        "colab": {
          "base_uri": "https://localhost:8080/",
          "height": 266
        },
        "id": "ZVcUm103Kol0",
        "outputId": "f29b248b-8908-4853-ad1e-e8c7107309cb"
      },
      "source": [
        "Answer_2 = pd.read_sql_query(\"\"\"SELECT channel,\n",
        "       ROUND(SUM(revenue) / COUNT(DISTINCT visit_id), 0) AS 'Revenue_Per_Visitor($)'\n",
        "  FROM visits AS v,\n",
        "       subscriptions AS s\n",
        " WHERE v.account_id = s.account_id\n",
        " GROUP BY 1\n",
        " ORDER BY 2 DESC;\"\"\", con)\n",
        "\n",
        "Answer_2"
      ],
      "execution_count": 15,
      "outputs": [
        {
          "output_type": "execute_result",
          "data": {
            "text/html": [
              "<div>\n",
              "<style scoped>\n",
              "    .dataframe tbody tr th:only-of-type {\n",
              "        vertical-align: middle;\n",
              "    }\n",
              "\n",
              "    .dataframe tbody tr th {\n",
              "        vertical-align: top;\n",
              "    }\n",
              "\n",
              "    .dataframe thead th {\n",
              "        text-align: right;\n",
              "    }\n",
              "</style>\n",
              "<table border=\"1\" class=\"dataframe\">\n",
              "  <thead>\n",
              "    <tr style=\"text-align: right;\">\n",
              "      <th></th>\n",
              "      <th>channel</th>\n",
              "      <th>Revenue_Per_Visitor($)</th>\n",
              "    </tr>\n",
              "  </thead>\n",
              "  <tbody>\n",
              "    <tr>\n",
              "      <th>0</th>\n",
              "      <td>display</td>\n",
              "      <td>917.0</td>\n",
              "    </tr>\n",
              "    <tr>\n",
              "      <th>1</th>\n",
              "      <td>partner referral</td>\n",
              "      <td>761.0</td>\n",
              "    </tr>\n",
              "    <tr>\n",
              "      <th>2</th>\n",
              "      <td>email</td>\n",
              "      <td>686.0</td>\n",
              "    </tr>\n",
              "    <tr>\n",
              "      <th>3</th>\n",
              "      <td>organic search</td>\n",
              "      <td>579.0</td>\n",
              "    </tr>\n",
              "    <tr>\n",
              "      <th>4</th>\n",
              "      <td>video</td>\n",
              "      <td>566.0</td>\n",
              "    </tr>\n",
              "    <tr>\n",
              "      <th>5</th>\n",
              "      <td>social</td>\n",
              "      <td>519.0</td>\n",
              "    </tr>\n",
              "    <tr>\n",
              "      <th>6</th>\n",
              "      <td>paid search</td>\n",
              "      <td>500.0</td>\n",
              "    </tr>\n",
              "  </tbody>\n",
              "</table>\n",
              "</div>"
            ],
            "text/plain": [
              "            channel  Revenue_Per_Visitor($)\n",
              "0           display                   917.0\n",
              "1  partner referral                   761.0\n",
              "2             email                   686.0\n",
              "3    organic search                   579.0\n",
              "4             video                   566.0\n",
              "5            social                   519.0\n",
              "6       paid search                   500.0"
            ]
          },
          "metadata": {
            "tags": []
          },
          "execution_count": 15
        }
      ]
    },
    {
      "cell_type": "code",
      "metadata": {
        "colab": {
          "base_uri": "https://localhost:8080/"
        },
        "id": "ldNTr-A2PttF",
        "outputId": "3e4b1704-03c4-4989-bfb5-813e6721c7bf"
      },
      "source": [
        "print(f\"ANSWER: Highest revenue is generateg by '{Answer_2.iloc[0][0]}' Channel with 'Revenue_Per_Visitor' of ${Answer_2.iloc[0][1]}\")"
      ],
      "execution_count": 16,
      "outputs": [
        {
          "output_type": "stream",
          "text": [
            "ANSWER: Highest revenue is generateg by 'display' Channel with 'Revenue_Per_Visitor' of $917.0\n"
          ],
          "name": "stdout"
        }
      ]
    },
    {
      "cell_type": "markdown",
      "metadata": {
        "id": "D97a-8zKMvxq"
      },
      "source": [
        "##Question 3: Which landing page has the highest overall conversion rate (% of visitors that become subscribers)?"
      ]
    },
    {
      "cell_type": "markdown",
      "metadata": {
        "id": "DLTbeZrTNWVh"
      },
      "source": [
        "###First, let's calculate the conversion rate"
      ]
    },
    {
      "cell_type": "code",
      "metadata": {
        "colab": {
          "base_uri": "https://localhost:8080/",
          "height": 80
        },
        "id": "oROwKztWLyZe",
        "outputId": "8004b0d3-9ebb-4e7a-8320-d74ff14276c2"
      },
      "source": [
        "CR = pd.read_sql_query(\"\"\"SELECT (Subscribers * 100 / Visitor) AS 'Overall_Conversion_Rate(%)'\n",
        "  FROM (\n",
        "           SELECT COUNT(CASE WHEN revenue != '' THEN s.account_id ELSE NULL END) AS Subscribers,\n",
        "                  COUNT(DISTINCT visit_id) AS Visitor\n",
        "             FROM visits AS v\n",
        "                  LEFT JOIN\n",
        "                  subscriptions AS s ON v.account_id = s.account_id\n",
        "       );\"\"\", con)\n",
        "\n",
        "CR"
      ],
      "execution_count": 20,
      "outputs": [
        {
          "output_type": "execute_result",
          "data": {
            "text/html": [
              "<div>\n",
              "<style scoped>\n",
              "    .dataframe tbody tr th:only-of-type {\n",
              "        vertical-align: middle;\n",
              "    }\n",
              "\n",
              "    .dataframe tbody tr th {\n",
              "        vertical-align: top;\n",
              "    }\n",
              "\n",
              "    .dataframe thead th {\n",
              "        text-align: right;\n",
              "    }\n",
              "</style>\n",
              "<table border=\"1\" class=\"dataframe\">\n",
              "  <thead>\n",
              "    <tr style=\"text-align: right;\">\n",
              "      <th></th>\n",
              "      <th>Overall_Conversion_Rate(%)</th>\n",
              "    </tr>\n",
              "  </thead>\n",
              "  <tbody>\n",
              "    <tr>\n",
              "      <th>0</th>\n",
              "      <td>17</td>\n",
              "    </tr>\n",
              "  </tbody>\n",
              "</table>\n",
              "</div>"
            ],
            "text/plain": [
              "   Overall_Conversion_Rate(%)\n",
              "0                          17"
            ]
          },
          "metadata": {
            "tags": []
          },
          "execution_count": 20
        }
      ]
    },
    {
      "cell_type": "markdown",
      "metadata": {
        "id": "XH-YZ37dNcw7"
      },
      "source": [
        "###Now, calculate which landing page has highest conversion rate"
      ]
    },
    {
      "cell_type": "code",
      "metadata": {
        "colab": {
          "base_uri": "https://localhost:8080/",
          "height": 80
        },
        "id": "TdpwcQMtNP1K",
        "outputId": "9ca3ad69-e6f5-4ad1-bacd-3d30d2169f23"
      },
      "source": [
        "landingPageHighCR = pd.read_sql_query(\"\"\"SELECT *\n",
        "  FROM (\n",
        "           SELECT landing_page,\n",
        "                  (Subscribers * 100 / Visitor) AS 'Conversion_Rate(%)',\n",
        "                  ROW_NUMBER() OVER (ORDER BY Subscribers * 100 / Visitor DESC) AS Rank\n",
        "             FROM (\n",
        "                      SELECT landing_page,\n",
        "                             COUNT(CASE WHEN revenue !='' THEN s.account_id ELSE NULL END) AS Subscribers,\n",
        "                             COUNT(DISTINCT visit_id) AS visitor\n",
        "                        FROM visits AS v\n",
        "                             LEFT JOIN\n",
        "                             subscriptions AS s ON v.account_id = s.account_id\n",
        "                       GROUP BY 1\n",
        "                  )\n",
        "       )\n",
        " WHERE Rank = 1;\"\"\", con)\n",
        "\n",
        "landingPageHighCR"
      ],
      "execution_count": 21,
      "outputs": [
        {
          "output_type": "execute_result",
          "data": {
            "text/html": [
              "<div>\n",
              "<style scoped>\n",
              "    .dataframe tbody tr th:only-of-type {\n",
              "        vertical-align: middle;\n",
              "    }\n",
              "\n",
              "    .dataframe tbody tr th {\n",
              "        vertical-align: top;\n",
              "    }\n",
              "\n",
              "    .dataframe thead th {\n",
              "        text-align: right;\n",
              "    }\n",
              "</style>\n",
              "<table border=\"1\" class=\"dataframe\">\n",
              "  <thead>\n",
              "    <tr style=\"text-align: right;\">\n",
              "      <th></th>\n",
              "      <th>landing_page</th>\n",
              "      <th>Conversion_Rate(%)</th>\n",
              "      <th>Rank</th>\n",
              "    </tr>\n",
              "  </thead>\n",
              "  <tbody>\n",
              "    <tr>\n",
              "      <th>0</th>\n",
              "      <td>D</td>\n",
              "      <td>21</td>\n",
              "      <td>1</td>\n",
              "    </tr>\n",
              "  </tbody>\n",
              "</table>\n",
              "</div>"
            ],
            "text/plain": [
              "  landing_page  Conversion_Rate(%)  Rank\n",
              "0            D                  21     1"
            ]
          },
          "metadata": {
            "tags": []
          },
          "execution_count": 21
        }
      ]
    },
    {
      "cell_type": "code",
      "metadata": {
        "colab": {
          "base_uri": "https://localhost:8080/"
        },
        "id": "LYxJGPNHaxSf",
        "outputId": "71760dda-a82c-4da8-e825-8d699ac3fa0f"
      },
      "source": [
        "print(f\"ANSWER: Landing Page '{landingPageHighCR.iloc[0][0]}' has the highest conversion rate of '{landingPageHighCR.iloc[0][1]}%'\")"
      ],
      "execution_count": 22,
      "outputs": [
        {
          "output_type": "stream",
          "text": [
            "ANSWER: Landing Page 'D' has the highest conversion rate of '21%'\n"
          ],
          "name": "stdout"
        }
      ]
    },
    {
      "cell_type": "markdown",
      "metadata": {
        "id": "ENS2JorKXpBN"
      },
      "source": [
        "###Now checking if the above result of Landing Page: \"D\" with highest conversion rate stands true against Regions"
      ]
    },
    {
      "cell_type": "code",
      "metadata": {
        "colab": {
          "base_uri": "https://localhost:8080/",
          "height": 204
        },
        "id": "xapKVL1YV9AR",
        "outputId": "b0fed847-48a7-402f-b951-09fb54b25743"
      },
      "source": [
        "landingPageHighCR_region = pd.read_sql_query(\"\"\"SELECT *\n",
        "  FROM (\n",
        "           SELECT landing_page,\n",
        "                  region,\n",
        "                  (Subscribers * 100 / visitor) AS 'Conversion_Rate(%)',\n",
        "                  ROW_NUMBER() OVER (PARTITION BY region ORDER BY Subscribers * 100 / Visitor DESC) AS Rank\n",
        "             FROM (\n",
        "                      SELECT landing_page,\n",
        "                             region,\n",
        "                             COUNT(CASE WHEN revenue != '' THEN s.account_id ELSE NULL END) AS Subscribers,\n",
        "                             COUNT(DISTINCT visit_id) AS visitor\n",
        "                        FROM visits AS v\n",
        "                             LEFT JOIN\n",
        "                             subscriptions AS s ON v.account_id = s.account_id\n",
        "                       GROUP BY 1,\n",
        "                                2\n",
        "                  )\n",
        "       )\n",
        " WHERE Rank = 1\n",
        " ORDER BY 3 DESC;\"\"\", con)\n",
        "\n",
        "landingPageHighCR_region"
      ],
      "execution_count": 23,
      "outputs": [
        {
          "output_type": "execute_result",
          "data": {
            "text/html": [
              "<div>\n",
              "<style scoped>\n",
              "    .dataframe tbody tr th:only-of-type {\n",
              "        vertical-align: middle;\n",
              "    }\n",
              "\n",
              "    .dataframe tbody tr th {\n",
              "        vertical-align: top;\n",
              "    }\n",
              "\n",
              "    .dataframe thead th {\n",
              "        text-align: right;\n",
              "    }\n",
              "</style>\n",
              "<table border=\"1\" class=\"dataframe\">\n",
              "  <thead>\n",
              "    <tr style=\"text-align: right;\">\n",
              "      <th></th>\n",
              "      <th>landing_page</th>\n",
              "      <th>region</th>\n",
              "      <th>Conversion_Rate(%)</th>\n",
              "      <th>Rank</th>\n",
              "    </tr>\n",
              "  </thead>\n",
              "  <tbody>\n",
              "    <tr>\n",
              "      <th>0</th>\n",
              "      <td>D</td>\n",
              "      <td>Other English-Speaking Countries</td>\n",
              "      <td>23</td>\n",
              "      <td>1</td>\n",
              "    </tr>\n",
              "    <tr>\n",
              "      <th>1</th>\n",
              "      <td>D</td>\n",
              "      <td>Latin America</td>\n",
              "      <td>22</td>\n",
              "      <td>1</td>\n",
              "    </tr>\n",
              "    <tr>\n",
              "      <th>2</th>\n",
              "      <td>D</td>\n",
              "      <td>Europe, Middle East, &amp; Africa (Non-English)</td>\n",
              "      <td>21</td>\n",
              "      <td>1</td>\n",
              "    </tr>\n",
              "    <tr>\n",
              "      <th>3</th>\n",
              "      <td>D</td>\n",
              "      <td>Asia</td>\n",
              "      <td>20</td>\n",
              "      <td>1</td>\n",
              "    </tr>\n",
              "    <tr>\n",
              "      <th>4</th>\n",
              "      <td>D</td>\n",
              "      <td>US/Canada</td>\n",
              "      <td>19</td>\n",
              "      <td>1</td>\n",
              "    </tr>\n",
              "  </tbody>\n",
              "</table>\n",
              "</div>"
            ],
            "text/plain": [
              "  landing_page  ... Rank\n",
              "0            D  ...    1\n",
              "1            D  ...    1\n",
              "2            D  ...    1\n",
              "3            D  ...    1\n",
              "4            D  ...    1\n",
              "\n",
              "[5 rows x 4 columns]"
            ]
          },
          "metadata": {
            "tags": []
          },
          "execution_count": 23
        }
      ]
    },
    {
      "cell_type": "code",
      "metadata": {
        "colab": {
          "base_uri": "https://localhost:8080/"
        },
        "id": "wETK-0Y5RbQP",
        "outputId": "d3eed243-d0c8-4bef-9278-eb7164278312"
      },
      "source": [
        "print(f\"ANSWER: Landing Page '{landingPageHighCR.iloc[0][0]}' certainly shows the same conversion rate through all regions.\")"
      ],
      "execution_count": 24,
      "outputs": [
        {
          "output_type": "stream",
          "text": [
            "ANSWER: Landing Page 'D' certainly shows the same conversion rate through all regions.\n"
          ],
          "name": "stdout"
        }
      ]
    },
    {
      "cell_type": "markdown",
      "metadata": {
        "id": "oTboAjx-YYqy"
      },
      "source": [
        "###Now checking if the above result of Landing Page: \"D\" with highest conversion rate stands true against Languages"
      ]
    },
    {
      "cell_type": "code",
      "metadata": {
        "colab": {
          "base_uri": "https://localhost:8080/",
          "height": 204
        },
        "id": "TaUOPusVYK-T",
        "outputId": "50f12231-4cad-4edf-8727-536b374903e8"
      },
      "source": [
        "landingPageHighCR_language = pd.read_sql_query(\"\"\"SELECT *\n",
        "  FROM (\n",
        "           SELECT landing_page,\n",
        "                  language,\n",
        "                  (Subscribers * 100 / visitor) AS 'Conversion_Rate(%)',\n",
        "                  ROW_NUMBER() OVER (PARTITION BY language ORDER BY Subscribers * 100 / Visitor DESC) AS Rank\n",
        "             FROM (\n",
        "                      SELECT landing_page,\n",
        "                             language,\n",
        "                             COUNT(CASE WHEN revenue != '' THEN s.account_id ELSE NULL END) AS Subscribers,\n",
        "                             COUNT(DISTINCT visit_id) AS Visitor\n",
        "                        FROM visits AS v\n",
        "                             LEFT JOIN\n",
        "                             subscriptions AS s ON v.account_id = s.account_id\n",
        "                       GROUP BY 1,\n",
        "                                2\n",
        "                  )\n",
        "       )\n",
        " WHERE Rank = 1\n",
        " ORDER BY 3 DESC;\"\"\", con)\n",
        "\n",
        "landingPageHighCR_language"
      ],
      "execution_count": 25,
      "outputs": [
        {
          "output_type": "execute_result",
          "data": {
            "text/html": [
              "<div>\n",
              "<style scoped>\n",
              "    .dataframe tbody tr th:only-of-type {\n",
              "        vertical-align: middle;\n",
              "    }\n",
              "\n",
              "    .dataframe tbody tr th {\n",
              "        vertical-align: top;\n",
              "    }\n",
              "\n",
              "    .dataframe thead th {\n",
              "        text-align: right;\n",
              "    }\n",
              "</style>\n",
              "<table border=\"1\" class=\"dataframe\">\n",
              "  <thead>\n",
              "    <tr style=\"text-align: right;\">\n",
              "      <th></th>\n",
              "      <th>landing_page</th>\n",
              "      <th>language</th>\n",
              "      <th>Conversion_Rate(%)</th>\n",
              "      <th>Rank</th>\n",
              "    </tr>\n",
              "  </thead>\n",
              "  <tbody>\n",
              "    <tr>\n",
              "      <th>0</th>\n",
              "      <td>I</td>\n",
              "      <td>Portuguese</td>\n",
              "      <td>23</td>\n",
              "      <td>1</td>\n",
              "    </tr>\n",
              "    <tr>\n",
              "      <th>1</th>\n",
              "      <td>D</td>\n",
              "      <td>Spanish</td>\n",
              "      <td>23</td>\n",
              "      <td>1</td>\n",
              "    </tr>\n",
              "    <tr>\n",
              "      <th>2</th>\n",
              "      <td>G</td>\n",
              "      <td>Other</td>\n",
              "      <td>21</td>\n",
              "      <td>1</td>\n",
              "    </tr>\n",
              "    <tr>\n",
              "      <th>3</th>\n",
              "      <td>D</td>\n",
              "      <td>English</td>\n",
              "      <td>20</td>\n",
              "      <td>1</td>\n",
              "    </tr>\n",
              "    <tr>\n",
              "      <th>4</th>\n",
              "      <td>D</td>\n",
              "      <td>Other_Romance</td>\n",
              "      <td>20</td>\n",
              "      <td>1</td>\n",
              "    </tr>\n",
              "  </tbody>\n",
              "</table>\n",
              "</div>"
            ],
            "text/plain": [
              "  landing_page       language  Conversion_Rate(%)  Rank\n",
              "0            I     Portuguese                  23     1\n",
              "1            D        Spanish                  23     1\n",
              "2            G          Other                  21     1\n",
              "3            D        English                  20     1\n",
              "4            D  Other_Romance                  20     1"
            ]
          },
          "metadata": {
            "tags": []
          },
          "execution_count": 25
        }
      ]
    },
    {
      "cell_type": "code",
      "metadata": {
        "colab": {
          "base_uri": "https://localhost:8080/"
        },
        "id": "Oeqc6wwnSTwY",
        "outputId": "6ecdbb9b-c8ed-46ab-cd8e-52ef138e6006"
      },
      "source": [
        "print(\"ANSWER: Landing Page D still seems to have highest conversion rate for all languages.\")"
      ],
      "execution_count": 26,
      "outputs": [
        {
          "output_type": "stream",
          "text": [
            "ANSWER: Landing Page D still seems to have highest conversion rate for all languages.\n"
          ],
          "name": "stdout"
        }
      ]
    },
    {
      "cell_type": "markdown",
      "metadata": {
        "id": "rc6CWSmiZOc0"
      },
      "source": [
        "###Now checking if the above result of Landing Page: \"D\" with highest conversion rate stands true against Channels"
      ]
    },
    {
      "cell_type": "code",
      "metadata": {
        "colab": {
          "base_uri": "https://localhost:8080/",
          "height": 266
        },
        "id": "ykF9cu5yYhWb",
        "outputId": "eb262cf4-1f87-4473-90c1-c51144edc1d1"
      },
      "source": [
        "landingPageHighCR_channel = pd.read_sql_query(\"\"\"SELECT *\n",
        "  FROM (\n",
        "           SELECT landing_page,\n",
        "                  channel,\n",
        "                  (Subscribers * 100 / Visitor) AS 'Conversion_Rate(%)',\n",
        "                  ROW_NUMBER() OVER (PARTITION BY channel ORDER BY Subscribers * 100 / Visitor DESC) AS Rank\n",
        "             FROM (\n",
        "                      SELECT landing_page,\n",
        "                             channel,\n",
        "                             COUNT(CASE WHEN revenue != '' THEN s.account_id ELSE NULL END) AS Subscribers,\n",
        "                             COUNT(DISTINCT visit_id) AS Visitor\n",
        "                        FROM visits AS v\n",
        "                             LEFT JOIN\n",
        "                             subscriptions AS s ON v.account_id = s.account_id\n",
        "                       GROUP BY 1,\n",
        "                                2\n",
        "                  )\n",
        "       )\n",
        " WHERE Rank = 1\n",
        " ORDER BY 3 DESC;\"\"\", con)\n",
        "\n",
        "landingPageHighCR_channel"
      ],
      "execution_count": 27,
      "outputs": [
        {
          "output_type": "execute_result",
          "data": {
            "text/html": [
              "<div>\n",
              "<style scoped>\n",
              "    .dataframe tbody tr th:only-of-type {\n",
              "        vertical-align: middle;\n",
              "    }\n",
              "\n",
              "    .dataframe tbody tr th {\n",
              "        vertical-align: top;\n",
              "    }\n",
              "\n",
              "    .dataframe thead th {\n",
              "        text-align: right;\n",
              "    }\n",
              "</style>\n",
              "<table border=\"1\" class=\"dataframe\">\n",
              "  <thead>\n",
              "    <tr style=\"text-align: right;\">\n",
              "      <th></th>\n",
              "      <th>landing_page</th>\n",
              "      <th>channel</th>\n",
              "      <th>Conversion_Rate(%)</th>\n",
              "      <th>Rank</th>\n",
              "    </tr>\n",
              "  </thead>\n",
              "  <tbody>\n",
              "    <tr>\n",
              "      <th>0</th>\n",
              "      <td>I</td>\n",
              "      <td>email</td>\n",
              "      <td>34</td>\n",
              "      <td>1</td>\n",
              "    </tr>\n",
              "    <tr>\n",
              "      <th>1</th>\n",
              "      <td>D</td>\n",
              "      <td>display</td>\n",
              "      <td>27</td>\n",
              "      <td>1</td>\n",
              "    </tr>\n",
              "    <tr>\n",
              "      <th>2</th>\n",
              "      <td>D</td>\n",
              "      <td>video</td>\n",
              "      <td>24</td>\n",
              "      <td>1</td>\n",
              "    </tr>\n",
              "    <tr>\n",
              "      <th>3</th>\n",
              "      <td>D</td>\n",
              "      <td>partner referral</td>\n",
              "      <td>20</td>\n",
              "      <td>1</td>\n",
              "    </tr>\n",
              "    <tr>\n",
              "      <th>4</th>\n",
              "      <td>D</td>\n",
              "      <td>paid search</td>\n",
              "      <td>19</td>\n",
              "      <td>1</td>\n",
              "    </tr>\n",
              "    <tr>\n",
              "      <th>5</th>\n",
              "      <td>A</td>\n",
              "      <td>organic search</td>\n",
              "      <td>18</td>\n",
              "      <td>1</td>\n",
              "    </tr>\n",
              "    <tr>\n",
              "      <th>6</th>\n",
              "      <td>D</td>\n",
              "      <td>social</td>\n",
              "      <td>15</td>\n",
              "      <td>1</td>\n",
              "    </tr>\n",
              "  </tbody>\n",
              "</table>\n",
              "</div>"
            ],
            "text/plain": [
              "  landing_page           channel  Conversion_Rate(%)  Rank\n",
              "0            I             email                  34     1\n",
              "1            D           display                  27     1\n",
              "2            D             video                  24     1\n",
              "3            D  partner referral                  20     1\n",
              "4            D       paid search                  19     1\n",
              "5            A    organic search                  18     1\n",
              "6            D            social                  15     1"
            ]
          },
          "metadata": {
            "tags": []
          },
          "execution_count": 27
        }
      ]
    },
    {
      "cell_type": "code",
      "metadata": {
        "colab": {
          "base_uri": "https://localhost:8080/"
        },
        "id": "NygFfM7cSkqr",
        "outputId": "b070db07-9f54-4ca8-a295-ea7ac25dcc7c"
      },
      "source": [
        "print(\"ANSWER: Landing Page D still seems to have high conversion rate for all channels except email and organic search. In all it still holds true for channels too\")"
      ],
      "execution_count": 28,
      "outputs": [
        {
          "output_type": "stream",
          "text": [
            "ANSWER: Landing Page D still seems to have high conversion rate for all channels except email and organic search. In all it still holds true for channels too\n"
          ],
          "name": "stdout"
        }
      ]
    },
    {
      "cell_type": "markdown",
      "metadata": {
        "id": "ABZTDVBIiU5c"
      },
      "source": [
        "###Landing page \"D\" has a highest conversion rate genreally and for regions and languages. For channels, it still is **second highest**. We can conclude Landing Page D does see a highest conversion rate of visitors into subscribers.\n",
        "\n",
        "---\n",
        "\n"
      ]
    },
    {
      "cell_type": "markdown",
      "metadata": {
        "id": "JWcA2YXOj3us"
      },
      "source": [
        "#Strategic Questions"
      ]
    },
    {
      "cell_type": "markdown",
      "metadata": {
        "id": "kWyOwgklj8ge"
      },
      "source": [
        "##Options for increasing revenue by 20% in US/Canada region"
      ]
    },
    {
      "cell_type": "markdown",
      "metadata": {
        "id": "0qxc4iwMz7Ry"
      },
      "source": [
        "###Option 1: Increasing reveue by attracting more number of visitors.\n",
        "\n",
        "> Assumption: The subscription rate remains constant.\n",
        "\n"
      ]
    },
    {
      "cell_type": "code",
      "metadata": {
        "colab": {
          "base_uri": "https://localhost:8080/",
          "height": 80
        },
        "id": "QcF_22WovLxR",
        "outputId": "0fad4b13-8972-4d7a-ac61-18543543d35d"
      },
      "source": [
        "#Calculating the number of visitors and total revenue\n",
        "PresentState = pd.read_sql_query(\"\"\"SELECT COUNT(DISTINCT visit_id) AS Present_Visitors_Count,\n",
        "       ROUND(SUM(revenue), 0) AS 'Present_Revenue($)'\n",
        "  FROM visits AS v,\n",
        "       subscriptions AS s\n",
        " WHERE v.account_id = s.account_id AND \n",
        "       region LIKE 'US%';\n",
        "\"\"\", con)\n",
        "\n",
        "PresentState"
      ],
      "execution_count": 29,
      "outputs": [
        {
          "output_type": "execute_result",
          "data": {
            "text/html": [
              "<div>\n",
              "<style scoped>\n",
              "    .dataframe tbody tr th:only-of-type {\n",
              "        vertical-align: middle;\n",
              "    }\n",
              "\n",
              "    .dataframe tbody tr th {\n",
              "        vertical-align: top;\n",
              "    }\n",
              "\n",
              "    .dataframe thead th {\n",
              "        text-align: right;\n",
              "    }\n",
              "</style>\n",
              "<table border=\"1\" class=\"dataframe\">\n",
              "  <thead>\n",
              "    <tr style=\"text-align: right;\">\n",
              "      <th></th>\n",
              "      <th>Present_Visitors_Count</th>\n",
              "      <th>Present_Revenue($)</th>\n",
              "    </tr>\n",
              "  </thead>\n",
              "  <tbody>\n",
              "    <tr>\n",
              "      <th>0</th>\n",
              "      <td>3036</td>\n",
              "      <td>1583260.0</td>\n",
              "    </tr>\n",
              "  </tbody>\n",
              "</table>\n",
              "</div>"
            ],
            "text/plain": [
              "   Present_Visitors_Count  Present_Revenue($)\n",
              "0                    3036           1583260.0"
            ]
          },
          "metadata": {
            "tags": []
          },
          "execution_count": 29
        }
      ]
    },
    {
      "cell_type": "code",
      "metadata": {
        "colab": {
          "base_uri": "https://localhost:8080/",
          "height": 80
        },
        "id": "Yx10gFVwwx7Q",
        "outputId": "53407fac-440b-4b2b-e09c-5c322283cb71"
      },
      "source": [
        "#Calculating the number of visitors we need to increase to incease the revenue by 20%\n",
        "TargetState = pd.read_sql_query(\"\"\"SELECT ROUND(Present_Visitors * Target_Revenue / Present_Revenue) AS Target_Visitor_Count,\n",
        "       Target_Revenue AS 'Target_Revenue($)'\n",
        "  FROM (\n",
        "           SELECT COUNT(DISTINCT visit_id) AS Present_Visitors,\n",
        "                  ROUND(SUM(revenue) * 1.2, 0) AS Target_Revenue,\n",
        "                  ROUND(SUM(revenue), 0) AS Present_Revenue\n",
        "             FROM visits AS v,\n",
        "                  subscriptions AS s\n",
        "            WHERE v.account_id = s.account_id AND \n",
        "                  region LIKE 'US%'\n",
        "       );\"\"\", con)\n",
        "\n",
        "TargetState"
      ],
      "execution_count": 30,
      "outputs": [
        {
          "output_type": "execute_result",
          "data": {
            "text/html": [
              "<div>\n",
              "<style scoped>\n",
              "    .dataframe tbody tr th:only-of-type {\n",
              "        vertical-align: middle;\n",
              "    }\n",
              "\n",
              "    .dataframe tbody tr th {\n",
              "        vertical-align: top;\n",
              "    }\n",
              "\n",
              "    .dataframe thead th {\n",
              "        text-align: right;\n",
              "    }\n",
              "</style>\n",
              "<table border=\"1\" class=\"dataframe\">\n",
              "  <thead>\n",
              "    <tr style=\"text-align: right;\">\n",
              "      <th></th>\n",
              "      <th>Target_Visitor_Count</th>\n",
              "      <th>Target_Revenue($)</th>\n",
              "    </tr>\n",
              "  </thead>\n",
              "  <tbody>\n",
              "    <tr>\n",
              "      <th>0</th>\n",
              "      <td>3643.0</td>\n",
              "      <td>1899912.0</td>\n",
              "    </tr>\n",
              "  </tbody>\n",
              "</table>\n",
              "</div>"
            ],
            "text/plain": [
              "   Target_Visitor_Count  Target_Revenue($)\n",
              "0                3643.0          1899912.0"
            ]
          },
          "metadata": {
            "tags": []
          },
          "execution_count": 30
        }
      ]
    },
    {
      "cell_type": "code",
      "metadata": {
        "colab": {
          "base_uri": "https://localhost:8080/"
        },
        "id": "EvfAZWlHy9Se",
        "outputId": "c8cb6e96-3782-4545-92a6-b3f98057a215"
      },
      "source": [
        "#So, we need to attract more visitors to gain revenue by 20% with same conversion rate.\n",
        "print(f\"RECOMMENDATION: We need attract ~{TargetState['Target_Visitor_Count'][0] - PresentState['Present_Visitors_Count'][0]} more visitors to increase revenue by 20%.\")"
      ],
      "execution_count": 31,
      "outputs": [
        {
          "output_type": "stream",
          "text": [
            "RECOMMENDATION: We need attract ~607.0 more visitors to increase revenue by 20%.\n"
          ],
          "name": "stdout"
        }
      ]
    },
    {
      "cell_type": "code",
      "metadata": {
        "colab": {
          "base_uri": "https://localhost:8080/"
        },
        "id": "m11Dwu6PT4Xb",
        "outputId": "4f1ee8b9-bbc1-48f7-8dfa-fd06fd426837"
      },
      "source": [
        "print(\"RECOMMENDATION: The other option is to re-work the traffic management and push the visitors to land on Landing Page D as it clearly has better conversion rates as seen in Question 3\")"
      ],
      "execution_count": 32,
      "outputs": [
        {
          "output_type": "stream",
          "text": [
            "RECOMMENDATION: The other option is to re-work the traffic management and push the visitors to land on Landing Page D as it clearly has better conversion rates as seen in Question 3\n"
          ],
          "name": "stdout"
        }
      ]
    },
    {
      "cell_type": "markdown",
      "metadata": {
        "id": "weWBS7k41SBe"
      },
      "source": [
        "###Option 2: Increasing reveue by increasing the duration of trial period.\n",
        "\n",
        "> Assumption: The subscription rate remains constant.\n"
      ]
    },
    {
      "cell_type": "code",
      "metadata": {
        "colab": {
          "base_uri": "https://localhost:8080/",
          "height": 80
        },
        "id": "_X1UpM281fm2",
        "outputId": "fa0037fd-a8b3-4a7c-9921-319964bd90a1"
      },
      "source": [
        "#Present length of trail period\n",
        "PresentTrialState = pd.read_sql_query(\"\"\"SELECT DISTINCT CAST (JulianDay(trial_end_date) - JulianDay(trial_start_date) AS INTEGER) AS Current_Trial_Period,\n",
        "                ROUND(SUM(revenue), 0) AS 'Present_Revenue($)'\n",
        "  FROM visits AS v,\n",
        "       subscriptions AS s\n",
        " WHERE v.account_id = s.account_id AND \n",
        "       region LIKE 'US%';\n",
        "\"\"\", con)\n",
        "\n",
        "PresentTrialState"
      ],
      "execution_count": 34,
      "outputs": [
        {
          "output_type": "execute_result",
          "data": {
            "text/html": [
              "<div>\n",
              "<style scoped>\n",
              "    .dataframe tbody tr th:only-of-type {\n",
              "        vertical-align: middle;\n",
              "    }\n",
              "\n",
              "    .dataframe tbody tr th {\n",
              "        vertical-align: top;\n",
              "    }\n",
              "\n",
              "    .dataframe thead th {\n",
              "        text-align: right;\n",
              "    }\n",
              "</style>\n",
              "<table border=\"1\" class=\"dataframe\">\n",
              "  <thead>\n",
              "    <tr style=\"text-align: right;\">\n",
              "      <th></th>\n",
              "      <th>Current_Trial_Period</th>\n",
              "      <th>Present_Revenue($)</th>\n",
              "    </tr>\n",
              "  </thead>\n",
              "  <tbody>\n",
              "    <tr>\n",
              "      <th>0</th>\n",
              "      <td>7</td>\n",
              "      <td>1583260.0</td>\n",
              "    </tr>\n",
              "  </tbody>\n",
              "</table>\n",
              "</div>"
            ],
            "text/plain": [
              "   Current_Trial_Period  Present_Revenue($)\n",
              "0                     7           1583260.0"
            ]
          },
          "metadata": {
            "tags": []
          },
          "execution_count": 34
        }
      ]
    },
    {
      "cell_type": "code",
      "metadata": {
        "colab": {
          "base_uri": "https://localhost:8080/",
          "height": 80
        },
        "id": "TP4Rc_UM1fkJ",
        "outputId": "15eb8cb5-c580-4030-89d1-96b3ff4efe06"
      },
      "source": [
        "#Calculating the increased trial period length to incease the revenue by 20%\n",
        "TargetTrialState = pd.read_sql_query(\"\"\"SELECT ROUND( (Current_Trial_Period * Target_Revenue / Present_Revenue), 1) AS Target_Trial_Period,\n",
        "       Target_Revenue AS 'Target_Revenue($)'\n",
        "  FROM (\n",
        "           SELECT DISTINCT CAST (JulianDay(trial_end_date) - JulianDay(trial_start_date) AS INTEGER) AS Current_Trial_Period,\n",
        "                           ROUND(SUM(revenue), 0) AS Present_Revenue,\n",
        "                           ROUND(SUM(revenue) * 1.2, 0) AS Target_Revenue\n",
        "             FROM visits AS v,\n",
        "                  subscriptions AS s\n",
        "            WHERE v.account_id = s.account_id AND \n",
        "                  region LIKE 'US%'\n",
        "       );\"\"\", con)\n",
        "\n",
        "TargetTrialState"
      ],
      "execution_count": 35,
      "outputs": [
        {
          "output_type": "execute_result",
          "data": {
            "text/html": [
              "<div>\n",
              "<style scoped>\n",
              "    .dataframe tbody tr th:only-of-type {\n",
              "        vertical-align: middle;\n",
              "    }\n",
              "\n",
              "    .dataframe tbody tr th {\n",
              "        vertical-align: top;\n",
              "    }\n",
              "\n",
              "    .dataframe thead th {\n",
              "        text-align: right;\n",
              "    }\n",
              "</style>\n",
              "<table border=\"1\" class=\"dataframe\">\n",
              "  <thead>\n",
              "    <tr style=\"text-align: right;\">\n",
              "      <th></th>\n",
              "      <th>Target_Trial_Period</th>\n",
              "      <th>Target_Revenue($)</th>\n",
              "    </tr>\n",
              "  </thead>\n",
              "  <tbody>\n",
              "    <tr>\n",
              "      <th>0</th>\n",
              "      <td>8.4</td>\n",
              "      <td>1899912.0</td>\n",
              "    </tr>\n",
              "  </tbody>\n",
              "</table>\n",
              "</div>"
            ],
            "text/plain": [
              "   Target_Trial_Period  Target_Revenue($)\n",
              "0                  8.4          1899912.0"
            ]
          },
          "metadata": {
            "tags": []
          },
          "execution_count": 35
        }
      ]
    },
    {
      "cell_type": "code",
      "metadata": {
        "colab": {
          "base_uri": "https://localhost:8080/"
        },
        "id": "XZqyXLOo1fg5",
        "outputId": "64b3b608-f577-420f-8c5f-3beeecbf5959"
      },
      "source": [
        "#So, we need to increase the trial period duration to gain revenue by 20% with same subscription rate.\n",
        "print(f\"RECOMMENDATION: We should increase the trial duration from {PresentTrialState['Current_Trial_Period'][0]} to {TargetTrialState['Target_Trial_Period'][0]} days to increase revenue by 20% considering the conversion rate remains unchanged.\")"
      ],
      "execution_count": 36,
      "outputs": [
        {
          "output_type": "stream",
          "text": [
            "RECOMMENDATION: We should increase the trial duration from 7 to 8.4 days to increase revenue by 20% considering the conversion rate remains unchanged.\n"
          ],
          "name": "stdout"
        }
      ]
    },
    {
      "cell_type": "markdown",
      "metadata": {
        "id": "CO6URwsJCjHu"
      },
      "source": [
        "###Option 3: Increasing the conversion rate of people who try but do not subscribe."
      ]
    },
    {
      "cell_type": "markdown",
      "metadata": {
        "id": "JHwiWCnXlahw"
      },
      "source": [
        "####Fact: The revenue is generated by visitor subscribing to product(s).\n",
        "\n",
        "> We will first look at the ratio between visitors and customers. We are using term customers for the poeple who have tried the product or subscribed or both. This is same as description for the account_id in visits table.\n",
        "\n"
      ]
    },
    {
      "cell_type": "code",
      "metadata": {
        "colab": {
          "base_uri": "https://localhost:8080/",
          "height": 80
        },
        "id": "6jnDypYbiOs8",
        "outputId": "e7c61163-488c-4654-a860-b5d3838f2553"
      },
      "source": [
        "CurrentTrialSubState = pd.read_sql_query(\"\"\"SELECT COUNT(CASE WHEN v.account_id != '' THEN v.account_id ELSE NULL END) * 100 / COUNT(DISTINCT visit_id) AS Current_Customers_Percentage,\n",
        "       COUNT(CASE WHEN revenue != '' THEN s.account_id ELSE NULL END) * 100 / COUNT(DISTINCT visit_id) AS Current_Subscribers_Percentage,\n",
        "       ROUND(SUM(revenue), 0) AS 'Current_Revenue($)'\n",
        "  FROM visits AS v\n",
        "       LEFT JOIN\n",
        "       subscriptions AS s ON v.account_id = s.account_id\n",
        " WHERE region LIKE 'US%';\n",
        "\"\"\", con)\n",
        "\n",
        "CurrentTrialSubState"
      ],
      "execution_count": 37,
      "outputs": [
        {
          "output_type": "execute_result",
          "data": {
            "text/html": [
              "<div>\n",
              "<style scoped>\n",
              "    .dataframe tbody tr th:only-of-type {\n",
              "        vertical-align: middle;\n",
              "    }\n",
              "\n",
              "    .dataframe tbody tr th {\n",
              "        vertical-align: top;\n",
              "    }\n",
              "\n",
              "    .dataframe thead th {\n",
              "        text-align: right;\n",
              "    }\n",
              "</style>\n",
              "<table border=\"1\" class=\"dataframe\">\n",
              "  <thead>\n",
              "    <tr style=\"text-align: right;\">\n",
              "      <th></th>\n",
              "      <th>Current_Customers_Percentage</th>\n",
              "      <th>Current_Subscribers_Percentage</th>\n",
              "      <th>Current_Revenue($)</th>\n",
              "    </tr>\n",
              "  </thead>\n",
              "  <tbody>\n",
              "    <tr>\n",
              "      <th>0</th>\n",
              "      <td>27</td>\n",
              "      <td>15</td>\n",
              "      <td>1583260.0</td>\n",
              "    </tr>\n",
              "  </tbody>\n",
              "</table>\n",
              "</div>"
            ],
            "text/plain": [
              "   Current_Customers_Percentage  ...  Current_Revenue($)\n",
              "0                            27  ...           1583260.0\n",
              "\n",
              "[1 rows x 3 columns]"
            ]
          },
          "metadata": {
            "tags": []
          },
          "execution_count": 37
        }
      ]
    },
    {
      "cell_type": "code",
      "metadata": {
        "colab": {
          "base_uri": "https://localhost:8080/"
        },
        "id": "NdqiPDEB6E43",
        "outputId": "c17d971e-3041-42e9-affd-6773c5b796b1"
      },
      "source": [
        "#Calculating the difference between Current_Customers_Percentage and Current_Subscribers_Percentage; This will give us percent of visitors who tried the product but did not subscribe to it.\n",
        "print(f\"INSIGHT: Percent of visitors who tried the product but did not subscribe (US/Canada): {CurrentTrialSubState['Current_Customers_Percentage'][0] - CurrentTrialSubState['Current_Subscribers_Percentage'][0]} %\")"
      ],
      "execution_count": 38,
      "outputs": [
        {
          "output_type": "stream",
          "text": [
            "INSIGHT: Percent of visitors who tried the product but did not subscribe (US/Canada): 12 %\n"
          ],
          "name": "stdout"
        }
      ]
    },
    {
      "cell_type": "markdown",
      "metadata": {
        "id": "pKHG5LHaqBdM"
      },
      "source": [
        "\n",
        "> Since the trial do not generate any revenue, only 15% of visitor are actually paying for the product.\n",
        "\n",
        "\n",
        "> So, if only 15% subscribers make up for the revenue of 1583260. Let's calculate what percentage of subscribers do we need to reach our goal of $1899912 (1.20*Present Revenue)\n",
        "\n",
        "\n"
      ]
    },
    {
      "cell_type": "code",
      "metadata": {
        "colab": {
          "base_uri": "https://localhost:8080/",
          "height": 80
        },
        "id": "OAD4gr1ajnJB",
        "outputId": "71cf91a9-8b07-493a-d87a-8f9e390cdfde"
      },
      "source": [
        "TargetTrialSubState = pd.read_sql_query(\"\"\"SELECT Target_Revenue * Current_Customers_Percentage / Present_Revenue AS Target_Customers_Percentage,\n",
        "       Target_Revenue * Current_Subscribers_Percentage / Present_Revenue AS Target_Subscribers_Percentage,\n",
        "       Target_Revenue AS 'Target_Revenue($)'\n",
        "  FROM (\n",
        "           SELECT COUNT(CASE WHEN v.account_id != '' THEN v.account_id ELSE NULL END) * 100 / COUNT(DISTINCT visit_id) AS Current_Customers_Percentage,\n",
        "                  COUNT(CASE WHEN revenue != '' THEN s.account_id ELSE NULL END) * 100 / COUNT(DISTINCT visit_id) AS Current_Subscribers_Percentage,\n",
        "                  ROUND(SUM(revenue), 0) AS Present_Revenue,\n",
        "                  ROUND(SUM(revenue) * 1.2, 0) AS Target_Revenue\n",
        "             FROM visits AS v\n",
        "                  LEFT JOIN\n",
        "                  subscriptions AS s ON v.account_id = s.account_id\n",
        "            WHERE region LIKE 'US%'\n",
        "       );\"\"\", con)\n",
        "\n",
        "TargetTrialSubState"
      ],
      "execution_count": 39,
      "outputs": [
        {
          "output_type": "execute_result",
          "data": {
            "text/html": [
              "<div>\n",
              "<style scoped>\n",
              "    .dataframe tbody tr th:only-of-type {\n",
              "        vertical-align: middle;\n",
              "    }\n",
              "\n",
              "    .dataframe tbody tr th {\n",
              "        vertical-align: top;\n",
              "    }\n",
              "\n",
              "    .dataframe thead th {\n",
              "        text-align: right;\n",
              "    }\n",
              "</style>\n",
              "<table border=\"1\" class=\"dataframe\">\n",
              "  <thead>\n",
              "    <tr style=\"text-align: right;\">\n",
              "      <th></th>\n",
              "      <th>Target_Customers_Percentage</th>\n",
              "      <th>Target_Subscribers_Percentage</th>\n",
              "      <th>Target_Revenue($)</th>\n",
              "    </tr>\n",
              "  </thead>\n",
              "  <tbody>\n",
              "    <tr>\n",
              "      <th>0</th>\n",
              "      <td>32.4</td>\n",
              "      <td>18.0</td>\n",
              "      <td>1899912.0</td>\n",
              "    </tr>\n",
              "  </tbody>\n",
              "</table>\n",
              "</div>"
            ],
            "text/plain": [
              "   Target_Customers_Percentage  ...  Target_Revenue($)\n",
              "0                         32.4  ...          1899912.0\n",
              "\n",
              "[1 rows x 3 columns]"
            ]
          },
          "metadata": {
            "tags": []
          },
          "execution_count": 39
        }
      ]
    },
    {
      "cell_type": "code",
      "metadata": {
        "colab": {
          "base_uri": "https://localhost:8080/"
        },
        "id": "vwXROhk3qYYA",
        "outputId": "e3dfa8f3-4670-46c5-d708-5174eec97ff0"
      },
      "source": [
        "#So, we need to increase the trial period duration to gain revenue by 20% with same subscription rate.\n",
        "print(f\"RECOMMENDATION: We should taget to increase the Customers_Percentage (Visitor who try and/or subscribe) from {CurrentTrialSubState['Current_Customers_Percentage'][0]} to {TargetTrialSubState['Target_Customers_Percentage'][0]} and target to grow Subscribers (Visitors who subscribe) conversion rate from {CurrentTrialSubState['Current_Subscribers_Percentage'][0]}% to {TargetTrialSubState['Target_Subscribers_Percentage'][0]}% to increase revenue by 20%\")"
      ],
      "execution_count": 40,
      "outputs": [
        {
          "output_type": "stream",
          "text": [
            "RECOMMENDATION: We should taget to increase the Customers_Percentage (Visitor who try and/or subscribe) from 27 to 32.4 and target to grow Subscribers (Visitors who subscribe) conversion rate from 15% to 18.0% to increase revenue by 20%\n"
          ],
          "name": "stdout"
        }
      ]
    },
    {
      "cell_type": "markdown",
      "metadata": {
        "id": "quBfe4777Pir"
      },
      "source": [
        "###Option 4: Re-budgeting the marketing expense by evaluating **Channels** performance."
      ]
    },
    {
      "cell_type": "markdown",
      "metadata": {
        "id": "6yoboTAz-ryX"
      },
      "source": [
        "> We will look at a factor which is directly related to revenue - Channel and see how we can optimize our makreting expenditure with it.\n",
        "\n",
        "> We will try to flag the least performing channels so that we can use that expenditure towards most performing channels.\n",
        "\n"
      ]
    },
    {
      "cell_type": "code",
      "metadata": {
        "colab": {
          "base_uri": "https://localhost:8080/",
          "height": 266
        },
        "id": "cwio68LI6b5P",
        "outputId": "e59735af-d776-4c25-c6b9-d00975d17014"
      },
      "source": [
        "ChannelPerformance = pd.read_sql_query(\"\"\"WITH channel_rev AS (\n",
        "    SELECT channel,\n",
        "           ROUND(sum(revenue) ) AS Present_Revenue,\n",
        "           ROUND(SUM(revenue) * 1.2, 0) AS Target_Revenue,\n",
        "           DENSE_RANK() OVER (ORDER BY SUM(revenue) DESC) AS Rank\n",
        "      FROM visits AS v,\n",
        "           subscriptions AS s\n",
        "     WHERE v.account_id = s.account_id AND \n",
        "           region LIKE 'US%'\n",
        "     GROUP BY 1\n",
        ")\n",
        "SELECT channel,\n",
        "       Present_Revenue,\n",
        "       Target_Revenue AS 'Target_Revenue($)',\n",
        "       Rank\n",
        "  FROM channel_rev;\"\"\", con)\n",
        "\n",
        "ChannelPerformance"
      ],
      "execution_count": 41,
      "outputs": [
        {
          "output_type": "execute_result",
          "data": {
            "text/html": [
              "<div>\n",
              "<style scoped>\n",
              "    .dataframe tbody tr th:only-of-type {\n",
              "        vertical-align: middle;\n",
              "    }\n",
              "\n",
              "    .dataframe tbody tr th {\n",
              "        vertical-align: top;\n",
              "    }\n",
              "\n",
              "    .dataframe thead th {\n",
              "        text-align: right;\n",
              "    }\n",
              "</style>\n",
              "<table border=\"1\" class=\"dataframe\">\n",
              "  <thead>\n",
              "    <tr style=\"text-align: right;\">\n",
              "      <th></th>\n",
              "      <th>channel</th>\n",
              "      <th>Present_Revenue</th>\n",
              "      <th>Target_Revenue($)</th>\n",
              "      <th>Rank</th>\n",
              "    </tr>\n",
              "  </thead>\n",
              "  <tbody>\n",
              "    <tr>\n",
              "      <th>0</th>\n",
              "      <td>organic search</td>\n",
              "      <td>702308.0</td>\n",
              "      <td>842769.0</td>\n",
              "      <td>1</td>\n",
              "    </tr>\n",
              "    <tr>\n",
              "      <th>1</th>\n",
              "      <td>paid search</td>\n",
              "      <td>369825.0</td>\n",
              "      <td>443790.0</td>\n",
              "      <td>2</td>\n",
              "    </tr>\n",
              "    <tr>\n",
              "      <th>2</th>\n",
              "      <td>partner referral</td>\n",
              "      <td>258681.0</td>\n",
              "      <td>310417.0</td>\n",
              "      <td>3</td>\n",
              "    </tr>\n",
              "    <tr>\n",
              "      <th>3</th>\n",
              "      <td>display</td>\n",
              "      <td>184597.0</td>\n",
              "      <td>221516.0</td>\n",
              "      <td>4</td>\n",
              "    </tr>\n",
              "    <tr>\n",
              "      <th>4</th>\n",
              "      <td>video</td>\n",
              "      <td>65533.0</td>\n",
              "      <td>78640.0</td>\n",
              "      <td>5</td>\n",
              "    </tr>\n",
              "    <tr>\n",
              "      <th>5</th>\n",
              "      <td>social</td>\n",
              "      <td>1739.0</td>\n",
              "      <td>2087.0</td>\n",
              "      <td>6</td>\n",
              "    </tr>\n",
              "    <tr>\n",
              "      <th>6</th>\n",
              "      <td>email</td>\n",
              "      <td>578.0</td>\n",
              "      <td>694.0</td>\n",
              "      <td>7</td>\n",
              "    </tr>\n",
              "  </tbody>\n",
              "</table>\n",
              "</div>"
            ],
            "text/plain": [
              "            channel  Present_Revenue  Target_Revenue($)  Rank\n",
              "0    organic search         702308.0           842769.0     1\n",
              "1       paid search         369825.0           443790.0     2\n",
              "2  partner referral         258681.0           310417.0     3\n",
              "3           display         184597.0           221516.0     4\n",
              "4             video          65533.0            78640.0     5\n",
              "5            social           1739.0             2087.0     6\n",
              "6             email            578.0              694.0     7"
            ]
          },
          "metadata": {
            "tags": []
          },
          "execution_count": 41
        }
      ]
    },
    {
      "cell_type": "code",
      "metadata": {
        "colab": {
          "base_uri": "https://localhost:8080/"
        },
        "id": "hEkInhWAMMw7",
        "outputId": "218a5a47-8c77-4087-a9e4-882813aec1e1"
      },
      "source": [
        "print(f\"INSIGHT: '{ChannelPerformance.iloc[1][0]}' channel contributed to 2 years revenue by {(ChannelPerformance['Present_Revenue'][1]*100/ChannelPerformance['Present_Revenue'].sum()).round()}%\")\n",
        "print('\\n')\n",
        "print(f\"RECOMMENDATION: We hardly have any control over 'Organic Searches' but we definitely have leverage over 'Paid Searches'. We should re-budget to spend more on 'Paid Searches' and less on 'Email' or 'Social' channels.\")"
      ],
      "execution_count": 42,
      "outputs": [
        {
          "output_type": "stream",
          "text": [
            "INSIGHT: 'paid search' channel contributed to 2 years revenue by 23.0%\n",
            "\n",
            "\n",
            "RECOMMENDATION: We hardly have any control over 'Organic Searches' but we definitely have leverage over 'Paid Searches'. We should re-budget to spend more on 'Paid Searches' and less on 'Email' or 'Social' channels.\n"
          ],
          "name": "stdout"
        }
      ]
    },
    {
      "cell_type": "markdown",
      "metadata": {
        "id": "HvUS-jemDscN"
      },
      "source": [
        "###Option 5: Re-budgeting the marketing expense by evaluating **seasonality** impact on revenue."
      ]
    },
    {
      "cell_type": "markdown",
      "metadata": {
        "id": "uGg2QJw8ED_M"
      },
      "source": [
        "> We will look at another factor which is directly related to revenue - **Season** and see how we can optimize our makreting expenditure with it.\n",
        "\n",
        "> We will try to flag the least performing time of the year so that we can use that expenditure towards most performing months.\n"
      ]
    },
    {
      "cell_type": "markdown",
      "metadata": {
        "id": "Cxm3ez9wFTom"
      },
      "source": [
        "####The data doesn't really give convencing results when we do it monthly, let's club it into seasons."
      ]
    },
    {
      "cell_type": "code",
      "metadata": {
        "colab": {
          "base_uri": "https://localhost:8080/",
          "height": 204
        },
        "id": "SJ-O7GsCAdrw",
        "outputId": "d576727d-3183-4d0e-80ef-a3057db37211"
      },
      "source": [
        "LanguagePerformace = pd.read_sql_query(\"\"\"WITH channel_rev AS (\n",
        "    SELECT language,\n",
        "           ROUND(sum(revenue) ) AS Revenue,\n",
        "           DENSE_RANK() OVER (ORDER BY SUM(revenue) DESC) AS Rank\n",
        "      FROM visits AS v,\n",
        "           subscriptions AS s\n",
        "     WHERE v.account_id = s.account_id AND \n",
        "           region LIKE 'US%'\n",
        "     GROUP BY 1\n",
        ")\n",
        "SELECT language,\n",
        "       Revenue,\n",
        "       Rank\n",
        "  FROM channel_rev;\"\"\", con)\n",
        "LanguagePerformace"
      ],
      "execution_count": 43,
      "outputs": [
        {
          "output_type": "execute_result",
          "data": {
            "text/html": [
              "<div>\n",
              "<style scoped>\n",
              "    .dataframe tbody tr th:only-of-type {\n",
              "        vertical-align: middle;\n",
              "    }\n",
              "\n",
              "    .dataframe tbody tr th {\n",
              "        vertical-align: top;\n",
              "    }\n",
              "\n",
              "    .dataframe thead th {\n",
              "        text-align: right;\n",
              "    }\n",
              "</style>\n",
              "<table border=\"1\" class=\"dataframe\">\n",
              "  <thead>\n",
              "    <tr style=\"text-align: right;\">\n",
              "      <th></th>\n",
              "      <th>language</th>\n",
              "      <th>Revenue</th>\n",
              "      <th>Rank</th>\n",
              "    </tr>\n",
              "  </thead>\n",
              "  <tbody>\n",
              "    <tr>\n",
              "      <th>0</th>\n",
              "      <td>English</td>\n",
              "      <td>1239973.0</td>\n",
              "      <td>1</td>\n",
              "    </tr>\n",
              "    <tr>\n",
              "      <th>1</th>\n",
              "      <td>Spanish</td>\n",
              "      <td>181046.0</td>\n",
              "      <td>2</td>\n",
              "    </tr>\n",
              "    <tr>\n",
              "      <th>2</th>\n",
              "      <td>Other</td>\n",
              "      <td>65633.0</td>\n",
              "      <td>3</td>\n",
              "    </tr>\n",
              "    <tr>\n",
              "      <th>3</th>\n",
              "      <td>Portuguese</td>\n",
              "      <td>54936.0</td>\n",
              "      <td>4</td>\n",
              "    </tr>\n",
              "    <tr>\n",
              "      <th>4</th>\n",
              "      <td>Other_Romance</td>\n",
              "      <td>41673.0</td>\n",
              "      <td>5</td>\n",
              "    </tr>\n",
              "  </tbody>\n",
              "</table>\n",
              "</div>"
            ],
            "text/plain": [
              "        language    Revenue  Rank\n",
              "0        English  1239973.0     1\n",
              "1        Spanish   181046.0     2\n",
              "2          Other    65633.0     3\n",
              "3     Portuguese    54936.0     4\n",
              "4  Other_Romance    41673.0     5"
            ]
          },
          "metadata": {
            "tags": []
          },
          "execution_count": 43
        }
      ]
    },
    {
      "cell_type": "code",
      "metadata": {
        "colab": {
          "base_uri": "https://localhost:8080/"
        },
        "id": "Mnql4QSVGHF9",
        "outputId": "4c92569e-8366-43b0-a7e7-04e487baa558"
      },
      "source": [
        "print(f\"INSIGHT: The data clearly shows that '{LanguagePerformace.iloc[1][0]}' is generating the highest revenue after '{LanguagePerformace.iloc[0][0]}'.\")\n",
        "print('\\n')\n",
        "print(f\"RECOMMENDATION: We should add a feature on our landing pages which give user a choice to switch between '{LanguagePerformace.iloc[0][0]}' and '{LanguagePerformace.iloc[1][0]}'\")"
      ],
      "execution_count": 45,
      "outputs": [
        {
          "output_type": "stream",
          "text": [
            "INSIGHT: The data clearly shows that 'Spanish' is generating the highest revenue after 'English'.\n",
            "\n",
            "\n",
            "RECOMMENDATION: We should add a feature on our landing pages which give user a choice to switch between 'English' and 'Spanish'\n"
          ],
          "name": "stdout"
        }
      ]
    },
    {
      "cell_type": "markdown",
      "metadata": {
        "id": "E1OPei1chQvC"
      },
      "source": [
        "####End of the assesment\n",
        "\n",
        "---\n",
        "\n"
      ]
    }
  ]
}